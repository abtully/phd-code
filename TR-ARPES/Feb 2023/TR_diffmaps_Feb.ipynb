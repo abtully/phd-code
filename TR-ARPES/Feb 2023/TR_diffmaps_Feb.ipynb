{
 "cells": [
  {
   "cell_type": "markdown",
   "id": "1ae5304f-f9bb-485a-ac96-3e176dddfac0",
   "metadata": {
    "tags": []
   },
   "source": [
    "# Imports"
   ]
  },
  {
   "cell_type": "code",
   "execution_count": null,
   "id": "b2afd8fc-ac96-40c0-a606-b145dad8d1b9",
   "metadata": {
    "tags": []
   },
   "outputs": [],
   "source": [
    "%load_ext lab_black\n",
    "\n",
    "import h5py\n",
    "import os\n",
    "\n",
    "from dataclasses import dataclass\n",
    "from tqdm.auto import tqdm\n",
    "from scipy.signal import savgol_filter\n",
    "from scipy.interpolate import interp2d\n",
    "from functools import lru_cache\n",
    "import lmfit as lm\n",
    "\n",
    "from typing import Dict, List, Optional, Tuple\n",
    "import numpy as np\n",
    "import plotly.graph_objects as go\n",
    "import plotly.colors as pc\n",
    "import matplotlib.pyplot as plt\n",
    "\n",
    "\n",
    "import sys\n",
    "\n",
    "sys.path.append(r\"C:\\Users\\atully\\Code\\GitHub\\ARPES Code\\arpes-code-python\")\n",
    "from arpes_functions import (\n",
    "    fitting_functions,\n",
    "    analysis_functions,\n",
    "    plotting_functions,\n",
    "    HDF5_loader,\n",
    "    misc_functions,\n",
    "    filter_functions,\n",
    "    tr_functions,\n",
    "    loading_functions,\n",
    "    cnn,\n",
    ")\n",
    "\n",
    "angstrom = \"\\u212B\""
   ]
  },
  {
   "cell_type": "markdown",
   "id": "270640c8-b8c3-4316-9bea-01b631ea889d",
   "metadata": {
    "tags": []
   },
   "source": [
    "# Load Data"
   ]
  },
  {
   "cell_type": "code",
   "execution_count": null,
   "id": "89f54f62-71cf-46e9-9686-133f3f91dc7a",
   "metadata": {
    "tags": []
   },
   "outputs": [],
   "source": [
    "ddir = r\"E:\\atully\\arpes_data\\2023_February\\6eV\\TR\"\n",
    "files = [\"TR11_Ali_avg.h5\"]  # 1.7 eV center energy; -1 to 100 ps\n",
    "\n",
    "ARPES_DATA: Dict[str, tr_functions.ArpesData] = {}\n",
    "ARPES_ATTRS: Dict[str, tr_functions.ArpesAttrs] = {}\n",
    "for file in tqdm(files):\n",
    "    data, theta, phi_or_time, energy = loading_functions.load_hdf5(ddir, file)\n",
    "    ARPES_DATA[file] = tr_functions.ArpesData(\n",
    "        data=data, theta=theta, phi_or_time=phi_or_time, energy=energy\n",
    "    )\n",
    "    ARPES_ATTRS[file] = tr_functions.load_attrs_hdf5(ddir, file)\n",
    "\n",
    "ad_11 = ARPES_DATA[files[0]]"
   ]
  },
  {
   "cell_type": "code",
   "execution_count": null,
   "id": "edfb8b1a-2ffc-426f-84ab-58337e94b9cf",
   "metadata": {
    "tags": []
   },
   "outputs": [],
   "source": [
    "ddir = r\"E:\\atully\\arpes_data\\2023_February\\6eV\\TR\"\n",
    "files = [\"TR3_Ali_avg.h5\"]  # 2.15 eV center energy; -1 to 2 ps\n",
    "\n",
    "ARPES_DATA: Dict[str, tr_functions.ArpesData] = {}\n",
    "ARPES_ATTRS: Dict[str, tr_functions.ArpesAttrs] = {}\n",
    "for file in tqdm(files):\n",
    "    data, theta, phi_or_time, energy = loading_functions.load_hdf5(ddir, file)\n",
    "    ARPES_DATA[file] = tr_functions.ArpesData(\n",
    "        data=data, theta=theta, phi_or_time=phi_or_time, energy=energy\n",
    "    )\n",
    "    ARPES_ATTRS[file] = tr_functions.load_attrs_hdf5(ddir, file)\n",
    "\n",
    "ad_3 = ARPES_DATA[files[0]]"
   ]
  },
  {
   "cell_type": "code",
   "execution_count": null,
   "id": "d9a4ee6c-2a53-4cdc-9563-af840f89617b",
   "metadata": {
    "tags": []
   },
   "outputs": [],
   "source": [
    "ddir = r\"E:\\atully\\arpes_data\\2023_February\\6eV\\TR\"\n",
    "files = [\n",
    "    \"TR4_Ali_avg.h5\"\n",
    "]  # 2.6 eV center energy; -1 to 1 ps, same number of steps as first 2 ps of TR3\n",
    "\n",
    "ARPES_DATA: Dict[str, tr_functions.ArpesData] = {}\n",
    "ARPES_ATTRS: Dict[str, tr_functions.ArpesAttrs] = {}\n",
    "for file in tqdm(files):\n",
    "    data, theta, phi_or_time, energy = loading_functions.load_hdf5(ddir, file)\n",
    "    ARPES_DATA[file] = tr_functions.ArpesData(\n",
    "        data=data, theta=theta, phi_or_time=phi_or_time, energy=energy\n",
    "    )\n",
    "    ARPES_ATTRS[file] = tr_functions.load_attrs_hdf5(ddir, file)\n",
    "\n",
    "ad_4 = ARPES_DATA[files[0]]"
   ]
  },
  {
   "cell_type": "code",
   "execution_count": null,
   "id": "47191f1c-d49d-4c12-b538-cbf2b5cbc2c1",
   "metadata": {
    "tags": []
   },
   "outputs": [],
   "source": [
    "ad = ad_4\n",
    "\n",
    "for k in [\"energy\", \"theta\", \"phi_or_time\"]:\n",
    "    print(f\"{k}.shape = {getattr(ad, k).shape}\")\n",
    "print(f\"Data.shape = {ad.data.shape}\")"
   ]
  },
  {
   "cell_type": "code",
   "execution_count": null,
   "id": "92882b8b-fcd8-461a-8dcb-81b3e5b43845",
   "metadata": {
    "tags": []
   },
   "outputs": [],
   "source": [
    "print(f\"Delay range (mm): {np.min(ad.phi_or_time), np.max(ad.phi_or_time)}\")\n",
    "print(\n",
    "    f\"Energy range (eV): {np.round(np.min(ad.energy), 2), np.round(np.max(ad.energy), 2)}\"\n",
    ")\n",
    "print(f\"Theta range: {np.round(np.min(ad.theta), 1), np.round(np.max(ad.theta), 1)}\")"
   ]
  },
  {
   "cell_type": "markdown",
   "id": "948a1096-6359-4d77-ac1b-35f2ffd7f7e7",
   "metadata": {},
   "source": [
    "# Analysis"
   ]
  },
  {
   "cell_type": "markdown",
   "id": "4aab6a93-0a9c-477f-aba2-a474d164b135",
   "metadata": {
    "tags": []
   },
   "source": [
    "## Plan\n",
    "ad_11 --> 1.7 eV center energy; -1 to 100 ps; 80 steps in delay (mm), but -1 to 1 ps in 21 steps (not great time resolution...)\n",
    "\n",
    "ad_3 --> 2.15 eV center energy; -1 to 2 ps; 62 steps in delay (mm)\n",
    "\n",
    "ad_4 --> 2.6 eV center energy; -1 to 1 ps; 42 steps in delay (mm)\n",
    "\n",
    "1. cut down to same timescale (-1 to 1 ps --> 37.81 to 38.11 mm)\n",
    "2. ensure appropriate x axis"
   ]
  },
  {
   "cell_type": "code",
   "execution_count": null,
   "id": "7b368f55-e220-4ba7-8418-b96cf0566b09",
   "metadata": {
    "tags": []
   },
   "outputs": [],
   "source": [
    "## Zero Delay ##\n",
    "\n",
    "time_zero = 37.958  # from BiSe\n",
    "\n",
    "## HOMO is at 2.05 eV below EF, based on fits from this data averaged with fits from tr-ARPES results ##\n",
    "\n",
    "EF_400 = 1.91  # in kinetic energy, slit 400\n",
    "EF_700 = 1.94  # in kinetic energy, slit 700\n",
    "\n",
    "homo = -2.05\n",
    "\n",
    "homo_400 = homo + EF_400\n",
    "homo_700 = homo + EF_700"
   ]
  },
  {
   "cell_type": "code",
   "execution_count": null,
   "id": "406d0b19-a53f-4343-a909-2865d93e25b9",
   "metadata": {
    "tags": []
   },
   "outputs": [],
   "source": [
    "## Integrate over desired angular range ##\n",
    "\n",
    "slice_dim = \"x\"\n",
    "slice_val = 0\n",
    "int_range = 20  # if this value is more that the integration range, my get_2D_slice function will just integrate over the max range.\n",
    "\n",
    "xlim = None\n",
    "ylim = None\n",
    "x_bin = 1\n",
    "y_bin = 1"
   ]
  },
  {
   "cell_type": "code",
   "execution_count": null,
   "id": "b868f540-a3dd-48c7-8660-469c706acb4c",
   "metadata": {
    "tags": []
   },
   "outputs": [],
   "source": [
    "all_vals = []\n",
    "for ad in [ad_11, ad_3, ad_4]:\n",
    "    all_vals.append(\n",
    "        tr_functions.slice_datacube(\n",
    "            ad_dataclass=ad,\n",
    "            slice_dim=slice_dim,\n",
    "            slice_val=slice_val,\n",
    "            int_range=int_range,\n",
    "            xlim=xlim,\n",
    "            ylim=(\n",
    "                ad.energy[57],\n",
    "                ad.energy[1007],\n",
    "            ),  # get rid of zero padding on datasets\n",
    "            x_bin=x_bin,\n",
    "            y_bin=y_bin,\n",
    "            norm_data=False,\n",
    "            plot_data=False,\n",
    "        )\n",
    "    )\n",
    "x_11, y_11, d_11 = all_vals[0]\n",
    "x_3, y_3, d_3 = all_vals[1]\n",
    "x_4, y_4, d_4 = all_vals[2]"
   ]
  },
  {
   "cell_type": "code",
   "execution_count": null,
   "id": "7d96d452-9a47-4a49-9c08-7ba263df5afe",
   "metadata": {
    "tags": []
   },
   "outputs": [],
   "source": [
    "## Plot Data: MPL ##\n",
    "\n",
    "fig, ax = plt.subplots(1)\n",
    "\n",
    "ax.pcolormesh(x_11, y_11, d_11, shading=\"auto\", cmap=\"plasma\", vmin=0, vmax=2.5)\n",
    "ax.pcolormesh(x_3, y_3, d_3, shading=\"auto\", cmap=\"plasma\", vmin=0, vmax=0.2)\n",
    "ax.pcolormesh(x_4, y_4, d_4, shading=\"auto\", cmap=\"plasma\", vmin=0, vmax=0.1)\n",
    "\n",
    "ax.set_xlim(xmin=37.81, xmax=38.11)\n",
    "\n",
    "# plt.save_fig(r'C:\\Users\\atully\\OneDrive\\Physics.UBC\\TR-ARPES\\Data\\TR3&TR4&T11_plasma_mpl.png')"
   ]
  },
  {
   "cell_type": "code",
   "execution_count": null,
   "id": "602cd99f-6159-48fb-a260-e9028b426378",
   "metadata": {
    "tags": []
   },
   "outputs": [],
   "source": [
    "# # ## give data equivalent x axes ##\n",
    "\n",
    "# # xlim = (37.81, 38.11)\n",
    "\n",
    "# # x4, y4, d4 = analysis_functions.limit_dataset(x_4, y_4, d4_norm, xlim=xlim, ylim=None)\n",
    "# # x3, y3, d3 = analysis_functions.limit_dataset(x_3, y_3, d_3, xlim=xlim, ylim=None)\n",
    "# # x11, y11, d11 = analysis_functions.limit_dataset(\n",
    "# #     x_11, y_11, d11_norm, xlim=xlim, ylim=None\n",
    "# # )\n",
    "\n",
    "# x4, y4, d4 = x_4, y_4, d4_norm\n",
    "# x3, y3, d3 = x_3, y_3, d_3\n",
    "# x11, y11, d11 = x_11, y_11, d11_norm"
   ]
  },
  {
   "cell_type": "code",
   "execution_count": null,
   "id": "8fab91c2-bce3-4a69-9a07-31237ba4805c",
   "metadata": {
    "tags": []
   },
   "outputs": [],
   "source": [
    "# ## Linearly interpolate x11 to match resolution of TR3 and TR4 ##\n",
    "\n",
    "# x, y, d = x11, y11, d11\n",
    "\n",
    "# new_d = tr_functions.interpolate_dataset(x, y, d, xref=x3)\n",
    "\n",
    "# fig = tr_functions.default_fig()\n",
    "# fig.add_trace(go.Heatmap(x=x3, y=y, z=new_d))\n",
    "# fig.show()\n",
    "\n",
    "# print(new_d.shape)"
   ]
  },
  {
   "cell_type": "code",
   "execution_count": null,
   "id": "e472ae84-1bf5-4f68-af04-f54d2724dc48",
   "metadata": {
    "tags": []
   },
   "outputs": [],
   "source": [
    "## Stitch Data ##\n",
    "\n",
    "## TR4 & TR3\n",
    "x_s1, y_s1, data_s1 = tr_functions.stitch_and_avg(\n",
    "    x_4, y_4, d_4, x_3, y_3, d_3, no_avg=True\n",
    ")\n",
    "\n",
    "## TR4 & TR3 & TR11\n",
    "x_s2, y_s2, data_s2 = tr_functions.stitch_and_avg(\n",
    "    x_11, y_11, d_11, x_s1, y_s1, data_s1, no_avg=True\n",
    ")\n",
    "\n",
    "## TR11 & TR3\n",
    "x_s3, y_s3, data_s3 = tr_functions.stitch_and_avg(\n",
    "    x_11, y_11, d_11, x_3, y_3, d_3, no_avg=True\n",
    ")"
   ]
  },
  {
   "cell_type": "code",
   "execution_count": null,
   "id": "0b871080-1b80-400c-95b2-b13393640694",
   "metadata": {
    "tags": []
   },
   "outputs": [],
   "source": [
    "## Plot Stitched Data ##"
   ]
  },
  {
   "cell_type": "code",
   "execution_count": null,
   "id": "a4b8c337-b47b-4277-adf1-b666b87b9351",
   "metadata": {
    "tags": []
   },
   "outputs": [],
   "source": [
    "yaxis_title = \"E - E<sub>HOMO</sub> [eV]\"\n",
    "xaxis_title = \"Delay [ps]\""
   ]
  },
  {
   "cell_type": "code",
   "execution_count": null,
   "id": "ed5b0946-b775-4cbe-bedb-500305dba805",
   "metadata": {
    "tags": []
   },
   "outputs": [],
   "source": [
    "## Plot TR3 & TR4 ##\n",
    "x_plot, y_plot, z_plot = x_s1, y_s1, data_s1\n",
    "\n",
    "## toggle_time ?\n",
    "toggle_time = \"picoseconds\"\n",
    "# toggle_time = \"mm\"\n",
    "\n",
    "## Logplot?\n",
    "logplot = False\n",
    "# logplot = True\n",
    "\n",
    "if logplot:\n",
    "    z_plot = np.log(z_plot)\n",
    "    title = f\"TR3 & TR4 (logplot)\"\n",
    "else:\n",
    "    title = f\"TR3 & TR4\"\n",
    "\n",
    "## Convert mm to ps\n",
    "if toggle_time == \"picoseconds\":\n",
    "    x_plot = tr_functions.mm_to_ps(x_plot, time_zero)\n",
    "\n",
    "## Plot Data\n",
    "fig = tr_functions.thesis_fig(\n",
    "    title=title,\n",
    "    xaxis_title=xaxis_title,\n",
    "    yaxis_title=yaxis_title,\n",
    "    equiv_axes=False,\n",
    ")\n",
    "fig.add_trace(\n",
    "    go.Heatmap(x=x_plot, y=y_plot, z=z_plot, coloraxis=\"coloraxis\")\n",
    "    # np.log(data)\n",
    ")\n",
    "\n",
    "fig.update_coloraxes(cmin=0, cmax=0.75)\n",
    "fig.update_layout(width=800, height=600)\n",
    "fig.show()\n",
    "\n",
    "# fig.write_image(r\"C:\\Users\\atully\\OneDrive\\Physics.UBC\\TR-ARPES\\Data\\TR3&TR4.png\")"
   ]
  },
  {
   "cell_type": "code",
   "execution_count": null,
   "id": "b2277e14-3ac8-43df-b5c8-969301f5d8cb",
   "metadata": {
    "tags": []
   },
   "outputs": [],
   "source": [
    "## Plot TR11 & TR3 & TR4 ##\n",
    "x_plot, y_plot, z_plot = x_s2, y_s2, data_s2\n",
    "\n",
    "## toggle_time ?\n",
    "toggle_time = \"picoseconds\"\n",
    "# toggle_time = \"mm\"\n",
    "\n",
    "## Logplot?\n",
    "logplot = False\n",
    "# logplot = True\n",
    "\n",
    "if logplot:\n",
    "    z_plot = np.log(z_plot)\n",
    "    title = f\"TR11 & TR3 & TR4 (logplot)\"\n",
    "else:\n",
    "    title = f\"TR11 & TR3 & TR4\"\n",
    "\n",
    "## Convert mm to ps\n",
    "if toggle_time == \"picoseconds\":\n",
    "    x_plot = tr_functions.mm_to_ps(x_plot, time_zero)\n",
    "\n",
    "## Plot Data\n",
    "fig = tr_functions.thesis_fig(\n",
    "    title=title,\n",
    "    xaxis_title=xaxis_title,\n",
    "    yaxis_title=yaxis_title,\n",
    "    equiv_axes=False,\n",
    ")\n",
    "fig.add_trace(\n",
    "    go.Heatmap(x=x_plot, y=y_plot, z=z_plot, coloraxis=\"coloraxis\")\n",
    "    # np.log(data)\n",
    ")\n",
    "\n",
    "fig.update_coloraxes(cmin=0, cmax=None)\n",
    "fig.update_layout(width=800, height=600)\n",
    "fig.show()\n",
    "\n",
    "# fig.write_image(r\"C:\\Users\\atully\\OneDrive\\Physics.UBC\\TR-ARPES\\Data\\TR11&TR3&TR4.png\")"
   ]
  },
  {
   "cell_type": "code",
   "execution_count": null,
   "id": "fcb915d5-bf68-43d2-9ac6-ba10c8c2e67a",
   "metadata": {
    "tags": []
   },
   "outputs": [],
   "source": [
    "## Plot TR11 & TR3 ##\n",
    "x_plot, y_plot, z_plot = x_s3, y_s3, data_s3\n",
    "\n",
    "## toggle_time ?\n",
    "toggle_time = \"picoseconds\"\n",
    "# toggle_time = \"mm\"\n",
    "\n",
    "## Logplot?\n",
    "logplot = False\n",
    "# logplot = True\n",
    "\n",
    "if logplot:\n",
    "    z_plot = np.log(z_plot)\n",
    "    title = f\"TR11 & TR3 (logplot)\"\n",
    "else:\n",
    "    title = f\"TR11 & TR3\"\n",
    "\n",
    "## Convert mm to ps\n",
    "if toggle_time == \"picoseconds\":\n",
    "    x_plot = tr_functions.mm_to_ps(x_plot, time_zero)\n",
    "\n",
    "## Plot Data\n",
    "fig = tr_functions.thesis_fig(\n",
    "    title=title,\n",
    "    xaxis_title=xaxis_title,\n",
    "    yaxis_title=yaxis_title,\n",
    "    equiv_axes=False,\n",
    ")\n",
    "fig.add_trace(go.Heatmap(x=x_plot, y=y_plot, z=z_plot, coloraxis=\"coloraxis\"))\n",
    "\n",
    "fig.update_coloraxes(cmin=0, cmax=None)\n",
    "fig.update_layout(width=800, height=600)\n",
    "fig.show()\n",
    "\n",
    "# fig.write_image(r\"C:\\Users\\atully\\OneDrive\\Physics.UBC\\TR-ARPES\\Data\\TR11&TR3.png\")"
   ]
  },
  {
   "cell_type": "markdown",
   "id": "d81e26a4-c386-4eb4-b2d4-7e102cc62e80",
   "metadata": {},
   "source": [
    "# DiffMaps"
   ]
  },
  {
   "cell_type": "code",
   "execution_count": null,
   "id": "74546438-2486-43ac-8b23-a37c973b9325",
   "metadata": {
    "tags": []
   },
   "outputs": [],
   "source": [
    "# Difference Map\n",
    "title = \"Difference Map of All States\"\n",
    "\n",
    "# d_diff = d_2d - d_2d[:, 2][:, None]\n",
    "d_diff = data_s2 - np.mean(data_s2[:, 0:4], axis=1)[:, None]\n",
    "\n",
    "# Plot Data\n",
    "fig = tr_functions.thesis_fig(\n",
    "    title=f\"{title}\",\n",
    "    xaxis_title=xaxis_title,\n",
    "    yaxis_title=yaxis_title,\n",
    "    equiv_axes=False,\n",
    "    gridlines=False,\n",
    ")\n",
    "\n",
    "x_plot = tr_functions.mm_to_ps(x_s2, time_zero)\n",
    "\n",
    "fig.add_trace(go.Heatmap(x=x_plot, y=y_s2, z=d_diff, coloraxis=\"coloraxis\"))\n",
    "fig.update_coloraxes(colorscale=\"RdBu\", cmid=0, showscale=True)\n",
    "# fig.update_layout(xaxis_range=[np.min(x_plot), 5])"
   ]
  },
  {
   "cell_type": "code",
   "execution_count": null,
   "id": "8e078938-797d-4e81-9b8f-14902232447e",
   "metadata": {
    "tags": []
   },
   "outputs": [],
   "source": [
    "## Difference Map  TR11##\n",
    "title = \"Difference Map of TR11\"\n",
    "x, y, d = x_11, y_11, d_11\n",
    "\n",
    "# d_diff = d_2d - d_2d[:, 2][:, None]\n",
    "d_diff_11 = d - np.mean(d[:, 0:4], axis=1)[:, None]\n",
    "\n",
    "# Plot Data\n",
    "fig = tr_functions.thesis_fig(\n",
    "    title=f\"{title}\",\n",
    "    xaxis_title=xaxis_title,\n",
    "    yaxis_title=yaxis_title,\n",
    "    equiv_axes=False,\n",
    "    gridlines=False,\n",
    "    height=400,\n",
    ")\n",
    "\n",
    "x_plot = tr_functions.mm_to_ps(x, time_zero)\n",
    "y_plot = y\n",
    "\n",
    "fig.add_trace(go.Heatmap(x=x_plot, y=y_plot, z=d_diff_11, coloraxis=\"coloraxis\"))\n",
    "# for h in [1.63, 1.8, 1.98]:\n",
    "#     fig.add_hline(y=h, line=dict(color=\"black\", width=1, dash=\"dash\"))\n",
    "fig.update_coloraxes(colorscale=\"RdBu\", cmid=0, showscale=True)"
   ]
  },
  {
   "cell_type": "code",
   "execution_count": null,
   "id": "85e592bb-cfe0-4c8f-bb01-b014f38fedfe",
   "metadata": {
    "tags": []
   },
   "outputs": [],
   "source": [
    "def set_up_EDC_fig(xaxis, title, fig=None):\n",
    "    x_plot = xaxis\n",
    "    if np.min(x_plot) > 0:\n",
    "        x_edc = tr_functions.mm_to_ps(x_plot, time_zero)\n",
    "\n",
    "    if logplot:\n",
    "        title = f\"{title} (logplot)\"\n",
    "    else:\n",
    "        title = f\"{title}\"\n",
    "\n",
    "    # Get and plot data\n",
    "    if fig is None:\n",
    "        fig = tr_functions.thesis_fig(\n",
    "            title=title,\n",
    "            xaxis_title=\"Energy (eV)\",\n",
    "            yaxis_title=\"Intensity (arb. u)\",\n",
    "            equiv_axes=False,\n",
    "            gridlines=False,\n",
    "            height=600,\n",
    "            width=900,\n",
    "        )\n",
    "\n",
    "    return fig, x_edc"
   ]
  },
  {
   "cell_type": "code",
   "execution_count": null,
   "id": "13e82c6f-589a-434b-a130-7b99f15ab2a8",
   "metadata": {
    "tags": []
   },
   "outputs": [],
   "source": [
    "def plot_EDC(\n",
    "    x,\n",
    "    y,\n",
    "    data,\n",
    "    fig=None,\n",
    "    title=\"Title\",\n",
    "    logplot=False,\n",
    "    xlim=None,\n",
    "    ylim=None,\n",
    "    show_plot=True,\n",
    "):\n",
    "    x_plot, y_plot, z_plot = x, y, data\n",
    "\n",
    "    fig, x_edc = set_up_EDC_fig(x_plot, title)\n",
    "\n",
    "    y_1d, col = tr_functions.get_1d_x_slice(\n",
    "        x=x_edc,\n",
    "        y=y_plot,\n",
    "        data=z_plot,\n",
    "        ylims=ylim,\n",
    "        x_range=xlim,\n",
    "    )\n",
    "\n",
    "    if logplot:\n",
    "        col = np.log(col)\n",
    "\n",
    "    fig.add_trace(\n",
    "        go.Scatter(\n",
    "            x=y_1d,\n",
    "            y=col,\n",
    "            name=f\"{np.round(xlim[0], 2), np.round(xlim[1], 2)} ps\",\n",
    "            line=dict(color=colors[0]),\n",
    "        )\n",
    "    )\n",
    "\n",
    "    if show_plot:\n",
    "        fig.update_layout(showlegend=True)\n",
    "        fig.show()\n",
    "\n",
    "    return fig, y_1d, col"
   ]
  },
  {
   "cell_type": "code",
   "execution_count": null,
   "id": "5b1415c0-3b75-40b4-ba0f-7368c66e5f6e",
   "metadata": {
    "tags": []
   },
   "outputs": [],
   "source": [
    "## Define Fit using FD + 1 or 2 Gaussians (and an offset) ##\n",
    "import lmfit as lm\n",
    "\n",
    "\n",
    "## FD\n",
    "def fermi_dirac(x, center, theta, amp):\n",
    "    arg = (x - center) / (2 * theta)  # x=E, center=mu, theta = k_B * T\n",
    "    return -amp / 2 * np.tanh(arg)\n",
    "\n",
    "\n",
    "def fit_FD_and_peaks(\n",
    "    xaxis,\n",
    "    data,\n",
    "    params=None,\n",
    "    num_peaks=2,\n",
    "    peak_type=\"gaussian\",\n",
    "    center_peak1=1.65,\n",
    "    center_peak2=1.8,\n",
    "    center_FD=1.8,\n",
    "    offset_type=\"linear\",\n",
    "    plot_fit=False,\n",
    "):\n",
    "    ## Offset\n",
    "    offset_type = offset_type\n",
    "    x = xaxis\n",
    "\n",
    "    c = np.mean(data)\n",
    "    b = (data[-1] - data[0]) / (x[-1] - x[0])\n",
    "    a = 0\n",
    "\n",
    "    offset = fitting_functions.offset_model(offset_type, a, b, c)\n",
    "\n",
    "    ## Gaussians\n",
    "    if peak_type == \"gaussian\":\n",
    "        gauss1 = fitting_functions.make_gaussian(\n",
    "            num=\"A_\", amplitude=1, center=center_peak1, sigma=0.5\n",
    "        )\n",
    "        gauss2 = fitting_functions.make_gaussian(\n",
    "            num=\"B_\", amplitude=1, center=center_peak2, sigma=0.5\n",
    "        )\n",
    "\n",
    "        ## Full model\n",
    "        if num_peaks == 2:\n",
    "            full_model = lm.models.Model(fermi_dirac) + gauss1 + gauss2 + offset\n",
    "        elif num_peaks == 1:\n",
    "            full_model = lm.models.Model(fermi_dirac) + gauss1 + offset\n",
    "\n",
    "    ## Lorentzians\n",
    "    elif peak_type == \"lorentzian\":\n",
    "        lorentz1 = fitting_functions.make_lorentzian(\n",
    "            num=\"A_\", amplitude=1, center=1.65, sigma=0.5\n",
    "        )\n",
    "        lorentz2 = fitting_functions.make_lorentzian(\n",
    "            num=\"B_\", amplitude=1, center=1.8, sigma=0.5\n",
    "        )\n",
    "\n",
    "        ## Full model\n",
    "        if num_peaks == 2:\n",
    "            full_model = lm.models.Model(fermi_dirac) + lorentz1 + lorentz2 + offset\n",
    "        elif num_peaks == 1:\n",
    "            full_model = lm.models.Model(fermi_dirac) + lorentz1 + offset\n",
    "\n",
    "    else:\n",
    "        raise ValueError(f\"peak_type must be gaussian or lorentzian, not {peak_type}.\")\n",
    "\n",
    "    if params and offset_type == \"constant\":\n",
    "        params[\"b\"].value = 0\n",
    "        params[\"b\"].vary = False\n",
    "\n",
    "    elif params is None:\n",
    "        params = full_model.make_params()\n",
    "\n",
    "        params[\"center\"].value = center_FD\n",
    "        params[\"theta\"].value = k_B * (10.6)\n",
    "        # params[\"theta\"].min = 0\n",
    "        params[\"amp\"].value = 1\n",
    "\n",
    "    fit = full_model.fit(data, x=xaxis, params=params)\n",
    "    if plot_fit:\n",
    "        fit.plot()\n",
    "    return fit"
   ]
  },
  {
   "cell_type": "code",
   "execution_count": null,
   "id": "332e8ed0-1a69-4cb8-9fa3-dc5dd1ce616d",
   "metadata": {
    "tags": []
   },
   "outputs": [],
   "source": [
    "def plot_EDC_with_fit(\n",
    "    x,\n",
    "    y,\n",
    "    data,\n",
    "    fit=None,\n",
    "    fig=None,\n",
    "    title=\"Title\",\n",
    "    logplot=False,\n",
    "    xlim=None,\n",
    "    ylim=None,\n",
    "    show_plot=True,\n",
    "):\n",
    "    colors = pc.qualitative.D3\n",
    "\n",
    "    x_plot, y_plot, z_plot = x, y, data\n",
    "\n",
    "    # fig = plot_EDC(x, y, data, fig, title, logplot, xlim, ylim, show_plot=False)\n",
    "    fig, x_edc = set_up_EDC_fig(x_plot, title)\n",
    "\n",
    "    # if np.min(x_plot) > 0:\n",
    "    #     x_edc = tr_functions.mm_to_ps(x_plot, time_zero)\n",
    "\n",
    "    y_1d, col = tr_functions.get_1d_x_slice(\n",
    "        x=x_edc,\n",
    "        y=y_plot,\n",
    "        data=z_plot,\n",
    "        ylims=ylim,\n",
    "        x_range=xlim,\n",
    "    )\n",
    "\n",
    "    if fit is None:\n",
    "        fit = fit_FD_and_peaks(xaxis=y_1d, data=col)\n",
    "        print(\n",
    "            \"You didn't input a fit! Data was fit with default parameters -- CHECK THEM!\"\n",
    "        )\n",
    "\n",
    "    fig.add_trace(\n",
    "        go.Scatter(\n",
    "            x=y_1d,\n",
    "            y=col,\n",
    "            name=f\"{np.round(xlim[0], 2), np.round(xlim[1], 2)} ps\",\n",
    "            line=dict(color=colors[0]),\n",
    "        )\n",
    "    )\n",
    "\n",
    "    fig.add_trace(go.Scatter(x=y_1d, y=fit.eval(x=y_1d), name=\"fit\"))\n",
    "\n",
    "    fig.update_layout(showlegend=True)\n",
    "\n",
    "    fig.show()\n",
    "\n",
    "    print(f\"Center FD = {fit.params['center'].value:.2f} eV\")\n",
    "    print(f\"T = {fit.params['theta'].value / k_B:.2f} K\")\n",
    "    print(f\"Center A = {fit.params['iA__center'].value:.2f} eV\")\n",
    "    print(f\"FWHM A = {fit.params['iA__fwhm'].value:.3f} ps\")\n",
    "    print(f\"Center B = {fit.params['iB__center'].value:.2f} eV\")\n",
    "    print(f\"FWHM B = {fit.params['iB__fwhm'].value:.3f} ps\")\n",
    "\n",
    "    return fig, fit"
   ]
  },
  {
   "cell_type": "code",
   "execution_count": null,
   "id": "5a8007be-3456-47bd-b075-a213efd5c87b",
   "metadata": {
    "tags": []
   },
   "outputs": [],
   "source": [
    "def plot_fit_components(fit, title, show_plot=True):\n",
    "    fig = tr_functions.thesis_fig(\n",
    "        title=f\"{title}<br> Fit Components\",\n",
    "        xaxis_title=\"Energy (eV)\",\n",
    "        yaxis_title=\"Intensity (arb. u)\",\n",
    "        equiv_axes=False,\n",
    "        gridlines=False,\n",
    "        height=600,\n",
    "        width=900,\n",
    "    )\n",
    "\n",
    "    components = fit.eval_components(x=y_1d)\n",
    "\n",
    "    for model_name, model_value in components.items():\n",
    "        fig.add_trace(\n",
    "            go.Scatter(\n",
    "                x=y_1d,\n",
    "                y=model_value,\n",
    "                name=model_name,\n",
    "            )\n",
    "        )\n",
    "\n",
    "    fig.data[3].update(name=\"offset\")\n",
    "\n",
    "    if show_plot:\n",
    "        fig.show()\n",
    "    return fig"
   ]
  },
  {
   "cell_type": "code",
   "execution_count": null,
   "id": "f076952a-32a3-40f4-94bb-d2aafc5ae7e1",
   "metadata": {
    "tags": []
   },
   "outputs": [],
   "source": [
    "## Difference Map  TR3##\n",
    "title = \"Difference Map of TR3\"\n",
    "x, y, d = x_3, y_3, d_3\n",
    "\n",
    "d_diff_3 = d - np.mean(d[:, 0:4], axis=1)[:, None]\n",
    "\n",
    "# Plot Data\n",
    "fig = tr_functions.thesis_fig(\n",
    "    title=f\"{title}\",\n",
    "    xaxis_title=xaxis_title,\n",
    "    yaxis_title=yaxis_title,\n",
    "    equiv_axes=False,\n",
    "    gridlines=False,\n",
    ")\n",
    "\n",
    "x_plot = tr_functions.mm_to_ps(x, time_zero)\n",
    "y_plot = y - homo\n",
    "\n",
    "fig.add_trace(go.Heatmap(x=x_plot, y=y_plot, z=d_diff_3, coloraxis=\"coloraxis\"))\n",
    "for h in [1.99, 2.15, 2.52]:\n",
    "    fig.add_hline(y=h, line=dict(color=\"black\", width=3, dash=\"dash\"))\n",
    "fig.update_coloraxes(colorscale=\"RdBu\", cmid=0, showscale=True)"
   ]
  },
  {
   "cell_type": "code",
   "execution_count": null,
   "id": "db64ce40-5b9b-4433-a8b8-20eeb389ed92",
   "metadata": {
    "tags": []
   },
   "outputs": [],
   "source": [
    "## Difference Map  TR4##\n",
    "title = \"Difference Map of TR4\"\n",
    "x, y, d = x_4, y_4, d_4\n",
    "\n",
    "# d_diff = d_2d - d_2d[:, 2][:, None]\n",
    "d_diff_4 = d - np.mean(d[:, 0:4], axis=1)[:, None]\n",
    "\n",
    "# Plot Data\n",
    "fig = tr_functions.thesis_fig(\n",
    "    title=f\"{title}\",\n",
    "    xaxis_title=xaxis_title,\n",
    "    yaxis_title=yaxis_title,\n",
    "    equiv_axes=False,\n",
    "    gridlines=False,\n",
    ")\n",
    "\n",
    "x_plot = tr_functions.mm_to_ps(x, time_zero)\n",
    "y_plot = y - homo\n",
    "\n",
    "fig.add_trace(go.Heatmap(x=x_plot, y=y_plot, z=d_diff_4, coloraxis=\"coloraxis\"))\n",
    "for h in [2.52, 2.75, 2.96]:\n",
    "    fig.add_hline(y=h, line=dict(color=\"black\", width=3, dash=\"dash\"))\n",
    "fig.update_coloraxes(colorscale=\"RdBu\", cmid=0, showscale=True)"
   ]
  },
  {
   "cell_type": "code",
   "execution_count": null,
   "id": "71f47b36-c5e7-4a4b-9839-9f227629f306",
   "metadata": {},
   "outputs": [],
   "source": []
  }
 ],
 "metadata": {
  "kernelspec": {
   "display_name": "Python 3 (ipykernel)",
   "language": "python",
   "name": "python3"
  },
  "language_info": {
   "codemirror_mode": {
    "name": "ipython",
    "version": 3
   },
   "file_extension": ".py",
   "mimetype": "text/x-python",
   "name": "python",
   "nbconvert_exporter": "python",
   "pygments_lexer": "ipython3",
   "version": "3.8.12"
  }
 },
 "nbformat": 4,
 "nbformat_minor": 5
}
