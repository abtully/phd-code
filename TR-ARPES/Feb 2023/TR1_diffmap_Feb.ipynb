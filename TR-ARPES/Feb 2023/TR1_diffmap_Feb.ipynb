{
 "cells": [
  {
   "cell_type": "markdown",
   "id": "1ae5304f-f9bb-485a-ac96-3e176dddfac0",
   "metadata": {
    "tags": []
   },
   "source": [
    "# Imports"
   ]
  },
  {
   "cell_type": "code",
   "execution_count": null,
   "id": "b2afd8fc-ac96-40c0-a606-b145dad8d1b9",
   "metadata": {
    "tags": []
   },
   "outputs": [],
   "source": [
    "%load_ext lab_black\n",
    "\n",
    "import h5py\n",
    "import os\n",
    "\n",
    "from dataclasses import dataclass\n",
    "from tqdm.auto import tqdm\n",
    "from scipy.signal import savgol_filter\n",
    "from functools import lru_cache\n",
    "\n",
    "from typing import Dict, List, Optional, Tuple\n",
    "import numpy as np\n",
    "import plotly.graph_objects as go\n",
    "import matplotlib.pyplot as plt\n",
    "\n",
    "\n",
    "import sys\n",
    "\n",
    "sys.path.append(r\"C:\\Users\\atully\\Code\\GitHub\\ARPES Code\\arpes-code-python\")\n",
    "from arpes_functions import (\n",
    "    fitting_functions,\n",
    "    analysis_functions,\n",
    "    plotting_functions,\n",
    "    HDF5_loader,\n",
    "    misc_functions,\n",
    "    filter_functions,\n",
    "    tr_functions,\n",
    "    loading_functions,\n",
    "    cnn,\n",
    ")"
   ]
  },
  {
   "cell_type": "markdown",
   "id": "270640c8-b8c3-4316-9bea-01b631ea889d",
   "metadata": {
    "tags": []
   },
   "source": [
    "# Load Data"
   ]
  },
  {
   "cell_type": "code",
   "execution_count": null,
   "id": "edfb8b1a-2ffc-426f-84ab-58337e94b9cf",
   "metadata": {
    "tags": []
   },
   "outputs": [],
   "source": [
    "# TR1\n",
    "ddir = r\"E:\\atully\\arpes_data\\2023_February\\6eV\\TR\"\n",
    "files = []\n",
    "files = [\"TR_001_1.h5\"]\n",
    "\n",
    "ARPES_DATA: Dict[str, tr_functions.ArpesData] = {}\n",
    "ARPES_ATTRS: Dict[str, tr_functions.ArpesAttrs] = {}\n",
    "for file in tqdm(files):\n",
    "    data, theta, phi_or_time, energy = loading_functions.load_hdf5(ddir, file)\n",
    "    ARPES_DATA[file] = tr_functions.ArpesData(\n",
    "        data=data, theta=theta, phi_or_time=phi_or_time, energy=energy\n",
    "    )\n",
    "    ARPES_ATTRS[file] = tr_functions.load_attrs_hdf5(ddir, file)"
   ]
  },
  {
   "cell_type": "code",
   "execution_count": null,
   "id": "47191f1c-d49d-4c12-b538-cbf2b5cbc2c1",
   "metadata": {
    "tags": []
   },
   "outputs": [],
   "source": [
    "ad = ARPES_DATA[files[0]]\n",
    "for k in [\"energy\", \"theta\", \"phi_or_time\"]:\n",
    "    print(f\"{k}.shape = {getattr(ad, k).shape}\")\n",
    "print(f\"Data.shape = {ad.data.shape}\")"
   ]
  },
  {
   "cell_type": "code",
   "execution_count": null,
   "id": "92882b8b-fcd8-461a-8dcb-81b3e5b43845",
   "metadata": {
    "tags": []
   },
   "outputs": [],
   "source": [
    "print(f\"Delay range (mm): {np.min(ad.phi_or_time), np.max(ad.phi_or_time)}\")\n",
    "print(\n",
    "    f\"Energy range (eV): {np.round(np.min(ad.energy), 2), np.round(np.max(ad.energy), 2)}\"\n",
    ")\n",
    "print(f\"Theta range: {np.round(np.min(ad.theta), 1), np.round(np.max(ad.theta), 1)}\")"
   ]
  },
  {
   "cell_type": "markdown",
   "id": "948a1096-6359-4d77-ac1b-35f2ffd7f7e7",
   "metadata": {},
   "source": [
    "# Analysis"
   ]
  },
  {
   "cell_type": "code",
   "execution_count": null,
   "id": "10055206-e388-4b3c-bc46-c83638ecc5ad",
   "metadata": {
    "tags": []
   },
   "outputs": [],
   "source": [
    "## Zero Delay ##\n",
    "\n",
    "time_zero = 37.958  # from BiSe\n",
    "\n",
    "## HOMO is at 2.05 eV below EF, based on fits from this data averaged with fits from tr-ARPES results ##\n",
    "\n",
    "EF_400 = 1.91  # in kinetic energy, slit 400\n",
    "EF_700 = 1.94  # in kinetic energy, slit 700\n",
    "\n",
    "homo = -2.05\n",
    "\n",
    "homo_400 = homo + EF_400\n",
    "homo_700 = homo + EF_700"
   ]
  },
  {
   "cell_type": "code",
   "execution_count": null,
   "id": "25040c94-5504-414f-b97d-eb73725eed04",
   "metadata": {
    "tags": []
   },
   "outputs": [],
   "source": [
    "## Integrate over desired angular range ##\n",
    "\n",
    "slice_dim = \"x\"\n",
    "slice_val = 0\n",
    "int_range = 20  # if this value is more that the integration range, my get_2D_slice function will just integrate over the max range.\n",
    "\n",
    "xlim = None\n",
    "ylim = None\n",
    "x_bin = 1\n",
    "y_bin = 1"
   ]
  },
  {
   "cell_type": "code",
   "execution_count": null,
   "id": "b6e7db85-3b73-4886-a929-f7e3a19eaaee",
   "metadata": {
    "tags": []
   },
   "outputs": [],
   "source": [
    "yaxis_title = \"E - E<sub>HOMO</sub> [eV]\"\n",
    "xaxis_title = \"Delay [ps]\""
   ]
  },
  {
   "cell_type": "markdown",
   "id": "4aab6a93-0a9c-477f-aba2-a474d164b135",
   "metadata": {
    "tags": []
   },
   "source": [
    "## TR3 --> -1 to 2 ps; Ec = 2.15 eV"
   ]
  },
  {
   "cell_type": "code",
   "execution_count": null,
   "id": "3ee03bb1-d7b0-46bb-bda6-c32bb0367195",
   "metadata": {
    "tags": []
   },
   "outputs": [],
   "source": [
    "x_2d, y_2d, d_2d = tr_functions.slice_datacube(\n",
    "    ad_dataclass=ad,\n",
    "    slice_dim=slice_dim,\n",
    "    slice_val=slice_val,\n",
    "    int_range=int_range,\n",
    "    xlim=xlim,\n",
    "    ylim=(\n",
    "        ad.energy[57],\n",
    "        ad.energy[1007],\n",
    "    ),  # get rid of zero padding on datasets\n",
    "    x_bin=x_bin,\n",
    "    y_bin=y_bin,\n",
    "    norm_data=True,\n",
    "    plot_data=False,\n",
    ")"
   ]
  },
  {
   "cell_type": "code",
   "execution_count": null,
   "id": "31cbfd9d-53ab-4a16-9489-63d8d668a68a",
   "metadata": {
    "tags": []
   },
   "outputs": [],
   "source": [
    "## Adjust energy axis to be relative to HOMO ##\n",
    "\n",
    "homo_zero = False\n",
    "homo_zero = True\n",
    "\n",
    "if homo_zero:\n",
    "    # y4 = (\n",
    "    #     y4 - homo_400\n",
    "    # )  # homo is negative, so energy scale will increase, because we're referencing a negative number rather than zero\n",
    "    # y3 = y3 - homo_700\n",
    "    # y11 = y11 - homo_400\n",
    "    y_2d = y_2d - homo_700"
   ]
  },
  {
   "cell_type": "code",
   "execution_count": null,
   "id": "c7c785a6-5fa0-4bbf-bf25-eae463b98c2a",
   "metadata": {
    "tags": []
   },
   "outputs": [],
   "source": [
    "# Convert mm to ps\n",
    "# time_zero = 37.95\n",
    "x_2d = tr_functions.mm_to_ps(x_2d, time_zero)"
   ]
  },
  {
   "cell_type": "code",
   "execution_count": null,
   "id": "05fae464-a57d-4d0c-85a0-4fa6f9a38206",
   "metadata": {
    "tags": []
   },
   "outputs": [],
   "source": [
    "## Plot Data ##\n",
    "fig = tr_functions.thesis_fig(\n",
    "    title=\"TR1\",\n",
    "    xaxis_title=xaxis_title,\n",
    "    yaxis_title=yaxis_title,\n",
    "    equiv_axes=False,\n",
    "    height=600,\n",
    "    width=800,\n",
    ")\n",
    "\n",
    "fig.add_trace(go.Heatmap(x=x_2d, y=y_2d, z=d_2d, coloraxis=\"coloraxis\"))\n",
    "\n",
    "# fig.update_coloraxes(colorscale=\"greys\", showscale=False)\n",
    "\n",
    "fig.show(renderer=\"svg\")"
   ]
  },
  {
   "cell_type": "code",
   "execution_count": null,
   "id": "398d7d91-040b-4cd2-9766-772030310205",
   "metadata": {
    "tags": []
   },
   "outputs": [],
   "source": [
    "# Plot Data\n",
    "fig, ax = plotting_functions.plot_2D_mpl(\n",
    "    x=x_2d,\n",
    "    y=y_2d,\n",
    "    data=d_2d,\n",
    "    xlabel=\"delay\",\n",
    "    ylabel=\"energy\",\n",
    "    title=f\"TR1\",\n",
    "    # cmap=\"gray\",\n",
    "    cmap=\"Blues\",\n",
    "    vmin=0,\n",
    "    vmax=0.05,\n",
    ")"
   ]
  },
  {
   "cell_type": "code",
   "execution_count": null,
   "id": "f0afaa14-155e-4017-8dab-022778a64352",
   "metadata": {
    "tags": []
   },
   "outputs": [],
   "source": [
    "## Difference Map  TR11##\n",
    "title = \"Difference Map of TR1\"\n",
    "x, y, d = x_2d, y_2d, d_2d\n",
    "\n",
    "# d_diff = d_2d - d_2d[:, 2][:, None]\n",
    "d_diff_11 = d - np.mean(d[:, 0:4], axis=1)[:, None]\n",
    "\n",
    "# Plot Data\n",
    "fig = tr_functions.thesis_fig(\n",
    "    title=f\"{title}\",\n",
    "    xaxis_title=xaxis_title,\n",
    "    yaxis_title=yaxis_title,\n",
    "    equiv_axes=False,\n",
    "    gridlines=False,\n",
    "    height=400,\n",
    ")\n",
    "\n",
    "x_plot = x\n",
    "y_plot = y\n",
    "\n",
    "fig.add_trace(go.Heatmap(x=x_plot, y=y_plot, z=d_diff_11, coloraxis=\"coloraxis\"))\n",
    "# for h in [1.63, 1.8, 1.98]:\n",
    "#     fig.add_hline(y=h, line=dict(color=\"black\", width=1, dash=\"dash\"))\n",
    "fig.update_coloraxes(colorscale=\"RdBu\", cmid=0, cmin=-0.1, cmax=0.1, showscale=True)\n",
    "# fig.update_coloraxes(colorscale=\"balance\", reversescale=True, cmid=0, showscale=True)"
   ]
  },
  {
   "cell_type": "code",
   "execution_count": null,
   "id": "ddcbedb0-4090-4edf-8b89-f6cbc44c238f",
   "metadata": {},
   "outputs": [],
   "source": []
  }
 ],
 "metadata": {
  "kernelspec": {
   "display_name": "Python 3 (ipykernel)",
   "language": "python",
   "name": "python3"
  },
  "language_info": {
   "codemirror_mode": {
    "name": "ipython",
    "version": 3
   },
   "file_extension": ".py",
   "mimetype": "text/x-python",
   "name": "python",
   "nbconvert_exporter": "python",
   "pygments_lexer": "ipython3",
   "version": "3.8.12"
  }
 },
 "nbformat": 4,
 "nbformat_minor": 5
}
