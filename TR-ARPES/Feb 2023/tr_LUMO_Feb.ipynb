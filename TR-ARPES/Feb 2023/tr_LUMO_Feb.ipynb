{
 "cells": [
  {
   "cell_type": "markdown",
   "id": "1ae5304f-f9bb-485a-ac96-3e176dddfac0",
   "metadata": {
    "tags": []
   },
   "source": [
    "# Imports"
   ]
  },
  {
   "cell_type": "code",
   "execution_count": null,
   "id": "b2afd8fc-ac96-40c0-a606-b145dad8d1b9",
   "metadata": {
    "tags": []
   },
   "outputs": [],
   "source": [
    "%load_ext lab_black\n",
    "\n",
    "import h5py\n",
    "import os\n",
    "\n",
    "from dataclasses import dataclass\n",
    "from tqdm.auto import tqdm\n",
    "from scipy.signal import savgol_filter\n",
    "from scipy.interpolate import interp2d\n",
    "from functools import lru_cache\n",
    "import lmfit as lm\n",
    "\n",
    "from typing import Dict, List, Optional, Tuple\n",
    "import numpy as np\n",
    "import plotly.graph_objects as go\n",
    "import plotly.colors as pc\n",
    "import matplotlib.pyplot as plt\n",
    "\n",
    "\n",
    "import sys\n",
    "\n",
    "sys.path.append(r\"C:\\Users\\atully\\Code\\GitHub\\ARPES Code\\arpes-code-python\")\n",
    "from arpes_functions import (\n",
    "    fitting_functions,\n",
    "    analysis_functions,\n",
    "    plotting_functions,\n",
    "    HDF5_loader,\n",
    "    misc_functions,\n",
    "    filter_functions,\n",
    "    tr_functions,\n",
    "    loading_functions,\n",
    "    cnn,\n",
    ")\n",
    "\n",
    "colors = pc.qualitative.D3\n",
    "angstrom = \"\\u212B\"\n",
    "theta = \"\\u03B8\"\n",
    "Theta = \"\\u0398\""
   ]
  },
  {
   "cell_type": "markdown",
   "id": "270640c8-b8c3-4316-9bea-01b631ea889d",
   "metadata": {
    "tags": []
   },
   "source": [
    "# Load Data"
   ]
  },
  {
   "cell_type": "code",
   "execution_count": null,
   "id": "6f6b51b0-933d-44a6-80a6-3e44822e0359",
   "metadata": {
    "tags": []
   },
   "outputs": [],
   "source": [
    "## Zero Delay ##\n",
    "\n",
    "time_zero = 37.958  # from BiSe\n",
    "\n",
    "## HOMO is at 2.05 eV below EF, based on fits from this data averaged with fits from tr-ARPES results ##\n",
    "\n",
    "EF_400 = 1.91  # in kinetic energy, slit 400\n",
    "EF_700 = 1.94  # in kinetic energy, slit 700\n",
    "\n",
    "homo = -2.05\n",
    "\n",
    "homo_400 = homo + EF_400\n",
    "homo_700 = homo + EF_700"
   ]
  },
  {
   "cell_type": "code",
   "execution_count": null,
   "id": "3de3e8a8-720a-412f-92bb-3494a0fcf188",
   "metadata": {
    "tags": []
   },
   "outputs": [],
   "source": [
    "# Load original dataset\n",
    "fp = r\"E:\\atully\\arpes_data\\2023_February\\6eV\\TR\"\n",
    "fn = \"TR3_avg_g_kw.h5\"  # 2.15 eV center energy; -1 to 2 ps\n",
    "data, theta, phi, energy = HDF5_loader.load_hdf5(fp, fn)  # load data from hdf5\n",
    "\n",
    "## Fix time axis on k-corrected TR scan ##\n",
    "\n",
    "file = \"TR3_Ali_avg.h5\"  # 2.15 eV center energy; -1 to 2 ps\n",
    "_, _, phi_or_time, _ = loading_functions.load_hdf5(ddir, file)\n",
    "phi = phi_or_time"
   ]
  },
  {
   "cell_type": "code",
   "execution_count": null,
   "id": "0495561c-f929-4f13-9359-9ba6b9026ad5",
   "metadata": {
    "tags": []
   },
   "outputs": [],
   "source": [
    "# Load FFT, k-corrected Dataset\n",
    "\n",
    "ddir = r\"E:\\atully\\arpes_data\\2023_February\\6eV\\TR\"\n",
    "files = [\"TR3_avg_g_kw_filteredFFT_0.00int.h5\"]  # 2.15 eV center energy; -1 to 2 ps\n",
    "\n",
    "ARPES_DATA: Dict[str, tr_functions.ArpesData] = {}\n",
    "ARPES_ATTRS: Dict[str, tr_functions.ArpesAttrs] = {}\n",
    "for file in tqdm(files):\n",
    "    data, theta, phi_or_time, energy = loading_functions.load_hdf5(ddir, file)\n",
    "    ARPES_DATA[file] = tr_functions.ArpesData(\n",
    "        data=data, theta=theta, phi_or_time=phi_or_time, energy=energy\n",
    "    )\n",
    "    ARPES_ATTRS[file] = tr_functions.load_attrs_hdf5(ddir, file)\n",
    "\n",
    "ad3_fft = ARPES_DATA[files[0]]"
   ]
  },
  {
   "cell_type": "code",
   "execution_count": null,
   "id": "547a3fe3-8154-4e67-b90b-b9f5f84fa87b",
   "metadata": {
    "tags": []
   },
   "outputs": [],
   "source": [
    "# Load original dataset\n",
    "fp = r\"E:\\atully\\arpes_data\\2023_February\\6eV\\TR\"\n",
    "fn = \"TR4_avg_g_kw.h5\"  # 2.15 eV center energy; -1 to 2 ps\n",
    "data, theta, phi, energy = HDF5_loader.load_hdf5(fp, fn)  # load data from hdf5\n",
    "\n",
    "## Fix time axis on k-corrected TR scan ##\n",
    "\n",
    "file = \"TR4_Ali_avg.h5\"  # 2.15 eV center energy; -1 to 2 ps\n",
    "_, _, phi_or_time, _ = loading_functions.load_hdf5(ddir, file)\n",
    "phi = phi_or_time"
   ]
  },
  {
   "cell_type": "code",
   "execution_count": null,
   "id": "17c8ff59-73f7-41f8-8a0a-a79c6444e594",
   "metadata": {
    "tags": []
   },
   "outputs": [],
   "source": [
    "# Load FFT, k-corrected Dataset\n",
    "\n",
    "ddir = r\"E:\\atully\\arpes_data\\2023_February\\6eV\\TR\"\n",
    "files = [\n",
    "    \"TR4_avg_g_kw_filteredFFT_0.00int.h5\"\n",
    "]  # 2.6 eV center energy; -1 to 1 ps, same number of steps as first 2 ps of TR3\n",
    "\n",
    "ARPES_DATA: Dict[str, tr_functions.ArpesData] = {}\n",
    "ARPES_ATTRS: Dict[str, tr_functions.ArpesAttrs] = {}\n",
    "for file in tqdm(files):\n",
    "    data, theta, phi_or_time, energy = loading_functions.load_hdf5(ddir, file)\n",
    "    ARPES_DATA[file] = tr_functions.ArpesData(\n",
    "        data=data, theta=theta, phi_or_time=phi_or_time, energy=energy\n",
    "    )\n",
    "    ARPES_ATTRS[file] = tr_functions.load_attrs_hdf5(ddir, file)\n",
    "\n",
    "ad4_fft = ARPES_DATA[files[0]]"
   ]
  },
  {
   "cell_type": "code",
   "execution_count": null,
   "id": "cc916e9b-e6b2-4d55-9bd3-74afc93ee931",
   "metadata": {
    "tags": []
   },
   "outputs": [],
   "source": [
    "## Set Default Titles ##\n",
    "\n",
    "# yaxis_title = \"E - E<sub>HOMO_Top</sub> (eV)\"\n",
    "yaxis_title = \"E - E<sub>HOMO</sub> (eV)\"\n",
    "# xaxis_title = Theta\n",
    "xaxis_title = f\"k<sub>x</sub> ({angstrom}<sup>-1</sup>)\""
   ]
  },
  {
   "cell_type": "markdown",
   "id": "c65d70f8-3602-4209-bc88-e1974d4a7aa2",
   "metadata": {},
   "source": [
    "# Analysis"
   ]
  },
  {
   "cell_type": "code",
   "execution_count": null,
   "id": "8090e630-1c73-4d7c-bd66-9bb149ab5625",
   "metadata": {
    "tags": []
   },
   "outputs": [],
   "source": [
    "## Set up general parameters ##\n",
    "\n",
    "## This integrates from zero delay to 1 ps\n",
    "slice_center = 0.5\n",
    "integration = 1\n",
    "\n",
    "slice_val = time_zero + tr_functions.ps_to_mm(slice_center, time_zero)\n",
    "int_range = tr_functions.ps_to_mm(integration)  # TODO: make this able to be a tuple...\n",
    "\n",
    "\n",
    "# ## This integrates from -0.5 to 0.5 ps\n",
    "# slice_center = 0\n",
    "# integration = 1\n",
    "\n",
    "# slice_val = time_zero + tr_functions.ps_to_mm(slice_center, time_zero)\n",
    "# int_range = tr_functions.ps_to_mm(integration)  # TODO: make this able to be a tuple...\n",
    "\n",
    "\n",
    "## Slicing in time to look for angular dispersion\n",
    "slice_dim = \"z\"\n",
    "\n",
    "# xlim = (-12, 12)  # theta\n",
    "xlim = (-0.15, 0.15)  # k-corrected\n",
    "ylim = None\n",
    "x_bin = 2\n",
    "y_bin = 2"
   ]
  },
  {
   "cell_type": "code",
   "execution_count": null,
   "id": "ecdb9189-f7ff-449e-b09a-33c587681dfa",
   "metadata": {
    "tags": []
   },
   "outputs": [],
   "source": [
    "all_vals = []\n",
    "for ad in [ad3_fft, ad4_fft]:\n",
    "    # for ad in [ad3_fft]:\n",
    "    all_vals.append(\n",
    "        tr_functions.slice_datacube(\n",
    "            ad_dataclass=ad,\n",
    "            slice_dim=slice_dim,\n",
    "            slice_val=slice_val,\n",
    "            int_range=int_range,\n",
    "            xlim=xlim,\n",
    "            ylim=(\n",
    "                ad.energy[57],\n",
    "                ad.energy[1007],\n",
    "            ),  # get rid of zero padding on datasets\n",
    "            x_bin=x_bin,\n",
    "            y_bin=y_bin,\n",
    "            norm_data=False,\n",
    "            plot_data=False,\n",
    "        )\n",
    "    )\n",
    "x3_fft, y3_fft, d3_fft = all_vals[0]\n",
    "x4_fft, y4_fft, d4_fft = all_vals[1]"
   ]
  },
  {
   "cell_type": "code",
   "execution_count": null,
   "id": "c5e0a2d1-df9d-4c30-b817-879ca94a6523",
   "metadata": {
    "tags": []
   },
   "outputs": [],
   "source": [
    "# x3_fft, y3_fft, d3_fft = tr_functions.slice_datacube(\n",
    "#     ad_dataclass=ad3_fft,\n",
    "#     slice_dim=slice_dim,\n",
    "#     slice_val=slice_val,\n",
    "#     int_range=int_range,\n",
    "#     xlim=xlim,\n",
    "#     ylim=(\n",
    "#         ad3_fft.energy[57],\n",
    "#         ad3_fft.energy[1007],\n",
    "#     ),  # get rid of zero padding on datasets\n",
    "#     x_bin=x_bin,\n",
    "#     y_bin=y_bin,\n",
    "#     norm_data=True,\n",
    "#     plot_data=False,\n",
    "# )"
   ]
  },
  {
   "cell_type": "code",
   "execution_count": null,
   "id": "2853e590-d28e-4b4e-993c-1516c8817a77",
   "metadata": {
    "tags": []
   },
   "outputs": [],
   "source": [
    "## Adjust energy axis to be relative to HOMO ##\n",
    "\n",
    "homo_zero = False\n",
    "homo_zero = True\n",
    "\n",
    "if homo_zero:\n",
    "    y4_fft = (\n",
    "        y4_fft - homo_400\n",
    "    )  # homo is negative, so energy scale will increase, because we're referencing a negative number rather than zero\n",
    "    y3_fft = y3_fft - homo_700"
   ]
  },
  {
   "cell_type": "code",
   "execution_count": null,
   "id": "50c699c7-1876-452e-b088-a36c0ab76f70",
   "metadata": {
    "tags": []
   },
   "outputs": [],
   "source": [
    "## Optional Limit Dataset ##\n",
    "\n",
    "xlim = xlim\n",
    "# ylim = (2.05, np.max(y3_fft))  # theta\n",
    "ylim = (2.05, 2.55)  # k-corrected, TR3\n",
    "ylim = (2.0, 2.55)\n",
    "\n",
    "## TR3 ##\n",
    "x3fft, y3fft, d3fft = analysis_functions.limit_dataset(\n",
    "    x3_fft, y3_fft, d3_fft, xlim=xlim, ylim=ylim\n",
    ")\n",
    "\n",
    "d3fft = analysis_functions.norm_data(d3fft)\n",
    "\n",
    "## TR4 ##\n",
    "ylim = (2.45, np.max(y4_fft))  # k-corrected, TR4\n",
    "ylim = (2.402, np.max(y4_fft))  # k-corrected, TR4\n",
    "\n",
    "x4fft, y4fft, d4fft = analysis_functions.limit_dataset(\n",
    "    x4_fft, y4_fft, d4_fft, xlim=xlim, ylim=ylim\n",
    ")\n",
    "\n",
    "d4fft = analysis_functions.norm_data(d4fft)\n",
    "# d4fft[np.where(d4fft > 0.5)] = 0.5  # limit dataset to cmax=0.5 for denoising purposes"
   ]
  },
  {
   "cell_type": "code",
   "execution_count": null,
   "id": "afda1b29-08c3-48fc-be1f-b5fbdb407ac3",
   "metadata": {
    "tags": []
   },
   "outputs": [],
   "source": [
    "## Stitch and Average Datasets ##\n",
    "\n",
    "theta2, energy2, data2 = x3fft, y3fft, d3fft * 2  # CT1\n",
    "theta1, energy1, data1 = x4fft, y4fft, d4fft  # CT2\n",
    "\n",
    "xlim = None\n",
    "ylim = None\n",
    "\n",
    "# xlim = (-0.16, 0.16)\n",
    "# # xlim = (-0.17, 0.17)\n",
    "# ylim1 = (2.00, 2.5)  # 2.07, 2.5\n",
    "# ylim2 = (2.48, 3.15)\n",
    "\n",
    "x1, y1, dataslice1 = analysis_functions.limit_dataset(\n",
    "    theta1,\n",
    "    energy1,\n",
    "    data1,\n",
    "    xlim=xlim,\n",
    "    ylim=ylim,\n",
    ")\n",
    "\n",
    "x2, y2, dataslice2 = analysis_functions.limit_dataset(\n",
    "    theta2,\n",
    "    energy2,\n",
    "    data2,\n",
    "    xlim=xlim,\n",
    "    ylim=ylim,\n",
    ")\n",
    "\n",
    "xs, ys, ds = tr_functions.stitch_and_avg(\n",
    "    x1,\n",
    "    y1,\n",
    "    dataslice1,\n",
    "    x2,\n",
    "    y2,\n",
    "    dataslice2,\n",
    "    no_avg=True,\n",
    ")"
   ]
  },
  {
   "cell_type": "code",
   "execution_count": null,
   "id": "a0f43e1f-90da-492b-bfd6-474618e19921",
   "metadata": {
    "tags": []
   },
   "outputs": [],
   "source": [
    "## Plot data ##\n",
    "\n",
    "# ## homo top!!\n",
    "# y4_new = y4fft - 0.3\n",
    "# y3_new = y3fft - 0.3\n",
    "\n",
    "fig = tr_functions.thesis_fig(\n",
    "    # title=f\"CT<sub>1</sub> Angular Dispersion\",\n",
    "    title=f\"CT<sub>2</sub> Angular Dispersion\",\n",
    "    xaxis_title=xaxis_title,\n",
    "    yaxis_title=yaxis_title,\n",
    "    equiv_axes=False,\n",
    "    height=600,\n",
    "    # width=500,\n",
    "    width=600,\n",
    "    # dtick_y=0.2,\n",
    ")\n",
    "\n",
    "# ## TR 3\n",
    "# fig.add_trace(go.Heatmap(x=x3fft, y=y3fft, z=d3fft, coloraxis=\"coloraxis\"))\n",
    "\n",
    "# fig.update_coloraxes(cmin=0, cmax=0.13)\n",
    "# fig.update_coloraxes(cmin=0, cmax=0.9)  # when dataset is limited\n",
    "\n",
    "\n",
    "## TR 4\n",
    "# x_new, y_new, d_new = analysis_functions.limit_dataset(\n",
    "#     x4_fft,\n",
    "#     y4_fft,\n",
    "#     d4_fft,\n",
    "#     xlim=None,\n",
    "#     ylim=None,\n",
    "# )\n",
    "\n",
    "# fig.add_trace(\n",
    "#     go.Heatmap(\n",
    "#         x=x_new,\n",
    "#         y=y_new,\n",
    "#         z=d_new,\n",
    "#         coloraxis=\"coloraxis\",\n",
    "#     )\n",
    "# )\n",
    "\n",
    "# fig.update_coloraxes(cmin=0.0, cmax=0.25)\n",
    "\n",
    "fig.add_trace(\n",
    "    go.Heatmap(\n",
    "        x=x4fft,\n",
    "        # y=y4_new,\n",
    "        y=y4fft,\n",
    "        z=d4fft,\n",
    "        coloraxis=\"coloraxis\",\n",
    "    )\n",
    ")\n",
    "\n",
    "fig.update_coloraxes(cmin=0.0, cmax=0.25)\n",
    "\n",
    "\n",
    "## Stitched\n",
    "# fig.add_trace(go.Heatmap(x=xs, y=ys, z=ds, coloraxis=\"coloraxis\"))\n",
    "\n",
    "# fig.update_coloraxes(cmin=0.0, cmax=0.25)  # full energy range (CT1 + CT2)\n",
    "\n",
    "\n",
    "fig.update_coloraxes(colorscale=\"Blues\", reversescale=False)\n",
    "\n",
    "\n",
    "fig.show()"
   ]
  },
  {
   "cell_type": "code",
   "execution_count": null,
   "id": "932e2891-cc8e-4b92-9c2e-12e061dfc1cc",
   "metadata": {
    "tags": []
   },
   "outputs": [],
   "source": [
    "## Get and Plot 1D Data --> EDC ##\n",
    "# ylim = (2.1, 2.8)\n",
    "ylim = (2.0, np.max(ys))\n",
    "# ylim = (2.0, 2.44)\n",
    "# ylim = (2.45, np.max(ys))\n",
    "\n",
    "xlim = None\n",
    "ylim = None\n",
    "\n",
    "x_plot, y_plot, data_plot = xs, ys, ds\n",
    "x_plot, y_plot, data_plot = x4fft, y4fft, d4fft\n",
    "\n",
    "\n",
    "fig = tr_functions.thesis_fig(\n",
    "    title=f\"EDC\",\n",
    "    xaxis_title=\"Intensity (arb. u)\",\n",
    "    yaxis_title=yaxis_title,\n",
    "    equiv_axes=False,\n",
    "    gridlines=False,\n",
    "    # height=1000,\n",
    "    # width=600,\n",
    "    height=800,\n",
    "    width=300,\n",
    ")\n",
    "\n",
    "y_1d, col = tr_functions.get_1d_x_slice(\n",
    "    x=x_plot, y=y_plot, data=data_plot, ylims=ylim, x_range=xlim\n",
    ")\n",
    "\n",
    "# fig.add_trace(go.Scatter(x=y_1d, y=col, line=dict(color=colors[0])))\n",
    "fig.add_trace(go.Scatter(x=col, y=y_1d, line=dict(color=colors[0])))\n",
    "\n",
    "# fig.update_yaxes(range=(2.0, np.max(ys)))\n",
    "fig.update_yaxes(range=(np.min(y4fft), np.max(y4fft)))\n",
    "\n",
    "fig.show()"
   ]
  },
  {
   "cell_type": "code",
   "execution_count": null,
   "id": "81982d68-ddcb-4eb2-8d87-200eaeffb121",
   "metadata": {
    "tags": []
   },
   "outputs": [],
   "source": [
    "x = y_1d\n",
    "data = col\n",
    "\n",
    "offset_type = \"constant\"\n",
    "plot_fit = True\n",
    "\n",
    "\n",
    "## Offset\n",
    "c = np.mean(data)\n",
    "b = (data[-1] - data[0]) / (x[-1] - x[0])\n",
    "a = 0\n",
    "\n",
    "offset = fitting_functions.offset_model(offset_type, a, b, c)\n",
    "\n",
    "\n",
    "## FD\n",
    "def fermi_dirac(x, center, theta, amp):\n",
    "    arg = (x - center) / (2 * theta)  # x=E, center=mu, theta = k_B * T\n",
    "    return -amp / 2 * np.tanh(arg)\n",
    "\n",
    "\n",
    "## Gaussians\n",
    "gauss1 = fitting_functions.make_gaussian(num=\"A_\", amplitude=1, center=2.1, sigma=0.1)\n",
    "# gauss2 = fitting_functions.make_gaussian(num=\"B_\", amplitude=1, center=2.1, sigma=0.1)\n",
    "\n",
    "gauss2 = fitting_functions.make_gaussian(num=\"B_\", amplitude=1, center=2.55, sigma=0.1)\n",
    "gauss3 = fitting_functions.make_gaussian(num=\"C_\", amplitude=1, center=2.8, sigma=0.1)\n",
    "gauss4 = fitting_functions.make_gaussian(num=\"D_\", amplitude=1, center=2.9, sigma=0.1)\n",
    "\n",
    "\n",
    "## Full model\n",
    "full_model = lm.models.Model(fermi_dirac) + gauss1 + gauss2 + offset\n",
    "\n",
    "# full_model = lm.models.Model(fermi_dirac) + gauss1 + offset\n",
    "\n",
    "full_model = gauss2 + gauss3 + gauss4 + offset\n",
    "\n",
    "\n",
    "params = full_model.make_params()\n",
    "\n",
    "# params[\"center\"].value = 2.0325  # Based on TR data\n",
    "# # params[\"center\"].vary = False\n",
    "# T = 10.6  # measurement temp\n",
    "# k_B = 8.617333e-5  # eV/K\n",
    "\n",
    "# ## initial params\n",
    "# params[\"theta\"].value = k_B * (10.6)\n",
    "# params[\"theta\"].min = 0\n",
    "# params[\"amp\"].value = 1\n",
    "# params[\"amp\"].min = 0\n",
    "\n",
    "# # ## final params\n",
    "# params[\"theta\"].value = 0.02027560\n",
    "# # params[\"theta\"].vary = False\n",
    "# params[\"amp\"].value = 173.920569\n",
    "# # params[\"amp\"].vary = False\n",
    "# params[\"c\"].value = 132.268557\n",
    "# # params[\"c\"].vary = False\n",
    "\n",
    "# params[\"iA__center\"].min = 1.6\n",
    "# params[\"iA__center\"].max = 2.0\n",
    "# params[\"iB__center\"].min = 2.0\n",
    "# params[\"iB__center\"].max = 2.2\n",
    "\n",
    "# params[\"iA__center\"].min = 2.0\n",
    "# params[\"iA__center\"].max = 2.3\n",
    "params[\"iB__center\"].min = 2.3\n",
    "params[\"iB__center\"].max = 2.8\n",
    "params[\"iC__center\"].min = 2.6\n",
    "params[\"iC__center\"].max = 3.0\n",
    "params[\"iD__center\"].min = 2.8\n",
    "params[\"iD__center\"].max = 3.0\n",
    "\n",
    "# params[\"iA__fwhm\"].max = 0.5\n",
    "# params[\"iA__fwhm\"].min = 0.1\n",
    "# params[\"iB__fwhm\"].max = 0.5\n",
    "# params[\"iC__fwhm\"].max = 0.5\n",
    "# params[\"iD__fwhm\"].max = 0.5\n",
    "\n",
    "\n",
    "fit = full_model.fit(data, x=x, params=params)\n",
    "if plot_fit:\n",
    "    fit.plot()\n",
    "\n",
    "# print(f\"Center A = {fit.params['iA__center'].value:.2f} eV\")\n",
    "# print(f\"FWHM A = {fit.params['iA__fwhm'].value:.3f} eV\")\n",
    "print(f\"Center B = {fit.params['iB__center'].value:.2f} eV\")\n",
    "print(f\"FWHM B = {fit.params['iB__fwhm'].value:.3f} eV\")\n",
    "print(f\"Center C = {fit.params['iC__center'].value:.2f} eV\")\n",
    "print(f\"FWHM C = {fit.params['iC__fwhm'].value:.3f} eV\")\n",
    "print(f\"Center D = {fit.params['iD__center'].value:.2f} eV\")\n",
    "print(f\"FWHM D = {fit.params['iD__fwhm'].value:.3f} eV\")"
   ]
  },
  {
   "cell_type": "code",
   "execution_count": null,
   "id": "c08ca0b8-97bf-4aff-97c1-0c46d5603bfe",
   "metadata": {
    "tags": []
   },
   "outputs": [],
   "source": [
    "fit_ct2 = fit"
   ]
  },
  {
   "cell_type": "code",
   "execution_count": null,
   "id": "b3fb74ac-5777-4376-9f61-920a19c2ba46",
   "metadata": {
    "tags": []
   },
   "outputs": [],
   "source": [
    "# fit_ct1 = fit"
   ]
  },
  {
   "cell_type": "code",
   "execution_count": null,
   "id": "891ab935-69be-4de4-a0d7-01e25199498d",
   "metadata": {
    "tags": []
   },
   "outputs": [],
   "source": [
    "# fit.result"
   ]
  },
  {
   "cell_type": "code",
   "execution_count": null,
   "id": "b7a8e166-a575-456b-a5b9-5ef4cdc1a3f5",
   "metadata": {
    "tags": []
   },
   "outputs": [],
   "source": [
    "## Plot Data and Fit\n",
    "fig = tr_functions.thesis_fig(\n",
    "    title=f\"EDC\",\n",
    "    xaxis_title=\"Intensity (arb. u)\",\n",
    "    yaxis_title=yaxis_title,\n",
    "    equiv_axes=False,\n",
    "    gridlines=False,\n",
    "    height=800,\n",
    "    # width=315,\n",
    "    dtick_y=0.2,\n",
    "    # height=700,\n",
    "    width=500,\n",
    ")\n",
    "\n",
    "fig.add_trace(go.Scatter(x=col, y=y_1d, line=dict(color=colors[0]), name=\"data\"))\n",
    "\n",
    "# fit = fit_ct2\n",
    "# fig.add_trace(\n",
    "#     go.Scatter(\n",
    "#         x=fit.eval(x=y_1d[np.where(y_1d > 2.45)]),\n",
    "#         y=y_1d[np.where(y_1d > 2.45)],\n",
    "#         name=\"fit CT2\",\n",
    "#     )\n",
    "# )\n",
    "\n",
    "fit = fit_ct2\n",
    "fig.add_trace(\n",
    "    go.Scatter(\n",
    "        x=fit.eval(x=y_1d),\n",
    "        y=y_1d,\n",
    "        name=\"fit CT2\",\n",
    "    )\n",
    ")\n",
    "\n",
    "components = fit.eval_components(x=y_1d)\n",
    "for model_name, model_value in list(components.items())[0:3]:\n",
    "    fig.add_annotation(\n",
    "        x=fit.eval(x=fit.params[f\"{model_name}center\"].value),\n",
    "        y=fit.params[f\"{model_name}center\"].value,\n",
    "        text=f'{fit.params[f\"{model_name}center\"].value:.2f} ',\n",
    "        font=dict(size=24, color=colors[0]),\n",
    "        ax=50,\n",
    "        ay=30,\n",
    "        bgcolor=\"white\",\n",
    "        # opacity=1,\n",
    "        # bordercolor=colors[0],\n",
    "        # borderwidth=2,\n",
    "        # borderpad=4,\n",
    "    )\n",
    "\n",
    "# fit = fit_ct1\n",
    "# fig.add_trace(\n",
    "#     go.Scatter(\n",
    "#         x=fit.eval(x=y_1d[np.where(y_1d < 2.45)]),\n",
    "#         y=y_1d[np.where(y_1d < 2.45)],\n",
    "#         name=\"fit CT1\",\n",
    "#     )\n",
    "# )\n",
    "# components = fit.eval_components(x=y_1d)\n",
    "# for model_name, model_value in list(components.items())[1:2]:\n",
    "#     fig.add_annotation(\n",
    "#         x=fit.eval(x=fit.params[f\"{model_name}center\"].value),\n",
    "#         y=fit.params[f\"{model_name}center\"].value,\n",
    "#         text=f'{fit.params[f\"{model_name}center\"].value:.2f} ',\n",
    "#         font=dict(size=18, color=colors[0]),\n",
    "#         ax=50,\n",
    "#         ay=30,\n",
    "#         bgcolor=\"white\",\n",
    "#         # opacity=1,\n",
    "#         # bordercolor=colors[0],\n",
    "#         # borderwidth=2,\n",
    "#         # borderpad=4,\n",
    "#     )\n",
    "\n",
    "# fig.update_yaxes(range=(2.0, np.max(ys)))\n",
    "fig.update_yaxes(range=(np.min(y4fft), np.max(y4fft)))\n",
    "\n",
    "fig.show()"
   ]
  },
  {
   "cell_type": "markdown",
   "id": "4666bd5d-04f3-4eac-9c5d-62f27afc2184",
   "metadata": {},
   "source": [
    "# Denoised Data"
   ]
  },
  {
   "cell_type": "markdown",
   "id": "5ec1f010-955e-4c87-a000-67b5c6a29d40",
   "metadata": {},
   "source": [
    "## Generate denoised datasets"
   ]
  },
  {
   "cell_type": "code",
   "execution_count": null,
   "id": "be2530df-b4f2-4400-b243-8bbb4b422e3a",
   "metadata": {},
   "outputs": [],
   "source": [
    "# x_dn, y_dn, d_dn = x_array, y_array, data_array\n",
    "\n",
    "# ## Save to .itx (igor) file\n",
    "# cnn.save_to_igor_itx(\n",
    "#     \"test.itx\", [x_dn], [d_dn], [\"trarpes\"], [y_dn]\n",
    "# )  # takes every other y value to make dataset smaller\n",
    "# cnn.fix_itx_format(\"test.itx\")  # fix itx formatting for denoising website"
   ]
  },
  {
   "cell_type": "code",
   "execution_count": null,
   "id": "bba5c3b9-d131-4696-8eba-da1ca95621a5",
   "metadata": {
    "tags": []
   },
   "outputs": [],
   "source": [
    "# x_dn, y_dn, d_dn = x3fft, y3fft, d3fft\n",
    "# # x_dn, y_dn, d_dn = x4_fft, y4_fft, d4fft\n",
    "\n",
    "# # Save to .itx (igor) file\n",
    "# cnn.save_to_igor_itx(\n",
    "#     \"test.itx\", [x_dn], [d_dn], [\"trarpes\"], [y_dn]\n",
    "# )  # take every other y value to make dataset smaller\n",
    "# cnn.fix_itx_format(\"test.itx\")  # fix itx formatting for denoising website"
   ]
  },
  {
   "cell_type": "markdown",
   "id": "7110766a-3130-44da-8d69-7eee593f1e25",
   "metadata": {},
   "source": [
    "## Load denoised data"
   ]
  },
  {
   "cell_type": "code",
   "execution_count": null,
   "id": "5511ebbb-f1e8-47cf-8a15-25001e14c567",
   "metadata": {
    "tags": []
   },
   "outputs": [],
   "source": [
    "# Denoised Data\n",
    "# fp_dn = r\"C:\\Users\\atully\\OneDrive\\Physics.UBC\\TR-ARPES\\Data\\CNN\\CT1 HS dispersion\"\n",
    "# fn_dn = \"CT1_ang_disp_dn.itx\"\n",
    "# fn_dn = \"CT1_ang_disp_limY_dn.itx\"\n",
    "\n",
    "# fp_dn = (\n",
    "#     r\"C:\\Users\\atully\\OneDrive\\Physics.UBC\\TR-ARPES\\Data\\CNN\\CT2 HS dispersion\\0to1ps\"\n",
    "# )\n",
    "# fn_dn = \"CT2_ang_disp_dn.itx\"\n",
    "# fn_dn = \"CT2_ang_disp_cmax05_dn.itx\"\n",
    "# fp_dn = r\"C:\\Users\\atully\\OneDrive\\Physics.UBC\\TR-ARPES\\Data\\CNN\\CT2 HS dispersion\\-0.5to0.5ps\"\n",
    "# fn_dn = \"CT2_ang_disp_zerodelay_dn.itx\"\n",
    "\n",
    "\n",
    "fp_dn = r\"C:\\Users\\atully\\OneDrive\\Physics.UBC\\PhD\\2DGC\\Figs\"\n",
    "# fn_dn = \"CT1_ang_disp_dn.itx\"\n",
    "fn_dn = \"CT2_ang_disp_dn.itx\"\n",
    "\n",
    "# title = f\"CT<sub>1</sub> Angular Dispersion\"\n",
    "title = f\"CT<sub>2</sub> Angular Dispersion\"\n",
    "yaxis_title = \"E - E<sub>HOMO</sub> (eV)\"\n",
    "# xaxis_title = Theta\n",
    "xaxis_title = xaxis_title\n",
    "\n",
    "x, y, data_dn = loading_functions.load_denoised_data(fp_dn, fn_dn)"
   ]
  },
  {
   "cell_type": "markdown",
   "id": "e84d5fc2-3208-4aa1-b35e-7223e60c2ab5",
   "metadata": {},
   "source": [
    "## Analyze deniosed data"
   ]
  },
  {
   "cell_type": "code",
   "execution_count": null,
   "id": "eede9fed-a2e5-4be7-b626-3146c737dde4",
   "metadata": {
    "tags": []
   },
   "outputs": [],
   "source": [
    "## homo top!!\n",
    "# y_new = y - 0.3\n",
    "\n",
    "fig = tr_functions.thesis_fig(\n",
    "    title=title,\n",
    "    xaxis_title=xaxis_title,\n",
    "    yaxis_title=yaxis_title,\n",
    "    equiv_axes=False,\n",
    "    height=600,\n",
    "    width=600,\n",
    ")\n",
    "\n",
    "fig.add_trace(\n",
    "    go.Heatmap(x=x, y=y, z=analysis_functions.norm_data(data_dn), coloraxis=\"coloraxis\")\n",
    ")\n",
    "\n",
    "# fig.add_trace(go.Heatmap(x=x, y=y, z=data_dn, coloraxis=\"coloraxis\"))\n",
    "\n",
    "# fig.update_coloraxes(cmin=0, cmax=0.13)\n",
    "\n",
    "fig.show()"
   ]
  },
  {
   "cell_type": "code",
   "execution_count": null,
   "id": "8655b198-89f5-4cc5-a384-b0c077e458a5",
   "metadata": {},
   "outputs": [],
   "source": [
    "## Get and Plot 1D Data ##\n",
    "\n",
    "fig = tr_functions.thesis_fig(\n",
    "    # title=f\"EDC of CT<sub>1</sub>\",\n",
    "    title=f\"EDC of CT<sub>2</sub>\",\n",
    "    yaxis_title=yaxis_title,\n",
    "    xaxis_title=\"Intensity [arb. u]\",\n",
    "    equiv_axes=False,\n",
    "    gridlines=False,\n",
    "    height=600,\n",
    "    width=300,\n",
    "    dtick_y=0.1,\n",
    "    dtick_x=0.4,\n",
    ")\n",
    "\n",
    "y_1d, col = tr_functions.get_1d_x_slice(\n",
    "    x=x, y=y, data=analysis_functions.norm_data(data_dn), ylims=None, x_range=None\n",
    ")\n",
    "\n",
    "# Plot Data\n",
    "fig.add_trace(go.Scatter(x=col, y=y_1d, name=\"data\", line=dict(color=colors[0])))"
   ]
  },
  {
   "cell_type": "code",
   "execution_count": null,
   "id": "dfbb1866-7133-40cc-a996-b7bdf51564e7",
   "metadata": {},
   "outputs": [],
   "source": []
  }
 ],
 "metadata": {
  "kernelspec": {
   "display_name": "Python 3 (ipykernel)",
   "language": "python",
   "name": "python3"
  },
  "language_info": {
   "codemirror_mode": {
    "name": "ipython",
    "version": 3
   },
   "file_extension": ".py",
   "mimetype": "text/x-python",
   "name": "python",
   "nbconvert_exporter": "python",
   "pygments_lexer": "ipython3",
   "version": "3.8.12"
  }
 },
 "nbformat": 4,
 "nbformat_minor": 5
}
