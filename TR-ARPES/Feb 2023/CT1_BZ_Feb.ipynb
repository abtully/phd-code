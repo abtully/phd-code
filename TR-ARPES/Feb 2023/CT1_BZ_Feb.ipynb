{
 "cells": [
  {
   "cell_type": "markdown",
   "id": "3ff2997b-a5b5-4a32-891a-00aac86f7400",
   "metadata": {
    "tags": []
   },
   "source": [
    "## Imports"
   ]
  },
  {
   "cell_type": "code",
   "execution_count": null,
   "id": "12c13cd3-01c6-4841-963e-73cb2dc01fd8",
   "metadata": {
    "tags": []
   },
   "outputs": [],
   "source": [
    "%load_ext lab_black\n",
    "\n",
    "import h5py\n",
    "import os\n",
    "import numpy as np\n",
    "from typing import Dict, List, Optional, Tuple\n",
    "\n",
    "from dataclasses import dataclass\n",
    "from tqdm.auto import tqdm\n",
    "from scipy.signal import savgol_filter\n",
    "from scipy.interpolate import interp2d\n",
    "from functools import lru_cache\n",
    "\n",
    "\n",
    "import plotly.graph_objects as go\n",
    "import plotly.colors as pc\n",
    "import matplotlib.pyplot as plt\n",
    "\n",
    "\n",
    "import sys\n",
    "\n",
    "sys.path.append(r\"C:\\Users\\atully\\Code\\GitHub\\ARPES Code\\arpes-code-python\")\n",
    "from arpes_functions import (\n",
    "    fitting_functions,\n",
    "    analysis_functions,\n",
    "    plotting_functions,\n",
    "    HDF5_loader,\n",
    "    misc_functions,\n",
    "    filter_functions,\n",
    "    tr_functions,\n",
    "    loading_functions,\n",
    "    kw_data_loader,\n",
    "    cnn,\n",
    "    polygons,\n",
    ")"
   ]
  },
  {
   "cell_type": "markdown",
   "id": "8420489a-0cd7-40e6-8a3a-bc81638b6e8c",
   "metadata": {
    "tags": []
   },
   "source": [
    "# Load Data"
   ]
  },
  {
   "cell_type": "code",
   "execution_count": null,
   "id": "053d107a-cfd3-4eb4-8720-fb503a3ae6b7",
   "metadata": {
    "tags": []
   },
   "outputs": [],
   "source": [
    "## Load averaged, K corrected data ##\n",
    "\n",
    "ddir = r\"E:\\atully\\arpes_data\\2023_February\\6eV\\FS\"\n",
    "files = [\"FS1_FS3_Ali_avg_gkw.h5\"]\n",
    "\n",
    "# This works, but makes dataclass with theta and phi_or_time instead of kx and ky\n",
    "ARPES_DATA: Dict[str, tr_functions.ArpesData] = {}\n",
    "ARPES_ATTRS: Dict[str, tr_functions.ArpesAttrs] = {}\n",
    "for file in tqdm(files):\n",
    "    data, kx, ky, energy = loading_functions.load_hdf5(ddir, file)\n",
    "    ARPES_DATA[file] = tr_functions.ArpesData(\n",
    "        data=data, theta=kx, phi_or_time=ky, energy=energy\n",
    "    )\n",
    "    ARPES_ATTRS[file] = tr_functions.load_attrs_hdf5(ddir, file)"
   ]
  },
  {
   "cell_type": "code",
   "execution_count": null,
   "id": "cdfe33f7-14a7-4080-bbd2-d0f502feb9a0",
   "metadata": {
    "tags": []
   },
   "outputs": [],
   "source": [
    "ad_right = ARPES_DATA[files[0]]\n",
    "for k in [\"energy\", \"theta\", \"phi_or_time\"]:\n",
    "    print(f\"{k}.shape = {getattr(ad_right, k).shape}\")\n",
    "print(f\"Data.shape = {ad_right.data.shape}\")"
   ]
  },
  {
   "cell_type": "code",
   "execution_count": null,
   "id": "39b61e1b-2208-4168-86c2-59629e008731",
   "metadata": {
    "tags": []
   },
   "outputs": [],
   "source": [
    "## Load K corrected data ##\n",
    "\n",
    "ddir = r\"E:\\atully\\arpes_data\\2023_February\\6eV\\FS\"\n",
    "files = [\"FS8_avg_gkw.h5\"]\n",
    "\n",
    "# This works, but makes dataclass with theta and phi_or_time instead of kx and ky\n",
    "ARPES_DATA: Dict[str, tr_functions.ArpesData] = {}\n",
    "ARPES_ATTRS: Dict[str, tr_functions.ArpesAttrs] = {}\n",
    "for file in tqdm(files):\n",
    "    data, kx, ky, energy = loading_functions.load_hdf5(ddir, file)\n",
    "    ARPES_DATA[file] = tr_functions.ArpesData(\n",
    "        data=data, theta=kx, phi_or_time=ky, energy=energy\n",
    "    )\n",
    "    ARPES_ATTRS[file] = tr_functions.load_attrs_hdf5(ddir, file)"
   ]
  },
  {
   "cell_type": "code",
   "execution_count": null,
   "id": "a0912c90-b050-482f-a5d2-b470ff432f12",
   "metadata": {
    "tags": []
   },
   "outputs": [],
   "source": [
    "ad_left = ARPES_DATA[files[0]]\n",
    "for k in [\"energy\", \"theta\", \"phi_or_time\"]:\n",
    "    print(f\"{k}.shape = {getattr(ad_left, k).shape}\")\n",
    "print(f\"Data.shape = {ad_left.data.shape}\")"
   ]
  },
  {
   "cell_type": "markdown",
   "id": "948a1096-6359-4d77-ac1b-35f2ffd7f7e7",
   "metadata": {},
   "source": [
    "# Analysis -- stitching and normalizing datasets"
   ]
  },
  {
   "cell_type": "code",
   "execution_count": null,
   "id": "e637487b-a5f4-4bf4-9f54-cee9a402f1cf",
   "metadata": {
    "tags": []
   },
   "outputs": [],
   "source": [
    "## Initial params ##\n",
    "slice_dim = \"y\"\n",
    "slice_val = 2.15\n",
    "# slice_val = 2.05\n",
    "# slice_val = 1.95\n",
    "int_range = 0.05"
   ]
  },
  {
   "cell_type": "code",
   "execution_count": null,
   "id": "c03360bd-3c64-4cc3-b172-fce7aca13146",
   "metadata": {
    "tags": []
   },
   "outputs": [],
   "source": [
    "## Slice Data ##\n",
    "\n",
    "## Initial params\n",
    "xlim = (-0.12, 0.45)  # for k-corrected data\n",
    "# xlim = None\n",
    "ylim = (-0.52, 0.17)  # for k-corrected data\n",
    "x_bin = 2\n",
    "y_bin = 2\n",
    "\n",
    "## Get data\n",
    "x_2d, y_2d, d_2d = tr_functions.slice_datacube(\n",
    "    ad_right,\n",
    "    slice_dim,\n",
    "    slice_val,\n",
    "    int_range,\n",
    "    xlim,\n",
    "    ylim,\n",
    "    x_bin,\n",
    "    y_bin,\n",
    "    norm_data=True,\n",
    "    plot_data=False,\n",
    ")\n",
    "\n",
    "## Plot data\n",
    "fig = tr_functions.default_fig()\n",
    "fig.add_trace(go.Heatmap(x=x_2d, y=y_2d, z=d_2d, coloraxis=\"coloraxis\"))\n",
    "# fig.update_coloraxes(colorscale=\"Blues\", showscale=True)\n",
    "# fig.update_coloraxes(colorscale=\"dense\", showscale=True)\n",
    "fig.update_coloraxes(colorscale=\"ice\", reversescale=True, showscale=True)\n",
    "fig.update_layout(\n",
    "    title=dict(text=f\"2D slice\", x=0.5, xanchor=\"center\", yanchor=\"top\", font_size=22),\n",
    "    xaxis_title=\"$k_x \\; [A^{-1}]$\",  # or \\quad for larger space\n",
    "    yaxis_title=\"$k_y \\; [A^{-1}]$\",\n",
    ")\n",
    "fig.update_layout(height=500, width=500)\n",
    "\n",
    "fig.show(renderer=\"svg\")\n",
    "\n",
    "x_right, y_right, data_right = x_2d, y_2d, d_2d"
   ]
  },
  {
   "cell_type": "code",
   "execution_count": null,
   "id": "7f8413ec-3454-49cf-8df2-a7767713bce8",
   "metadata": {},
   "outputs": [],
   "source": [
    "## Slice Data ##\n",
    "\n",
    "## Initial params\n",
    "ylim = (-0.52, 0.16)  # same as above\n",
    "xlim = (-0.57, -0.04)  # for k-corrected data\n",
    "# ylim = (-0.44, 0.2)  # for k-corrected data\n",
    "x_bin = 2\n",
    "y_bin = 2\n",
    "\n",
    "## Get data\n",
    "x_2d, y_2d, d_2d = tr_functions.slice_datacube(\n",
    "    ad_left,\n",
    "    slice_dim,\n",
    "    slice_val,\n",
    "    int_range,\n",
    "    xlim,\n",
    "    ylim,\n",
    "    x_bin,\n",
    "    y_bin,\n",
    "    norm_data=True,\n",
    "    plot_data=False,\n",
    ")\n",
    "\n",
    "## Plot data\n",
    "fig = tr_functions.default_fig()\n",
    "fig.add_trace(go.Heatmap(x=x_2d, y=y_2d, z=d_2d, coloraxis=\"coloraxis\"))\n",
    "# fig.update_coloraxes(colorscale=\"Blues\", showscale=True)\n",
    "# fig.update_coloraxes(colorscale=\"dense\", showscale=True)\n",
    "fig.update_coloraxes(colorscale=\"ice\", reversescale=True, showscale=True)\n",
    "fig.update_layout(\n",
    "    title=dict(text=f\"2D slice\", x=0.5, xanchor=\"center\", yanchor=\"top\", font_size=22),\n",
    "    xaxis_title=\"$k_x \\; [A^{-1}]$\",  # or \\quad for larger space\n",
    "    yaxis_title=\"$k_y \\; [A^{-1}]$\",\n",
    ")\n",
    "fig.update_layout(height=500, width=500)\n",
    "\n",
    "fig.show(renderer=\"svg\")\n",
    "\n",
    "x_left, y_left, data_left = x_2d, y_2d, d_2d"
   ]
  },
  {
   "cell_type": "code",
   "execution_count": null,
   "id": "1460410f-f385-4d21-a015-d4407e2d2fcd",
   "metadata": {
    "tags": []
   },
   "outputs": [],
   "source": [
    "## Normalize plots relative to backgrounds ##\n",
    "\n",
    "# norm_to_bg = True\n",
    "norm_to_bg = False\n",
    "\n",
    "if norm_to_bg:\n",
    "    norm_type = \"background\"\n",
    "else:\n",
    "    norm_type = \"peak\"\n",
    "\n",
    "# ad_right\n",
    "# normalize to backgrounds\n",
    "if norm_type == \"background\":\n",
    "    xlim = (0.369, 0.418)\n",
    "    ylim = (-0.492, -0.452)\n",
    "# normalize to peaks rather than backgrounds\n",
    "elif norm_type == \"peak\":\n",
    "    xlim = (0.340, 0.373)\n",
    "    ylim = (-0.153, -0.112)\n",
    "\n",
    "ad_right_bg = tr_functions.get_avg_background(x_right, y_right, data_right, xlim, ylim)\n",
    "\n",
    "# ad_left\n",
    "# normalize to backgrounds\n",
    "if norm_type == \"background\":\n",
    "    xlim = (-0.512, -0.403)\n",
    "    ylim = (-0.453, -0.326)\n",
    "# normalize to peaks rather than backgrounds\n",
    "elif norm_type == \"peak\":\n",
    "    xlim = (-0.359, 0.289)\n",
    "    ylim = (0.056, 0.112)\n",
    "\n",
    "\n",
    "ad_left_bg = tr_functions.get_avg_background(x_left, y_left, data_left, xlim, ylim)\n",
    "print(ad_left_bg, ad_right_bg)\n",
    "\n",
    "norm_right_to_left = ad_left_bg / ad_right_bg\n",
    "data_right_norm = data_right * norm_right_to_left"
   ]
  },
  {
   "cell_type": "code",
   "execution_count": null,
   "id": "dd57c16b-1384-4e13-a409-ae7129d253f0",
   "metadata": {
    "tags": []
   },
   "outputs": [],
   "source": [
    "## Check resolutions match where we will be stitching ##\n",
    "\n",
    "x_left.shape, y_left.shape, data_left.shape, x_right.shape, y_right.shape, data_right_norm.shape"
   ]
  },
  {
   "cell_type": "code",
   "execution_count": null,
   "id": "bfceefac-54d7-402e-85a8-b0b0c83e9378",
   "metadata": {
    "tags": []
   },
   "outputs": [],
   "source": [
    "## Plot Data with Basic Stitch (not really stitched) ##\n",
    "\n",
    "from scipy.interpolate import interp1d\n",
    "\n",
    "x1, x2, dataslice1, dataslice2 = x_right, x_left, data_right, data_left\n",
    "\n",
    "new_x = np.linspace(min(min(x1), min(x2)), max(max(x1), max(x2)), len(x1) + len(x2))\n",
    "\n",
    "new_datas = []\n",
    "for x, data in zip([x1, x2], [dataslice1, dataslice2]):\n",
    "    nd = []\n",
    "    for row in data:\n",
    "        interper = interp1d(x, row, fill_value=np.nan, bounds_error=False)\n",
    "        nd.append(interper(new_x))\n",
    "    new_datas.append(np.array(nd))\n",
    "\n",
    "fig = tr_functions.thesis_fig(\n",
    "    title=f\"Excited State: {slice_val} eV\",\n",
    "    xaxis_title=\"$k_x \\; [A^{-1}]$\",\n",
    "    yaxis_title=\"$k_y \\; [A^{-1}]$\",\n",
    ")\n",
    "\n",
    "fig.add_trace(\n",
    "    go.Heatmap(\n",
    "        x=new_x,\n",
    "        y=y_left,\n",
    "        z=new_datas[0],\n",
    "        coloraxis=\"coloraxis\",\n",
    "    )\n",
    ")\n",
    "fig.add_trace(\n",
    "    go.Heatmap(\n",
    "        x=new_x,\n",
    "        y=y_left,\n",
    "        z=new_datas[1],\n",
    "        coloraxis=\"coloraxis\",\n",
    "    )\n",
    ")\n",
    "\n",
    "fig.update_coloraxes(\n",
    "    colorscale=\"ice\",\n",
    "    reversescale=True,\n",
    "    showscale=True,\n",
    "    cmin=0,\n",
    "    cmax=None,\n",
    ")\n",
    "# fig.update_layout(width=800, height=600)\n",
    "fig.show(renderer=\"svg\")\n",
    "\n",
    "# fig.write_image(\n",
    "#     # r\"C:\\Users\\atully\\OneDrive\\Physics.UBC\\TR-ARPES\\Data\\FS_2.15eV_plainstitch.png\"\n",
    "#     # r\"C:\\Users\\atully\\OneDrive\\Physics.UBC\\TR-ARPES\\Data\\FS_2.05eV_plainstitch.png\"\n",
    "#     # r\"C:\\Users\\atully\\OneDrive\\Physics.UBC\\TR-ARPES\\Data\\FS_1.95eV_plainstitch.png\"\n",
    "# )"
   ]
  },
  {
   "cell_type": "code",
   "execution_count": null,
   "id": "a9dd6fa3-7cd3-4e5f-8a06-5c959657b260",
   "metadata": {},
   "outputs": [],
   "source": [
    "## Stitch normalized data together ##\n",
    "\n",
    "x_s1, y_s1, data_s1 = tr_functions.stitch_2_datasets(\n",
    "    data_left, x_left, y_left, data_right_norm, x_right, y_right, stitch_dim=\"x\"\n",
    ")"
   ]
  },
  {
   "cell_type": "code",
   "execution_count": null,
   "id": "fd57c38c-9626-4e63-8eb4-35957cbe93a1",
   "metadata": {
    "tags": []
   },
   "outputs": [],
   "source": [
    "## Plot Data ##\n",
    "\n",
    "fig = tr_functions.thesis_fig(\n",
    "    title=f\"Excited State: {slice_val} eV\",\n",
    "    xaxis_title=\"$k_x \\; [A^{-1}]$\",\n",
    "    yaxis_title=\"$k_y \\; [A^{-1}]$\",\n",
    ")\n",
    "\n",
    "fig.add_trace(\n",
    "    go.Heatmap(\n",
    "        x=x_s1, y=y_s1, z=analysis_functions.norm_data(data_s1), coloraxis=\"coloraxis\"\n",
    "    )\n",
    ")\n",
    "\n",
    "# hexagon = polygons.gen_polygon(6, 0.42, rotation=30)\n",
    "# fig = polygons.plot_polygon(hexagon, color=\"green\", fig=fig, show=False)\n",
    "\n",
    "fig.update_coloraxes(\n",
    "    colorscale=\"ice\",\n",
    "    reversescale=True,\n",
    "    showscale=True,\n",
    "    cmin=0,\n",
    "    cmax=None,\n",
    ")\n",
    "# fig.update_layout(width=800, height=600)\n",
    "fig.show(renderer=\"svg\")\n",
    "# fig.show()\n",
    "\n",
    "# fig.write_image(\n",
    "#     # r\"C:\\Users\\atully\\OneDrive\\Physics.UBC\\TR-ARPES\\Data\\FS_2.15eV_normpeaks.png\"\n",
    "#     # r\"C:\\Users\\atully\\OneDrive\\Physics.UBC\\TR-ARPES\\Data\\FS_2.05eV_normpeaks.png\"\n",
    "#     # r\"C:\\Users\\atully\\OneDrive\\Physics.UBC\\TR-ARPES\\Data\\FS_1.95eV_normpeaks.png\"\n",
    "# )\n",
    "# fig.write_image(\n",
    "#     r\"C:\\Users\\atully\\OneDrive\\Physics.UBC\\TR-ARPES\\Data\\FS_2.05eV_normbg.png\"\n",
    "# )"
   ]
  },
  {
   "cell_type": "code",
   "execution_count": null,
   "id": "af423a23-971a-4691-be4e-fbdc26cec614",
   "metadata": {
    "tags": []
   },
   "outputs": [],
   "source": [
    "## Rotate Data ##\n",
    "\n",
    "x, y, z = x_s1, y_s1, analysis_functions.norm_data(data_s1)\n",
    "\n",
    "coords = tr_functions.x_y_to_coords(x, y)\n",
    "\n",
    "rotated_coords = tr_functions.rotate_2d_array(coords, 120, (0, 0))\n",
    "rotated_coords_2 = tr_functions.rotate_2d_array(coords, 240, (0, 0))\n",
    "\n",
    "nx, ny, nd = tr_functions.interpolate(rotated_coords, z)\n",
    "nx_2, ny_2, nd_2 = tr_functions.interpolate(rotated_coords_2, z)"
   ]
  },
  {
   "cell_type": "code",
   "execution_count": null,
   "id": "d2ef0f86-d1f4-4787-85ec-a5d3397da533",
   "metadata": {
    "tags": []
   },
   "outputs": [],
   "source": [
    "## Average original dataset with 1st rotated dataset ##\n",
    "\n",
    "x1, y1, dataslice1 = x_s1, y_s1, analysis_functions.norm_data(data_s1)\n",
    "x2, y2, dataslice2 = nx, ny, nd\n",
    "\n",
    "new_x, new_y, new_data = tr_functions.stitch_and_avg(\n",
    "    x1, y1, dataslice1, x2, y2, dataslice2\n",
    ")"
   ]
  },
  {
   "cell_type": "code",
   "execution_count": null,
   "id": "37068d38-4c76-41c0-932e-427f1c5f0954",
   "metadata": {
    "tags": []
   },
   "outputs": [],
   "source": [
    "## Average new dataset with 2nd rotated dataset ##\n",
    "\n",
    "x1, y1, dataslice1 = new_x, new_y, new_data\n",
    "x2, y2, dataslice2 = nx_2, ny_2, nd_2\n",
    "\n",
    "new_x_stitched, new_y_stitched, new_data_stitched = tr_functions.stitch_and_avg(\n",
    "    x1, y1, dataslice1, x2, y2, dataslice2\n",
    ")"
   ]
  },
  {
   "cell_type": "code",
   "execution_count": null,
   "id": "e61d6ad1-970b-44e0-9017-dd9b69df6e3b",
   "metadata": {
    "tags": []
   },
   "outputs": [],
   "source": [
    "# Plot raw data and rotations on same figure; plot averaged data ##\n",
    "\n",
    "fig = tr_functions.thesis_fig(\n",
    "    title=f\"Excited State: {slice_val} eV\",\n",
    "    xaxis_title=\"$k_x \\; [A^{-1}]$\",\n",
    "    yaxis_title=\"$k_y \\; [A^{-1}]$\",\n",
    ")\n",
    "\n",
    "\n",
    "## Rotated Data\n",
    "# fig.add_trace(\n",
    "#     go.Heatmap(\n",
    "#         x=nx,\n",
    "#         y=ny,\n",
    "#         z=nd,\n",
    "#         coloraxis=\"coloraxis\",\n",
    "#     )\n",
    "# )\n",
    "\n",
    "# fig.add_trace(\n",
    "#     go.Heatmap(\n",
    "#         x=nx_2,\n",
    "#         y=ny_2,\n",
    "#         z=nd_2,\n",
    "#         coloraxis=\"coloraxis\",\n",
    "#     )\n",
    "# )\n",
    "\n",
    "# fig.add_trace(\n",
    "#     go.Heatmap(\n",
    "#         x=x_s1,\n",
    "#         y=y_s1,\n",
    "#         z=analysis_functions.norm_data(data_s1),\n",
    "#         coloraxis=\"coloraxis\",\n",
    "#     )\n",
    "# )\n",
    "\n",
    "\n",
    "## Averaged Data\n",
    "fig.add_trace(\n",
    "    go.Heatmap(\n",
    "        x=new_x_stitched,\n",
    "        y=new_y_stitched,\n",
    "        z=analysis_functions.norm_data(new_data_stitched),\n",
    "        coloraxis=\"coloraxis\",\n",
    "    )\n",
    ")\n",
    "\n",
    "\n",
    "hexagon = polygons.gen_polygon(6, 0.42, rotation=30)\n",
    "fig = polygons.plot_polygon(\n",
    "    hexagon, color=\"firebrick\", fig=fig, show=False, dash=True, dash_width=3\n",
    ")\n",
    "\n",
    "fig.update_yaxes(scaleanchor=\"x\", scaleratio=1)\n",
    "\n",
    "fig.update_layout(width=600, height=600)\n",
    "\n",
    "fig.show(renderer=\"svg\")\n",
    "\n",
    "# fig.write_image(\n",
    "#     # r\"C:\\Users\\atully\\OneDrive\\Physics.UBC\\TR-ARPES\\Data\\FS_2.15eV_FS138.png\"\n",
    "#     # r\"C:\\Users\\atully\\OneDrive\\Physics.UBC\\TR-ARPES\\Data\\FS_2.05eV_FS138.png\"\n",
    "#     # r\"C:\\Users\\atully\\OneDrive\\Physics.UBC\\TR-ARPES\\Data\\FS_1.95eV_FS138.png\"\n",
    "# )\n",
    "\n",
    "# fig.write_image(\n",
    "#     # r\"C:\\Users\\atully\\OneDrive\\Physics.UBC\\TR-ARPES\\Data\\FS_2.15eV_FS138_avg.png\"\n",
    "#     # r\"C:\\Users\\atully\\OneDrive\\Physics.UBC\\TR-ARPES\\Data\\FS_2.05eV_FS138_avg.png\"\n",
    "#     # r\"C:\\Users\\atully\\OneDrive\\Physics.UBC\\TR-ARPES\\Data\\FS_1.95eV_FS138_avg.png\"\n",
    "# )"
   ]
  },
  {
   "cell_type": "markdown",
   "id": "50bee90a-8dca-4db0-800a-aa8940ce04c7",
   "metadata": {},
   "source": [
    "## Attempt to reconstruct the BZ with only the right image"
   ]
  },
  {
   "cell_type": "code",
   "execution_count": null,
   "id": "7f5f60c8-b4c8-4a54-aa03-c560001aad7a",
   "metadata": {
    "tags": []
   },
   "outputs": [],
   "source": [
    "## Slice Data ##\n",
    "\n",
    "## Initial params\n",
    "slice_dim = \"y\"\n",
    "# slice_val = 2.15\n",
    "slice_val = 2.05\n",
    "# slice_val = 1.95\n",
    "int_range = 0.05\n",
    "xlim = (-0.12, 0.45)  # for k-corrected data\n",
    "# xlim = None\n",
    "ylim = (-0.52, 0.17)  # for k-corrected data\n",
    "x_bin = 2\n",
    "y_bin = 2\n",
    "\n",
    "## Get data\n",
    "x_2d, y_2d, d_2d = tr_functions.slice_datacube(\n",
    "    ad_right,\n",
    "    slice_dim,\n",
    "    slice_val,\n",
    "    int_range,\n",
    "    xlim,\n",
    "    ylim,\n",
    "    x_bin,\n",
    "    y_bin,\n",
    "    norm_data=True,\n",
    "    plot_data=False,\n",
    ")"
   ]
  },
  {
   "cell_type": "code",
   "execution_count": null,
   "id": "a2b3da30-1348-4741-8414-a52c6f5ab495",
   "metadata": {
    "tags": []
   },
   "outputs": [],
   "source": [
    "## Plot Data ##\n",
    "\n",
    "fig = tr_functions.thesis_fig(\n",
    "    title=f\"Excited State: {slice_val} eV\",\n",
    "    xaxis_title=\"$k_x \\; [A^{-1}]$\",\n",
    "    yaxis_title=\"$k_y \\; [A^{-1}]$\",\n",
    ")\n",
    "\n",
    "fig.add_trace(\n",
    "    go.Heatmap(\n",
    "        x=x_2d, y=y_2d, z=analysis_functions.norm_data(d_2d), coloraxis=\"coloraxis\"\n",
    "    )\n",
    ")\n",
    "\n",
    "hexagon = polygons.gen_polygon(6, 0.42, rotation=30)\n",
    "fig = polygons.plot_polygon(\n",
    "    hexagon, color=\"firebrick\", fig=fig, show=False, dash=True, dash_width=3\n",
    ")\n",
    "\n",
    "fig.update_coloraxes(\n",
    "    colorscale=\"ice\",\n",
    "    reversescale=True,\n",
    "    showscale=True,\n",
    "    cmin=0,\n",
    "    cmax=None,\n",
    ")\n",
    "\n",
    "# fig.update_xaxes(range=[xlim[0], xlim[1]], constrain=\"domain\")\n",
    "fig.update_xaxes(range=[-0.45, xlim[1]], constrain=\"domain\")\n",
    "fig.update_yaxes(scaleanchor=\"x\", scaleratio=1)\n",
    "\n",
    "fig.update_layout(width=600, height=600)\n",
    "fig.show()\n",
    "\n",
    "# fig.write_image(\n",
    "#     # r\"C:\\Users\\atully\\OneDrive\\Physics.UBC\\TR-ARPES\\Data\\FS_2.15eV_rightside_step1.png\"\n",
    "#     # r\"C:\\Users\\atully\\OneDrive\\Physics.UBC\\TR-ARPES\\Data\\FS_2.05eV_rightside_step1.png\"\n",
    "#     # r\"C:\\Users\\atully\\OneDrive\\Physics.UBC\\TR-ARPES\\Data\\FS_1.95eV_rightside_step1.png\"\n",
    "# )"
   ]
  },
  {
   "cell_type": "code",
   "execution_count": null,
   "id": "8a5c7c6d-37c9-4c07-8659-58ac1c4782bc",
   "metadata": {
    "tags": []
   },
   "outputs": [],
   "source": [
    "## This Results in the correct symmetry for K points, but not for M points!! Don't flip and symmeterize; instead just rotate and average ##"
   ]
  },
  {
   "cell_type": "code",
   "execution_count": null,
   "id": "c3ef25cb-2c21-4b9e-906a-907ea7105bf3",
   "metadata": {
    "tags": []
   },
   "outputs": [],
   "source": [
    "# ## Flip across ky = 0 and stitch datasets together ##\n",
    "\n",
    "# x, y, z = (\n",
    "#     x_2d,\n",
    "#     -1 * y_2d,\n",
    "#     d_2d,\n",
    "# )  # uses all the data reflected across ky=0 and stitches together\n",
    "\n",
    "# x_s2, y_s2, data_s2 = tr_functions.stitch_2_datasets(\n",
    "#     d_2d, x_2d, y_2d, z, x, y, stitch_dim=\"y\"\n",
    "# )"
   ]
  },
  {
   "cell_type": "code",
   "execution_count": null,
   "id": "a907bb82-f1be-4a1f-9aa0-de9771e688e5",
   "metadata": {
    "tags": []
   },
   "outputs": [],
   "source": [
    "# ## Plot Stitched Data ##\n",
    "\n",
    "# fig = tr_functions.thesis_fig(\n",
    "#     title=f\"Excited State: {slice_val} eV\",\n",
    "#     xaxis_title=\"$k_x \\; [A^{-1}]$\",\n",
    "#     yaxis_title=\"$k_y \\; [A^{-1}]$\",\n",
    "# )\n",
    "\n",
    "# fig.add_trace(\n",
    "#     go.Heatmap(\n",
    "#         x=x_s2, y=y_s2, z=analysis_functions.norm_data(data_s2), coloraxis=\"coloraxis\"\n",
    "#     )\n",
    "# )\n",
    "\n",
    "# hexagon = polygons.gen_polygon(6, 0.42, rotation=30)\n",
    "# fig = polygons.plot_polygon(\n",
    "#     hexagon, color=\"firebrick\", fig=fig, show=False, dash=True, dash_width=3\n",
    "# )\n",
    "\n",
    "# fig.update_coloraxes(\n",
    "#     colorscale=\"ice\",\n",
    "#     reversescale=True,\n",
    "#     showscale=True,\n",
    "#     cmin=0,\n",
    "#     cmax=None,\n",
    "# )\n",
    "\n",
    "# # fig.update_xaxes(range=[xlim[0], xlim[1]], constrain=\"domain\")\n",
    "# fig.update_xaxes(range=[-0.45, xlim[1]], constrain=\"domain\")\n",
    "# fig.update_yaxes(scaleanchor=\"x\", scaleratio=1)\n",
    "\n",
    "# fig.update_layout(width=600, height=600)\n",
    "# fig.show(renderer=\"svg\")\n",
    "\n",
    "# # fig.write_image(\n",
    "# #     # r\"C:\\Users\\atully\\OneDrive\\Physics.UBC\\TR-ARPES\\Data\\FS_2.15eV_rightside_step2.png\"\n",
    "# #     # r\"C:\\Users\\atully\\OneDrive\\Physics.UBC\\TR-ARPES\\Data\\FS_2.05eV_rightside_step2.png\"\n",
    "# #     # r\"C:\\Users\\atully\\OneDrive\\Physics.UBC\\TR-ARPES\\Data\\FS_1.95eV_rightside_step2.png\"\n",
    "# # )"
   ]
  },
  {
   "cell_type": "code",
   "execution_count": null,
   "id": "5ab5f6a1-23c3-432f-8761-c6f26e82faa3",
   "metadata": {
    "tags": []
   },
   "outputs": [],
   "source": [
    "## Rotate Data ##"
   ]
  },
  {
   "cell_type": "code",
   "execution_count": null,
   "id": "dd115d01-a495-412e-9ff5-e313535abc3f",
   "metadata": {
    "tags": []
   },
   "outputs": [],
   "source": [
    "# x, y, z = x_s2, y_s2, analysis_functions.norm_data(data_s2)\n",
    "x, y, z = x_2d, y_2d, analysis_functions.norm_data(d_2d)\n",
    "\n",
    "coords = tr_functions.x_y_to_coords(x, y)"
   ]
  },
  {
   "cell_type": "code",
   "execution_count": null,
   "id": "4c838039-7819-45b0-8783-c9f18a2a4237",
   "metadata": {
    "tags": []
   },
   "outputs": [],
   "source": [
    "## Increase resolution of original data to 1000x1000 ##\n",
    "\n",
    "# rotated_coords_0 = tr_functions.rotate_2d_array(coords, 0, (0, 0))\n",
    "# nx_0, ny_0, nd_0 = tr_functions.interpolate(rotated_coords_0, z)"
   ]
  },
  {
   "cell_type": "code",
   "execution_count": null,
   "id": "fadaa351-891a-43d7-88ea-7206459ae5cc",
   "metadata": {
    "tags": []
   },
   "outputs": [],
   "source": [
    "rotated_coords = tr_functions.rotate_2d_array(coords, 120, (0, 0))\n",
    "rotated_coords_2 = tr_functions.rotate_2d_array(coords, 240, (0, 0))"
   ]
  },
  {
   "cell_type": "code",
   "execution_count": null,
   "id": "37d2fc7d-c1cb-48bd-bb4c-656e501bab78",
   "metadata": {
    "tags": []
   },
   "outputs": [],
   "source": [
    "nx, ny, nd = tr_functions.interpolate(rotated_coords, z)\n",
    "nx_2, ny_2, nd_2 = tr_functions.interpolate(rotated_coords_2, z)"
   ]
  },
  {
   "cell_type": "code",
   "execution_count": null,
   "id": "c4cc925b-770a-4234-bc8f-1d5fb557acbc",
   "metadata": {
    "tags": []
   },
   "outputs": [],
   "source": [
    "## Plot raw data and rotations on same figure ##\n",
    "\n",
    "fig = tr_functions.thesis_fig(\n",
    "    title=f\"Excited State: {slice_val} eV\",\n",
    "    xaxis_title=\"$k_x \\; [A^{-1}]$\",\n",
    "    yaxis_title=\"$k_y \\; [A^{-1}]$\",\n",
    ")\n",
    "\n",
    "fig.add_trace(\n",
    "    go.Heatmap(\n",
    "        x=nx,\n",
    "        y=ny,\n",
    "        z=nd,\n",
    "        coloraxis=\"coloraxis\",\n",
    "    )\n",
    ")\n",
    "\n",
    "fig.add_trace(\n",
    "    go.Heatmap(\n",
    "        x=nx_2,\n",
    "        y=ny_2,\n",
    "        z=nd_2,\n",
    "        coloraxis=\"coloraxis\",\n",
    "    )\n",
    ")\n",
    "\n",
    "## Looks the same when I increase resolution of original data to 1000x1000\n",
    "# fig.add_trace(\n",
    "#     go.Heatmap(\n",
    "#         x=nx_0,\n",
    "#         y=ny_0,\n",
    "#         z=nd_0,\n",
    "#         coloraxis=\"coloraxis\",\n",
    "#     )\n",
    "# )\n",
    "\n",
    "fig.add_trace(\n",
    "    go.Heatmap(\n",
    "        # x=x_s2, y=y_s2, z=analysis_functions.norm_data(data_s2), coloraxis=\"coloraxis\"\n",
    "        x=x_2d,\n",
    "        y=y_2d,\n",
    "        z=analysis_functions.norm_data(d_2d),\n",
    "        coloraxis=\"coloraxis\",\n",
    "    )\n",
    ")\n",
    "\n",
    "hexagon = polygons.gen_polygon(6, 0.42, rotation=30)\n",
    "fig = polygons.plot_polygon(\n",
    "    hexagon, color=\"firebrick\", fig=fig, show=False, dash=True, dash_width=3\n",
    ")\n",
    "\n",
    "fig.update_coloraxes(\n",
    "    colorscale=\"ice\",\n",
    "    reversescale=True,\n",
    "    showscale=True,\n",
    "    cmin=0,\n",
    "    cmax=None,\n",
    ")\n",
    "fig.update_yaxes(scaleanchor=\"x\", scaleratio=1)\n",
    "\n",
    "fig.update_layout(width=600, height=600)\n",
    "\n",
    "fig.show(renderer=\"svg\")\n",
    "\n",
    "# fig.write_image(\n",
    "#     # r\"C:\\Users\\atully\\OneDrive\\Physics.UBC\\TR-ARPES\\Data\\FS_2.15eV_rightside_step2.png\"\n",
    "#     # r\"C:\\Users\\atully\\OneDrive\\Physics.UBC\\TR-ARPES\\Data\\FS_2.05eV_rightside_step2.png\"\n",
    "#     # r\"C:\\Users\\atully\\OneDrive\\Physics.UBC\\TR-ARPES\\Data\\FS_1.95eV_rightside_step2.png\"\n",
    "# )"
   ]
  },
  {
   "cell_type": "code",
   "execution_count": null,
   "id": "d2ebb734-ecb2-4cb1-a53e-0f61ba3177d1",
   "metadata": {
    "tags": []
   },
   "outputs": [],
   "source": [
    "## Average original dataset with 1st rotated dataset ##\n",
    "\n",
    "# x1, y1, dataslice1 = x_s2, y_s2, analysis_functions.norm_data(data_s2)\n",
    "x1, y1, dataslice1 = x_2d, y_2d, analysis_functions.norm_data(d_2d)\n",
    "x2, y2, dataslice2 = nx, ny, nd\n",
    "\n",
    "new_x, new_y, new_data = tr_functions.stitch_and_avg(\n",
    "    x1, y1, dataslice1, x2, y2, dataslice2\n",
    ")"
   ]
  },
  {
   "cell_type": "code",
   "execution_count": null,
   "id": "9e187a3d-d7f7-499c-8c6d-f5390d5ee40c",
   "metadata": {
    "tags": []
   },
   "outputs": [],
   "source": [
    "## Average new dataset with 2nd rotated dataset ##\n",
    "\n",
    "x1, y1, dataslice1 = new_x, new_y, new_data\n",
    "x2, y2, dataslice2 = nx_2, ny_2, nd_2\n",
    "\n",
    "new_x, new_y, new_data = tr_functions.stitch_and_avg(\n",
    "    x1, y1, dataslice1, x2, y2, dataslice2\n",
    ")\n",
    "\n",
    "\n",
    "## Plot averaged data ##\n",
    "fig = tr_functions.thesis_fig(\n",
    "    title=f\"Excited State: {slice_val} eV\",\n",
    "    xaxis_title=\"$k_x \\; [A^{-1}]$\",\n",
    "    yaxis_title=\"$k_y \\; [A^{-1}]$\",\n",
    ")\n",
    "\n",
    "fig.add_trace(\n",
    "    go.Heatmap(\n",
    "        x=new_x,\n",
    "        y=new_y,\n",
    "        z=analysis_functions.norm_data(new_data),\n",
    "        coloraxis=\"coloraxis\",\n",
    "    )\n",
    ")\n",
    "\n",
    "hexagon = polygons.gen_polygon(6, 0.42, rotation=30)\n",
    "fig = polygons.plot_polygon(\n",
    "    hexagon, color=\"firebrick\", fig=fig, show=False, dash=True, dash_width=3\n",
    ")\n",
    "\n",
    "# fig.show()\n",
    "fig.show(renderer=\"svg\")\n",
    "\n",
    "\n",
    "# fig.write_image(\n",
    "#     # r\"C:\\Users\\atully\\OneDrive\\Physics.UBC\\TR-ARPES\\Data\\FS_2.15eV_full_averaged.png\"\n",
    "#     # r\"C:\\Users\\atully\\OneDrive\\Physics.UBC\\TR-ARPES\\Data\\FS_2.05eV_full_averaged.png\"\n",
    "#     # r\"C:\\Users\\atully\\OneDrive\\Physics.UBC\\TR-ARPES\\Data\\FS_1.95eV_full_averaged.png\"\n",
    "# )"
   ]
  }
 ],
 "metadata": {
  "kernelspec": {
   "display_name": "Python 3 (ipykernel)",
   "language": "python",
   "name": "python3"
  },
  "language_info": {
   "codemirror_mode": {
    "name": "ipython",
    "version": 3
   },
   "file_extension": ".py",
   "mimetype": "text/x-python",
   "name": "python",
   "nbconvert_exporter": "python",
   "pygments_lexer": "ipython3",
   "version": "3.8.12"
  }
 },
 "nbformat": 4,
 "nbformat_minor": 5
}
