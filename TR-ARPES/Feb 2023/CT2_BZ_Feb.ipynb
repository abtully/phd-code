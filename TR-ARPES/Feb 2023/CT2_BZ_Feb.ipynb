{
 "cells": [
  {
   "cell_type": "markdown",
   "id": "3ff2997b-a5b5-4a32-891a-00aac86f7400",
   "metadata": {
    "tags": []
   },
   "source": [
    "## Imports"
   ]
  },
  {
   "cell_type": "code",
   "execution_count": null,
   "id": "12c13cd3-01c6-4841-963e-73cb2dc01fd8",
   "metadata": {
    "tags": []
   },
   "outputs": [],
   "source": [
    "%load_ext lab_black\n",
    "\n",
    "import h5py\n",
    "import os\n",
    "import numpy as np\n",
    "from typing import Dict, List, Optional, Tuple\n",
    "\n",
    "from dataclasses import dataclass\n",
    "from tqdm.auto import tqdm\n",
    "from scipy.signal import savgol_filter\n",
    "from scipy.interpolate import interp2d\n",
    "from functools import lru_cache\n",
    "\n",
    "\n",
    "import plotly.graph_objects as go\n",
    "import plotly.colors as pc\n",
    "import matplotlib.pyplot as plt\n",
    "\n",
    "\n",
    "import sys\n",
    "\n",
    "sys.path.append(r\"C:\\Users\\atully\\Code\\GitHub\\ARPES Code\\arpes-code-python\")\n",
    "from arpes_functions import (\n",
    "    fitting_functions,\n",
    "    analysis_functions,\n",
    "    plotting_functions,\n",
    "    HDF5_loader,\n",
    "    misc_functions,\n",
    "    filter_functions,\n",
    "    tr_functions,\n",
    "    loading_functions,\n",
    "    kw_data_loader,\n",
    "    cnn,\n",
    "    polygons,\n",
    ")\n",
    "\n",
    "colors = pc.qualitative.D3\n",
    "angstrom = \"\\u212B\""
   ]
  },
  {
   "cell_type": "markdown",
   "id": "8420489a-0cd7-40e6-8a3a-bc81638b6e8c",
   "metadata": {
    "tags": []
   },
   "source": [
    "# Load Data"
   ]
  },
  {
   "cell_type": "code",
   "execution_count": null,
   "id": "f588418e-3792-497d-b167-445ef59b8a40",
   "metadata": {
    "tags": []
   },
   "outputs": [],
   "source": [
    "# # Convert K corrected dat to h5##\n",
    "\n",
    "# ddir = r\"E:\\atully\\arpes_data\\2023_February\\6eV\\FS\"\n",
    "\n",
    "# # STEP 1 ##\n",
    "# # Convert ibw to hdf5\n",
    "# fn = \"FS2_avg_gkw.ibw\"\n",
    "# HDF5_loader.ibw_to_hdf5(ddir, fn, export=True)\n",
    "\n",
    "# # Check conversion worked\n",
    "# data, kx, ky, energy = HDF5_loader.load_hdf5(\n",
    "#     ddir, \"FS2_avg_gkw.h5\"\n",
    "# )  # load data from hdf5\n",
    "# data.shape, kx.shape, ky.shape, energy.shape"
   ]
  },
  {
   "cell_type": "code",
   "execution_count": null,
   "id": "053d107a-cfd3-4eb4-8720-fb503a3ae6b7",
   "metadata": {
    "tags": []
   },
   "outputs": [],
   "source": [
    "## Load averaged, K corrected data ##\n",
    "\n",
    "ddir = r\"E:\\atully\\arpes_data\\2023_February\\6eV\\FS\"\n",
    "files = [\"FS2_avg_gkw.h5\"]\n",
    "\n",
    "# This works, but makes dataclass with theta and phi_or_time instead of kx and ky\n",
    "ARPES_DATA: Dict[str, tr_functions.ArpesData] = {}\n",
    "ARPES_ATTRS: Dict[str, tr_functions.ArpesAttrs] = {}\n",
    "for file in tqdm(files):\n",
    "    data, kx, ky, energy = loading_functions.load_hdf5(ddir, file)\n",
    "    ARPES_DATA[file] = tr_functions.ArpesData(\n",
    "        data=data, theta=kx, phi_or_time=ky, energy=energy\n",
    "    )\n",
    "    ARPES_ATTRS[file] = tr_functions.load_attrs_hdf5(ddir, file)"
   ]
  },
  {
   "cell_type": "code",
   "execution_count": null,
   "id": "cdfe33f7-14a7-4080-bbd2-d0f502feb9a0",
   "metadata": {
    "tags": []
   },
   "outputs": [],
   "source": [
    "ad = ARPES_DATA[files[0]]\n",
    "for k in [\"energy\", \"theta\", \"phi_or_time\"]:\n",
    "    print(f\"{k}.shape = {getattr(ad, k).shape}\")\n",
    "print(f\"Data.shape = {ad.data.shape}\")"
   ]
  },
  {
   "cell_type": "markdown",
   "id": "948a1096-6359-4d77-ac1b-35f2ffd7f7e7",
   "metadata": {},
   "source": [
    "# Analysis -- stitching and normalizing datasets"
   ]
  },
  {
   "cell_type": "code",
   "execution_count": null,
   "id": "22df5817-1b57-4b56-8255-7b3e1178c8ff",
   "metadata": {
    "tags": []
   },
   "outputs": [],
   "source": [
    "## HOMO is at 2.05 eV below EF, based on fits from this data averaged with fits from tr-ARPES results ##\n",
    "\n",
    "EF_400 = 1.91  # in kinetic energy, slit 400\n",
    "\n",
    "homo = -2.05\n",
    "\n",
    "homo_400 = homo + EF_400\n",
    "\n",
    "ad.energy = ad.energy - homo_400"
   ]
  },
  {
   "cell_type": "code",
   "execution_count": null,
   "id": "e637487b-a5f4-4bf4-9f54-cee9a402f1cf",
   "metadata": {
    "tags": []
   },
   "outputs": [],
   "source": [
    "## Initial params ##\n",
    "slice_dim = \"y\"\n",
    "# slice_val = np.round(2.65 - homo_400, 3)\n",
    "# slice_val = np.round(2.55 - homo_400, 3)\n",
    "# slice_val = np.round(2.45 - homo_400, 3)\n",
    "# slice_val = 2.5\n",
    "# slice_val = 2.75\n",
    "slice_val = 2.96\n",
    "\n",
    "# slice_val =\n",
    "\n",
    "int_range = 0.05"
   ]
  },
  {
   "cell_type": "code",
   "execution_count": null,
   "id": "976ae531-1cd6-4f09-851f-e6066e91cf01",
   "metadata": {
    "tags": []
   },
   "outputs": [],
   "source": [
    "title = f\"CT<sub>2</sub> (E - E<sub>HOMO</sub> = {slice_val})\"\n",
    "yaxis_title = f\"k<sub>y</sub> [{angstrom}<sup>-1</sup>]\"\n",
    "xaxis_title = f\"k<sub>x</sub> [{angstrom}<sup>-1</sup>]\""
   ]
  },
  {
   "cell_type": "code",
   "execution_count": null,
   "id": "c03360bd-3c64-4cc3-b172-fce7aca13146",
   "metadata": {
    "tags": []
   },
   "outputs": [],
   "source": [
    "## Slice Data ##\n",
    "\n",
    "xlim = (-0.13, 0.47)\n",
    "ylim = (-0.57, 0.18)\n",
    "# xlim = None\n",
    "# ylim = None\n",
    "x_bin = 2\n",
    "y_bin = 2\n",
    "\n",
    "## Get data\n",
    "x_2d, y_2d, d_2d = tr_functions.slice_datacube(\n",
    "    ad,\n",
    "    slice_dim,\n",
    "    slice_val,\n",
    "    int_range,\n",
    "    xlim,\n",
    "    ylim,\n",
    "    x_bin,\n",
    "    y_bin,\n",
    "    norm_data=True,\n",
    "    plot_data=False,\n",
    ")\n",
    "\n",
    "## Plot data\n",
    "fig = tr_functions.thesis_fig(\n",
    "    title=f\"Excited State: {slice_val} eV\",\n",
    "    xaxis_title=\"$k_x \\; [A^{-1}]$\",\n",
    "    yaxis_title=\"$k_y \\; [A^{-1}]$\",\n",
    ")\n",
    "\n",
    "fig.add_trace(\n",
    "    go.Heatmap(\n",
    "        x=x_2d, y=y_2d, z=analysis_functions.norm_data(d_2d), coloraxis=\"coloraxis\"\n",
    "    )\n",
    ")\n",
    "\n",
    "hexagon = polygons.gen_polygon(6, 0.42, rotation=30)\n",
    "fig = polygons.plot_polygon(hexagon, color=\"green\", fig=fig, show=False)\n",
    "\n",
    "fig.update_coloraxes(\n",
    "    colorscale=\"ice\",\n",
    "    reversescale=True,\n",
    "    showscale=True,\n",
    "    cmin=0,\n",
    "    cmax=None,\n",
    ")\n",
    "\n",
    "fig.update_xaxes(range=[xlim[0], xlim[1]], constrain=\"domain\")\n",
    "fig.update_yaxes(scaleanchor=\"x\", scaleratio=1)\n",
    "\n",
    "fig.update_layout(width=600, height=600)\n",
    "fig.show(renderer=\"svg\")"
   ]
  },
  {
   "cell_type": "code",
   "execution_count": null,
   "id": "d4d53941-4c88-4374-a017-d0ef1419570a",
   "metadata": {
    "tags": []
   },
   "outputs": [],
   "source": [
    "## Rotate Data ##"
   ]
  },
  {
   "cell_type": "code",
   "execution_count": null,
   "id": "fad3a967-b401-453b-a084-228ca0e69ea0",
   "metadata": {
    "tags": []
   },
   "outputs": [],
   "source": [
    "# x, y, z = x_s2, y_s2, analysis_functions.norm_data(data_s2)\n",
    "x, y, z = x_2d, y_2d, analysis_functions.norm_data(d_2d)\n",
    "\n",
    "coords = tr_functions.x_y_to_coords(x, y)"
   ]
  },
  {
   "cell_type": "code",
   "execution_count": null,
   "id": "c38c1c00-44f8-4988-9971-56c202c7b44f",
   "metadata": {
    "tags": []
   },
   "outputs": [],
   "source": [
    "rotated_coords = tr_functions.rotate_2d_array(coords, 120, (0, 0))\n",
    "rotated_coords_2 = tr_functions.rotate_2d_array(coords, 240, (0, 0))"
   ]
  },
  {
   "cell_type": "code",
   "execution_count": null,
   "id": "a1b6ef6e-831d-45a8-9beb-4968547cffbc",
   "metadata": {
    "tags": []
   },
   "outputs": [],
   "source": [
    "nx, ny, nd = tr_functions.interpolate(rotated_coords, z)\n",
    "nx_2, ny_2, nd_2 = tr_functions.interpolate(rotated_coords_2, z)"
   ]
  },
  {
   "cell_type": "code",
   "execution_count": null,
   "id": "23e80a3e-907a-4c63-a1b2-d20beef1f4f9",
   "metadata": {
    "tags": []
   },
   "outputs": [],
   "source": [
    "## Plot raw data and rotations on same figure ##\n",
    "\n",
    "fig = tr_functions.thesis_fig(\n",
    "    title=title,\n",
    "    xaxis_title=xaxis_title,\n",
    "    yaxis_title=yaxis_title,\n",
    "    equiv_axes=True,\n",
    "    gridlines=False,\n",
    "    height=600,\n",
    "    width=600,\n",
    ")\n",
    "\n",
    "fig.add_trace(\n",
    "    go.Heatmap(\n",
    "        x=nx_2,\n",
    "        y=ny_2,\n",
    "        z=nd_2,\n",
    "        coloraxis=\"coloraxis\",\n",
    "        # opacity=0.85,\n",
    "    )\n",
    ")\n",
    "\n",
    "fig.add_trace(\n",
    "    go.Heatmap(\n",
    "        x=nx,\n",
    "        y=ny,\n",
    "        z=nd,\n",
    "        coloraxis=\"coloraxis\",\n",
    "        # opacity=0.85,\n",
    "    )\n",
    ")\n",
    "\n",
    "fig.add_trace(\n",
    "    # go.Heatmap(\n",
    "    #     x=x_s2,\n",
    "    #     y=y_s2,\n",
    "    #     z=analysis_functions.norm_data(data_s2),\n",
    "    #     coloraxis=\"coloraxis\",\n",
    "    #     opacity=0.85,\n",
    "    # )\n",
    "    go.Heatmap(\n",
    "        x=x_2d,\n",
    "        y=y_2d,\n",
    "        z=analysis_functions.norm_data(d_2d),\n",
    "        coloraxis=\"coloraxis\",\n",
    "        # opacity=0.85,\n",
    "    )\n",
    ")\n",
    "\n",
    "hexagon = polygons.gen_polygon(6, 0.42, rotation=30)\n",
    "fig = polygons.plot_polygon(\n",
    "    hexagon, color=\"yellow\", fig=fig, show=False, dash=True, dash_width=3\n",
    ")\n",
    "\n",
    "fig.update_coloraxes(\n",
    "    colorscale=\"ice\",\n",
    "    reversescale=True,\n",
    "    showscale=True,\n",
    "    cmin=0,\n",
    "    cmax=None,\n",
    ")\n",
    "fig.update_yaxes(scaleanchor=\"x\", scaleratio=1)\n",
    "\n",
    "fig.update_layout(width=600, height=600)\n",
    "fig.show()\n",
    "\n",
    "# fig.write_image(\n",
    "#     # r\"C:\\Users\\atully\\OneDrive\\Physics.UBC\\TR-ARPES\\Data\\FS_2.65eV_full.png\"\n",
    "#     # r\"C:\\Users\\atully\\OneDrive\\Physics.UBC\\TR-ARPES\\Data\\FS_2.55eV_full.png\"\n",
    "#     # r\"C:\\Users\\atully\\OneDrive\\Physics.UBC\\TR-ARPES\\Data\\FS_2.45eV_full.png\"\n",
    "# )\n",
    "\n",
    "# fig.write_image(\n",
    "#     # r\"C:\\Users\\atully\\OneDrive\\Physics.UBC\\TR-ARPES\\Data\\FS_2.65eV_full_opacity0.85.png\"\n",
    "#     # r\"C:\\Users\\atully\\OneDrive\\Physics.UBC\\TR-ARPES\\Data\\FS_2.55eV_full_opacity0.85.png\"\n",
    "#     # r\"C:\\Users\\atully\\OneDrive\\Physics.UBC\\TR-ARPES\\Data\\FS_2.45eV_full_opacity0.85.png\"\n",
    "# )"
   ]
  },
  {
   "cell_type": "code",
   "execution_count": null,
   "id": "a4c57c7e-442e-4833-ab41-c22de95b54f8",
   "metadata": {
    "tags": []
   },
   "outputs": [],
   "source": [
    "## Average these datasets all together (requires interpolation of data)  ##"
   ]
  },
  {
   "cell_type": "code",
   "execution_count": null,
   "id": "057a327b-b147-4522-80c4-83742beab7d3",
   "metadata": {
    "tags": []
   },
   "outputs": [],
   "source": [
    "# def stitch_and_avg(x1, y1, data1, x2, y2, data2):\n",
    "#     # Create new axes, 1000 x 1000 is the desired final resolution\n",
    "#     new_x = np.linspace(min(min(x1), min(x2)), max(max(x1), max(x2)), 1000)\n",
    "#     new_y = np.linspace(min(min(y1), min(y2)), max(max(y1), max(y2)), 1000)\n",
    "\n",
    "#     # Generate new grid for data\n",
    "#     new_datas = []\n",
    "\n",
    "#     # Interpolate datasets onto new meshgrid (rqeuires defining interper function)\n",
    "#     for x, y, data in zip([x1, x2], [y1, y2], [data1, data2]):\n",
    "#         interper = RegularGridInterpolator(\n",
    "#             (y, x), data, fill_value=np.nan, bounds_error=False\n",
    "#         )\n",
    "#         xx, yy = np.meshgrid(new_x, new_y, indexing=\"ij\")\n",
    "\n",
    "#         new_datas.append(interper((yy, xx)).T)\n",
    "\n",
    "#     # Average dataslices together where they overlap (otherwise keep the original data)\n",
    "#     new_data = np.nanmean(new_datas, axis=0)\n",
    "\n",
    "#     return new_x, new_y, new_data"
   ]
  },
  {
   "cell_type": "code",
   "execution_count": null,
   "id": "e35355e0-e115-4f0b-b7b8-30e508360e8b",
   "metadata": {
    "tags": []
   },
   "outputs": [],
   "source": [
    "## Average original dataset with 1st rotated dataset ##\n",
    "\n",
    "# x1, y1, dataslice1 = x_s2, y_s2, analysis_functions.norm_data(data_s2)\n",
    "x1, y1, dataslice1 = x_2d, y_2d, analysis_functions.norm_data(d_2d)\n",
    "x2, y2, dataslice2 = nx, ny, nd\n",
    "\n",
    "new_x, new_y, new_data = tr_functions.stitch_and_avg(\n",
    "    x1, y1, dataslice1, x2, y2, dataslice2\n",
    ")\n",
    "\n",
    "# fig = tr_functions.thesis_fig()\n",
    "\n",
    "# fig.add_trace(\n",
    "#     go.Heatmap(\n",
    "#         x=new_x,\n",
    "#         y=new_y,\n",
    "#         z=analysis_functions.norm_data(new_data),\n",
    "#         coloraxis=\"coloraxis\",\n",
    "#     )\n",
    "# )\n",
    "\n",
    "# fig.show(rendere=\"svg\")"
   ]
  },
  {
   "cell_type": "code",
   "execution_count": null,
   "id": "516bc6ec-8c1e-4410-869d-08cabf1f27cd",
   "metadata": {},
   "outputs": [],
   "source": [
    "## Average new dataset with 2nd rotated dataset ##\n",
    "\n",
    "x1, y1, dataslice1 = new_x, new_y, new_data\n",
    "x2, y2, dataslice2 = nx_2, ny_2, nd_2\n",
    "\n",
    "new_x, new_y, new_data = tr_functions.stitch_and_avg(\n",
    "    x1, y1, dataslice1, x2, y2, dataslice2\n",
    ")\n",
    "\n",
    "fig = tr_functions.thesis_fig(\n",
    "    title=f\"Excited State: {slice_val} eV\",\n",
    "    xaxis_title=\"$k_x \\; [A^{-1}]$\",\n",
    "    yaxis_title=\"$k_y \\; [A^{-1}]$\",\n",
    ")\n",
    "\n",
    "fig.add_trace(\n",
    "    go.Heatmap(\n",
    "        x=new_x,\n",
    "        y=new_y,\n",
    "        z=analysis_functions.norm_data(new_data),\n",
    "        coloraxis=\"coloraxis\",\n",
    "    )\n",
    ")\n",
    "\n",
    "hexagon = polygons.gen_polygon(6, 0.42, rotation=30)\n",
    "fig = polygons.plot_polygon(\n",
    "    hexagon, color=\"firebrick\", fig=fig, show=False, dash=True, dash_width=3\n",
    ")\n",
    "\n",
    "fig.show()\n",
    "\n",
    "# fig.write_image(\n",
    "#     # r\"C:\\Users\\atully\\OneDrive\\Physics.UBC\\TR-ARPES\\Data\\FS_2.65eV_full_averaged.png\"\n",
    "#     # r\"C:\\Users\\atully\\OneDrive\\Physics.UBC\\TR-ARPES\\Data\\FS_2.55eV_full_averaged.png\"\n",
    "#     # r\"C:\\Users\\atully\\OneDrive\\Physics.UBC\\TR-ARPES\\Data\\FS_2.45eV_full_averaged.png\"\n",
    "# )"
   ]
  }
 ],
 "metadata": {
  "kernelspec": {
   "display_name": "Python 3 (ipykernel)",
   "language": "python",
   "name": "python3"
  },
  "language_info": {
   "codemirror_mode": {
    "name": "ipython",
    "version": 3
   },
   "file_extension": ".py",
   "mimetype": "text/x-python",
   "name": "python",
   "nbconvert_exporter": "python",
   "pygments_lexer": "ipython3",
   "version": "3.8.12"
  }
 },
 "nbformat": 4,
 "nbformat_minor": 5
}
