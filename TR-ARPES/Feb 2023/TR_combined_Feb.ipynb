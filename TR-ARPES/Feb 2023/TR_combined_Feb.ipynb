{
 "cells": [
  {
   "cell_type": "markdown",
   "id": "1ae5304f-f9bb-485a-ac96-3e176dddfac0",
   "metadata": {
    "tags": []
   },
   "source": [
    "# Imports"
   ]
  },
  {
   "cell_type": "code",
   "execution_count": null,
   "id": "b2afd8fc-ac96-40c0-a606-b145dad8d1b9",
   "metadata": {
    "tags": []
   },
   "outputs": [],
   "source": [
    "%load_ext lab_black\n",
    "\n",
    "import h5py\n",
    "import os\n",
    "\n",
    "from dataclasses import dataclass\n",
    "from tqdm.auto import tqdm\n",
    "from scipy.signal import savgol_filter\n",
    "from scipy.interpolate import interp2d\n",
    "from functools import lru_cache\n",
    "\n",
    "from typing import Dict, List, Optional, Tuple\n",
    "import numpy as np\n",
    "import plotly.graph_objects as go\n",
    "import matplotlib.pyplot as plt\n",
    "\n",
    "\n",
    "import sys\n",
    "\n",
    "sys.path.append(r\"C:\\Users\\atully\\Code\\GitHub\\ARPES Code\\arpes-code-python\")\n",
    "from arpes_functions import (\n",
    "    fitting_functions,\n",
    "    analysis_functions,\n",
    "    plotting_functions,\n",
    "    HDF5_loader,\n",
    "    misc_functions,\n",
    "    filter_functions,\n",
    "    tr_functions,\n",
    "    loading_functions,\n",
    "    cnn,\n",
    ")"
   ]
  },
  {
   "cell_type": "markdown",
   "id": "270640c8-b8c3-4316-9bea-01b631ea889d",
   "metadata": {
    "tags": []
   },
   "source": [
    "# Load Data"
   ]
  },
  {
   "cell_type": "code",
   "execution_count": null,
   "id": "89f54f62-71cf-46e9-9686-133f3f91dc7a",
   "metadata": {
    "tags": []
   },
   "outputs": [],
   "source": [
    "ddir = r\"E:\\atully\\arpes_data\\2023_February\\6eV\\TR\"\n",
    "files = [\"TR11_Ali_avg.h5\"]  # 1.7 eV center energy; -1 to 100 ps\n",
    "\n",
    "ARPES_DATA: Dict[str, tr_functions.ArpesData] = {}\n",
    "ARPES_ATTRS: Dict[str, tr_functions.ArpesAttrs] = {}\n",
    "for file in tqdm(files):\n",
    "    data, theta, phi_or_time, energy = loading_functions.load_hdf5(ddir, file)\n",
    "    ARPES_DATA[file] = tr_functions.ArpesData(\n",
    "        data=data, theta=theta, phi_or_time=phi_or_time, energy=energy\n",
    "    )\n",
    "    ARPES_ATTRS[file] = tr_functions.load_attrs_hdf5(ddir, file)\n",
    "\n",
    "ad_11 = ARPES_DATA[files[0]]"
   ]
  },
  {
   "cell_type": "code",
   "execution_count": null,
   "id": "edfb8b1a-2ffc-426f-84ab-58337e94b9cf",
   "metadata": {
    "tags": []
   },
   "outputs": [],
   "source": [
    "ddir = r\"E:\\atully\\arpes_data\\2023_February\\6eV\\TR\"\n",
    "files = [\"TR3_Ali_avg.h5\"]  # 2.15 eV center energy; -1 to 2 ps\n",
    "\n",
    "ARPES_DATA: Dict[str, tr_functions.ArpesData] = {}\n",
    "ARPES_ATTRS: Dict[str, tr_functions.ArpesAttrs] = {}\n",
    "for file in tqdm(files):\n",
    "    data, theta, phi_or_time, energy = loading_functions.load_hdf5(ddir, file)\n",
    "    ARPES_DATA[file] = tr_functions.ArpesData(\n",
    "        data=data, theta=theta, phi_or_time=phi_or_time, energy=energy\n",
    "    )\n",
    "    ARPES_ATTRS[file] = tr_functions.load_attrs_hdf5(ddir, file)\n",
    "\n",
    "ad_3 = ARPES_DATA[files[0]]"
   ]
  },
  {
   "cell_type": "code",
   "execution_count": null,
   "id": "d9a4ee6c-2a53-4cdc-9563-af840f89617b",
   "metadata": {
    "tags": []
   },
   "outputs": [],
   "source": [
    "ddir = r\"E:\\atully\\arpes_data\\2023_February\\6eV\\TR\"\n",
    "files = [\n",
    "    \"TR4_Ali_avg.h5\"\n",
    "]  # 2.6 eV center energy; -1 to 1 ps, same number of steps as first 2 ps of TR3\n",
    "\n",
    "ARPES_DATA: Dict[str, tr_functions.ArpesData] = {}\n",
    "ARPES_ATTRS: Dict[str, tr_functions.ArpesAttrs] = {}\n",
    "for file in tqdm(files):\n",
    "    data, theta, phi_or_time, energy = loading_functions.load_hdf5(ddir, file)\n",
    "    ARPES_DATA[file] = tr_functions.ArpesData(\n",
    "        data=data, theta=theta, phi_or_time=phi_or_time, energy=energy\n",
    "    )\n",
    "    ARPES_ATTRS[file] = tr_functions.load_attrs_hdf5(ddir, file)\n",
    "\n",
    "ad_4 = ARPES_DATA[files[0]]"
   ]
  },
  {
   "cell_type": "code",
   "execution_count": null,
   "id": "47191f1c-d49d-4c12-b538-cbf2b5cbc2c1",
   "metadata": {
    "tags": []
   },
   "outputs": [],
   "source": [
    "ad = ad_4\n",
    "\n",
    "for k in [\"energy\", \"theta\", \"phi_or_time\"]:\n",
    "    print(f\"{k}.shape = {getattr(ad, k).shape}\")\n",
    "print(f\"Data.shape = {ad.data.shape}\")"
   ]
  },
  {
   "cell_type": "code",
   "execution_count": null,
   "id": "92882b8b-fcd8-461a-8dcb-81b3e5b43845",
   "metadata": {
    "tags": []
   },
   "outputs": [],
   "source": [
    "print(f\"Delay range (mm): {np.min(ad.phi_or_time), np.max(ad.phi_or_time)}\")\n",
    "print(\n",
    "    f\"Energy range (eV): {np.round(np.min(ad.energy), 2), np.round(np.max(ad.energy), 2)}\"\n",
    ")\n",
    "print(f\"Theta range: {np.round(np.min(ad.theta), 1), np.round(np.max(ad.theta), 1)}\")"
   ]
  },
  {
   "cell_type": "markdown",
   "id": "948a1096-6359-4d77-ac1b-35f2ffd7f7e7",
   "metadata": {},
   "source": [
    "# Analysis"
   ]
  },
  {
   "cell_type": "markdown",
   "id": "4aab6a93-0a9c-477f-aba2-a474d164b135",
   "metadata": {
    "tags": []
   },
   "source": [
    "## Plan\n",
    "ad_11 --> 1.7 eV center energy; -1 to 100 ps; 80 steps in delay (mm), but -1 to 1 ps in 21 steps (not great time resolution...)\n",
    "\n",
    "ad_3 --> 2.15 eV center energy; -1 to 2 ps; 62 steps in delay (mm)\n",
    "\n",
    "ad_4 --> 2.6 eV center energy; -1 to 1 ps; 42 steps in delay (mm)\n",
    "\n",
    "1. cut down to same timescale (-1 to 1 ps --> 37.81 to 38.11 mm)\n",
    "2. ensure appropriate x axis"
   ]
  },
  {
   "cell_type": "code",
   "execution_count": null,
   "id": "406d0b19-a53f-4343-a909-2865d93e25b9",
   "metadata": {
    "tags": []
   },
   "outputs": [],
   "source": [
    "## Set up general parameters ##\n",
    "\n",
    "# toggle_time = \"picoseconds\"\n",
    "toggle_time = \"mm\"\n",
    "time_zero = 37.96\n",
    "\n",
    "slice_dim = \"x\"\n",
    "slice_val = 0\n",
    "int_range = 50  # integrate over all angles; if this value is more that the integration range, my get_2D_slice function will just integrate over the max range.\n",
    "\n",
    "xlim = None\n",
    "ylim = None\n",
    "x_bin = 1\n",
    "y_bin = 1"
   ]
  },
  {
   "cell_type": "code",
   "execution_count": null,
   "id": "b868f540-a3dd-48c7-8660-469c706acb4c",
   "metadata": {
    "tags": []
   },
   "outputs": [],
   "source": [
    "all_vals = []\n",
    "for ad in [ad_11, ad_3, ad_4]:\n",
    "    all_vals.append(\n",
    "        tr_functions.slice_datacube(\n",
    "            ad_dataclass=ad,\n",
    "            slice_dim=slice_dim,\n",
    "            slice_val=slice_val,\n",
    "            int_range=int_range,\n",
    "            xlim=xlim,\n",
    "            ylim=(\n",
    "                ad.energy[57],\n",
    "                ad.energy[1007],\n",
    "            ),  # get rid of zero padding on datasets\n",
    "            x_bin=x_bin,\n",
    "            y_bin=y_bin,\n",
    "            norm_data=False,\n",
    "            plot_data=False,\n",
    "        )\n",
    "    )\n",
    "x_11, y_11, d_11 = all_vals[0]\n",
    "x_3, y_3, d_3 = all_vals[1]\n",
    "x_4, y_4, d_4 = all_vals[2]"
   ]
  },
  {
   "cell_type": "code",
   "execution_count": null,
   "id": "b9d924a0-4ca6-4984-bc14-bfee62c11a72",
   "metadata": {
    "tags": []
   },
   "outputs": [],
   "source": [
    "## Plot Data: Plotly ##\n",
    "\n",
    "fig = tr_functions.default_fig()\n",
    "fig.add_trace(go.Heatmap(x=x_4, y=y_4, z=d_4, coloraxis=\"coloraxis\"))\n",
    "fig.add_trace(go.Heatmap(x=x_3, y=y_3, z=d_3, coloraxis=\"coloraxis\"))\n",
    "fig.add_trace(go.Heatmap(x=x_11, y=y_11, z=d_11, coloraxis=\"coloraxis\"))\n",
    "fig.update_coloraxes(colorscale=\"plasma\", showscale=True)  # cmin=0, cmax=1.8\n",
    "\n",
    "fig.update_layout(xaxis_range=(37.81, 38.11))\n",
    "\n",
    "# fig.write_image(r'C:\\Users\\atully\\OneDrive\\Physics.UBC\\TR-ARPES\\Data\\TR3&TR4&T11_plasma_plotly.png')"
   ]
  },
  {
   "cell_type": "code",
   "execution_count": null,
   "id": "7d96d452-9a47-4a49-9c08-7ba263df5afe",
   "metadata": {
    "tags": []
   },
   "outputs": [],
   "source": [
    "## Plot Data: MPL ##\n",
    "\n",
    "fig, ax = plt.subplots(1)\n",
    "\n",
    "ax.pcolormesh(x_11, y_11, d_11, shading=\"auto\", cmap=\"plasma\", vmin=0, vmax=2.5)\n",
    "ax.pcolormesh(x_3, y_3, d_3, shading=\"auto\", cmap=\"plasma\", vmin=0, vmax=0.2)\n",
    "ax.pcolormesh(x_4, y_4, d_4, shading=\"auto\", cmap=\"plasma\", vmin=0, vmax=0.1)\n",
    "\n",
    "ax.set_xlim(xmin=37.81, xmax=38.11)\n",
    "\n",
    "# plt.save_fig(r'C:\\Users\\atully\\OneDrive\\Physics.UBC\\TR-ARPES\\Data\\TR3&TR4&T11_plasma_mpl.png')"
   ]
  },
  {
   "cell_type": "code",
   "execution_count": null,
   "id": "bd077b6e-413a-4f1b-b3dc-ee99a74b9b26",
   "metadata": {
    "tags": []
   },
   "outputs": [],
   "source": [
    "## Normalize Plots relative to backgrounds"
   ]
  },
  {
   "cell_type": "code",
   "execution_count": null,
   "id": "cfb512b0-2055-4e9f-86dc-35bcafb70e67",
   "metadata": {
    "tags": []
   },
   "outputs": [],
   "source": [
    "# TR4\n",
    "xlim = (37.81, 37.84)\n",
    "ylim = (2.3, 2.9)\n",
    "\n",
    "tr4_bg = tr_functions.get_avg_background(x_4, y_4, d_4, xlim, ylim)\n",
    "# tr4_bg = get_avg_background(x_4, y_4, d4_norm, xlim, ylim)  # check\n",
    "\n",
    "# TR3\n",
    "xlim = (37.81, 37.84)\n",
    "ylim = (2.15, 2.48)\n",
    "\n",
    "tr3_bg = tr_functions.get_avg_background(x_3, y_3, d_3, xlim, ylim)\n",
    "\n",
    "# TR11\n",
    "xlim = (37.81, 37.85)\n",
    "ylim = (1.93, 2.04)\n",
    "\n",
    "tr11_bg = tr_functions.get_avg_background(x_11, y_11, d_11, xlim, ylim)\n",
    "# tr11_bg = get_avg_background(x_11, y_11, d11_norm, xlim, ylim)  # check\n",
    "\n",
    "tr4_bg, tr3_bg, tr11_bg"
   ]
  },
  {
   "cell_type": "code",
   "execution_count": null,
   "id": "723bc7eb-50d2-47be-9a78-2895b57fee2e",
   "metadata": {
    "tags": []
   },
   "outputs": [],
   "source": [
    "norm_tr4_to_tr3 = tr3_bg / tr4_bg\n",
    "norm_tr11_to_tr3 = tr3_bg / tr11_bg\n",
    "\n",
    "d4_norm = d_4 * norm_tr4_to_tr3\n",
    "d11_norm = d_11 * norm_tr11_to_tr3"
   ]
  },
  {
   "cell_type": "code",
   "execution_count": null,
   "id": "3f6a324e-30a2-4efb-946f-69504eb639f4",
   "metadata": {
    "tags": []
   },
   "outputs": [],
   "source": [
    "# Plot Data\n",
    "fig = tr_functions.default_fig()\n",
    "fig.add_trace(go.Heatmap(x=x_4, y=y_4, z=d4_norm, coloraxis=\"coloraxis\"))\n",
    "fig.add_trace(go.Heatmap(x=x_3, y=y_3, z=d_3, coloraxis=\"coloraxis\"))\n",
    "fig.add_trace(go.Heatmap(x=x_11, y=y_11, z=d11_norm, coloraxis=\"coloraxis\"))\n",
    "fig.update_coloraxes(colorscale=\"plasma\", showscale=True, cmin=0, cmax=None)\n",
    "fig.update_layout(xaxis_range=(37.81, 38.11))"
   ]
  },
  {
   "cell_type": "code",
   "execution_count": null,
   "id": "1615de71-1d99-462b-8808-14e0f5460595",
   "metadata": {
    "tags": []
   },
   "outputs": [],
   "source": [
    "# # figure out ylims to eliminate d=0 padding --> bottom\n",
    "# np.where(np.isclose(y_4, 2.2528)), np.where(np.isclose(y_3, 1.8028)), np.where(\n",
    "#     np.isclose(y_11, 1.35281)\n",
    "# )"
   ]
  },
  {
   "cell_type": "code",
   "execution_count": null,
   "id": "49f3404a-d45d-478c-9545-ab7bf8495bb4",
   "metadata": {
    "tags": []
   },
   "outputs": [],
   "source": [
    "# # figure out ylims to eliminate d=0 padding --> top_\n",
    "# np.where(np.isclose(y_4, 2.9479)), np.where(np.isclose(y_3, 2.4979)), np.where(\n",
    "#     np.isclose(y_11, 2.0479)\n",
    "# ),"
   ]
  },
  {
   "cell_type": "code",
   "execution_count": null,
   "id": "602cd99f-6159-48fb-a260-e9028b426378",
   "metadata": {
    "tags": []
   },
   "outputs": [],
   "source": [
    "# give equivalent x axes\n",
    "\n",
    "xlim = (37.81, 38.11)\n",
    "\n",
    "x4, y4, d4 = analysis_functions.limit_dataset(x_4, y_4, d4_norm, xlim=xlim, ylim=None)\n",
    "x3, y3, d3 = analysis_functions.limit_dataset(x_3, y_3, d_3, xlim=xlim, ylim=None)\n",
    "x11, y11, d11 = analysis_functions.limit_dataset(\n",
    "    x_11, y_11, d11_norm, xlim=xlim, ylim=None\n",
    ")"
   ]
  },
  {
   "cell_type": "code",
   "execution_count": null,
   "id": "446fc205-fd2b-455c-9cd4-e4bd6e8efa1b",
   "metadata": {
    "tags": []
   },
   "outputs": [],
   "source": [
    "# Plot TR4\n",
    "fig = tr_functions.default_fig()\n",
    "fig.add_trace(go.Heatmap(x=x4, y=y4, z=d4, coloraxis=\"coloraxis\"))\n",
    "fig.update_coloraxes(colorscale=\"greys\", showscale=True)  # greys\n",
    "\n",
    "# # Plot Data\n",
    "# fig, ax = plotting_functions.plot_2D_mpl(\n",
    "#     x=x,\n",
    "#     y=y,\n",
    "#     data=d,\n",
    "#     xlabel=\"delay\",\n",
    "#     ylabel=\"energy\",\n",
    "#     title=f\"TR4\",\n",
    "#     # cmap=\"gray\",\n",
    "#     cmap=\"Blues\",\n",
    "#     vmin=0,\n",
    "#     vmax=1,\n",
    "# )"
   ]
  },
  {
   "cell_type": "code",
   "execution_count": null,
   "id": "1ec05e7e-a1bf-4c70-84e9-f0ec28e0abbc",
   "metadata": {
    "tags": []
   },
   "outputs": [],
   "source": [
    "# Plot TR3\n",
    "fig = tr_functions.default_fig()\n",
    "fig.add_trace(go.Heatmap(x=x3, y=y3, z=d3, coloraxis=\"coloraxis\"))\n",
    "fig.update_coloraxes(colorscale=\"plasma\", showscale=False, cmin=0, cmax=0.4)"
   ]
  },
  {
   "cell_type": "code",
   "execution_count": null,
   "id": "a1ad1edb-3f5b-40f8-936d-f14277c6548b",
   "metadata": {
    "tags": []
   },
   "outputs": [],
   "source": [
    "# Plot TR11\n",
    "fig = tr_functions.default_fig()\n",
    "fig.add_trace(go.Heatmap(x=x11, y=y11, z=d11, coloraxis=\"coloraxis\"))\n",
    "fig.update_coloraxes(colorscale=\"plasma\", showscale=True)  # can set cmin & cmax here\n",
    "fig.show()\n",
    "\n",
    "print(d11.shape)"
   ]
  },
  {
   "cell_type": "code",
   "execution_count": null,
   "id": "8fab91c2-bce3-4a69-9a07-31237ba4805c",
   "metadata": {
    "tags": []
   },
   "outputs": [],
   "source": [
    "## Linearly interpolate x11 to match resolution of TR3 and TR4 ##\n",
    "\n",
    "x, y, d = x11, y11, d11\n",
    "\n",
    "new_d = tr_functions.interpolate_dataset(x, y, d, xref=x3)\n",
    "\n",
    "fig = tr_functions.default_fig()\n",
    "fig.add_trace(go.Heatmap(x=x3, y=y, z=new_d))\n",
    "fig.show()\n",
    "\n",
    "print(new_d.shape)"
   ]
  },
  {
   "cell_type": "code",
   "execution_count": null,
   "id": "6bf99d96-4464-429c-95e4-b2d10a151596",
   "metadata": {
    "tags": []
   },
   "outputs": [],
   "source": [
    "### If I didn't linearly interporlate, I would need to bin the data of TR3 and TR4 to match the time resolution of TR11 ###"
   ]
  },
  {
   "cell_type": "code",
   "execution_count": null,
   "id": "41c71275-cb5f-4c87-95b6-b4b647e8926f",
   "metadata": {
    "tags": []
   },
   "outputs": [],
   "source": [
    "## Bin TR3 and TR4 ##\n",
    "\n",
    "# # TR4\n",
    "# x_bin = 2\n",
    "# y_bin = 1\n",
    "\n",
    "# d4_bin = misc_functions.bin_data(data=d4, bin_x=x_bin, bin_y=y_bin)\n",
    "# x4_bin = misc_functions.bin_data(data=x4, bin_x=x_bin)\n",
    "# y4_bin = misc_functions.bin_data(data=y4, bin_x=y_bin)\n",
    "\n",
    "# # TR3\n",
    "# x_bin = 2\n",
    "# y_bin = 1\n",
    "\n",
    "# d3_bin = misc_functions.bin_data(data=d3, bin_x=x_bin, bin_y=y_bin)\n",
    "# x3_bin = misc_functions.bin_data(data=x3, bin_x=x_bin)\n",
    "# y3_bin = misc_functions.bin_data(data=y3, bin_x=y_bin)\n",
    "\n",
    "# d4_bin.shape, d3_bin.shape, d11.shape"
   ]
  },
  {
   "cell_type": "code",
   "execution_count": null,
   "id": "622e9782-7ec9-41d0-8764-f150e807cc31",
   "metadata": {
    "tags": []
   },
   "outputs": [],
   "source": [
    "## Plot binned data ##\n",
    "\n",
    "# x, y, d = x4_bin, y4_bin, d4_bin\n",
    "# # x, y, d = x3_bin, y3_bin, d3_bin\n",
    "# # x, y, d = x11, y11, d11\n",
    "\n",
    "# # Plot Data\n",
    "# fig = tr_functions.default_fig()\n",
    "# fig.add_trace(\n",
    "#     go.Heatmap(x=x, y=y, z=d, coloraxis=\"coloraxis\")  # can set zmin & zmax here\n",
    "# )\n",
    "# fig.update_coloraxes(colorscale=\"greys\", showscale=False)"
   ]
  },
  {
   "cell_type": "code",
   "execution_count": null,
   "id": "7d6e6ae2-d275-4695-a8b5-e6c5d4ebaed4",
   "metadata": {
    "tags": []
   },
   "outputs": [],
   "source": [
    "# # Plot Stitched Data (Binned)\n",
    "\n",
    "# x, y, data = stitch_2_datasets(d4_bin, x4_bin, y4_bin, d3_bin, x3_bin, y3_bin)\n",
    "\n",
    "# fig = tr_functions.default_fig()\n",
    "# fig.add_trace(\n",
    "#     go.Heatmap(x=x, y=y, z=data, coloraxis=\"coloraxis\")\n",
    "#     # np.log(data)\n",
    "# )\n",
    "# fig.update_coloraxes(\n",
    "#     colorscale=\"plasma\", showscale=False, cmin=0, cmax=0.3\n",
    "# )  # cmin=0, cmax=0.3\n",
    "\n",
    "# # fig, ax = plt.subplots(1)\n",
    "# # ax.pcolormesh(x, y, data, shading=\"auto\", cmap=\"plasma\", vmin=0, vmax=0.3)"
   ]
  },
  {
   "cell_type": "code",
   "execution_count": null,
   "id": "217a4d82-319c-4dc2-9046-561da78d9bf3",
   "metadata": {
    "tags": []
   },
   "outputs": [],
   "source": [
    "## Plot Stitched Datasets (linearly interpolated): Step 1 ##\n",
    "\n",
    "x_s1, y_s1, data_s1 = tr_functions.stitch_2_datasets(d4, x4, y4, d3, x3, y3)\n",
    "print(data.shape)\n",
    "\n",
    "time_zero = 37.95\n",
    "x_s1 = ((x_s1 - time_zero) * 1e-3 * 2) / (3e8)\n",
    "\n",
    "# Plot Data\n",
    "fig = tr_functions.default_fig()\n",
    "fig.add_trace(\n",
    "    go.Heatmap(x=x_s1, y=y_s1, z=data_s1, coloraxis=\"coloraxis\")\n",
    "    # np.log(data)\n",
    ")\n",
    "fig.update_coloraxes(colorscale=\"plasma\", showscale=True, cmin=0, cmax=0.8)\n",
    "\n",
    "fig.update_layout(\n",
    "    title=f\"TR3 & TR4: Backgrounds normalized and stitched\",\n",
    "    xaxis_title=\"delay\",\n",
    "    yaxis_title=\"energy (eV)\",\n",
    ")\n",
    "\n",
    "# fig.update_layout(\n",
    "#     width=600,\n",
    "#     height=600,\n",
    "#     autosize=False,\n",
    "# )\n",
    "\n",
    "# fig.write_image(r'C:\\Users\\atully\\OneDrive\\Physics.UBC\\TR-ARPES\\Data\\TR3&TR4_plasma.png')"
   ]
  },
  {
   "cell_type": "code",
   "execution_count": null,
   "id": "6557f3c5-f6f4-4cd6-b749-b0a257d405a7",
   "metadata": {
    "tags": []
   },
   "outputs": [],
   "source": [
    "## Plot Stitched Datasets (linearly interpolated): Step 2 ##\n",
    "\n",
    "x_s2, y_s2, data_s2 = tr_functions.stitch_2_datasets(\n",
    "    new_d, x3, y11, data_s1, x_s1, y_s1\n",
    ")\n",
    "\n",
    "# Plot Data\n",
    "fig = tr_functions.default_fig()\n",
    "fig.add_trace(\n",
    "    go.Heatmap(x=x_s2, y=y_s2, z=data_s2, coloraxis=\"coloraxis\")\n",
    "    # np.log(data)\n",
    ")\n",
    "fig.update_coloraxes(colorscale=\"plasma\", showscale=True, cmin=0, cmax=1.8)"
   ]
  },
  {
   "cell_type": "markdown",
   "id": "d0356e60-f6fd-4d5d-aa44-f550b0f4b89b",
   "metadata": {},
   "source": [
    "# Fit for EF"
   ]
  },
  {
   "cell_type": "markdown",
   "id": "ad45a4a8-c9d8-4013-8ff3-d046cb861c2a",
   "metadata": {},
   "source": [
    "Fermi-Dirac function: $f(E) = \\frac{1}{2}[1 - tanh(\\frac{1}{2}\\beta(E-\\mu))]$ \n",
    "\n",
    "Note it is symmetric around $E=\\mu$\n",
    "\n",
    "$\\beta = \\frac{1}{k_BT}$"
   ]
  },
  {
   "cell_type": "code",
   "execution_count": null,
   "id": "1875cf87-e79a-4113-b0e1-2267088f5dbf",
   "metadata": {
    "tags": []
   },
   "outputs": [],
   "source": [
    "k_B = 8.617333e-5  # eV/K"
   ]
  },
  {
   "cell_type": "code",
   "execution_count": null,
   "id": "b05b05c2-000d-4b00-936d-53854e9450dd",
   "metadata": {
    "tags": []
   },
   "outputs": [],
   "source": [
    "k_B * 10.6"
   ]
  },
  {
   "cell_type": "code",
   "execution_count": null,
   "id": "f337d6f4-3745-4fb1-8626-a3555830c68b",
   "metadata": {
    "tags": []
   },
   "outputs": [],
   "source": [
    "xlim = None\n",
    "ylim = (1.85, 2.5)\n",
    "\n",
    "y_1d, col = tr_functions.get_1d_x_slice(\n",
    "    x=x_2d,\n",
    "    y=y_2d,\n",
    "    data=d,\n",
    "    ylims=ylim,\n",
    "    x_range=xlim,\n",
    ")\n",
    "\n",
    "# Plot Data\n",
    "fig = tr_functions.default_fig()\n",
    "fig.add_trace(go.Scatter(x=y_1d, y=col, name=\"data\"))\n",
    "fig.update_layout(\n",
    "    title=f\"Time integration limits: {xlim}\",\n",
    "    xaxis_title=\"Energy\",\n",
    "    yaxis_title=\"Intensity (arb. u)\",\n",
    ")"
   ]
  },
  {
   "cell_type": "code",
   "execution_count": null,
   "id": "7ad1740f-418f-402b-b187-d6f9c928a222",
   "metadata": {
    "tags": []
   },
   "outputs": [],
   "source": [
    "import lmfit as lm\n",
    "\n",
    "# gauss1 = lm.models.GaussianModel(prefix=\"A_\")\n",
    "# gauss2 = lm.models.GaussianModel(prefix=\"B_\")\n",
    "\n",
    "gauss1 = fitting_functions.make_gaussian(num=\"A\", amplitude=1, center=1.65, sigma=0.5)\n",
    "gauss2 = fitting_functions.make_gaussian(num=\"B\", amplitude=1, center=2.05, sigma=0.5)\n",
    "\n",
    "\n",
    "# ADD LINEAR OFFSET\n",
    "def fermi(x, center, theta, amp):\n",
    "    \"\"\"CHECK THIS\"\"\"\n",
    "    arg = (x - center) / (2 * theta)  # x=E, center=mu, theta = k_B * T\n",
    "    return -amp / 2 * np.tanh(arg)\n",
    "\n",
    "\n",
    "fermi_model = lm.models.Model(fermi)\n",
    "\n",
    "full_model = gauss1 + gauss2 + fermi_model\n",
    "# full_model = fermi_model + gauss2\n",
    "params = full_model.make_params()\n",
    "\n",
    "# params[\"A_center\"].value = 1.6\n",
    "# params[\"B_center\"].value = 2.0\n",
    "\n",
    "params[\"center\"].value = 1.8\n",
    "# params[\"theta\"].value = 0.1\n",
    "params[\"theta\"].value = k_B * (10.6)\n",
    "params[\"amp\"].value = 1\n",
    "\n",
    "\n",
    "fit = full_model.fit(col, x=y_1d, params=params)\n",
    "fit.plot()"
   ]
  },
  {
   "cell_type": "code",
   "execution_count": null,
   "id": "b1dc9c2d-9d9d-49c9-adbb-80bb11b37b71",
   "metadata": {
    "tags": []
   },
   "outputs": [],
   "source": [
    "fit"
   ]
  }
 ],
 "metadata": {
  "kernelspec": {
   "display_name": "Python 3 (ipykernel)",
   "language": "python",
   "name": "python3"
  },
  "language_info": {
   "codemirror_mode": {
    "name": "ipython",
    "version": 3
   },
   "file_extension": ".py",
   "mimetype": "text/x-python",
   "name": "python",
   "nbconvert_exporter": "python",
   "pygments_lexer": "ipython3",
   "version": "3.8.12"
  }
 },
 "nbformat": 4,
 "nbformat_minor": 5
}
