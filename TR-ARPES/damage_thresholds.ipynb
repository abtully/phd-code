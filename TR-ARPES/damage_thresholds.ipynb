{
 "cells": [
  {
   "cell_type": "markdown",
   "id": "3ff2997b-a5b5-4a32-891a-00aac86f7400",
   "metadata": {
    "tags": []
   },
   "source": [
    "## Imports"
   ]
  },
  {
   "cell_type": "code",
   "execution_count": null,
   "id": "12c13cd3-01c6-4841-963e-73cb2dc01fd8",
   "metadata": {
    "tags": []
   },
   "outputs": [],
   "source": [
    "%load_ext lab_black\n",
    "\n",
    "import h5py\n",
    "import os\n",
    "import numpy as np\n",
    "from typing import Dict, List, Optional, Tuple\n",
    "\n",
    "from dataclasses import dataclass\n",
    "from tqdm.auto import tqdm\n",
    "from scipy.signal import savgol_filter\n",
    "from scipy.interpolate import interp2d\n",
    "from functools import lru_cache\n",
    "\n",
    "\n",
    "import plotly.graph_objects as go\n",
    "import plotly.colors as pc\n",
    "import matplotlib.pyplot as plt\n",
    "\n",
    "\n",
    "import sys\n",
    "\n",
    "sys.path.append(r\"C:\\Users\\atully\\Code\\GitHub\\ARPES Code\\arpes-code-python\")\n",
    "from arpes_functions import (\n",
    "    fitting_functions,\n",
    "    analysis_functions,\n",
    "    plotting_functions,\n",
    "    HDF5_loader,\n",
    "    misc_functions,\n",
    "    filter_functions,\n",
    "    tr_functions,\n",
    "    loading_functions,\n",
    "    kw_data_loader,\n",
    "    cnn,\n",
    "    polygons,\n",
    ")\n",
    "\n",
    "colors = pc.qualitative.D3\n",
    "angstrom = \"\\u212B\"\n",
    "Theta = \"\\u0398\"\n",
    "phi = \"\\u03C6\""
   ]
  },
  {
   "cell_type": "markdown",
   "id": "8420489a-0cd7-40e6-8a3a-bc81638b6e8c",
   "metadata": {
    "tags": []
   },
   "source": [
    "# Convert Data"
   ]
  },
  {
   "cell_type": "code",
   "execution_count": null,
   "id": "4d8fceb9-f96f-4d93-bd55-5da1fa0b93fb",
   "metadata": {
    "tags": []
   },
   "outputs": [],
   "source": [
    "## Convert K corrected .ibw data to .h5 ##\n",
    "\n",
    "ddir = r\"E:\\atully\\arpes_data\\2022_April\\ARPES\\C60\\averaged_data\"\n",
    "\n",
    "# STEP 1 ##\n",
    "# Convert ibw to hdf5\n",
    "fn = \"FS5_avg.ibw\"\n",
    "HDF5_loader.ibw_to_hdf5(ddir, fn, export=True)\n",
    "\n",
    "# Check conversion worked\n",
    "data, kx, ky, energy = HDF5_loader.load_hdf5(ddir, \"FS5_avg.h5\")  # load data from hdf5\n",
    "data.shape, kx.shape, ky.shape, energy.shape"
   ]
  },
  {
   "cell_type": "markdown",
   "id": "949b3987-7ea4-43be-8bc3-be4660c32484",
   "metadata": {},
   "source": [
    "# Load Data"
   ]
  },
  {
   "cell_type": "code",
   "execution_count": null,
   "id": "093317bb-72cd-4a63-95fb-f7aed618731f",
   "metadata": {
    "tags": []
   },
   "outputs": [],
   "source": [
    "files = []\n",
    "files = [\"FS5_avg.h5\"]\n",
    "\n",
    "ARPES_DATA: Dict[str, tr_functions.ArpesData] = {}\n",
    "ARPES_ATTRS: Dict[str, tr_functions.ArpesAttrs] = {}\n",
    "for file in tqdm(files):\n",
    "    data, kx, ky, energy = loading_functions.load_hdf5(ddir, file)\n",
    "    ARPES_DATA[file] = tr_functions.ArpesData(\n",
    "        data=data, theta=kx, phi_or_time=ky, energy=energy\n",
    "    )\n",
    "    ARPES_ATTRS[file] = tr_functions.load_attrs_hdf5(ddir, file)\n",
    "\n",
    "ad = ARPES_DATA[files[0]]"
   ]
  },
  {
   "cell_type": "code",
   "execution_count": null,
   "id": "2ad3eaef-c845-41ea-bf46-ea361a08f4f7",
   "metadata": {},
   "outputs": [],
   "source": [
    "slice_val = 17.7\n",
    "\n",
    "slice_dim = \"y\"\n",
    "int_range = 0.1\n",
    "xlim = (-21, 17)\n",
    "# xlim = None\n",
    "ylim = None\n",
    "x_bin = 1\n",
    "y_bin = 1"
   ]
  },
  {
   "cell_type": "code",
   "execution_count": null,
   "id": "69313ddc-6c9e-4e07-b77e-d4554f75764a",
   "metadata": {
    "tags": []
   },
   "outputs": [],
   "source": [
    "title = f\"Damaged Film: (E<sub>B</sub> = {np.round(slice_val - 18.4, 1)} eV)\"\n",
    "yaxis_title = f\"{phi}\"\n",
    "xaxis_title = f\"{Theta}\""
   ]
  },
  {
   "cell_type": "code",
   "execution_count": null,
   "id": "eb6c2e45-d6fb-4d41-ad64-5d1a0fcf70d9",
   "metadata": {
    "tags": []
   },
   "outputs": [],
   "source": [
    "## Get Slices ##\n",
    "\n",
    "x, y, d = tr_functions.slice_datacube(\n",
    "    ad_dataclass=ad,\n",
    "    slice_dim=slice_dim,\n",
    "    slice_val=slice_val,\n",
    "    int_range=int_range,\n",
    "    xlim=xlim,\n",
    "    ylim=ylim,\n",
    "    x_bin=x_bin,\n",
    "    y_bin=y_bin,\n",
    "    norm_data=True,\n",
    "    plot_data=False,\n",
    ")"
   ]
  },
  {
   "cell_type": "code",
   "execution_count": null,
   "id": "5ad10c4f-a822-4c8e-aacf-e52c44f28fef",
   "metadata": {
    "tags": []
   },
   "outputs": [],
   "source": [
    "## Plot Data ##\n",
    "\n",
    "x_plot, y_plot, d_plot = x, y, d\n",
    "\n",
    "fig = tr_functions.thesis_fig(\n",
    "    title=title,\n",
    "    xaxis_title=xaxis_title,\n",
    "    yaxis_title=yaxis_title,\n",
    "    equiv_axes=False,\n",
    "    height=500,\n",
    "    width=500,\n",
    ")\n",
    "\n",
    "fig.add_trace(\n",
    "    go.Heatmap(\n",
    "        x=x_plot,\n",
    "        y=y_plot,\n",
    "        z=analysis_functions.norm_data(d_plot),\n",
    "        coloraxis=\"coloraxis\",\n",
    "    )\n",
    ")\n",
    "\n",
    "fig.update_coloraxes(cmin=0, cmax=1)\n",
    "# fig.update_coloraxes(colorscale=\"Blues\", reversescale=False)\n",
    "\n",
    "fig.show()"
   ]
  },
  {
   "cell_type": "code",
   "execution_count": null,
   "id": "f405816a-d6ce-4a86-bf13-7e1ea95dcee3",
   "metadata": {},
   "outputs": [],
   "source": []
  }
 ],
 "metadata": {
  "kernelspec": {
   "display_name": "Python 3 (ipykernel)",
   "language": "python",
   "name": "python3"
  },
  "language_info": {
   "codemirror_mode": {
    "name": "ipython",
    "version": 3
   },
   "file_extension": ".py",
   "mimetype": "text/x-python",
   "name": "python",
   "nbconvert_exporter": "python",
   "pygments_lexer": "ipython3",
   "version": "3.8.12"
  }
 },
 "nbformat": 4,
 "nbformat_minor": 5
}
