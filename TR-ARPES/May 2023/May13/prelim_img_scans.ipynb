{
 "cells": [
  {
   "cell_type": "markdown",
   "id": "3ff2997b-a5b5-4a32-891a-00aac86f7400",
   "metadata": {
    "tags": []
   },
   "source": [
    "## Imports"
   ]
  },
  {
   "cell_type": "code",
   "execution_count": null,
   "id": "12c13cd3-01c6-4841-963e-73cb2dc01fd8",
   "metadata": {
    "tags": []
   },
   "outputs": [],
   "source": [
    "%load_ext lab_black\n",
    "\n",
    "import h5py\n",
    "import os\n",
    "\n",
    "from dataclasses import dataclass\n",
    "from tqdm.auto import tqdm\n",
    "from scipy.signal import savgol_filter\n",
    "from scipy.interpolate import interp2d\n",
    "from functools import lru_cache\n",
    "import lmfit as lm\n",
    "\n",
    "from typing import Dict, List, Optional, Tuple\n",
    "import numpy as np\n",
    "import plotly.graph_objects as go\n",
    "import plotly.colors as pc\n",
    "import matplotlib.pyplot as plt\n",
    "\n",
    "\n",
    "import sys\n",
    "\n",
    "sys.path.append(r\"C:\\Users\\atully\\Code\\GitHub\\ARPES Code\\arpes-code-python\")\n",
    "from arpes_functions import (\n",
    "    fitting_functions,\n",
    "    analysis_functions,\n",
    "    plotting_functions,\n",
    "    HDF5_loader,\n",
    "    misc_functions,\n",
    "    filter_functions,\n",
    "    tr_functions,\n",
    "    loading_functions,\n",
    "    cnn,\n",
    ")\n",
    "\n",
    "colors = pc.qualitative.D3\n",
    "colors_seq = pc.sequential.dense\n",
    "angstrom = \"\\u212B\"\n",
    "Theta = \"\\u0398\""
   ]
  },
  {
   "cell_type": "markdown",
   "id": "8420489a-0cd7-40e6-8a3a-bc81638b6e8c",
   "metadata": {
    "tags": []
   },
   "source": [
    "# Load Data"
   ]
  },
  {
   "cell_type": "code",
   "execution_count": null,
   "id": "884e3129-07bc-419f-933f-5db432d4454e",
   "metadata": {
    "tags": []
   },
   "outputs": [],
   "source": [
    "# ## Convert lamp data ##\n",
    "\n",
    "# ddir = r\"E:\\atully\\arpes_data\\2023_February\\Lamp\"\n",
    "\n",
    "# # STEP 1 ##\n",
    "# # Convert ibw to hdf5\n",
    "# fn = \"Img7_Lamp_g_kw.ibw\"\n",
    "# HDF5_loader.ibw_to_hdf5(ddir, fn, export=True)\n",
    "\n",
    "# # Check conversion worked\n",
    "# data, theta, energy = HDF5_loader.load_hdf5(\n",
    "#     ddir, \"Img7_Lamp_g_kw.h5\"\n",
    "# )  # load data from hdf5\n",
    "# data.shape, theta.shape, energy.shape"
   ]
  },
  {
   "cell_type": "code",
   "execution_count": null,
   "id": "6b752c21-1856-4865-b4e3-fbd355c1857a",
   "metadata": {
    "tags": []
   },
   "outputs": [],
   "source": [
    "# ## Average datasets\n",
    "# files = []\n",
    "# files = [\"Img55.h5\", \"Img56.h5\"]\n",
    "\n",
    "# def average_imgs(ddir, files):\n",
    "#     all_vals = []\n",
    "#     for file in files:\n",
    "#         data, theta, energy = loading_functions.load_hdf5(ddir, file)\n",
    "#         all_vals.append(analysis_functions.limit_dataset(theta, energy, data, xlim, ylim))\n",
    "\n",
    "#     x_1, y_1, d_1 = all_vals[0]\n",
    "#     x_2, y_2, d_2 = all_vals[1]\n",
    "#     data_avg = np.mean([d_1, d_2], axis=0)\n",
    "#     return x_1, y_1, data_avg\n",
    "# # print(data_avg.shape)"
   ]
  },
  {
   "cell_type": "code",
   "execution_count": null,
   "id": "795b1166-de59-468d-828f-757c6df59719",
   "metadata": {
    "tags": []
   },
   "outputs": [],
   "source": [
    "def average_imgs(ddir, files, new_filename=None, xlim=None, ylim=None):\n",
    "    all_vals = []\n",
    "    for file in files:\n",
    "        data, theta, energy = loading_functions.load_hdf5(ddir, file)\n",
    "        all_vals.append(\n",
    "            analysis_functions.limit_dataset(theta, energy, data, xlim=xlim, ylim=ylim)\n",
    "        )\n",
    "\n",
    "    x_vals, y_vals, d_vals = zip(*all_vals)\n",
    "    data_avg = np.mean(d_vals, axis=0)\n",
    "\n",
    "    # new_data = data_avg\n",
    "\n",
    "    # new_fn = os.path.join(ddir, new_filename)\n",
    "\n",
    "    # with h5py.File(\n",
    "    #     new_fn, \"w\"\n",
    "    # ) as f:  # Note: 'w' creates a new empty file (or overwrites), use 'r+' to modify an existing file\n",
    "    #     f[\"data\"] = new_data.T\n",
    "    #     axes_names = [\n",
    "    #         \"angles\",\n",
    "    #         \"energies\",\n",
    "    #     ]  # Change these to match your axes labels\n",
    "    #     axes = [theta, energy]\n",
    "    #     for axis, name in zip(axes, axes_names):\n",
    "    #         f[name] = np.atleast_2d(axis).T\n",
    "    #     entry_group = f.require_group(\"entry1\")\n",
    "    #     entry_group[\"ScanValues\"] = np.atleast_2d(phi_or_time).T\n",
    "    # return new_fn\n",
    "    return x_vals[0], y_vals[0], data_avg"
   ]
  },
  {
   "cell_type": "code",
   "execution_count": null,
   "id": "48026284-f006-48ce-bad9-eda784a0efb5",
   "metadata": {
    "tags": []
   },
   "outputs": [],
   "source": []
  },
  {
   "cell_type": "markdown",
   "id": "056e7d8a-6396-4237-b7a5-a8572f1c017f",
   "metadata": {},
   "source": [
    "# Initial Parameters"
   ]
  },
  {
   "cell_type": "code",
   "execution_count": null,
   "id": "d7c54cd7-c2cc-4a73-97e8-57ce55eb2b92",
   "metadata": {
    "tags": []
   },
   "outputs": [],
   "source": [
    "# title = f\"C<sub>60</sub> Pumped Dispersion\"\n",
    "# xaxis_title=f\"k<sub>x</sub> [{angstrom}<sup>-1</sup>]\",\n",
    "xaxis_title = f\"{Theta}\"\n",
    "yaxis_title = f\"E<sub>K</sub> (eV)\""
   ]
  },
  {
   "cell_type": "code",
   "execution_count": null,
   "id": "5fad5455-6603-451d-8de4-6c532fef20fc",
   "metadata": {
    "tags": []
   },
   "outputs": [],
   "source": [
    "# time_zero = 37.79  # May13\n",
    "time_zero = 37.8  # May14"
   ]
  },
  {
   "cell_type": "code",
   "execution_count": null,
   "id": "6edda92d-cf90-4e15-9a4e-a8a796efc052",
   "metadata": {
    "tags": []
   },
   "outputs": [],
   "source": [
    "print(f\"Positive delay: {np.round(tr_functions.mm_to_ps(37.85, time_zero), 2)} ps\")"
   ]
  },
  {
   "cell_type": "markdown",
   "id": "7187a311-c765-4a4c-9ad5-ffbbb0c148b8",
   "metadata": {},
   "source": [
    "# Single Dataset"
   ]
  },
  {
   "cell_type": "code",
   "execution_count": null,
   "id": "0c00fd6a-301a-4bfa-8b33-f3881cbe9a63",
   "metadata": {
    "tags": []
   },
   "outputs": [],
   "source": [
    "ddir = r\"E:\\atully\\arpes_data\\2023_May\\May13\\C60\\Imgs\"\n",
    "\n",
    "## HS Scans\n",
    "file_dict = {\n",
    "    \"Img49.h5\": \"G-K, 0.4 ps\",  # CT1  --> img58 is a duplicate of img49 for higher stats, but also to compare with img58 to make sure nothing has changed\n",
    "    \"Img48.h5\": \"G-K, zero delay\",  # CT2\n",
    "    \"Img50.h5\": \"G-K, -5 ps\",  # CT1\n",
    "    \"Img51.h5\": \"G-K, -5 ps\",  # CT2\n",
    "    \"Img52.h5\": \"G-K, zero delay\",  # CT1/CT2\n",
    "    \"Img53.h5\": \"K'-G, 0.4 ps\",  # CT1\n",
    "    \"Img54.h5\": \"K'-G, zero delay\",  # CT2\n",
    "    \"Img55.h5\": \"K-M-K, 0.4 ps\",  # CT1  --> img56 is a dupicate of img55 for higher stats\n",
    "    \"Img57.h5\": \"K-M-K, -5 ps\",  # CT1\n",
    "}"
   ]
  },
  {
   "cell_type": "code",
   "execution_count": null,
   "id": "e4a761c5-7bc2-4037-85b5-d0c63fad9924",
   "metadata": {
    "tags": []
   },
   "outputs": [],
   "source": [
    "## FFT + Limit Data ##\n",
    "\n",
    "ddir = r\"E:\\atully\\arpes_data\\2023_May\\May13\\C60\\Imgs\"\n",
    "\n",
    "## HS of G - K (pos delay)\n",
    "# filename = \"Img49.h5\"\n",
    "# filename = \"Img72.h5\"\n",
    "# filename = \"Img74.h5\"\n",
    "# title = \"G - K (0.4 ps)\"\n",
    "\n",
    "## HS at G (pos delay)\n",
    "filename = \"Img78.h5\"\n",
    "title = \"G (0.4 ps)\"\n",
    "\n",
    "# filename = \"Img58.h5\"\n",
    "# filename = \"Img59.h5\"  # K'-G at pos delay; mystery cone?\n",
    "# filename = \"Img60.h5\"  # K'-G at neg delay; mystery cone?\n",
    "# filename = \"Img61.h5\"  # K'-G with pump blocked; mystery cone?\n",
    "# filename = \"Img62.h5\"  # centered at G with pump blocked; mystery cone?\n",
    "# filename = \"Img64.h5\"  # centered at G with pump blocked, new sample spot; mystery cone\n",
    "\n",
    "data, theta, energy = HDF5_loader.load_hdf5(ddir, filename)  # load data from hdf5\n",
    "\n",
    "xlim = (-18, 16)\n",
    "ylim = None\n",
    "ylim = (energy[57], energy[1007])  # get rid of zero padding on datasets\n",
    "ylim = (energy[57], 2.5)\n",
    "\n",
    "f_data = filter_functions.fft2d_mask(data, plot=False)\n",
    "\n",
    "x_2d, y_2d, d_2d = analysis_functions.limit_dataset(\n",
    "    theta,\n",
    "    energy,\n",
    "    f_data,\n",
    "    xlim=xlim,\n",
    "    ylim=ylim,\n",
    ")\n",
    "\n",
    "d_2d = analysis_functions.norm_data(d_2d)"
   ]
  },
  {
   "cell_type": "markdown",
   "id": "87a9b952-81ca-43d5-a32c-d333b8411f68",
   "metadata": {},
   "source": [
    "# Averaged Images"
   ]
  },
  {
   "cell_type": "code",
   "execution_count": null,
   "id": "e8b76f28-adf4-47af-b473-938aaf59aaaf",
   "metadata": {
    "tags": []
   },
   "outputs": [],
   "source": [
    "ddir = r\"E:\\atully\\arpes_data\\2023_May\\May13\\C60\\Imgs\"\n",
    "files = []\n",
    "\n",
    "files = [\"Img55.h5\", \"Img56.h5\", \"Img81.h5\"]  # K-M-K' pos delay\n",
    "title = \"K - M - K' (0.4 ps)\"\n",
    "\n",
    "# files = [\"Img49.h5\", \"Img72.h5\", \"Img74.h5\"]  # G-K pos delay\n",
    "# title = \"G - K (0.4 ps)\"\n",
    "\n",
    "theta, energy, data = average_imgs(ddir, files)  # \"avg_imgs_55_56.h5\""
   ]
  },
  {
   "cell_type": "code",
   "execution_count": null,
   "id": "d146bfef-e498-4258-842d-c5116ed42d13",
   "metadata": {
    "tags": []
   },
   "outputs": [],
   "source": [
    "xlim = (-18, 16)\n",
    "ylim = None\n",
    "ylim = (energy[57], energy[1007])  # get rid of zero padding on datasets\n",
    "ylim = (energy[57], 2.5)\n",
    "\n",
    "f_data = filter_functions.fft2d_mask(data, plot=False)\n",
    "\n",
    "x_avg, y_avg, d_avg = analysis_functions.limit_dataset(\n",
    "    theta,\n",
    "    energy,\n",
    "    f_data,\n",
    "    xlim=xlim,\n",
    "    ylim=ylim,\n",
    ")\n",
    "\n",
    "d_avg = analysis_functions.norm_data(d_avg)"
   ]
  },
  {
   "cell_type": "markdown",
   "id": "1a57e175-dc3b-44e7-8217-e78374e44fbd",
   "metadata": {},
   "source": [
    "# Stitched Datasets"
   ]
  },
  {
   "cell_type": "code",
   "execution_count": null,
   "id": "0cc23ab1-ca8d-4a20-a4b3-d503683f57ad",
   "metadata": {
    "tags": []
   },
   "outputs": [],
   "source": [
    "## Stitch and Average Datasets ##\n",
    "\n",
    "files = []\n",
    "files = [\"Img49.h5\", \"Img53.h5\"]\n",
    "title = \"K' - G - K (0.4 ps)\"\n",
    "\n",
    "filename = files[0]\n",
    "data1, theta1, energy1 = HDF5_loader.load_hdf5(ddir, filename)  # load data from hdf5\n",
    "\n",
    "filename = files[1]\n",
    "data2, theta2, energy2 = HDF5_loader.load_hdf5(ddir, filename)  # load data from hdf5\n",
    "\n",
    "\n",
    "xlim = (-18, 16)\n",
    "# xlim = None\n",
    "# ylim = None\n",
    "# ylim = (energy[57], energy[1007])  # get rid of zero padding on datasets\n",
    "# ylim = (energy[57], 2.5)\n",
    "\n",
    "f_data1 = filter_functions.fft2d_mask(data1, plot=False)\n",
    "f_data2 = filter_functions.fft2d_mask(data2, plot=False)\n",
    "\n",
    "x1, y1, dataslice1 = analysis_functions.limit_dataset(\n",
    "    theta1,\n",
    "    energy1,\n",
    "    f_data1,\n",
    "    xlim=xlim,\n",
    "    ylim=(energy1[57], 2.5),\n",
    ")\n",
    "\n",
    "x2, y2, dataslice2 = analysis_functions.limit_dataset(\n",
    "    theta2,\n",
    "    energy2,\n",
    "    f_data2,\n",
    "    xlim=xlim,\n",
    "    ylim=(energy2[57], 2.5),\n",
    ")\n",
    "\n",
    "xs, ys, ds = tr_functions.stitch_and_avg(\n",
    "    x1,\n",
    "    y1,\n",
    "    dataslice1,\n",
    "    x2,\n",
    "    y2,\n",
    "    dataslice2,\n",
    "    no_avg=False,\n",
    ")"
   ]
  },
  {
   "cell_type": "markdown",
   "id": "0ee2489a-8252-43b8-bec5-e4e67ae31cd9",
   "metadata": {},
   "source": [
    "# Plot Data"
   ]
  },
  {
   "cell_type": "code",
   "execution_count": null,
   "id": "e74ab291-b8f7-4399-9145-85e0335be3e4",
   "metadata": {
    "tags": []
   },
   "outputs": [],
   "source": [
    "## Plot Data ##\n",
    "# x, y, data = x_2d, y_2d, d_2d  # single image\n",
    "# x, y, data = xs, ys, ds  # stitched image\n",
    "x, y, data = x_avg, y_avg, d_avg  # averaged image\n",
    "\n",
    "fig = tr_functions.thesis_fig(\n",
    "    # title=f\"{file_dict[filename]}\",\n",
    "    # title=f\"{filename}\",\n",
    "    title=title,\n",
    "    xaxis_title=xaxis_title,\n",
    "    yaxis_title=yaxis_title,\n",
    "    equiv_axes=False,\n",
    ")\n",
    "\n",
    "fig.add_trace(\n",
    "    go.Heatmap(x=x, y=y, z=analysis_functions.norm_data(data), coloraxis=\"coloraxis\")\n",
    ")\n",
    "\n",
    "fig.update_coloraxes(cmin=0, cmax=0.3)\n",
    "\n",
    "fig.show()"
   ]
  },
  {
   "cell_type": "code",
   "execution_count": null,
   "id": "ee386e12-6286-4f63-853e-5814a55719f3",
   "metadata": {
    "tags": []
   },
   "outputs": [],
   "source": [
    "## Get and Plot 1D Data --> EDC ##\n",
    "xlim = None\n",
    "ylim = None\n",
    "\n",
    "fig = tr_functions.thesis_fig(\n",
    "    title=f\"EDC\",\n",
    "    xaxis_title=yaxis_title,\n",
    "    yaxis_title=\"Intensity (arb. u)\",\n",
    "    equiv_axes=False,\n",
    "    gridlines=False,\n",
    "    height=600,\n",
    "    width=1000,\n",
    ")\n",
    "\n",
    "y_1d, col = tr_functions.get_1d_x_slice(x=x, y=y, data=data, ylims=ylim, x_range=xlim)\n",
    "\n",
    "fig.add_trace(go.Scatter(x=y_1d, y=col, line=dict(color=colors[0])))\n",
    "\n",
    "fig.show()\n",
    "\n",
    "## Get and Plot 1D Data --> MDC ##\n",
    "xlim = None\n",
    "ylim = (2.05, 2.2)\n",
    "\n",
    "fig = tr_functions.thesis_fig(\n",
    "    title=f\"MDC\",\n",
    "    xaxis_title=xaxis_title,\n",
    "    yaxis_title=\"Intensity (arb. u)\",\n",
    "    equiv_axes=False,\n",
    "    gridlines=False,\n",
    "    height=600,\n",
    "    width=1000,\n",
    ")\n",
    "\n",
    "x_1d, row = tr_functions.get_1d_y_slice(x=x, y=y, data=data, xlims=xlim, y_range=ylim)\n",
    "\n",
    "fig.add_trace(go.Scatter(x=x_1d, y=row, line=dict(color=colors[0])))\n",
    "\n",
    "fig.show()"
   ]
  },
  {
   "cell_type": "code",
   "execution_count": null,
   "id": "f973568a-1358-48b0-a9b0-3f2ef58ddc1c",
   "metadata": {
    "tags": []
   },
   "outputs": [],
   "source": [
    "x, data = x_1d, row\n",
    "offset_type = \"constant\"\n",
    "\n",
    "## Offset\n",
    "c = np.mean(data)\n",
    "b = (data[-1] - data[0]) / (x[-1] - x[0])\n",
    "a = 0\n",
    "\n",
    "offset = fitting_functions.offset_model(offset_type, a, b, c)\n",
    "\n",
    "# Fit for 2 peaks\n",
    "gauss1 = fitting_functions.make_gaussian(num=\"A_\", amplitude=1, center=-7, sigma=0.1)\n",
    "gauss2 = fitting_functions.make_gaussian(num=\"B_\", amplitude=1, center=5, sigma=0.1)\n",
    "gauss3 = fitting_functions.make_gaussian(num=\"C_\", amplitude=1, center=12, sigma=0.1)\n",
    "\n",
    "## Full model\n",
    "# full_model = gauss1 + gauss2 + offset\n",
    "full_model = gauss1 + gauss2 + gauss3 + offset\n",
    "\n",
    "params = full_model.make_params()\n",
    "params[\"iB__center\"].max = 7.4\n",
    "\n",
    "fit = full_model.fit(data, x=x, params=params)\n",
    "# fit.plot()\n",
    "\n",
    "\n",
    "## Plot Fit ##\n",
    "fig = tr_functions.thesis_fig(\n",
    "    title=f\"MDC\",\n",
    "    xaxis_title=xaxis_title,\n",
    "    yaxis_title=\"Residuals\",\n",
    "    equiv_axes=False,\n",
    "    gridlines=False,\n",
    ")\n",
    "fig.add_trace(go.Scatter(x=x, y=row, name=\"data\", line=dict(color=colors[0])))\n",
    "fig.add_trace(\n",
    "    go.Scatter(\n",
    "        x=x,\n",
    "        y=fit.eval(x=x),\n",
    "        name=\"fit\",\n",
    "        line=dict(color=\"red\"),\n",
    "        opacity=0.5,\n",
    "    )\n",
    ")\n",
    "\n",
    "components = fit.eval_components(x=x)\n",
    "for model_name, model_value in list(components.items())[0:2]:\n",
    "    fig.add_annotation(\n",
    "        x=fit.params[f\"{model_name}center\"].value,\n",
    "        yref=\"y domain\",\n",
    "        y=0.1,\n",
    "        showarrow=False,\n",
    "        text=f'Center: {fit.params[f\"{model_name}center\"].value:.2f} degrees<br>FWHM: {fit.params[f\"{model_name}fwhm\"].value:.2f} degrees',\n",
    "        font=dict(size=18, color=colors[0]),\n",
    "        bgcolor=\"white\",\n",
    "    )\n",
    "\n",
    "fig.show()\n",
    "\n",
    "## Plot Residuals ##\n",
    "fig = tr_functions.thesis_fig(\n",
    "    title=f\"MDC\",\n",
    "    xaxis_title=xaxis_title,\n",
    "    yaxis_title=\"Residuals\",\n",
    "    equiv_axes=False,\n",
    "    gridlines=False,\n",
    "    height=400,\n",
    "    width=900,\n",
    ")\n",
    "\n",
    "fig.add_trace(go.Scatter(x=x, y=row - fit.eval(x=x), name=\"fit\"))\n",
    "fig.add_hline(y=0, line=dict(dash=\"dash\"))"
   ]
  },
  {
   "cell_type": "code",
   "execution_count": null,
   "id": "4f3f4d8e-b8c2-4907-8a3f-0f4aba0fe6da",
   "metadata": {
    "tags": []
   },
   "outputs": [],
   "source": [
    "params"
   ]
  },
  {
   "cell_type": "markdown",
   "id": "690b3ba3-a48c-4115-a420-77c8db7382ab",
   "metadata": {},
   "source": [
    "# Multiple Datset Comparison"
   ]
  },
  {
   "cell_type": "code",
   "execution_count": null,
   "id": "3940aec1-1e59-4f60-ac72-855a519a4379",
   "metadata": {},
   "outputs": [],
   "source": [
    "## Average datasets\n",
    "datas = []\n",
    "datas = [\"Img55.h5\", \"Img56.h5\"]\n",
    "data_avg = np.mean(datas, axis=0)\n",
    "print(data_avg.shape)"
   ]
  },
  {
   "cell_type": "code",
   "execution_count": null,
   "id": "185f5ed4-bda5-4b8b-a657-16bf27c50e0d",
   "metadata": {
    "tags": []
   },
   "outputs": [],
   "source": [
    "ddir = r\"E:\\atully\\arpes_data\\2023_May\\May13\\C60\\Imgs\"\n",
    "\n",
    "## HS scans\n",
    "files = [\n",
    "    \"Img49.h5\",\n",
    "    \"Img48.h5\",\n",
    "    \"Img50.h5\",\n",
    "    \"Img51.h5\",\n",
    "    \"Img52.h5\",\n",
    "    \"Img53.h5\",\n",
    "    \"Img54.h5\",\n",
    "    \"Img55.h5\",\n",
    "]\n",
    "\n",
    "names = [\n",
    "    \"G-K, CT1, 0.4 ps\",\n",
    "    \"G-K, CT2, zero delay\",\n",
    "    \"G-K, CT1, -5 ps\",\n",
    "    \"G-K, CT2, -5 ps\",\n",
    "    \"G-K, CT1/CT2, zero delay\",\n",
    "    \"K'-G, CT1, 0.4 ps\",\n",
    "    \"K'-G, CT2, zero delay\",\n",
    "    \"K-M-K, CT1, 0.4 ps\",\n",
    "]\n",
    "\n",
    "# # data, theta, energy = loading_functions.load_hdf5(ddir, file)"
   ]
  },
  {
   "cell_type": "code",
   "execution_count": null,
   "id": "b0286aa2-97ed-458f-863d-b427126a980e",
   "metadata": {
    "tags": []
   },
   "outputs": [],
   "source": [
    "## Limit Dataset ##\n",
    "\n",
    "xlim = (-18, 16)\n",
    "# ylim = (1.815, 2.44)\n",
    "# ylim = (1.86, 2.49)\n",
    "# ylim = (1.95, 2.3)\n",
    "# xlim = None\n",
    "ylim = None\n",
    "\n",
    "all_vals = []\n",
    "for file in files:\n",
    "    data, theta, energy = loading_functions.load_hdf5(ddir, file)\n",
    "    all_vals.append(analysis_functions.limit_dataset(theta, energy, data, xlim, ylim))\n",
    "\n",
    "# x_1, y_1, d_1 = all_vals[0]\n",
    "# x_8, y_8, d_8 = all_vals[1]\n",
    "\n",
    "# x_13, y_13, d_13 = all_vals[0]\n",
    "# # x_14, y_14, d_14 = all_vals[1]\n",
    "# names = [\n",
    "#     \"CT1\",\n",
    "#     # \"CT2\",\n",
    "# ]\n",
    "\n",
    "# x_1, y_1, d_1 = all_vals[0]\n",
    "# x_8, y_8, d_8 = all_vals[1]\n",
    "# x_12, y_12, d_12 = all_vals[2]\n",
    "\n",
    "# names = [\n",
    "#     \"gamma_k: 1 mW\",\n",
    "#     \"gamma_k: pump blocked\",\n",
    "#     \"gamma_k: 3.75 mW\",\n",
    "# ]"
   ]
  },
  {
   "cell_type": "code",
   "execution_count": null,
   "id": "7bc5ab27-501f-462c-abf3-baa8af8d48ae",
   "metadata": {
    "tags": []
   },
   "outputs": [],
   "source": [
    "## Get and Plot 1D Data --> EDCs & MDCs ##\n",
    "\n",
    "no_scans = 1\n",
    "\n",
    "fig = tr_functions.thesis_fig(\n",
    "    title=f\"EDC\",\n",
    "    xaxis_title=yaxis_title,\n",
    "    yaxis_title=\"Intensity (arb. u)\",\n",
    "    equiv_axes=False,\n",
    "    gridlines=False,\n",
    "    height=600,\n",
    "    width=1000,\n",
    ")\n",
    "\n",
    "for i in range(no_scans):\n",
    "    x, y, d = all_vals[i]\n",
    "    y, col = tr_functions.get_1d_x_slice(x=x, y=y, data=d, ylims=None, x_range=None)\n",
    "\n",
    "    # Plot Data\n",
    "    color = colors[i % len(colors)]\n",
    "    fig.add_trace(go.Scatter(x=y, y=col, name=names[i], line=dict(color=color)))\n",
    "\n",
    "fig.show()\n",
    "\n",
    "## Get and Plot 1D Data --> MDC ##\n",
    "\n",
    "fig = tr_functions.thesis_fig(\n",
    "    title=f\"MDC\",\n",
    "    xaxis_title=xaxis_title,\n",
    "    yaxis_title=\"Intensity (arb. u)\",\n",
    "    equiv_axes=False,\n",
    "    gridlines=False,\n",
    "    height=600,\n",
    "    width=1000,\n",
    ")\n",
    "\n",
    "for i in range(no_scans):\n",
    "    x, y, d = all_vals[i]\n",
    "    x, row = tr_functions.get_1d_y_slice(\n",
    "        x=x, y=y, data=analysis_functions.norm_data(d), xlims=None, y_range=None\n",
    "    )\n",
    "\n",
    "    # Plot Data\n",
    "    color = colors[i % len(colors)]\n",
    "    fig.add_trace(go.Scatter(x=x, y=row, name=names[i], line=dict(color=color)))\n",
    "\n",
    "fig.update_layout(showlegend=True)\n",
    "\n",
    "fig.show()"
   ]
  },
  {
   "cell_type": "code",
   "execution_count": null,
   "id": "121cdde4-0a63-4993-85c7-65e1095b7d25",
   "metadata": {},
   "outputs": [],
   "source": []
  }
 ],
 "metadata": {
  "kernelspec": {
   "display_name": "Python 3 (ipykernel)",
   "language": "python",
   "name": "python3"
  },
  "language_info": {
   "codemirror_mode": {
    "name": "ipython",
    "version": 3
   },
   "file_extension": ".py",
   "mimetype": "text/x-python",
   "name": "python",
   "nbconvert_exporter": "python",
   "pygments_lexer": "ipython3",
   "version": "3.8.12"
  }
 },
 "nbformat": 4,
 "nbformat_minor": 5
}
