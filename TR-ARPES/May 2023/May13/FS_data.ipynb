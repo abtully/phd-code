{
 "cells": [
  {
   "cell_type": "markdown",
   "id": "3ff2997b-a5b5-4a32-891a-00aac86f7400",
   "metadata": {
    "tags": []
   },
   "source": [
    "## Imports"
   ]
  },
  {
   "cell_type": "code",
   "execution_count": null,
   "id": "12c13cd3-01c6-4841-963e-73cb2dc01fd8",
   "metadata": {
    "tags": []
   },
   "outputs": [],
   "source": [
    "%load_ext lab_black\n",
    "\n",
    "import h5py\n",
    "import os\n",
    "import numpy as np\n",
    "from typing import Dict, List, Optional, Tuple\n",
    "\n",
    "from dataclasses import dataclass\n",
    "from tqdm.auto import tqdm\n",
    "from scipy.signal import savgol_filter\n",
    "from scipy.interpolate import interp2d\n",
    "from functools import lru_cache\n",
    "\n",
    "\n",
    "import plotly.graph_objects as go\n",
    "import plotly.colors as pc\n",
    "import matplotlib.pyplot as plt\n",
    "\n",
    "\n",
    "import sys\n",
    "\n",
    "sys.path.append(r\"C:\\Users\\atully\\Code\\GitHub\\ARPES Code\\arpes-code-python\")\n",
    "from arpes_functions import (\n",
    "    fitting_functions,\n",
    "    analysis_functions,\n",
    "    plotting_functions,\n",
    "    HDF5_loader,\n",
    "    misc_functions,\n",
    "    filter_functions,\n",
    "    tr_functions,\n",
    "    loading_functions,\n",
    "    kw_data_loader,\n",
    "    cnn,\n",
    "    polygons,\n",
    ")\n",
    "\n",
    "colors = pc.qualitative.D3\n",
    "angstrom = \"\\u212B\"\n",
    "Theta = \"\\u0398\"\n",
    "phi = \"\\u03C6\""
   ]
  },
  {
   "cell_type": "code",
   "execution_count": null,
   "id": "761543db-f8e2-421e-9da0-1bd829d7b99b",
   "metadata": {
    "tags": []
   },
   "outputs": [],
   "source": [
    "def average_timescans(files, ddir, new_filename):\n",
    "    datas = []\n",
    "    for i in range(0, len(files)):\n",
    "        ad = ARPES_DATA[files[i]]\n",
    "        datas.append(ad.data)\n",
    "    data_avg = np.mean(datas, axis=0)\n",
    "    print(data_avg.shape)\n",
    "\n",
    "    new_data = data_avg\n",
    "\n",
    "    new_fn = os.path.join(ddir, new_filename)\n",
    "\n",
    "    with h5py.File(\n",
    "        new_fn, \"w\"\n",
    "    ) as f:  # Note: 'w' creates a new empty file (or overwrites), use 'r+' to modify an existing file\n",
    "        f[\"data\"] = new_data.T\n",
    "        axes_names = [\n",
    "            \"angles\",\n",
    "            \"energies\",\n",
    "        ]  # Change these to match your axes labels\n",
    "        axes = [ad.theta, ad.energy]\n",
    "        for axis, name in zip(axes, axes_names):\n",
    "            f[name] = np.atleast_2d(axis).T\n",
    "        entry_group = f.require_group(\"entry1\")\n",
    "        entry_group[\"ScanValues\"] = np.atleast_2d(ad.phi_or_time).T\n",
    "    return new_fn"
   ]
  },
  {
   "cell_type": "markdown",
   "id": "8420489a-0cd7-40e6-8a3a-bc81638b6e8c",
   "metadata": {
    "tags": []
   },
   "source": [
    "# Load Data"
   ]
  },
  {
   "cell_type": "code",
   "execution_count": null,
   "id": "58a087c6-c6f3-4d9b-adf1-da0ae1111326",
   "metadata": {
    "tags": []
   },
   "outputs": [],
   "source": [
    "ddir = r\"E:\\atully\\arpes_data\\2023_May\\May13\\C60\\FS\"\n",
    "files = []\n",
    "\n",
    "## FS2 & FS0  # CT1, pos delay\n",
    "# files = [f\"FS2\\FS_002_{i}.h5\" for i in range(1, 15)]\n",
    "# files.extend([f\"FS0\\FS_000_{i}.h5\" for i in range(1, 19)])\n",
    "\n",
    "## FS2  # CT1, pos delay\n",
    "# files = [f\"FS2\\FS_002_{i}.h5\" for i in range(1, 5)]  # for difference map\n",
    "\n",
    "## FS3  # CT1, neg delay\n",
    "# files = [f\"FS3\\FS_003_{i}.h5\" for i in range(1, 5)]\n",
    "# files.extend([f\"\" for i in range(1, )])\n",
    "\n",
    "## FS4  # CT2, pos delay\n",
    "# files = [f\"FS4\\FS_004_{i}.h5\" for i in range(1, 4)]\n",
    "\n",
    "## FS5  # CT1, pos delay --> centered on kx=0\n",
    "files = [f\"FS5\\FS_005_{i}.h5\" for i in range(1, 19)]\n",
    "\n",
    "ARPES_DATA: Dict[str, tr_functions.ArpesData] = {}\n",
    "ARPES_ATTRS: Dict[str, tr_functions.ArpesAttrs] = {}\n",
    "for file in tqdm(files):\n",
    "    data, kx, ky, energy = loading_functions.load_hdf5(ddir, file)\n",
    "    ARPES_DATA[file] = tr_functions.ArpesData(\n",
    "        data=data, theta=kx, phi_or_time=ky, energy=energy\n",
    "    )\n",
    "    ARPES_ATTRS[file] = tr_functions.load_attrs_hdf5(ddir, file)"
   ]
  },
  {
   "cell_type": "code",
   "execution_count": null,
   "id": "e207df36-5124-439d-96f6-d6706dc90a7e",
   "metadata": {
    "tags": []
   },
   "outputs": [],
   "source": [
    "# average_timescans(files, ddir, \"FS0\\FS0_Ali_avg.h5\")\n",
    "# average_timescans(files, ddir, \"FS2\\FS2_Ali_avg.h5\")\n",
    "# average_timescans(files, ddir, \"FS0&FS2_Ali_avg.h5\")\n",
    "# average_timescans(files, ddir, \"FS2_fordiffmap.h5\")\n",
    "# average_timescans(files, ddir, \"FS3_Ali_avg.h5\")\n",
    "# average_timescans(files, ddir, \"FS4_Ali_avg.h5\")\n",
    "average_timescans(files, ddir, \"FS5_Ali_avg.h5\")"
   ]
  },
  {
   "cell_type": "code",
   "execution_count": null,
   "id": "053d107a-cfd3-4eb4-8720-fb503a3ae6b7",
   "metadata": {
    "tags": []
   },
   "outputs": [],
   "source": [
    "## Load averaged data ##\n",
    "\n",
    "ddir = r\"E:\\atully\\arpes_data\\2023_May\\May13\\C60\\FS\"\n",
    "files = []\n",
    "\n",
    "# files = [\"FS0\\FS0_Ali_avg.h5\"]  # CT1\n",
    "# files = [\"FS0\\FS_000_1.h5\"]  # CT1\n",
    "# files = [\"FS1\\FS_001.h5\"]  # CT1 -- 1 cycle with higher pump and probe powers\n",
    "# files = [\"FS2\\FS2_Ali_avg.h5\"]  # CT1, better pump effect and probe power\n",
    "\n",
    "## CT1, pos delay, ad_right\n",
    "files = [\"FS0&FS2_Ali_avg.h5\"]\n",
    "\n",
    "## CT1, pos delay, centered at kx=0, ad_left\n",
    "# files = [\"FS5_Ali_avg.h5\"]\n",
    "\n",
    "## CT1, pos delay --> for diffmap\n",
    "# files = [\"FS2_fordiffmap.h5\"]\n",
    "\n",
    "## CT1, neg delay\n",
    "# files = [\"FS3_Ali_avg.h5\"]\n",
    "\n",
    "## CT2, pos delay\n",
    "# files = [\"FS4_Ali_avg.h5\"]\n",
    "\n",
    "\n",
    "## Feb Comparison ##\n",
    "# ddir = r\"E:\\atully\\arpes_data\\2023_February\\6eV\\FS\"\n",
    "# files = []\n",
    "# files = [\"FS1_FS3_Ali_avg.h5\"]  # 2.0 eV center energy\n",
    "# files = [\"FS_001_1.h5\"]  # 2.0 eV center energy\n",
    "\n",
    "# This works, but makes dataclass with theta and phi_or_time instead of kx and ky\n",
    "ARPES_DATA: Dict[str, tr_functions.ArpesData] = {}\n",
    "ARPES_ATTRS: Dict[str, tr_functions.ArpesAttrs] = {}\n",
    "for file in tqdm(files):\n",
    "    data, kx, ky, energy = loading_functions.load_hdf5(ddir, file)\n",
    "    ARPES_DATA[file] = tr_functions.ArpesData(\n",
    "        data=data, theta=kx, phi_or_time=ky, energy=energy\n",
    "    )\n",
    "    ARPES_ATTRS[file] = tr_functions.load_attrs_hdf5(ddir, file)\n",
    "\n",
    "ad = ARPES_DATA[files[0]]\n",
    "# ad_may = ARPES_DATA[files[0]]\n",
    "# ad_feb = ARPES_DATA[files[0]]\n",
    "\n",
    "# ad_pos = ARPES_DATA[files[0]]\n",
    "# ad_neg = ARPES_DATA[files[0]]\n",
    "\n",
    "ad_right = ARPES_DATA[files[0]]\n",
    "# ad_left = ARPES_DATA[files[0]]"
   ]
  },
  {
   "cell_type": "code",
   "execution_count": null,
   "id": "4f8de735-ccaf-48ae-bdee-720bedb9ed77",
   "metadata": {},
   "outputs": [],
   "source": [
    "# ad = ARPES_DATA[files[0]]\n",
    "# for k in [\"energy\", \"theta\", \"phi_or_time\"]:\n",
    "#     print(f\"{k}.shape = {getattr(ad, k).shape}\")\n",
    "# print(f\"Data.shape = {ad.data.shape}\")"
   ]
  },
  {
   "cell_type": "markdown",
   "id": "47ee1dd6-a9cf-4f31-83a4-b28347dc1ad3",
   "metadata": {},
   "source": [
    "# Analysis"
   ]
  },
  {
   "cell_type": "code",
   "execution_count": null,
   "id": "36275873-7ebb-43c0-ab4f-e48a6c73f66e",
   "metadata": {
    "tags": []
   },
   "outputs": [],
   "source": [
    "slice_dim = \"y\"\n",
    "# slice_val = 0\n",
    "int_range = 0.05\n",
    "xlim = (-18, 16)\n",
    "ylim = None\n",
    "x_bin = 2\n",
    "y_bin = 2\n",
    "\n",
    "# Load Data\n",
    "\n",
    "# for i, v in enumerate([3.0, 2.9, 2.8, 2.7, 2.6, 2.5, 2.4]):  # CT2\n",
    "for i, v in enumerate([2.4, 2.3, 2.2, 2.1, 2.0, 1.9]):  # CT1\n",
    "    x, y, d = tr_functions.slice_datacube(\n",
    "        ad_dataclass=ad_left,\n",
    "        slice_dim=slice_dim,\n",
    "        slice_val=v,\n",
    "        int_range=int_range,\n",
    "        xlim=xlim,\n",
    "        ylim=ylim,\n",
    "        x_bin=x_bin,\n",
    "        y_bin=y_bin,\n",
    "        norm_data=True,\n",
    "        plot_data=False,\n",
    "    )\n",
    "\n",
    "    ## Plot Data MPL\n",
    "    # fig, ax = plotting_functions.plot_2D_mpl(\n",
    "    #     x=x,\n",
    "    #     y=y,\n",
    "    #     data=d,\n",
    "    #     xlabel=\"theta\",\n",
    "    #     ylabel=\"phi\",\n",
    "    #     title=f\"Constant Energy Cut: {v} eV\",\n",
    "    #     # cmap=\"gray\",\n",
    "    #     cmap=\"Blues\",\n",
    "    # )\n",
    "    # ratio = 1  # set aspect ratio\n",
    "    # x_left, x_right = ax.get_xlim()\n",
    "    # y_low, y_high = ax.get_ylim()\n",
    "    # ax.set_aspect(abs((x_right - x_left) / (y_low - y_high)) * ratio)\n",
    "\n",
    "    ## Plot Data Plotly\n",
    "    fig = tr_functions.thesis_fig(\n",
    "        title=f\"E<sub>K</sub> = {v}\",\n",
    "        xaxis_title=f\"{Theta}\",\n",
    "        yaxis_title=f\"{phi}\",\n",
    "        equiv_axes=False,\n",
    "        height=500,\n",
    "        width=500,\n",
    "    )\n",
    "\n",
    "    fig.add_trace(\n",
    "        go.Heatmap(x=x, y=y, z=analysis_functions.norm_data(d), coloraxis=\"coloraxis\")\n",
    "    )\n",
    "\n",
    "    if xlim is not None:\n",
    "        fig.update_xaxes(range=[xlim[0], xlim[1]], constrain=\"domain\")\n",
    "\n",
    "    fig.update_coloraxes(cmin=0, cmax=1)\n",
    "\n",
    "    fig.show()"
   ]
  },
  {
   "cell_type": "markdown",
   "id": "fc2a7dfe-f8b3-4954-a22c-f74db7aa7fe7",
   "metadata": {},
   "source": [
    "# Stitch Datasets"
   ]
  },
  {
   "cell_type": "code",
   "execution_count": null,
   "id": "4d93250f-94dc-43bb-a935-ba14d8ac32b9",
   "metadata": {
    "tags": []
   },
   "outputs": [],
   "source": [
    "slice_dim = \"y\"\n",
    "# slice_val = 0\n",
    "int_range = 0.05\n",
    "xlim = (-18, 16)\n",
    "# xlim = None\n",
    "ylim = None\n",
    "x_bin = 2\n",
    "y_bin = 2\n",
    "\n",
    "for i, v in enumerate([2.4, 2.3, 2.2, 2.1, 2.0, 1.9]):  # CT1\n",
    "    x_left, y_left, d_left = tr_functions.slice_datacube(\n",
    "        ad_dataclass=ad_left,\n",
    "        slice_dim=slice_dim,\n",
    "        slice_val=v,\n",
    "        int_range=int_range,\n",
    "        xlim=xlim,\n",
    "        ylim=ylim,\n",
    "        x_bin=x_bin,\n",
    "        y_bin=y_bin,\n",
    "        norm_data=True,\n",
    "        plot_data=False,\n",
    "    )\n",
    "    x_left = x_left - (14.2 - 4.5)\n",
    "\n",
    "    x_right, y_right, d_right = tr_functions.slice_datacube(\n",
    "        ad_dataclass=ad_right,\n",
    "        slice_dim=slice_dim,\n",
    "        slice_val=v,\n",
    "        int_range=int_range,\n",
    "        xlim=xlim,\n",
    "        ylim=ylim,\n",
    "        x_bin=x_bin,\n",
    "        y_bin=y_bin,\n",
    "        norm_data=True,\n",
    "        plot_data=False,\n",
    "    )\n",
    "\n",
    "    # xs, ys, ds = tr_functions.stitch_and_avg(\n",
    "    #     x_left,\n",
    "    #     y_left,\n",
    "    #     d_left,\n",
    "    #     x_right,\n",
    "    #     y_right,\n",
    "    #     d_right,\n",
    "    #     no_avg=False,\n",
    "    # )\n",
    "\n",
    "    # xs, ys, ds = tr_functions.stitch_2_datasets(\n",
    "    # d_left, x_left, y_left, d_right, x_right, y_right, stitch_dim=\"x\"\n",
    "    # )\n",
    "\n",
    "    ## Plot Data\n",
    "\n",
    "    fig = tr_functions.thesis_fig(\n",
    "        title=f\"E<sub>K</sub> = {v}\",\n",
    "        xaxis_title=f\"{Theta}\",\n",
    "        yaxis_title=f\"{phi}\",\n",
    "        equiv_axes=False,\n",
    "        height=500,\n",
    "        width=500,\n",
    "    )\n",
    "    \n",
    "    fig.add_trace(\n",
    "        go.Heatmap(\n",
    "            x=x_left,\n",
    "            y=y_left,\n",
    "            z=analysis_functions.norm_data(d_left),\n",
    "            coloraxis=\"coloraxis\",\n",
    "        )\n",
    "    )\n",
    "\n",
    "    fig.add_trace(\n",
    "        go.Heatmap(\n",
    "            x=x_right,\n",
    "            y=y_right,\n",
    "            z=analysis_functions.norm_data(d_right),\n",
    "            coloraxis=\"coloraxis\",\n",
    "        )\n",
    "    )\n",
    "\n",
    "    # fig.add_trace(\n",
    "    #     go.Heatmap(\n",
    "    #         x=xs, y=ys, z=analysis_functions.norm_data(ds), coloraxis=\"coloraxis\"\n",
    "    #     )\n",
    "    # )\n",
    "\n",
    "    # if xlim is not None:\n",
    "    #     fig.update_xaxes(range=[xlim[0], xlim[1]], constrain=\"domain\")\n",
    "\n",
    "    fig.update_coloraxes(cmin=0, cmax=1)\n",
    "\n",
    "    fig.show()"
   ]
  },
  {
   "cell_type": "markdown",
   "id": "26696963-c1ac-4e84-aa48-d03cdafdfe5e",
   "metadata": {},
   "source": [
    "# Angular Dispersion: Ek vs theta"
   ]
  },
  {
   "cell_type": "code",
   "execution_count": null,
   "id": "829187e1-7624-4af9-bd7f-23c0b60bc1ee",
   "metadata": {
    "tags": []
   },
   "outputs": [],
   "source": [
    "## Set Initial Parameters ##\n",
    "\n",
    "slice_dim = \"z\"\n",
    "\n",
    "slice_val = -4\n",
    "int_range = 1\n",
    "\n",
    "xlim = (-18, 16)\n",
    "# xlim = None\n",
    "\n",
    "## Looking for cone or dispersion\n",
    "ylim = (1.93, 2.32)  # Feb\n",
    "# ylim = (1.9, 2.44)  # May\n",
    "# ylim = None\n",
    "\n",
    "x_bin = 1\n",
    "y_bin = 1"
   ]
  },
  {
   "cell_type": "code",
   "execution_count": null,
   "id": "afaef743-c795-40f6-991e-feefe9624242",
   "metadata": {
    "tags": []
   },
   "outputs": [],
   "source": [
    "x, y, d = tr_functions.slice_datacube(\n",
    "    ad_dataclass=ad,\n",
    "    slice_dim=slice_dim,\n",
    "    slice_val=slice_val,\n",
    "    int_range=int_range,\n",
    "    xlim=xlim,\n",
    "    ylim=ylim,\n",
    "    x_bin=x_bin,\n",
    "    y_bin=y_bin,\n",
    "    norm_data=True,\n",
    "    plot_data=False,\n",
    ")"
   ]
  },
  {
   "cell_type": "code",
   "execution_count": null,
   "id": "39d93f4d-4576-4036-8290-f9011e3592d0",
   "metadata": {
    "tags": []
   },
   "outputs": [],
   "source": [
    "## Plot Data ##\n",
    "\n",
    "fig = tr_functions.thesis_fig(\n",
    "    title=f\"{phi} = {slice_val} degrees\",\n",
    "    xaxis_title=f\"{Theta}\",\n",
    "    yaxis_title=\"E<sub>K</sub>\",\n",
    "    equiv_axes=False,\n",
    ")\n",
    "\n",
    "fig.add_trace(\n",
    "    go.Heatmap(x=x, y=y, z=analysis_functions.norm_data(d), coloraxis=\"coloraxis\")\n",
    ")\n",
    "\n",
    "if xlim is not None:\n",
    "    fig.update_xaxes(range=[xlim[0], xlim[1]], constrain=\"domain\")\n",
    "\n",
    "fig.update_coloraxes(cmin=0, cmax=0.2)\n",
    "\n",
    "fig.show()"
   ]
  },
  {
   "cell_type": "markdown",
   "id": "ccef8076-0be5-4de2-92ba-9f2ca4ffd09d",
   "metadata": {},
   "source": [
    "# EDCs"
   ]
  },
  {
   "cell_type": "code",
   "execution_count": null,
   "id": "2db5d3d8-7f5d-49ab-8f15-7a91b7723a11",
   "metadata": {
    "tags": []
   },
   "outputs": [],
   "source": [
    "## Integrate over desired angular range ##\n",
    "\n",
    "slice_dim = \"x\"\n",
    "slice_val = 0\n",
    "int_range = 50  # if this value is more that the integration range, my get_2D_slice function will just integrate over the max range.\n",
    "\n",
    "xlim = None\n",
    "ylim = None\n",
    "\n",
    "x_bin = 1\n",
    "y_bin = 1"
   ]
  },
  {
   "cell_type": "code",
   "execution_count": null,
   "id": "d2957bb7-0f5e-4cae-b6ee-0f769d399333",
   "metadata": {
    "tags": []
   },
   "outputs": [],
   "source": [
    "fig = tr_functions.thesis_fig(\n",
    "    title=f\"EDC\",\n",
    "    xaxis_title=f\"E<sub>K</sub>\",\n",
    "    yaxis_title=\"Intensity (arb. u)\",\n",
    "    equiv_axes=False,\n",
    "    gridlines=False,\n",
    ")\n",
    "\n",
    "names = []\n",
    "names = [\"feb\", \"may\"]\n",
    "for i, ad in enumerate([ad_feb, ad_may]):\n",
    "    x_2d, y_2d, d_2d = tr_functions.slice_datacube(\n",
    "        ad_dataclass=ad,\n",
    "        slice_dim=slice_dim,\n",
    "        slice_val=slice_val,\n",
    "        int_range=int_range,\n",
    "        xlim=xlim,\n",
    "        ylim=ylim,\n",
    "        # ylim=(\n",
    "        #     ad.energy[57],\n",
    "        #     ad.energy[1007],\n",
    "        # ),  # get rid of zero padding on datasets\n",
    "        x_bin=x_bin,\n",
    "        y_bin=y_bin,\n",
    "        norm_data=False,\n",
    "        plot_data=False,\n",
    "    )\n",
    "\n",
    "    xlim = None\n",
    "\n",
    "    y_1d, col = tr_functions.get_1d_x_slice(\n",
    "        x=x_2d,\n",
    "        y=y_2d,\n",
    "        data=d_2d,\n",
    "        ylims=ylim,\n",
    "        x_range=xlim,\n",
    "    )\n",
    "\n",
    "    # if normalize:\n",
    "    #     col = analysis_functions.norm_data(col)\n",
    "\n",
    "    # if logplot:\n",
    "    #     col = np.log(col)\n",
    "\n",
    "    # Plot Data\n",
    "    color = colors[i % len(colors)]\n",
    "    fig.add_trace(go.Scatter(x=y_1d, y=col, name=names[i], line=dict(color=color)))\n",
    "\n",
    "    # Plot Data\n",
    "    # fig.add_trace(\n",
    "    #     go.Scatter(\n",
    "    #         x=y_1d,\n",
    "    #         y=col,\n",
    "    #         name=f\"data\",\n",
    "    #         line=dict(color=colors[0]),\n",
    "    #     )\n",
    "    # )\n",
    "\n",
    "fig.show()"
   ]
  },
  {
   "cell_type": "code",
   "execution_count": null,
   "id": "0fddc677-6583-4e12-9e03-47202b493f62",
   "metadata": {
    "tags": []
   },
   "outputs": [],
   "source": [
    "## Plot EDC for Fit ##\n",
    "\n",
    "xlim = None\n",
    "\n",
    "\n",
    "fig = tr_functions.thesis_fig(\n",
    "    title=f\"EDC\",\n",
    "    xaxis_title=f\"{Theta}\",\n",
    "    yaxis_title=\"Intensity (arb. u)\",\n",
    "    equiv_axes=False,\n",
    "    gridlines=False,\n",
    ")\n",
    "\n",
    "y_1d, col = tr_functions.get_1d_x_slice(\n",
    "    x=x_2d,\n",
    "    y=y_2d,\n",
    "    data=d_2d,\n",
    "    ylims=ylim,\n",
    "    x_range=xlim,\n",
    ")\n",
    "\n",
    "# if normalize:\n",
    "#     col = analysis_functions.norm_data(col)\n",
    "\n",
    "# if logplot:\n",
    "#     col = np.log(col)\n",
    "\n",
    "# Plot Data\n",
    "fig.add_trace(\n",
    "    go.Scatter(\n",
    "        x=y_1d,\n",
    "        y=col,\n",
    "        name=f\"data\",\n",
    "        line=dict(color=colors[0]),\n",
    "    )\n",
    ")\n",
    "\n",
    "fig.show()"
   ]
  },
  {
   "cell_type": "code",
   "execution_count": null,
   "id": "034cabb8-a6e9-4969-9754-f83e0bc78cf3",
   "metadata": {},
   "outputs": [],
   "source": []
  },
  {
   "cell_type": "code",
   "execution_count": null,
   "id": "978ab94e-1bb6-4039-9b3b-73df90dc039b",
   "metadata": {
    "tags": []
   },
   "outputs": [],
   "source": [
    "# ## Load K corrected, negative delay data ##\n",
    "\n",
    "# ddir = r\"E:\\atully\\arpes_data\\2023_February\\6eV\\FS\"\n",
    "# files = [\"FS_4and10_gkw.h5\"]\n",
    "\n",
    "# # This works, but makes dataclass with theta and phi_or_time instead of kx and ky\n",
    "# ARPES_DATA: Dict[str, tr_functions.ArpesData] = {}\n",
    "# ARPES_ATTRS: Dict[str, tr_functions.ArpesAttrs] = {}\n",
    "# for file in tqdm(files):\n",
    "#     data, kx, ky, energy = loading_functions.load_hdf5(ddir, file)\n",
    "#     ARPES_DATA[file] = tr_functions.ArpesData(\n",
    "#         data=data, theta=kx, phi_or_time=ky, energy=energy\n",
    "#     )\n",
    "#     ARPES_ATTRS[file] = tr_functions.load_attrs_hdf5(ddir, file)"
   ]
  },
  {
   "cell_type": "markdown",
   "id": "3041f8c3-2ff7-443c-a81f-50bf34b04720",
   "metadata": {},
   "source": [
    "# Diff Maps"
   ]
  },
  {
   "cell_type": "code",
   "execution_count": null,
   "id": "a7f869b3-feb3-4632-b08b-18f7c564c350",
   "metadata": {},
   "outputs": [],
   "source": [
    "# ad_pos = ARPES_DATA[files[0]]\n",
    "# for k in [\"energy\", \"theta\", \"phi_or_time\"]:\n",
    "#     print(f\"{k}.shape = {getattr(ad_pos, k).shape}\")\n",
    "# print(f\"Data.shape = {ad_pos.data.shape}\")"
   ]
  },
  {
   "cell_type": "code",
   "execution_count": null,
   "id": "9dcb76ea-0243-443a-a933-c61a5d2812fc",
   "metadata": {},
   "outputs": [],
   "source": [
    "# ad_neg = ARPES_DATA[files[0]]\n",
    "# for k in [\"energy\", \"theta\", \"phi_or_time\"]:\n",
    "#     print(f\"{k}.shape = {getattr(ad_neg, k).shape}\")\n",
    "# print(f\"Data.shape = {ad_neg.data.shape}\")"
   ]
  },
  {
   "cell_type": "code",
   "execution_count": null,
   "id": "0eed0b7a-0532-4bba-8d76-017bbe1290a7",
   "metadata": {
    "tags": []
   },
   "outputs": [],
   "source": [
    "## Check delays of relevent scans ##\n",
    "\n",
    "time_zero = 37.8\n",
    "\n",
    "print(\n",
    "    f\"positive delay (FS0&FS2) = {np.round(tr_functions.mm_to_ps(37.86, time_zero), 3)} ps\"\n",
    ")\n",
    "\n",
    "# print(\n",
    "#     f\"negative delay (FS4&10) = {np.round(tr_functions.mm_to_ps(37.81, time_zero), 3)} ps\"\n",
    "# )"
   ]
  },
  {
   "cell_type": "code",
   "execution_count": null,
   "id": "dfe5d2b9-449a-4e0a-a563-64a013a5bf98",
   "metadata": {
    "tags": []
   },
   "outputs": [],
   "source": [
    "# ## HOMO is at 2.05 eV below EF, based on fits from this data averaged with fits from tr-ARPES results ##\n",
    "\n",
    "# EF_400 = 1.91  # in kinetic energy, slit 400\n",
    "\n",
    "# homo = -2.05\n",
    "\n",
    "# homo_400 = homo + EF_400"
   ]
  },
  {
   "cell_type": "code",
   "execution_count": null,
   "id": "f47bb91f-197e-4170-84a7-a4e98c872e7a",
   "metadata": {
    "tags": []
   },
   "outputs": [],
   "source": [
    "# ad_pos.energy = ad_pos.energy - homo_400"
   ]
  },
  {
   "cell_type": "code",
   "execution_count": null,
   "id": "37d0c67e-23f6-435f-8ea9-54844e476503",
   "metadata": {
    "tags": []
   },
   "outputs": [],
   "source": [
    "# ad_neg.energy = ad_neg.energy - homo_400"
   ]
  },
  {
   "cell_type": "code",
   "execution_count": null,
   "id": "2ff01cb1-f949-4efd-968d-58826476a4e3",
   "metadata": {
    "tags": []
   },
   "outputs": [],
   "source": [
    "## Slicevals ##\n",
    "# slice_val = np.round(2.15 - homo_400, 3)\n",
    "# slice_val = np.round(2.05 - homo_400, 3)\n",
    "# slice_val = np.round(1.95 - homo_400, 3)"
   ]
  },
  {
   "cell_type": "code",
   "execution_count": null,
   "id": "de8f290f-4954-4917-8364-511d5f3c41aa",
   "metadata": {
    "tags": []
   },
   "outputs": [],
   "source": [
    "# title = f\"CT<sub>1</sub> (E - E<sub>HOMO</sub> = {slice_val})\"\n",
    "title = f\"CT<sub>1</sub> (E<sub>K</sub> = {slice_val})\"\n",
    "# yaxis_title = f\"k<sub>y</sub> [{angstrom}<sup>-1</sup>]\"\n",
    "yaxis_title = f\"{phi}\"\n",
    "# xaxis_title = f\"k<sub>x</sub> [{angstrom}<sup>-1</sup>]\"\n",
    "xaxis_title = f\"{Theta}\""
   ]
  },
  {
   "cell_type": "code",
   "execution_count": null,
   "id": "f4d686a4-869b-4c4c-b635-a9175150bba3",
   "metadata": {
    "tags": []
   },
   "outputs": [],
   "source": [
    "slice_dim = \"y\"\n",
    "# slice_val = 0\n",
    "int_range = 0.05\n",
    "xlim = (-20, 16)\n",
    "# xlim = None\n",
    "ylim = None\n",
    "x_bin = 1\n",
    "y_bin = 1\n",
    "\n",
    "# Load Data\n",
    "\n",
    "# for i, v in enumerate([3.0, 2.9, 2.8, 2.7, 2.6, 2.5, 2.4]):  # CT2\n",
    "for i, v in enumerate([2.4, 2.3, 2.2, 2.1, 2.0, 1.9]):  # CT1\n",
    "    x_pos, y_pos, d_pos = tr_functions.slice_datacube(\n",
    "        ad_dataclass=ad_pos,\n",
    "        slice_dim=slice_dim,\n",
    "        slice_val=v,\n",
    "        int_range=int_range,\n",
    "        xlim=xlim,\n",
    "        ylim=ylim,\n",
    "        x_bin=x_bin,\n",
    "        y_bin=y_bin,\n",
    "        norm_data=False,\n",
    "        plot_data=False,\n",
    "    )\n",
    "\n",
    "    x_neg, y_neg, d_neg = tr_functions.slice_datacube(\n",
    "        ad_dataclass=ad_neg,\n",
    "        slice_dim=slice_dim,\n",
    "        slice_val=v,\n",
    "        int_range=int_range,\n",
    "        xlim=xlim,\n",
    "        ylim=ylim,\n",
    "        x_bin=x_bin,\n",
    "        y_bin=y_bin,\n",
    "        norm_data=False,\n",
    "        plot_data=False,\n",
    "    )\n",
    "\n",
    "    d_diff = d_pos - d_neg\n",
    "    x_diff, y_diff = x_pos, y_pos\n",
    "\n",
    "    ## Plot Data Plotly\n",
    "    fig = tr_functions.thesis_fig(\n",
    "        title=f\"E<sub>K</sub> = {v}\",\n",
    "        xaxis_title=f\"{Theta}\",\n",
    "        yaxis_title=f\"{phi}\",\n",
    "        equiv_axes=False,\n",
    "        height=500,\n",
    "        width=500,\n",
    "    )\n",
    "\n",
    "    fig.add_trace(go.Heatmap(x=x_diff, y=y_diff, z=d_diff, coloraxis=\"coloraxis\"))\n",
    "\n",
    "    if xlim is not None:\n",
    "        fig.update_xaxes(range=[xlim[0], xlim[1]], constrain=\"domain\")\n",
    "\n",
    "    fig.update_coloraxes(colorscale=\"RdBu\", cmid=0, showscale=True)\n",
    "    # fig.update_coloraxes(cmin=-0.2, cmax=0.2)\n",
    "\n",
    "    fig.show()"
   ]
  },
  {
   "cell_type": "code",
   "execution_count": null,
   "id": "ebaff26e-261d-4a4f-9c56-49b90a411594",
   "metadata": {},
   "outputs": [],
   "source": []
  },
  {
   "cell_type": "code",
   "execution_count": null,
   "id": "cb886b1c-48aa-42e3-905c-db70d4b11ef3",
   "metadata": {},
   "outputs": [],
   "source": []
  },
  {
   "cell_type": "markdown",
   "id": "948a1096-6359-4d77-ac1b-35f2ffd7f7e7",
   "metadata": {},
   "source": [
    "## Positive Delay"
   ]
  },
  {
   "cell_type": "code",
   "execution_count": null,
   "id": "7f5f60c8-b4c8-4a54-aa03-c560001aad7a",
   "metadata": {
    "tags": []
   },
   "outputs": [],
   "source": [
    "## Get Data ##\n",
    "\n",
    "x_pos, y_pos, d_pos = tr_functions.slice_datacube(\n",
    "    ad_dataclass=ad_pos,\n",
    "    slice_dim=slice_dim,\n",
    "    slice_val=slice_val,\n",
    "    int_range=int_range,\n",
    "    xlim=xlim,\n",
    "    ylim=ylim,\n",
    "    x_bin=x_bin,\n",
    "    y_bin=y_bin,\n",
    "    norm_data=True,\n",
    "    plot_data=False,\n",
    ")"
   ]
  },
  {
   "cell_type": "code",
   "execution_count": null,
   "id": "a2b3da30-1348-4741-8414-a52c6f5ab495",
   "metadata": {
    "tags": []
   },
   "outputs": [],
   "source": [
    "## Plot Data ##\n",
    "\n",
    "fig = tr_functions.thesis_fig(\n",
    "    title=f\"Positive Delay: {slice_val} eV\",\n",
    "    xaxis_title=xaxis_title,\n",
    "    yaxis_title=yaxis_title,\n",
    "    equiv_axes=True,\n",
    "    height=500,\n",
    "    width=500,\n",
    ")\n",
    "\n",
    "fig.add_trace(\n",
    "    go.Heatmap(\n",
    "        x=x_pos, y=y_pos, z=analysis_functions.norm_data(d_pos), coloraxis=\"coloraxis\"\n",
    "    )\n",
    ")\n",
    "\n",
    "# hexagon = polygons.gen_polygon(6, 0.42, rotation=30)\n",
    "# fig = polygons.plot_polygon(\n",
    "#     hexagon, color=\"firebrick\", fig=fig, show=False, dash=True, dash_width=3\n",
    "# )\n",
    "\n",
    "if xlim is not None:\n",
    "    fig.update_xaxes(range=[xlim[0], xlim[1]], constrain=\"domain\")\n",
    "\n",
    "fig.update_coloraxes(cmin=0, cmax=1)\n",
    "\n",
    "fig.show()"
   ]
  },
  {
   "cell_type": "code",
   "execution_count": null,
   "id": "d3b55291-db5e-495e-810a-7db8679a3d02",
   "metadata": {},
   "outputs": [],
   "source": []
  }
 ],
 "metadata": {
  "kernelspec": {
   "display_name": "Python 3 (ipykernel)",
   "language": "python",
   "name": "python3"
  },
  "language_info": {
   "codemirror_mode": {
    "name": "ipython",
    "version": 3
   },
   "file_extension": ".py",
   "mimetype": "text/x-python",
   "name": "python",
   "nbconvert_exporter": "python",
   "pygments_lexer": "ipython3",
   "version": "3.8.12"
  }
 },
 "nbformat": 4,
 "nbformat_minor": 5
}
