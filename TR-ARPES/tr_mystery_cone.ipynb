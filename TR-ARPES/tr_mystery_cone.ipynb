{
 "cells": [
  {
   "cell_type": "markdown",
   "id": "3ff2997b-a5b5-4a32-891a-00aac86f7400",
   "metadata": {
    "tags": []
   },
   "source": [
    "## Imports"
   ]
  },
  {
   "cell_type": "code",
   "execution_count": null,
   "id": "12c13cd3-01c6-4841-963e-73cb2dc01fd8",
   "metadata": {
    "tags": []
   },
   "outputs": [],
   "source": [
    "%load_ext lab_black\n",
    "\n",
    "import h5py\n",
    "import os\n",
    "import numpy as np\n",
    "from typing import Dict, List, Optional, Tuple\n",
    "\n",
    "from dataclasses import dataclass\n",
    "from tqdm.auto import tqdm\n",
    "from scipy.signal import savgol_filter\n",
    "from scipy.interpolate import interp2d\n",
    "from functools import lru_cache\n",
    "import lmfit as lm\n",
    "\n",
    "\n",
    "import plotly.graph_objects as go\n",
    "import plotly.colors as pc\n",
    "import matplotlib.pyplot as plt\n",
    "\n",
    "\n",
    "import sys\n",
    "\n",
    "sys.path.append(r\"C:\\Users\\atully\\Code\\GitHub\\ARPES Code\\arpes-code-python\")\n",
    "from arpes_functions import (\n",
    "    fitting_functions,\n",
    "    analysis_functions,\n",
    "    plotting_functions,\n",
    "    HDF5_loader,\n",
    "    misc_functions,\n",
    "    filter_functions,\n",
    "    tr_functions,\n",
    "    loading_functions,\n",
    "    kw_data_loader,\n",
    "    cnn,\n",
    ")\n",
    "\n",
    "colors = pc.qualitative.D3\n",
    "colors_seq = pc.sequential.dense\n",
    "angstrom = \"\\u212B\"\n",
    "Theta = \"\\u0398\""
   ]
  },
  {
   "cell_type": "markdown",
   "id": "8420489a-0cd7-40e6-8a3a-bc81638b6e8c",
   "metadata": {
    "tags": []
   },
   "source": [
    "# Load Data"
   ]
  },
  {
   "cell_type": "code",
   "execution_count": null,
   "id": "884e3129-07bc-419f-933f-5db432d4454e",
   "metadata": {
    "tags": []
   },
   "outputs": [],
   "source": [
    "# ## Convert Data ##\n",
    "\n",
    "# ddir = r\"E:\\atully\\arpes_data\\2023_February\\6eV\"\n",
    "\n",
    "# # STEP 1 ##\n",
    "# # Convert ibw to hdf5\n",
    "# fn = \"Img29_g_kw.ibw\"\n",
    "# HDF5_loader.ibw_to_hdf5(ddir, fn, export=True)\n",
    "\n",
    "# # # Check conversion worked\n",
    "# # data, theta, energy = HDF5_loader.load_hdf5(\n",
    "# #     ddir, \"Img7_Lamp_g_kw.h5\"\n",
    "# # )  # load data from hdf5\n",
    "# # data.shape, theta.shape, energy.shape"
   ]
  },
  {
   "cell_type": "code",
   "execution_count": null,
   "id": "b9607c5b-e318-4be2-b9a4-ab0a25f72536",
   "metadata": {
    "tags": []
   },
   "outputs": [],
   "source": [
    "ddir = r\"E:\\atully\\arpes_data\\2023_February\\6eV\"\n",
    "\n",
    "cone_data, cone_kx, cone_energy = HDF5_loader.load_hdf5(ddir, \"Img29_g_kw.h5\")"
   ]
  },
  {
   "cell_type": "code",
   "execution_count": null,
   "id": "6c36d5be-59d3-4576-904e-92bcf376681d",
   "metadata": {
    "tags": []
   },
   "outputs": [],
   "source": [
    "xaxis_title = f\"k<sub>x</sub> ({angstrom}<sup>-1</sup>)\"\n",
    "yaxis_title = f\"E - E<sub>HOMO</sub> (eV)\""
   ]
  },
  {
   "cell_type": "markdown",
   "id": "3649e391-fe90-40ab-a86f-e41affc362df",
   "metadata": {},
   "source": [
    "# Set Up Data"
   ]
  },
  {
   "cell_type": "code",
   "execution_count": null,
   "id": "4707a0c5-a5b2-4bc4-a40e-eb882ae28d1a",
   "metadata": {
    "tags": []
   },
   "outputs": [],
   "source": [
    "## HOMO is at 2.05 eV below EF, based on fits from this data averaged with fits from tr-ARPES results ##\n",
    "\n",
    "EF_400 = 1.91  # in kinetic energy, slit 400\n",
    "EF_700 = 1.94  # in kinetic energy, slit 700\n",
    "\n",
    "homo = -2.05\n",
    "\n",
    "homo_400 = homo + EF_400\n",
    "\n",
    "energy = cone_energy - homo_400"
   ]
  },
  {
   "cell_type": "code",
   "execution_count": null,
   "id": "f75a106b-ff4d-4456-b857-10aa91a252ca",
   "metadata": {
    "tags": []
   },
   "outputs": [],
   "source": [
    "## Limit Dataset and FFT ##\n",
    "\n",
    "data, x, y = cone_data, kx, energy\n",
    "\n",
    "xlim = None\n",
    "ylim = None\n",
    "# ylim = (energy[57], energy[1007])  # get rid of zero padding on datasets\n",
    "ylim = (2.052, 2.66)\n",
    "xlim = (-0.22, 0.21)\n",
    "xlim = (-0.15, 0.15)\n",
    "\n",
    "f_data = filter_functions.fft2d_mask(data, plot=False)\n",
    "\n",
    "x_plot, y_plot, data_plot = analysis_functions.limit_dataset(\n",
    "    x,\n",
    "    y,\n",
    "    f_data,\n",
    "    xlim=xlim,\n",
    "    ylim=ylim,\n",
    ")\n",
    "\n",
    "# d_avg = analysis_functions.norm_data(d_avg)"
   ]
  },
  {
   "cell_type": "code",
   "execution_count": null,
   "id": "af3329c5-84ac-457c-8d4b-ae93b35dc9f4",
   "metadata": {
    "tags": []
   },
   "outputs": [],
   "source": [
    "## Plot ##\n",
    "\n",
    "x_plot, y_plot, data_plot = x_plot, y_plot, data_plot\n",
    "\n",
    "fig = tr_functions.thesis_fig(\n",
    "    title=\"Mystery Feature\",\n",
    "    xaxis_title=xaxis_title,\n",
    "    yaxis_title=yaxis_title,\n",
    "    equiv_axes=False,\n",
    "    height=600,\n",
    "    width=600,\n",
    ")\n",
    "\n",
    "fig.add_trace(\n",
    "    go.Heatmap(\n",
    "        x=x_plot,  # fix incorrect traces by, first, plotting without x-axis\n",
    "        y=y_plot,  # fix incorrect traces by, first, plotting without y-axis\n",
    "        # z=data_plot,\n",
    "        z=analysis_functions.norm_data(data_plot),\n",
    "        coloraxis=\"coloraxis\",\n",
    "    )\n",
    ")\n",
    "\n",
    "fig.update_coloraxes(cmin=0, cmax=0.15)\n",
    "\n",
    "fig.show()"
   ]
  },
  {
   "cell_type": "code",
   "execution_count": null,
   "id": "98fdf3a7-cb69-4dea-b677-2ad5b3a392af",
   "metadata": {},
   "outputs": [],
   "source": []
  }
 ],
 "metadata": {
  "kernelspec": {
   "display_name": "Python 3 (ipykernel)",
   "language": "python",
   "name": "python3"
  },
  "language_info": {
   "codemirror_mode": {
    "name": "ipython",
    "version": 3
   },
   "file_extension": ".py",
   "mimetype": "text/x-python",
   "name": "python",
   "nbconvert_exporter": "python",
   "pygments_lexer": "ipython3",
   "version": "3.8.12"
  }
 },
 "nbformat": 4,
 "nbformat_minor": 5
}
