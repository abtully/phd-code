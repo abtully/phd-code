{
 "cells": [
  {
   "cell_type": "markdown",
   "id": "3ff2997b-a5b5-4a32-891a-00aac86f7400",
   "metadata": {
    "tags": []
   },
   "source": [
    "## Imports"
   ]
  },
  {
   "cell_type": "code",
   "execution_count": null,
   "id": "12c13cd3-01c6-4841-963e-73cb2dc01fd8",
   "metadata": {
    "tags": []
   },
   "outputs": [],
   "source": [
    "%load_ext lab_black\n",
    "%load_ext autoreload\n",
    "%autoreload 2\n",
    "\n",
    "import h5py\n",
    "import os\n",
    "import numpy as np\n",
    "from typing import Dict, List, Optional, Tuple\n",
    "\n",
    "from dataclasses import dataclass\n",
    "from tqdm.auto import tqdm\n",
    "from scipy.signal import savgol_filter\n",
    "from scipy.interpolate import interp2d\n",
    "from functools import lru_cache\n",
    "\n",
    "\n",
    "import plotly.graph_objects as go\n",
    "import plotly.colors as pc\n",
    "import matplotlib.pyplot as plt\n",
    "\n",
    "\n",
    "import sys\n",
    "\n",
    "sys.path.append(r\"C:\\Users\\atully\\Code\\GitHub\\ARPES Code\\arpes-code-python\")\n",
    "from arpes_functions import (\n",
    "    fitting_functions,\n",
    "    analysis_functions,\n",
    "    plotting_functions,\n",
    "    HDF5_loader,\n",
    "    misc_functions,\n",
    "    filter_functions,\n",
    "    tr_functions,\n",
    "    loading_functions,\n",
    "    kw_data_loader,\n",
    "    cnn,\n",
    "    polygons,\n",
    ")\n",
    "\n",
    "colors = pc.qualitative.D3\n",
    "angstrom = \"\\u212B\"\n",
    "Theta = \"\\u0398\"\n",
    "phi = \"\\u03C6\""
   ]
  },
  {
   "cell_type": "markdown",
   "id": "8420489a-0cd7-40e6-8a3a-bc81638b6e8c",
   "metadata": {
    "tags": []
   },
   "source": [
    "# Convert Data"
   ]
  },
  {
   "cell_type": "code",
   "execution_count": null,
   "id": "4d8fceb9-f96f-4d93-bd55-5da1fa0b93fb",
   "metadata": {
    "tags": []
   },
   "outputs": [],
   "source": [
    "# ## Convert K corrected .ibw data to .h5 ##\n",
    "\n",
    "# ddir = r\"E:\\atully\\arpes_data\\2023_May\\May13\\C60\\FS\"\n",
    "\n",
    "# # STEP 1 ##\n",
    "# # Convert ibw to hdf5\n",
    "# fn = \"FS0and2_avg_gkw.ibw\"\n",
    "# HDF5_loader.ibw_to_hdf5(ddir, fn, export=True)\n",
    "\n",
    "# # Check conversion worked\n",
    "# data, kx, ky, energy = HDF5_loader.load_hdf5(\n",
    "#     ddir, \"FS0and2_avg_gkw.h5\"\n",
    "# )  # load data from hdf5\n",
    "# # data.shape, kx.shape, ky.shape, energy.shape"
   ]
  },
  {
   "cell_type": "markdown",
   "id": "2c4fa0ff-935f-4df7-b91e-dac3933001c5",
   "metadata": {},
   "source": [
    "# Set Up Parameters"
   ]
  },
  {
   "cell_type": "code",
   "execution_count": null,
   "id": "c2a700fc-4336-457f-833f-384a0aab87fd",
   "metadata": {
    "tags": []
   },
   "outputs": [],
   "source": [
    "EF_400 = 1.91  # in kinetic energy, slit 400\n",
    "EF_700 = 1.94  # in kinetic energy, slit 700\n",
    "\n",
    "homo = -2.05\n",
    "\n",
    "homo_400 = homo + EF_400"
   ]
  },
  {
   "cell_type": "markdown",
   "id": "beeca0c4-7a36-4793-9b8d-6e07903aeb3f",
   "metadata": {},
   "source": [
    "# Load Data"
   ]
  },
  {
   "cell_type": "code",
   "execution_count": null,
   "id": "eb345d04-bc11-4e0c-96dc-819e4b2dbfd7",
   "metadata": {},
   "outputs": [],
   "source": [
    "## Load Data ##\n",
    "\n",
    "# ddir = r\"E:\\atully\\arpes_data\\2023_February\\6eV\\FS\"\n",
    "# files = [\"FS_4and10_gkw.h5\"]  # CT1, neg delay\n",
    "# files = [\"FS1_FS3_Ali_avg_gkw.h5\"]  # CT1\n",
    "# files = [\"FS8_avg_gkw.h5\"]  # left side of CT1\n",
    "# files = [\"FS2_avg_gkw.h5\"]  # CT2\n",
    "\n",
    "ddir = r\"E:\\atully\\arpes_data\\2023_June\\C60\\ARPES\\FS\"\n",
    "files = [\"FS8&9&10_Ali_avg.h5\"]  # CT2\n",
    "\n",
    "# ddir = r\"E:\\atully\\arpes_data\\2023_May\\May13\\C60\\FS\"\n",
    "# files = [\"FS4_Ali_avg.h5\"]  # CT2\n",
    "# files = [\"FS0&FS2_Ali_avg.h5\"]  # CT1 -- high stats\n",
    "# files = [\"FS5_Ali_avg.h5\"]  # CT1 -- centered on G\n",
    "# files = [\"FS0and2_avg_gkw.h5\"]  # CT1 -- high stats, k-corrected\n",
    "\n",
    "# This works, but makes dataclass with theta and phi_or_time instead of kx and ky\n",
    "ARPES_DATA: Dict[str, tr_functions.ArpesData] = {}\n",
    "ARPES_ATTRS: Dict[str, tr_functions.ArpesAttrs] = {}\n",
    "for file in tqdm(files):\n",
    "    data, kx, ky, energy = loading_functions.load_hdf5(ddir, file)\n",
    "    ARPES_DATA[file] = tr_functions.ArpesData(\n",
    "        data=data, theta=kx, phi_or_time=ky, energy=energy\n",
    "    )\n",
    "    ARPES_ATTRS[file] = tr_functions.load_attrs_hdf5(ddir, file)\n",
    "\n",
    "ad = ARPES_DATA[files[0]]\n",
    "\n",
    "ad.energy = ad.energy - homo_400"
   ]
  },
  {
   "cell_type": "code",
   "execution_count": null,
   "id": "233ccda8-5059-4125-b35e-c7900eada188",
   "metadata": {
    "tags": []
   },
   "outputs": [],
   "source": [
    "ad_ct2_june = ad\n",
    "# ad_ct2_may = ad\n",
    "# ad_ct1_may = ad\n",
    "# ad_ct1_may_centered = ad\n",
    "\n",
    "# ad_ct1_may_kw = ad\n",
    "# ad_ct1_feb_kw = ad\n",
    "# ad_ct2_feb_kw = ad"
   ]
  },
  {
   "cell_type": "markdown",
   "id": "52bb598b-ff6c-4cf7-9f30-437e76b21fae",
   "metadata": {},
   "source": [
    "# Analysis"
   ]
  },
  {
   "cell_type": "code",
   "execution_count": null,
   "id": "fd503375-ac27-4b38-b016-501ed5c88155",
   "metadata": {
    "tags": []
   },
   "outputs": [],
   "source": [
    "slice_val = 2.0\n",
    "slice_val = 2.1\n",
    "slice_val = 2.2\n",
    "# slice_val = 2.3\n",
    "# slice_val = 2.4\n",
    "# slice_val = 2.5\n",
    "# slice_val = 2.6\n",
    "# slice_val = 2.7\n",
    "# slice_val = 2.75\n",
    "# slice_val = 2.8\n",
    "# slice_val = 2.9\n",
    "slice_val = 3.0\n",
    "# slice_val = 3.1\n",
    "\n",
    "\n",
    "slice_dim = \"y\"\n",
    "int_range = 0.1\n",
    "\n",
    "## raw ##\n",
    "xlim = (-19, 16)\n",
    "ylim = None\n",
    "\n",
    "## k-corrected ##\n",
    "# ylim = (-0.52, 0.17)  # Feb CT1\n",
    "# xlim = (-0.12, 0.45)  # Feb CT1\n",
    "\n",
    "# ylim = (-0.57, 0.18)  # Feb CT2\n",
    "# xlim = (-0.13, 0.47)  # Feb CT2\n",
    "\n",
    "# ylim = (-0.4, 0.07)  # May\n",
    "# xlim = (-0.09, 0.33)  # May\n",
    "# ylim = None\n",
    "# xlim = None\n",
    "\n",
    "x_bin = 2\n",
    "y_bin = 2"
   ]
  },
  {
   "cell_type": "code",
   "execution_count": null,
   "id": "dbf7ebd8-8372-4e38-9657-d0cbaabedf30",
   "metadata": {
    "tags": []
   },
   "outputs": [],
   "source": [
    "title = f\"E - E<sub>HOMO</sub> = {slice_val} eV\"\n",
    "\n",
    "yaxis_title = f\"{phi}\"\n",
    "xaxis_title = f\"{Theta}\"\n",
    "\n",
    "# xaxis_title = f\"k<sub>x</sub> ({angstrom}<sup>-1</sup>)\"\n",
    "# yaxis_title = f\"k<sub>y</sub> ({angstrom}<sup>-1</sup>)\""
   ]
  },
  {
   "cell_type": "code",
   "execution_count": null,
   "id": "eb6c2e45-d6fb-4d41-ad64-5d1a0fcf70d9",
   "metadata": {
    "tags": []
   },
   "outputs": [],
   "source": [
    "## Get Slices ##\n",
    "\n",
    "ad_plot = ad_ct2_june\n",
    "# ad_plot = ad_ct1_may\n",
    "# ad_plot = ad_ct1_may_centered\n",
    "# ad_plot = ad_ct2_may\n",
    "\n",
    "# ad_plot = ad_ct1_may_kw\n",
    "# ad_plot = ad_ct1_feb_kw\n",
    "\n",
    "x, y, d = tr_functions.slice_datacube(\n",
    "    ad_dataclass=ad_plot,\n",
    "    slice_dim=slice_dim,\n",
    "    slice_val=slice_val,\n",
    "    int_range=int_range,\n",
    "    xlim=xlim,\n",
    "    ylim=ylim,\n",
    "    x_bin=x_bin,\n",
    "    y_bin=y_bin,\n",
    "    norm_data=True,\n",
    "    plot_data=False,\n",
    ")"
   ]
  },
  {
   "cell_type": "code",
   "execution_count": null,
   "id": "5ad10c4f-a822-4c8e-aacf-e52c44f28fef",
   "metadata": {
    "tags": []
   },
   "outputs": [],
   "source": [
    "## Plot Data ##\n",
    "x_plot, y_plot, d_plot = x, y, d\n",
    "\n",
    "fig = tr_functions.thesis_fig(\n",
    "    title=title,\n",
    "    xaxis_title=xaxis_title,\n",
    "    yaxis_title=yaxis_title,\n",
    "    equiv_axes=False,\n",
    "    height=500,\n",
    "    width=500,\n",
    ")\n",
    "\n",
    "fig.add_trace(\n",
    "    go.Heatmap(\n",
    "        x=x_plot,\n",
    "        y=y_plot,\n",
    "        z=analysis_functions.norm_data(d_plot),\n",
    "        coloraxis=\"coloraxis\",\n",
    "    )\n",
    ")\n",
    "\n",
    "fig.update_coloraxes(cmin=0, cmax=1)\n",
    "\n",
    "fig.show()"
   ]
  },
  {
   "cell_type": "markdown",
   "id": "3fa09eca-28b5-40e2-84e3-a30be84226c2",
   "metadata": {},
   "source": [
    "# Reconstruct Full BZ"
   ]
  },
  {
   "cell_type": "code",
   "execution_count": null,
   "id": "5e15d394-6853-4d6e-9cff-9629ace8b12e",
   "metadata": {
    "tags": []
   },
   "outputs": [],
   "source": [
    "## Rotate Data ##\n",
    "\n",
    "x, y, z = x_plot, y_plot, d_plot\n",
    "coords = tr_functions.x_y_to_coords(x, y)\n",
    "\n",
    "# rotated_coords = tr_functions.rotate_2d_array(coords, 120, (0, 0))\n",
    "# rotated_coords_2 = tr_functions.rotate_2d_array(coords, 240, (0, 0))\n",
    "\n",
    "rotated_coords = tr_functions.rotate_2d_array(coords, 120, (-12.7, 1))  # June ct2\n",
    "rotated_coords_2 = tr_functions.rotate_2d_array(coords, 240, (-12.7, 1))\n",
    "\n",
    "nx, ny, nd = tr_functions.interpolate(rotated_coords, z)\n",
    "nx_2, ny_2, nd_2 = tr_functions.interpolate(rotated_coords_2, z)"
   ]
  },
  {
   "cell_type": "code",
   "execution_count": null,
   "id": "386fa2eb-a3e4-41db-b955-a39c0b041101",
   "metadata": {
    "tags": []
   },
   "outputs": [],
   "source": [
    "## Plot raw data and rotations on same figure ##\n",
    "\n",
    "fig = tr_functions.thesis_fig(\n",
    "    title=title,\n",
    "    xaxis_title=xaxis_title,\n",
    "    yaxis_title=yaxis_title,\n",
    "    equiv_axes=True,\n",
    "    gridlines=False,\n",
    "    height=600,\n",
    "    width=600,\n",
    ")\n",
    "\n",
    "fig.add_trace(\n",
    "    go.Heatmap(\n",
    "        x=nx_2,\n",
    "        y=ny_2,\n",
    "        z=analysis_functions.norm_data(nd_2),\n",
    "        coloraxis=\"coloraxis\",\n",
    "        # opacity=0.85,\n",
    "    )\n",
    ")\n",
    "\n",
    "fig.add_trace(\n",
    "    go.Heatmap(\n",
    "        x=nx,\n",
    "        y=ny,\n",
    "        z=analysis_functions.norm_data(nd),\n",
    "        coloraxis=\"coloraxis\",\n",
    "        # opacity=0.85,\n",
    "    )\n",
    ")\n",
    "\n",
    "fig.add_trace(\n",
    "    go.Heatmap(\n",
    "        x=x,\n",
    "        y=y,\n",
    "        z=analysis_functions.norm_data(z),\n",
    "        coloraxis=\"coloraxis\",\n",
    "        # opacity=0.85,\n",
    "    )\n",
    ")\n",
    "\n",
    "# hexagon = polygons.gen_polygon(6, 25, rotation=30, translation=(-12.7, 1))\n",
    "# fig = polygons.plot_polygon(\n",
    "#     hexagon, color=\"firebrick\", fig=fig, show=False, dash=True, dash_width=3\n",
    "# )\n",
    "hexagon = polygons.gen_polygon(6, 0.42, rotation=30)\n",
    "fig = polygons.plot_polygon(\n",
    "    hexagon, color=\"yellow\", fig=fig, show=False, dash=True, dash_width=3\n",
    ")\n",
    "\n",
    "fig.update_coloraxes(\n",
    "    colorscale=\"ice\",\n",
    "    reversescale=True,\n",
    "    showscale=True,\n",
    "    cmin=0,\n",
    "    cmax=None,\n",
    "    # cmax=0.6,\n",
    ")\n",
    "fig.update_yaxes(scaleanchor=\"x\", scaleratio=1)\n",
    "fig.show()"
   ]
  },
  {
   "cell_type": "code",
   "execution_count": null,
   "id": "9a0b9f23-d08e-4383-852e-9c1d29f42e94",
   "metadata": {},
   "outputs": [],
   "source": []
  },
  {
   "cell_type": "code",
   "execution_count": null,
   "id": "3314cf58-1ef6-4eba-ab69-68d3867a849d",
   "metadata": {},
   "outputs": [],
   "source": []
  }
 ],
 "metadata": {
  "kernelspec": {
   "display_name": "Python 3 (ipykernel)",
   "language": "python",
   "name": "python3"
  },
  "language_info": {
   "codemirror_mode": {
    "name": "ipython",
    "version": 3
   },
   "file_extension": ".py",
   "mimetype": "text/x-python",
   "name": "python",
   "nbconvert_exporter": "python",
   "pygments_lexer": "ipython3",
   "version": "3.8.12"
  }
 },
 "nbformat": 4,
 "nbformat_minor": 5
}
