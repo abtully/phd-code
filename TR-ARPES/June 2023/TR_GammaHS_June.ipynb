{
 "cells": [
  {
   "cell_type": "markdown",
   "id": "3ff2997b-a5b5-4a32-891a-00aac86f7400",
   "metadata": {
    "tags": []
   },
   "source": [
    "## Imports"
   ]
  },
  {
   "cell_type": "code",
   "execution_count": null,
   "id": "12c13cd3-01c6-4841-963e-73cb2dc01fd8",
   "metadata": {
    "tags": []
   },
   "outputs": [],
   "source": [
    "%load_ext lab_black\n",
    "\n",
    "import h5py\n",
    "import os\n",
    "import numpy as np\n",
    "from typing import Dict, List, Optional, Tuple\n",
    "\n",
    "from dataclasses import dataclass\n",
    "from tqdm.auto import tqdm\n",
    "from scipy.signal import savgol_filter\n",
    "from scipy.interpolate import interp2d\n",
    "from functools import lru_cache\n",
    "import lmfit as lm\n",
    "\n",
    "\n",
    "import plotly.graph_objects as go\n",
    "import plotly.colors as pc\n",
    "import matplotlib.pyplot as plt\n",
    "\n",
    "\n",
    "import sys\n",
    "\n",
    "sys.path.append(r\"C:\\Users\\atully\\Code\\GitHub\\ARPES Code\\arpes-code-python\")\n",
    "from arpes_functions import (\n",
    "    fitting_functions,\n",
    "    analysis_functions,\n",
    "    plotting_functions,\n",
    "    HDF5_loader,\n",
    "    misc_functions,\n",
    "    filter_functions,\n",
    "    tr_functions,\n",
    "    loading_functions,\n",
    "    kw_data_loader,\n",
    "    cnn,\n",
    ")\n",
    "\n",
    "colors = pc.qualitative.D3\n",
    "colors_seq = pc.sequential.dense\n",
    "angstrom = \"\\u212B\"\n",
    "Theta = \"\\u0398\""
   ]
  },
  {
   "cell_type": "markdown",
   "id": "8420489a-0cd7-40e6-8a3a-bc81638b6e8c",
   "metadata": {
    "tags": []
   },
   "source": [
    "# Load Data"
   ]
  },
  {
   "cell_type": "markdown",
   "id": "0555b837-dfca-45c8-bef2-97a355beab2e",
   "metadata": {},
   "source": [
    "# HS Cuts"
   ]
  },
  {
   "attachments": {
    "5e11d29e-0403-457b-aea1-ee26eab8eaf4.png": {
     "image/png": "[encoded data removed]"
    }
   },
   "cell_type": "markdown",
   "id": "382fb2ef-d603-4d50-9495-92a14021ea3e",
   "metadata": {},
   "source": [
    "![image.png](attachment:5e11d29e-0403-457b-aea1-ee26eab8eaf4.png)"
   ]
  },
  {
   "cell_type": "code",
   "execution_count": null,
   "id": "6c36d5be-59d3-4576-904e-92bcf376681d",
   "metadata": {
    "tags": []
   },
   "outputs": [],
   "source": [
    "xaxis_title = f\"k<sub>x</sub> ({angstrom}<sup>-1</sup>)\"\n",
    "yaxis_title = f\"E - E<sub>HOMO</sub> (eV)\""
   ]
  },
  {
   "cell_type": "code",
   "execution_count": null,
   "id": "6bb77bef-f419-4469-87c1-421a75f26ff3",
   "metadata": {
    "tags": []
   },
   "outputs": [],
   "source": [
    "ddir = r\"E:\\atully\\arpes_data\\2023_June\\C60\\ARPES\\Imgs\\k_corrected\""
   ]
  },
  {
   "cell_type": "code",
   "execution_count": null,
   "id": "1121d143-297b-4d8a-9bcf-93c847c9f08b",
   "metadata": {
    "tags": []
   },
   "outputs": [],
   "source": [
    "## Gamma, CT1 ##\n",
    "g_ct1_data, g_ct1_theta, g_ct1_energy = HDF5_loader.load_hdf5(ddir, \"G_CT1_g_kw.h5\")"
   ]
  },
  {
   "cell_type": "code",
   "execution_count": null,
   "id": "7fa6db15-9a33-4d38-8f6f-5b21ee394f3f",
   "metadata": {
    "tags": []
   },
   "outputs": [],
   "source": [
    "## Gamma, CT2 ##\n",
    "g_ct2_data, g_ct2_theta, g_ct2_energy = HDF5_loader.load_hdf5(ddir, \"G_CT2_g_kw.h5\")"
   ]
  },
  {
   "cell_type": "markdown",
   "id": "3649e391-fe90-40ab-a86f-e41affc362df",
   "metadata": {},
   "source": [
    "# Set Up Data"
   ]
  },
  {
   "cell_type": "code",
   "execution_count": null,
   "id": "4707a0c5-a5b2-4bc4-a40e-eb882ae28d1a",
   "metadata": {
    "tags": []
   },
   "outputs": [],
   "source": [
    "## HOMO is at 2.05 eV below EF, based on fits from this data averaged with fits from tr-ARPES results ##\n",
    "\n",
    "EF_400 = 1.91  # in kinetic energy, slit 400\n",
    "EF_700 = 1.94  # in kinetic energy, slit 700\n",
    "\n",
    "homo = -2.05\n",
    "\n",
    "homo_400 = homo + EF_400"
   ]
  },
  {
   "cell_type": "code",
   "execution_count": null,
   "id": "29a7e8da-a924-4936-b8e5-214cddac934d",
   "metadata": {
    "tags": []
   },
   "outputs": [],
   "source": [
    "## Adjust energy axis to be relative to HOMO ##\n",
    "homo_zero = False\n",
    "homo_zero = True\n",
    "\n",
    "if homo_zero:\n",
    "    g_ct1_energy = g_ct1_energy - homo_400\n",
    "    g_ct2_energy = g_ct2_energy - homo_400"
   ]
  },
  {
   "cell_type": "code",
   "execution_count": null,
   "id": "f75a106b-ff4d-4456-b857-10aa91a252ca",
   "metadata": {
    "tags": []
   },
   "outputs": [],
   "source": [
    "## Limit Dataset and FFT ##\n",
    "\n",
    "data, x, y = g_ct2_data, g_ct2_theta, g_ct2_energy\n",
    "\n",
    "xlim = None\n",
    "ylim = None\n",
    "# ylim = (energy[57], energy[1007])  # get rid of zero padding on datasets\n",
    "# ylim = (2.07, 2.42)\n",
    "xlim = (-0.2, 0.17)\n",
    "\n",
    "f_data = filter_functions.fft2d_mask(data, plot=False)\n",
    "\n",
    "x_plot, y_plot, data_plot = analysis_functions.limit_dataset(\n",
    "    x,\n",
    "    y,\n",
    "    f_data,\n",
    "    xlim=xlim,\n",
    "    ylim=ylim,\n",
    ")\n",
    "\n",
    "# d_avg = analysis_functions.norm_data(d_avg)"
   ]
  },
  {
   "cell_type": "code",
   "execution_count": null,
   "id": "af3329c5-84ac-457c-8d4b-ae93b35dc9f4",
   "metadata": {
    "tags": []
   },
   "outputs": [],
   "source": [
    "## Plot ##\n",
    "\n",
    "# x_plot, y_plot, data_plot = g_ct1_theta, g_ct1_energy, g_ct1_data\n",
    "x_plot, y_plot, data_plot = x_plot, y_plot, data_plot\n",
    "\n",
    "fig = tr_functions.thesis_fig(\n",
    "    title=\"G CT1\",\n",
    "    xaxis_title=xaxis_title,\n",
    "    yaxis_title=yaxis_title,\n",
    "    equiv_axes=False,\n",
    "    height=600,\n",
    "    width=600,\n",
    ")\n",
    "\n",
    "fig.add_trace(\n",
    "    go.Heatmap(\n",
    "        x=x_plot,  # fix incorrect traces by, first, plotting without x-axis\n",
    "        y=y_plot,  # fix incorrect traces by, first, plotting without y-axis\n",
    "        # z=data_plot,\n",
    "        z=analysis_functions.norm_data(data_plot),\n",
    "        coloraxis=\"coloraxis\",\n",
    "    )\n",
    ")\n",
    "\n",
    "fig.update_coloraxes(cmin=0, cmax=0.22)\n",
    "\n",
    "fig.show()"
   ]
  },
  {
   "cell_type": "code",
   "execution_count": null,
   "id": "00a86c5d-f6b4-446f-9863-d2e7b3c45e29",
   "metadata": {
    "tags": []
   },
   "outputs": [],
   "source": [
    "## Get and Plot 1D Data --> EDC ##\n",
    "xlim = (3, 7)\n",
    "xlim = None\n",
    "ylim = None\n",
    "\n",
    "fig = tr_functions.thesis_fig(\n",
    "    title=f\"EDC\",\n",
    "    xaxis_title=\"Intensity (arb. u)\",\n",
    "    yaxis_title=yaxis_title,\n",
    "    equiv_axes=False,\n",
    "    gridlines=False,\n",
    "    height=1000,\n",
    "    width=600,\n",
    "    # height=800,\n",
    "    # width=500,\n",
    ")\n",
    "\n",
    "y_1d, col = tr_functions.get_1d_x_slice(\n",
    "    x=x_plot, y=y_plot, data=data_plot, ylims=ylim, x_range=xlim\n",
    ")\n",
    "\n",
    "# fig.add_trace(go.Scatter(x=y_1d, y=col, line=dict(color=colors[0])))\n",
    "fig.add_trace(go.Scatter(x=col, y=y_1d, line=dict(color=colors[0])))\n",
    "\n",
    "fig.show()\n",
    "\n",
    "## Get and Plot 1D Data --> MDC ##\n",
    "xlim = None\n",
    "# ylim = (2.15, 2.25)\n",
    "ylim = None\n",
    "\n",
    "fig = tr_functions.thesis_fig(\n",
    "    title=f\"MDC\",\n",
    "    xaxis_title=xaxis_title,\n",
    "    yaxis_title=\"Intensity (arb. u)\",\n",
    "    equiv_axes=False,\n",
    "    gridlines=False,\n",
    "    # height=600,\n",
    "    # width=800,\n",
    ")\n",
    "\n",
    "x_1d, row = tr_functions.get_1d_y_slice(\n",
    "    x=x_plot, y=y_plot, data=data_plot, xlims=xlim, y_range=ylim\n",
    ")\n",
    "\n",
    "fig.add_trace(go.Scatter(x=x_1d, y=row, line=dict(color=colors[0])))\n",
    "\n",
    "fig.show()"
   ]
  },
  {
   "cell_type": "markdown",
   "id": "e4dd87f5-8ae3-4954-9450-437d8d12205d",
   "metadata": {},
   "source": [
    "# Stitch Datasets"
   ]
  },
  {
   "cell_type": "code",
   "execution_count": null,
   "id": "d77eba80-fef1-4f6c-b3c3-fa2678a3248b",
   "metadata": {
    "tags": []
   },
   "outputs": [],
   "source": [
    "title = \"CT1 & CT2 at G\""
   ]
  },
  {
   "cell_type": "code",
   "execution_count": null,
   "id": "38904bf9-1860-47cc-9b28-fc7826ddcfd0",
   "metadata": {
    "tags": []
   },
   "outputs": [],
   "source": [
    "data1, theta1, energy1 = g_ct1_data, g_ct1_theta, g_ct1_energy  # CT1\n",
    "data2, theta2, energy2 = g_ct2_data, g_ct2_theta, g_ct2_energy  # CT2"
   ]
  },
  {
   "cell_type": "code",
   "execution_count": null,
   "id": "d223a36a-f750-4f3e-9880-1995bc04a4c7",
   "metadata": {
    "tags": []
   },
   "outputs": [],
   "source": [
    "f_data1 = filter_functions.fft2d_mask(data1, plot=False)\n",
    "f_data2 = filter_functions.fft2d_mask(data2, plot=False)"
   ]
  },
  {
   "cell_type": "code",
   "execution_count": null,
   "id": "396e5625-739d-4df9-b862-6d9566f3f90e",
   "metadata": {
    "tags": []
   },
   "outputs": [],
   "source": [
    "## Stitch and Average Datasets ##\n",
    "\n",
    "xlim = None\n",
    "ylim = None\n",
    "\n",
    "xlim = (-0.16, 0.16)\n",
    "# xlim = (-0.17, 0.17)\n",
    "ylim1 = (2.00, 2.5)  # 2.07, 2.5\n",
    "ylim2 = (2.48, 3.15)\n",
    "\n",
    "x1, y1, dataslice1 = analysis_functions.limit_dataset(\n",
    "    theta1,\n",
    "    energy1,\n",
    "    f_data1,\n",
    "    xlim=xlim,\n",
    "    ylim=ylim1,\n",
    ")\n",
    "\n",
    "x2, y2, dataslice2 = analysis_functions.limit_dataset(\n",
    "    theta2,\n",
    "    energy2,\n",
    "    f_data2,\n",
    "    xlim=xlim,\n",
    "    ylim=ylim2,\n",
    ")\n",
    "\n",
    "xs, ys, ds = tr_functions.stitch_and_avg(\n",
    "    x1,\n",
    "    y1,\n",
    "    dataslice1,\n",
    "    x2,\n",
    "    y2,\n",
    "    dataslice2,\n",
    "    no_avg=True,\n",
    ")"
   ]
  },
  {
   "cell_type": "code",
   "execution_count": null,
   "id": "ce348024-26a1-416a-beb8-cd5938d22a7b",
   "metadata": {
    "tags": []
   },
   "outputs": [],
   "source": [
    "## Plot Data ##\n",
    "x, y, data = xs, ys, ds\n",
    "\n",
    "fig = tr_functions.thesis_fig(\n",
    "    title=title,\n",
    "    xaxis_title=xaxis_title,\n",
    "    yaxis_title=yaxis_title,\n",
    "    equiv_axes=False,\n",
    "    height=600,\n",
    "    width=500,\n",
    ")\n",
    "\n",
    "fig.add_trace(\n",
    "    go.Heatmap(x=x, y=y, z=analysis_functions.norm_data(data), coloraxis=\"coloraxis\")\n",
    ")\n",
    "\n",
    "fig.update_coloraxes(cmin=0.07, cmax=0.25)\n",
    "fig.update_coloraxes(colorscale=\"Blues\", reversescale=False)\n",
    "\n",
    "fig.show()"
   ]
  },
  {
   "cell_type": "code",
   "execution_count": null,
   "id": "8a4a39b5-38b9-4115-83dd-90ec24ff5f9a",
   "metadata": {},
   "outputs": [],
   "source": [
    "g_full_ct_x, g_full_ct_y, g_full_ct_data = xs, ys, ds"
   ]
  },
  {
   "cell_type": "code",
   "execution_count": null,
   "id": "e936b00c-9f16-4fd1-a51f-0daeff77dbad",
   "metadata": {
    "tags": []
   },
   "outputs": [],
   "source": [
    "## Get and Plot 1D Data --> EDC ##\n",
    "# ylim = (2.1, 2.8)\n",
    "ylim = (2.0, 2.8)\n",
    "xlim = None\n",
    "ylim = None\n",
    "ylim = (2.0, 3.0)\n",
    "\n",
    "x_plot, y_plot, data_plot = g_full_ct_x, g_full_ct_y, g_full_ct_data\n",
    "\n",
    "fig = tr_functions.thesis_fig(\n",
    "    title=f\"EDC\",\n",
    "    xaxis_title=\"Intensity (arb. u)\",\n",
    "    yaxis_title=yaxis_title,\n",
    "    equiv_axes=False,\n",
    "    gridlines=False,\n",
    "    height=1000,\n",
    "    width=600,\n",
    "    # height=800,\n",
    "    # width=500,\n",
    ")\n",
    "\n",
    "y_1d, col = tr_functions.get_1d_x_slice(\n",
    "    x=x_plot, y=y_plot, data=data_plot, ylims=ylim, x_range=xlim\n",
    ")\n",
    "\n",
    "# fig.add_trace(go.Scatter(x=y_1d, y=col, line=dict(color=colors[0])))\n",
    "fig.add_trace(go.Scatter(x=col, y=y_1d, line=dict(color=colors[0])))\n",
    "\n",
    "fig.show()\n",
    "\n",
    "# ## Get and Plot 1D Data --> MDC ##\n",
    "# xlim = None\n",
    "# ylim = (2.15, 2.25)\n",
    "# ylim = None\n",
    "\n",
    "# fig = tr_functions.thesis_fig(\n",
    "#     title=f\"MDC\",\n",
    "#     xaxis_title=xaxis_title,\n",
    "#     yaxis_title=\"Intensity (arb. u)\",\n",
    "#     equiv_axes=False,\n",
    "#     gridlines=False,\n",
    "#     # height=600,\n",
    "#     # width=800,\n",
    "# )\n",
    "\n",
    "# x_1d, row = tr_functions.get_1d_y_slice(\n",
    "#     x=x_plot, y=y_plot, data=data_plot, xlims=xlim, y_range=ylim\n",
    "# )\n",
    "\n",
    "# fig.add_trace(go.Scatter(x=x_1d, y=row, line=dict(color=colors[0])))\n",
    "\n",
    "# fig.show()"
   ]
  },
  {
   "cell_type": "code",
   "execution_count": null,
   "id": "a42622dd-202d-45cf-9e5f-5ec3711e8668",
   "metadata": {
    "tags": []
   },
   "outputs": [],
   "source": [
    "x = y_1d\n",
    "data = col\n",
    "\n",
    "offset_type = \"constant\"\n",
    "plot_fit = True\n",
    "\n",
    "\n",
    "## Offset\n",
    "c = np.mean(data)\n",
    "b = (data[-1] - data[0]) / (x[-1] - x[0])\n",
    "a = 0\n",
    "\n",
    "offset = fitting_functions.offset_model(offset_type, a, b, c)\n",
    "\n",
    "\n",
    "## FD\n",
    "def fermi_dirac(x, center, theta, amp):\n",
    "    arg = (x - center) / (2 * theta)  # x=E, center=mu, theta = k_B * T\n",
    "    return -amp / 2 * np.tanh(arg)\n",
    "\n",
    "\n",
    "## Gaussians\n",
    "gauss1 = fitting_functions.make_gaussian(num=\"A_\", amplitude=1, center=2.2, sigma=0.1)\n",
    "gauss2 = fitting_functions.make_gaussian(num=\"B_\", amplitude=1, center=2.55, sigma=0.1)\n",
    "gauss3 = fitting_functions.make_gaussian(num=\"C_\", amplitude=1, center=2.8, sigma=0.1)\n",
    "# gauss4 = fitting_functions.make_gaussian(num=\"D_\", amplitude=1, center=2.9, sigma=0.1)\n",
    "\n",
    "\n",
    "## Full model\n",
    "full_model = lm.models.Model(fermi_dirac) + gauss1 + gauss2 + gauss3 + offset\n",
    "# full_model = lm.models.Model(fermi_dirac) + gauss1 + gauss2 + gauss3 + gauss4 + offset\n",
    "\n",
    "# full_model = gauss1 + gauss2 + gauss3 + offset\n",
    "\n",
    "# full_model = lm.models.Model(fermi_dirac) + offset\n",
    "\n",
    "params = full_model.make_params()\n",
    "\n",
    "params[\"center\"].value = 2.0325  # Based on TR data\n",
    "# params[\"center\"].vary = False\n",
    "T = 10.6  # measurement temp\n",
    "k_B = 8.617333e-5  # eV/K\n",
    "\n",
    "## initial params\n",
    "# params[\"theta\"].value = k_B * (10.6)\n",
    "# params[\"theta\"].min = 0\n",
    "# params[\"amp\"].value = 1\n",
    "# params[\"amp\"].min = 0\n",
    "\n",
    "## final params\n",
    "params[\"theta\"].value = 0.02027560\n",
    "# params[\"theta\"].vary = False\n",
    "params[\"amp\"].value = 173.920569\n",
    "# params[\"amp\"].vary = False\n",
    "params[\"c\"].value = 132.268557\n",
    "# params[\"c\"].vary = False\n",
    "\n",
    "params[\"iA__center\"].min = 2.0\n",
    "params[\"iA__center\"].max = 2.3\n",
    "params[\"iB__center\"].min = 2.3\n",
    "params[\"iB__center\"].max = 2.8\n",
    "params[\"iC__center\"].min = 2.6\n",
    "params[\"iC__center\"].max = 3.0\n",
    "# params[\"iD__center\"].min = 2.6\n",
    "# params[\"iD__center\"].max = 3.0\n",
    "\n",
    "params[\"iA__fwhm\"].max = 0.5\n",
    "params[\"iB__fwhm\"].max = 0.5\n",
    "params[\"iC__fwhm\"].max = 0.5\n",
    "# params[\"iD__fwhm\"].max = 0.5\n",
    "\n",
    "\n",
    "fit = full_model.fit(data, x=x, params=params)\n",
    "if plot_fit:\n",
    "    fit.plot()\n",
    "\n",
    "print(f\"Center A = {fit.params['iA__center'].value:.2f} eV\")\n",
    "print(f\"FWHM A = {fit.params['iA__fwhm'].value:.3f} eV\")\n",
    "print(f\"Center B = {fit.params['iB__center'].value:.2f} eV\")\n",
    "print(f\"FWHM B = {fit.params['iB__fwhm'].value:.3f} eV\")\n",
    "print(f\"Center C = {fit.params['iC__center'].value:.2f} eV\")\n",
    "print(f\"FWHM C = {fit.params['iC__fwhm'].value:.3f} eV\")\n",
    "# print(f\"Center D = {fit.params['iD__center'].value:.2f} eV\")\n",
    "# print(f\"FWHM D = {fit.params['iD__fwhm'].value:.3f} eV\")"
   ]
  },
  {
   "cell_type": "code",
   "execution_count": null,
   "id": "e3f0f9c8-3969-47da-959a-f89f75429fa6",
   "metadata": {
    "tags": []
   },
   "outputs": [],
   "source": [
    "fit.result"
   ]
  },
  {
   "cell_type": "code",
   "execution_count": null,
   "id": "404b473f-00f3-41ba-b717-4faab25e1fa9",
   "metadata": {
    "tags": []
   },
   "outputs": [],
   "source": [
    "## Plot Data and Fit\n",
    "fig = tr_functions.thesis_fig(\n",
    "    title=f\"EDC\",\n",
    "    xaxis_title=\"Intensity (arb. u)\",\n",
    "    yaxis_title=yaxis_title,\n",
    "    equiv_axes=False,\n",
    "    gridlines=False,\n",
    "    height=500,\n",
    "    width=300,\n",
    "    dtick_y=0.2\n",
    "    # height=800,\n",
    "    # width=500,\n",
    ")\n",
    "\n",
    "fig.add_trace(go.Scatter(x=col, y=y_1d, line=dict(color=colors[0]), name=\"data\"))\n",
    "\n",
    "fig.add_trace(go.Scatter(x=fit.eval(x=y_1d), y=y_1d, name=\"fit\"))\n",
    "\n",
    "\n",
    "components = fit.eval_components(x=y_1d)\n",
    "for model_name, model_value in list(components.items())[1:4]:\n",
    "    fig.add_annotation(\n",
    "        x=fit.eval(x=fit.params[f\"{model_name}center\"].value),\n",
    "        y=fit.params[f\"{model_name}center\"].value,\n",
    "        text=f'{fit.params[f\"{model_name}center\"].value:.2f} ',\n",
    "        font=dict(size=18, color=colors[0]),\n",
    "        ax=50,\n",
    "        ay=30,\n",
    "        bgcolor=\"white\",\n",
    "        # opacity=1,\n",
    "        # bordercolor=colors[0],\n",
    "        # borderwidth=2,\n",
    "        # borderpad=4,\n",
    "    )\n",
    "\n",
    "# fig.update_yaxes(range=(2.0, 2.8))\n",
    "\n",
    "fig.show()"
   ]
  },
  {
   "cell_type": "code",
   "execution_count": null,
   "id": "9e288636-2f77-4e20-b7af-eea811e767e5",
   "metadata": {
    "tags": []
   },
   "outputs": [],
   "source": [
    "## Plot Fit Components ##\n",
    "\n",
    "fig = tr_functions.thesis_fig(\n",
    "    title=f\"{title}<br> Fit Components\",\n",
    "    xaxis_title=yaxis_title,\n",
    "    yaxis_title=\"Intensity [arb. u]\",\n",
    "    equiv_axes=False,\n",
    "    gridlines=False,\n",
    "    height=600,\n",
    "    width=900,\n",
    ")\n",
    "\n",
    "components = fit.eval_components(x=y_1d)\n",
    "for model_name, model_value in components.items():\n",
    "    fig.add_trace(\n",
    "        go.Scatter(\n",
    "            x=y_1d,\n",
    "            y=model_value,\n",
    "            name=model_name,\n",
    "        )\n",
    "    )\n",
    "\n",
    "fig.data[4].update(name=\"offset\")\n",
    "\n",
    "for model_name, model_value in list(components.items())[1:4]:\n",
    "    fig.add_annotation(\n",
    "        x=fit.params[f\"{model_name}center\"].value,\n",
    "        # y=fit.eval(x=fit.params[f\"{model_name}center\"].value),\n",
    "        # xref=\"x domain\",\n",
    "        yref=\"y domain\",\n",
    "        # The arrow head will be 25% along the x axis, starting from the left\n",
    "        # x=0.25,\n",
    "        # The arrow head will be 40% along the y axis, starting from the bottom\n",
    "        y=0.3,\n",
    "        showarrow=False,\n",
    "        text=f'{fit.params[f\"{model_name}center\"].value:.2f} eV<br>{fit.params[f\"{model_name}fwhm\"].value:.2f} eV',\n",
    "        font=dict(size=12),\n",
    "        # ax=-300,\n",
    "        # ay=0,\n",
    "        bgcolor=\"white\",\n",
    "        # opacity=1,\n",
    "        # bordercolor=colors[0],\n",
    "        # borderwidth=2,\n",
    "        # borderpad=4,\n",
    "    )\n",
    "\n",
    "\n",
    "fig.show()"
   ]
  },
  {
   "cell_type": "code",
   "execution_count": null,
   "id": "98fdf3a7-cb69-4dea-b677-2ad5b3a392af",
   "metadata": {},
   "outputs": [],
   "source": []
  }
 ],
 "metadata": {
  "kernelspec": {
   "display_name": "Python 3 (ipykernel)",
   "language": "python",
   "name": "python3"
  },
  "language_info": {
   "codemirror_mode": {
    "name": "ipython",
    "version": 3
   },
   "file_extension": ".py",
   "mimetype": "text/x-python",
   "name": "python",
   "nbconvert_exporter": "python",
   "pygments_lexer": "ipython3",
   "version": "3.8.12"
  }
 },
 "nbformat": 4,
 "nbformat_minor": 5
}
