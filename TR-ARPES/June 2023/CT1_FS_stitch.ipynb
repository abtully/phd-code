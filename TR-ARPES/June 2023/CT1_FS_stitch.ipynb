{
 "cells": [
  {
   "cell_type": "markdown",
   "id": "3ff2997b-a5b5-4a32-891a-00aac86f7400",
   "metadata": {
    "tags": []
   },
   "source": [
    "## Imports"
   ]
  },
  {
   "cell_type": "code",
   "execution_count": null,
   "id": "12c13cd3-01c6-4841-963e-73cb2dc01fd8",
   "metadata": {
    "tags": []
   },
   "outputs": [],
   "source": [
    "%load_ext lab_black\n",
    "\n",
    "import h5py\n",
    "import os\n",
    "import numpy as np\n",
    "from typing import Dict, List, Optional, Tuple\n",
    "\n",
    "from dataclasses import dataclass\n",
    "from tqdm.auto import tqdm\n",
    "from scipy.signal import savgol_filter\n",
    "from scipy.interpolate import interp2d\n",
    "from functools import lru_cache\n",
    "\n",
    "\n",
    "import plotly.graph_objects as go\n",
    "import plotly.colors as pc\n",
    "import matplotlib.pyplot as plt\n",
    "\n",
    "\n",
    "import sys\n",
    "\n",
    "sys.path.append(r\"C:\\Users\\atully\\Code\\GitHub\\ARPES Code\\arpes-code-python\")\n",
    "from arpes_functions import (\n",
    "    fitting_functions,\n",
    "    analysis_functions,\n",
    "    plotting_functions,\n",
    "    HDF5_loader,\n",
    "    misc_functions,\n",
    "    filter_functions,\n",
    "    tr_functions,\n",
    "    loading_functions,\n",
    "    kw_data_loader,\n",
    "    cnn,\n",
    "    polygons,\n",
    ")\n",
    "\n",
    "colors = pc.qualitative.D3\n",
    "angstrom = \"\\u212B\"\n",
    "Theta = \"\\u0398\"\n",
    "phi = \"\\u03C6\""
   ]
  },
  {
   "cell_type": "code",
   "execution_count": null,
   "id": "761543db-f8e2-421e-9da0-1bd829d7b99b",
   "metadata": {
    "tags": []
   },
   "outputs": [],
   "source": [
    "def average_timescans(files, ddir, new_filename):\n",
    "    datas = []\n",
    "    for i in range(0, len(files)):\n",
    "        ad = ARPES_DATA[files[i]]\n",
    "        datas.append(ad.data)\n",
    "    data_avg = np.mean(datas, axis=0)\n",
    "    print(data_avg.shape)\n",
    "\n",
    "    new_data = data_avg\n",
    "\n",
    "    new_fn = os.path.join(ddir, new_filename)\n",
    "\n",
    "    with h5py.File(\n",
    "        new_fn, \"w\"\n",
    "    ) as f:  # Note: 'w' creates a new empty file (or overwrites), use 'r+' to modify an existing file\n",
    "        f[\"data\"] = new_data.T\n",
    "        axes_names = [\n",
    "            \"angles\",\n",
    "            \"energies\",\n",
    "        ]  # Change these to match your axes labels\n",
    "        axes = [ad.theta, ad.energy]\n",
    "        for axis, name in zip(axes, axes_names):\n",
    "            f[name] = np.atleast_2d(axis).T\n",
    "        entry_group = f.require_group(\"entry1\")\n",
    "        entry_group[\"ScanValues\"] = np.atleast_2d(ad.phi_or_time).T\n",
    "    return new_fn\n",
    "\n",
    "\n",
    "def sum_timescans(files, ddir, new_filename):\n",
    "    datas = []\n",
    "    for i in range(0, len(files)):\n",
    "        ad = ARPES_DATA[files[i]]\n",
    "        datas.append(ad.data)\n",
    "    data_avg = np.sum(datas, axis=0)\n",
    "    print(data_avg.shape)\n",
    "\n",
    "    new_data = data_avg\n",
    "\n",
    "    new_fn = os.path.join(ddir, new_filename)\n",
    "\n",
    "    with h5py.File(\n",
    "        new_fn, \"w\"\n",
    "    ) as f:  # Note: 'w' creates a new empty file (or overwrites), use 'r+' to modify an existing file\n",
    "        f[\"data\"] = new_data.T\n",
    "        axes_names = [\n",
    "            \"angles\",\n",
    "            \"energies\",\n",
    "        ]  # Change these to match your axes labels\n",
    "        axes = [ad.theta, ad.energy]\n",
    "        for axis, name in zip(axes, axes_names):\n",
    "            f[name] = np.atleast_2d(axis).T\n",
    "        entry_group = f.require_group(\"entry1\")\n",
    "        entry_group[\"ScanValues\"] = np.atleast_2d(ad.phi_or_time).T\n",
    "    return new_fn"
   ]
  },
  {
   "cell_type": "markdown",
   "id": "8420489a-0cd7-40e6-8a3a-bc81638b6e8c",
   "metadata": {
    "tags": []
   },
   "source": [
    "# Convert Data"
   ]
  },
  {
   "cell_type": "code",
   "execution_count": null,
   "id": "4d8fceb9-f96f-4d93-bd55-5da1fa0b93fb",
   "metadata": {
    "tags": []
   },
   "outputs": [],
   "source": [
    "# ## Convert K corrected .ibw data to .h5 ##\n",
    "\n",
    "# ddir = r\"E:\\atully\\arpes_data\\2023_June\\C60\\ARPES\\FS\\k_corrected\"\n",
    "\n",
    "# # STEP 1 ##\n",
    "# # Convert ibw to hdf5\n",
    "# fn = \"FS1_avg_gkw.ibw\"\n",
    "# HDF5_loader.ibw_to_hdf5(ddir, fn, export=True)\n",
    "\n",
    "# # Check conversion worked\n",
    "# data, kx, ky, energy = HDF5_loader.load_hdf5(\n",
    "#     ddir, \"FS1_avg_gkw.h5\"\n",
    "# )  # load data from hdf5\n",
    "# data.shape, kx.shape, ky.shape, energy.shape"
   ]
  },
  {
   "cell_type": "markdown",
   "id": "949b3987-7ea4-43be-8bc3-be4660c32484",
   "metadata": {},
   "source": [
    "# Stitch Full CT1 "
   ]
  },
  {
   "cell_type": "code",
   "execution_count": null,
   "id": "aecd3119-d0fc-485e-8534-bd1131439d1e",
   "metadata": {
    "tags": []
   },
   "outputs": [],
   "source": [
    "ddir = r\"E:\\atully\\arpes_data\\2023_June\\C60\\ARPES\\FS\\k_corrected\""
   ]
  },
  {
   "cell_type": "code",
   "execution_count": null,
   "id": "f9668f16-eee9-428c-b153-26d3af69549f",
   "metadata": {
    "tags": []
   },
   "outputs": [],
   "source": [
    "## HOMO is at 2.05 eV below EF, based on fits from this data averaged with fits from tr-ARPES results ##\n",
    "\n",
    "EF_400 = 1.91  # in kinetic energy, slit 400\n",
    "\n",
    "homo = -2.05\n",
    "\n",
    "homo_400 = homo + EF_400"
   ]
  },
  {
   "cell_type": "markdown",
   "id": "beeca0c4-7a36-4793-9b8d-6e07903aeb3f",
   "metadata": {},
   "source": [
    "## Left Side"
   ]
  },
  {
   "cell_type": "code",
   "execution_count": null,
   "id": "eb345d04-bc11-4e0c-96dc-819e4b2dbfd7",
   "metadata": {},
   "outputs": [],
   "source": [
    "## CT1 -- largest area matching stats\n",
    "\n",
    "# files = [\"FS0_avg_gkw.h5\"]  # bottom\n",
    "# files = [\"FS3_avg_gkw.h5\"]  # top\n",
    "# files = [\"FS2_avg_gkw.h5\"]  # full range\n",
    "\n",
    "files = []\n",
    "files = [\"FS0_avg_gkw.h5\", \"FS3_avg_gkw.h5\", \"FS2_avg_gkw.h5\"]\n",
    "\n",
    "# This works, but makes dataclass with theta and phi_or_time instead of kx and ky\n",
    "ARPES_DATA: Dict[str, tr_functions.ArpesData] = {}\n",
    "ARPES_ATTRS: Dict[str, tr_functions.ArpesAttrs] = {}\n",
    "for file in tqdm(files):\n",
    "    data, kx, ky, energy = loading_functions.load_hdf5(ddir, file)\n",
    "    ARPES_DATA[file] = tr_functions.ArpesData(\n",
    "        data=data, theta=kx, phi_or_time=ky, energy=energy\n",
    "    )\n",
    "    ARPES_ATTRS[file] = tr_functions.load_attrs_hdf5(ddir, file)\n",
    "\n",
    "ad_bottom_left = ARPES_DATA[files[0]]\n",
    "ad_top_left = ARPES_DATA[files[1]]\n",
    "ad_full_left = ARPES_DATA[files[2]]"
   ]
  },
  {
   "cell_type": "code",
   "execution_count": null,
   "id": "782f150f-b332-4d20-9ce3-1eb4c73319e0",
   "metadata": {
    "tags": []
   },
   "outputs": [],
   "source": [
    "## Adjust energy axis to be relative to HOMO ##\n",
    "homo_zero = False\n",
    "homo_zero = True\n",
    "\n",
    "if homo_zero:\n",
    "    ad_bottom_left.energy = ad_bottom_left.energy - homo_400\n",
    "    ad_top_left.energy = ad_top_left.energy - homo_400\n",
    "    ad_full_left.energy = ad_full_left.energy - homo_400"
   ]
  },
  {
   "cell_type": "code",
   "execution_count": null,
   "id": "19b519ff-bb32-4aaa-80fc-6f0362876a47",
   "metadata": {
    "tags": []
   },
   "outputs": [],
   "source": [
    "slice_val = 2.1\n",
    "slice_val = 2.15\n",
    "slice_val = 2.2\n",
    "# slice_val = 2.3\n",
    "# slice_val = 2.4\n",
    "# slice_val = 2.5\n",
    "# slice_val = 2.6\n",
    "\n",
    "slice_dim = \"y\"\n",
    "int_range = 0.1\n",
    "# int_range = 0.1\n",
    "\n",
    "xlim = (-0.13, 0.31)\n",
    "# xlim = None\n",
    "ylim = (-0.4, 0.14)\n",
    "# ylim = None\n",
    "\n",
    "x_bin = 2\n",
    "y_bin = 2"
   ]
  },
  {
   "cell_type": "code",
   "execution_count": null,
   "id": "9c40151b-5807-4f83-9a1d-d1ae63527a76",
   "metadata": {
    "tags": []
   },
   "outputs": [],
   "source": [
    "title = f\"E - E<sub>HOMO</sub> = {slice_val} eV\"\n",
    "yaxis_title = f\"k<sub>y</sub> [{angstrom}<sup>-1</sup>]\"\n",
    "xaxis_title = f\"k<sub>x</sub> [{angstrom}<sup>-1</sup>]\""
   ]
  },
  {
   "cell_type": "code",
   "execution_count": null,
   "id": "eb6c2e45-d6fb-4d41-ad64-5d1a0fcf70d9",
   "metadata": {
    "tags": []
   },
   "outputs": [],
   "source": [
    "## Get Slices ##\n",
    "\n",
    "x_bottom_left, y_bottom_left, d_bottom_left = tr_functions.slice_datacube(\n",
    "    ad_dataclass=ad_bottom_left,\n",
    "    slice_dim=slice_dim,\n",
    "    slice_val=slice_val,\n",
    "    int_range=int_range,\n",
    "    xlim=xlim,\n",
    "    ylim=(-0.4, 0.094),\n",
    "    x_bin=x_bin,\n",
    "    y_bin=y_bin,\n",
    "    norm_data=True,\n",
    "    plot_data=False,\n",
    ")\n",
    "\n",
    "x_top_left, y_top_left, d_top_left = tr_functions.slice_datacube(\n",
    "    ad_dataclass=ad_top_left,\n",
    "    slice_dim=slice_dim,\n",
    "    slice_val=slice_val,\n",
    "    int_range=int_range,\n",
    "    xlim=xlim,\n",
    "    ylim=(0.090, 0.14),\n",
    "    x_bin=x_bin,\n",
    "    y_bin=y_bin,\n",
    "    norm_data=True,\n",
    "    plot_data=False,\n",
    ")\n",
    "\n",
    "x_full_left, y_full_left, d_full_left = tr_functions.slice_datacube(\n",
    "    ad_dataclass=ad_full_left,\n",
    "    slice_dim=slice_dim,\n",
    "    slice_val=slice_val,\n",
    "    int_range=int_range,\n",
    "    xlim=xlim,\n",
    "    ylim=ylim,\n",
    "    x_bin=x_bin,\n",
    "    y_bin=y_bin,\n",
    "    norm_data=True,\n",
    "    plot_data=False,\n",
    ")"
   ]
  },
  {
   "cell_type": "code",
   "execution_count": null,
   "id": "d23223cf-b2cc-43b9-8066-c62d7625301f",
   "metadata": {
    "tags": []
   },
   "outputs": [],
   "source": [
    "# ## Plot Data ##\n",
    "# x_plot, y_plot, d_plot = x_full_left, y_full_left, d_full_left\n",
    "# x_plot, y_plot, d_plot = x_bottom_left, y_bottom_left, d_bottom_left\n",
    "\n",
    "# fig = tr_functions.thesis_fig(\n",
    "#     title=f\"CT<sub>1</sub> (E - E<sub>HOMO</sub> = {slice_val})\",\n",
    "#     xaxis_title=xaxis_title,\n",
    "#     yaxis_title=yaxis_title,\n",
    "#     equiv_axes=True,\n",
    "#     height=500,\n",
    "#     width=500,\n",
    "# )\n",
    "\n",
    "# fig.add_trace(\n",
    "#     go.Heatmap(\n",
    "#         x=x_plot,\n",
    "#         y=y_plot,\n",
    "#         z=d_plot,\n",
    "#         coloraxis=\"coloraxis\",\n",
    "#     )\n",
    "# )\n",
    "\n",
    "# hexagon = polygons.gen_polygon(6, 0.42, rotation=30)\n",
    "# fig = polygons.plot_polygon(\n",
    "#     hexagon, color=\"yellow\", fig=fig, show=False, dash=True, dash_width=3\n",
    "# )\n",
    "\n",
    "# fig.update_coloraxes(cmin=0, cmax=1)\n",
    "\n",
    "# fig.update_xaxes(range=[np.min(x_plot), np.max(x_plot)], constrain=\"domain\")\n",
    "# # fig.update_yaxes(range=[np.min(y_plot), np.max(y_plot)], scaleanchor=\"x\", scaleratio=1)\n",
    "# fig.update_yaxes(range=[np.min(y_plot), np.max(y_plot)], constrain=\"domain\")\n",
    "\n",
    "# fig.show()"
   ]
  },
  {
   "cell_type": "code",
   "execution_count": null,
   "id": "93688d1a-a74f-47f6-a9fd-f3b7b6df28f5",
   "metadata": {
    "tags": []
   },
   "outputs": [],
   "source": [
    "## Stitch left side: bottom (FS0), top (FS3) ##\n",
    "\n",
    "x1, y1, dataslice1 = x_bottom_left, y_bottom_left, d_bottom_left\n",
    "x2, y2, dataslice2 = (\n",
    "    x_top_left,\n",
    "    y_top_left,\n",
    "    d_top_left / 2,\n",
    "    # d_top_left,\n",
    ")  # normalize background to each other\n",
    "\n",
    "xs, ys, ds = tr_functions.stitch_and_avg(\n",
    "    x1,\n",
    "    y1,\n",
    "    dataslice1,\n",
    "    x2,\n",
    "    y2,\n",
    "    dataslice2,\n",
    "    no_avg=False,\n",
    ")"
   ]
  },
  {
   "cell_type": "code",
   "execution_count": null,
   "id": "900ce7b3-d8e6-404b-8a29-00543df9b4a2",
   "metadata": {
    "tags": []
   },
   "outputs": [],
   "source": [
    "## Fix 4 rows of missing data ##\n",
    "x_fix, y_fix, d_fix = xs, ys, ds\n",
    "\n",
    "# Bad traces (rows): 922 through 925\n",
    "# Set data rows 922 - 925 = 0.5 * (921 + 926)\n",
    "\n",
    "row_below = d_fix[921]\n",
    "row_above = d_fix[926]\n",
    "d_fix[922] = 0.5 * (row_below + row_above)\n",
    "d_fix[923] = 0.5 * (row_below + row_above)\n",
    "d_fix[924] = 0.5 * (row_below + row_above)\n",
    "d_fix[925] = 0.5 * (row_below + row_above)\n",
    "ds = d_fix\n",
    "\n",
    "# # def fix_row(data, row):\n",
    "# #     row_below = data[row - 1]\n",
    "# #     row_above = data[row + 1]\n",
    "# #     data[row] = 0.5 * (row_below + row_above)\n",
    "# # fix_row(d_homo, 564)"
   ]
  },
  {
   "cell_type": "code",
   "execution_count": null,
   "id": "317e2ac2-9450-4c67-92b3-aa46a0ce5fc4",
   "metadata": {
    "tags": []
   },
   "outputs": [],
   "source": [
    "## Average with full left side: (FS2) ##\n",
    "\n",
    "x1, y1, dataslice1 = xs, ys, ds\n",
    "x2, y2, dataslice2 = x_full_left, y_full_left, d_full_left\n",
    "\n",
    "xs_2, ys_2, ds_2 = tr_functions.stitch_and_avg(\n",
    "    x1,\n",
    "    y1,\n",
    "    dataslice1,\n",
    "    x2,\n",
    "    y2,\n",
    "    dataslice2,\n",
    "    no_avg=False,\n",
    ")"
   ]
  },
  {
   "cell_type": "code",
   "execution_count": null,
   "id": "f9060e82-62b6-49cc-92db-8e38b121efc1",
   "metadata": {},
   "outputs": [],
   "source": [
    "# ## Fix 8 cols of missing data ##\n",
    "# x_fix, y_fix, d_fix = xs_2, ys_2, ds_2\n",
    "\n",
    "# # Bad traces (cols): 792 through 814\n",
    "# # Set data cols 792 - 814 = 0.5 * (791 + 815)\n",
    "\n",
    "# col_left = d_fix[:, 791]\n",
    "# col_right = d_fix[:, 815]\n",
    "# d_fix[:, 792] = 0.5 * (col_left + col_right)\n",
    "# d_fix[:, 793] = 0.5 * (col_left + col_right)\n",
    "# d_fix[:, 288] = 0.5 * (col_left + col_right)\n",
    "# d_fix[:, 289] = 0.5 * (col_left + col_right)\n",
    "# d_fix[:, 290] = 0.5 * (col_left + col_right)\n",
    "# d_fix[:, 291] = 0.5 * (col_left + col_right)\n",
    "# d_fix[:, 292] = 0.5 * (col_left + col_right)\n",
    "# d_fix[:, 293] = 0.5 * (col_left + col_right)\n",
    "# ds_2 = d_fix"
   ]
  },
  {
   "cell_type": "code",
   "execution_count": null,
   "id": "76000595-32e3-432f-88bc-dd0b3912576c",
   "metadata": {
    "tags": []
   },
   "outputs": [],
   "source": [
    "# x_left, y_left, d_left = xs, ys, ds\n",
    "x_left, y_left, d_left = xs_2, ys_2, ds_2"
   ]
  },
  {
   "cell_type": "code",
   "execution_count": null,
   "id": "5ad10c4f-a822-4c8e-aacf-e52c44f28fef",
   "metadata": {
    "tags": []
   },
   "outputs": [],
   "source": [
    "# ## Plot Data ##\n",
    "\n",
    "# # x_plot, y_plot, d_plot = x_bottom_left, y_bottom_left, d_bottom_left\n",
    "# # x_plot, y_plot, d_plot = x_top_left, y_top_left, d_top_left\n",
    "# # x_plot, y_plot, d_plot = x_full_left, y_full_left, d_full_left\n",
    "\n",
    "# x_plot, y_plot, d_plot = x_left, y_left, d_left\n",
    "\n",
    "# fig = tr_functions.thesis_fig(\n",
    "#     title=title,\n",
    "#     xaxis_title=xaxis_title,\n",
    "#     yaxis_title=yaxis_title,\n",
    "#     equiv_axes=False,\n",
    "#     height=500,\n",
    "#     width=500,\n",
    "# )\n",
    "\n",
    "# fig.add_trace(\n",
    "#     go.Heatmap(\n",
    "#         x=x_plot,\n",
    "#         y=y_plot,\n",
    "#         z=analysis_functions.norm_data(d_plot),\n",
    "#         coloraxis=\"coloraxis\",\n",
    "#     )\n",
    "# )\n",
    "\n",
    "# fig.update_coloraxes(cmin=0, cmax=1)\n",
    "\n",
    "# fig.show()"
   ]
  },
  {
   "cell_type": "code",
   "execution_count": null,
   "id": "5e15d394-6853-4d6e-9cff-9629ace8b12e",
   "metadata": {
    "tags": []
   },
   "outputs": [],
   "source": [
    "# ## Rotate Data ##\n",
    "\n",
    "# x, y, z = x_left, y_left, d_left\n",
    "# coords = tr_functions.x_y_to_coords(x, y)\n",
    "\n",
    "# rotated_coords = tr_functions.rotate_2d_array(coords, 120, (0, 0))\n",
    "# rotated_coords_2 = tr_functions.rotate_2d_array(coords, 240, (0, 0))\n",
    "\n",
    "# nx, ny, nd = tr_functions.interpolate(rotated_coords, z)\n",
    "# nx_2, ny_2, nd_2 = tr_functions.interpolate(rotated_coords_2, z)"
   ]
  },
  {
   "cell_type": "code",
   "execution_count": null,
   "id": "386fa2eb-a3e4-41db-b955-a39c0b041101",
   "metadata": {
    "tags": []
   },
   "outputs": [],
   "source": [
    "# ## Plot raw data and rotations on same figure ##\n",
    "\n",
    "# fig = tr_functions.thesis_fig(\n",
    "#     title=title,\n",
    "#     xaxis_title=xaxis_title,\n",
    "#     yaxis_title=yaxis_title,\n",
    "#     equiv_axes=True,\n",
    "#     gridlines=False,\n",
    "#     height=600,\n",
    "#     width=600,\n",
    "# )\n",
    "\n",
    "# fig.add_trace(\n",
    "#     go.Heatmap(\n",
    "#         x=nx_2,\n",
    "#         y=ny_2,\n",
    "#         z=nd_2,\n",
    "#         coloraxis=\"coloraxis\",\n",
    "#         # opacity=0.85,\n",
    "#     )\n",
    "# )\n",
    "\n",
    "# fig.add_trace(\n",
    "#     go.Heatmap(\n",
    "#         x=nx,\n",
    "#         y=ny,\n",
    "#         z=nd,\n",
    "#         coloraxis=\"coloraxis\",\n",
    "#         # opacity=0.85,\n",
    "#     )\n",
    "# )\n",
    "\n",
    "# fig.add_trace(\n",
    "#     go.Heatmap(\n",
    "#         x=x,\n",
    "#         y=y,\n",
    "#         z=z,\n",
    "#         coloraxis=\"coloraxis\",\n",
    "#         # opacity=0.85,\n",
    "#     )\n",
    "# )\n",
    "\n",
    "# hexagon = polygons.gen_polygon(6, 0.42, rotation=30)\n",
    "# fig = polygons.plot_polygon(\n",
    "#     hexagon, color=\"yellow\", fig=fig, show=False, dash=True, dash_width=3\n",
    "# )\n",
    "\n",
    "# fig.update_coloraxes(\n",
    "#     colorscale=\"ice\",\n",
    "#     reversescale=True,\n",
    "#     showscale=True,\n",
    "#     cmin=0,\n",
    "#     cmax=None,\n",
    "# )\n",
    "# fig.update_yaxes(scaleanchor=\"x\", scaleratio=1)\n",
    "# fig.show()"
   ]
  },
  {
   "cell_type": "markdown",
   "id": "1064b945-883b-42ae-a2f1-426d46383509",
   "metadata": {},
   "source": [
    "## Right Side"
   ]
  },
  {
   "cell_type": "code",
   "execution_count": null,
   "id": "1aa67be1-f3b2-4c66-b652-6ce36081c3f6",
   "metadata": {
    "tags": []
   },
   "outputs": [],
   "source": [
    "# CT1 -- largest area matching stats\n",
    "\n",
    "# files = [\"FS1_avg_gkw.h5\"]  # bottom\n",
    "# files = [\"FS4_avg_gkw.h5\"]  # top\n",
    "# files = [\"FS567_avg_gkw.h5\"]  # full range\n",
    "files = []\n",
    "files = [\"FS1_avg_gkw.h5\", \"FS4_avg_gkw.h5\", \"FS567_avg_gkw.h5\"]\n",
    "\n",
    "\n",
    "# This works, but makes dataclass with theta and phi_or_time instead of kx and ky\n",
    "ARPES_DATA: Dict[str, tr_functions.ArpesData] = {}\n",
    "ARPES_ATTRS: Dict[str, tr_functions.ArpesAttrs] = {}\n",
    "for file in tqdm(files):\n",
    "    data, kx, ky, energy = loading_functions.load_hdf5(ddir, file)\n",
    "    ARPES_DATA[file] = tr_functions.ArpesData(\n",
    "        data=data, theta=kx, phi_or_time=ky, energy=energy\n",
    "    )\n",
    "    ARPES_ATTRS[file] = tr_functions.load_attrs_hdf5(ddir, file)\n",
    "\n",
    "ad_bottom_right = ARPES_DATA[files[0]]\n",
    "ad_top_right = ARPES_DATA[files[1]]\n",
    "ad_full_right = ARPES_DATA[files[2]]"
   ]
  },
  {
   "cell_type": "code",
   "execution_count": null,
   "id": "2cd5a1c6-f93c-488b-b279-c095697fb846",
   "metadata": {
    "tags": []
   },
   "outputs": [],
   "source": [
    "## Adjust energy axis to be relative to HOMO ##\n",
    "homo_zero = False\n",
    "homo_zero = True\n",
    "\n",
    "if homo_zero:\n",
    "    ad_bottom_right.energy = ad_bottom_right.energy - homo_400\n",
    "    ad_top_right.energy = ad_top_right.energy - homo_400\n",
    "    ad_full_right.energy = ad_full_right.energy - homo_400"
   ]
  },
  {
   "cell_type": "code",
   "execution_count": null,
   "id": "976580b4-66bc-4a0f-98d2-016ae9321abd",
   "metadata": {
    "tags": []
   },
   "outputs": [],
   "source": [
    "slice_dim = \"y\"\n",
    "# slice_val = 0\n",
    "# int_range = 0.02\n",
    "xlim = (0.051, 0.468)\n",
    "# xlim = None\n",
    "ylim = (-0.4, 0.14)\n",
    "x_bin = 2\n",
    "y_bin = 2"
   ]
  },
  {
   "cell_type": "code",
   "execution_count": null,
   "id": "5ec9fa3c-2bf5-4020-9b8a-65d107f9ff55",
   "metadata": {
    "tags": []
   },
   "outputs": [],
   "source": [
    "## Get Slices ##\n",
    "\n",
    "x_bottom_right, y_bottom_right, d_bottom_right = tr_functions.slice_datacube(\n",
    "    ad_dataclass=ad_bottom_right,\n",
    "    slice_dim=slice_dim,\n",
    "    slice_val=slice_val,\n",
    "    int_range=int_range,\n",
    "    xlim=xlim,\n",
    "    ylim=(-0.4, 0.1),\n",
    "    x_bin=x_bin,\n",
    "    y_bin=y_bin,\n",
    "    norm_data=True,\n",
    "    plot_data=False,\n",
    ")\n",
    "\n",
    "x_top_right, y_top_right, d_top_right = tr_functions.slice_datacube(\n",
    "    ad_dataclass=ad_top_right,\n",
    "    slice_dim=slice_dim,\n",
    "    slice_val=slice_val,\n",
    "    int_range=int_range,\n",
    "    xlim=xlim,\n",
    "    ylim=ylim,\n",
    "    x_bin=x_bin,\n",
    "    y_bin=y_bin,\n",
    "    norm_data=True,\n",
    "    plot_data=False,\n",
    ")\n",
    "\n",
    "x_full_right, y_full_right, d_full_right = tr_functions.slice_datacube(\n",
    "    ad_dataclass=ad_full_right,\n",
    "    slice_dim=slice_dim,\n",
    "    slice_val=slice_val,\n",
    "    int_range=int_range,\n",
    "    xlim=xlim,\n",
    "    ylim=ylim,\n",
    "    x_bin=x_bin,\n",
    "    y_bin=y_bin,\n",
    "    norm_data=True,\n",
    "    plot_data=False,\n",
    ")"
   ]
  },
  {
   "cell_type": "code",
   "execution_count": null,
   "id": "92efc584-6b8b-4e44-a8ce-622df266ef99",
   "metadata": {
    "tags": []
   },
   "outputs": [],
   "source": [
    "## Stitch right side: bottom (FS1) & top (FS4) ##\n",
    "\n",
    "x1, y1, dataslice1 = x_bottom_right, y_bottom_right, d_bottom_right\n",
    "x2, y2, dataslice2 = x_top_right, y_top_right, d_top_right\n",
    "\n",
    "xs, ys, ds = tr_functions.stitch_and_avg(\n",
    "    x1,\n",
    "    y1,\n",
    "    dataslice1,\n",
    "    x2,\n",
    "    y2,\n",
    "    dataslice2,\n",
    "    no_avg=True,\n",
    ")"
   ]
  },
  {
   "cell_type": "code",
   "execution_count": null,
   "id": "8246744c-e739-4bce-bd87-8183db3e959c",
   "metadata": {
    "tags": []
   },
   "outputs": [],
   "source": [
    "# ## Fix 4 rows of missing data ##\n",
    "# x_fix, y_fix, d_fix = xs, ys, ds\n",
    "\n",
    "# # Bad traces (rows): 922 through 925\n",
    "# # Set data rows 922 - 925 = 0.5 * (921 + 926)\n",
    "\n",
    "# row_below = d_fix[921]\n",
    "# row_above = d_fix[926]\n",
    "# d_fix[922] = 0.5 * (row_below + row_above)\n",
    "# d_fix[923] = 0.5 * (row_below + row_above)\n",
    "# d_fix[924] = 0.5 * (row_below + row_above)\n",
    "# d_fix[925] = 0.5 * (row_below + row_above)\n",
    "\n",
    "# ds = d_fix"
   ]
  },
  {
   "cell_type": "code",
   "execution_count": null,
   "id": "18d68c72-8d2f-4a36-bc50-ef26bf05df74",
   "metadata": {
    "tags": []
   },
   "outputs": [],
   "source": [
    "## Average with full right side: (FS5) ##\n",
    "\n",
    "x1, y1, dataslice1 = xs, ys, ds\n",
    "x2, y2, dataslice2 = x_full_right, y_full_right, d_full_right\n",
    "\n",
    "xs_2, ys_2, ds_2 = tr_functions.stitch_and_avg(\n",
    "    x1,\n",
    "    y1,\n",
    "    dataslice1,\n",
    "    x2,\n",
    "    y2,\n",
    "    dataslice2,\n",
    "    no_avg=False,\n",
    ")"
   ]
  },
  {
   "cell_type": "code",
   "execution_count": null,
   "id": "ab426650-261c-4faf-85c6-355ca41033df",
   "metadata": {
    "tags": []
   },
   "outputs": [],
   "source": [
    "# x_right, y_right, d_right = xs, ys, ds\n",
    "x_right, y_right, d_right = xs_2, ys_2, ds_2"
   ]
  },
  {
   "cell_type": "code",
   "execution_count": null,
   "id": "82b218e7-ceea-4afe-af62-9fa4e8932286",
   "metadata": {
    "tags": []
   },
   "outputs": [],
   "source": [
    "# ## Plot Data ##\n",
    "# # x_plot, y_plot, d_plot = x_bottom_right, y_bottom_right, d_bottom_right\n",
    "# x_plot, y_plot, d_plot = x_full_right, y_full_right, d_full_right\n",
    "\n",
    "# x_plot, y_plot, d_plot = x_right, y_right, d_right\n",
    "\n",
    "# fig = tr_functions.thesis_fig(\n",
    "#     title=title,\n",
    "#     xaxis_title=xaxis_title,\n",
    "#     yaxis_title=yaxis_title,\n",
    "#     equiv_axes=False,\n",
    "#     height=500,\n",
    "#     width=500,\n",
    "# )\n",
    "\n",
    "# fig.add_trace(\n",
    "#     go.Heatmap(\n",
    "#         x=x_plot,\n",
    "#         y=y_plot,\n",
    "#         z=analysis_functions.norm_data(d_plot),\n",
    "#         coloraxis=\"coloraxis\",\n",
    "#     )\n",
    "# )\n",
    "\n",
    "# fig.update_coloraxes(cmin=0, cmax=1)\n",
    "\n",
    "# fig.show()"
   ]
  },
  {
   "cell_type": "code",
   "execution_count": null,
   "id": "dd5d0a1e-c636-4e2a-a15a-4287dd2cf1c5",
   "metadata": {
    "tags": []
   },
   "outputs": [],
   "source": [
    "## Stitch left and right side ##\n",
    "\n",
    "# 2.6 eV --> 0.7\n",
    "# 2.5 eV --> 0.8\n",
    "# 2.4 eV --> 1.2 ?\n",
    "# 2.3 eV --> 1.0, 0.85\n",
    "# 2.2 eV --> 1.1\n",
    "# 2.1 eV --> 1.3\n",
    "\n",
    "x1, y1, dataslice1 = x_left, y_left, analysis_functions.norm_data(d_left)\n",
    "x2, y2, dataslice2 = x_right, y_right, analysis_functions.norm_data(d_right) * 0.9\n",
    "\n",
    "xs_3, ys_3, ds_3 = tr_functions.stitch_and_avg(\n",
    "    x1,\n",
    "    y1,\n",
    "    dataslice1,\n",
    "    x2,\n",
    "    y2,\n",
    "    dataslice2,\n",
    "    no_avg=True,\n",
    ")"
   ]
  },
  {
   "cell_type": "code",
   "execution_count": null,
   "id": "14e2c79b-1630-45d4-b0e8-c16f0eb7440b",
   "metadata": {
    "tags": []
   },
   "outputs": [],
   "source": [
    "## Plot Data ##\n",
    "\n",
    "x_plot, y_plot, d_plot = x_right, y_right, d_right\n",
    "# x_plot, y_plot, d_plot = analysis_functions.limit_dataset(\n",
    "#     xs_3, ys_3, ds_3, xlim=None, ylim=(-0.395, 0.134)\n",
    "# )\n",
    "\n",
    "fig = tr_functions.thesis_fig(\n",
    "    title=title,\n",
    "    xaxis_title=xaxis_title,\n",
    "    yaxis_title=yaxis_title,\n",
    "    equiv_axes=True,\n",
    "    height=500,\n",
    "    width=500,\n",
    ")\n",
    "\n",
    "fig.add_trace(\n",
    "    go.Heatmap(\n",
    "        x=x_plot,\n",
    "        y=y_plot,\n",
    "        z=d_plot,\n",
    "        coloraxis=\"coloraxis\",\n",
    "    )\n",
    ")\n",
    "\n",
    "hexagon = polygons.gen_polygon(6, 0.42, rotation=30)\n",
    "fig = polygons.plot_polygon(\n",
    "    hexagon, color=\"yellow\", fig=fig, show=False, dash=True, dash_width=3\n",
    ")\n",
    "\n",
    "fig.update_coloraxes(cmin=0.15, cmax=0.7)\n",
    "# fig.update_coloraxes(colorscale=\"Blues\", reversescale=False)\n",
    "\n",
    "fig.update_xaxes(range=[np.min(x_plot), np.max(x_plot)], constrain=\"domain\")\n",
    "# fig.update_yaxes(range=[np.min(y_plot), np.max(y_plot)], scaleanchor=\"x\", scaleratio=1)\n",
    "fig.update_yaxes(range=[np.min(y_plot), np.max(y_plot)], constrain=\"domain\")\n",
    "\n",
    "fig.show()"
   ]
  },
  {
   "cell_type": "markdown",
   "id": "443b1b59-5306-4238-a1bc-7494fe4b0d8c",
   "metadata": {},
   "source": [
    "## Reconstruct Full BZ"
   ]
  },
  {
   "cell_type": "code",
   "execution_count": null,
   "id": "026d7047-8a5d-4242-a270-1058889faf07",
   "metadata": {
    "tags": []
   },
   "outputs": [],
   "source": [
    "x, y, z = analysis_functions.limit_dataset(\n",
    "    xs_3, ys_3, ds_3, xlim=None, ylim=(np.min(ys_3), 0.13)\n",
    ")"
   ]
  },
  {
   "cell_type": "code",
   "execution_count": null,
   "id": "cfab503a-f6b3-46ab-826d-a21fcf8987f8",
   "metadata": {},
   "outputs": [],
   "source": [
    "## Rotate Data ##\n",
    "\n",
    "# x, y, z = x, y - 0.09, z\n",
    "\n",
    "coords = tr_functions.x_y_to_coords(x, y)\n",
    "\n",
    "rotated_coords = tr_functions.rotate_2d_array(coords, 120, (0, 0))\n",
    "rotated_coords_2 = tr_functions.rotate_2d_array(coords, 240, (0, 0))\n",
    "\n",
    "nx, ny, nd = tr_functions.interpolate(rotated_coords, z)\n",
    "nx_2, ny_2, nd_2 = tr_functions.interpolate(rotated_coords_2, z)"
   ]
  },
  {
   "cell_type": "code",
   "execution_count": null,
   "id": "46f98bb9-077c-455f-b22e-acbd307c0ec2",
   "metadata": {},
   "outputs": [],
   "source": [
    "## Plot raw data and rotations on same figure ##\n",
    "\n",
    "fig = tr_functions.thesis_fig(\n",
    "    title=title,\n",
    "    xaxis_title=xaxis_title,\n",
    "    yaxis_title=yaxis_title, \n",
    "    equiv_axes=True,\n",
    "    gridlines=False,\n",
    "    height=600,\n",
    "    width=600,\n",
    ")\n",
    "\n",
    "fig.add_trace(\n",
    "    go.Heatmap(\n",
    "        x=nx_2,\n",
    "        y=ny_2,\n",
    "        z=nd_2,\n",
    "        coloraxis=\"coloraxis\",\n",
    "        # opacity=0.85,\n",
    "    )\n",
    ")\n",
    "\n",
    "fig.add_trace(\n",
    "    go.Heatmap(\n",
    "        x=nx,\n",
    "        y=ny,\n",
    "        z=nd,\n",
    "        coloraxis=\"coloraxis\",\n",
    "        # opacity=0.85,\n",
    "    )\n",
    ")\n",
    "\n",
    "fig.add_trace(\n",
    "    go.Heatmap(\n",
    "        x=x,\n",
    "        y=y,\n",
    "        z=z,\n",
    "        coloraxis=\"coloraxis\",\n",
    "        # opacity=0.85,\n",
    "    )\n",
    ")\n",
    "\n",
    "hexagon = polygons.gen_polygon(6, 0.42, rotation=30)\n",
    "fig = polygons.plot_polygon(\n",
    "    hexagon, color=\"yellow\", fig=fig, show=False, dash=True, dash_width=3\n",
    ")\n",
    "\n",
    "fig.update_coloraxes(\n",
    "    colorscale=\"ice\",\n",
    "    reversescale=True,\n",
    "    showscale=True,\n",
    "    cmin=0,\n",
    "    cmax=None,\n",
    ")\n",
    "fig.update_yaxes(scaleanchor=\"x\", scaleratio=1)\n",
    "fig.show()"
   ]
  },
  {
   "cell_type": "code",
   "execution_count": null,
   "id": "9a0b9f23-d08e-4383-852e-9c1d29f42e94",
   "metadata": {},
   "outputs": [],
   "source": []
  }
 ],
 "metadata": {
  "kernelspec": {
   "display_name": "Python 3 (ipykernel)",
   "language": "python",
   "name": "python3"
  },
  "language_info": {
   "codemirror_mode": {
    "name": "ipython",
    "version": 3
   },
   "file_extension": ".py",
   "mimetype": "text/x-python",
   "name": "python",
   "nbconvert_exporter": "python",
   "pygments_lexer": "ipython3",
   "version": "3.8.12"
  }
 },
 "nbformat": 4,
 "nbformat_minor": 5
}
