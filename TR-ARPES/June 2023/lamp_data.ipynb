{
 "cells": [
  {
   "cell_type": "markdown",
   "id": "3ff2997b-a5b5-4a32-891a-00aac86f7400",
   "metadata": {
    "tags": []
   },
   "source": [
    "## Imports"
   ]
  },
  {
   "cell_type": "code",
   "execution_count": null,
   "id": "12c13cd3-01c6-4841-963e-73cb2dc01fd8",
   "metadata": {
    "tags": []
   },
   "outputs": [],
   "source": [
    "%load_ext lab_black\n",
    "\n",
    "import h5py\n",
    "import os\n",
    "\n",
    "from dataclasses import dataclass\n",
    "from tqdm.auto import tqdm\n",
    "from scipy.signal import savgol_filter\n",
    "from scipy.interpolate import interp2d\n",
    "from functools import lru_cache\n",
    "import lmfit as lm\n",
    "\n",
    "from typing import Dict, List, Optional, Tuple\n",
    "import numpy as np\n",
    "import plotly.graph_objects as go\n",
    "import plotly.colors as pc\n",
    "import matplotlib.pyplot as plt\n",
    "\n",
    "\n",
    "import sys\n",
    "\n",
    "sys.path.append(r\"C:\\Users\\atully\\Code\\GitHub\\ARPES Code\\arpes-code-python\")\n",
    "from arpes_functions import (\n",
    "    fitting_functions,\n",
    "    analysis_functions,\n",
    "    plotting_functions,\n",
    "    HDF5_loader,\n",
    "    misc_functions,\n",
    "    filter_functions,\n",
    "    tr_functions,\n",
    "    loading_functions,\n",
    "    cnn,\n",
    ")\n",
    "\n",
    "colors = pc.qualitative.D3\n",
    "colors_seq = pc.sequential.dense\n",
    "angstrom = \"\\u212B\"\n",
    "Theta = \"\\u0398\"\n",
    "phi = \"\\u03C6\""
   ]
  },
  {
   "cell_type": "markdown",
   "id": "8420489a-0cd7-40e6-8a3a-bc81638b6e8c",
   "metadata": {
    "tags": []
   },
   "source": [
    "# Load Data"
   ]
  },
  {
   "cell_type": "code",
   "execution_count": null,
   "id": "884e3129-07bc-419f-933f-5db432d4454e",
   "metadata": {
    "tags": []
   },
   "outputs": [],
   "source": [
    "# ## Convert lamp data ##\n",
    "\n",
    "# ddir = r\"E:\\atully\\arpes_data\\2023_February\\Lamp\"\n",
    "\n",
    "# # STEP 1 ##\n",
    "# # Convert ibw to hdf5\n",
    "# fn = \"Img7_Lamp_g_kw.ibw\"\n",
    "# HDF5_loader.ibw_to_hdf5(ddir, fn, export=True)\n",
    "\n",
    "# # Check conversion worked\n",
    "# data, theta, energy = HDF5_loader.load_hdf5(\n",
    "#     ddir, \"Img7_Lamp_g_kw.h5\"\n",
    "# )  # load data from hdf5\n",
    "# data.shape, theta.shape, energy.shape"
   ]
  },
  {
   "cell_type": "code",
   "execution_count": null,
   "id": "d7c54cd7-c2cc-4a73-97e8-57ce55eb2b92",
   "metadata": {
    "tags": []
   },
   "outputs": [],
   "source": [
    "title = f\"Lamp on C<sub>60</sub>, May 2023\"\n",
    "# xaxis_title=f\"k<sub>x</sub> [{angstrom}<sup>-1</sup>]\",\n",
    "xaxis_title = f\"{Theta}\"\n",
    "yaxis_title = f\"E<sub>K</sub> (eV)\""
   ]
  },
  {
   "cell_type": "code",
   "execution_count": null,
   "id": "7f8413ec-3454-49cf-8df2-a7767713bce8",
   "metadata": {},
   "outputs": [],
   "source": [
    "ddir = r\"E:\\atully\\arpes_data\\2023_May\\May13\\C60\\Lamp\"\n",
    "\n",
    "files = [\"Img1.h5\", \"Img2.h5\"]\n",
    "# data, theta, energy = loading_functions.load_hdf5(ddir, file)"
   ]
  },
  {
   "cell_type": "code",
   "execution_count": null,
   "id": "69263e9f-ae3a-4a4f-a035-30cda021fd60",
   "metadata": {
    "tags": []
   },
   "outputs": [],
   "source": [
    "## Limit Dataset ##\n",
    "\n",
    "xlim = (-18, 16)\n",
    "ylim = (14.2, 15.4)\n",
    "# xlim = None\n",
    "# ylim = None\n",
    "\n",
    "all_vals = []\n",
    "for file in files:\n",
    "    data, theta, energy = loading_functions.load_hdf5(ddir, file)\n",
    "    all_vals.append(analysis_functions.limit_dataset(theta, energy, data, xlim, ylim))\n",
    "\n",
    "x_1, y_1, d_1 = all_vals[0]\n",
    "x_2, y_2, d_2 = all_vals[1]\n",
    "\n",
    "names = [\n",
    "    \"img1\",\n",
    "    \"img2\",\n",
    "]"
   ]
  },
  {
   "cell_type": "code",
   "execution_count": null,
   "id": "2e6020cf-ed47-49a2-8553-946c1c4d4f7a",
   "metadata": {
    "tags": []
   },
   "outputs": [],
   "source": [
    "## FFT + Limit Data ##\n",
    "\n",
    "ddir = r\"E:\\atully\\arpes_data\\2023_May\\May13\\C60\\Lamp\"\n",
    "file = [\"Img2.h5\"]\n",
    "# file = [\"UPS.h5\"]\n",
    "\n",
    "data, theta, energy = HDF5_loader.load_hdf5(\n",
    "    ddir, file[0]\n",
    ")  # load data from hdf5: highest stats HOMO scan or UPS scan\n",
    "\n",
    "f_data = filter_functions.fft2d_mask(data, plot=False)\n",
    "\n",
    "x, y, d = analysis_functions.limit_dataset(\n",
    "    theta,\n",
    "    energy,\n",
    "    f_data,\n",
    "    xlim=(-18, 16),\n",
    "    ylim=(14.2, 15.4),\n",
    "    # ylim=None,\n",
    ")\n",
    "\n",
    "d = analysis_functions.norm_data(d)"
   ]
  },
  {
   "cell_type": "code",
   "execution_count": null,
   "id": "42dd9db3-524e-40c3-b970-eb757d634244",
   "metadata": {
    "tags": []
   },
   "outputs": [],
   "source": [
    "## Plot Data ##\n",
    "\n",
    "# x, y, d = x_1, y_1, d_1\n",
    "\n",
    "## FFT Data --> doesn't work on x_1, y_1, d_1\n",
    "# d = filter_functions.fft2d_mask(d, plot=False)\n",
    "\n",
    "fig = tr_functions.thesis_fig(\n",
    "    title=f\"{title}<br>File: {file}\",\n",
    "    xaxis_title=xaxis_title,\n",
    "    yaxis_title=yaxis_title,\n",
    "    equiv_axes=False,\n",
    ")\n",
    "\n",
    "fig.add_trace(\n",
    "    go.Heatmap(x=x, y=y, z=analysis_functions.norm_data(d), coloraxis=\"coloraxis\")\n",
    ")\n",
    "\n",
    "# fig.update_coloraxes(cmin=0, cmax=0.14)\n",
    "fig.update_coloraxes(cmin=0, cmax=0.3)\n",
    "\n",
    "fig.show()"
   ]
  },
  {
   "cell_type": "code",
   "execution_count": null,
   "id": "367c0bc0-da12-45ff-9c96-09e3927536ea",
   "metadata": {
    "tags": []
   },
   "outputs": [],
   "source": [
    "## FFT Dataset ##\n",
    "# # Load original dataset\n",
    "# fp = r\"E:\\atully\\arpes_data\\2023_May\\6eV\\TR\"\n",
    "# fn = r\"TR3_Ali_avg.h5\"\n",
    "# data, theta, phi, energy = HDF5_loader.load_hdf5(fp, fn)  # load data from hdf5\n",
    "\n",
    "# # Generate FFT filtered dataset\n",
    "# filter_functions.generate_FFT_filtered_dataset(\n",
    "#     theta=theta, energy=energy, phi=phi, data=data, fp=fp, fn=fn\n",
    "# )"
   ]
  },
  {
   "cell_type": "code",
   "execution_count": null,
   "id": "523b3ce6-05c7-47a8-827c-dabd241e3732",
   "metadata": {
    "tags": []
   },
   "outputs": [],
   "source": [
    "## Get and Plot 1D Data --> EDC ##\n",
    "\n",
    "fig = tr_functions.thesis_fig(\n",
    "    title=f\"EDC\",\n",
    "    xaxis_title=yaxis_title,\n",
    "    yaxis_title=\"Intensity (arb. u)\",\n",
    "    equiv_axes=False,\n",
    "    gridlines=False,\n",
    "    height=600,\n",
    "    width=1000,\n",
    ")\n",
    "\n",
    "for i in range(1):\n",
    "    # x, y, d = all_vals[i]\n",
    "    y, col = tr_functions.get_1d_x_slice(\n",
    "        x=x, y=y, data=analysis_functions.norm_data(d), ylims=None, x_range=None\n",
    "    )\n",
    "\n",
    "    # Plot Data\n",
    "    color = colors[i % len(colors)]\n",
    "    fig.add_trace(go.Scatter(x=y, y=col, name=names[i], line=dict(color=color)))\n",
    "\n",
    "fig.show()\n",
    "\n",
    "# fig.write_image(r\"C:\\Users\\atully\\OneDrive\\Physics.UBC\\TR-ARPES\\Data\\prelim_EDCs.png\")"
   ]
  },
  {
   "cell_type": "code",
   "execution_count": null,
   "id": "123297f3-8080-4a8b-ad23-7097b49450fc",
   "metadata": {
    "tags": []
   },
   "outputs": [],
   "source": [
    "## Fit Data ##\n",
    "\n",
    "# x, y, d = all_vals[1]\n",
    "\n",
    "y_1d, col = tr_functions.get_1d_x_slice(\n",
    "    x=x, y=y, data=analysis_functions.norm_data(d), ylims=None, x_range=None\n",
    ")\n",
    "\n",
    "x = y_1d\n",
    "data = col\n",
    "\n",
    "offset_type = \"constant\"\n",
    "\n",
    "## Offset\n",
    "c = np.mean(data)\n",
    "b = (data[-1] - data[0]) / (x[-1] - x[0])\n",
    "a = 0\n",
    "\n",
    "offset = fitting_functions.offset_model(offset_type, a, b, c)\n",
    "\n",
    "lorentz1 = fitting_functions.make_lorentzian(\n",
    "    num=\"A_\", amplitude=0.1, center=14.8, sigma=0.2\n",
    ")\n",
    "\n",
    "full_model = lorentz1 + offset\n",
    "\n",
    "fit = full_model.fit(data, x=x)\n",
    "\n",
    "fit.plot()\n",
    "\n",
    "print(fit.params[\"iA__fwhm\"])\n",
    "print(fit.params[\"iA__center\"])"
   ]
  },
  {
   "cell_type": "code",
   "execution_count": null,
   "id": "920296eb-9157-4813-8181-c790a1d6cf76",
   "metadata": {
    "tags": []
   },
   "outputs": [],
   "source": [
    "## Plot Fit Components on Data ##\n",
    "\n",
    "components = fit.eval_components(x=y_1d)\n",
    "\n",
    "fig = tr_functions.thesis_fig(\n",
    "    title=f\"Data + Fit Components\",\n",
    "    xaxis_title=\"Energy (eV)\",\n",
    "    yaxis_title=\"Intensity (arb. u)\",\n",
    "    equiv_axes=False,\n",
    "    gridlines=False,\n",
    "    height=600,\n",
    "    width=1000,\n",
    "    dtick_y=0.02,\n",
    ")\n",
    "\n",
    "\n",
    "fig.add_trace(\n",
    "    go.Scatter(\n",
    "        x=y_1d,\n",
    "        y=col - components[\"parabolic\"],\n",
    "        name=f\"data - offset\",\n",
    "        line=dict(color=colors[0]),\n",
    "    )\n",
    ")\n",
    "\n",
    "\n",
    "for model_name, model_value in list(components.items())[0:1]:\n",
    "    fig.add_trace(\n",
    "        go.Scatter(\n",
    "            x=y_1d,\n",
    "            y=model_value,\n",
    "            name=\"fit\",\n",
    "        )\n",
    "    )\n",
    "\n",
    "\n",
    "for model_name, model_value in list(components.items())[0:1]:\n",
    "    fig.add_annotation(\n",
    "        x=fit.params[f\"{model_name}center\"].value,\n",
    "        yref=\"y domain\",\n",
    "        y=0.1,\n",
    "        showarrow=False,\n",
    "        text=f'Center: {fit.params[f\"{model_name}center\"].value:.2f} eV<br>FWHM: {fit.params[f\"{model_name}fwhm\"].value:.2f} eV',\n",
    "        font=dict(size=18, color=colors[0]),\n",
    "        bgcolor=\"white\",\n",
    "    )\n",
    "\n",
    "fig.show()"
   ]
  },
  {
   "cell_type": "markdown",
   "id": "2e3754d2-5cef-4ac3-a712-853a26dd9e1f",
   "metadata": {},
   "source": [
    "# February Lamp Data"
   ]
  },
  {
   "cell_type": "code",
   "execution_count": null,
   "id": "ea125cd9-5ccf-4e52-8c61-9e2201da3a96",
   "metadata": {
    "tags": []
   },
   "outputs": [],
   "source": [
    "ddir = r\"E:\\atully\\arpes_data\\2023_February\\Lamp\"\n",
    "\n",
    "file = \"Img7_Lamp_g_kw.h5\"\n",
    "\n",
    "EF = 16.869"
   ]
  },
  {
   "cell_type": "code",
   "execution_count": null,
   "id": "b2cb38d6-3c39-4687-889a-b0085d3479fc",
   "metadata": {
    "tags": []
   },
   "outputs": [],
   "source": [
    "## FFT + Limit Data ##\n",
    "\n",
    "data, theta, energy = HDF5_loader.load_hdf5(ddir, file)  # load data from hdf5\n",
    "\n",
    "f_data = filter_functions.fft2d_mask(data, plot=False)\n",
    "\n",
    "x, y, d = analysis_functions.limit_dataset(\n",
    "    theta,\n",
    "    energy,\n",
    "    f_data,\n",
    "    xlim=(-0.6, 0.6),\n",
    "    ylim=(14.2, 15.4),\n",
    "    # ylim=None,\n",
    ")\n",
    "\n",
    "d = analysis_functions.norm_data(d)"
   ]
  },
  {
   "cell_type": "code",
   "execution_count": null,
   "id": "52a6f182-7cb8-4ef1-b17f-f8d2c427b622",
   "metadata": {
    "tags": []
   },
   "outputs": [],
   "source": [
    "## Plot Data ##\n",
    "\n",
    "fig = tr_functions.thesis_fig(\n",
    "    title=f\"Lamp on C<sub>60</sub>, February 2023<br>File: {file}\",\n",
    "    xaxis_title=f\"k<sub>x</sub> ({angstrom}<sup>-1</sup>)\",\n",
    "    yaxis_title=yaxis_title,\n",
    "    equiv_axes=False,\n",
    ")\n",
    "\n",
    "fig.add_trace(go.Heatmap(x=x, y=y, z=d, coloraxis=\"coloraxis\"))\n",
    "\n",
    "# fig.update_coloraxes(cmin=0, cmax=0.3)\n",
    "fig.update_coloraxes(cmin=0, cmax=0.14)\n",
    "\n",
    "fig.show()"
   ]
  },
  {
   "cell_type": "code",
   "execution_count": null,
   "id": "c38b83f3-5bb0-4068-b079-59d6fe51b052",
   "metadata": {
    "tags": []
   },
   "outputs": [],
   "source": [
    "## Get and Plot 1D Data ##\n",
    "\n",
    "fig = tr_functions.thesis_fig(\n",
    "    title=f\"EDC of February Lamp Data\",\n",
    "    xaxis_title=\"E<sub>K</sub> (eV)\",\n",
    "    yaxis_title=\"Intensity (arb. u)\",\n",
    "    equiv_axes=False,\n",
    "    gridlines=False,\n",
    "    height=600,\n",
    "    width=1000,\n",
    ")\n",
    "\n",
    "y_1d, col = tr_functions.get_1d_x_slice(x=x, y=y, data=d, ylims=None, x_range=None)\n",
    "\n",
    "# Plot Data\n",
    "fig.add_trace(go.Scatter(x=y_1d - EF, y=col, name=\"data\", line=dict(color=colors[0])))\n",
    "\n",
    "fig.show()"
   ]
  },
  {
   "cell_type": "code",
   "execution_count": null,
   "id": "cc6ab20f-07ed-4025-aa35-9fe9eea87169",
   "metadata": {
    "tags": []
   },
   "outputs": [],
   "source": [
    "## Fit Data ##\n",
    "\n",
    "# x = y_1d - EF\n",
    "x = y_1d\n",
    "data = col\n",
    "\n",
    "offset_type = \"constant\"\n",
    "\n",
    "## Offset\n",
    "c = np.mean(data)\n",
    "b = (data[-1] - data[0]) / (x[-1] - x[0])\n",
    "a = 0\n",
    "\n",
    "offset = fitting_functions.offset_model(offset_type, a, b, c)\n",
    "\n",
    "# ## Gaussian\n",
    "# gauss = fitting_functions.make_gaussian(num=\"A_\", amplitude=1, center=14.8, sigma=0.5)\n",
    "\n",
    "## Lorentzians\n",
    "lorentz1 = fitting_functions.make_lorentzian(\n",
    "    # num=\"A_\", amplitude=0.1, center=-2, sigma=0.2\n",
    "    num=\"A_\",\n",
    "    amplitude=0.1,\n",
    "    center=14.8,\n",
    "    sigma=0.2,\n",
    ")\n",
    "\n",
    "full_model = lorentz1 + offset\n",
    "\n",
    "fit = full_model.fit(data, x=x)\n",
    "\n",
    "fit.plot()\n",
    "\n",
    "print(fit.params[\"iA__fwhm\"])\n",
    "print(fit.params[\"iA__center\"])"
   ]
  },
  {
   "cell_type": "code",
   "execution_count": null,
   "id": "8e3fc590-b1e8-4f8e-86c9-8974a88cf615",
   "metadata": {
    "tags": []
   },
   "outputs": [],
   "source": [
    "# fit.params"
   ]
  },
  {
   "cell_type": "code",
   "execution_count": null,
   "id": "e3d349f4-baa8-4fae-9bef-76e58a313113",
   "metadata": {
    "tags": []
   },
   "outputs": [],
   "source": [
    "## Plot Fit Components on Data ##\n",
    "\n",
    "# components = fit.eval_components(x=y_1d - EF)\n",
    "components = fit.eval_components(x=y_1d)\n",
    "\n",
    "fig = tr_functions.thesis_fig(\n",
    "    title=f\"Data + Fit Components\",\n",
    "    xaxis_title=\"E<sub>K</sub> (eV)\",\n",
    "    yaxis_title=\"Intensity (arb. u)\",\n",
    "    equiv_axes=False,\n",
    "    gridlines=False,\n",
    "    height=600,\n",
    "    width=1000,\n",
    ")\n",
    "\n",
    "\n",
    "fig.add_trace(\n",
    "    go.Scatter(\n",
    "        # x=y_1d - EF,\n",
    "        x=y_1d,\n",
    "        y=col - components[\"parabolic\"],\n",
    "        name=f\"data - offset\",\n",
    "        line=dict(color=colors[0]),\n",
    "    )\n",
    ")\n",
    "\n",
    "\n",
    "for model_name, model_value in list(components.items())[0:1]:\n",
    "    fig.add_trace(\n",
    "        go.Scatter(\n",
    "            # x=y_1d - EF,\n",
    "            x=y_1d,\n",
    "            y=model_value,\n",
    "            name=\"fit\",\n",
    "        )\n",
    "    )\n",
    "\n",
    "\n",
    "for model_name, model_value in list(components.items())[0:1]:\n",
    "    fig.add_annotation(\n",
    "        x=fit.params[f\"{model_name}center\"].value,\n",
    "        yref=\"y domain\",\n",
    "        y=0.1,\n",
    "        showarrow=False,\n",
    "        text=f'Center: {fit.params[f\"{model_name}center\"].value:.2f} eV<br>FWHM: {fit.params[f\"{model_name}fwhm\"].value:.2f} eV',\n",
    "        font=dict(size=18, color=colors[0]),\n",
    "        bgcolor=\"white\",\n",
    "    )\n",
    "\n",
    "\n",
    "# for offset, (model_name, model_value) in zip(\n",
    "#     [0.06, 0.0], list(components.items())[0:2]\n",
    "# ):\n",
    "#     fig.add_trace(\n",
    "#         go.Scatter(\n",
    "#             x=y_1d,\n",
    "#             # y=model_value,\n",
    "#             y=model_value + offset,\n",
    "#             name=model_name,\n",
    "#             # line=dict(color=color[0]),\n",
    "#         )\n",
    "#     )\n",
    "\n",
    "# fig.add_annotation(x=1.6, y=1.7, text=f'{params[\"iA__center\"].value:.2f}')\n",
    "\n",
    "fig.show()"
   ]
  },
  {
   "cell_type": "markdown",
   "id": "30eec808-1bb2-4f62-bafe-364b36f8809b",
   "metadata": {},
   "source": [
    "# May 2023 FS"
   ]
  },
  {
   "cell_type": "code",
   "execution_count": null,
   "id": "5cf76ae0-f7ee-4ba1-8c53-b70a607ea7e7",
   "metadata": {
    "tags": []
   },
   "outputs": [],
   "source": [
    "def average_timescans(files, ddir, new_filename):\n",
    "    datas = []\n",
    "    for i in range(0, len(files)):\n",
    "        ad = ARPES_DATA[files[i]]\n",
    "        datas.append(ad.data)\n",
    "    data_avg = np.mean(datas, axis=0)\n",
    "    print(data_avg.shape)\n",
    "\n",
    "    new_data = data_avg\n",
    "\n",
    "    new_fn = os.path.join(ddir, new_filename)\n",
    "\n",
    "    with h5py.File(\n",
    "        new_fn, \"w\"\n",
    "    ) as f:  # Note: 'w' creates a new empty file (or overwrites), use 'r+' to modify an existing file\n",
    "        f[\"data\"] = new_data.T\n",
    "        axes_names = [\n",
    "            \"angles\",\n",
    "            \"energies\",\n",
    "        ]  # Change these to match your axes labels\n",
    "        axes = [ad.theta, ad.energy]\n",
    "        for axis, name in zip(axes, axes_names):\n",
    "            f[name] = np.atleast_2d(axis).T\n",
    "        entry_group = f.require_group(\"entry1\")\n",
    "        entry_group[\"ScanValues\"] = np.atleast_2d(ad.phi_or_time).T\n",
    "    return new_fn"
   ]
  },
  {
   "cell_type": "code",
   "execution_count": null,
   "id": "efc7c64b-1701-4bca-8464-6fd0c1fec974",
   "metadata": {
    "tags": []
   },
   "outputs": [],
   "source": [
    "ddir = r\"E:\\atully\\arpes_data\\2023_May\\May13\\C60\\Lamp\"\n",
    "\n",
    "files = []\n",
    "files = [f\"FS_000.h5\"]\n",
    "files.extend([f\"FS_003.h5\"])\n",
    "\n",
    "ARPES_DATA: Dict[str, tr_functions.ArpesData] = {}\n",
    "ARPES_ATTRS: Dict[str, tr_functions.ArpesAttrs] = {}\n",
    "for file in tqdm(files):\n",
    "    data, kx, ky, energy = loading_functions.load_hdf5(ddir, file)\n",
    "    ARPES_DATA[file] = tr_functions.ArpesData(\n",
    "        data=data, theta=kx, phi_or_time=ky, energy=energy\n",
    "    )\n",
    "    ARPES_ATTRS[file] = tr_functions.load_attrs_hdf5(ddir, file)"
   ]
  },
  {
   "cell_type": "code",
   "execution_count": null,
   "id": "828a393f-acf0-4899-b013-6a3b95627e55",
   "metadata": {
    "tags": []
   },
   "outputs": [],
   "source": [
    "average_timescans(files, ddir, \"FS_Ali_avg.h5\")"
   ]
  },
  {
   "cell_type": "code",
   "execution_count": null,
   "id": "8fe5b856-3603-4f23-93b0-c9f079e73c9b",
   "metadata": {
    "tags": []
   },
   "outputs": [],
   "source": [
    "ddir = r\"E:\\atully\\arpes_data\\2023_May\\May13\\C60\\Lamp\"\n",
    "\n",
    "files = []\n",
    "files = [f\"FS_Ali_avg.h5\"]\n",
    "\n",
    "ARPES_DATA: Dict[str, tr_functions.ArpesData] = {}\n",
    "ARPES_ATTRS: Dict[str, tr_functions.ArpesAttrs] = {}\n",
    "for file in tqdm(files):\n",
    "    data, kx, ky, energy = loading_functions.load_hdf5(ddir, file)\n",
    "    ARPES_DATA[file] = tr_functions.ArpesData(\n",
    "        data=data, theta=kx, phi_or_time=ky, energy=energy\n",
    "    )\n",
    "    ARPES_ATTRS[file] = tr_functions.load_attrs_hdf5(ddir, file)\n",
    "\n",
    "ad = ARPES_DATA[files[0]]"
   ]
  },
  {
   "cell_type": "code",
   "execution_count": null,
   "id": "d520a7d1-fd31-496a-b1c3-122e04ac6391",
   "metadata": {},
   "outputs": [],
   "source": [
    "slice_dim = \"y\"\n",
    "# slice_val = 0\n",
    "int_range = 0.05\n",
    "xlim = (-18, 16)\n",
    "# xlim = None\n",
    "ylim = None\n",
    "x_bin = 2\n",
    "y_bin = 2\n",
    "\n",
    "# Load Data\n",
    "\n",
    "for i, v in enumerate([15.4, 15.2, 15.0, 14.8, 14.4, 14.2]):  # Lamp\n",
    "    x, y, d = tr_functions.slice_datacube(\n",
    "        ad_dataclass=ad,\n",
    "        slice_dim=slice_dim,\n",
    "        slice_val=v,\n",
    "        int_range=int_range,\n",
    "        xlim=xlim,\n",
    "        ylim=ylim,\n",
    "        x_bin=x_bin,\n",
    "        y_bin=y_bin,\n",
    "        norm_data=True,\n",
    "        plot_data=False,\n",
    "    )\n",
    "\n",
    "    ## Plot Data Plotly\n",
    "    fig = tr_functions.thesis_fig(\n",
    "        title=f\"E<sub>K</sub> = {v}\",\n",
    "        xaxis_title=f\"{Theta}\",\n",
    "        yaxis_title=f\"{phi}\",\n",
    "        equiv_axes=False,\n",
    "        height=500,\n",
    "        width=500,\n",
    "    )\n",
    "\n",
    "    fig.add_trace(\n",
    "        go.Heatmap(x=x, y=y, z=analysis_functions.norm_data(d), coloraxis=\"coloraxis\")\n",
    "    )\n",
    "\n",
    "    if xlim is not None:\n",
    "        fig.update_xaxes(range=[xlim[0], xlim[1]], constrain=\"domain\")\n",
    "\n",
    "    fig.update_coloraxes(cmin=0, cmax=0.5)\n",
    "\n",
    "    fig.show()"
   ]
  },
  {
   "cell_type": "code",
   "execution_count": null,
   "id": "edb1e002-842a-437a-8340-fb081eb0b27a",
   "metadata": {},
   "outputs": [],
   "source": []
  }
 ],
 "metadata": {
  "kernelspec": {
   "display_name": "Python 3 (ipykernel)",
   "language": "python",
   "name": "python3"
  },
  "language_info": {
   "codemirror_mode": {
    "name": "ipython",
    "version": 3
   },
   "file_extension": ".py",
   "mimetype": "text/x-python",
   "name": "python",
   "nbconvert_exporter": "python",
   "pygments_lexer": "ipython3",
   "version": "3.8.12"
  }
 },
 "nbformat": 4,
 "nbformat_minor": 5
}
