{
 "cells": [
  {
   "cell_type": "markdown",
   "id": "3ff2997b-a5b5-4a32-891a-00aac86f7400",
   "metadata": {
    "tags": []
   },
   "source": [
    "## Old Functions and Imports"
   ]
  },
  {
   "cell_type": "code",
   "execution_count": null,
   "id": "17394c14-fe77-40c5-886f-9dde90076f56",
   "metadata": {
    "tags": []
   },
   "outputs": [],
   "source": [
    "%load_ext lab_black\n",
    "\n",
    "import h5py\n",
    "import os\n",
    "\n",
    "from dataclasses import dataclass\n",
    "from tqdm.auto import tqdm\n",
    "from scipy.signal import savgol_filter\n",
    "from scipy.interpolate import interp2d\n",
    "from functools import lru_cache\n",
    "import lmfit as lm\n",
    "\n",
    "from typing import Dict, List, Optional, Tuple\n",
    "import numpy as np\n",
    "import plotly.graph_objects as go\n",
    "import plotly.colors as pc\n",
    "import matplotlib.pyplot as plt\n",
    "\n",
    "\n",
    "import sys\n",
    "\n",
    "sys.path.append(r\"C:\\Users\\atully\\Code\\GitHub\\ARPES Code\\arpes-code-python\")\n",
    "from arpes_functions import (\n",
    "    fitting_functions,\n",
    "    analysis_functions,\n",
    "    plotting_functions,\n",
    "    HDF5_loader,\n",
    "    misc_functions,\n",
    "    filter_functions,\n",
    "    tr_functions,\n",
    "    loading_functions,\n",
    "    cnn,\n",
    ")\n",
    "\n",
    "colors = pc.qualitative.D3\n",
    "colors_seq = pc.sequential.dense\n",
    "angstrom = \"\\u212B\""
   ]
  },
  {
   "cell_type": "code",
   "execution_count": null,
   "id": "11a3dea0-bacd-4619-bcab-c2f4d1a19980",
   "metadata": {
    "tags": []
   },
   "outputs": [],
   "source": [
    "def average_timescans(files, ddir, new_filename):\n",
    "    datas = []\n",
    "    for i in range(0, len(files)):\n",
    "        ad = ARPES_DATA[files[i]]\n",
    "        datas.append(ad.data)\n",
    "    data_avg = np.mean(datas, axis=0)\n",
    "    print(data_avg.shape)\n",
    "\n",
    "    new_data = data_avg\n",
    "\n",
    "    new_fn = os.path.join(ddir, new_filename)\n",
    "\n",
    "    with h5py.File(\n",
    "        new_fn, \"w\"\n",
    "    ) as f:  # Note: 'w' creates a new empty file (or overwrites), use 'r+' to modify an existing file\n",
    "        f[\"data\"] = new_data.T\n",
    "        axes_names = [\n",
    "            \"angles\",\n",
    "            \"energies\",\n",
    "        ]  # Change these to match your axes labels\n",
    "        axes = [ad.theta, ad.energy]\n",
    "        for axis, name in zip(axes, axes_names):\n",
    "            f[name] = np.atleast_2d(axis).T\n",
    "        entry_group = f.require_group(\"entry1\")\n",
    "        entry_group[\"ScanValues\"] = np.atleast_2d(ad.phi_or_time).T\n",
    "    return new_fn"
   ]
  },
  {
   "cell_type": "markdown",
   "id": "c4957497-377c-4c59-9177-a0d73bf8d1de",
   "metadata": {
    "tags": []
   },
   "source": [
    "# Averaging Datasets"
   ]
  },
  {
   "cell_type": "code",
   "execution_count": null,
   "id": "b4fd5e69-97ab-4bd3-8eae-a9ff93484178",
   "metadata": {
    "tags": []
   },
   "outputs": [],
   "source": [
    "# ## TR6 -- to get time_zero\n",
    "\n",
    "# ddir = r\"E:\\atully\\arpes_data\\2023_May\\May13\\Bi2Se3\\TR6\"\n",
    "# files = []\n",
    "# files = [f\"TR6_001_{i}.h5\" for i in range(1, 8)]\n",
    "\n",
    "# ARPES_DATA: Dict[str, tr_functions.ArpesData] = {}\n",
    "# ARPES_ATTRS: Dict[str, tr_functions.ArpesAttrs] = {}\n",
    "# for file in tqdm(files):\n",
    "#     data, kx, ky, energy = loading_functions.load_hdf5(ddir, file)\n",
    "#     ARPES_DATA[file] = tr_functions.ArpesData(\n",
    "#         data=data, theta=kx, phi_or_time=ky, energy=energy\n",
    "#     )\n",
    "#     ARPES_ATTRS[file] = tr_functions.load_attrs_hdf5(ddir, file)"
   ]
  },
  {
   "cell_type": "code",
   "execution_count": null,
   "id": "f517f888-c7df-4649-ad25-d7d162460070",
   "metadata": {
    "tags": []
   },
   "outputs": [],
   "source": [
    "# average_timescans(files, ddir, \"TR6_Ali_avg.h5\")"
   ]
  },
  {
   "cell_type": "markdown",
   "id": "c2ae0673-2036-45c1-a4bc-a8024aa41394",
   "metadata": {},
   "source": [
    "# Load Dataset"
   ]
  },
  {
   "cell_type": "code",
   "execution_count": null,
   "id": "4d13a85d-b5f8-43e9-9c71-418135ecd386",
   "metadata": {
    "tags": []
   },
   "outputs": [],
   "source": [
    "ddir = r\"E:\\atully\\arpes_data\\2023_June\\Bi2Se3\"\n",
    "files = []\n",
    "files = [f\"TR3eV_019.h5\"]\n",
    "\n",
    "ARPES_DATA: Dict[str, tr_functions.ArpesData] = {}\n",
    "ARPES_ATTRS: Dict[str, tr_functions.ArpesAttrs] = {}\n",
    "for file in tqdm(files):\n",
    "    data, kx, ky, energy = loading_functions.load_hdf5(ddir, file)\n",
    "    ARPES_DATA[file] = tr_functions.ArpesData(\n",
    "        data=data, theta=kx, phi_or_time=ky, energy=energy\n",
    "    )\n",
    "    ARPES_ATTRS[file] = tr_functions.load_attrs_hdf5(ddir, file)"
   ]
  },
  {
   "cell_type": "code",
   "execution_count": null,
   "id": "1e3b3103-b6c1-41bc-a846-26cbf30a1fcc",
   "metadata": {
    "tags": []
   },
   "outputs": [],
   "source": [
    "ad = ARPES_DATA[files[0]]\n",
    "for k in [\"energy\", \"theta\", \"phi_or_time\"]:\n",
    "    print(f\"{k}.shape = {getattr(ad, k).shape}\")\n",
    "print(f\"Data.shape = {ad.data.shape}\")"
   ]
  },
  {
   "cell_type": "code",
   "execution_count": null,
   "id": "b74d7ffb-b645-4248-8c34-4b0697b94b62",
   "metadata": {
    "tags": []
   },
   "outputs": [],
   "source": [
    "# time_zero = 37.79  # TR6"
   ]
  },
  {
   "cell_type": "code",
   "execution_count": null,
   "id": "302a220a-a451-4e74-86ff-01d831e41410",
   "metadata": {
    "tags": []
   },
   "outputs": [],
   "source": [
    "## Integrate over desired angular range ##\n",
    "\n",
    "slice_dim = \"x\"\n",
    "slice_val = 0\n",
    "int_range = 50  # if this value is more that the integration range, my get_2D_slice function will just integrate over the max range.\n",
    "\n",
    "xlim = None\n",
    "ylim = None\n",
    "\n",
    "x_bin = 1\n",
    "y_bin = 1"
   ]
  },
  {
   "cell_type": "code",
   "execution_count": null,
   "id": "3c185411-7577-4806-a85d-675877fccbb7",
   "metadata": {
    "tags": []
   },
   "outputs": [],
   "source": [
    "title = f\"Bi<sub>2</sub>Se<sub>3</sub> Pump Effect: {files[0]}\"\n",
    "# xaxis_title=f\"k<sub>x</sub> [{angstrom}<sup>-1</sup>]\",\n",
    "xaxis_title = f\"Delay\"\n",
    "yaxis_title = f\"E<sub>K</sub> (eV)\""
   ]
  },
  {
   "cell_type": "code",
   "execution_count": null,
   "id": "e53d6581-549b-4215-a8cb-db93ee994a23",
   "metadata": {},
   "outputs": [],
   "source": [
    "## Load Data ##\n",
    "\n",
    "# xaxis_ps = False\n",
    "# xaxis_ps = True\n",
    "\n",
    "x_2d, y_2d, d_2d = tr_functions.slice_datacube(\n",
    "    ad_dataclass=ad,\n",
    "    slice_dim=slice_dim,\n",
    "    slice_val=slice_val,\n",
    "    int_range=int_range,\n",
    "    xlim=xlim,\n",
    "    # ylim=ylim,\n",
    "    ylim=(\n",
    "        ad.energy[57],\n",
    "        ad.energy[1007],\n",
    "    ),  # get rid of zero padding on datasets\n",
    "    x_bin=x_bin,\n",
    "    y_bin=y_bin,\n",
    "    norm_data=True,\n",
    "    plot_data=False,\n",
    ")\n",
    "\n",
    "# # Convert mm to ps\n",
    "# if xaxis_ps and np.max(x_2d) > 37:\n",
    "#     x_2d = tr_functions.mm_to_ps(x_2d, time_zero)\n",
    "\n",
    "## Plot Data\n",
    "fig = tr_functions.thesis_fig(\n",
    "    title=title,\n",
    "    xaxis_title=xaxis_title,\n",
    "    yaxis_title=yaxis_title,\n",
    "    equiv_axes=False,\n",
    "    height=600,\n",
    "    width=800,\n",
    "    dtick_y=0.1,\n",
    ")\n",
    "\n",
    "fig.add_trace(\n",
    "    go.Heatmap(\n",
    "        x=x_2d,\n",
    "        y=y_2d,\n",
    "        z=analysis_functions.norm_data(d_2d),\n",
    "        coloraxis=\"coloraxis\",\n",
    "    )\n",
    ")\n",
    "\n",
    "# for h in [3.3, 3.545]:\n",
    "#     fig.add_hline(y=h, line=dict(color=\"black\", width=1, dash=\"dash\"))\n",
    "\n",
    "# fig.update_coloraxes(colorscale=\"greys\", showscale=False)\n",
    "\n",
    "fig.show()"
   ]
  },
  {
   "cell_type": "code",
   "execution_count": null,
   "id": "8bbb0856-3491-40d4-8ba0-350542c66300",
   "metadata": {
    "tags": []
   },
   "outputs": [],
   "source": [
    "## Integrated over energy ##\n",
    "\n",
    "xlim = None\n",
    "# ylim = None\n",
    "ylim = (3.3, 3.545)\n",
    "\n",
    "## Get slice\n",
    "x_1d, row = tr_functions.get_1d_y_slice(\n",
    "    x=x_2d,\n",
    "    y=y_2d,\n",
    "    data=d_2d,\n",
    "    xlims=xlim,\n",
    "    y_range=ylim,\n",
    ")\n",
    "\n",
    "## Plot data\n",
    "fig = tr_functions.thesis_fig(\n",
    "    title=f\"Average over {ylim} eV\",\n",
    "    xaxis_title=\"Delay (mm)\",\n",
    "    yaxis_title=\"Intensity (arb. u)\",\n",
    "    equiv_axes=False,\n",
    "    gridlines=False,\n",
    "    height=600,\n",
    "    width=900,\n",
    ")\n",
    "\n",
    "fig.add_trace(go.Scatter(x=x_1d, y=row, name=\"data\"))\n",
    "\n",
    "## For After Fit\n",
    "fig.add_trace(go.Scatter(x=x, y=fit.eval(x=x_1d), name=\"fit\"))\n",
    "\n",
    "components = fit.eval_components(x=x_1d)\n",
    "for model_name, model_value in list(components.items())[0:1]:\n",
    "    fig.add_annotation(\n",
    "        # x=fit.params[f\"center\"].value,\n",
    "        # y=fit.eval(x=fit.params[f\"{model_name}center\"].value),\n",
    "        xref=\"x domain\",\n",
    "        yref=\"y domain\",\n",
    "        x=0.01,\n",
    "        y=0.99,\n",
    "        showarrow=False,\n",
    "        text=f'Peak center: {fit.params[f\"center\"].value:.2f} +/- {fit.params[f\"center\"].stderr:.4f} mm<br>FWHM: {tr_functions.mm_to_ps(tr_functions.sig_to_fwhm(fit.params[\"sigma\"].value)):.3f} +/- {tr_functions.mm_to_ps(tr_functions.sig_to_fwhm(fit.params[f\"sigma\"].stderr)):.4f} ps',\n",
    "        font=dict(size=18),\n",
    "    )\n",
    "\n",
    "fig.show()"
   ]
  },
  {
   "cell_type": "code",
   "execution_count": null,
   "id": "8b7ccebe-969f-48b0-afa9-b93830715b20",
   "metadata": {
    "tags": []
   },
   "outputs": [],
   "source": [
    "## Plot Residuals\n",
    "fig = tr_functions.thesis_fig(\n",
    "    title=f\"{title}\",\n",
    "    xaxis_title=xaxis_title,\n",
    "    yaxis_title=\"Residuals\",\n",
    "    equiv_axes=False,\n",
    "    gridlines=False,\n",
    "    height=400,\n",
    "    width=900,\n",
    ")\n",
    "\n",
    "fig.add_trace(go.Scatter(x=x_1d, y=row - fit.eval(x=x_1d), name=\"fit\"))\n",
    "fig.add_hline(y=0, line=dict(dash=\"dash\"))"
   ]
  },
  {
   "cell_type": "code",
   "execution_count": null,
   "id": "d36e82a9-cd76-4b5b-9a15-5d7194ec38dd",
   "metadata": {
    "tags": []
   },
   "outputs": [],
   "source": [
    "## Attempt to manually build convolved model: This is the built-in model ##\n",
    "\n",
    "import lmfit as lm\n",
    "\n",
    "offset_type = \"constant\"\n",
    "x = x_1d\n",
    "data = row\n",
    "\n",
    "c = np.mean(data)\n",
    "b = (data[-1] - data[0]) / (x[-1] - x[0])\n",
    "a = 0\n",
    "\n",
    "offset = fitting_functions.offset_model(offset_type, a, b, c)\n",
    "\n",
    "# gaussian = fitting_functions.make_gaussian(\n",
    "#     num=\"A\",\n",
    "#     amplitude=1,\n",
    "#     center=37.8,\n",
    "#     sigma=0.05,\n",
    "#     include_exp_decay=True,\n",
    "#     gamma=19,\n",
    "#     # lock_sigma=True,  # sigma should be based on fwhm of BiSe, but the pump profile changes\n",
    "# )\n",
    "\n",
    "gaussian = lm.models.ExponentialGaussianModel()\n",
    "gaussian = lm.models.GaussianModel()\n",
    "\n",
    "full_model = gaussian + offset\n",
    "\n",
    "params = full_model.make_params()\n",
    "\n",
    "params[\"center\"].value = 34.8\n",
    "params[\"amplitude\"].value = 1\n",
    "params[\"sigma\"].value = 0.05\n",
    "# params[\"gamma\"].value = 20\n",
    "# params[\"gamma\"].max = 200\n",
    "# params[\"gamma\"].min = 1\n",
    "\n",
    "# params[\"iA_gamma\"].value = 20\n",
    "# params[\"iA_gamma\"].max = 200\n",
    "# params[\"iA_gamma\"].min = 1\n",
    "\n",
    "\n",
    "fit = full_model.fit(row, x=x_1d, params=params)\n",
    "\n",
    "fit.plot()"
   ]
  },
  {
   "cell_type": "code",
   "execution_count": null,
   "id": "ca069c02-6fa3-4dc4-b7a8-c260de79ce57",
   "metadata": {
    "tags": []
   },
   "outputs": [],
   "source": [
    "fit.params"
   ]
  },
  {
   "cell_type": "code",
   "execution_count": null,
   "id": "c6eede1d-7910-4aa7-8760-73052f8c7e0f",
   "metadata": {
    "tags": []
   },
   "outputs": [],
   "source": [
    "tr_functions.mm_to_ps(tr_functions.sig_to_fwhm(fit.params[\"sigma\"].value))"
   ]
  },
  {
   "cell_type": "code",
   "execution_count": null,
   "id": "cb0b0376-87f3-48ed-813e-97796368ef68",
   "metadata": {},
   "outputs": [],
   "source": []
  }
 ],
 "metadata": {
  "kernelspec": {
   "display_name": "Python 3 (ipykernel)",
   "language": "python",
   "name": "python3"
  },
  "language_info": {
   "codemirror_mode": {
    "name": "ipython",
    "version": 3
   },
   "file_extension": ".py",
   "mimetype": "text/x-python",
   "name": "python",
   "nbconvert_exporter": "python",
   "pygments_lexer": "ipython3",
   "version": "3.8.12"
  }
 },
 "nbformat": 4,
 "nbformat_minor": 5
}
