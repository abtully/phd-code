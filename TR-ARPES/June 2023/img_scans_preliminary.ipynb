{
 "cells": [
  {
   "cell_type": "markdown",
   "id": "3ff2997b-a5b5-4a32-891a-00aac86f7400",
   "metadata": {
    "tags": []
   },
   "source": [
    "## Imports"
   ]
  },
  {
   "cell_type": "code",
   "execution_count": null,
   "id": "12c13cd3-01c6-4841-963e-73cb2dc01fd8",
   "metadata": {
    "tags": []
   },
   "outputs": [],
   "source": [
    "%load_ext lab_black\n",
    "\n",
    "import h5py\n",
    "import os\n",
    "import numpy as np\n",
    "from typing import Dict, List, Optional, Tuple\n",
    "\n",
    "from dataclasses import dataclass\n",
    "from tqdm.auto import tqdm\n",
    "from scipy.signal import savgol_filter\n",
    "from scipy.interpolate import interp2d\n",
    "from functools import lru_cache\n",
    "import lmfit as lm\n",
    "\n",
    "\n",
    "import plotly.graph_objects as go\n",
    "import plotly.colors as pc\n",
    "import matplotlib.pyplot as plt\n",
    "\n",
    "\n",
    "import sys\n",
    "\n",
    "sys.path.append(r\"C:\\Users\\atully\\Code\\GitHub\\ARPES Code\\arpes-code-python\")\n",
    "from arpes_functions import (\n",
    "    fitting_functions,\n",
    "    analysis_functions,\n",
    "    plotting_functions,\n",
    "    HDF5_loader,\n",
    "    misc_functions,\n",
    "    filter_functions,\n",
    "    tr_functions,\n",
    "    loading_functions,\n",
    "    kw_data_loader,\n",
    "    cnn,\n",
    ")\n",
    "\n",
    "colors = pc.qualitative.D3\n",
    "colors_seq = pc.sequential.dense\n",
    "angstrom = \"\\u212B\"\n",
    "Theta = \"\\u0398\""
   ]
  },
  {
   "cell_type": "code",
   "execution_count": null,
   "id": "55dfb9e6-5220-4a4b-aa8d-914244223077",
   "metadata": {
    "tags": []
   },
   "outputs": [],
   "source": [
    "def average_imgs(ddir, files, new_filename=None, xlim=None, ylim=None):\n",
    "    all_vals = []\n",
    "    for file in files:\n",
    "        data, theta, energy = loading_functions.load_hdf5(ddir, file)\n",
    "        all_vals.append(\n",
    "            analysis_functions.limit_dataset(theta, energy, data, xlim=xlim, ylim=ylim)\n",
    "        )\n",
    "\n",
    "    x_vals, y_vals, d_vals = zip(*all_vals)\n",
    "    data_avg = np.mean(d_vals, axis=0)\n",
    "    return x_vals[0], y_vals[0], data_avg\n",
    "\n",
    "\n",
    "def sum_imgs(ddir, files, new_filename=None, xlim=None, ylim=None):\n",
    "    all_vals = []\n",
    "    for file in files:\n",
    "        data, theta, energy = loading_functions.load_hdf5(ddir, file)\n",
    "        all_vals.append(\n",
    "            analysis_functions.limit_dataset(theta, energy, data, xlim=xlim, ylim=ylim)\n",
    "        )\n",
    "\n",
    "    x_vals, y_vals, d_vals = zip(*all_vals)\n",
    "    data_avg = np.sum(d_vals, axis=0)\n",
    "    return x_vals[0], y_vals[0], data_avg"
   ]
  },
  {
   "cell_type": "code",
   "execution_count": null,
   "id": "e3d1cc0d-7f38-44cf-8fa0-17e9aa9d86ba",
   "metadata": {},
   "outputs": [],
   "source": [
    "def generate_streak_corrected_dataset(\n",
    "    ad,\n",
    "    fp,\n",
    "    fn,\n",
    "    correction_array,\n",
    "    xlim=None,\n",
    "    ylim=None,\n",
    "    x_bin=1,\n",
    "    y_bin=1,\n",
    "    int_range=0.0,\n",
    "    overwrite=False,\n",
    "    new_fn=None,\n",
    "):\n",
    "    new_fn = (\n",
    "        new_fn\n",
    "        if new_fn\n",
    "        else f\"{os.path.splitext(fn)[0]}_streakCorrect_{int_range:.2f}int.h5\"\n",
    "    )\n",
    "    new_fn = os.path.join(fp, new_fn)\n",
    "    if not overwrite and os.path.exists(new_fn):\n",
    "        raise FileExistsError(f\"{new_fn} already exists\")\n",
    "    new_data = []\n",
    "    for p in ad.phi_or_time:\n",
    "        val = p\n",
    "        xaxis, yaxis, dataslice = tr_functions.slice_datacube(\n",
    "            ad,\n",
    "            slice_dim=\"z\",\n",
    "            slice_val=val,\n",
    "            int_range=int_range,\n",
    "            xlim=xlim,\n",
    "            ylim=ylim,\n",
    "            x_bin=x_bin,\n",
    "            y_bin=y_bin,\n",
    "            norm_data=False,\n",
    "            plot_data=False,\n",
    "        )\n",
    "        corrected_data = correction_array * dataslice\n",
    "        new_data.append(corrected_data)\n",
    "    new_data = np.array(new_data).T\n",
    "    with h5py.File(\n",
    "        new_fn, \"w\"\n",
    "    ) as f:  # Note: 'w' creates a new empty file (or overwrites), use 'r+' to modify an existing file\n",
    "        f[\"data\"] = new_data\n",
    "        axes_names = [\n",
    "            \"theta\",\n",
    "            \"energy\",\n",
    "            \"phi\",\n",
    "        ]  # Change these to match your axes labels\n",
    "        axes = [xaxis, yaxis, ad.phi_or_time]\n",
    "        for axis, name in zip(axes, axes_names):\n",
    "            f[name] = axis\n",
    "    return new_fn"
   ]
  },
  {
   "cell_type": "markdown",
   "id": "8420489a-0cd7-40e6-8a3a-bc81638b6e8c",
   "metadata": {
    "tags": []
   },
   "source": [
    "# Load Data"
   ]
  },
  {
   "cell_type": "code",
   "execution_count": null,
   "id": "884e3129-07bc-419f-933f-5db432d4454e",
   "metadata": {
    "tags": []
   },
   "outputs": [],
   "source": [
    "# ## Convert lamp data ##\n",
    "\n",
    "# ddir = r\"E:\\atully\\arpes_data\\2023_February\\Lamp\"\n",
    "\n",
    "# # STEP 1 ##\n",
    "# # Convert ibw to hdf5\n",
    "# fn = \"Img7_Lamp_g_kw.ibw\"\n",
    "# HDF5_loader.ibw_to_hdf5(ddir, fn, export=True)\n",
    "\n",
    "# # Check conversion worked\n",
    "# data, theta, energy = HDF5_loader.load_hdf5(\n",
    "#     ddir, \"Img7_Lamp_g_kw.h5\"\n",
    "# )  # load data from hdf5\n",
    "# data.shape, theta.shape, energy.shape"
   ]
  },
  {
   "cell_type": "code",
   "execution_count": null,
   "id": "915a83b3-e341-4eb5-bcb2-4a97127576c9",
   "metadata": {
    "tags": []
   },
   "outputs": [],
   "source": [
    "colors = pc.qualitative.D3"
   ]
  },
  {
   "cell_type": "markdown",
   "id": "c63196a5-1790-4048-b050-8701ec16e1cc",
   "metadata": {},
   "source": [
    "# Fluence Dependence"
   ]
  },
  {
   "cell_type": "code",
   "execution_count": null,
   "id": "7f8413ec-3454-49cf-8df2-a7767713bce8",
   "metadata": {},
   "outputs": [],
   "source": [
    "ddir = r\"E:\\atully\\arpes_data\\2023_June\\C60\\ARPES\\Imgs\\Fluence Dependence\"\n",
    "\n",
    "## Ecenter 2.15, aquisitions 76, zero delay, TR0\n",
    "\n",
    "files = []\n",
    "files = [f\"Img_00{i}.h5\" for i in range(1, 3)]\n",
    "files.extend(f\"Img_00{i}.h5\" for i in range(0, 1))\n",
    "files.extend(f\"Img_00{i}.h5\" for i in range(3, 9))\n",
    "\n",
    "\n",
    "names = [\n",
    "    \"neg delay\",\n",
    "    \"pump blocked\",\n",
    "    \"2 mW\",\n",
    "    \"2.5 mW\",\n",
    "    \"3 mW\",\n",
    "    \"3.5 mW\",\n",
    "    \"4 mW\",\n",
    "    \"4.5 mW\",\n",
    "]\n",
    "\n",
    "x_power = np.array([-1, 0, 2, 2.5, 3, 3.5, 4, 4.5])\n",
    "\n",
    "colors = pc.qualitative.D3\n",
    "# data, theta, energy = loading_functions.load_hdf5(ddir, file)"
   ]
  },
  {
   "cell_type": "code",
   "execution_count": null,
   "id": "69263e9f-ae3a-4a4f-a035-30cda021fd60",
   "metadata": {
    "tags": []
   },
   "outputs": [],
   "source": [
    "## Limit Dataset ##\n",
    "\n",
    "xlim = None\n",
    "# ylim = None\n",
    "ylim = (energy[57], energy[1007])  # get rid of zero padding on datasets\n",
    "\n",
    "all_vals = []\n",
    "for file in files:\n",
    "    data, theta, energy = loading_functions.load_hdf5(ddir, file)\n",
    "    all_vals.append(analysis_functions.limit_dataset(theta, energy, data, xlim, ylim))"
   ]
  },
  {
   "cell_type": "code",
   "execution_count": null,
   "id": "42dd9db3-524e-40c3-b970-eb757d634244",
   "metadata": {
    "tags": []
   },
   "outputs": [],
   "source": [
    "## Plot Data ##\n",
    "\n",
    "x_1, y_1, d_1 = all_vals[0]\n",
    "\n",
    "fig = tr_functions.thesis_fig(\n",
    "    title=f\"{file}\",\n",
    "    xaxis_title=\"$theta$\",\n",
    "    yaxis_title=\"Energy (eV)\",\n",
    "    equiv_axes=False,\n",
    ")\n",
    "\n",
    "fig.add_trace(\n",
    "    go.Heatmap(x=x_1, y=y_1, z=analysis_functions.norm_data(d_1), coloraxis=\"coloraxis\")\n",
    ")\n",
    "\n",
    "fig.show(renderer=\"svg\")"
   ]
  },
  {
   "cell_type": "code",
   "execution_count": null,
   "id": "523b3ce6-05c7-47a8-827c-dabd241e3732",
   "metadata": {
    "tags": []
   },
   "outputs": [],
   "source": [
    "## Get and Plot 1D Data ##\n",
    "\n",
    "fig = tr_functions.thesis_fig(\n",
    "    title=f\"EDCs: Fluence Dependence\",\n",
    "    xaxis_title=\"Energy (eV)\",\n",
    "    yaxis_title=\"Intensity (arb. u)\",\n",
    "    equiv_axes=False,\n",
    "    gridlines=False,\n",
    "    height=600,\n",
    "    width=1000,\n",
    ")\n",
    "\n",
    "total_counts = []\n",
    "\n",
    "for i in range(len(files) - 1):\n",
    "    x, y, d = all_vals[i]\n",
    "    y, col = tr_functions.get_1d_x_slice(x=x, y=y, data=d, ylims=None, x_range=None)\n",
    "\n",
    "    # Plot Data\n",
    "    color = colors[i % len(colors)]\n",
    "    fig.add_trace(go.Scatter(x=y, y=col, name=names[i], line=dict(color=color)))\n",
    "\n",
    "    total_counts.append(np.sum(col))\n",
    "\n",
    "fig.show()\n",
    "\n",
    "# fig.write_image(r\"C:\\Users\\atully\\OneDrive\\Physics.UBC\\TR-ARPES\\Data\\prelim_EDCs.png\")"
   ]
  },
  {
   "cell_type": "code",
   "execution_count": null,
   "id": "74c89346-e602-43a9-a4f8-a4ccb66245a4",
   "metadata": {
    "tags": []
   },
   "outputs": [],
   "source": [
    "fig = tr_functions.thesis_fig(\n",
    "    title=f\"Fluence Dependence Linearity Check\",\n",
    "    xaxis_title=\"Power (mW)\",\n",
    "    yaxis_title=\"Intensity (arb. u)\",\n",
    "    equiv_axes=False,\n",
    "    gridlines=False,\n",
    "    height=600,\n",
    "    width=1000,\n",
    ")\n",
    "\n",
    "fig.add_trace(go.Scatter(x=x_power, y=total_counts, line=dict(color=colors[0])))"
   ]
  },
  {
   "cell_type": "code",
   "execution_count": null,
   "id": "18a3081e-4f80-464f-9922-fafb530320cd",
   "metadata": {},
   "outputs": [],
   "source": []
  },
  {
   "cell_type": "markdown",
   "id": "0555b837-dfca-45c8-bef2-97a355beab2e",
   "metadata": {},
   "source": [
    "# HS Cuts"
   ]
  },
  {
   "cell_type": "code",
   "execution_count": null,
   "id": "6c36d5be-59d3-4576-904e-92bcf376681d",
   "metadata": {
    "tags": []
   },
   "outputs": [],
   "source": [
    "xaxis_title = f\"{Theta}\"\n",
    "yaxis_title = f\"E<sub>K</sub> (eV)\""
   ]
  },
  {
   "cell_type": "markdown",
   "id": "31f0f44a-11c0-44b0-be60-5a2ee20d26d6",
   "metadata": {},
   "source": [
    "Starting with img_011, accumulate was ticked on, so can only take last image. Don't average cycles together."
   ]
  },
  {
   "cell_type": "code",
   "execution_count": null,
   "id": "85f19f19-24b8-49d3-8d3d-bcf8c691e7a8",
   "metadata": {
    "tags": []
   },
   "outputs": [],
   "source": [
    "theta, energy, data = average_imgs(ddir, files)"
   ]
  },
  {
   "cell_type": "code",
   "execution_count": null,
   "id": "d37346f2-b483-4ad3-96e7-0b99035b6546",
   "metadata": {
    "tags": []
   },
   "outputs": [],
   "source": [
    "# HS Cuts -- sums\n",
    "\n",
    "ddir = r\"E:\\atully\\arpes_data\\2023_June\\C60\\ARPES\\Imgs\\HS\"\n",
    "\n",
    "files = []"
   ]
  },
  {
   "cell_type": "code",
   "execution_count": null,
   "id": "d69a748e-ae44-46fc-9eae-b8c6fe26c3c9",
   "metadata": {},
   "outputs": [],
   "source": [
    "## G @ phi=-1 ##\n",
    "\n",
    "title = \"G1 (phi=-1)\"\n",
    "g_offset = -2\n",
    "files = []\n",
    "\n",
    "# Sum files\n",
    "files = [f\"Img_002_{i}.h5\" for i in range(1, 6)]\n",
    "files.extend(f\"Img_003_{i}.h5\" for i in range(1, 11))\n",
    "files.extend(f\"Img_022_{i}.h5\" for i in range(6, 7))  # take last img only\n",
    "theta_avg, energy_avg, data_avg = sum_imgs(ddir, files)\n",
    "g_theta, g_energy, g_data = sum_imgs(ddir, files)"
   ]
  },
  {
   "cell_type": "code",
   "execution_count": null,
   "id": "47abff14-7018-4032-b6f4-a8d1096b045f",
   "metadata": {
    "tags": []
   },
   "outputs": [],
   "source": [
    "## G @ phi=3.5 ##\n",
    "\n",
    "title = \"G2 (phi=3.5)\"\n",
    "g_offset = -2\n",
    "\n",
    "# Sum files\n",
    "files = []\n",
    "files = [f\"Img_009_{i}.h5\" for i in range(1, 11)]  # okay to avg\n",
    "files.extend(f\"Img_010_{i}.h5\" for i in range(1, 11))  # okay to avg\n",
    "files.extend(f\"Img11.h5\" for i in range(1, 2))\n",
    "files.extend(f\"Img_011_{i}.h5\" for i in range(10, 11))\n",
    "files.extend(f\"Img_021_{i}.h5\" for i in range(10, 11))\n",
    "theta_avg, energy_avg, data_avg = sum_imgs(ddir, files)\n",
    "# # theta_avg, energy_avg, data_avg = average_imgs(ddir, files)\n",
    "\n",
    "# # Last images only\n",
    "# files = []\n",
    "# files = [f\"Img_011_{i}.h5\" for i in range(10, 11)]\n",
    "# files.extend(f\"Img_021_{i}.h5\" for i in range(10, 11))\n",
    "# theta2, energy2, data2 = average_imgs(ddir, files)\n",
    "# # theta_avg, energy_avg, data_avg = average_imgs(ddir, files)\n",
    "\n",
    "# theta_avg, energy_avg, data_avg = theta2, energy2, np.mean([data1, data2], axis=0)\n",
    "\n",
    "# # files.extend(f\"Img11.h5\" for i in range(1, 2))  # single img -- don't include"
   ]
  },
  {
   "cell_type": "code",
   "execution_count": null,
   "id": "4420fb64-b073-456d-a241-23924710a64a",
   "metadata": {},
   "outputs": [],
   "source": [
    "## K1 -- left side of BZ ##\n",
    "\n",
    "title = \"K1\"\n",
    "offset = 17.7\n",
    "\n",
    "# Sum files\n",
    "files = []\n",
    "files = [f\"Img_004_{i}.h5\" for i in range(1, 11)]\n",
    "files.extend(f\"Img_030_{i}.h5\" for i in range(1, 11))\n",
    "theta_avg, energy_avg, data_avg = sum_imgs(ddir, files)\n",
    "k1_theta, k1_energy, k1_data = sum_imgs(ddir, files)"
   ]
  },
  {
   "cell_type": "code",
   "execution_count": null,
   "id": "d2582a93-1363-4f9f-894f-98751079ebf1",
   "metadata": {
    "tags": []
   },
   "outputs": [],
   "source": [
    "## K2 -- right side of BZ ##\n",
    "\n",
    "title = \"K2\"\n",
    "offset = -22\n",
    "\n",
    "# Sum files\n",
    "files = []\n",
    "files = [f\"Img_005_{i}.h5\" for i in range(1, 11)]\n",
    "theta_avg, energy_avg, data_avg = sum_imgs(ddir, files)\n",
    "k2_theta, k2_energy, k2_data = sum_imgs(ddir, files)"
   ]
  },
  {
   "cell_type": "code",
   "execution_count": null,
   "id": "c3e9b8c9-c5e8-4e49-ab56-f3b4cf29cb4c",
   "metadata": {
    "tags": []
   },
   "outputs": [],
   "source": [
    "## M3 -- left side of BZ ##\n",
    "\n",
    "title = \"M3\"\n",
    "offset = 8\n",
    "\n",
    "# Sum files\n",
    "files = []\n",
    "files = [f\"Img_006_{i}.h5\" for i in range(1, 11)]\n",
    "files.extend(f\"Img_019_{i}.h5\" for i in range(10, 11))\n",
    "theta_avg, energy_avg, data_avg = sum_imgs(ddir, files)\n",
    "m3_theta, m3_energy, m3_data = sum_imgs(ddir, files)"
   ]
  },
  {
   "cell_type": "code",
   "execution_count": null,
   "id": "6441199a-330f-4283-8a32-8ab8c8639b6e",
   "metadata": {
    "tags": []
   },
   "outputs": [],
   "source": [
    "## M2 -- right side of BZ ##\n",
    "\n",
    "title = \"M2\"\n",
    "offset = -12\n",
    "\n",
    "# Sum files\n",
    "files = []\n",
    "files = [f\"Img_007_{i}.h5\" for i in range(1, 11)]\n",
    "files.extend(f\"Img_020_{i}.h5\" for i in range(10, 11))\n",
    "theta_avg, energy_avg, data_avg = sum_imgs(ddir, files)\n",
    "m2_theta, m2_energy, m2_data = sum_imgs(ddir, files)"
   ]
  },
  {
   "cell_type": "code",
   "execution_count": null,
   "id": "cdddb90a-02f6-4a59-80cd-68554eb3a650",
   "metadata": {
    "tags": []
   },
   "outputs": [],
   "source": [
    "## M1 -- bottom of BZ ##\n",
    "\n",
    "title = \"M1\"\n",
    "\n",
    "# OK to avg\n",
    "files = []\n",
    "files = [f\"Img_008_{i}.h5\" for i in range(1, 11)]\n",
    "files.extend(f\"Img_015_{i}.h5\" for i in range(10, 11))\n",
    "files.extend(f\"Img_016_{i}.h5\" for i in range(1, 2))\n",
    "files.extend(f\"Img_017_{i}.h5\" for i in range(10, 11))\n",
    "theta_avg, energy_avg, data_avg = sum_imgs(ddir, files)\n",
    "m1_theta, m1_energy, m1_data = sum_imgs(ddir, files)"
   ]
  },
  {
   "cell_type": "code",
   "execution_count": null,
   "id": "93844f1e-3467-464d-8c13-f5aa7403429a",
   "metadata": {
    "tags": []
   },
   "outputs": [],
   "source": [
    "## M1 -- bottom of BZ, neg delay ##\n",
    "\n",
    "title = \"M1 (bottom of BZ; -2 ps)\"\n",
    "\n",
    "# Last images only\n",
    "files = []\n",
    "files = [f\"Img_018_{i}.h5\" for i in range(5, 6)]\n",
    "theta_avg, energy_avg, data_avg = average_imgs(ddir, files)"
   ]
  },
  {
   "cell_type": "code",
   "execution_count": null,
   "id": "c02fbd6b-1613-48e1-8bd2-0ea16875b8cd",
   "metadata": {
    "tags": []
   },
   "outputs": [],
   "source": [
    "## Cone check (G, pump blocked) ##\n",
    "\n",
    "title = \"Cone check (G, pump blocked)\"\n",
    "\n",
    "# OK to avg\n",
    "files = []\n",
    "# files = [f\"Img_023_{i}.h5\" for i in range(10, 11)]\n",
    "files = [f\"Img29.h5\" for i in range(10, 11)]\n",
    "# files = [f\"Img_033_{i}.h5\" for i in range(1, 9)]  # cone visible\n",
    "theta_avg, energy_avg, data_avg = average_imgs(ddir, files)"
   ]
  },
  {
   "cell_type": "code",
   "execution_count": null,
   "id": "11d177e1-6e7b-4973-8760-103690e32e1b",
   "metadata": {
    "tags": []
   },
   "outputs": [],
   "source": [
    "## CT2: G @ phi=3.5 ##\n",
    "\n",
    "title = \"CT2: G (phi=3.5)\"\n",
    "\n",
    "# Last images only\n",
    "files = []\n",
    "\n",
    "files = [f\"Img_012_{i}.h5\" for i in range(10, 11)]\n",
    "\n",
    "# files = [f\"Img_014_{i}.h5\" for i in range(5, 6)]\n",
    "# files.extend(f\"Img_012_{i}.h5\" for i in range(10, 11))\n",
    "# files.extend(f\"Img_013_{i}.h5\" for i in range(10, 11))\n",
    "theta_avg, energy_avg, data_avg = sum_imgs(ddir, files)"
   ]
  },
  {
   "cell_type": "code",
   "execution_count": null,
   "id": "bfde0158-583b-4ad3-aa15-0efe3b764c36",
   "metadata": {},
   "outputs": [],
   "source": [
    "## CT2: G @ phi=-1 ##\n",
    "\n",
    "title = \"CT2: G (phi=-1)\"\n",
    "\n",
    "# Last images only\n",
    "files = []\n",
    "\n",
    "files = [f\"Img_031_{i}.h5\" for i in range(1, 11)]\n",
    "files.extend(f\"Img_032_{i}.h5\" for i in range(1, 11))\n",
    "\n",
    "theta_avg, energy_avg, data_avg = sum_imgs(ddir, files)\n",
    "ct2_theta, ct2_energy, ct2_data = sum_imgs(ddir, files)"
   ]
  },
  {
   "cell_type": "code",
   "execution_count": null,
   "id": "30c63925-7840-4ea8-99a4-a32085d7b19a",
   "metadata": {
    "tags": []
   },
   "outputs": [],
   "source": [
    "# ## Subtract neg  c delay (multiphoton)  ##\n",
    "\n",
    "# data_neg, theta_neg, energy_neg = loading_functions.load_hdf5(ddir, \"Img_000.h5\")\n",
    "# data_sub = data - data_neg"
   ]
  },
  {
   "cell_type": "code",
   "execution_count": null,
   "id": "f75a106b-ff4d-4456-b857-10aa91a252ca",
   "metadata": {
    "tags": []
   },
   "outputs": [],
   "source": [
    "## Limit Dataset and FFT ##\n",
    "\n",
    "theta, energy, data_new = theta_avg, energy_avg, data_avg\n",
    "# data_new = data\n",
    "# data_new = data_sub\n",
    "\n",
    "xlim = None\n",
    "ylim = None\n",
    "# ylim = (energy[57], energy[1007])  # get rid of zero padding on datasets\n",
    "ylim = (energy[57], 2.45)  # no padding and no curve of detector\n",
    "xlim = (-17, 16)\n",
    "\n",
    "## G\n",
    "# xlim = (-17.4, 15.6)\n",
    "\n",
    "## K1\n",
    "# xlim = (-14, 16)\n",
    "\n",
    "## K2\n",
    "# xlim = (-19, 15)\n",
    "\n",
    "## M3\n",
    "# xlim = (-17, 16)\n",
    "\n",
    "## M2\n",
    "# xlim = (-18, 16)\n",
    "\n",
    "## M1\n",
    "# xlim = (-18, 16)\n",
    "\n",
    "## G -- phi = +3.5\n",
    "# xlim = (-17, 16)\n",
    "\n",
    "## CT2 -- at G, phi=3.5\n",
    "# xlim = (-19, 16.7)\n",
    "# ylim = (2.34, 3.0)\n",
    "\n",
    "\n",
    "f_data = filter_functions.fft2d_mask(data_new, plot=False)\n",
    "\n",
    "x_avg, y_avg, d_avg = analysis_functions.limit_dataset(\n",
    "    theta,\n",
    "    energy,\n",
    "    f_data,\n",
    "    xlim=xlim,\n",
    "    ylim=ylim,\n",
    ")\n",
    "\n",
    "# d_avg = analysis_functions.norm_data(d_avg)"
   ]
  },
  {
   "cell_type": "code",
   "execution_count": null,
   "id": "af3329c5-84ac-457c-8d4b-ae93b35dc9f4",
   "metadata": {
    "tags": []
   },
   "outputs": [],
   "source": [
    "## Plot ##\n",
    "\n",
    "x_plot, y_plot, data_plot = (\n",
    "    x_avg,\n",
    "    # x_avg - offset + g_offset,\n",
    "    y_avg,\n",
    "    d_avg,\n",
    ")  # averaged or summmed image\n",
    "\n",
    "\n",
    "fig = tr_functions.thesis_fig(\n",
    "    title=title,\n",
    "    xaxis_title=xaxis_title,\n",
    "    yaxis_title=yaxis_title,\n",
    "    equiv_axes=False,\n",
    "    height=600,\n",
    "    width=600,\n",
    ")\n",
    "\n",
    "fig.add_trace(\n",
    "    go.Heatmap(\n",
    "        x=x_plot,  # fix incorrect traces by, first, plotting without x-axis\n",
    "        y=y_plot,  # fix incorrect traces by, first, plotting without y-axis\n",
    "        # z=data_plot,\n",
    "        z=analysis_functions.norm_data(data_plot),\n",
    "        # z=np.log(data_plot),\n",
    "        coloraxis=\"coloraxis\",\n",
    "    )\n",
    ")\n",
    "\n",
    "fig.update_coloraxes(cmin=0, cmax=0.3)\n",
    "# fig.update_coloraxes(cmin=0.05, cmax=0.15)\n",
    "# fig.update_coloraxes(cmin=0.05, cmax=0.18)\n",
    "# fig.update_coloraxes(cmin=0.4, cmax=1.8)  # logscale\n",
    "\n",
    "fig.show()"
   ]
  },
  {
   "cell_type": "code",
   "execution_count": null,
   "id": "00a86c5d-f6b4-446f-9863-d2e7b3c45e29",
   "metadata": {
    "tags": []
   },
   "outputs": [],
   "source": [
    "## Get and Plot 1D Data --> EDC ##\n",
    "xlim = (3, 7)\n",
    "ylim = None\n",
    "\n",
    "fig = tr_functions.thesis_fig(\n",
    "    title=f\"EDC\",\n",
    "    xaxis_title=\"Intensity (arb. u)\",\n",
    "    yaxis_title=yaxis_title,\n",
    "    equiv_axes=False,\n",
    "    gridlines=False,\n",
    "    height=1000,\n",
    "    width=600,\n",
    "    # height=800,\n",
    "    # width=500,\n",
    ")\n",
    "\n",
    "y_1d, col = tr_functions.get_1d_x_slice(\n",
    "    x=x_plot, y=y_plot, data=data_plot, ylims=ylim, x_range=xlim\n",
    ")\n",
    "\n",
    "# fig.add_trace(go.Scatter(x=y_1d, y=col, line=dict(color=colors[0])))\n",
    "fig.add_trace(go.Scatter(x=col, y=y_1d, line=dict(color=colors[0])))\n",
    "\n",
    "fig.show()\n",
    "\n",
    "## Get and Plot 1D Data --> MDC ##\n",
    "xlim = None\n",
    "ylim = (2.15, 2.25)\n",
    "ylim = None\n",
    "\n",
    "fig = tr_functions.thesis_fig(\n",
    "    title=f\"MDC\",\n",
    "    xaxis_title=xaxis_title,\n",
    "    yaxis_title=\"Intensity (arb. u)\",\n",
    "    equiv_axes=False,\n",
    "    gridlines=False,\n",
    "    # height=600,\n",
    "    # width=800,\n",
    ")\n",
    "\n",
    "x_1d, row = tr_functions.get_1d_y_slice(\n",
    "    x=x_plot, y=y_plot, data=data_plot, xlims=xlim, y_range=ylim\n",
    ")\n",
    "\n",
    "fig.add_trace(go.Scatter(x=x_1d, y=row, line=dict(color=colors[0])))\n",
    "\n",
    "fig.show()"
   ]
  },
  {
   "cell_type": "markdown",
   "id": "e4dd87f5-8ae3-4954-9450-437d8d12205d",
   "metadata": {},
   "source": [
    "# Stitch Datasets"
   ]
  },
  {
   "cell_type": "code",
   "execution_count": null,
   "id": "d77eba80-fef1-4f6c-b3c3-fa2678a3248b",
   "metadata": {
    "tags": []
   },
   "outputs": [],
   "source": [
    "title = \"CT1 & CT2 at G\""
   ]
  },
  {
   "cell_type": "code",
   "execution_count": null,
   "id": "38904bf9-1860-47cc-9b28-fc7826ddcfd0",
   "metadata": {
    "tags": []
   },
   "outputs": [],
   "source": [
    "theta1, energy1, data1 = g_theta, g_energy, g_data  # CT1\n",
    "theta2, energy2, data2 = ct2_theta, ct2_energy, ct2_data  # CT2"
   ]
  },
  {
   "cell_type": "code",
   "execution_count": null,
   "id": "d223a36a-f750-4f3e-9880-1995bc04a4c7",
   "metadata": {
    "tags": []
   },
   "outputs": [],
   "source": [
    "f_data1 = filter_functions.fft2d_mask(data1, plot=False)\n",
    "f_data2 = filter_functions.fft2d_mask(data2, plot=False)"
   ]
  },
  {
   "cell_type": "code",
   "execution_count": null,
   "id": "396e5625-739d-4df9-b862-6d9566f3f90e",
   "metadata": {
    "tags": []
   },
   "outputs": [],
   "source": [
    "## Stitch and Average Datasets ##\n",
    "\n",
    "xlim = None\n",
    "ylim = None\n",
    "\n",
    "xlim = (-18, 16)\n",
    "ylim1 = (energy1[57], 2.4)\n",
    "ylim2 = (energy2[57], 3.0)\n",
    "\n",
    "x1, y1, dataslice1 = analysis_functions.limit_dataset(\n",
    "    theta1,\n",
    "    energy1,\n",
    "    f_data1,\n",
    "    xlim=xlim,\n",
    "    ylim=ylim1,\n",
    ")\n",
    "\n",
    "x2, y2, dataslice2 = analysis_functions.limit_dataset(\n",
    "    theta2,\n",
    "    energy2,\n",
    "    f_data2,\n",
    "    xlim=xlim,\n",
    "    ylim=ylim2,\n",
    ")\n",
    "\n",
    "xs, ys, ds = tr_functions.stitch_and_avg(\n",
    "    x1,\n",
    "    y1,\n",
    "    dataslice1,\n",
    "    x2,\n",
    "    y2,\n",
    "    dataslice2,\n",
    "    no_avg=True,\n",
    ")"
   ]
  },
  {
   "cell_type": "code",
   "execution_count": null,
   "id": "ce348024-26a1-416a-beb8-cd5938d22a7b",
   "metadata": {
    "tags": []
   },
   "outputs": [],
   "source": [
    "## Plot Data ##\n",
    "x, y, data = xs, ys, ds\n",
    "\n",
    "fig = tr_functions.thesis_fig(\n",
    "    title=title,\n",
    "    xaxis_title=xaxis_title,\n",
    "    yaxis_title=yaxis_title,\n",
    "    equiv_axes=False,\n",
    "    height=600,\n",
    "    width=600,\n",
    ")\n",
    "\n",
    "fig.add_trace(\n",
    "    go.Heatmap(x=x, y=y, z=analysis_functions.norm_data(data), coloraxis=\"coloraxis\")\n",
    ")\n",
    "\n",
    "fig.update_coloraxes(cmin=0.07, cmax=0.18)\n",
    "\n",
    "fig.show()"
   ]
  },
  {
   "cell_type": "code",
   "execution_count": null,
   "id": "59c1c8ec-87ba-4d20-8c0f-c4bcc09f1ab1",
   "metadata": {},
   "outputs": [],
   "source": []
  },
  {
   "cell_type": "markdown",
   "id": "2e3754d2-5cef-4ac3-a712-853a26dd9e1f",
   "metadata": {},
   "source": [
    "# Lamp Data"
   ]
  },
  {
   "cell_type": "code",
   "execution_count": null,
   "id": "bdfb0965-8d70-400d-8a15-e6cacb586674",
   "metadata": {
    "tags": []
   },
   "outputs": [],
   "source": [
    "title = f\"C<sub>60</sub> Band Structure\"\n",
    "xaxis_title = f\"{Theta}\"\n",
    "yaxis_title = f\"E<sub>K</sub> (eV)\""
   ]
  },
  {
   "cell_type": "code",
   "execution_count": null,
   "id": "ea125cd9-5ccf-4e52-8c61-9e2201da3a96",
   "metadata": {
    "tags": []
   },
   "outputs": [],
   "source": [
    "ddir = r\"E:\\atully\\arpes_data\\2023_June\\C60\\ARPES\\Lamp\\Swept\"\n",
    "\n",
    "# file = \"Img7_Lamp_g_kw.h5\"\n",
    "\n",
    "files = []\n",
    "\n",
    "## Swept Mode: Measurement Side\n",
    "# files = [f\"Img0.h5\" for i in range(1, 2)]\n",
    "# files.extend(f\"Img_001_{i}.h5\" for i in range(1, 13))\n",
    "# theta_img0, energy_img0, data_img0 = sum_imgs(ddir, files)\n",
    "\n",
    "## Swept Mode: Bad LEED Sid\n",
    "# files = [f\"Img2.h5\" for i in range(1, 2)]\n",
    "# theta_img2, energy_img2, data_img2 = sum_imgs(ddir, files)\n",
    "\n",
    "theta_avg, energy_avg, data_avg = sum_imgs(ddir, files)\n",
    "\n",
    "EF = 16.869"
   ]
  },
  {
   "cell_type": "code",
   "execution_count": null,
   "id": "b2cb38d6-3c39-4687-889a-b0085d3479fc",
   "metadata": {
    "tags": []
   },
   "outputs": [],
   "source": [
    "## Limit Dataset and FFT ##\n",
    "\n",
    "theta, energy, data_new = theta_avg, energy_avg, data_avg\n",
    "# theta, energy, data_new = theta_avg, energy_avg, data_img0 - data_img2\n",
    "\n",
    "xlim = None\n",
    "ylim = None\n",
    "# ylim = (energy[57], energy[1007])  # get rid of zero padding on datasets\n",
    "# ylim = (energy[57], 2.45)  # no padding and no curve of detector\n",
    "xlim = (-20, 17.45)\n",
    "\n",
    "f_data = filter_functions.fft2d_mask(data_new, plot=False)\n",
    "\n",
    "x_avg, y_avg, d_avg = analysis_functions.limit_dataset(\n",
    "    theta,\n",
    "    energy,\n",
    "    f_data,\n",
    "    xlim=xlim,\n",
    "    ylim=ylim,\n",
    ")"
   ]
  },
  {
   "cell_type": "code",
   "execution_count": null,
   "id": "52a6f182-7cb8-4ef1-b17f-f8d2c427b622",
   "metadata": {
    "tags": []
   },
   "outputs": [],
   "source": [
    "## Plot ##\n",
    "\n",
    "x_plot, y_plot, data_plot = (\n",
    "    x_avg,\n",
    "    y_avg,\n",
    "    d_avg,\n",
    ")\n",
    "\n",
    "\n",
    "fig = tr_functions.thesis_fig(\n",
    "    title=title,\n",
    "    xaxis_title=xaxis_title,\n",
    "    yaxis_title=yaxis_title,\n",
    "    equiv_axes=False,\n",
    "    height=600,\n",
    "    width=600,\n",
    ")\n",
    "\n",
    "fig.add_trace(\n",
    "    go.Heatmap(\n",
    "        x=x_plot,\n",
    "        y=y_plot,\n",
    "        z=analysis_functions.norm_data(data_plot),\n",
    "        coloraxis=\"coloraxis\",\n",
    "    )\n",
    ")\n",
    "\n",
    "# fig.update_coloraxes(cmin=0, cmax=1)\n",
    "fig.update_coloraxes(colorscale=\"RdBu\", cmid=0, showscale=True)\n",
    "\n",
    "fig.show()"
   ]
  },
  {
   "cell_type": "code",
   "execution_count": null,
   "id": "c38b83f3-5bb0-4068-b079-59d6fe51b052",
   "metadata": {
    "tags": []
   },
   "outputs": [],
   "source": [
    "## Get and Plot 1D Data ##\n",
    "\n",
    "fig = tr_functions.thesis_fig(\n",
    "    title=f\"EDC of Lamp Data\",\n",
    "    yaxis_title=\"Energy (eV)\",\n",
    "    xaxis_title=\"Intensity (arb. u)\",\n",
    "    equiv_axes=False,\n",
    "    gridlines=False,\n",
    "    height=700,\n",
    "    width=400,\n",
    "    dtick_y=1,\n",
    ")\n",
    "\n",
    "y_1d, col = tr_functions.get_1d_x_slice(\n",
    "    x=x_plot, y=y_plot, data=data_plot, ylims=None, x_range=None\n",
    ")\n",
    "\n",
    "# Plot Data\n",
    "fig.add_trace(go.Scatter(x=col, y=y_1d, name=\"data\", line=dict(color=colors[0])))\n",
    "\n",
    "fig.show()"
   ]
  },
  {
   "cell_type": "markdown",
   "id": "80d58653-3d17-453e-beff-c9abfccb77b5",
   "metadata": {},
   "source": [
    "# Fixed Mode"
   ]
  },
  {
   "cell_type": "code",
   "execution_count": null,
   "id": "7efba0c3-9635-4a0c-bdfd-5b17c31f44ab",
   "metadata": {
    "tags": []
   },
   "outputs": [],
   "source": [
    "ddir = r\"E:\\atully\\arpes_data\\2023_June\\C60\\ARPES\\Lamp\\Fixed\"\n",
    "\n",
    "files = []\n",
    "\n",
    "## Fixed Mode: Measurement Side\n",
    "files = [f\"Img0.h5\" for i in range(1, 2)]\n",
    "theta_img0, energy_img0, data_img0 = sum_imgs(ddir, files)\n",
    "\n",
    "## Fixed Mode: Bad LEED Side\n",
    "# files = [f\"Img2.h5\" for i in range(1, 2)]\n",
    "# theta_img2, energy_img2, data_img2 = sum_imgs(ddir, files)\n",
    "\n",
    "theta_avg, energy_avg, data_avg = sum_imgs(ddir, files)\n",
    "\n",
    "EF = 16.869"
   ]
  },
  {
   "cell_type": "code",
   "execution_count": null,
   "id": "58b2e323-af4c-4b83-95e3-0b308a441974",
   "metadata": {
    "tags": []
   },
   "outputs": [],
   "source": [
    "## Limit Dataset and FFT ##\n",
    "\n",
    "theta, energy, data_new = theta_avg, energy_avg, data_avg\n",
    "# theta, energy, data_new = theta_avg, energy_avg, data_img0 - data_img2\n",
    "\n",
    "xlim = None\n",
    "ylim = None\n",
    "# ylim = (energy[57], energy[1007])  # get rid of zero padding on datasets\n",
    "# ylim = (energy[57], 2.45)  # no padding and no curve of detector\n",
    "xlim = (-20, 17.45)\n",
    "ylim = (14.14, 15.47)\n",
    "\n",
    "f_data = filter_functions.fft2d_mask(data_new, plot=False)\n",
    "\n",
    "x_avg, y_avg, d_avg = analysis_functions.limit_dataset(\n",
    "    theta,\n",
    "    energy,\n",
    "    f_data,\n",
    "    xlim=xlim,\n",
    "    ylim=ylim,\n",
    ")"
   ]
  },
  {
   "cell_type": "code",
   "execution_count": null,
   "id": "79a4d535-bcfa-4275-b635-30d5fe567cf7",
   "metadata": {
    "tags": []
   },
   "outputs": [],
   "source": [
    "## Plot ##\n",
    "\n",
    "x_plot, y_plot, data_plot = (\n",
    "    x_avg,\n",
    "    y_avg,\n",
    "    d_avg,\n",
    ")\n",
    "\n",
    "\n",
    "fig = tr_functions.thesis_fig(\n",
    "    title=title,\n",
    "    xaxis_title=xaxis_title,\n",
    "    yaxis_title=yaxis_title,\n",
    "    equiv_axes=False,\n",
    ")\n",
    "\n",
    "fig.add_trace(\n",
    "    go.Heatmap(\n",
    "        x=x_plot,\n",
    "        y=y_plot,\n",
    "        z=analysis_functions.norm_data(data_plot),\n",
    "        coloraxis=\"coloraxis\",\n",
    "    )\n",
    ")\n",
    "\n",
    "fig.update_coloraxes(cmin=0, cmax=0.15)\n",
    "\n",
    "fig.show()"
   ]
  },
  {
   "cell_type": "code",
   "execution_count": null,
   "id": "5f2e57d0-6111-4dfe-ba8f-923b29a14de0",
   "metadata": {
    "tags": []
   },
   "outputs": [],
   "source": [
    "## Get and Plot 1D Data ##\n",
    "\n",
    "fig = tr_functions.thesis_fig(\n",
    "    title=f\"EDC of Lamp Data\",\n",
    "    xaxis_title=\"Energy (eV)\",\n",
    "    yaxis_title=\"Intensity (arb. u)\",\n",
    "    equiv_axes=False,\n",
    "    gridlines=False,\n",
    ")\n",
    "\n",
    "y_1d, col = tr_functions.get_1d_x_slice(\n",
    "    x=x_plot, y=y_plot, data=data_plot, ylims=None, x_range=None\n",
    ")\n",
    "\n",
    "# Plot Data\n",
    "fig.add_trace(go.Scatter(x=y_1d, y=col, name=\"data\", line=dict(color=colors[0])))\n",
    "\n",
    "fig.show()"
   ]
  },
  {
   "cell_type": "code",
   "execution_count": null,
   "id": "cc6ab20f-07ed-4025-aa35-9fe9eea87169",
   "metadata": {
    "tags": []
   },
   "outputs": [],
   "source": [
    "## Fit Data ##\n",
    "\n",
    "x = y_1d\n",
    "data = analysis_functions.norm_data(col)\n",
    "\n",
    "offset_type = \"constant\"\n",
    "\n",
    "## Offset\n",
    "c = np.mean(data)\n",
    "b = (data[-1] - data[0]) / (x[-1] - x[0])\n",
    "a = 0\n",
    "\n",
    "offset = fitting_functions.offset_model(offset_type, a, b, c)\n",
    "\n",
    "## Gaussian\n",
    "gauss = fitting_functions.make_gaussian(num=\"A_\", amplitude=1, center=14.8, sigma=0.5)\n",
    "\n",
    "## Lorentzians\n",
    "# lorentz1 = fitting_functions.make_lorentzian(\n",
    "#     num=\"A_\", amplitude=0.1, center=14.8, sigma=0.2\n",
    "# )\n",
    "# lorentz2 = fitting_functions.make_lorentzian(\n",
    "#     num=\"B_\", amplitude=0.1, center=15.1, sigma=0.5\n",
    "# )\n",
    "lorentz1 = fitting_functions.make_lorentzian(\n",
    "    num=\"A_\", amplitude=0.1, center=-2, sigma=0.2\n",
    ")\n",
    "\n",
    "# full_model = lorentz1 + offset\n",
    "# full_model = lorentz1 + lorentz2 + offset\n",
    "full_model = gauss + offset\n",
    "\n",
    "fit = full_model.fit(data, x=x)\n",
    "\n",
    "fit.plot()\n",
    "\n",
    "print(fit.params[\"iA__fwhm\"])\n",
    "print(fit.params[\"iA__center\"])"
   ]
  },
  {
   "cell_type": "code",
   "execution_count": null,
   "id": "8e3fc590-b1e8-4f8e-86c9-8974a88cf615",
   "metadata": {
    "tags": []
   },
   "outputs": [],
   "source": [
    "fit.params"
   ]
  },
  {
   "cell_type": "code",
   "execution_count": null,
   "id": "49ccab30-8143-4ecf-be42-05a260710a37",
   "metadata": {},
   "outputs": [],
   "source": []
  }
 ],
 "metadata": {
  "kernelspec": {
   "display_name": "Python 3 (ipykernel)",
   "language": "python",
   "name": "python3"
  },
  "language_info": {
   "codemirror_mode": {
    "name": "ipython",
    "version": 3
   },
   "file_extension": ".py",
   "mimetype": "text/x-python",
   "name": "python",
   "nbconvert_exporter": "python",
   "pygments_lexer": "ipython3",
   "version": "3.8.12"
  }
 },
 "nbformat": 4,
 "nbformat_minor": 5
}
