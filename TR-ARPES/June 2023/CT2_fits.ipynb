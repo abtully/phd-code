{
 "cells": [
  {
   "cell_type": "markdown",
   "id": "3ff2997b-a5b5-4a32-891a-00aac86f7400",
   "metadata": {
    "tags": []
   },
   "source": [
    "## Old Functions and Imports"
   ]
  },
  {
   "cell_type": "code",
   "execution_count": null,
   "id": "17394c14-fe77-40c5-886f-9dde90076f56",
   "metadata": {
    "tags": []
   },
   "outputs": [],
   "source": [
    "%load_ext lab_black\n",
    "\n",
    "import h5py\n",
    "import os\n",
    "\n",
    "from dataclasses import dataclass\n",
    "from tqdm.auto import tqdm\n",
    "from scipy.signal import savgol_filter\n",
    "from scipy.interpolate import interp2d\n",
    "from functools import lru_cache\n",
    "import lmfit as lm\n",
    "\n",
    "from typing import Dict, List, Optional, Tuple\n",
    "import numpy as np\n",
    "import plotly.graph_objects as go\n",
    "import plotly.colors as pc\n",
    "import matplotlib.pyplot as plt\n",
    "\n",
    "\n",
    "import sys\n",
    "\n",
    "sys.path.append(r\"C:\\Users\\atully\\Code\\GitHub\\ARPES Code\\arpes-code-python\")\n",
    "from arpes_functions import (\n",
    "    fitting_functions,\n",
    "    analysis_functions,\n",
    "    plotting_functions,\n",
    "    HDF5_loader,\n",
    "    misc_functions,\n",
    "    filter_functions,\n",
    "    tr_functions,\n",
    "    loading_functions,\n",
    "    cnn,\n",
    ")\n",
    "\n",
    "colors = pc.qualitative.D3\n",
    "colors_seq = pc.sequential.dense\n",
    "angstrom = \"\\u212B\"\n",
    "Theta = \"\\u0398\""
   ]
  },
  {
   "cell_type": "markdown",
   "id": "98293406-c399-4909-9b36-e18999773c13",
   "metadata": {},
   "source": [
    "# Load Data"
   ]
  },
  {
   "cell_type": "code",
   "execution_count": null,
   "id": "4d13a85d-b5f8-43e9-9c71-418135ecd386",
   "metadata": {
    "tags": []
   },
   "outputs": [],
   "source": [
    "ddir = r\"E:\\atully\\arpes_data\\2023_June\\C60\\ARPES\\TR\"\n",
    "files = []\n",
    "\n",
    "# files = [f\"TR0/TR0_Ali_avg.h5\"]\n",
    "# files = [f\"TR1/TR1_Ali_avg.h5\"]\n",
    "# files = [f\"TR2/TR2_Ali_avg.h5\"]\n",
    "# files = [f\"TR0&TR2_Ali_avg.h5\"]\n",
    "\n",
    "## High Statistics Scans -- at M to K##\n",
    "# TR6: -0.5 to 0.5 ps\n",
    "# TR7: -1 to 1 ps in steps of 100 fs, then out to 30 ps with variable steps\n",
    "\n",
    "## High Statistics Scans -- at G to K ##\n",
    "# TR9&TR11: -0.5 to 0.5 ps\n",
    "# TR12: -1 to 1 ps in steps of 100 fs, then out to 30 ps with variable steps\n",
    "\n",
    "\n",
    "files = [\n",
    "    f\"TR4_Ali_avg.h5\",\n",
    "    \"TR6_Ali_avg.h5\",\n",
    "    \"TR7_Ali_avg.h5\",\n",
    "    \"TR9&TR11_Ali_avg.h5\",\n",
    "    \"TR12_Ali_avg_best.h5\",\n",
    "]\n",
    "\n",
    "### February Comparison ###\n",
    "# ddir = r\"E:\\atully\\arpes_data\\2023_February\\6eV\\TR\"\n",
    "# files = []\n",
    "# # # files = [\"TR3_Ali_avg.h5\"]\n",
    "# # # files = [\n",
    "# # #     \"TR4_Ali_avg.h5\"\n",
    "# # # ]  # 2.6 eV center energy; -1 to 1 ps, same number of steps as first 2 ps of TR3\n",
    "# # files = [\"TR_001_1.h5\"]\n",
    "\n",
    "ARPES_DATA: Dict[str, tr_functions.ArpesData] = {}\n",
    "ARPES_ATTRS: Dict[str, tr_functions.ArpesAttrs] = {}\n",
    "for file in tqdm(files):\n",
    "    data, kx, ky, energy = loading_functions.load_hdf5(ddir, file)\n",
    "    ARPES_DATA[file] = tr_functions.ArpesData(\n",
    "        data=data, theta=kx, phi_or_time=ky, energy=energy\n",
    "    )\n",
    "    ARPES_ATTRS[file] = tr_functions.load_attrs_hdf5(ddir, file)"
   ]
  },
  {
   "cell_type": "code",
   "execution_count": null,
   "id": "de17bb0c-9e8d-4119-a1b0-a2cd2b0dc63b",
   "metadata": {
    "tags": []
   },
   "outputs": [],
   "source": [
    "# ad = ARPES_DATA[files[0]]\n",
    "# for k in [\"energy\", \"theta\", \"phi_or_time\"]:\n",
    "#     print(f\"{k}.shape = {getattr(ad, k).shape}\")\n",
    "# print(f\"Data.shape = {ad.data.shape}\")"
   ]
  },
  {
   "cell_type": "code",
   "execution_count": null,
   "id": "ae5dd8fc-6db4-4199-8a4a-2c0b013fae26",
   "metadata": {},
   "outputs": [],
   "source": [
    "ad_4 = ARPES_DATA[files[0]]\n",
    "ad_6 = ARPES_DATA[files[1]]\n",
    "ad_7 = ARPES_DATA[files[2]]\n",
    "ad_9_11 = ARPES_DATA[files[3]]\n",
    "ad_12 = ARPES_DATA[files[4]]\n",
    "\n",
    "# ad_feb_1 = ARPES_DATA[files[0]]\n",
    "# ad_feb_4 = ARPES_DATA[files[0]]"
   ]
  },
  {
   "cell_type": "code",
   "execution_count": null,
   "id": "df2e3f92-2a22-4ad1-8fd0-760b6c136962",
   "metadata": {
    "tags": []
   },
   "outputs": [],
   "source": [
    "## Zero Delay, HOMO, EF ##\n",
    "\n",
    "time_zero = 34.8225  # Bi2Se3\n",
    "\n",
    "time_zero_feb = 37.96  # February\n",
    "\n",
    "EF_400 = 1.91  # in kinetic energy, slit 400\n",
    "EF_700 = 1.94  # in kinetic energy, slit 700\n",
    "\n",
    "homo = -2.05\n",
    "\n",
    "homo_400 = homo + EF_400\n",
    "homo_700 = homo + EF_700"
   ]
  },
  {
   "cell_type": "code",
   "execution_count": null,
   "id": "6035c2c2-c050-4299-8b16-390b4f762ed4",
   "metadata": {
    "tags": []
   },
   "outputs": [],
   "source": [
    "ad_6.energy = ad_6.energy - homo_400  # M - K\n",
    "ad_9_11.energy = ad_9_11.energy - homo_400  # G - K"
   ]
  },
  {
   "cell_type": "code",
   "execution_count": null,
   "id": "54919b48-196d-4d04-98cb-7e07dcc3e4c8",
   "metadata": {
    "tags": []
   },
   "outputs": [],
   "source": [
    "ad_6.phi_or_time = tr_functions.mm_to_ps(ad_6.phi_or_time, time_zero)\n",
    "ad_9_11.phi_or_time = tr_functions.mm_to_ps(ad_9_11.phi_or_time, time_zero)"
   ]
  },
  {
   "cell_type": "markdown",
   "id": "6ed47b40-3fc5-4a7f-8dc1-e5c21e758637",
   "metadata": {},
   "source": [
    "# Analysis Setup"
   ]
  },
  {
   "cell_type": "code",
   "execution_count": null,
   "id": "302a220a-a451-4e74-86ff-01d831e41410",
   "metadata": {
    "tags": []
   },
   "outputs": [],
   "source": [
    "## Integrate over desired angular range ##\n",
    "\n",
    "slice_dim = \"x\"\n",
    "slice_val = 0\n",
    "int_range = 20  # if this value is more that the integration range, my get_2D_slice function will just integrate over the max range.\n",
    "\n",
    "xlim = None\n",
    "ylim = None\n",
    "x_bin = 1\n",
    "y_bin = 1"
   ]
  },
  {
   "cell_type": "code",
   "execution_count": null,
   "id": "bbc683b7-3b80-4ede-b92e-c2cea23647e8",
   "metadata": {},
   "outputs": [],
   "source": [
    "# ## Integrate over desired time range ##\n",
    "\n",
    "# slice_dim = \"z\"\n",
    "# slice_val = time_zero + tr_functions.ps_to_mm(0, time_zero)\n",
    "# int_range = tr_functions.ps_to_mm(\n",
    "#     0.5, time_zero\n",
    "# )  # if this value is more that the integration range, my get_2D_slice function will just integrate over the max range.\n",
    "\n",
    "# # xlim = (-20, 16.5)\n",
    "# xlim = (-20, 15)\n",
    "# ylim = None\n",
    "\n",
    "# x_bin = 1\n",
    "# y_bin = 1"
   ]
  },
  {
   "cell_type": "markdown",
   "id": "3b41bb5f-147f-424f-944e-2db6b21d1059",
   "metadata": {},
   "source": [
    "# Analysis"
   ]
  },
  {
   "cell_type": "code",
   "execution_count": null,
   "id": "04959802-fee7-4f04-81a8-331ecb1d39b6",
   "metadata": {
    "tags": []
   },
   "outputs": [],
   "source": [
    "title = f\"C<sub>60</sub> Pump Effect\"\n",
    "# title = f\"CT<sub>2</sub>\"\n",
    "title = f\"C<sub>60</sub> Pump Effect\"\n",
    "\n",
    "yaxis_title = \"E - E<sub>HOMO</sub> (eV)\"\n",
    "xaxis_title = \"Delay (ps)\"\n",
    "# xaxis_title=f\"k<sub>x</sub> [{angstrom}<sup>-1</sup>]\""
   ]
  },
  {
   "cell_type": "code",
   "execution_count": null,
   "id": "ed9a8398-0812-41cb-910c-b693327630ee",
   "metadata": {
    "tags": []
   },
   "outputs": [],
   "source": [
    "all_vals = []\n",
    "for ad in [ad_6, ad_9_11]:\n",
    "    all_vals.append(\n",
    "        tr_functions.slice_datacube(\n",
    "            ad_dataclass=ad,\n",
    "            slice_dim=slice_dim,\n",
    "            slice_val=slice_val,\n",
    "            int_range=int_range,\n",
    "            xlim=xlim,\n",
    "            ylim=(\n",
    "                ad.energy[57],\n",
    "                ad.energy[1007],\n",
    "            ),  # get rid of zero padding on datasets\n",
    "            x_bin=x_bin,\n",
    "            y_bin=y_bin,\n",
    "            norm_data=False,\n",
    "            plot_data=False,\n",
    "        )\n",
    "    )\n",
    "\n",
    "x6, y6, d6 = all_vals[0]\n",
    "x911, y911, d911 = all_vals[1]"
   ]
  },
  {
   "cell_type": "code",
   "execution_count": null,
   "id": "e53d6581-549b-4215-a8cb-db93ee994a23",
   "metadata": {},
   "outputs": [],
   "source": [
    "## Plot Data ##\n",
    "# x_plot, y_plot, d_plot = x6, y6, d6\n",
    "x_plot, y_plot, d_plot = x911, y911, d911\n",
    "\n",
    "# # FFT angular dispersion data\n",
    "# d_2d = filter_functions.fft2d_mask(d_2d, plot=False)\n",
    "\n",
    "fig = tr_functions.thesis_fig(\n",
    "    title=title,\n",
    "    xaxis_title=xaxis_title,\n",
    "    yaxis_title=yaxis_title,\n",
    "    equiv_axes=False,\n",
    "    height=600,\n",
    "    width=800,\n",
    "    dtick_y=0.1,\n",
    ")\n",
    "\n",
    "fig.add_trace(\n",
    "    go.Heatmap(\n",
    "        x=x_plot,\n",
    "        y=y_plot,\n",
    "        z=analysis_functions.norm_data(d_plot),\n",
    "        coloraxis=\"coloraxis\",\n",
    "    )\n",
    ")\n",
    "\n",
    "# fig.update_coloraxes(colorscale=\"greys\", showscale=False)\n",
    "# fig.update_coloraxes(cmin=0.0, cmax=0.8)\n",
    "\n",
    "fig.show()"
   ]
  },
  {
   "cell_type": "code",
   "execution_count": null,
   "id": "8bf583c9-2f2b-4e28-849c-4fa5cfb8b3ca",
   "metadata": {
    "tags": []
   },
   "outputs": [],
   "source": [
    "## Integrated over energy ##\n",
    "\n",
    "xlim = None\n",
    "ylim = None\n",
    "# ylim = (3.3, 3.545)\n",
    "\n",
    "## Get slice\n",
    "x_1d, row = tr_functions.get_1d_y_slice(\n",
    "    x=x_plot,\n",
    "    y=y_plot,\n",
    "    data=d_plot,\n",
    "    xlims=xlim,\n",
    "    y_range=ylim,\n",
    ")\n",
    "\n",
    "## Plot data\n",
    "if ylim is None:\n",
    "    ylim = \"all\"\n",
    "fig = tr_functions.thesis_fig(\n",
    "    title=f\"Average over {ylim} eV\",\n",
    "    xaxis_title=\"Delay (ps)\",\n",
    "    yaxis_title=\"Intensity (arb. u)\",\n",
    "    equiv_axes=False,\n",
    "    gridlines=False,\n",
    "    height=600,\n",
    "    width=900,\n",
    ")\n",
    "\n",
    "fig.add_trace(\n",
    "    go.Scatter(\n",
    "        x=x_1d,\n",
    "        y=row,\n",
    "        name=\"data\",\n",
    "        mode=\"markers\",\n",
    "        marker=dict(symbol=\"cross\", size=8),\n",
    "    )\n",
    ")\n",
    "\n",
    "## For After Fit\n",
    "# fig.add_trace(go.Scatter(x=x, y=fit.eval(x=x_1d), name=\"fit\"))\n",
    "\n",
    "x_ = np.linspace(min(x_1d), max(x_1d), 1000)\n",
    "fig.add_trace(go.Scatter(x=x_, y=fit.eval(x=x_), name=\"fit\"))\n",
    "\n",
    "components = fit.eval_components(x=x_1d)\n",
    "for model_name, model_value in list(components.items())[0:1]:\n",
    "    fig.add_annotation(\n",
    "        # x=fit.params[f\"center\"].value,\n",
    "        # y=fit.eval(x=fit.params[f\"{model_name}center\"].value),\n",
    "        xref=\"x domain\",\n",
    "        yref=\"y domain\",\n",
    "        x=0.01,\n",
    "        y=0.99,\n",
    "        showarrow=False,\n",
    "        # text=f'Peak center: {fit.params[f\"center\"].value:.2f} +/- {fit.params[f\"center\"].stderr:.4f} mm<br>FWHM: {tr_functions.mm_to_ps(tr_functions.sig_to_fwhm(fit.params[\"sigma\"].value)):.3f} +/- {tr_functions.mm_to_ps(tr_functions.sig_to_fwhm(fit.params[f\"sigma\"].stderr)):.4f} ps',\n",
    "        text=f'Peak center:<br>{fit.params[f\"center\"].value:.2f} +/- {fit.params[f\"center\"].stderr:.4f} ps<br><br>FWHM:<br>{tr_functions.sig_to_fwhm(fit.params[\"sigma\"].value):.3f} +/- {tr_functions.sig_to_fwhm(fit.params[f\"sigma\"].stderr):.4f} ps',\n",
    "        # text=f'Peak:<br>{np.round(x_1d[np.where(fit.eval(x=x_1d) == np.max(fit.eval(x=x_1d)))][0], 2)} ps<br><br>FWHM:<br>{tr_functions.sig_to_fwhm(fit.params[\"sigma\"].value):.3f} +/- {tr_functions.sig_to_fwhm(fit.params[f\"sigma\"].stderr):.4f} ps',\n",
    "        font=dict(size=18),\n",
    "    )\n",
    "\n",
    "fig.show()\n",
    "\n",
    "print(\n",
    "    f'center: {np.round(fit.params[\"center\"].value, 2)} +/- {fit.params[f\"center\"].stderr:.4f} ps'\n",
    ")\n",
    "print(\n",
    "    f'decay: {np.round(1 / fit.params[\"gamma\"].value, 3) * 1000} +/- {1 / fit.params[f\"gamma\"].stderr:.4f} fs'\n",
    ")\n",
    "# print(f\"peak: {x_1d[np.where(fit.eval(x=x_1d) == np.max(fit.eval(x=x_1d)))][0]}\")\n",
    "print(\n",
    "    f\"peak: {np.round(x_1d[np.where(fit.eval(x=x_1d) == np.max(fit.eval(x=x_1d)))][0], 2)} ps\"\n",
    ")\n",
    "print(\n",
    "    f'FWHM: {tr_functions.sig_to_fwhm(fit.params[\"sigma\"].value):.3f} +/- {tr_functions.sig_to_fwhm(fit.params[f\"sigma\"].stderr):.4f} ps'\n",
    ")"
   ]
  },
  {
   "cell_type": "code",
   "execution_count": null,
   "id": "0035214b-1c5b-476b-8d79-54b87100970f",
   "metadata": {
    "tags": []
   },
   "outputs": [],
   "source": [
    "## Plot Residuals\n",
    "fig = tr_functions.thesis_fig(\n",
    "    title=f\"Residuals\",\n",
    "    xaxis_title=xaxis_title,\n",
    "    yaxis_title=\"Residuals\",\n",
    "    equiv_axes=False,\n",
    "    gridlines=False,\n",
    "    height=400,\n",
    "    width=900,\n",
    ")\n",
    "\n",
    "fig.add_trace(go.Scatter(x=x_1d, y=row - fit.eval(x=x_1d), name=\"fit\"))\n",
    "fig.add_hline(y=0, line=dict(dash=\"dash\"))"
   ]
  },
  {
   "cell_type": "code",
   "execution_count": null,
   "id": "0d8bed61-bf79-472f-b435-8c1c52273551",
   "metadata": {
    "tags": []
   },
   "outputs": [],
   "source": [
    "from statsmodels.stats.stattools import durbin_watson\n",
    "\n",
    "resids = row - fit.eval(x=x_1d)\n",
    "\n",
    "dw = durbin_watson(resids)\n",
    "print(f\"Durbin-Watson: {dw}\")"
   ]
  },
  {
   "cell_type": "code",
   "execution_count": null,
   "id": "4397e806-8c43-4c62-8966-8ded1e6035d9",
   "metadata": {
    "tags": []
   },
   "outputs": [],
   "source": [
    "## Fit ##\n",
    "\n",
    "import lmfit as lm\n",
    "\n",
    "offset_type = \"constant\"\n",
    "x = x_1d\n",
    "data = row\n",
    "\n",
    "c = np.mean(data)\n",
    "b = (data[-1] - data[0]) / (x[-1] - x[0])\n",
    "a = 0\n",
    "\n",
    "offset = fitting_functions.offset_model(offset_type, a, b, c)\n",
    "\n",
    "# gaussian = fitting_functions.make_gaussian(\n",
    "#     num=\"A\",\n",
    "#     amplitude=1,\n",
    "#     center=0,\n",
    "#     sigma=0.05,\n",
    "#     include_exp_decay=True,\n",
    "#     gamma=19,\n",
    "#     # lock_sigma=True,  # sigma should be based on fwhm of BiSe, but the pump profile changes\n",
    "# )\n",
    "\n",
    "gaussian = lm.models.ExponentialGaussianModel()\n",
    "\n",
    "full_model = gaussian + offset\n",
    "\n",
    "params = full_model.make_params()\n",
    "\n",
    "params[\"center\"].value = 0\n",
    "params[\"amplitude\"].value = 1\n",
    "params[\"sigma\"].value = 0.05\n",
    "params[\"gamma\"].value = 20\n",
    "\n",
    "\n",
    "fit = full_model.fit(row, x=x_1d, params=params)\n",
    "\n",
    "fit.plot()"
   ]
  },
  {
   "cell_type": "code",
   "execution_count": null,
   "id": "2894f4c6-9eb6-4544-a924-d9497432fb70",
   "metadata": {
    "tags": []
   },
   "outputs": [],
   "source": [
    "fit"
   ]
  },
  {
   "cell_type": "code",
   "execution_count": null,
   "id": "ed3b42b0-12f1-4bef-b6fa-f5328cb3d0ab",
   "metadata": {
    "tags": []
   },
   "outputs": [],
   "source": [
    "tr_functions.sig_to_fwhm(fit.params[\"sigma\"].value)"
   ]
  },
  {
   "cell_type": "code",
   "execution_count": null,
   "id": "977c74c9-e2a4-4e24-b484-828db7232768",
   "metadata": {},
   "outputs": [],
   "source": []
  }
 ],
 "metadata": {
  "kernelspec": {
   "display_name": "Python 3 (ipykernel)",
   "language": "python",
   "name": "python3"
  },
  "language_info": {
   "codemirror_mode": {
    "name": "ipython",
    "version": 3
   },
   "file_extension": ".py",
   "mimetype": "text/x-python",
   "name": "python",
   "nbconvert_exporter": "python",
   "pygments_lexer": "ipython3",
   "version": "3.8.12"
  }
 },
 "nbformat": 4,
 "nbformat_minor": 5
}
