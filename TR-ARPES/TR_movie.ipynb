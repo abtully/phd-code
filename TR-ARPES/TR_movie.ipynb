{
 "cells": [
  {
   "cell_type": "markdown",
   "id": "1ae5304f-f9bb-485a-ac96-3e176dddfac0",
   "metadata": {
    "tags": []
   },
   "source": [
    "# Imports"
   ]
  },
  {
   "cell_type": "code",
   "execution_count": null,
   "id": "b2afd8fc-ac96-40c0-a606-b145dad8d1b9",
   "metadata": {
    "tags": []
   },
   "outputs": [],
   "source": [
    "%load_ext lab_black\n",
    "\n",
    "import h5py\n",
    "import os\n",
    "\n",
    "from dataclasses import dataclass\n",
    "from tqdm.auto import tqdm\n",
    "from scipy.signal import savgol_filter\n",
    "from scipy.interpolate import interp2d\n",
    "from functools import lru_cache\n",
    "import lmfit as lm\n",
    "\n",
    "from typing import Dict, List, Optional, Tuple\n",
    "import numpy as np\n",
    "import plotly.graph_objects as go\n",
    "import plotly.colors as pc\n",
    "import matplotlib.pyplot as plt\n",
    "\n",
    "\n",
    "import sys\n",
    "\n",
    "sys.path.append(r\"C:\\Users\\atully\\Code\\GitHub\\ARPES Code\\arpes-code-python\")\n",
    "from arpes_functions import (\n",
    "    fitting_functions,\n",
    "    analysis_functions,\n",
    "    plotting_functions,\n",
    "    HDF5_loader,\n",
    "    misc_functions,\n",
    "    filter_functions,\n",
    "    tr_functions,\n",
    "    loading_functions,\n",
    "    cnn,\n",
    ")\n",
    "\n",
    "colors = pc.qualitative.D3\n",
    "angstrom = \"\\u212B\"\n",
    "theta = \"\\u03B8\"\n",
    "Theta = \"\\u0398\""
   ]
  },
  {
   "cell_type": "markdown",
   "id": "270640c8-b8c3-4316-9bea-01b631ea889d",
   "metadata": {
    "tags": []
   },
   "source": [
    "# Load Data"
   ]
  },
  {
   "cell_type": "code",
   "execution_count": null,
   "id": "0d9ade1f-60ff-482d-93d4-c693e329ec61",
   "metadata": {
    "tags": []
   },
   "outputs": [],
   "source": [
    "# Load FFT, k-corrected Dataset\n",
    "\n",
    "ddir = r\"E:\\atully\\arpes_data\\2023_February\\6eV\\TR\"\n",
    "files = [\"TR3_avg_g_kw_filteredFFT_0.00int.h5\"]  # 2.15 eV center energy; -1 to 2 ps\n",
    "\n",
    "ARPES_DATA: Dict[str, tr_functions.ArpesData] = {}\n",
    "ARPES_ATTRS: Dict[str, tr_functions.ArpesAttrs] = {}\n",
    "for file in tqdm(files):\n",
    "    data, theta, phi_or_time, energy = loading_functions.load_hdf5(ddir, file)\n",
    "    ARPES_DATA[file] = tr_functions.ArpesData(\n",
    "        data=data, theta=theta, phi_or_time=phi_or_time, energy=energy\n",
    "    )\n",
    "    ARPES_ATTRS[file] = tr_functions.load_attrs_hdf5(ddir, file)\n",
    "\n",
    "ad3_fft = ARPES_DATA[files[0]]"
   ]
  },
  {
   "cell_type": "code",
   "execution_count": null,
   "id": "78ff9836-d097-4fe3-b5d3-4ce2657e0ae3",
   "metadata": {
    "tags": []
   },
   "outputs": [],
   "source": [
    "# Load FFT, k-corrected Dataset\n",
    "\n",
    "ddir = r\"E:\\atully\\arpes_data\\2023_February\\6eV\\TR\"\n",
    "files = [\n",
    "    \"TR4_avg_g_kw_filteredFFT_0.00int.h5\"\n",
    "]  # 2.6 eV center energy; -1 to 1 ps, same number of steps as first 2 ps of TR3\n",
    "\n",
    "ARPES_DATA: Dict[str, tr_functions.ArpesData] = {}\n",
    "ARPES_ATTRS: Dict[str, tr_functions.ArpesAttrs] = {}\n",
    "for file in tqdm(files):\n",
    "    data, theta, phi_or_time, energy = loading_functions.load_hdf5(ddir, file)\n",
    "    ARPES_DATA[file] = tr_functions.ArpesData(\n",
    "        data=data, theta=theta, phi_or_time=phi_or_time, energy=energy\n",
    "    )\n",
    "    ARPES_ATTRS[file] = tr_functions.load_attrs_hdf5(ddir, file)\n",
    "\n",
    "ad4_fft = ARPES_DATA[files[0]]"
   ]
  },
  {
   "cell_type": "markdown",
   "id": "b57c7f99-467a-43aa-b6bf-43b872c37099",
   "metadata": {},
   "source": [
    "# General Parameters"
   ]
  },
  {
   "cell_type": "code",
   "execution_count": null,
   "id": "fd4f0caf-8fd2-49a1-96c4-c1509b7bf6fb",
   "metadata": {
    "tags": []
   },
   "outputs": [],
   "source": [
    "yaxis_title = \"E - E<sub>HOMO</sub> [eV]\"\n",
    "xaxis_title = f\"k<sub>x</sub> [{angstrom}<sup>-1</sup>]\""
   ]
  },
  {
   "cell_type": "code",
   "execution_count": null,
   "id": "6f6b51b0-933d-44a6-80a6-3e44822e0359",
   "metadata": {
    "tags": []
   },
   "outputs": [],
   "source": [
    "## Zero Delay ##\n",
    "\n",
    "time_zero = 37.958  # from BiSe\n",
    "\n",
    "## HOMO is at 2.05 eV below EF, based on fits from this data averaged with fits from tr-ARPES results ##\n",
    "\n",
    "EF_400 = 1.91  # in kinetic energy, slit 400\n",
    "EF_700 = 1.94  # in kinetic energy, slit 700\n",
    "\n",
    "homo = -2.05\n",
    "\n",
    "homo_400 = homo + EF_400\n",
    "homo_700 = homo + EF_700"
   ]
  },
  {
   "cell_type": "code",
   "execution_count": null,
   "id": "e4d0a12a-7708-4b64-aaa6-69cc1fb17a82",
   "metadata": {
    "tags": []
   },
   "outputs": [],
   "source": [
    "## Set up general parameters ##\n",
    "\n",
    "integration = 0.5\n",
    "\n",
    "# slice_center = -1  # -1.25 to -0.75 ps\n",
    "# slice_center = -0.75  # -1 to -0.5 ps\n",
    "# slice_center = -0.5  # -0.75 to -0.25 ps\n",
    "# slice_center = -0.25  # -0.5 to 0 ps\n",
    "# slice_center = 0  # -0.25 to 0.25 ps\n",
    "# slice_center = 0.25  # 0 to 0.5 ps\n",
    "# slice_center = 0.5  # 0.25 to 0.75 ps\n",
    "# slice_center = 0.75  # 0.5 to 1 ps\n",
    "# slice_center = 1  # 0.75 to 1.25 ps\n",
    "# slice_center = 1.25  # 1 to 1.5 ps\n",
    "# slice_center = 1.5  # 1.25 to 1.75 ps\n",
    "# slice_center = 1.75  # 1.5 to 2 ps\n",
    "slice_center = 2  # 1.75 to 2.25 ps\n",
    "\n",
    "\n",
    "# ## This integrates from zero delay to 1 ps\n",
    "# slice_center = 0.5\n",
    "# integration = 1\n",
    "\n",
    "# ## This integrates from -0.5 to 0.5 ps\n",
    "# slice_center = 0\n",
    "# integration = 1\n",
    "\n",
    "\n",
    "slice_val = time_zero + tr_functions.ps_to_mm(slice_center, time_zero)\n",
    "int_range = tr_functions.ps_to_mm(integration)  # TODO: make this able to be a tuple...\n",
    "\n",
    "\n",
    "## Slicing in time to look for angular dispersion\n",
    "slice_dim = \"z\"\n",
    "\n",
    "# xlim = (-12, 12)  # theta\n",
    "xlim = (-0.15, 0.15)  # k-corrected\n",
    "ylim = None\n",
    "x_bin = 2\n",
    "y_bin = 2"
   ]
  },
  {
   "cell_type": "code",
   "execution_count": null,
   "id": "ecdb9189-f7ff-449e-b09a-33c587681dfa",
   "metadata": {
    "tags": []
   },
   "outputs": [],
   "source": [
    "all_vals = []\n",
    "for ad in [ad3_fft, ad4_fft]:\n",
    "    # for ad in [ad3_fft]:\n",
    "    all_vals.append(\n",
    "        tr_functions.slice_datacube(\n",
    "            ad_dataclass=ad,\n",
    "            slice_dim=slice_dim,\n",
    "            slice_val=slice_val,\n",
    "            int_range=int_range,\n",
    "            xlim=xlim,\n",
    "            ylim=(\n",
    "                ad.energy[57],\n",
    "                ad.energy[1007],\n",
    "            ),  # get rid of zero padding on datasets\n",
    "            x_bin=x_bin,\n",
    "            y_bin=y_bin,\n",
    "            norm_data=False,\n",
    "            plot_data=False,\n",
    "        )\n",
    "    )\n",
    "x3_fft, y3_fft, d3_fft = all_vals[0]\n",
    "x4_fft, y4_fft, d4_fft = all_vals[1]"
   ]
  },
  {
   "cell_type": "code",
   "execution_count": null,
   "id": "2853e590-d28e-4b4e-993c-1516c8817a77",
   "metadata": {
    "tags": []
   },
   "outputs": [],
   "source": [
    "## Adjust energy axis to be relative to HOMO ##\n",
    "\n",
    "homo_zero = False\n",
    "homo_zero = True\n",
    "\n",
    "if homo_zero:\n",
    "    y4_fft = (\n",
    "        y4_fft - homo_400\n",
    "    )  # homo is negative, so energy scale will increase, because we're referencing a negative number rather than zero\n",
    "    y3_fft = y3_fft - homo_700"
   ]
  },
  {
   "cell_type": "code",
   "execution_count": null,
   "id": "50c699c7-1876-452e-b088-a36c0ab76f70",
   "metadata": {
    "tags": []
   },
   "outputs": [],
   "source": [
    "## Optional Limit Dataset ##\n",
    "\n",
    "xlim = xlim\n",
    "# ylim = (2.05, np.max(y3_fft))  # theta\n",
    "ylim = (2.05, 2.55)  # k-corrected, TR3\n",
    "\n",
    "## TR3 ##\n",
    "x3fft, y3fft, d3fft = analysis_functions.limit_dataset(\n",
    "    x3_fft, y3_fft, d3_fft, xlim=xlim, ylim=ylim\n",
    ")\n",
    "\n",
    "d3fft = analysis_functions.norm_data(d3fft)\n",
    "\n",
    "## TR4 ##\n",
    "ylim = (2.45, np.max(y4_fft))  # k-corrected, TR4\n",
    "\n",
    "x4fft, y4fft, d4fft = analysis_functions.limit_dataset(\n",
    "    x4_fft, y4_fft, d4_fft, xlim=xlim, ylim=ylim\n",
    ")\n",
    "\n",
    "d4fft = analysis_functions.norm_data(d4fft)\n",
    "\n",
    "## Enhance Contrast on CT2\n",
    "# d4fft[np.where(d4fft > 0.3)] = 0.3  # limit dataset to cmax=0.5 for merging purposes\n",
    "# d4fft = analysis_functions.norm_data(d4fft)"
   ]
  },
  {
   "cell_type": "code",
   "execution_count": null,
   "id": "a0f43e1f-90da-492b-bfd6-474618e19921",
   "metadata": {
    "tags": []
   },
   "outputs": [],
   "source": [
    "## Plot data ##\n",
    "\n",
    "fig = tr_functions.thesis_fig(\n",
    "    title=f\"CT<sub>2</sub> Angular Dispersion\",\n",
    "    xaxis_title=xaxis_title,\n",
    "    yaxis_title=yaxis_title,\n",
    "    equiv_axes=False,\n",
    "    height=600,\n",
    "    width=600,\n",
    ")\n",
    "\n",
    "## TR 4\n",
    "fig.add_trace(\n",
    "    go.Heatmap(\n",
    "        x=x4_fft,\n",
    "        y=y4_fft,\n",
    "        z=d4fft,\n",
    "        coloraxis=\"coloraxis\",\n",
    "    )\n",
    ")\n",
    "\n",
    "# fig.update_coloraxes(cmin=0, cmax=0.5)\n",
    "\n",
    "fig.show()\n",
    "\n",
    "\n",
    "fig = tr_functions.thesis_fig(\n",
    "    title=f\"CT<sub>1</sub> Angular Dispersion\",\n",
    "    xaxis_title=xaxis_title,\n",
    "    yaxis_title=yaxis_title,\n",
    "    equiv_axes=False,\n",
    "    height=600,\n",
    "    width=600,\n",
    ")\n",
    "\n",
    "\n",
    "## TR 3\n",
    "fig.add_trace(go.Heatmap(x=x3fft, y=y3fft, z=d3fft, coloraxis=\"coloraxis\"))\n",
    "\n",
    "# fig.update_coloraxes(cmin=0, cmax=0.9)  # when dataset is limited\n",
    "\n",
    "fig.show()"
   ]
  },
  {
   "cell_type": "code",
   "execution_count": null,
   "id": "5f788ca9-bb72-4e0d-823e-bf29976a23c4",
   "metadata": {
    "tags": []
   },
   "outputs": [],
   "source": [
    "d3fft.shape, d4fft.shape"
   ]
  },
  {
   "cell_type": "code",
   "execution_count": null,
   "id": "d327c6f0-0c79-4819-bbe9-5917fbd7f9a7",
   "metadata": {
    "tags": []
   },
   "outputs": [],
   "source": [
    "## Linearly interpolate x11 d4fft to match resolution of TR3 and TR4 d3fft ##\n",
    "\n",
    "x, y, d = x4fft, y4fft, d4fft\n",
    "\n",
    "new_d = tr_functions.interpolate_dataset(x, y, d, xref=x3fft)\n",
    "\n",
    "# fig = tr_functions.default_fig()\n",
    "# fig.add_trace(go.Heatmap(x=x3fft, y=y, z=new_d))\n",
    "# fig.show()\n",
    "\n",
    "print(new_d.shape)"
   ]
  },
  {
   "cell_type": "code",
   "execution_count": null,
   "id": "33313b00-3553-4c02-9c1e-fff02b3b5cf7",
   "metadata": {
    "tags": []
   },
   "outputs": [],
   "source": [
    "## Stitch Data ##\n",
    "\n",
    "## TR4 & TR3\n",
    "x_s1, y_s1, data_s1 = tr_functions.stitch_2_datasets(\n",
    "    d3fft, x3fft, y3fft, new_d, x3fft, y4fft, stitch_dim=\"y\"\n",
    ")"
   ]
  },
  {
   "cell_type": "code",
   "execution_count": null,
   "id": "7409028a-d1c6-455a-a4cd-9a9e1ee47cdf",
   "metadata": {},
   "outputs": [],
   "source": [
    "fig = tr_functions.thesis_fig(\n",
    "    title=f\"Angular Dispersion at {slice_center} ps\",\n",
    "    xaxis_title=xaxis_title,\n",
    "    yaxis_title=yaxis_title,\n",
    "    equiv_axes=False,\n",
    "    height=600,\n",
    "    width=600,\n",
    ")\n",
    "\n",
    "## TR 4\n",
    "fig.add_trace(\n",
    "    go.Heatmap(\n",
    "        x=x_s1,\n",
    "        y=y_s1,\n",
    "        z=analysis_functions.norm_data(data_s1),\n",
    "        coloraxis=\"coloraxis\",\n",
    "    )\n",
    ")\n",
    "\n",
    "fig.update_coloraxes(cmin=0, cmax=None)\n",
    "\n",
    "fig.show()"
   ]
  },
  {
   "cell_type": "code",
   "execution_count": null,
   "id": "20b45693-84a3-43a0-b1a8-568edd0bbffb",
   "metadata": {
    "tags": []
   },
   "outputs": [],
   "source": [
    "## Get and Plot 1D Data ##\n",
    "\n",
    "fig = tr_functions.thesis_fig(\n",
    "    title=f\"EDC at {slice_center} ps\",\n",
    "    yaxis_title=yaxis_title,\n",
    "    xaxis_title=\"Intensity [arb. u]\",\n",
    "    equiv_axes=False,\n",
    "    gridlines=False,\n",
    "    height=600,\n",
    "    width=300,\n",
    "    dtick_y=0.2,\n",
    "    dtick_x=0.2,\n",
    ")\n",
    "\n",
    "y_1d, col = tr_functions.get_1d_x_slice(\n",
    "    x=x_s1, y=y_s1, data=analysis_functions.norm_data(data_s1), ylims=None, x_range=None\n",
    ")\n",
    "\n",
    "# Plot Data\n",
    "fig.add_trace(go.Scatter(x=col, y=y_1d, name=\"data\", line=dict(color=colors[0])))"
   ]
  },
  {
   "cell_type": "markdown",
   "id": "10982422-b443-4c83-b315-3e2666f33ddc",
   "metadata": {},
   "source": [
    "# Denoised Data"
   ]
  },
  {
   "cell_type": "code",
   "execution_count": null,
   "id": "3f0e8eb6-6a77-42e7-960a-9cd0b6f60d0d",
   "metadata": {
    "tags": []
   },
   "outputs": [],
   "source": [
    "x_dn, y_dn, d_dn = x_s1, y_s1, analysis_functions.norm_data(data_s1)\n",
    "\n",
    "# Save to .itx (igor) file\n",
    "cnn.save_to_igor_itx(\n",
    "    \"test.itx\", [x_dn], [d_dn], [\"trarpes\"], [y_dn]\n",
    ")  # take every other y value to make dataset smaller\n",
    "cnn.fix_itx_format(\"test.itx\")  # fix itx formatting for denoising website"
   ]
  },
  {
   "cell_type": "code",
   "execution_count": null,
   "id": "3f70236e-6983-407f-bc43-7d5e64c3831a",
   "metadata": {
    "tags": []
   },
   "outputs": [],
   "source": [
    "fp_dn = r\"C:\\Users\\atully\\OneDrive\\Physics.UBC\\PhD\\exciton movie\\CNN\"\n",
    "fn_dn = f\"{slice_center}ps_movie_dn.itx\"\n",
    "# fn_dn = f\"{slice_center}ps_contrast_movie_dn.itx\"\n",
    "\n",
    "title = f\"Angular Dispersion {slice_center} ps\"\n",
    "yaxis_title = \"E - E<sub>HOMO</sub> [eV]\"\n",
    "xaxis_title = xaxis_title\n",
    "\n",
    "x, y, data_dn = loading_functions.load_denoised_data(fp_dn, fn_dn)"
   ]
  },
  {
   "cell_type": "code",
   "execution_count": null,
   "id": "167f6839-483d-4a1b-a352-81e6107de42f",
   "metadata": {
    "tags": []
   },
   "outputs": [],
   "source": [
    "fig = tr_functions.thesis_fig(\n",
    "    title=title,\n",
    "    xaxis_title=xaxis_title,\n",
    "    yaxis_title=yaxis_title,\n",
    "    equiv_axes=False,\n",
    "    height=600,\n",
    "    width=600,\n",
    ")\n",
    "\n",
    "fig.add_trace(\n",
    "    go.Heatmap(x=x, y=y, z=analysis_functions.norm_data(data_dn), coloraxis=\"coloraxis\")\n",
    ")\n",
    "\n",
    "\n",
    "# fig.update_coloraxes(colorscale=\"Plasma\", reversescale=False, cmin=0, cmax=1)\n",
    "\n",
    "fig.show()"
   ]
  },
  {
   "cell_type": "code",
   "execution_count": null,
   "id": "8a719671-7698-4695-a52e-9d9ff1120310",
   "metadata": {},
   "outputs": [],
   "source": []
  }
 ],
 "metadata": {
  "kernelspec": {
   "display_name": "Python 3 (ipykernel)",
   "language": "python",
   "name": "python3"
  },
  "language_info": {
   "codemirror_mode": {
    "name": "ipython",
    "version": 3
   },
   "file_extension": ".py",
   "mimetype": "text/x-python",
   "name": "python",
   "nbconvert_exporter": "python",
   "pygments_lexer": "ipython3",
   "version": "3.8.12"
  }
 },
 "nbformat": 4,
 "nbformat_minor": 5
}
