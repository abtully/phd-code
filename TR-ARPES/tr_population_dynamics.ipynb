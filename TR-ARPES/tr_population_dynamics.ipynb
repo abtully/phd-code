{
 "cells": [
  {
   "cell_type": "markdown",
   "id": "1ae5304f-f9bb-485a-ac96-3e176dddfac0",
   "metadata": {
    "tags": []
   },
   "source": [
    "# Imports"
   ]
  },
  {
   "cell_type": "code",
   "execution_count": null,
   "id": "b2afd8fc-ac96-40c0-a606-b145dad8d1b9",
   "metadata": {
    "tags": []
   },
   "outputs": [],
   "source": [
    "%load_ext lab_black\n",
    "\n",
    "import h5py\n",
    "import os\n",
    "\n",
    "from dataclasses import dataclass\n",
    "from tqdm.auto import tqdm\n",
    "from scipy.signal import savgol_filter\n",
    "from scipy.interpolate import interp2d\n",
    "from functools import lru_cache\n",
    "import lmfit as lm\n",
    "\n",
    "from typing import Dict, List, Optional, Tuple\n",
    "import numpy as np\n",
    "import plotly.graph_objects as go\n",
    "import plotly.colors as pc\n",
    "import matplotlib.pyplot as plt\n",
    "\n",
    "\n",
    "import sys\n",
    "\n",
    "sys.path.append(r\"C:\\Users\\atully\\Code\\GitHub\\ARPES Code\\arpes-code-python\")\n",
    "from arpes_functions import (\n",
    "    fitting_functions,\n",
    "    analysis_functions,\n",
    "    plotting_functions,\n",
    "    HDF5_loader,\n",
    "    misc_functions,\n",
    "    filter_functions,\n",
    "    tr_functions,\n",
    "    loading_functions,\n",
    "    cnn,\n",
    ")\n",
    "\n",
    "colors = pc.qualitative.D3\n",
    "colors_seq = pc.sequential.dense\n",
    "angstrom = \"\\u212B\"\n",
    "Theta = \"\\u0398\""
   ]
  },
  {
   "cell_type": "markdown",
   "id": "270640c8-b8c3-4316-9bea-01b631ea889d",
   "metadata": {
    "tags": []
   },
   "source": [
    "# Load Data"
   ]
  },
  {
   "cell_type": "code",
   "execution_count": null,
   "id": "89f54f62-71cf-46e9-9686-133f3f91dc7a",
   "metadata": {
    "tags": []
   },
   "outputs": [],
   "source": [
    "ddir = r\"E:\\atully\\arpes_data\\2023_February\\6eV\\TR\"\n",
    "files = [\"TR11_Ali_avg.h5\"]  # 1.7 eV center energy; -1 to 100 ps\n",
    "\n",
    "ARPES_DATA: Dict[str, tr_functions.ArpesData] = {}\n",
    "ARPES_ATTRS: Dict[str, tr_functions.ArpesAttrs] = {}\n",
    "for file in tqdm(files):\n",
    "    data, theta, phi_or_time, energy = loading_functions.load_hdf5(ddir, file)\n",
    "    ARPES_DATA[file] = tr_functions.ArpesData(\n",
    "        data=data, theta=theta, phi_or_time=phi_or_time, energy=energy\n",
    "    )\n",
    "    ARPES_ATTRS[file] = tr_functions.load_attrs_hdf5(ddir, file)\n",
    "\n",
    "ad_11 = ARPES_DATA[files[0]]"
   ]
  },
  {
   "cell_type": "code",
   "execution_count": null,
   "id": "edfb8b1a-2ffc-426f-84ab-58337e94b9cf",
   "metadata": {
    "tags": []
   },
   "outputs": [],
   "source": [
    "ddir = r\"E:\\atully\\arpes_data\\2023_February\\6eV\\TR\"\n",
    "files = [\"TR3_Ali_avg.h5\"]  # 2.15 eV center energy; -1 to 2 ps\n",
    "\n",
    "ARPES_DATA: Dict[str, tr_functions.ArpesData] = {}\n",
    "ARPES_ATTRS: Dict[str, tr_functions.ArpesAttrs] = {}\n",
    "for file in tqdm(files):\n",
    "    data, theta, phi_or_time, energy = loading_functions.load_hdf5(ddir, file)\n",
    "    ARPES_DATA[file] = tr_functions.ArpesData(\n",
    "        data=data, theta=theta, phi_or_time=phi_or_time, energy=energy\n",
    "    )\n",
    "    ARPES_ATTRS[file] = tr_functions.load_attrs_hdf5(ddir, file)\n",
    "\n",
    "ad_3 = ARPES_DATA[files[0]]"
   ]
  },
  {
   "cell_type": "code",
   "execution_count": null,
   "id": "d9a4ee6c-2a53-4cdc-9563-af840f89617b",
   "metadata": {
    "tags": []
   },
   "outputs": [],
   "source": [
    "ddir = r\"E:\\atully\\arpes_data\\2023_February\\6eV\\TR\"\n",
    "files = [\n",
    "    \"TR4_Ali_avg.h5\"\n",
    "]  # 2.6 eV center energy; -1 to 1 ps, same number of steps as first 2 ps of TR3\n",
    "\n",
    "ARPES_DATA: Dict[str, tr_functions.ArpesData] = {}\n",
    "ARPES_ATTRS: Dict[str, tr_functions.ArpesAttrs] = {}\n",
    "for file in tqdm(files):\n",
    "    data, theta, phi_or_time, energy = loading_functions.load_hdf5(ddir, file)\n",
    "    ARPES_DATA[file] = tr_functions.ArpesData(\n",
    "        data=data, theta=theta, phi_or_time=phi_or_time, energy=energy\n",
    "    )\n",
    "    ARPES_ATTRS[file] = tr_functions.load_attrs_hdf5(ddir, file)\n",
    "\n",
    "ad_4 = ARPES_DATA[files[0]]"
   ]
  },
  {
   "cell_type": "code",
   "execution_count": null,
   "id": "47191f1c-d49d-4c12-b538-cbf2b5cbc2c1",
   "metadata": {
    "tags": []
   },
   "outputs": [],
   "source": [
    "ad = ad_4\n",
    "\n",
    "for k in [\"energy\", \"theta\", \"phi_or_time\"]:\n",
    "    print(f\"{k}.shape = {getattr(ad, k).shape}\")\n",
    "print(f\"Data.shape = {ad.data.shape}\")"
   ]
  },
  {
   "cell_type": "code",
   "execution_count": null,
   "id": "92882b8b-fcd8-461a-8dcb-81b3e5b43845",
   "metadata": {
    "tags": []
   },
   "outputs": [],
   "source": [
    "print(f\"Delay range (mm): {np.min(ad.phi_or_time), np.max(ad.phi_or_time)}\")\n",
    "print(\n",
    "    f\"Energy range (eV): {np.round(np.min(ad.energy), 2), np.round(np.max(ad.energy), 2)}\"\n",
    ")\n",
    "print(f\"Theta range: {np.round(np.min(ad.theta), 1), np.round(np.max(ad.theta), 1)}\")"
   ]
  },
  {
   "cell_type": "markdown",
   "id": "642ec96c-ac38-4059-b505-27de9e2c4e46",
   "metadata": {
    "tags": []
   },
   "source": [
    "# Build Composite Dataset"
   ]
  },
  {
   "cell_type": "markdown",
   "id": "4aab6a93-0a9c-477f-aba2-a474d164b135",
   "metadata": {
    "tags": []
   },
   "source": [
    "### Plan\n",
    "ad_11 --> 1.7 eV center energy; -1 to 100 ps; 80 steps in delay (mm), but -1 to 1 ps in 21 steps (not great time resolution...)\n",
    "\n",
    "ad_3 --> 2.15 eV center energy; -1 to 2 ps; 62 steps in delay (mm)\n",
    "\n",
    "ad_4 --> 2.6 eV center energy; -1 to 1 ps; 42 steps in delay (mm)\n",
    "\n",
    "1. cut down to same timescale (-1 to 1 ps --> 37.81 to 38.11 mm)\n",
    "2. ensure appropriate x axis"
   ]
  },
  {
   "cell_type": "code",
   "execution_count": null,
   "id": "7b368f55-e220-4ba7-8418-b96cf0566b09",
   "metadata": {
    "tags": []
   },
   "outputs": [],
   "source": [
    "## Zero Delay ##\n",
    "\n",
    "time_zero = 37.958  # from BiSe\n",
    "\n",
    "## HOMO is at 2.05 eV below EF, based on fits from this data averaged with fits from tr-ARPES results ##\n",
    "\n",
    "EF_400 = 1.91  # in kinetic energy, slit 400\n",
    "EF_700 = 1.94  # in kinetic energy, slit 700\n",
    "\n",
    "homo = -2.05\n",
    "\n",
    "homo_400 = homo + EF_400\n",
    "homo_700 = homo + EF_700"
   ]
  },
  {
   "cell_type": "code",
   "execution_count": null,
   "id": "406d0b19-a53f-4343-a909-2865d93e25b9",
   "metadata": {
    "tags": []
   },
   "outputs": [],
   "source": [
    "## Integrate over desired angular range ##\n",
    "\n",
    "slice_dim = \"x\"\n",
    "slice_val = 0\n",
    "int_range = 20  # if this value is more that the integration range, my get_2D_slice function will just integrate over the max range.\n",
    "\n",
    "xlim = None\n",
    "ylim = None\n",
    "x_bin = 1\n",
    "y_bin = 1"
   ]
  },
  {
   "cell_type": "code",
   "execution_count": null,
   "id": "b868f540-a3dd-48c7-8660-469c706acb4c",
   "metadata": {
    "tags": []
   },
   "outputs": [],
   "source": [
    "all_vals = []\n",
    "for ad in [ad_11, ad_3, ad_4]:\n",
    "    all_vals.append(\n",
    "        tr_functions.slice_datacube(\n",
    "            ad_dataclass=ad,\n",
    "            slice_dim=slice_dim,\n",
    "            slice_val=slice_val,\n",
    "            int_range=int_range,\n",
    "            xlim=xlim,\n",
    "            ylim=(\n",
    "                ad.energy[57],\n",
    "                ad.energy[1007],\n",
    "            ),  # get rid of zero padding on datasets\n",
    "            x_bin=x_bin,\n",
    "            y_bin=y_bin,\n",
    "            norm_data=False,\n",
    "            plot_data=False,\n",
    "        )\n",
    "    )\n",
    "x_11, y_11, d_11 = all_vals[0]\n",
    "x_3, y_3, d_3 = all_vals[1]\n",
    "x_4, y_4, d_4 = all_vals[2]"
   ]
  },
  {
   "cell_type": "code",
   "execution_count": null,
   "id": "7d96d452-9a47-4a49-9c08-7ba263df5afe",
   "metadata": {
    "tags": []
   },
   "outputs": [],
   "source": [
    "## Plot Data: MPL ##\n",
    "\n",
    "fig, ax = plt.subplots(1)\n",
    "\n",
    "ax.pcolormesh(x_11, y_11, d_11, shading=\"auto\", cmap=\"plasma\", vmin=0, vmax=2.5)\n",
    "ax.pcolormesh(x_3, y_3, d_3, shading=\"auto\", cmap=\"plasma\", vmin=0, vmax=0.2)\n",
    "ax.pcolormesh(x_4, y_4, d_4, shading=\"auto\", cmap=\"plasma\", vmin=0, vmax=0.1)\n",
    "\n",
    "ax.set_xlim(xmin=37.81, xmax=38.11)\n",
    "\n",
    "# plt.save_fig(r'C:\\Users\\atully\\OneDrive\\Physics.UBC\\TR-ARPES\\Data\\TR3&TR4&T11_plasma_mpl.png')"
   ]
  },
  {
   "cell_type": "code",
   "execution_count": null,
   "id": "cfb512b0-2055-4e9f-86dc-35bcafb70e67",
   "metadata": {
    "tags": []
   },
   "outputs": [],
   "source": [
    "## Normalize plots relative to backgrounds ##\n",
    "\n",
    "# TR4\n",
    "xlim = (37.81, 37.84)\n",
    "ylim = (2.3, 2.9)\n",
    "\n",
    "tr4_bg = tr_functions.get_avg_background(x_4, y_4, d_4, xlim, ylim)\n",
    "# tr4_bg = get_avg_background(x_4, y_4, d4_norm, xlim, ylim)  # check\n",
    "\n",
    "# TR3\n",
    "xlim = (37.81, 37.84)\n",
    "ylim = (2.15, 2.48)\n",
    "\n",
    "tr3_bg = tr_functions.get_avg_background(x_3, y_3, d_3, xlim, ylim)\n",
    "\n",
    "# TR11\n",
    "xlim = (37.81, 37.85)\n",
    "ylim = (1.93, 2.04)\n",
    "\n",
    "tr11_bg = tr_functions.get_avg_background(x_11, y_11, d_11, xlim, ylim)\n",
    "# tr11_bg = get_avg_background(x_11, y_11, d11_norm, xlim, ylim)  # check\n",
    "\n",
    "tr4_bg, tr3_bg, tr11_bg"
   ]
  },
  {
   "cell_type": "code",
   "execution_count": null,
   "id": "723bc7eb-50d2-47be-9a78-2895b57fee2e",
   "metadata": {
    "tags": []
   },
   "outputs": [],
   "source": [
    "norm_tr4_to_tr3 = tr3_bg / tr4_bg\n",
    "norm_tr11_to_tr3 = tr3_bg / tr11_bg\n",
    "\n",
    "d4_norm = d_4 * norm_tr4_to_tr3\n",
    "d11_norm = d_11 * norm_tr11_to_tr3"
   ]
  },
  {
   "cell_type": "code",
   "execution_count": null,
   "id": "602cd99f-6159-48fb-a260-e9028b426378",
   "metadata": {
    "tags": []
   },
   "outputs": [],
   "source": [
    "## give data equivalent x axes ##\n",
    "\n",
    "xlim = (37.81, 38.11)\n",
    "\n",
    "x4, y4, d4 = analysis_functions.limit_dataset(x_4, y_4, d4_norm, xlim=xlim, ylim=None)\n",
    "x3, y3, d3 = analysis_functions.limit_dataset(x_3, y_3, d_3, xlim=xlim, ylim=None)\n",
    "x11, y11, d11 = analysis_functions.limit_dataset(\n",
    "    x_11, y_11, d11_norm, xlim=xlim, ylim=None\n",
    ")"
   ]
  },
  {
   "cell_type": "code",
   "execution_count": null,
   "id": "c5548a42-6a9b-437d-852c-3a022fc2f85e",
   "metadata": {
    "tags": []
   },
   "outputs": [],
   "source": [
    "## Adjust energy axis to be relative to HOMO ##\n",
    "\n",
    "homo_zero = False\n",
    "homo_zero = True\n",
    "\n",
    "if homo_zero:\n",
    "    y4 = (\n",
    "        y4 - homo_400\n",
    "    )  # homo is negative, so energy scale will increase, because we're referencing a negative number rather than zero\n",
    "    y3 = y3 - homo_700\n",
    "    y11 = y11 - homo_400"
   ]
  },
  {
   "cell_type": "code",
   "execution_count": null,
   "id": "8fab91c2-bce3-4a69-9a07-31237ba4805c",
   "metadata": {
    "tags": []
   },
   "outputs": [],
   "source": [
    "## Linearly interpolate x11 to match resolution of TR3 and TR4 ##\n",
    "\n",
    "x, y, d = x11, y11, d11\n",
    "\n",
    "new_d = tr_functions.interpolate_dataset(x, y, d, xref=x3)\n",
    "\n",
    "fig = tr_functions.default_fig()\n",
    "fig.add_trace(go.Heatmap(x=x3, y=y, z=new_d))\n",
    "fig.show()\n",
    "\n",
    "print(new_d.shape)"
   ]
  },
  {
   "cell_type": "code",
   "execution_count": null,
   "id": "e472ae84-1bf5-4f68-af04-f54d2724dc48",
   "metadata": {
    "tags": []
   },
   "outputs": [],
   "source": [
    "## Stitch Data ##\n",
    "\n",
    "## TR4 & TR3\n",
    "x_s1, y_s1, data_s1 = tr_functions.stitch_2_datasets(\n",
    "    d4, x4, y4, d3, x3, y3, stitch_dim=\"y\"\n",
    ")\n",
    "\n",
    "## TR4 & TR3 & TR11\n",
    "x_s2, y_s2, data_s2 = tr_functions.stitch_2_datasets(\n",
    "    new_d,\n",
    "    x3,\n",
    "    y11,\n",
    "    data_s1,\n",
    "    x_s1,\n",
    "    y_s1,\n",
    "    stitch_dim=\"y\",\n",
    ")\n",
    "\n",
    "## TR11 & TR3\n",
    "x_s3, y_s3, data_s3 = tr_functions.stitch_2_datasets(\n",
    "    new_d, x3, y11, d3, x3, y3, stitch_dim=\"y\"\n",
    ")"
   ]
  },
  {
   "cell_type": "code",
   "execution_count": null,
   "id": "3e7da7f5-3090-4e46-b397-a9445b23b5ae",
   "metadata": {
    "tags": []
   },
   "outputs": [],
   "source": [
    "# ## Adjust energy axis to be relative to HOMO ##\n",
    "\n",
    "# homo_zero = False\n",
    "# homo_zero = True\n",
    "\n",
    "# if homo_zero:\n",
    "#     y_s1 = y_s1 - homo\n",
    "#     y_s2 = y_s2 - homo\n",
    "#     y_s3 = y_s3 - homo"
   ]
  },
  {
   "cell_type": "code",
   "execution_count": null,
   "id": "0b871080-1b80-400c-95b2-b13393640694",
   "metadata": {
    "tags": []
   },
   "outputs": [],
   "source": [
    "## Plot Stitched Data ##"
   ]
  },
  {
   "cell_type": "code",
   "execution_count": null,
   "id": "a4b8c337-b47b-4277-adf1-b666b87b9351",
   "metadata": {
    "tags": []
   },
   "outputs": [],
   "source": [
    "yaxis_title = \"E - E<sub>HOMO</sub> (eV)\"\n",
    "xaxis_title = \"Delay (ps)\""
   ]
  },
  {
   "cell_type": "code",
   "execution_count": null,
   "id": "ed5b0946-b775-4cbe-bedb-500305dba805",
   "metadata": {
    "tags": []
   },
   "outputs": [],
   "source": [
    "## Plot TR3 & TR4 ##\n",
    "x_plot, y_plot, z_plot = x_s1, y_s1, data_s1\n",
    "\n",
    "## toggle_time ?\n",
    "toggle_time = \"picoseconds\"\n",
    "# toggle_time = \"mm\"\n",
    "\n",
    "## Logplot?\n",
    "logplot = False\n",
    "# logplot = True\n",
    "\n",
    "if logplot:\n",
    "    z_plot = np.log(z_plot)\n",
    "    title = f\"TR3 & TR4 (logplot)\"\n",
    "else:\n",
    "    title = f\"TR3 & TR4\"\n",
    "\n",
    "## Convert mm to ps\n",
    "if toggle_time == \"picoseconds\":\n",
    "    x_plot = tr_functions.mm_to_ps(x_plot, time_zero)\n",
    "\n",
    "## Plot Data\n",
    "fig = tr_functions.thesis_fig(\n",
    "    title=title,\n",
    "    xaxis_title=xaxis_title,\n",
    "    yaxis_title=yaxis_title,\n",
    "    equiv_axes=False,\n",
    ")\n",
    "fig.add_trace(\n",
    "    go.Heatmap(x=x_plot, y=y_plot, z=z_plot, coloraxis=\"coloraxis\")\n",
    "    # np.log(data)\n",
    ")\n",
    "\n",
    "fig.update_coloraxes(cmin=0, cmax=0.4)\n",
    "# fig.update_coloraxes(colorscale=\"hot\", cmin=None, cmax=0.3, reversescale=True)\n",
    "fig.update_layout(width=800, height=600)\n",
    "fig.show()\n",
    "\n",
    "# fig.write_image(r\"C:\\Users\\atully\\OneDrive\\Physics.UBC\\TR-ARPES\\Data\\TR3&TR4.png\")"
   ]
  },
  {
   "cell_type": "code",
   "execution_count": null,
   "id": "b2277e14-3ac8-43df-b5c8-969301f5d8cb",
   "metadata": {
    "tags": []
   },
   "outputs": [],
   "source": [
    "## Plot TR11 & TR3 & TR4 ##\n",
    "x_plot, y_plot, z_plot = x_s2, y_s2, data_s2\n",
    "\n",
    "## toggle_time ?\n",
    "toggle_time = \"picoseconds\"\n",
    "# toggle_time = \"mm\"\n",
    "\n",
    "## Logplot?\n",
    "logplot = False\n",
    "logplot = True\n",
    "\n",
    "if logplot:\n",
    "    z_plot = np.log10(z_plot)\n",
    "    title = f\"TR11 & TR3 & TR4 (logplot)\"\n",
    "else:\n",
    "    title = f\"TR11 & TR3 & TR4\"\n",
    "\n",
    "## Convert mm to ps\n",
    "if toggle_time == \"picoseconds\":\n",
    "    x_plot = tr_functions.mm_to_ps(x_plot, time_zero)\n",
    "\n",
    "## Plot Data\n",
    "fig = tr_functions.thesis_fig(\n",
    "    title=title,\n",
    "    xaxis_title=xaxis_title,\n",
    "    yaxis_title=yaxis_title,\n",
    "    equiv_axes=False,\n",
    "    dtick_y=0.4,\n",
    ")\n",
    "fig.add_trace(\n",
    "    go.Heatmap(x=x_plot, y=y_plot, z=z_plot, coloraxis=\"coloraxis\")\n",
    "    # np.log(data)\n",
    ")\n",
    "\n",
    "# fig.update_coloraxes(colorscale=\"hot\", cmin=0, cmax=0.3, reversescale=True)\n",
    "colorvals = np.array([0.02, 0.05, 0.1, 0.2, 0.5, 1, 2])\n",
    "fig.update_layout(\n",
    "    coloraxis_colorbar=dict(\n",
    "        title=\"Intensity\",\n",
    "        tickvals=np.log10(colorvals),\n",
    "        ticktext=colorvals,\n",
    "    )\n",
    ")\n",
    "\n",
    "fig.update_coloraxes(\n",
    "    colorbar=dict(\n",
    "        orientation=\"h\",\n",
    "        x=0.5,\n",
    "        y=0.05,\n",
    "        len=0.7,\n",
    "        xanchor=\"center\",\n",
    "        yanchor=\"bottom\",\n",
    "        bgcolor=\"rgba(200, 200, 200, 1)\",\n",
    "        bordercolor=\"white\",\n",
    "        borderwidth=3,\n",
    "    )\n",
    ")\n",
    "\n",
    "fig.update_layout(width=800, height=600)\n",
    "fig.show()\n",
    "\n",
    "# fig.write_image(r\"C:\\Users\\atully\\OneDrive\\Physics.UBC\\TR-ARPES\\Data\\TR11&TR3&TR4.png\")"
   ]
  },
  {
   "cell_type": "code",
   "execution_count": null,
   "id": "fcb915d5-bf68-43d2-9ac6-ba10c8c2e67a",
   "metadata": {
    "tags": []
   },
   "outputs": [],
   "source": [
    "## Plot TR11 & TR3 ##\n",
    "x_plot, y_plot, z_plot = x_s3, y_s3, data_s3\n",
    "\n",
    "## toggle_time ?\n",
    "toggle_time = \"picoseconds\"\n",
    "# toggle_time = \"mm\"\n",
    "\n",
    "## Logplot?\n",
    "logplot = False\n",
    "# logplot = True\n",
    "\n",
    "if logplot:\n",
    "    z_plot = np.log(z_plot)\n",
    "    title = f\"TR11 & TR3 (logplot)\"\n",
    "else:\n",
    "    title = f\"TR11 & TR3\"\n",
    "\n",
    "## Convert mm to ps\n",
    "if toggle_time == \"picoseconds\":\n",
    "    x_plot = tr_functions.mm_to_ps(x_plot, time_zero)\n",
    "\n",
    "## Plot Data\n",
    "fig = tr_functions.thesis_fig(\n",
    "    title=title,\n",
    "    xaxis_title=xaxis_title,\n",
    "    yaxis_title=yaxis_title,\n",
    "    equiv_axes=False,\n",
    ")\n",
    "fig.add_trace(go.Heatmap(x=x_plot, y=y_plot, z=z_plot, coloraxis=\"coloraxis\"))\n",
    "\n",
    "fig.update_coloraxes(cmin=0, cmax=None)\n",
    "fig.update_layout(width=800, height=600)\n",
    "fig.show()\n",
    "\n",
    "# fig.write_image(r\"C:\\Users\\atully\\OneDrive\\Physics.UBC\\TR-ARPES\\Data\\TR11&TR3.png\")"
   ]
  },
  {
   "cell_type": "markdown",
   "id": "c4e99b73-8a06-4dbb-9cc1-d4d3f676b255",
   "metadata": {},
   "source": [
    "# Analysis"
   ]
  },
  {
   "cell_type": "markdown",
   "id": "d5f76531-108d-4899-8699-fa1f95cc7f94",
   "metadata": {
    "tags": []
   },
   "source": [
    "## EDCs"
   ]
  },
  {
   "cell_type": "code",
   "execution_count": null,
   "id": "52c58e76-94b7-4c80-84f4-f9893d38b9d3",
   "metadata": {
    "tags": []
   },
   "outputs": [],
   "source": [
    "## Plot data\n",
    "\n",
    "x_plot, y_plot, z_plot = x_s3, y_s3, data_s3\n",
    "x_plot = tr_functions.mm_to_ps(x_plot, time_zero)\n",
    "\n",
    "title = f\"Average over various energies\"\n",
    "fig = tr_functions.thesis_fig(\n",
    "    title=title,\n",
    "    xaxis_title=\"Delay (ps)\",\n",
    "    yaxis_title=\"Intensity (arb. u)\",\n",
    "    equiv_axes=False,\n",
    "    gridlines=False,\n",
    "    height=600,\n",
    "    width=900,\n",
    ")\n",
    "\n",
    "## Get slice(s)\n",
    "\n",
    "ylims = []\n",
    "ylims = [(2.3, 2.6), (1.9, 2.3), (1.5, 1.9)]\n",
    "cs = [\"orange\", \"red\", \"grey\"]\n",
    "\n",
    "# names = [\"Feb: G\", \"June: G - K\", \"June: M - K\"]\n",
    "\n",
    "for i, (ylim, c) in enumerate(zip(ylims, cs)):\n",
    "    # color = colors[i % len(colors) + 1]\n",
    "\n",
    "    x_1d, row = tr_functions.get_1d_y_slice(\n",
    "        x=x_plot,\n",
    "        y=y_plot,\n",
    "        data=z_plot,\n",
    "        xlims=None,\n",
    "        y_range=ylim,\n",
    "    )\n",
    "\n",
    "    fig.add_trace(\n",
    "        go.Scatter(\n",
    "            x=x_1d,\n",
    "            y=analysis_functions.norm_data(row),\n",
    "            name=f\"{ylim} eV\",\n",
    "            line=dict(color=c),\n",
    "        )\n",
    "    )\n",
    "\n",
    "fig.show()"
   ]
  },
  {
   "cell_type": "markdown",
   "id": "1b645303-ec02-4b2e-a060-ac02df151e00",
   "metadata": {},
   "source": [
    "## Load more data"
   ]
  },
  {
   "cell_type": "code",
   "execution_count": null,
   "id": "50edf634-25c4-49cb-98a4-6fe43b0d3216",
   "metadata": {
    "tags": []
   },
   "outputs": [],
   "source": [
    "files = []\n",
    "\n",
    "## June at G ##\n",
    "ddir = r\"E:\\atully\\arpes_data\\2023_June\\C60\\ARPES\\TR\"\n",
    "files = [\n",
    "    f\"TR9&TR11_Ali_avg.h5\",\n",
    "    \"TR12_Ali_avg_best.h5\",\n",
    "    \"TR0&TR2_Ali_avg.h5\",\n",
    "    \"TR1_Ali_avg.h5\",\n",
    "]\n",
    "# 9&11: -0.5 to 0.5 ps\n",
    "# 12: -1 to 1 ps in steps of 100 fs, then out to 30 ps with variable steps\n",
    "# 0&2: -2 to 2 ps, CT1\n",
    "# 1: -2 to 2 ps, CT2\n",
    "\n",
    "\n",
    "## Feb at G ##\n",
    "# ddir = r\"E:\\atully\\arpes_data\\2023_February\\6eV\\TR\"\n",
    "# files = [\"TR_001_1.h5\"]\n",
    "\n",
    "ARPES_DATA: Dict[str, tr_functions.ArpesData] = {}\n",
    "ARPES_ATTRS: Dict[str, tr_functions.ArpesAttrs] = {}\n",
    "for file in tqdm(files):\n",
    "    data, kx, ky, energy = loading_functions.load_hdf5(ddir, file)\n",
    "    ARPES_DATA[file] = tr_functions.ArpesData(\n",
    "        data=data, theta=kx, phi_or_time=ky, energy=energy\n",
    "    )\n",
    "    ARPES_ATTRS[file] = tr_functions.load_attrs_hdf5(ddir, file)"
   ]
  },
  {
   "cell_type": "code",
   "execution_count": null,
   "id": "16778a3a-2f9b-4787-b001-f29badfbe286",
   "metadata": {
    "tags": []
   },
   "outputs": [],
   "source": [
    "ad_11 = ARPES_DATA[files[0]]\n",
    "ad_12 = ARPES_DATA[files[1]]\n",
    "ad_2 = ARPES_DATA[files[2]]\n",
    "ad_1 = ARPES_DATA[files[3]]\n",
    "\n",
    "# ad_feb_1 = ARPES_DATA[files[0]]"
   ]
  },
  {
   "cell_type": "code",
   "execution_count": null,
   "id": "1a81eccb-f8bd-4ce2-afea-43cf580288a4",
   "metadata": {
    "tags": []
   },
   "outputs": [],
   "source": [
    "## Zero Delay, HOMO, EF ##\n",
    "\n",
    "time_zero_jun = 34.8225  # Bi2Se3\n",
    "\n",
    "time_zero_feb = 37.96  # February\n",
    "\n",
    "EF_400 = 1.91  # in kinetic energy, slit 400\n",
    "EF_700 = 1.94  # in kinetic energy, slit 700\n",
    "\n",
    "homo = -2.05\n",
    "\n",
    "homo_400 = homo + EF_400\n",
    "homo_700 = homo + EF_700"
   ]
  },
  {
   "cell_type": "code",
   "execution_count": null,
   "id": "f3c14445-921b-4b00-9790-dcecb02fae02",
   "metadata": {
    "tags": []
   },
   "outputs": [],
   "source": [
    "## Integrate over desired angular range ##\n",
    "\n",
    "slice_dim = \"x\"\n",
    "slice_val = 0\n",
    "int_range = 20  # if this value is more that the integration range, my get_2D_slice function will just integrate over the max range.\n",
    "\n",
    "xlim = None\n",
    "ylim = None\n",
    "x_bin = 1\n",
    "y_bin = 1"
   ]
  },
  {
   "cell_type": "code",
   "execution_count": null,
   "id": "01cc9ad2-c093-43be-b067-e563ebf4fed0",
   "metadata": {
    "tags": []
   },
   "outputs": [],
   "source": [
    "all_vals = []\n",
    "for ad in [ad_feb_1, ad_12, ad_11, ad_2, ad_1]:\n",
    "    all_vals.append(\n",
    "        tr_functions.slice_datacube(\n",
    "            ad_dataclass=ad,\n",
    "            slice_dim=slice_dim,\n",
    "            slice_val=slice_val,\n",
    "            int_range=int_range,\n",
    "            xlim=xlim,\n",
    "            ylim=(\n",
    "                ad.energy[57],\n",
    "                ad.energy[1007],\n",
    "            ),  # get rid of zero padding on datasets\n",
    "            x_bin=x_bin,\n",
    "            y_bin=y_bin,\n",
    "            norm_data=False,\n",
    "            plot_data=False,\n",
    "        )\n",
    "    )\n",
    "\n",
    "x_1, y_1, d_1 = all_vals[0]\n",
    "x_12, y_12, d_12 = all_vals[1]\n",
    "x_11, y_11, d_11 = all_vals[2]\n",
    "x_2, y_2, d_2 = all_vals[3]\n",
    "x_1_june, y_1_june, d_1_june = all_vals[4]"
   ]
  },
  {
   "cell_type": "code",
   "execution_count": null,
   "id": "9d4938dc-7ce1-43df-84c9-913e6277794c",
   "metadata": {
    "tags": []
   },
   "outputs": [],
   "source": [
    "## Adjust energy axis to be relative to HOMO and convert mm to ps ##\n",
    "\n",
    "homo_zero = False\n",
    "homo_zero = True\n",
    "\n",
    "if homo_zero:\n",
    "    # Feb TR4 and June #\n",
    "    x12, y12, d12 = tr_functions.mm_to_ps(x_12, time_zero_jun), y_12 - homo_400, d_12\n",
    "    x11, y11, d11 = tr_functions.mm_to_ps(x_11, time_zero_jun), y_11 - homo_400, d_11\n",
    "    x2, y2, d2 = tr_functions.mm_to_ps(x_2, time_zero_jun), y_2 - homo_400, d_2\n",
    "    x1j, y1j, d1j = (\n",
    "        tr_functions.mm_to_ps(x_1_june, time_zero_jun),\n",
    "        y_1_june - homo_400,\n",
    "        d_1_june,\n",
    "    )\n",
    "\n",
    "    # Feb TR1 #\n",
    "    x1, y1, d1 = tr_functions.mm_to_ps(x_1, time_zero_feb), y_1 - homo_700, d_1"
   ]
  },
  {
   "cell_type": "code",
   "execution_count": null,
   "id": "f5fca5ed-b7f9-4812-8397-6e19e754763a",
   "metadata": {
    "tags": []
   },
   "outputs": [],
   "source": [
    "# x_plot, y_plot, d_plot = x11, y11, d11\n",
    "# x_plot, y_plot, d_plot = x12, y12, d12\n",
    "# x_plot, y_plot, d_plot = x2, y2, d2\n",
    "# x_plot, y_plot, d_plot = x1j, y1j, d1j\n",
    "\n",
    "x_plot, y_plot, d_plot = x1, y1, d1\n",
    "\n",
    "title = f\"C<sub>60</sub> Pump Effect\"\n",
    "yaxis_title = \"E - E<sub>HOMO</sub> (eV)\"\n",
    "xaxis_title = \"Delay (ps)\"\n",
    "\n",
    "fig = tr_functions.thesis_fig(\n",
    "    title=title,\n",
    "    xaxis_title=xaxis_title,\n",
    "    yaxis_title=yaxis_title,\n",
    "    equiv_axes=False,\n",
    "    height=600,\n",
    "    width=800,\n",
    "    dtick_y=0.1,\n",
    ")\n",
    "\n",
    "fig.add_trace(\n",
    "    go.Heatmap(\n",
    "        x=x_plot,\n",
    "        y=y_plot,\n",
    "        z=analysis_functions.norm_data(d_plot),\n",
    "        coloraxis=\"coloraxis\",\n",
    "    )\n",
    ")\n",
    "\n",
    "# fig.update_coloraxes(colorscale=\"greys\", showscale=False)\n",
    "# fig.update_coloraxes(cmin=0.0, cmax=0.8)\n",
    "\n",
    "fig.show()"
   ]
  },
  {
   "cell_type": "code",
   "execution_count": null,
   "id": "941dc456-3859-4ba5-91fd-5fa89f1036aa",
   "metadata": {
    "tags": []
   },
   "outputs": [],
   "source": [
    "x_plot, y_plot, z_plot = x1, y1, d1\n",
    "\n",
    "title = f\"Average over various energies\"\n",
    "fig = tr_functions.thesis_fig(\n",
    "    title=title,\n",
    "    xaxis_title=\"Delay (ps)\",\n",
    "    yaxis_title=\"Intensity (arb. u)\",\n",
    "    equiv_axes=False,\n",
    "    gridlines=False,\n",
    "    height=600,\n",
    "    width=900,\n",
    ")\n",
    "\n",
    "## Get slice(s)\n",
    "\n",
    "ylims = []\n",
    "ylims = [(2.3, 2.6), (1.9, 2.3), (1.5, 1.9)]\n",
    "cs = [\"orange\", \"red\", \"grey\"]\n",
    "\n",
    "# names = [\"Feb: G\", \"June: G - K\", \"June: M - K\"]\n",
    "\n",
    "for i, (ylim, c) in enumerate(zip(ylims, cs)):\n",
    "    # color = colors[i % len(colors) + 1]\n",
    "\n",
    "    x_1d, row = tr_functions.get_1d_y_slice(\n",
    "        x=x_plot,\n",
    "        y=y_plot,\n",
    "        data=z_plot,\n",
    "        xlims=None,\n",
    "        y_range=ylim,\n",
    "    )\n",
    "\n",
    "    fig.add_trace(\n",
    "        go.Scatter(\n",
    "            x=x_1d,\n",
    "            y=analysis_functions.norm_data(row),\n",
    "            name=f\"{ylim} eV\",\n",
    "            line=dict(color=c),\n",
    "        )\n",
    "    )\n",
    "\n",
    "fig.show()"
   ]
  },
  {
   "cell_type": "markdown",
   "id": "0ca5955d-eec0-4091-98de-9a894742af72",
   "metadata": {},
   "source": [
    "# Full Plot"
   ]
  },
  {
   "cell_type": "code",
   "execution_count": null,
   "id": "d548a3c8-e2bf-4db9-a46c-49ed20f13126",
   "metadata": {
    "tags": []
   },
   "outputs": [],
   "source": [
    "from scipy.signal import savgol_filter"
   ]
  },
  {
   "cell_type": "code",
   "execution_count": null,
   "id": "75c22794-1dcd-4988-9a1f-6ebd045962c2",
   "metadata": {
    "tags": []
   },
   "outputs": [],
   "source": [
    "## Plot data\n",
    "\n",
    "title = f\"Population of excitonic states in C<sub>60</sub>\"\n",
    "fig = tr_functions.thesis_fig(\n",
    "    title=title,\n",
    "    xaxis_title=\"Delay (ps)\",\n",
    "    yaxis_title=\"Intensity (arb. u)\",\n",
    "    equiv_axes=False,\n",
    "    gridlines=False,\n",
    "    height=600,\n",
    "    width=900,\n",
    ")\n",
    "\n",
    "## CT2\n",
    "\n",
    "x_plot, y_plot, z_plot = x_s3, y_s3, data_s3  # Feb\n",
    "x_plot = tr_functions.mm_to_ps(x_plot, time_zero)\n",
    "\n",
    "# x_plot, y_plot, z_plot = x11, y11, d11  # June\n",
    "# x_plot, y_plot, z_plot = x1j, y1j, d1j  # June\n",
    "\n",
    "\n",
    "ylims = []\n",
    "ylims = [(2.3, 2.6)]\n",
    "# ylims = [(2.5, 3.1)]\n",
    "cs = [\"orange\"]\n",
    "# # cs = [\"firebrick\"]  # for cartoon comparison\n",
    "\n",
    "for i, (ylim, c) in enumerate(zip(ylims, cs)):\n",
    "    # color = colors[i % len(colors) + 1]\n",
    "\n",
    "    x_1d, row = tr_functions.get_1d_y_slice(\n",
    "        x=x_plot,\n",
    "        y=y_plot,\n",
    "        data=z_plot,\n",
    "        xlims=None,\n",
    "        y_range=ylim,\n",
    "    )\n",
    "\n",
    "    d = savgol_filter(\n",
    "        row, 5, polyorder=3\n",
    "    )  # fits a cubic polynomial between 5 (window) datapoints\n",
    "    d = analysis_functions.norm_data(d)\n",
    "\n",
    "    fig.add_trace(\n",
    "        go.Scatter(\n",
    "            x=x_1d,\n",
    "            y=d,\n",
    "            # y=row,\n",
    "            name=f\"CT<sub>2</sub>: {ylim} eV\",\n",
    "            line=dict(color=c),\n",
    "            fill=\"tozeroy\",  # fillcolor='rgba(0, 100, 80, 0.2)'\n",
    "        )\n",
    "    )\n",
    "\n",
    "\n",
    "## CT1 and S1\n",
    "x_plot, y_plot, z_plot = x1, y1, d1  # Feb\n",
    "# x_plot, y_plot, z_plot = x12, y12, d12  # June\n",
    "# x_plot, y_plot, z_plot = x2, y2, d2  # June\n",
    "\n",
    "ylims = []\n",
    "\n",
    "ylims = [(2.0, 2.3), (1.7, 2.0)]\n",
    "cs = [\"red\", \"grey\"]\n",
    "names = [\"CT<sub>1</sub>\", \"S<sub>1</sub>\"]\n",
    "\n",
    "# ylims = [(1.8, 2.0), (2.0, 2.2), (2.2, 2.4)]\n",
    "# cs = [\"grey\", \"purple\", \"pink\"]\n",
    "# names = [\"S<sub>1</sub>\", \"CT<sub>1</sub>\", \"CT<sub>1</sub>\"]\n",
    "\n",
    "# ylims = [(1.7, 1.8), (1.8, 1.9)]\n",
    "# ylims = [\n",
    "#     (1.75, 1.85),\n",
    "#     (1.85, 1.95),\n",
    "#     (1.95, 2.05),\n",
    "#     (2.05, 2.15),\n",
    "#     (2.15, 2.25),\n",
    "#     (2.25, 2.35),\n",
    "# ]\n",
    "# cs = [\"grey\", \"purple\", \"pink\", \"red\", \"hotpink\", \"orange\"]\n",
    "# names = [\n",
    "#     \"S<sub>1</sub>\",\n",
    "#     \"S<sub>1</sub>\",\n",
    "#     \"CT<sub>1</sub>\",\n",
    "#     \"CT<sub>1</sub>\",\n",
    "#     \"CT<sub>1</sub>\",\n",
    "#     \"CT<sub>1</sub>\",\n",
    "# ]\n",
    "\n",
    "\n",
    "# ylims = [(1.7, 2.3)]\n",
    "# cs = [\"purple\"]\n",
    "# names = [\"S<sub>1</sub> & CT<sub>1</sub>\"]\n",
    "\n",
    "# ylims = [(2.0, 2.3), (1.945, 2.0)]\n",
    "\n",
    "# cs = [\"red\", \"orange\"]  # for cartoon comparison\n",
    "\n",
    "\n",
    "for i, (ylim, c, name) in enumerate(zip(ylims, cs, names)):\n",
    "    # color = colors[i % len(colors) + 1]\n",
    "\n",
    "    x_1d, row = tr_functions.get_1d_y_slice(\n",
    "        x=x_plot,\n",
    "        y=y_plot,\n",
    "        data=z_plot,\n",
    "        xlims=None,\n",
    "        y_range=ylim,\n",
    "    )\n",
    "\n",
    "    d = savgol_filter(\n",
    "        row, 11, polyorder=3\n",
    "    )  # fits a cubic polynomial between 5 (window) datapoints\n",
    "    d = analysis_functions.norm_data(d)\n",
    "    # d = d - np.mean(d[np.where(x > 95)])\n",
    "\n",
    "    fig.add_trace(\n",
    "        go.Scatter(\n",
    "            x=x_1d,\n",
    "            y=d,\n",
    "            # y=row,\n",
    "            name=f\"{name}: {ylim} eV\",\n",
    "            line=dict(color=c),\n",
    "            fill=\"tozeroy\",\n",
    "        )\n",
    "    )\n",
    "\n",
    "fig.update_traces(mode=\"lines\")\n",
    "fig.update_layout(legend_traceorder=\"reversed\")\n",
    "fig.show()"
   ]
  },
  {
   "cell_type": "code",
   "execution_count": null,
   "id": "ff8ba847-1f5d-48cd-952c-86171c04db93",
   "metadata": {
    "tags": []
   },
   "outputs": [],
   "source": [
    "import copy\n",
    "\n",
    "for i, d in enumerate(fig.data):\n",
    "    # d.update(legendgroup=i)  # interactive!\n",
    "    d = copy.copy(d)\n",
    "    d.update(xaxis=\"x2\", yaxis=\"y2\", showlegend=False)\n",
    "    fig.add_trace(d)"
   ]
  },
  {
   "cell_type": "code",
   "execution_count": null,
   "id": "e1678eec-5a9d-4ed4-aba6-3b16446ec82a",
   "metadata": {
    "tags": []
   },
   "outputs": [],
   "source": [
    "# Add layout for inset plot in the top-right corner\n",
    "fig.update_layout(\n",
    "    xaxis2=dict(\n",
    "        domain=[0.5, 0.95],\n",
    "        anchor=\"y2\",\n",
    "        range=[-1, 1],\n",
    "        zeroline=False,\n",
    "        showgrid=False,\n",
    "        showline=True,\n",
    "        linewidth=2,\n",
    "        linecolor=\"Black\",\n",
    "        mirror=True,\n",
    "    ),\n",
    "    yaxis2=dict(\n",
    "        domain=[0.5, 0.95],\n",
    "        anchor=\"x2\",\n",
    "        zeroline=False,\n",
    "        showgrid=False,\n",
    "        showline=True,\n",
    "        linewidth=2,\n",
    "        linecolor=\"Black\",\n",
    "        mirror=True,\n",
    "    ),\n",
    "    legend=dict(\n",
    "        x=0.95,  # x position (1 is the far right)\n",
    "        y=0.4,  # y position (0 is the far bottom)\n",
    "        xanchor=\"right\",  # Horizontal alignment: 'left', 'right', 'center', 'auto'\n",
    "        yanchor=\"top\",  # Vertical alignment: 'top', 'bottom', 'middle', 'auto'\n",
    "        bordercolor=\"Black\",  # Border color of the legend\n",
    "        borderwidth=2,  # Border width of the legend\n",
    "        # bgcolor=\"rgba(230, 230, 150, 0.8)\",  # Background color of the legend with transparency\n",
    "        bgcolor=None,\n",
    "    ),\n",
    ")\n",
    "\n",
    "fig.update_traces(mode=\"lines\")\n",
    "# fig.update_layout(xaxis2_range=[-0.5, 1])\n",
    "\n",
    "# fig.update_traces(fill=None, mode=\"lines\")\n",
    "# fig.update_layout(xaxis2_range=[-0.5, 1])\n",
    "\n",
    "fig.show()"
   ]
  },
  {
   "cell_type": "code",
   "execution_count": null,
   "id": "0d66d2ed-7fc0-4579-8ebc-df76afeb41a1",
   "metadata": {
    "tags": []
   },
   "outputs": [],
   "source": [
    "x_plot, y_plot, z_plot = x1, y1, d1  # Feb\n",
    "# x_plot, y_plot, z_plot = x12, y12, d12  # June\n",
    "# x_plot, y_plot, z_plot = x2, y2, d2  # June\n",
    "\n",
    "\n",
    "title = f\"Population of excitonic states in C<sub>60</sub>\"\n",
    "fig = tr_functions.thesis_fig(\n",
    "    title=title,\n",
    "    xaxis_title=\"Delay (ps)\",\n",
    "    yaxis_title=\"Intensity (arb. u)\",\n",
    "    equiv_axes=False,\n",
    "    gridlines=False,\n",
    "    height=600,\n",
    "    width=900,\n",
    ")\n",
    "\n",
    "ylims = []\n",
    "\n",
    "# ylims = [(1.9, 2.3), (1.7, 1.9)]\n",
    "# cs = [\"red\", \"grey\"]\n",
    "# names = [\"CT<sub>1</sub>\", \"S<sub>1</sub>\"]\n",
    "\n",
    "ylims = [(1.7, 2.3)]\n",
    "cs = [\"purple\"]\n",
    "# names = [\"CT<sub>1</sub>\"]\n",
    "names = [\"S<sub>1</sub> & CT<sub>1</sub>\"]\n",
    "\n",
    "for i, (ylim, c, name) in enumerate(zip(ylims, cs, names)):\n",
    "    # color = colors[i % len(colors) + 1]\n",
    "\n",
    "    x_1d, row = tr_functions.get_1d_y_slice(\n",
    "        x=x_plot,\n",
    "        y=y_plot,\n",
    "        data=z_plot,\n",
    "        xlims=None,\n",
    "        y_range=ylim,\n",
    "    )\n",
    "\n",
    "    d = savgol_filter(\n",
    "        row, 11, polyorder=3\n",
    "    )  # fits a cubic polynomial between 5 (window) datapoints\n",
    "    d = analysis_functions.norm_data(d)\n",
    "\n",
    "    fig.add_trace(\n",
    "        go.Scatter(\n",
    "            x=x_1d,\n",
    "            y=d,\n",
    "            # y=row,\n",
    "            name=f\"{name}: {ylim} eV\",\n",
    "            line=dict(color=c),\n",
    "            fill=\"tozeroy\",\n",
    "        )\n",
    "    )\n",
    "\n",
    "fig.update_traces(mode=\"lines\")\n",
    "fig.show()"
   ]
  },
  {
   "cell_type": "code",
   "execution_count": null,
   "id": "926a5b08-69a9-4d8b-972d-cea11734ca8d",
   "metadata": {
    "tags": []
   },
   "outputs": [],
   "source": [
    "for i, d in enumerate(fig.data):\n",
    "    # d.update(legendgroup=i)  # interactive!\n",
    "    d = copy.copy(d)\n",
    "    d.update(xaxis=\"x2\", yaxis=\"y2\", showlegend=False)\n",
    "    fig.add_trace(d)"
   ]
  },
  {
   "cell_type": "code",
   "execution_count": null,
   "id": "d54dcc59-8a57-4ba3-87d3-d7f8ed468c22",
   "metadata": {
    "tags": []
   },
   "outputs": [],
   "source": [
    "# Add layout for inset plot in the top-right corner\n",
    "fig.update_layout(\n",
    "    xaxis2=dict(\n",
    "        domain=[0.5, 0.95],\n",
    "        anchor=\"y2\",\n",
    "        range=[-1, 1],\n",
    "        zeroline=False,\n",
    "        showgrid=False,\n",
    "        showline=True,\n",
    "        linewidth=2,\n",
    "        linecolor=\"Black\",\n",
    "        mirror=True,\n",
    "    ),\n",
    "    yaxis2=dict(\n",
    "        domain=[0.5, 0.95],\n",
    "        anchor=\"x2\",\n",
    "        zeroline=False,\n",
    "        showgrid=False,\n",
    "        showline=True,\n",
    "        linewidth=2,\n",
    "        linecolor=\"Black\",\n",
    "        mirror=True,\n",
    "    ),\n",
    "    legend=dict(\n",
    "        x=0.95,  # x position (1 is the far right)\n",
    "        y=0.4,  # y position (0 is the far bottom)\n",
    "        xanchor=\"right\",  # Horizontal alignment: 'left', 'right', 'center', 'auto'\n",
    "        yanchor=\"top\",  # Vertical alignment: 'top', 'bottom', 'middle', 'auto'\n",
    "        bordercolor=\"Black\",  # Border color of the legend\n",
    "        borderwidth=2,  # Border width of the legend\n",
    "        # bgcolor=\"rgba(230, 230, 150, 0.8)\",  # Background color of the legend with transparency\n",
    "        bgcolor=None,\n",
    "    ),\n",
    ")\n",
    "\n",
    "fig.update_traces(mode=\"lines\")\n",
    "# fig.update_layout(xaxis2_range=[-0.5, 1])\n",
    "\n",
    "# fig.update_traces(fill=None, mode=\"lines\")\n",
    "# fig.update_layout(xaxis2_range=[-0.5, 1])\n",
    "\n",
    "fig.show()"
   ]
  },
  {
   "cell_type": "code",
   "execution_count": null,
   "id": "2d6ef6e8-6872-4081-a743-391b26662351",
   "metadata": {
    "tags": []
   },
   "outputs": [],
   "source": [
    "## Run original plot cell (3 cells up) before fit ##\n",
    "\n",
    "## Fit ##\n",
    "\n",
    "offset_type = \"constant\"\n",
    "x = x_1d[np.where(x_1d > 0)]\n",
    "data_fit = d[np.where(x_1d > 0)]\n",
    "\n",
    "c = np.mean(data)\n",
    "b = (data[-1] - data[0]) / (x[-1] - x[0])\n",
    "a = 0\n",
    "\n",
    "offset = fitting_functions.offset_model(offset_type, a, b, c)\n",
    "exp1 = lm.models.ExponentialModel(prefix=\"A_\")\n",
    "exp2 = lm.models.ExponentialModel(prefix=\"B_\")\n",
    "\n",
    "full_model = exp1 + exp2\n",
    "\n",
    "params = full_model.make_params()\n",
    "\n",
    "params[\"A_decay\"].value = 10\n",
    "params[\"A_amplitude\"].value = 1\n",
    "# params[\"B_decay\"].value = 10\n",
    "# params[\"B_amplitude\"].value = 1\n",
    "\n",
    "fit = full_model.fit(data_fit, x=x, params=params)\n",
    "print(f\"Decay: {fit.params['A_decay'].value}\")\n",
    "print(f\"Decay: {fit.params['B_decay'].value}\")\n",
    "\n",
    "fit.plot()"
   ]
  },
  {
   "cell_type": "code",
   "execution_count": null,
   "id": "1dc2b8f9-0ea0-42d9-b0b4-2c47bf2da541",
   "metadata": {
    "tags": []
   },
   "outputs": [],
   "source": [
    "# fig = tr_functions.thesis_fig(\n",
    "#     title=f\"{title}<br> Fit Components\",\n",
    "#     xaxis_title=yaxis_title,\n",
    "#     yaxis_title=\"Intensity [arb. u]\",\n",
    "#     equiv_axes=False,\n",
    "#     gridlines=False,\n",
    "#     height=600,\n",
    "#     width=900,\n",
    "# )\n",
    "\n",
    "# components = fit.eval_components(x=x)\n",
    "# for model_name, model_value in components.items():\n",
    "#     fig.add_trace(\n",
    "#         go.Scatter(\n",
    "#             x=x,\n",
    "#             y=model_value,\n",
    "#             name=model_name,\n",
    "#         )\n",
    "#     )\n",
    "\n",
    "# # fig.data[2].update(name=\"offset\")  # 2 peaks\n",
    "\n",
    "# fig.show()"
   ]
  },
  {
   "cell_type": "code",
   "execution_count": null,
   "id": "824bdeb8-b23b-4461-be6d-dec8122a9a55",
   "metadata": {
    "tags": []
   },
   "outputs": [],
   "source": [
    "def func(\n",
    "    x, A, t0, tau_1, tau_2\n",
    "):  # describes state that is decayed into and then continues to decay\n",
    "    return A * np.exp(-(x - t0) / tau_1) * (1 - np.exp(-(x - t0) / tau_2))\n",
    "\n",
    "\n",
    "t1_model = lm.models.Model(func)\n",
    "exp = lm.models.ExponentialModel()\n",
    "model = t1_model + exp\n",
    "params = model.make_params()\n",
    "params[\"A\"].value = 1\n",
    "params[\"A\"].min = 0.01\n",
    "params[\"t0\"].value = 0.0\n",
    "params[\"t0\"].min = 0.001\n",
    "params[\"t0\"].vary = False\n",
    "params[\"tau_1\"].value = 20\n",
    "params[\"tau_1\"].min = 1\n",
    "params[\"tau_2\"].expr = \"decay\"\n",
    "params[\"decay\"].value = 5\n",
    "params[\"decay\"].min = 1\n",
    "params[\"amplitude\"].min = 0.01\n",
    "params"
   ]
  },
  {
   "cell_type": "code",
   "execution_count": null,
   "id": "b96c51b6-8dbe-42e3-8966-c58f118fe08c",
   "metadata": {
    "tags": []
   },
   "outputs": [],
   "source": [
    "x = x_1d[np.where(x_1d > 0)]\n",
    "data_fit = d[np.where(x_1d > 0)]\n",
    "\n",
    "fit = model.fit(data_fit, x=x, params=params)\n",
    "print(f\"Decay: {fit.params['decay'].value}\")\n",
    "print(f\"Decay: {fit.params['tau_1'].value}\")\n",
    "\n",
    "fit.plot()"
   ]
  },
  {
   "cell_type": "code",
   "execution_count": null,
   "id": "31ed951e-8148-4c61-8ac1-a595bc2a5fd6",
   "metadata": {
    "tags": []
   },
   "outputs": [],
   "source": [
    "fit"
   ]
  },
  {
   "cell_type": "code",
   "execution_count": null,
   "id": "28aa13a9-9e51-405a-b8e8-1d50484a08a1",
   "metadata": {
    "tags": []
   },
   "outputs": [],
   "source": [
    "fig = tr_functions.thesis_fig(\n",
    "    title=f\"Population of excitonic states with fit\",\n",
    "    xaxis_title=xaxis_title,\n",
    "    yaxis_title=\"Intensity (arb. u)\",\n",
    "    equiv_axes=False,\n",
    "    gridlines=False,\n",
    "    height=600,\n",
    "    width=1000,\n",
    ")\n",
    "fig.add_trace(\n",
    "    go.Scatter(\n",
    "        x=x,\n",
    "        y=data_fit,\n",
    "        mode=\"markers\",\n",
    "        name=f\"Data: {ylim} eV\",\n",
    "        line=dict(color=\"purple\"),\n",
    "    )\n",
    ")\n",
    "fig.add_trace(\n",
    "    go.Scatter(\n",
    "        x=x,\n",
    "        y=exp.eval(x=x, params=fit.params),\n",
    "        name=\"exp_only\",\n",
    "        mode=\"lines\",\n",
    "        line=dict(color=colors[0]),\n",
    "    )\n",
    ")\n",
    "fig.add_trace(\n",
    "    go.Scatter(\n",
    "        x=x,\n",
    "        y=t1_model.eval(x=x, params=fit.params),\n",
    "        name=\"t1_only\",\n",
    "        mode=\"lines\",\n",
    "        line=dict(color=colors[1]),\n",
    "    )\n",
    ")\n",
    "fig.add_trace(\n",
    "    go.Scatter(\n",
    "        x=x,\n",
    "        y=fit.eval(x=x),\n",
    "        name=\"fit\",\n",
    "        mode=\"lines\",\n",
    "        line=dict(color=colors[2]),\n",
    "    )\n",
    ")\n",
    "\n",
    "for i, (tau, c) in enumerate(zip([\"decay\", \"tau_1\"], [colors[0], colors[1]])):\n",
    "    fig.add_annotation(\n",
    "        # x=fit.params[f\"{model_name}center\"].value,\n",
    "        # y=fit.eval(x=fit.params[f\"{model_name}center\"].value),\n",
    "        # xref=\"paper\",\n",
    "        # yref=\"paper\",\n",
    "        x=80,\n",
    "        y=0.8 - i * 0.1,\n",
    "        # align=\"right\",\n",
    "        showarrow=False,\n",
    "        text=f'Decay: {fit.params[f\"{tau}\"].value:.2f} +/- {fit.params[f\"{tau}\"].stderr:.2f} ps',\n",
    "        font=dict(size=14),\n",
    "        # ax=300,\n",
    "        # ay=i * 50,\n",
    "        bgcolor=\"white\",\n",
    "        # opacity=1,\n",
    "        bordercolor=c,\n",
    "        borderwidth=2,\n",
    "        # borderpad=4,\n",
    "    )\n",
    "\n",
    "fig.update_layout(showlegend=False)  # yaxis_range=(0, 1)\n",
    "fig.show()"
   ]
  },
  {
   "cell_type": "code",
   "execution_count": null,
   "id": "63e2ba5a-b6af-490e-86a4-53f968a57594",
   "metadata": {
    "tags": []
   },
   "outputs": [],
   "source": [
    "fit.params"
   ]
  },
  {
   "attachments": {
    "d275a9fd-15e9-401c-b2e9-13dfad305953.png": {
     "image/png": "[encoded data removed]"
    }
   },
   "cell_type": "markdown",
   "id": "c237f1f1-b532-4fbe-9794-b8493bee6673",
   "metadata": {},
   "source": [
    "![image.png](attachment:d275a9fd-15e9-401c-b2e9-13dfad305953.png)\n"
   ]
  }
 ],
 "metadata": {
  "kernelspec": {
   "display_name": "Python 3 (ipykernel)",
   "language": "python",
   "name": "python3"
  },
  "language_info": {
   "codemirror_mode": {
    "name": "ipython",
    "version": 3
   },
   "file_extension": ".py",
   "mimetype": "text/x-python",
   "name": "python",
   "nbconvert_exporter": "python",
   "pygments_lexer": "ipython3",
   "version": "3.8.12"
  }
 },
 "nbformat": 4,
 "nbformat_minor": 5
}
