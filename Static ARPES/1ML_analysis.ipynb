{
 "cells": [
  {
   "cell_type": "markdown",
   "id": "a9b6da58-2197-4d69-877c-e774a0982003",
   "metadata": {
    "tags": []
   },
   "source": [
    "## Imports and Functions"
   ]
  },
  {
   "cell_type": "code",
   "execution_count": null,
   "id": "932b4eac-4971-409a-b767-fc6775e27502",
   "metadata": {},
   "outputs": [],
   "source": [
    "%load_ext lab_black\n",
    "\n",
    "import h5py\n",
    "import os\n",
    "import numpy as np\n",
    "from typing import Dict, List, Optional, Tuple\n",
    "\n",
    "from dataclasses import dataclass\n",
    "from tqdm.auto import tqdm\n",
    "from scipy.signal import savgol_filter\n",
    "from scipy.interpolate import interp2d\n",
    "from functools import lru_cache\n",
    "import lmfit as lm\n",
    "\n",
    "\n",
    "import plotly.graph_objects as go\n",
    "import plotly.colors as pc\n",
    "import matplotlib.pyplot as plt\n",
    "\n",
    "import sys\n",
    "\n",
    "sys.path.append(r\"C:\\Users\\atully\\Code\\GitHub\\ARPES Code\\arpes-code-python\")\n",
    "from arpes_functions import (\n",
    "    fitting_functions,\n",
    "    analysis_functions,\n",
    "    plotting_functions,\n",
    "    HDF5_loader,\n",
    "    misc_functions,\n",
    "    filter_functions,\n",
    "    tr_functions,\n",
    "    loading_functions,\n",
    "    kw_data_loader,\n",
    "    cnn,\n",
    "    polygons,\n",
    ")\n",
    "\n",
    "\n",
    "colors = pc.qualitative.D3\n",
    "angstrom = \"\\u212B\"\n",
    "gamma = \"\\u0393\""
   ]
  },
  {
   "cell_type": "code",
   "execution_count": null,
   "id": "4eec656a-976d-411f-b5c7-fff5890c0d37",
   "metadata": {
    "tags": []
   },
   "outputs": [],
   "source": [
    "def fit_partial_cone(\n",
    "    x,\n",
    "    y,\n",
    "    data,\n",
    "    xlim,\n",
    "    ylim,\n",
    "    centers=[0.25, 0.4],\n",
    "    num_peaks=2,\n",
    "    window=0.02,\n",
    "    steps=20,\n",
    "    offset_type=\"quadratic\",\n",
    "    plot=True,\n",
    "):\n",
    "    x_fit, y_fit, d_fit = analysis_functions.limit_dataset(\n",
    "        x, y, data, xlim=(xlim[0], xlim[1]), ylim=(ylim[0], ylim[1])\n",
    "    )\n",
    "\n",
    "    # fit top of cone\n",
    "    if num_peaks == 1:\n",
    "        fits = []\n",
    "        coords = []\n",
    "\n",
    "        for yval in np.linspace(ylim[0], ylim[1], steps):\n",
    "            row = analysis_functions.get_averaged_slice(\n",
    "                analysis_functions.get_horizontal_slice(d_fit, y_fit, yval, window),\n",
    "                axis=\"y\",\n",
    "            )\n",
    "\n",
    "            fit = fitting_functions.fit_lorentzian_data(\n",
    "                x=x_fit,\n",
    "                data=row,\n",
    "                num_peaks=num_peaks,\n",
    "                amplitudes=0.5,\n",
    "                centers=[centers[0]],\n",
    "                sigmas=0.05,\n",
    "                offset_type=offset_type,\n",
    "            )\n",
    "            fits.append(fit)\n",
    "            coords.extend(\n",
    "                [(fit.best_values[f\"i{i}_center\"], yval) for i in range(num_peaks)]\n",
    "            )\n",
    "        return coords\n",
    "\n",
    "    if num_peaks == 2:\n",
    "        fits1 = []\n",
    "        coords1 = []\n",
    "\n",
    "        for yval in np.linspace(ylim[0], ylim[1], steps):\n",
    "            row = analysis_functions.get_averaged_slice(\n",
    "                analysis_functions.get_horizontal_slice(d_fit, y_fit, yval, window),\n",
    "                axis=\"y\",\n",
    "            )\n",
    "            fit1 = fitting_functions.fit_lorentzian_data(\n",
    "                x=x_fit,\n",
    "                data=row,\n",
    "                num_peaks=num_peaks,\n",
    "                amplitudes=0.5,\n",
    "                centers=[centers[0], centers[1]],\n",
    "                sigmas=0.05,\n",
    "                offset_type=offset_type,\n",
    "            )\n",
    "            fits1.append(fit1)\n",
    "            coords1.extend(\n",
    "                [(fit1.best_values[f\"i{i}_center\"], yval) for i in range(num_peaks)]\n",
    "            )\n",
    "        return coords1\n",
    "\n",
    "    else:\n",
    "        return ValueError(f\"num_peaks is {num_peaks}; must be 1 or 2\")"
   ]
  },
  {
   "cell_type": "markdown",
   "id": "ab80f223-729f-414e-b55b-063d94563164",
   "metadata": {},
   "source": [
    "# Load Data"
   ]
  },
  {
   "cell_type": "code",
   "execution_count": null,
   "id": "3986dc6b-3148-415a-8f58-680d5446e52b",
   "metadata": {
    "tags": []
   },
   "outputs": [],
   "source": [
    "# ## 1 ML Film (XUV + Lamp) ##\n",
    "\n",
    "# ## Convert .ibw to .h5 ##\n",
    "\n",
    "# ddir = r\"E:\\atully\\k-corrected data\\Apr_2021\\2D_kcorrected\"\n",
    "\n",
    "# # Convert ibw to hdf5\n",
    "# # fn = r\"OMBE_XUV_2D0003__kw.ibw\"\n",
    "# # fn = r\"OMBE_XUV_2D0006__kw.ibw\"\n",
    "# fn = r\"OMBE_Lamp_2D0006__kw.ibw\"\n",
    "# HDF5_loader.ibw_to_hdf5(ddir, fn, export=True)\n",
    "\n",
    "# # Check conversion worked\n",
    "# data, theta, energy = HDF5_loader.load_hdf5(\n",
    "#     ddir, r\"OMBE_Lamp_2D0006__kw.h5\"\n",
    "# )  # load data from hdf5\n",
    "# data.shape, theta.shape, energy.shape"
   ]
  },
  {
   "cell_type": "code",
   "execution_count": null,
   "id": "06e2b022-fb1d-47bd-8520-0f5b6eee28a1",
   "metadata": {
    "tags": []
   },
   "outputs": [],
   "source": [
    "## Load Data ##\n",
    "\n",
    "ddir = r\"E:\\atully\\k-corrected data\\Apr_2021\\2D_kcorrected\"\n",
    "# file = r\"OMBE_XUV_2D0003__kw.h5\"\n",
    "file = r\"OMBE_XUV_2D0006__kw.h5\"  # xuv band structure\n",
    "# file = r\"OMBE_Lamp_2D0006__kw.h5\"  # lamp band structure\n",
    "\n",
    "data_1ml, kx_1ml, energy_1ml = loading_functions.load_hdf5(ddir, file)"
   ]
  },
  {
   "cell_type": "code",
   "execution_count": null,
   "id": "4a159471-549b-4fdf-ba8c-b8fc2806ecbf",
   "metadata": {
    "tags": []
   },
   "outputs": [],
   "source": [
    "xaxis_title = f\"k<sub>x</sub> ({angstrom}<sup>-1</sup>)\"\n",
    "yaxis_title = f\"E<sub>K</sub> (eV)\"\n",
    "# title = f\"\""
   ]
  },
  {
   "cell_type": "code",
   "execution_count": null,
   "id": "b2c96c24-852f-4098-a767-61e25ea682af",
   "metadata": {
    "tags": []
   },
   "outputs": [],
   "source": [
    "## Plot Data ##\n",
    "\n",
    "x, y, data = kx_1ml, energy_1ml, data_1ml\n",
    "\n",
    "fig = tr_functions.thesis_fig(\n",
    "    title=f\"{file}\",\n",
    "    xaxis_title=xaxis_title,\n",
    "    yaxis_title=yaxis_title,\n",
    "    equiv_axes=False,\n",
    ")\n",
    "\n",
    "fig.add_trace(\n",
    "    go.Heatmap(x=x, y=y, z=analysis_functions.norm_data(data), coloraxis=\"coloraxis\")\n",
    ")\n",
    "\n",
    "fig.show()"
   ]
  },
  {
   "cell_type": "markdown",
   "id": "515bad54-6214-4b42-8288-9054b6f77c7e",
   "metadata": {
    "jp-MarkdownHeadingCollapsed": true,
    "tags": []
   },
   "source": [
    "## Fit for EF"
   ]
  },
  {
   "cell_type": "code",
   "execution_count": null,
   "id": "f9310061-5e33-479a-92f0-05f7783caf83",
   "metadata": {
    "tags": []
   },
   "outputs": [],
   "source": [
    "x, y, data = kx_1ml, energy_1ml, data_1ml\n",
    "\n",
    "xlim = (-0.5, 0.5)\n",
    "ylim = (18, 18.8)  # EF -- xuv\n",
    "ylim = (16.5, 17.5)  # EF -- lamp\n",
    "\n",
    "new_x, new_y, new_data = analysis_functions.limit_dataset(x, y, data, xlim, ylim)"
   ]
  },
  {
   "cell_type": "code",
   "execution_count": null,
   "id": "0953f348-5b98-4766-a014-1506298565b6",
   "metadata": {
    "tags": []
   },
   "outputs": [],
   "source": [
    "## Plot Data ##\n",
    "\n",
    "fig = tr_functions.thesis_fig(\n",
    "    title=f\"EDC of E<sub>F</sub>\",\n",
    "    xaxis_title=yaxis_title,\n",
    "    yaxis_title=\"Intensity (arb. u)\",\n",
    "    equiv_axes=False,\n",
    "    gridlines=False,\n",
    "    dtick_y=0.2,\n",
    ")\n",
    "\n",
    "y_1d, col = tr_functions.get_1d_x_slice(\n",
    "    x=new_x,\n",
    "    y=new_y,\n",
    "    data=analysis_functions.norm_data(new_data),\n",
    "    ylims=None,\n",
    "    x_range=None,\n",
    ")\n",
    "\n",
    "# Plot Data\n",
    "fig.add_trace(go.Scatter(x=y_1d, y=col, name=\"data\", line=dict(color=colors[0])))\n",
    "\n",
    "fig.show()"
   ]
  },
  {
   "cell_type": "code",
   "execution_count": null,
   "id": "ca5d68cb-cbb5-4205-95b4-1625fd7c83b3",
   "metadata": {
    "tags": []
   },
   "outputs": [],
   "source": [
    "## Fit FD ##\n",
    "import lmfit as lm\n",
    "\n",
    "T = 10  # measurement temp\n",
    "k_B = 8.617333e-5  # eV/K\n",
    "\n",
    "x = y_1d\n",
    "data = col\n",
    "\n",
    "offset_type = \"constant\"\n",
    "\n",
    "\n",
    "## FD\n",
    "def fermi_dirac(x, center, theta, amp):\n",
    "    arg = (x - center) / (2 * theta)  # x=E, center=mu, theta = k_B * T\n",
    "    return -amp / 2 * np.tanh(arg)\n",
    "\n",
    "\n",
    "## Offset\n",
    "c = np.mean(data)\n",
    "b = (data[-1] - data[0]) / (x[-1] - x[0])\n",
    "a = 0\n",
    "\n",
    "offset = fitting_functions.offset_model(offset_type, a, b, c)\n",
    "\n",
    "full_model = lm.models.Model(fermi_dirac) + offset\n",
    "\n",
    "params = full_model.make_params()\n",
    "\n",
    "# params[\"center\"].value = 18.3\n",
    "params[\"center\"].value = 16.9\n",
    "params[\"center\"].vary = True\n",
    "# params[\"center\"].min = 1.85\n",
    "# params[\"center\"].max = 1.95\n",
    "\n",
    "params[\"theta\"].value = k_B * T\n",
    "params[\"theta\"].vary = True\n",
    "\n",
    "\n",
    "for param in params:\n",
    "    params[param].value = np.float32(params[param].value)\n",
    "    params[param].min = np.float32(params[param].min)\n",
    "    params[param].max = np.float32(params[param].max)\n",
    "    # print(params[param].value.dtype)\n",
    "\n",
    "\n",
    "# fit = full_model.fit(data, x=x, params=params, nan_policy=\"propagate\")\n",
    "fit = full_model.fit(data.astype(np.float32), x=x.astype(np.float32), params=params)\n",
    "\n",
    "fit.plot()\n",
    "\n",
    "print(f\"EF: {fit.params['center'].value}\")"
   ]
  },
  {
   "cell_type": "markdown",
   "id": "5f9d7099-f73a-41fb-a0da-164c9f1e6101",
   "metadata": {},
   "source": [
    "## Fit for HOMO"
   ]
  },
  {
   "cell_type": "code",
   "execution_count": null,
   "id": "c08e697f-cd52-4707-a98e-e173b754d9a5",
   "metadata": {
    "tags": []
   },
   "outputs": [],
   "source": [
    "EF = 18.27  # xuv\n",
    "# EF = 16.94  # lamp"
   ]
  },
  {
   "cell_type": "code",
   "execution_count": null,
   "id": "e9678741-93f5-4281-9b5b-ff10a2b0cfe3",
   "metadata": {
    "tags": []
   },
   "outputs": [],
   "source": [
    "xaxis_title = f\"k<sub>x</sub> ({angstrom}<sup>-1</sup>)\"\n",
    "yaxis_title = f\"E - E<sub>F</sub> (eV)\"\n",
    "# yaxis_title = f\"E<sub>K</sub> (eV)\"\n",
    "title = f\"{file}\"\n",
    "title = f\"1ML C<sub>60</sub> Band Structure<br>(XUV)\"\n",
    "# title = f\"1ML C<sub>60</sub> Band Structure<br>(He Lamp)\""
   ]
  },
  {
   "cell_type": "code",
   "execution_count": null,
   "id": "bf9b877d-73fe-4d5f-a0b3-5c6a11fa887f",
   "metadata": {
    "tags": []
   },
   "outputs": [],
   "source": [
    "x, y, data = kx_1ml, energy_1ml, data_1ml\n",
    "\n",
    "xlim = (-0.5, 0.5)\n",
    "ylim = None  # for EDC\n",
    "\n",
    "## For fits\n",
    "# ylim = (14, 18.5)  # Ek -- xuv\n",
    "# ylim = (12.67, 16.963)  # Ek -- lamp\n",
    "\n",
    "new_x, new_y, new_data = analysis_functions.limit_dataset(x, y, data, xlim, ylim)\n",
    "\n",
    "new_y = new_y - EF"
   ]
  },
  {
   "cell_type": "code",
   "execution_count": null,
   "id": "67ac668e-f2e9-408c-b5e4-7d2805a570eb",
   "metadata": {
    "tags": []
   },
   "outputs": [],
   "source": [
    "## Plot Data ##\n",
    "\n",
    "fig = tr_functions.thesis_fig(\n",
    "    title=title,\n",
    "    xaxis_title=xaxis_title,\n",
    "    yaxis_title=yaxis_title,\n",
    "    equiv_axes=False,\n",
    "    height=550,  # lamp\n",
    "    width=600,\n",
    "    dtick_y=2,\n",
    ")\n",
    "\n",
    "fig.add_trace(\n",
    "    go.Heatmap(\n",
    "        x=new_x,\n",
    "        y=new_y,\n",
    "        z=analysis_functions.norm_data(new_data),\n",
    "        coloraxis=\"coloraxis\",\n",
    "    )\n",
    ")\n",
    "\n",
    "fig.update_coloraxes(colorscale=\"Blues\", reversescale=False)\n",
    "# fig.show(renderer=\"svg\")"
   ]
  },
  {
   "cell_type": "code",
   "execution_count": null,
   "id": "c9486da2-5780-4e86-ae45-b3852c0ab796",
   "metadata": {
    "tags": []
   },
   "outputs": [],
   "source": [
    "## Get and Plot 1D Data ##\n",
    "\n",
    "fig = tr_functions.thesis_fig(\n",
    "    # title=f\"EDC of C<sub>60</sub> HOMO and HOMO-1\",\n",
    "    # title=f\"1ML C<sub>60</sub> EDC (XUV)\",\n",
    "    title=f\"EDC\",\n",
    "    yaxis_title=yaxis_title,\n",
    "    xaxis_title=\"Intensity (arb. u)\",\n",
    "    equiv_axes=False,\n",
    "    gridlines=False,\n",
    "    # dtick_y=0.2,\n",
    "    height=550,  # lamp\n",
    "    width=300,\n",
    ")\n",
    "\n",
    "y_1d, col = tr_functions.get_1d_x_slice(\n",
    "    x=new_x,\n",
    "    y=new_y,\n",
    "    data=analysis_functions.norm_data(new_data),\n",
    "    ylims=None,\n",
    "    x_range=None,\n",
    ")\n",
    "\n",
    "# Plot Data\n",
    "fig.add_trace(go.Scatter(x=col, y=y_1d, name=\"data\", line=dict(color=colors[0])))\n",
    "\n",
    "fig.update_yaxes(range=(np.min(y_1d), np.max(y_1d)))"
   ]
  },
  {
   "cell_type": "code",
   "execution_count": null,
   "id": "dba80b04-8636-43a3-99bc-dbede2d9e931",
   "metadata": {
    "tags": []
   },
   "outputs": [],
   "source": [
    "## Get and Plot 1D Data ##\n",
    "\n",
    "fig = tr_functions.thesis_fig(\n",
    "    # title=f\"EDC of C<sub>60</sub> HOMO and HOMO-1\",\n",
    "    # title=f\"1ML C<sub>60</sub> EDC (XUV)\",\n",
    "    title=f\"1ML C<sub>60</sub> EDC (He Lamp)\",\n",
    "    xaxis_title=yaxis_title,\n",
    "    yaxis_title=\"Intensity (arb. u)\",\n",
    "    equiv_axes=False,\n",
    "    gridlines=False,\n",
    "    dtick_y=0.2,\n",
    ")\n",
    "\n",
    "y_1d, col = tr_functions.get_1d_x_slice(\n",
    "    x=new_x,\n",
    "    y=new_y,\n",
    "    data=analysis_functions.norm_data(new_data),\n",
    "    ylims=None,\n",
    "    x_range=None,\n",
    ")\n",
    "\n",
    "# Plot Data\n",
    "fig.add_trace(go.Scatter(x=y_1d, y=col, name=\"data\", line=dict(color=colors[0])))\n",
    "\n",
    "## For After Fit\n",
    "fig.add_trace(go.Scatter(x=y_1d, y=fit.eval(x=y_1d), name=\"fit\"))\n",
    "\n",
    "components = fit.eval_components(x=y_1d)\n",
    "for model_name, model_value in list(components.items())[0:1]:\n",
    "    fig.add_annotation(\n",
    "        x=fit.params[f\"iA__center\"].value,\n",
    "        y=fit.eval(x=fit.params[f\"iA__center\"].value) + 0.2,\n",
    "        # xref=\"x domain\",\n",
    "        # yref=\"y domain\",\n",
    "        # x=0.01,\n",
    "        # y=0.99,\n",
    "        showarrow=False,\n",
    "        # text=f'Peak center: {fit.params[f\"center\"].value:.2f} +/- {fit.params[f\"center\"].stderr:.4f} mm<br>FWHM: {tr_functions.mm_to_ps(tr_functions.sig_to_fwhm(fit.params[\"sigma\"].value)):.3f} +/- {tr_functions.mm_to_ps(tr_functions.sig_to_fwhm(fit.params[f\"sigma\"].stderr)):.4f} ps',\n",
    "        text=f'Peak center:<br>{fit.params[f\"iA__center\"].value:.2f} +/- {fit.params[f\"iA__center\"].stderr:.4f} eV<br><br>FWHM:<br>{fit.params[f\"iA__fwhm\"].value:.4f} +/- {fit.params[f\"iA__fwhm\"].stderr:.4f} eV',\n",
    "        font=dict(size=18),\n",
    "    )\n",
    "\n",
    "fig.show()"
   ]
  },
  {
   "cell_type": "code",
   "execution_count": null,
   "id": "ecd1f9cc-0ed2-45a7-bea2-8be4258f76a5",
   "metadata": {
    "tags": []
   },
   "outputs": [],
   "source": [
    "## Fit Data ##\n",
    "\n",
    "x = y_1d\n",
    "data = col\n",
    "\n",
    "offset_type = \"linear\"\n",
    "\n",
    "## Offset\n",
    "# c = np.mean(data)\n",
    "c = 0\n",
    "b = (data[-1] - data[0]) / (x[-1] - x[0])\n",
    "a = 0\n",
    "\n",
    "offset = fitting_functions.offset_model(offset_type, a, b, c)\n",
    "\n",
    "## Gaussian\n",
    "gauss1 = fitting_functions.make_gaussian(num=\"A_\", amplitude=1, center=-1.69, sigma=0.5)\n",
    "gauss2 = fitting_functions.make_gaussian(num=\"B_\", amplitude=1, center=-3, sigma=0.5)\n",
    "gauss_au = fitting_functions.make_gaussian(\n",
    "    num=\"C_\", amplitude=1, center=-3.7, sigma=0.5\n",
    ")\n",
    "\n",
    "# ## Gaussian\n",
    "# gauss1 = fitting_functions.make_gaussian(num=\"A_\", amplitude=1, center=0, sigma=0.5)\n",
    "# gauss2 = fitting_functions.make_gaussian(num=\"B_\", amplitude=1, center=-1.3, sigma=0.5)\n",
    "\n",
    "\n",
    "full_model = gauss1 + gauss2 + gauss_au + offset\n",
    "\n",
    "fit = full_model.fit(data, x=x)\n",
    "\n",
    "fit.plot()\n",
    "\n",
    "print(\"HOMO\")\n",
    "print(fit.params[\"iA__center\"])\n",
    "print(fit.params[\"iA__fwhm\"])\n",
    "print(\"HOMO-1\")\n",
    "print(fit.params[\"iB__center\"])\n",
    "print(fit.params[\"iB__fwhm\"])\n",
    "\n",
    "# fit.params"
   ]
  },
  {
   "cell_type": "code",
   "execution_count": null,
   "id": "15490f42-559a-4e59-91e8-bcaf6bbb9fd8",
   "metadata": {
    "tags": []
   },
   "outputs": [],
   "source": [
    "fit.params"
   ]
  },
  {
   "cell_type": "markdown",
   "id": "f18e4934-7dda-4b99-80a6-02f232494d42",
   "metadata": {},
   "source": [
    "# HV dependence"
   ]
  },
  {
   "cell_type": "code",
   "execution_count": null,
   "id": "8573d605-840e-4eec-b3d8-a2768eae75bc",
   "metadata": {
    "tags": []
   },
   "outputs": [],
   "source": [
    "# ## Convert .ibw to .h5 ##\n",
    "\n",
    "# ddir = r\"E:\\atully\\k-corrected data\\Apr_2021\\2D_kcorrected\"\n",
    "\n",
    "# # Convert ibw to hdf5\n",
    "# # fn = r\"OMBE_XUV_2D0007__kw.ibw\"\n",
    "# # fn = r\"OMBE_XUV_2D0008__kw.ibw\"\n",
    "# # fn = r\"OMBE_XUV_2D0009__kw.ibw\"\n",
    "# # fn = r\"OMBE_XUV_2D0010__kw.ibw\"\n",
    "# # fn = r\"OMBE_XUV_2D0011__kw.ibw\"\n",
    "# # fn = r\"OMBE_XUV_2D0012__kw.ibw\"\n",
    "# fn = r\"OMBE_XUV_2D0013__kw.ibw\"\n",
    "# HDF5_loader.ibw_to_hdf5(ddir, fn, export=True)\n",
    "\n",
    "# # Check conversion worked\n",
    "# data, theta, energy = HDF5_loader.load_hdf5(\n",
    "#     ddir, r\"OMBE_XUV_2D0013__kw.h5\"\n",
    "# )  # load data from hdf5\n",
    "# data.shape, theta.shape, energy.shape"
   ]
  },
  {
   "cell_type": "code",
   "execution_count": null,
   "id": "8016c86d-f382-4de1-9b3f-5c86b3b0e6f7",
   "metadata": {
    "tags": []
   },
   "outputs": [],
   "source": [
    "# ## Convert .ibw to .h5 ##\n",
    "\n",
    "# ddir = r\"E:\\atully\\k-corrected data\\Jan_2021\"\n",
    "\n",
    "# # Convert ibw to hdf5\n",
    "# fn = r\"OMBE_XUV_2D_2.ibw\"\n",
    "\n",
    "# HDF5_loader.ibw_to_hdf5(ddir, fn, export=True)\n",
    "\n",
    "# # Check conversion worked\n",
    "# data, theta, energy = HDF5_loader.load_hdf5(\n",
    "#     ddir, r\"OMBE_XUV_2D_2.h5\"\n",
    "# )  # load data from hdf5\n",
    "# data.shape, theta.shape, energy.shape"
   ]
  },
  {
   "cell_type": "code",
   "execution_count": null,
   "id": "53dc0ccb-a6f5-4393-baa1-8ee428332560",
   "metadata": {
    "tags": []
   },
   "outputs": [],
   "source": [
    "## Load Data ##\n",
    "\n",
    "## 1 ML C60/Au(111) hv = 25\n",
    "ddir = r\"E:\\atully\\k-corrected data\\Apr_2021\\2D_kcorrected\"\n",
    "file = r\"OMBE_XUV_2D0008__kw.h5\"  \n",
    "\n",
    "data_1ml, kx_1ml, energy_1ml = loading_functions.load_hdf5(ddir, file)"
   ]
  },
  {
   "cell_type": "code",
   "execution_count": null,
   "id": "b41549d9-2189-4a66-895f-e1810a7e267a",
   "metadata": {
    "tags": []
   },
   "outputs": [],
   "source": [
    "## Load Data ##\n",
    "\n",
    "## 1 ML C60/Au(111), Au sp band visible (theta motor = -15) hv = 25\n",
    "ddir = r\"E:\\atully\\k-corrected data\\Jan_2021\"\n",
    "file = r\"OMBE_XUV_2D_2.h5\"\n",
    "\n",
    "data_au, kx_au, energy_au = loading_functions.load_hdf5(ddir, file)"
   ]
  },
  {
   "cell_type": "code",
   "execution_count": null,
   "id": "d7deec87-ff3d-4799-883c-3da653e10a1c",
   "metadata": {
    "tags": []
   },
   "outputs": [],
   "source": [
    "xaxis_title = f\"k<sub>x</sub> ({angstrom}<sup>-1</sup>)\"\n",
    "yaxis_title = f\"E<sub>K</sub> (eV)\"\n",
    "\n",
    "# title = f\"hv = 22.7 eV\"\n",
    "title = f\"hv = 25 eV\"\n",
    "# title = f\"hv = 27.4 eV\"\n",
    "# title = f\"hv = 29.8 eV\"\n",
    "# title = f\"hv = 32.2 eV\"  # scan 11\n",
    "# title = f\"hv = 34.6 eV\"  # scan 12\n",
    "# title = f\"hv = 37 eV\"  # scan 13"
   ]
  },
  {
   "cell_type": "code",
   "execution_count": null,
   "id": "f0729959-918f-4a88-9309-66637f63aa92",
   "metadata": {
    "tags": []
   },
   "outputs": [],
   "source": [
    "x, y, data = kx_1ml, energy_1ml, data_1ml\n",
    "# x, y, data = energy_au, kx_au, data_au.T\n",
    "\n",
    "xlim = (-0.5, 0.5)\n",
    "# xlim = None\n",
    "ylim = None\n",
    "# ylim = (17.2, 18.5)  # Ek\n",
    "\n",
    "new_x, new_y, new_data = analysis_functions.limit_dataset(x, y, data, xlim, ylim)\n",
    "\n",
    "# new_y = new_y - EF"
   ]
  },
  {
   "cell_type": "code",
   "execution_count": null,
   "id": "ecb3acad-190d-488e-bbee-bf7336774eca",
   "metadata": {
    "tags": []
   },
   "outputs": [],
   "source": [
    "## Plot Data ##\n",
    "\n",
    "# x, y, data = kx_1ml, energy_1ml, data_1ml\n",
    "x, y, data = new_x, new_y, new_data\n",
    "\n",
    "fig = tr_functions.thesis_fig(\n",
    "    # title=f\"{file}\",\n",
    "    title=title,\n",
    "    xaxis_title=xaxis_title,\n",
    "    yaxis_title=yaxis_title,\n",
    "    equiv_axes=False,\n",
    "    height=500,\n",
    "    width=500,\n",
    "    # dtick_x=0.2,\n",
    ")\n",
    "\n",
    "fig.add_trace(\n",
    "    go.Heatmap(x=x, y=y, z=analysis_functions.norm_data(data), coloraxis=\"coloraxis\")\n",
    ")\n",
    "\n",
    "# x, fit1.eval(x=x)-EF, color='xkcd:turquoise', linestyle='--', linewidth=3\n",
    "\n",
    "## For After Fit\n",
    "# fig.add_trace(go.Scatter(x=xfit, y=fit_line1.eval(x=xfit), name=\"fit\"))\n",
    "# fig.add_trace(go.Scatter(x=x, y=fit_line1.eval(x=x), name=\"fit\"))\n",
    "# fig.add_trace(\n",
    "#     go.Scatter(\n",
    "#         x=[c[0] for c in coords_left],\n",
    "#         y=[c[1] for c in coords_left],\n",
    "#         name=\"fit\",\n",
    "#         mode=\"markers\",\n",
    "#         text=list(range(len(coords_left))),\n",
    "#     )\n",
    "# )\n",
    "##\n",
    "\n",
    "# fig.update_coloraxes(cmin=0, cmax=0.13)\n",
    "fig.update_coloraxes(colorscale=\"Blues\", reversescale=False)\n",
    "fig.update_layout(yaxis_range=(min(y), max(y)))\n",
    "\n",
    "fig.show()"
   ]
  },
  {
   "cell_type": "code",
   "execution_count": null,
   "id": "37edbb5a-f28b-41fe-9a00-2e821a4d62db",
   "metadata": {
    "tags": []
   },
   "outputs": [],
   "source": [
    "xfit, yfit, datafit = new_x, new_y, new_data\n",
    "\n",
    "coords_left = fit_partial_cone(\n",
    "    xfit,\n",
    "    yfit,\n",
    "    datafit,\n",
    "    xlim=(-0.35, -0.0),\n",
    "    ylim=(19.2, 19.7),\n",
    "    centers=[-0.22],\n",
    "    num_peaks=1,\n",
    "    window=0.1,\n",
    ")  # left line\n",
    "# coords_bottom = fit_partial_cone(xfit, yfit, datafit, xlim=(-0.38, 0.0), ylim=(17.6, 17.7), centers=[-0.25, -0.1], num_peaks=2, window=0.02)  # bottom of left  cone\n",
    "# coords_middle = fit_partial_cone(xfit, yfit, datafit, xlim=(-0.3, -0.07), ylim=(17.7, 17.8), centers=[-0.25, -0.1], num_peaks=2, window=0.02)  # middle of left  cone\n",
    "\n",
    "# x_line, y_line = compile_peaks(coords_top, coords_middle, coords_bottom)  # compile coords of all peaks\n",
    "x_line, y_line = np.array(\n",
    "    [c[0] for i, c in enumerate(coords_left) if i not in [0, 3, 4, 13]]\n",
    "), np.array([c[1] for i, c in enumerate(coords_left) if i not in [0, 3, 4, 13]])\n",
    "# fit1, fit2 = fit_cone_lines(x_line, y_line)  # linear fits"
   ]
  },
  {
   "cell_type": "code",
   "execution_count": null,
   "id": "f49cdd3c-0065-4a24-a43c-6895bf446cb7",
   "metadata": {
    "tags": []
   },
   "outputs": [],
   "source": [
    "from lmfit.models import LinearModel\n",
    "\n",
    "model = LinearModel()\n",
    "fit = model.fit(y_line, x=x_line)"
   ]
  },
  {
   "cell_type": "code",
   "execution_count": null,
   "id": "7f50b68c-bafb-4f8a-b37d-dfcbdf261d1d",
   "metadata": {
    "tags": []
   },
   "outputs": [],
   "source": [
    "fit.params[\"slope\"].value, fit.params[\"slope\"].stderr"
   ]
  },
  {
   "cell_type": "code",
   "execution_count": null,
   "id": "e959e384-30eb-4359-b746-3cead82d66b2",
   "metadata": {
    "tags": []
   },
   "outputs": [],
   "source": [
    "## Plot Data ##\n",
    "\n",
    "# x, y, data = kx_1ml, energy_1ml, data_1ml\n",
    "x, y, data = new_x, new_y, new_data\n",
    "\n",
    "fig = tr_functions.thesis_fig(\n",
    "    # title=f\"{file}\",\n",
    "    title=title,\n",
    "    xaxis_title=xaxis_title,\n",
    "    yaxis_title=yaxis_title,\n",
    "    equiv_axes=False,\n",
    "    height=500,\n",
    "    width=500,\n",
    "    dtick_x=0.2,\n",
    ")\n",
    "\n",
    "fig.add_trace(\n",
    "    go.Heatmap(x=x, y=y, z=analysis_functions.norm_data(data), coloraxis=\"coloraxis\")\n",
    ")\n",
    "\n",
    "# x, fit1.eval(x=x)-EF, color='xkcd:turquoise', linestyle='--', linewidth=3\n",
    "\n",
    "## For After Fit\n",
    "# fig.add_trace(go.Scatter(x=xfit, y=fit_line1.eval(x=xfit), name=\"fit\"))\n",
    "fig.add_trace(\n",
    "    go.Scatter(\n",
    "        x=x,\n",
    "        y=fit.eval(x=x),\n",
    "        name=\"fit\",\n",
    "        line=dict(color=\"purple\", dash=\"dash\"),\n",
    "    )\n",
    ")\n",
    "fig.add_trace(\n",
    "    go.Scatter(\n",
    "        x=[c[0] for i, c in enumerate(coords_left) if i not in [0, 3, 4, 13]],\n",
    "        y=[c[1] for i, c in enumerate(coords_left) if i not in [0, 3, 4, 13]],\n",
    "        name=\"fit\",\n",
    "        mode=\"markers\",\n",
    "        text=list(range(len(coords_left))),\n",
    "        line=dict(color=\"green\"),\n",
    "    )\n",
    ")\n",
    "\n",
    "fig.add_vline(x=-0.35, line=dict(color=\"grey\", dash=\"dot\"))\n",
    "##\n",
    "\n",
    "# fig.update_coloraxes(cmin=0, cmax=0.13)\n",
    "fig.update_coloraxes(colorscale=\"Blues\", reversescale=False)\n",
    "fig.update_layout(yaxis_range=(min(y), max(y)))\n",
    "\n",
    "fig.show()"
   ]
  },
  {
   "cell_type": "markdown",
   "id": "f5e94081-727e-4a2a-9c06-92863fefb6ab",
   "metadata": {},
   "source": [
    "# FS Scans -- different slices"
   ]
  },
  {
   "cell_type": "code",
   "execution_count": null,
   "id": "49ea03b6-5d5e-4ca1-b257-9dafbb8e4e6a",
   "metadata": {},
   "outputs": [],
   "source": [
    "fp = r\"E:\\atully\\arpes_data\\2022_October\\k_corrected\"\n",
    "fn = r\"FS4_avg4_gkw_filteredFFT_0.00int.h5\"  # pristine Au\n",
    "data, theta, phi, energy = HDF5_loader.load_hdf5(fp, fn)  # load data from hdf5"
   ]
  },
  {
   "cell_type": "code",
   "execution_count": null,
   "id": "d1235e3c-d118-4074-94f1-179b78305765",
   "metadata": {
    "tags": []
   },
   "outputs": [],
   "source": [
    "ddir = r\"E:\\atully\\arpes_data\\2022_October\\k_corrected\"\n",
    "files = []\n",
    "files = [f\"FS4_avg4_gkw_filteredFFT_0.00int.h5\"]  # pristine Au\n",
    "\n",
    "ARPES_DATA: Dict[str, tr_functions.ArpesData] = {}\n",
    "ARPES_ATTRS: Dict[str, tr_functions.ArpesAttrs] = {}\n",
    "for file in tqdm(files):\n",
    "    data, kx, ky, energy = loading_functions.load_hdf5(ddir, file)\n",
    "    ARPES_DATA[file] = tr_functions.ArpesData(\n",
    "        data=data, theta=kx, phi_or_time=ky, energy=energy\n",
    "    )\n",
    "    ARPES_ATTRS[file] = tr_functions.load_attrs_hdf5(ddir, file)\n",
    "\n",
    "ad = ARPES_DATA[files[0]]"
   ]
  },
  {
   "cell_type": "code",
   "execution_count": null,
   "id": "2b1cd495-2b9f-4cc1-b1ac-d7f1c8daf7de",
   "metadata": {
    "tags": []
   },
   "outputs": [],
   "source": [
    "ddir = r\"E:\\atully\\arpes_data\\2022_October\\k_corrected\"\n",
    "files = []\n",
    "files = [f\"FS1_avg_gkw_filteredFFT_0.00int.h5\"]  # pristine Au, bottom of sp band\n",
    "\n",
    "ARPES_DATA: Dict[str, tr_functions.ArpesData] = {}\n",
    "ARPES_ATTRS: Dict[str, tr_functions.ArpesAttrs] = {}\n",
    "for file in tqdm(files):\n",
    "    data, kx, ky, energy = loading_functions.load_hdf5(ddir, file)\n",
    "    ARPES_DATA[file] = tr_functions.ArpesData(\n",
    "        data=data, theta=kx, phi_or_time=ky, energy=energy\n",
    "    )\n",
    "    ARPES_ATTRS[file] = tr_functions.load_attrs_hdf5(ddir, file)\n",
    "\n",
    "ad = ARPES_DATA[files[0]]"
   ]
  },
  {
   "cell_type": "code",
   "execution_count": null,
   "id": "2f0f316d-cd51-4853-a34e-2034578c99ba",
   "metadata": {
    "tags": []
   },
   "outputs": [],
   "source": [
    "ddir = r\"E:\\atully\\k-corrected data\\Apr_2021\\XUV_FS_gamma0\"\n",
    "files = []\n",
    "files = [f\"XUV_FS_gamma0_gkw11_filteredFFT_0.00int.h5\"]  # xuv diffraction FS\n",
    "\n",
    "ARPES_DATA: Dict[str, tr_functions.ArpesData] = {}\n",
    "ARPES_ATTRS: Dict[str, tr_functions.ArpesAttrs] = {}\n",
    "for file in tqdm(files):\n",
    "    data, kx, ky, energy = loading_functions.load_hdf5(ddir, file)\n",
    "    ARPES_DATA[file] = tr_functions.ArpesData(\n",
    "        data=data, theta=kx, phi_or_time=ky, energy=energy\n",
    "    )\n",
    "    ARPES_ATTRS[file] = tr_functions.load_attrs_hdf5(ddir, file)\n",
    "\n",
    "ad = ARPES_DATA[files[0]]"
   ]
  },
  {
   "cell_type": "code",
   "execution_count": null,
   "id": "f9602193-25cf-4415-a472-9cf685c03735",
   "metadata": {
    "tags": []
   },
   "outputs": [],
   "source": [
    "## Integrate over desired angular range ##\n",
    "\n",
    "slice_dim = \"z\"\n",
    "slice_val = -0.36  # C60\n",
    "# slice_val = -0.72  # Au\n",
    "slice_val = -1.08  # Au bottom (comp for left side of cone?)\n",
    "# slice_val = -0.25  # Au for hv=25 comp\n",
    "int_range = 0.1  # if this value is more that the integration range, my get_2D_slice function will just integrate over the max range.\n",
    "\n",
    "# Au\n",
    "xlim = (-1.2, -0.25)\n",
    "ylim = (15.95, 16.8)\n",
    "\n",
    "xlim = (-0.6, 0.6)\n",
    "ylim = (15.95, 16.8)\n",
    "\n",
    "# XUV 1 ML\n",
    "# xlim = (-0.6, 0.5)\n",
    "# ylim = (17.55, 18.3)\n",
    "\n",
    "# xlim = None\n",
    "# ylim = None\n",
    "x_bin = 1\n",
    "y_bin = 1"
   ]
  },
  {
   "cell_type": "code",
   "execution_count": null,
   "id": "daedb70f-e8bc-4e8c-9a2e-c9d7e4a9b477",
   "metadata": {
    "tags": []
   },
   "outputs": [],
   "source": [
    "x, y, d = tr_functions.slice_datacube(\n",
    "    ad_dataclass=ad,\n",
    "    slice_dim=slice_dim,\n",
    "    slice_val=slice_val,\n",
    "    int_range=int_range,\n",
    "    xlim=xlim,\n",
    "    # ylim=(\n",
    "    #     ad.energy[57],\n",
    "    #     ad.energy[1007],\n",
    "    # ),  # get rid of zero padding on datasets\n",
    "    ylim=ylim,\n",
    "    x_bin=x_bin,\n",
    "    y_bin=y_bin,\n",
    "    norm_data=False,\n",
    "    plot_data=False,\n",
    ")\n",
    "\n",
    "# x_au, y_au, d_au = x, y, d\n",
    "x_au_bottom, y_au_bottom, d_au_bottom = x, y, d\n",
    "# x_xuv, y_xuv, d_xuv = x, y, d"
   ]
  },
  {
   "cell_type": "code",
   "execution_count": null,
   "id": "e2ec3411-533d-4e2b-aeee-da9f3cb32703",
   "metadata": {
    "tags": []
   },
   "outputs": [],
   "source": [
    "title = f\"k<sub>y</sub> = {slice_val} {angstrom}<sup>-1</sup>\""
   ]
  },
  {
   "cell_type": "code",
   "execution_count": null,
   "id": "4f720531-3685-45c9-a6b8-5cfa7064f385",
   "metadata": {
    "tags": []
   },
   "outputs": [],
   "source": [
    "# x_plot, y_plot, d_plot = x_au, y_au - 16.8, d_au\n",
    "x_plot, y_plot, d_plot = x_au_bottom, y_au_bottom - 16.8, d_au_bottom\n",
    "# x_plot, y_plot, d_plot = x_xuv, y_xuv - 18.3, d_xuv\n",
    "\n",
    "fig = tr_functions.thesis_fig(\n",
    "    title=title,\n",
    "    xaxis_title=xaxis_title,\n",
    "    # yaxis_title=yaxis_title,\n",
    "    yaxis_title=\"E - E<sub>F</sub> (eV)\",\n",
    "    equiv_axes=False,\n",
    "    height=500,\n",
    "    width=500,\n",
    "    dtick_y=0.2,\n",
    ")\n",
    "\n",
    "fig.add_trace(\n",
    "    go.Heatmap(\n",
    "        x=x_plot,\n",
    "        y=y_plot,\n",
    "        z=analysis_functions.norm_data(d_plot),\n",
    "        coloraxis=\"coloraxis\",\n",
    "    )\n",
    ")\n",
    "\n",
    "fig.update_coloraxes(cmin=0.0, cmax=0.3)\n",
    "\n",
    "fig.update_coloraxes(colorscale=\"Blues\", reversescale=False)\n",
    "fig.update_layout(\n",
    "    yaxis_range=(min(y_plot), max(y_plot)), xaxis_range=(min(x_plot), max(x_plot))\n",
    ")\n",
    "# fig.update_layout(\n",
    "#     yaxis_range=(min(y_plot), max(y_plot)), xaxis_range=(min(x_plot), -0.2)\n",
    "# )\n",
    "\n",
    "fig.show()"
   ]
  },
  {
   "cell_type": "code",
   "execution_count": null,
   "id": "1f471588-730a-4219-a8fd-f106a06eb17c",
   "metadata": {
    "tags": []
   },
   "outputs": [],
   "source": [
    "slice_dim = \"y\"\n",
    "# v = 18.3 - 0.1\n",
    "v = 18.38 - 0.5  # 0.1, 0.3, 0.5\n",
    "int_range = 0.2\n",
    "xlim = (-0.73, 0.52)\n",
    "ylim = (-1.4, 0.1)\n",
    "# ylim = None\n",
    "x_bin = 1\n",
    "y_bin = 1\n",
    "\n",
    "\n",
    "# Get Slice\n",
    "\n",
    "x, y, d = tr_functions.slice_datacube(\n",
    "    ad_dataclass=ad,\n",
    "    slice_dim=slice_dim,\n",
    "    slice_val=v,\n",
    "    int_range=int_range,\n",
    "    xlim=xlim,\n",
    "    ylim=ylim,\n",
    "    x_bin=x_bin,\n",
    "    y_bin=y_bin,\n",
    "    norm_data=False,\n",
    "    plot_data=False,\n",
    ")\n",
    "\n",
    "## Plot Data Plotly\n",
    "fig = tr_functions.thesis_fig(\n",
    "    title=f\"E<sub>F</sub>\",\n",
    "    xaxis_title=xaxis_title,\n",
    "    yaxis_title=f\"k<sub>y</sub> ({angstrom}<sup>-1</sup>)\",\n",
    "    equiv_axes=True,\n",
    "    height=500,\n",
    "    width=500,\n",
    "    dtick_y=0.4,\n",
    "    dtick_x=0.4,\n",
    ")\n",
    "\n",
    "fig.add_trace(go.Heatmap(x=x, y=y, z=d, coloraxis=\"coloraxis\"))\n",
    "\n",
    "# yval = -0.36\n",
    "# fig.add_shape(\n",
    "#     go.layout.Shape(\n",
    "#         type=\"line\",\n",
    "#         x0=-0.5,\n",
    "#         x1=0.5,\n",
    "#         y0=yval,\n",
    "#         y1=yval,\n",
    "#         line=dict(color=\"grey\", dash=\"dash\", width=2),\n",
    "#     )\n",
    "# )\n",
    "\n",
    "# fig.update_yaxes(scaleanchor=\"x\", scaleratio=1)\n",
    "\n",
    "if xlim is not None:\n",
    "    fig.update_xaxes(range=[xlim[0], xlim[1]], constrain=\"domain\")\n",
    "\n",
    "\n",
    "# fig.update_coloraxes(cmin=0, cmax=1)\n",
    "fig.update_coloraxes(colorscale=\"Blues\", reversescale=False)\n",
    "fig.show()"
   ]
  },
  {
   "cell_type": "markdown",
   "id": "ffa3c098-973a-4be4-887a-368680305be1",
   "metadata": {},
   "source": [
    "# Fit Denoised Data"
   ]
  },
  {
   "cell_type": "code",
   "execution_count": null,
   "id": "d920c5d8-5462-4ad9-9c71-819719fe4903",
   "metadata": {
    "tags": []
   },
   "outputs": [],
   "source": [
    "def load_denoised_data(file_path: str, filename: str):\n",
    "    data_path = os.path.join(file_path, filename)\n",
    "    df = pd.read_csv(data_path, skiprows=3, header=None, sep=\"\\s+\", skipfooter=2)\n",
    "    data = np.array(df).T\n",
    "    with open(data_path, \"r\") as f:\n",
    "        lines = f.readlines()\n",
    "    last = lines[-1]\n",
    "\n",
    "    x_start, x_step = [\n",
    "        float(v) for v in re.search(\"x\\s*(-?\\d*.\\d+),\\s*(-?\\d+.\\d+)\", last).groups()\n",
    "    ]\n",
    "    y_start, y_step = [\n",
    "        float(v) for v in re.search(\"y\\s*(-?\\d*.\\d+),\\s*(-?\\d+.\\d+)\", last).groups()\n",
    "    ]\n",
    "\n",
    "    x = np.linspace(x_start, x_start + data.shape[1] * x_step, data.shape[1])\n",
    "    y = np.linspace(y_start, y_start + data.shape[0] * y_step, data.shape[0])\n",
    "    return x, y, data"
   ]
  },
  {
   "cell_type": "code",
   "execution_count": null,
   "id": "258ea81e-d8a8-4972-97c4-1db543ae398e",
   "metadata": {
    "tags": []
   },
   "outputs": [],
   "source": [
    "def fit_partial_cone(\n",
    "    x,\n",
    "    y,\n",
    "    data,\n",
    "    xlim,\n",
    "    ylim,\n",
    "    centers=[0.25, 0.4],\n",
    "    num_peaks=2,\n",
    "    window=0.02,\n",
    "    steps=20,\n",
    "    offset_type=\"quadratic\",\n",
    "    plot=True,\n",
    "):\n",
    "    x_fit, y_fit, d_fit = analysis_functions.limit_dataset(\n",
    "        x, y, data, xlim=(xlim[0], xlim[1]), ylim=(ylim[0], ylim[1])\n",
    "    )\n",
    "\n",
    "    # fit top of cone\n",
    "    if num_peaks == 1:\n",
    "        fits = []\n",
    "        coords = []\n",
    "\n",
    "        for yval in np.linspace(ylim[0], ylim[1], steps):\n",
    "            row = analysis_functions.get_averaged_slice(\n",
    "                analysis_functions.get_horizontal_slice(d_fit, y_fit, yval, window),\n",
    "                axis=\"y\",\n",
    "            )\n",
    "\n",
    "            fit = fitting_functions.fit_lorentzian_data(\n",
    "                x=x_fit,\n",
    "                data=row,\n",
    "                num_peaks=num_peaks,\n",
    "                amplitudes=0.5,\n",
    "                centers=[centers[0]],\n",
    "                sigmas=0.05,\n",
    "                offset_type=offset_type,\n",
    "            )\n",
    "            fits.append(fit)\n",
    "            coords.extend(\n",
    "                [(fit.best_values[f\"i{i}_center\"], yval) for i in range(num_peaks)]\n",
    "            )\n",
    "        return coords\n",
    "\n",
    "    if num_peaks == 2:\n",
    "        fits1 = []\n",
    "        coords1 = []\n",
    "\n",
    "        for yval in np.linspace(ylim[0], ylim[1], steps):\n",
    "            row = analysis_functions.get_averaged_slice(\n",
    "                analysis_functions.get_horizontal_slice(d_fit, y_fit, yval, window),\n",
    "                axis=\"y\",\n",
    "            )\n",
    "            fit1 = fitting_functions.fit_lorentzian_data(\n",
    "                x=x_fit,\n",
    "                data=row,\n",
    "                num_peaks=num_peaks,\n",
    "                amplitudes=0.5,\n",
    "                centers=[centers[0], centers[1]],\n",
    "                sigmas=0.05,\n",
    "                offset_type=offset_type,\n",
    "            )\n",
    "            fits1.append(fit1)\n",
    "            coords1.extend(\n",
    "                [(fit1.best_values[f\"i{i}_center\"], yval) for i in range(num_peaks)]\n",
    "            )\n",
    "        return coords1\n",
    "\n",
    "    else:\n",
    "        return ValueError(f\"num_peaks is {num_peaks}; must be 1 or 2\")"
   ]
  },
  {
   "cell_type": "code",
   "execution_count": null,
   "id": "9c16e0c6-0b7b-4587-877b-5875faef6707",
   "metadata": {
    "tags": []
   },
   "outputs": [],
   "source": [
    "def compile_peaks(coords_top, coords_middle, coords_bottom):\n",
    "    x_line1, y_line1 = np.array([c[0] for c in coords_top]), np.array(\n",
    "        [c[1] for c in coords_top]\n",
    "    )\n",
    "\n",
    "    x_line2 = np.append(x_line1, np.array([c[0] for c in coords_middle]), axis=0)\n",
    "    x_line_all = np.append(x_line2, np.array([c[0] for c in coords_bottom]), axis=0)\n",
    "\n",
    "    y_line2 = np.append(y_line1, np.array([c[1] for c in coords_middle]), axis=0)\n",
    "    y_line_all = np.append(y_line2, np.array([c[1] for c in coords_bottom]), axis=0)\n",
    "\n",
    "    return x_line_all, y_line_all"
   ]
  },
  {
   "cell_type": "code",
   "execution_count": null,
   "id": "3f7c2444-e834-4a3b-8329-5c19d8d04b94",
   "metadata": {
    "tags": []
   },
   "outputs": [],
   "source": [
    "def fit_cone_lines(x_line, y_line, cone_center=None):\n",
    "    if cone_center is None:\n",
    "        cone_center = np.mean(x_line)\n",
    "    # Fits all data points (RIGHT SIDE OF CONE)\n",
    "    fit_line1 = fitting_functions.fit_linear_data(\n",
    "        x=x_line[np.where(x_line > cone_center)],\n",
    "        data=y_line[np.where(x_line > cone_center)],\n",
    "        num=1,\n",
    "        aes=1,\n",
    "        bes=1,\n",
    "        offset_type=None,\n",
    "    )\n",
    "\n",
    "    # Fits all data points (LEFT SIDE OF CONE)\n",
    "    fit_line2 = fitting_functions.fit_linear_data(\n",
    "        x=x_line[np.where(x_line < cone_center)],\n",
    "        data=y_line[np.where((x_line < cone_center))],\n",
    "        num=1,\n",
    "        aes=1,\n",
    "        bes=1,\n",
    "        offset_type=None,\n",
    "    )\n",
    "\n",
    "    return fit_line1, fit_line2"
   ]
  },
  {
   "cell_type": "code",
   "execution_count": null,
   "id": "4cdcc7c8-1524-4d15-9ec3-c5fe942e3bbe",
   "metadata": {
    "tags": []
   },
   "outputs": [],
   "source": [
    "import pandas as pd\n",
    "import re\n",
    "\n",
    "# Denoised Data\n",
    "fp_dn = r\"C:\\Users\\atully\\OneDrive\\Physics.UBC\\DAE\\XUV diffraction data\\xuv_ky=-0.36\"\n",
    "fn_dn = \"xuv_ky=-0.36_dn.itx\"\n",
    "\n",
    "x_dn, y_dn, data_dn = load_denoised_data(fp_dn, fn_dn)\n",
    "\n",
    "EF = 18.3\n",
    "y_dn = y_dn - EF\n",
    "\n",
    "d_dn = analysis_functions.norm_data(data_dn)"
   ]
  },
  {
   "cell_type": "code",
   "execution_count": null,
   "id": "571c6539-38eb-4e1e-aee8-ab88752cee14",
   "metadata": {
    "tags": []
   },
   "outputs": [],
   "source": [
    "fig = tr_functions.thesis_fig(\n",
    "    title=f\"{v} eV\",\n",
    "    xaxis_title=xaxis_title,\n",
    "    yaxis_title=yaxis_title,\n",
    "    equiv_axes=False,\n",
    "    height=500,\n",
    "    width=500,\n",
    "    dtick_y=0.4,\n",
    ")\n",
    "\n",
    "fig.add_trace(go.Heatmap(x=x_dn, y=y_dn, z=d_dn, coloraxis=\"coloraxis\"))\n",
    "\n",
    "fig.update_coloraxes(colorscale=\"Blues\", reversescale=False)\n",
    "fig.show()"
   ]
  },
  {
   "cell_type": "code",
   "execution_count": null,
   "id": "d090a001-7710-4109-ba2e-b164c4a606fd",
   "metadata": {
    "tags": []
   },
   "outputs": [],
   "source": [
    "xfit, yfit, datafit = x_dn, y_dn, data_dn\n",
    "\n",
    "coords_top = fit_partial_cone(\n",
    "    xfit,\n",
    "    yfit,\n",
    "    datafit,\n",
    "    xlim=(-0.4, 0.0),\n",
    "    ylim=(18.1 - EF, 18.2 - EF),\n",
    "    centers=[-0.2],\n",
    "    num_peaks=1,\n",
    "    window=0.05,\n",
    ")  # top of left cone\n",
    "coords_bottom = fit_partial_cone(\n",
    "    xfit,\n",
    "    yfit,\n",
    "    datafit,\n",
    "    xlim=(-0.38, 0.0),\n",
    "    ylim=(17.6 - EF, 17.7 - EF),\n",
    "    centers=[-0.25, -0.1],\n",
    "    num_peaks=2,\n",
    "    window=0.02,\n",
    ")  # bottom of left  cone\n",
    "coords_middle = fit_partial_cone(\n",
    "    xfit,\n",
    "    yfit,\n",
    "    datafit,\n",
    "    xlim=(-0.3, -0.07),\n",
    "    ylim=(17.7 - EF, 17.8 - EF),\n",
    "    centers=[-0.25, -0.1],\n",
    "    num_peaks=2,\n",
    "    window=0.02,\n",
    ")  # middle of left  cone\n",
    "\n",
    "x_line, y_line = compile_peaks(\n",
    "    coords_top, coords_middle, coords_bottom\n",
    ")  # compile coords of all peaks"
   ]
  },
  {
   "cell_type": "code",
   "execution_count": null,
   "id": "45cddf1f-803a-4069-b35b-f0669c9b6e6b",
   "metadata": {
    "tags": []
   },
   "outputs": [],
   "source": [
    "fit1, fit2 = fit_cone_lines(x_line, y_line)  # linear fits"
   ]
  },
  {
   "cell_type": "code",
   "execution_count": null,
   "id": "8a0fa2ad-ee54-4f3c-8ca2-f891463e36d3",
   "metadata": {
    "tags": []
   },
   "outputs": [],
   "source": [
    "def reflect_line(y, m, b, x_reflection):\n",
    "    # Create an array of x values\n",
    "    x = np.linspace(min(y), max(y), num=len(y))\n",
    "\n",
    "    # Calculate the y values for the original line\n",
    "    original_line = m * x + b\n",
    "\n",
    "    # Calculate the x values for the reflected line\n",
    "    reflected_x = 2 * x_reflection - x\n",
    "\n",
    "    # Combine the reflected x values with the original y values\n",
    "    reflected_line = m * reflected_x + b\n",
    "\n",
    "    return reflected_x, reflected_line"
   ]
  },
  {
   "cell_type": "code",
   "execution_count": null,
   "id": "481a3c21-b7fc-4505-9a7d-6e9e94f8a3a3",
   "metadata": {
    "tags": []
   },
   "outputs": [],
   "source": [
    "x_reflection = -0.21  # Replace with your desired reflection point\n",
    "m = fit1.params[\"i0_slope\"].value\n",
    "b = fit1.params[\"i0_intercept\"].value\n",
    "y = x_dn  # Example y values\n",
    "\n",
    "reflected_x, reflected_line = reflect_line(y, m, b, x_reflection)"
   ]
  },
  {
   "cell_type": "code",
   "execution_count": null,
   "id": "eb2f9c16-21ae-4e35-85a3-0f97217c8107",
   "metadata": {
    "tags": []
   },
   "outputs": [],
   "source": [
    "cone_center = np.mean(x_line)\n",
    "# Gets all data points (RIGHT SIDE OF CONE)\n",
    "coords_right_x = x_line[np.where(x_line > cone_center)]\n",
    "coords_right_y = y_line[np.where(x_line > cone_center)]"
   ]
  },
  {
   "cell_type": "code",
   "execution_count": null,
   "id": "4befa13a-ac45-48fc-9365-ee90a9a8461b",
   "metadata": {
    "tags": []
   },
   "outputs": [],
   "source": [
    "fig = tr_functions.thesis_fig(\n",
    "    title=title,\n",
    "    xaxis_title=xaxis_title,\n",
    "    yaxis_title=yaxis_title,\n",
    "    equiv_axes=False,\n",
    "    height=500,\n",
    "    width=500,\n",
    "    dtick_y=0.4,\n",
    "    showscale=False,\n",
    ")\n",
    "\n",
    "fig.add_trace(go.Heatmap(x=x_dn, y=y_dn, z=d_dn, coloraxis=\"coloraxis\"))\n",
    "\n",
    "fig.add_trace(\n",
    "    go.Scatter(\n",
    "        x=coords_right_x,\n",
    "        y=coords_right_y,\n",
    "        mode=\"markers\",\n",
    "        marker=dict(size=3, color=\"turquoise\")\n",
    "        # line=dict(color=\"hotpink\"),\n",
    "    )\n",
    ")\n",
    "\n",
    "fig.add_trace(\n",
    "    go.Scatter(x=x_dn, y=fit1.eval(x=x_dn), line=dict(color=\"purple\", dash=\"dash\"))\n",
    ")\n",
    "\n",
    "# fig.add_vline(x=-0.21, line=dict(color=\"grey\", dash=\"dot\"))\n",
    "\n",
    "fig.update_coloraxes(colorscale=\"Blues\", reversescale=False)\n",
    "fig.update_layout(yaxis_range=(min(y_dn), 0), xaxis_range=(min(x_dn), max(x_dn)))\n",
    "fig.show()"
   ]
  },
  {
   "cell_type": "code",
   "execution_count": null,
   "id": "f9307e2e-f0ec-4281-a7f2-37f14aa0cc58",
   "metadata": {
    "tags": []
   },
   "outputs": [],
   "source": [
    "x_plot, y_plot, d_plot = x_xuv, y_xuv - EF, d_xuv\n",
    "\n",
    "fig = tr_functions.thesis_fig(\n",
    "    title=title,\n",
    "    xaxis_title=xaxis_title,\n",
    "    # yaxis_title=yaxis_title,\n",
    "    yaxis_title=\"E - E<sub>F</sub> (eV)\",\n",
    "    equiv_axes=False,\n",
    "    height=500,\n",
    "    width=500,\n",
    "    dtick_y=0.4,\n",
    "    dtick_x=0.5,\n",
    ")\n",
    "\n",
    "fig.add_trace(\n",
    "    go.Heatmap(\n",
    "        x=x_plot,\n",
    "        y=y_plot,\n",
    "        z=analysis_functions.norm_data(d_plot),\n",
    "        coloraxis=\"coloraxis\",\n",
    "    )\n",
    ")\n",
    "\n",
    "## For After Fit\n",
    "\n",
    "fig.add_trace(\n",
    "    go.Scatter(x=x_plot, y=fit1.eval(x=x_plot), line=dict(color=\"purple\", dash=\"dash\"))\n",
    ")\n",
    "\n",
    "fig.update_coloraxes(cmin=0.0, cmax=0.5)\n",
    "\n",
    "fig.update_coloraxes(colorscale=\"Blues\", reversescale=False)\n",
    "fig.update_layout(\n",
    "    yaxis_range=(min(y_plot), max(y_plot)), xaxis_range=(-0.5, max(x_plot))\n",
    ")\n",
    "# fig.update_layout(\n",
    "#     yaxis_range=(min(y_plot), max(y_plot)), xaxis_range=(min(x_plot), -0.2)\n",
    "# )\n",
    "\n",
    "fig.show()"
   ]
  },
  {
   "cell_type": "code",
   "execution_count": null,
   "id": "3ed313a0-e130-4f00-8235-2abd6b2c62f0",
   "metadata": {
    "tags": []
   },
   "outputs": [],
   "source": [
    "x_plot, y_plot, d_plot = x_au, y_au - 16.8, d_au\n",
    "\n",
    "fig = tr_functions.thesis_fig(\n",
    "    title=f\"k<sub>y</sub> = -0.72 {angstrom}<sup>-1</sup>\",\n",
    "    xaxis_title=xaxis_title,\n",
    "    # yaxis_title=yaxis_title,\n",
    "    yaxis_title=\"E - E<sub>F</sub> (eV)\",\n",
    "    equiv_axes=False,\n",
    "    height=500,\n",
    "    width=500,\n",
    "    dtick_y=0.4,\n",
    "    dtick_x=0.5,\n",
    ")\n",
    "\n",
    "fig.add_trace(\n",
    "    go.Heatmap(\n",
    "        x=x_plot,\n",
    "        y=y_plot,\n",
    "        z=analysis_functions.norm_data(d_plot),\n",
    "        coloraxis=\"coloraxis\",\n",
    "    )\n",
    ")\n",
    "## For After Fit\n",
    "\n",
    "offset = -0.72 * 6.87\n",
    "\n",
    "fig.add_trace(\n",
    "    go.Scatter(\n",
    "        x=x_plot, y=fit1.eval(x=x_plot) + offset, line=dict(color=\"purple\", dash=\"dash\")\n",
    "    )\n",
    ")\n",
    "\n",
    "## expected EF value\n",
    "fig.add_trace(\n",
    "    go.Scatter(\n",
    "        x=[-0.83],\n",
    "        y=[0],  # 16.772 - 16.8\n",
    "        # name=\"fit\",\n",
    "        mode=\"markers\",\n",
    "        marker=dict(size=[20], color=\"grey\"),\n",
    "    )\n",
    ")\n",
    "\n",
    "\n",
    "fig.update_coloraxes(cmin=0.0, cmax=0.5)\n",
    "\n",
    "fig.update_coloraxes(colorscale=\"Blues\", reversescale=False)\n",
    "fig.update_layout(\n",
    "    yaxis_range=(-0.75, max(y_plot)), xaxis_range=(min(x_plot), max(x_plot))\n",
    ")\n",
    "# fig.update_layout(\n",
    "#     yaxis_range=(min(y_plot), max(y_plot)), xaxis_range=(min(x_plot), -0.2)\n",
    "# )\n",
    "\n",
    "fig.show()"
   ]
  },
  {
   "cell_type": "code",
   "execution_count": null,
   "id": "b1875d64-bb08-4a26-a9b7-3238e311a1f8",
   "metadata": {
    "tags": []
   },
   "outputs": [],
   "source": [
    "fit1"
   ]
  },
  {
   "cell_type": "code",
   "execution_count": null,
   "id": "86bc06a8-3ad1-4e9c-b952-808f338195cc",
   "metadata": {
    "tags": []
   },
   "outputs": [],
   "source": [
    "from lmfit.models import LinearModel\n",
    "\n",
    "model = LinearModel()\n",
    "fit1_werr = model.fit(coords_right_y, x=coords_right_x)\n",
    "\n",
    "fit1_werr.params[\"slope\"].value, fit.params[\"slope\"].stderr"
   ]
  },
  {
   "cell_type": "code",
   "execution_count": null,
   "id": "99cb6649-1d46-404a-a888-204d5e897546",
   "metadata": {
    "tags": []
   },
   "outputs": [],
   "source": [
    "fit1_werr"
   ]
  },
  {
   "cell_type": "code",
   "execution_count": null,
   "id": "73a2b529-6a7e-4df6-9da9-8aac0f732a36",
   "metadata": {},
   "outputs": [],
   "source": []
  }
 ],
 "metadata": {
  "kernelspec": {
   "display_name": "Python 3 (ipykernel)",
   "language": "python",
   "name": "python3"
  },
  "language_info": {
   "codemirror_mode": {
    "name": "ipython",
    "version": 3
   },
   "file_extension": ".py",
   "mimetype": "text/x-python",
   "name": "python",
   "nbconvert_exporter": "python",
   "pygments_lexer": "ipython3",
   "version": "3.8.12"
  }
 },
 "nbformat": 4,
 "nbformat_minor": 5
}
