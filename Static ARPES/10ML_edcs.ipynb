{
 "cells": [
  {
   "cell_type": "markdown",
   "id": "a9b6da58-2197-4d69-877c-e774a0982003",
   "metadata": {
    "tags": []
   },
   "source": [
    "## Imports and Functions"
   ]
  },
  {
   "cell_type": "code",
   "execution_count": null,
   "id": "932b4eac-4971-409a-b767-fc6775e27502",
   "metadata": {},
   "outputs": [],
   "source": [
    "%load_ext lab_black\n",
    "\n",
    "import h5py\n",
    "import os\n",
    "import numpy as np\n",
    "from typing import Dict, List, Optional, Tuple\n",
    "\n",
    "from dataclasses import dataclass\n",
    "from tqdm.auto import tqdm\n",
    "from scipy.signal import savgol_filter\n",
    "from scipy.interpolate import interp2d\n",
    "from functools import lru_cache\n",
    "import lmfit as lm\n",
    "\n",
    "\n",
    "import plotly.graph_objects as go\n",
    "import plotly.colors as pc\n",
    "import matplotlib.pyplot as plt\n",
    "\n",
    "import sys\n",
    "\n",
    "sys.path.append(r\"C:\\Users\\atully\\Code\\GitHub\\ARPES Code\\arpes-code-python\")\n",
    "from arpes_functions import (\n",
    "    fitting_functions,\n",
    "    analysis_functions,\n",
    "    plotting_functions,\n",
    "    HDF5_loader,\n",
    "    misc_functions,\n",
    "    filter_functions,\n",
    "    tr_functions,\n",
    "    loading_functions,\n",
    "    kw_data_loader,\n",
    "    cnn,\n",
    "    polygons,\n",
    ")\n",
    "\n",
    "\n",
    "colors = pc.qualitative.D3\n",
    "angstrom = \"\\u212B\"\n",
    "gamma = \"\\u0393\""
   ]
  },
  {
   "cell_type": "markdown",
   "id": "ab80f223-729f-414e-b55b-063d94563164",
   "metadata": {},
   "source": [
    "# Load Data"
   ]
  },
  {
   "cell_type": "code",
   "execution_count": null,
   "id": "3986dc6b-3148-415a-8f58-680d5446e52b",
   "metadata": {
    "tags": []
   },
   "outputs": [],
   "source": [
    "# ## 10 ML Film (XUV + Lamp) ##\n",
    "\n",
    "# ## Convert .ibw to .h5 ##\n",
    "# # ddir = r\"E:\\atully\\arpes_data\\2023_June\\C60\\ARPES\\Lamp\\Swept\"  # swept\n",
    "# ddir = r\"E:\\atully\\arpes_data\\2023_June\\C60\\ARPES\\Lamp\\Fixed\"  # fixed\n",
    "\n",
    "# # Convert ibw to hdf5\n",
    "# fn = r\"Img0_g_kw.ibw\"\n",
    "# HDF5_loader.ibw_to_hdf5(ddir, fn, export=True)\n",
    "\n",
    "# # Check conversion worked\n",
    "# data, theta, energy = HDF5_loader.load_hdf5(\n",
    "#     ddir, r\"Img0_g_kw.h5\"\n",
    "# )  # load data from hdf5\n",
    "# data.shape, theta.shape, energy.shape"
   ]
  },
  {
   "cell_type": "code",
   "execution_count": null,
   "id": "06e2b022-fb1d-47bd-8520-0f5b6eee28a1",
   "metadata": {
    "tags": []
   },
   "outputs": [],
   "source": [
    "## Load Data ##\n",
    "\n",
    "ddir = r\"E:\\atully\\arpes_data\\2023_June\\C60\\ARPES\\Lamp\\Swept\"  # swept\n",
    "# file = r\"Img0_sweep_kw.h5\"\n",
    "file = r\"Img1_avg_g_kw.h5\"\n",
    "\n",
    "# ddir = r\"E:\\atully\\arpes_data\\2023_June\\C60\\ARPES\\Lamp\\Fixed\"  # fixed\n",
    "# file = r\"Img0_g_kw.h5\"  # lamp band structure\n",
    "\n",
    "# data1, kx1, energy1 = loading_functions.load_hdf5(ddir, file)\n",
    "data2, kx2, energy2 = loading_functions.load_hdf5(ddir, file)"
   ]
  },
  {
   "cell_type": "code",
   "execution_count": null,
   "id": "4a159471-549b-4fdf-ba8c-b8fc2806ecbf",
   "metadata": {
    "tags": []
   },
   "outputs": [],
   "source": [
    "xaxis_title = f\"k<sub>x</sub> ({angstrom}<sup>-1</sup>)\"\n",
    "yaxis_title = f\"E<sub>K</sub> (eV)\"\n",
    "# title = f\"\""
   ]
  },
  {
   "cell_type": "code",
   "execution_count": null,
   "id": "b2c96c24-852f-4098-a767-61e25ea682af",
   "metadata": {
    "tags": []
   },
   "outputs": [],
   "source": [
    "## Plot Data ##\n",
    "\n",
    "x, y, data = kx1, energy1, (data1 + data2)\n",
    "# x, y, data = kx2, energy2, data2\n",
    "\n",
    "fig = tr_functions.thesis_fig(\n",
    "    title=f\"{file}\",\n",
    "    xaxis_title=xaxis_title,\n",
    "    yaxis_title=yaxis_title,\n",
    "    equiv_axes=False,\n",
    ")\n",
    "\n",
    "fig.add_trace(\n",
    "    go.Heatmap(x=x, y=y, z=analysis_functions.norm_data(data), coloraxis=\"coloraxis\")\n",
    ")\n",
    "\n",
    "fig.show()"
   ]
  },
  {
   "cell_type": "markdown",
   "id": "515bad54-6214-4b42-8288-9054b6f77c7e",
   "metadata": {
    "jp-MarkdownHeadingCollapsed": true,
    "tags": []
   },
   "source": [
    "## Fit for EF"
   ]
  },
  {
   "cell_type": "code",
   "execution_count": null,
   "id": "f9310061-5e33-479a-92f0-05f7783caf83",
   "metadata": {
    "tags": []
   },
   "outputs": [],
   "source": [
    "x, y, data = kx_5ml, energy_5ml, data_5ml\n",
    "\n",
    "# xuv\n",
    "xlim = (-0.5, 0.5)\n",
    "ylim = (17.5, 18.8)  # EF -- xuv\n",
    "\n",
    "# lamp\n",
    "xlim = (-0.73, 0.46)\n",
    "# ylim = (16.5, 17.5)  # EF -- lamp\n",
    "\n",
    "new_x, new_y, new_data = analysis_functions.limit_dataset(x, y, data, xlim, ylim)"
   ]
  },
  {
   "cell_type": "code",
   "execution_count": null,
   "id": "0953f348-5b98-4766-a014-1506298565b6",
   "metadata": {
    "tags": []
   },
   "outputs": [],
   "source": [
    "## Plot Data ##\n",
    "\n",
    "fig = tr_functions.thesis_fig(\n",
    "    title=f\"EDC of E<sub>F</sub>\",\n",
    "    xaxis_title=yaxis_title,\n",
    "    yaxis_title=\"Intensity (arb. u)\",\n",
    "    equiv_axes=False,\n",
    "    gridlines=False,\n",
    "    dtick_y=0.2,\n",
    ")\n",
    "\n",
    "y_1d, col = tr_functions.get_1d_x_slice(\n",
    "    x=new_x,\n",
    "    y=new_y,\n",
    "    data=analysis_functions.norm_data(new_data),\n",
    "    ylims=None,\n",
    "    x_range=None,\n",
    ")\n",
    "\n",
    "# Plot Data\n",
    "fig.add_trace(go.Scatter(x=y_1d, y=col, name=\"data\", line=dict(color=colors[0])))\n",
    "\n",
    "fig.show()"
   ]
  },
  {
   "cell_type": "code",
   "execution_count": null,
   "id": "ca5d68cb-cbb5-4205-95b4-1625fd7c83b3",
   "metadata": {
    "tags": []
   },
   "outputs": [],
   "source": [
    "## Fit FD ##\n",
    "import lmfit as lm\n",
    "\n",
    "T = 10  # measurement temp\n",
    "k_B = 8.617333e-5  # eV/K\n",
    "\n",
    "x = y_1d\n",
    "data = col\n",
    "\n",
    "offset_type = \"constant\"\n",
    "\n",
    "\n",
    "## FD\n",
    "def fermi_dirac(x, center, theta, amp):\n",
    "    arg = (x - center) / (2 * theta)  # x=E, center=mu, theta = k_B * T\n",
    "    return -amp / 2 * np.tanh(arg)\n",
    "\n",
    "\n",
    "## Offset\n",
    "c = np.mean(data)\n",
    "b = (data[-1] - data[0]) / (x[-1] - x[0])\n",
    "a = 0\n",
    "\n",
    "offset = fitting_functions.offset_model(offset_type, a, b, c)\n",
    "\n",
    "full_model = lm.models.Model(fermi_dirac) + offset\n",
    "\n",
    "params = full_model.make_params()\n",
    "\n",
    "# params[\"center\"].value = 18.3\n",
    "params[\"center\"].value = 16.9\n",
    "params[\"center\"].vary = True\n",
    "# params[\"center\"].min = 1.85\n",
    "# params[\"center\"].max = 1.95\n",
    "\n",
    "params[\"theta\"].value = k_B * T\n",
    "params[\"theta\"].vary = True\n",
    "\n",
    "\n",
    "for param in params:\n",
    "    params[param].value = np.float32(params[param].value)\n",
    "    params[param].min = np.float32(params[param].min)\n",
    "    params[param].max = np.float32(params[param].max)\n",
    "    # print(params[param].value.dtype)\n",
    "\n",
    "\n",
    "# fit = full_model.fit(data, x=x, params=params, nan_policy=\"propagate\")\n",
    "fit = full_model.fit(data.astype(np.float32), x=x.astype(np.float32), params=params)\n",
    "\n",
    "fit.plot()\n",
    "\n",
    "print(f\"EF: {fit.params['center'].value}\")"
   ]
  },
  {
   "cell_type": "markdown",
   "id": "5f9d7099-f73a-41fb-a0da-164c9f1e6101",
   "metadata": {},
   "source": [
    "## Fit for HOMO"
   ]
  },
  {
   "cell_type": "code",
   "execution_count": null,
   "id": "c08e697f-cd52-4707-a98e-e173b754d9a5",
   "metadata": {
    "tags": []
   },
   "outputs": [],
   "source": [
    "EF = 16.9  # lamp"
   ]
  },
  {
   "cell_type": "code",
   "execution_count": null,
   "id": "e9678741-93f5-4281-9b5b-ff10a2b0cfe3",
   "metadata": {
    "tags": []
   },
   "outputs": [],
   "source": [
    "xaxis_title = f\"k<sub>x</sub> ({angstrom}<sup>-1</sup>)\"\n",
    "yaxis_title = f\"E - E<sub>F</sub> (eV)\"\n",
    "# yaxis_title = f\"E<sub>K</sub> (eV)\"\n",
    "title = f\"{file}\"\n",
    "# title = f\"5ML C<sub>60</sub> Band Structure<br>(XUV)\"\n",
    "title = f\"10ML C<sub>60</sub> Band Structure<br>(He Lamp)\""
   ]
  },
  {
   "cell_type": "code",
   "execution_count": null,
   "id": "bf9b877d-73fe-4d5f-a0b3-5c6a11fa887f",
   "metadata": {
    "tags": []
   },
   "outputs": [],
   "source": [
    "x, y, data = kx1, energy1, (data1 + data2)\n",
    "\n",
    "xlim = (-0.45, 0.52)  # swept\n",
    "ylim = None  # for EDC\n",
    "\n",
    "## For fits\n",
    "# ylim = (12.67, 16.963)  # Ek -- lamp\n",
    "\n",
    "new_x, new_y, new_data = analysis_functions.limit_dataset(x, y, data, xlim, ylim)\n",
    "\n",
    "new_y = new_y - EF"
   ]
  },
  {
   "cell_type": "code",
   "execution_count": null,
   "id": "67ac668e-f2e9-408c-b5e4-7d2805a570eb",
   "metadata": {
    "tags": []
   },
   "outputs": [],
   "source": [
    "## Plot Data ##\n",
    "\n",
    "fig = tr_functions.thesis_fig(\n",
    "    title=title,\n",
    "    xaxis_title=xaxis_title,\n",
    "    yaxis_title=yaxis_title,\n",
    "    equiv_axes=False,\n",
    "    # height=500,  # xuv\n",
    "    height=800,  # lamp\n",
    "    width=600,\n",
    "    dtick_y=2,\n",
    "    dtick_x=0.2,\n",
    ")\n",
    "\n",
    "fig.add_trace(\n",
    "    go.Heatmap(\n",
    "        x=new_x,\n",
    "        y=new_y,\n",
    "        z=analysis_functions.norm_data(new_data),\n",
    "        coloraxis=\"coloraxis\",\n",
    "    )\n",
    ")\n",
    "\n",
    "fig.update_coloraxes(colorscale=\"Blues\", reversescale=False)\n",
    "fig.update_yaxes(range=(np.min(-8.8), np.max(new_y)))\n",
    "# fig.show(renderer=\"svg\")"
   ]
  },
  {
   "cell_type": "code",
   "execution_count": null,
   "id": "c9486da2-5780-4e86-ae45-b3852c0ab796",
   "metadata": {
    "tags": []
   },
   "outputs": [],
   "source": [
    "## Get and Plot 1D Data ##\n",
    "\n",
    "fig = tr_functions.thesis_fig(\n",
    "    # title=f\"EDC of C<sub>60</sub> HOMO and HOMO-1\",\n",
    "    # title=f\"1ML C<sub>60</sub> EDC (XUV)\",\n",
    "    title=f\"EDC\",\n",
    "    yaxis_title=yaxis_title,\n",
    "    xaxis_title=\"Intensity (arb. u)\",\n",
    "    equiv_axes=False,\n",
    "    gridlines=False,\n",
    "    # dtick_y=0.2,\n",
    "    # height=500,  # xuv\n",
    "    height=800,  # lamp\n",
    "    width=300,\n",
    ")\n",
    "\n",
    "y_1d, col = tr_functions.get_1d_x_slice(\n",
    "    x=new_x,\n",
    "    y=new_y,\n",
    "    data=analysis_functions.norm_data(new_data),\n",
    "    ylims=None,\n",
    "    x_range=None,\n",
    ")\n",
    "\n",
    "# Plot Data\n",
    "fig.add_trace(go.Scatter(x=col, y=y_1d, name=\"data\", line=dict(color=colors[0])))\n",
    "\n",
    "fig.update_yaxes(range=(-8.8, np.max(y_1d)))"
   ]
  },
  {
   "cell_type": "code",
   "execution_count": null,
   "id": "dba80b04-8636-43a3-99bc-dbede2d9e931",
   "metadata": {
    "tags": []
   },
   "outputs": [],
   "source": [
    "## Get and Plot 1D Data ##\n",
    "\n",
    "fig = tr_functions.thesis_fig(\n",
    "    # title=f\"5ML C<sub>60</sub> EDC (XUV)\",\n",
    "    title=f\"10ML C<sub>60</sub> EDC (He Lamp)\",\n",
    "    xaxis_title=yaxis_title,\n",
    "    yaxis_title=\"Intensity (arb. u)\",\n",
    "    equiv_axes=False,\n",
    "    gridlines=False,\n",
    "    dtick_y=0.2,\n",
    ")\n",
    "\n",
    "y_1d, col = tr_functions.get_1d_x_slice(\n",
    "    x=new_x,\n",
    "    y=new_y,\n",
    "    data=analysis_functions.norm_data(new_data),\n",
    "    ylims=(-4.44, 0.31),\n",
    "    x_range=None,\n",
    ")\n",
    "\n",
    "# Plot Data\n",
    "fig.add_trace(go.Scatter(x=y_1d, y=col, name=\"data\", line=dict(color=colors[0])))\n",
    "\n",
    "## For After Fit\n",
    "fig.add_trace(go.Scatter(x=y_1d, y=fit.eval(x=y_1d), name=\"fit\"))\n",
    "\n",
    "components = fit.eval_components(x=y_1d)\n",
    "for model_name, model_value in list(components.items())[0:2]:\n",
    "    fig.add_annotation(\n",
    "        x=fit.params[f\"{model_name}center\"].value,\n",
    "        y=fit.eval(x=fit.params[f\"{model_name}center\"].value) + 0.2,\n",
    "        # xref=\"x domain\",\n",
    "        # yref=\"y domain\",\n",
    "        # x=0.01,\n",
    "        # y=0.99,\n",
    "        showarrow=False,\n",
    "        # text=f'Peak center: {fit.params[f\"center\"].value:.2f} +/- {fit.params[f\"center\"].stderr:.4f} mm<br>FWHM: {tr_functions.mm_to_ps(tr_functions.sig_to_fwhm(fit.params[\"sigma\"].value)):.3f} +/- {tr_functions.mm_to_ps(tr_functions.sig_to_fwhm(fit.params[f\"sigma\"].stderr)):.4f} ps',\n",
    "        text=f'Peak center:<br>{fit.params[f\"{model_name}center\"].value:.2f} +/- {fit.params[f\"{model_name}center\"].stderr:.4f} eV<br><br>FWHM:<br>{fit.params[f\"{model_name}fwhm\"].value:.4f} +/- {fit.params[f\"{model_name}fwhm\"].stderr:.4f} eV',\n",
    "        font=dict(size=18),\n",
    "    )\n",
    "\n",
    "fig.show()"
   ]
  },
  {
   "cell_type": "code",
   "execution_count": null,
   "id": "ecd1f9cc-0ed2-45a7-bea2-8be4258f76a5",
   "metadata": {
    "tags": []
   },
   "outputs": [],
   "source": [
    "## Fit Data ##\n",
    "\n",
    "x = y_1d\n",
    "data = col\n",
    "\n",
    "offset_type = \"constant\"\n",
    "\n",
    "## Offset\n",
    "# c = np.mean(data)\n",
    "c = 0\n",
    "b = (data[-1] - data[0]) / (x[-1] - x[0])\n",
    "a = 0\n",
    "\n",
    "offset = fitting_functions.offset_model(offset_type, a, b, c)\n",
    "\n",
    "## Gaussian\n",
    "gauss1 = fitting_functions.make_gaussian(num=\"A_\", amplitude=1, center=-2, sigma=0.5)\n",
    "gauss2 = fitting_functions.make_gaussian(num=\"B_\", amplitude=1, center=-3.5, sigma=0.5)\n",
    "\n",
    "\n",
    "full_model = gauss1 + gauss2 + offset\n",
    "\n",
    "fit = full_model.fit(data, x=x)\n",
    "\n",
    "fit.plot()\n",
    "\n",
    "print(\"HOMO\")\n",
    "print(fit.params[\"iA__center\"])\n",
    "print(fit.params[\"iA__fwhm\"])\n",
    "print(\"HOMO-1\")\n",
    "print(fit.params[\"iB__center\"])\n",
    "print(fit.params[\"iB__fwhm\"])\n",
    "\n",
    "# fit.params"
   ]
  },
  {
   "cell_type": "code",
   "execution_count": null,
   "id": "15490f42-559a-4e59-91e8-bcaf6bbb9fd8",
   "metadata": {
    "tags": []
   },
   "outputs": [],
   "source": [
    "fit.params"
   ]
  },
  {
   "cell_type": "code",
   "execution_count": null,
   "id": "00f9329e-ec35-40ce-81f6-d3c2790d26f7",
   "metadata": {},
   "outputs": [],
   "source": []
  }
 ],
 "metadata": {
  "kernelspec": {
   "display_name": "Python 3 (ipykernel)",
   "language": "python",
   "name": "python3"
  },
  "language_info": {
   "codemirror_mode": {
    "name": "ipython",
    "version": 3
   },
   "file_extension": ".py",
   "mimetype": "text/x-python",
   "name": "python",
   "nbconvert_exporter": "python",
   "pygments_lexer": "ipython3",
   "version": "3.8.12"
  }
 },
 "nbformat": 4,
 "nbformat_minor": 5
}
