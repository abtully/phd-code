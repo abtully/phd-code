{
 "cells": [
  {
   "cell_type": "markdown",
   "id": "a9b6da58-2197-4d69-877c-e774a0982003",
   "metadata": {
    "tags": []
   },
   "source": [
    "## Imports and Functions"
   ]
  },
  {
   "cell_type": "code",
   "execution_count": null,
   "id": "932b4eac-4971-409a-b767-fc6775e27502",
   "metadata": {},
   "outputs": [],
   "source": [
    "%load_ext lab_black\n",
    "\n",
    "import h5py\n",
    "import os\n",
    "import numpy as np\n",
    "from typing import Dict, List, Optional, Tuple\n",
    "\n",
    "from dataclasses import dataclass\n",
    "from tqdm.auto import tqdm\n",
    "from scipy.signal import savgol_filter\n",
    "from scipy.interpolate import interp2d\n",
    "from functools import lru_cache\n",
    "import lmfit as lm\n",
    "\n",
    "\n",
    "import plotly.graph_objects as go\n",
    "import plotly.colors as pc\n",
    "import matplotlib.pyplot as plt\n",
    "\n",
    "\n",
    "import sys\n",
    "\n",
    "sys.path.append(r\"C:\\Users\\atully\\Code\\GitHub\\ARPES Code\\arpes-code-python\")\n",
    "from arpes_functions import (\n",
    "    fitting_functions,\n",
    "    analysis_functions,\n",
    "    plotting_functions,\n",
    "    HDF5_loader,\n",
    "    misc_functions,\n",
    "    filter_functions,\n",
    "    tr_functions,\n",
    "    loading_functions,\n",
    "    kw_data_loader,\n",
    "    cnn,\n",
    "    polygons,\n",
    ")\n",
    "\n",
    "colors = pc.qualitative.D3\n",
    "angstrom = \"\\u212B\"\n",
    "theta = \"\\u03B8\"\n",
    "phi = \"\\u03A6\""
   ]
  },
  {
   "cell_type": "code",
   "execution_count": null,
   "id": "97f30237-577f-4514-a6e6-4bc5c6fbdd47",
   "metadata": {},
   "outputs": [],
   "source": [
    "from igorwriter import IgorWave\n",
    "\n",
    "\n",
    "def hdf5_to_ibw(ddir, hdf5_filename, ibw_filename, overwrite=False):\n",
    "    \"\"\"Loads .h5 file, converts to .ibw using IgorWave.\"\"\"\n",
    "\n",
    "    hdf5_filepath = os.path.join(ddir, hdf5_filename)\n",
    "    ibw_filepath = os.path.join(ddir, ibw_filename)\n",
    "\n",
    "    if not overwrite and os.path.exists(ibw_filepath):\n",
    "        raise FileExistsError(\n",
    "            f\"{ibw_filepath} already exists and overwrite is set to False.\"\n",
    "        )\n",
    "\n",
    "    with h5py.File(hdf5_filepath, \"r\") as f:\n",
    "        data = f[\"data\"][()]\n",
    "        axes = []\n",
    "        axes_names = [\n",
    "            \"theta\",\n",
    "            \"energy\",\n",
    "            \"phi\",\n",
    "        ]  # Change these to match your axes labels\n",
    "        for name in axes_names:\n",
    "            axis = f[name][()]\n",
    "            axes.append(axis)\n",
    "\n",
    "    axis_start = [axis[0] for axis in axes]\n",
    "    axis_delta = [np.diff(axis[:2])[0] if axis.size > 1 else 0 for axis in axes]\n",
    "\n",
    "    wave = IgorWave(data, name=ibw_filename.split(\".\")[0])\n",
    "\n",
    "    for axis, start, delta, label in zip(\n",
    "        [\"x\", \"y\", \"z\"], axis_start, axis_delta, axes_names\n",
    "    ):\n",
    "        wave.set_dimscale(axis, start, delta, units=label)\n",
    "\n",
    "    wave.save(ibw_filepath, image=False)\n",
    "\n",
    "    return ibw_filepath"
   ]
  },
  {
   "cell_type": "code",
   "execution_count": null,
   "id": "24d85127-e315-4672-9242-b20091cf98fa",
   "metadata": {
    "tags": []
   },
   "outputs": [],
   "source": [
    "def generate_FFT_filtered_dataset(\n",
    "    theta, energy, phi, data, fp, fn, int_range=0.0, overwrite=False, new_fn=None\n",
    "):\n",
    "    new_fn = (\n",
    "        new_fn\n",
    "        if new_fn\n",
    "        else f\"{os.path.splitext(fn)[0]}_filteredFFT_{int_range:.2f}int.h5\"\n",
    "    )\n",
    "    new_fn = os.path.join(fp, new_fn)\n",
    "    if not overwrite and os.path.exists(new_fn):\n",
    "        raise FileExistsError(f\"{new_fn} already exists\")\n",
    "    new_data = []\n",
    "    for p in phi:\n",
    "        val = p\n",
    "        xaxis, yaxis, dataslice = analysis_functions.get_2Dslice(\n",
    "            x=theta,\n",
    "            y=energy,\n",
    "            z=phi,\n",
    "            data=data,\n",
    "            slice_dim=\"z\",\n",
    "            slice_val=val,\n",
    "            int_range=int_range,\n",
    "        )\n",
    "        fft_data = filter_functions.fft2d_mask(dataslice, plot=False)\n",
    "        new_data.append(fft_data)\n",
    "    new_data = np.array(new_data).T\n",
    "    with h5py.File(\n",
    "        new_fn, \"w\"\n",
    "    ) as f:  # Note: 'w' creates a new empty file (or overwrites), use 'r+' to modify an existing file\n",
    "        f[\"data\"] = new_data\n",
    "        axes_names = [\n",
    "            \"theta\",\n",
    "            \"energy\",\n",
    "            \"phi\",\n",
    "        ]  # Change these to match your axes labels\n",
    "        axes = [theta, energy, phi]\n",
    "        for axis, name in zip(axes, axes_names):\n",
    "            f[name] = axis\n",
    "    return new_fn"
   ]
  },
  {
   "cell_type": "code",
   "execution_count": null,
   "id": "a51f7a8b-1556-44f7-a7d0-fb1a043187ba",
   "metadata": {
    "tags": []
   },
   "outputs": [],
   "source": [
    "def generate_streak_corrected_dataset(\n",
    "    ad,\n",
    "    fp,\n",
    "    fn,\n",
    "    correction_array,\n",
    "    xlim=None,\n",
    "    ylim=None,\n",
    "    x_bin=1,\n",
    "    y_bin=1,\n",
    "    int_range=0.0,\n",
    "    overwrite=False,\n",
    "    new_fn=None,\n",
    "):\n",
    "    new_fn = (\n",
    "        new_fn\n",
    "        if new_fn\n",
    "        else f\"{os.path.splitext(fn)[0]}_streakCorrect_{int_range:.2f}int.h5\"\n",
    "    )\n",
    "    new_fn = os.path.join(fp, new_fn)\n",
    "    if not overwrite and os.path.exists(new_fn):\n",
    "        raise FileExistsError(f\"{new_fn} already exists\")\n",
    "    new_data = []\n",
    "    for p in ad.phi_or_time:\n",
    "        val = p\n",
    "        xaxis, yaxis, dataslice = tr_functions.slice_datacube(\n",
    "            ad,\n",
    "            slice_dim=\"z\",\n",
    "            slice_val=val,\n",
    "            int_range=int_range,\n",
    "            xlim=xlim,\n",
    "            ylim=ylim,\n",
    "            x_bin=x_bin,\n",
    "            y_bin=y_bin,\n",
    "            norm_data=False,\n",
    "            plot_data=False,\n",
    "        )\n",
    "        corrected_data = correction_array * dataslice\n",
    "        new_data.append(corrected_data)\n",
    "    new_data = np.array(new_data).T\n",
    "    with h5py.File(\n",
    "        new_fn, \"w\"\n",
    "    ) as f:  # Note: 'w' creates a new empty file (or overwrites), use 'r+' to modify an existing file\n",
    "        f[\"data\"] = new_data\n",
    "        axes_names = [\n",
    "            \"theta\",\n",
    "            \"energy\",\n",
    "            \"phi\",\n",
    "        ]  # Change these to match your axes labels\n",
    "        axes = [xaxis, yaxis, ad.phi_or_time]\n",
    "        for axis, name in zip(axes, axes_names):\n",
    "            f[name] = axis\n",
    "    return new_fn"
   ]
  },
  {
   "cell_type": "code",
   "execution_count": null,
   "id": "3280d49c-0932-469f-afbb-646e50eed3ae",
   "metadata": {
    "tags": []
   },
   "outputs": [],
   "source": [
    "def average_timescans(files, ddir, new_filename):\n",
    "    datas = []\n",
    "    for i in range(0, len(files)):\n",
    "        ad = ARPES_DATA[files[i]]\n",
    "        datas.append(ad.data)\n",
    "    data_avg = np.mean(datas, axis=0)\n",
    "    print(data_avg.shape)\n",
    "\n",
    "    new_data = data_avg\n",
    "\n",
    "    new_fn = os.path.join(ddir, new_filename)\n",
    "\n",
    "    with h5py.File(\n",
    "        new_fn, \"w\"\n",
    "    ) as f:  # Note: 'w' creates a new empty file (or overwrites), use 'r+' to modify an existing file\n",
    "        f[\"data\"] = new_data.T\n",
    "        axes_names = [\n",
    "            \"angles\",\n",
    "            \"energies\",\n",
    "        ]  # Change these to match your axes labels\n",
    "        axes = [ad.theta, ad.energy]\n",
    "        for axis, name in zip(axes, axes_names):\n",
    "            f[name] = np.atleast_2d(axis).T\n",
    "        entry_group = f.require_group(\"entry1\")\n",
    "        entry_group[\"ScanValues\"] = np.atleast_2d(ad.phi_or_time).T\n",
    "    return new_fn"
   ]
  },
  {
   "cell_type": "markdown",
   "id": "0b6b49c3-59db-42c4-9033-b6935f1a6c36",
   "metadata": {
    "tags": []
   },
   "source": [
    "# 5-6 ML Film (XUV): HOMO"
   ]
  },
  {
   "cell_type": "markdown",
   "id": "a0556aa0-6d5e-41d8-bbc2-090ce44cbac1",
   "metadata": {},
   "source": [
    "## Original raw averaged data"
   ]
  },
  {
   "cell_type": "code",
   "execution_count": null,
   "id": "cf4a91ee-0853-402b-8071-c249ff5a0165",
   "metadata": {
    "tags": []
   },
   "outputs": [],
   "source": [
    "# ## Convert .ibw to .h5 ##\n",
    "\n",
    "# ddir = r\"E:\\atully\\arpes_data\\2022_April\\ARPES\\C60\\averaged_data\"\n",
    "\n",
    "# # Convert ibw to hdf5\n",
    "# fn = r\"FS2andFS4_avg.ibw\"\n",
    "# HDF5_loader.ibw_to_hdf5(ddir, fn, export=True)\n",
    "\n",
    "# # Check conversion worked\n",
    "# data, theta, phi, energy = HDF5_loader.load_hdf5(\n",
    "#     ddir, r\"FS2andFS4_avg.h5\"\n",
    "# )  # load data from hdf5\n",
    "# data.shape, theta.shape, phi.shape, energy.shape"
   ]
  },
  {
   "cell_type": "code",
   "execution_count": null,
   "id": "ac4366a9-79f9-4a3a-8457-f5ff0d022ee5",
   "metadata": {
    "tags": []
   },
   "outputs": [],
   "source": [
    "# ## FFT filter dataset ##\n",
    "\n",
    "# # Load original dataset\n",
    "# fp = r\"E:\\atully\\arpes_data\\2022_April\\ARPES\\C60\\averaged_data\"\n",
    "# fn = r\"FS2andFS4_avg.h5\"\n",
    "# data, theta, phi, energy = HDF5_loader.load_hdf5(fp, fn)  # load data from hdf5\n",
    "\n",
    "# # Generate FFT filtered dataset\n",
    "# generate_FFT_filtered_dataset(\n",
    "#     theta=theta, energy=energy, phi=phi, data=data, fp=fp, fn=fn\n",
    "# )"
   ]
  },
  {
   "cell_type": "markdown",
   "id": "c7ebf8f6-49c3-4574-98b2-40e1563e81e6",
   "metadata": {},
   "source": [
    "## Average FS2 and FS4 again (to get rid of extra dataset error)"
   ]
  },
  {
   "cell_type": "code",
   "execution_count": null,
   "id": "138ae82d-fcd8-4ffa-b617-deec1d6d7855",
   "metadata": {
    "tags": []
   },
   "outputs": [],
   "source": [
    "# ## Load multiple datasets and average ##\n",
    "\n",
    "# ddir = r\"E:\\atully\\arpes_data\\2022_April\\ARPES\\C60\\FS2\"\n",
    "\n",
    "# files = [\n",
    "#     \"FS2_000_1.h5\",\n",
    "#     \"FS2_001_2.h5\",\n",
    "#     \"FS2_002_3.h5\",\n",
    "#     \"FS2_003_4.h5\",\n",
    "#     \"FS2_004_5.h5\",\n",
    "#     \"FS2_005_6.h5\",\n",
    "#     \"FS2_006_7.h5\",\n",
    "# ]\n",
    "\n",
    "# ## Old Way:\n",
    "# ## Load single dataset for axes info\n",
    "# # fn = r\"FS2_000_1.h5\"\n",
    "# # data, ss, cs, p = HDF5_loader.data_from_hdf_2022(fp, fn)\n",
    "# # data_avg = HDF5_loader.avg_array_from_hdfs(fp, fns)  # average data\n",
    "# # datat = np.swapaxes(data_avg, 2, 0)\n",
    "# ## Export averaged data to hdf5 file\n",
    "# # HDF5_loader.avg_data_hdf(\n",
    "# #     fp, \"FS2_ali_avg\", datat, p=p, slice_scale=ss, channel_scale=cs\n",
    "# # )\n",
    "\n",
    "# ## New Way:\n",
    "# ARPES_DATA: Dict[str, tr_functions.ArpesData] = {}\n",
    "# ARPES_ATTRS: Dict[str, tr_functions.ArpesAttrs] = {}\n",
    "# for file in tqdm(files):\n",
    "#     data, kx, ky, energy = loading_functions.load_hdf5(ddir, file)\n",
    "#     ARPES_DATA[file] = tr_functions.ArpesData(\n",
    "#         data=data, theta=kx, phi_or_time=ky, energy=energy\n",
    "#     )\n",
    "#     ARPES_ATTRS[file] = tr_functions.load_attrs_hdf5(ddir, file)\n",
    "\n",
    "# average_timescans(files, ddir, \"FS2_Ali_avg.h5\")"
   ]
  },
  {
   "cell_type": "code",
   "execution_count": null,
   "id": "3bca6948-8167-4a35-bacd-1776cc8a077c",
   "metadata": {
    "tags": []
   },
   "outputs": [],
   "source": [
    "# ## Load multiple datasets and average ##\n",
    "\n",
    "# ddir = r\"E:\\atully\\arpes_data\\2022_April\\ARPES\\C60\\FS4\"\n",
    "\n",
    "# files = [\n",
    "#     \"FS4_001_1.h5\",\n",
    "#     \"FS4_002_2.h5\",\n",
    "#     \"FS4_003_3.h5\",\n",
    "#     \"FS4_004_4.h5\",\n",
    "# ]\n",
    "\n",
    "# ## Old Way:\n",
    "# ## Load single dataset for axes info\n",
    "# # fn = r\"FS4_001_1.h5\"\n",
    "# # data, ss, cs, p = HDF5_loader.data_from_hdf_2022(fp, fn)\n",
    "# # data_avg = HDF5_loader.avg_array_from_hdfs(fp, fns)  # average data\n",
    "# # datat = np.swapaxes(data_avg, 2, 0)\n",
    "# ## Export averaged data to hdf5 file\n",
    "# # HDF5_loader.avg_data_hdf(\n",
    "# #     fp, \"FS4_ali_avg\", datat, p=p, slice_scale=ss, channel_scale=cs\n",
    "# # )\n",
    "\n",
    "# ## New Way:\n",
    "# ARPES_DATA: Dict[str, tr_functions.ArpesData] = {}\n",
    "# ARPES_ATTRS: Dict[str, tr_functions.ArpesAttrs] = {}\n",
    "# for file in tqdm(files):\n",
    "#     data, kx, ky, energy = loading_functions.load_hdf5(ddir, file)\n",
    "#     ARPES_DATA[file] = tr_functions.ArpesData(\n",
    "#         data=data, theta=kx, phi_or_time=ky, energy=energy\n",
    "#     )\n",
    "#     ARPES_ATTRS[file] = tr_functions.load_attrs_hdf5(ddir, file)\n",
    "\n",
    "# average_timescans(files, ddir, \"FS4_Ali_avg.h5\")"
   ]
  },
  {
   "cell_type": "code",
   "execution_count": null,
   "id": "6ef79cce-7809-4e4f-b34e-8da75a1a1c5a",
   "metadata": {
    "tags": []
   },
   "outputs": [],
   "source": [
    "# ## Average FS2_ali_avg and FS4_ali_avg ##\n",
    "\n",
    "# ddir = r\"E:\\atully\\arpes_data\\2022_April\\ARPES\\C60\\averaged_data\"\n",
    "\n",
    "# files = [\n",
    "#     \"FS2_ali_avg.h5\",\n",
    "#     \"FS4_ali_avg.h5\",\n",
    "# ]\n",
    "\n",
    "# ARPES_DATA: Dict[str, tr_functions.ArpesData] = {}\n",
    "# ARPES_ATTRS: Dict[str, tr_functions.ArpesAttrs] = {}\n",
    "# for file in tqdm(files):\n",
    "#     data, kx, ky, energy = loading_functions.load_hdf5(ddir, file)\n",
    "#     ARPES_DATA[file] = tr_functions.ArpesData(\n",
    "#         data=data, theta=kx, phi_or_time=ky, energy=energy\n",
    "#     )\n",
    "#     ARPES_ATTRS[file] = tr_functions.load_attrs_hdf5(ddir, file)\n",
    "\n",
    "# average_timescans(files, ddir, \"FS2andFS4_Ali_avg.h5\")"
   ]
  },
  {
   "cell_type": "code",
   "execution_count": null,
   "id": "b7dfdb45-e320-4ea4-b744-99bfb248779b",
   "metadata": {
    "tags": []
   },
   "outputs": [],
   "source": [
    "# ## FFT filter dataset ##\n",
    "\n",
    "# # Load original dataset\n",
    "# fp = r\"E:\\atully\\arpes_data\\2022_April\\ARPES\\C60\\averaged_data\"\n",
    "# fn = r\"FS2andFS4_ali_avg.h5\"\n",
    "# data, theta, phi, energy = HDF5_loader.load_hdf5(fp, fn)  # load data from hdf5\n",
    "\n",
    "# # Generate FFT filtered dataset\n",
    "# generate_FFT_filtered_dataset(\n",
    "#     theta=theta, energy=energy, phi=phi, data=data, fp=fp, fn=fn\n",
    "# )"
   ]
  },
  {
   "cell_type": "markdown",
   "id": "fa42ce1f-8263-4d9f-809d-f50173d4dcfa",
   "metadata": {},
   "source": [
    "## Load Data"
   ]
  },
  {
   "cell_type": "code",
   "execution_count": null,
   "id": "aa4d14c1-59cb-437b-be22-4c03ee6a4bfd",
   "metadata": {
    "tags": []
   },
   "outputs": [],
   "source": [
    "## Load averaged, FFT filtered ##\n",
    "\n",
    "ddir = r\"E:\\atully\\arpes_data\\2022_April\\ARPES\\C60\\averaged_data\"\n",
    "# files = [\"FS2andFS4_avg_filteredFFT_0.00int.h5\"]  # improperly averaged\n",
    "files = [\"FS2andFS4_ali_avg_filteredFFT_0.00int.h5\"]  # properly averaged\n",
    "\n",
    "# This works, but makes dataclass with theta and phi_or_time instead of kx and ky\n",
    "ARPES_DATA: Dict[str, tr_functions.ArpesData] = {}\n",
    "ARPES_ATTRS: Dict[str, tr_functions.ArpesAttrs] = {}\n",
    "for file in tqdm(files):\n",
    "    data, kx, ky, energy = loading_functions.load_hdf5(ddir, file)\n",
    "    ARPES_DATA[file] = tr_functions.ArpesData(\n",
    "        data=data, theta=kx, phi_or_time=ky, energy=energy\n",
    "    )\n",
    "    ARPES_ATTRS[file] = tr_functions.load_attrs_hdf5(ddir, file)"
   ]
  },
  {
   "cell_type": "code",
   "execution_count": null,
   "id": "e1fdf000-e45a-47f9-abfd-61e408a51bcf",
   "metadata": {
    "tags": []
   },
   "outputs": [],
   "source": [
    "ad = ARPES_DATA[files[0]]\n",
    "for k in [\"energy\", \"theta\", \"phi_or_time\"]:\n",
    "    print(f\"{k}.shape = {getattr(ad, k).shape}\")\n",
    "print(f\"Data.shape = {ad.data.shape}\")"
   ]
  },
  {
   "cell_type": "markdown",
   "id": "4eb82acd-819b-4223-b5a8-88a18e66f870",
   "metadata": {},
   "source": [
    "## Analysis"
   ]
  },
  {
   "cell_type": "code",
   "execution_count": null,
   "id": "776acb31-01ab-4db7-a35f-6b86129f4e32",
   "metadata": {
    "tags": []
   },
   "outputs": [],
   "source": [
    "## Initial params ##\n",
    "slice_dim = \"z\"\n",
    "EF = 18.48\n",
    "\n",
    "slice_val = 0\n",
    "int_range = 100\n",
    "\n",
    "x_bin = 1\n",
    "y_bin = 1\n",
    "\n",
    "# xlim = None\n",
    "xlim = (-21, 16.3)\n",
    "ylim = None"
   ]
  },
  {
   "cell_type": "code",
   "execution_count": null,
   "id": "46b2c267-6c08-4229-bbda-cf8f48a7a629",
   "metadata": {
    "tags": []
   },
   "outputs": [],
   "source": [
    "theta = \"\\u03B8\"\n",
    "phi = \"\\u03A6\"\n",
    "\n",
    "# title=f\"C<sub>60</sub> Band Structure (k<sub>x</sub> = {slice_val})\"\n",
    "# xaxis_title=f\"k<sub>y</sub> [{angstrom}<sup>-1</sup>]\"\n",
    "# yaxis_title=f\"E - E<sub>F</sub> [eV]\"\n",
    "\n",
    "title = f\"C<sub>60</sub> Band Structure (All {phi})\"\n",
    "xaxis_title = f\"{theta}\"\n",
    "yaxis_title = f\"E<sub>K</sub> [eV]\""
   ]
  },
  {
   "cell_type": "code",
   "execution_count": null,
   "id": "e4d5f007-2abf-44b1-be74-f40af4525b1f",
   "metadata": {
    "tags": []
   },
   "outputs": [],
   "source": [
    "## Get data\n",
    "x_2d, y_2d, d_2d = tr_functions.slice_datacube(\n",
    "    ad,\n",
    "    slice_dim,\n",
    "    slice_val,\n",
    "    int_range,\n",
    "    xlim,\n",
    "    ylim,\n",
    "    x_bin,\n",
    "    y_bin,\n",
    "    norm_data=False,\n",
    "    plot_data=False,\n",
    ")\n",
    "\n",
    "# Plot data\n",
    "fig = tr_functions.thesis_fig(\n",
    "    title=title,\n",
    "    xaxis_title=xaxis_title,\n",
    "    yaxis_title=yaxis_title,\n",
    "    gridlines=False,\n",
    "    equiv_axes=False,\n",
    ")\n",
    "\n",
    "fig.add_trace(\n",
    "    go.Heatmap(\n",
    "        x=x_2d, y=y_2d, z=analysis_functions.norm_data(d_2d), coloraxis=\"coloraxis\"\n",
    "    )\n",
    ")\n",
    "\n",
    "fig.update_coloraxes(cmin=0, cmax=0.2)\n",
    "\n",
    "fig.show()"
   ]
  },
  {
   "cell_type": "code",
   "execution_count": null,
   "id": "7e8462ff-bdd3-483b-91e7-49e44ed61d72",
   "metadata": {
    "tags": []
   },
   "outputs": [],
   "source": [
    "## Get and Plot 1D Data ##\n",
    "\n",
    "fig = tr_functions.thesis_fig(\n",
    "    title=f\"MDC of HOMO\",\n",
    "    xaxis_title=xaxis_title,\n",
    "    yaxis_title=\"Intensity [arb. u]\",\n",
    "    equiv_axes=False,\n",
    "    gridlines=False,\n",
    ")\n",
    "\n",
    "# y_1d, col = tr_functions.get_1d_x_slice(\n",
    "#     x=x_2d, y=y_2d, data=d_2d, ylims=(15.8, 17.1), x_range=None\n",
    "# )\n",
    "\n",
    "x_1d, row = tr_functions.get_1d_y_slice(\n",
    "    x=x_2d, y=y_2d, data=d_2d, xlims=None, y_range=None\n",
    ")\n",
    "\n",
    "# Plot Data\n",
    "fig.add_trace(\n",
    "    go.Scatter(\n",
    "        x=x_1d,\n",
    "        y=analysis_functions.norm_data(row),\n",
    "        name=\"data\",\n",
    "        line=dict(color=colors[0]),\n",
    "    )\n",
    ")\n",
    "\n",
    "fig.show()"
   ]
  },
  {
   "cell_type": "code",
   "execution_count": null,
   "id": "785e708d-b6e1-47be-b854-aa6807853faf",
   "metadata": {
    "tags": []
   },
   "outputs": [],
   "source": [
    "# Plot data\n",
    "fig = tr_functions.thesis_fig(\n",
    "    title=title,\n",
    "    xaxis_title=xaxis_title,\n",
    "    yaxis_title=yaxis_title,\n",
    "    gridlines=False,\n",
    "    equiv_axes=False,\n",
    ")\n",
    "\n",
    "fig.add_trace(\n",
    "    go.Heatmap(\n",
    "        x=x_2d, y=y_2d, z=analysis_functions.norm_data(d_2d), coloraxis=\"coloraxis\"\n",
    "    )\n",
    ")\n",
    "\n",
    "fig.update_coloraxes(cmin=0, cmax=0.2)\n",
    "\n",
    "fig.add_trace(\n",
    "    go.Scatter(\n",
    "        x=x_1d,\n",
    "        y=analysis_functions.norm_data(row) + 16,\n",
    "        name=\"MDC\",\n",
    "        line=dict(color=colors[1]),\n",
    "    )\n",
    ")\n",
    "\n",
    "fig.update_layout(\n",
    "    showlegend=True,\n",
    "    legend=dict(orientation=\"h\", yanchor=\"bottom\", y=0.9, xanchor=\"right\", x=0.98),\n",
    ")\n",
    "\n",
    "fig.show()"
   ]
  },
  {
   "cell_type": "code",
   "execution_count": null,
   "id": "e49d5e57-38f4-43d5-a5e2-1c9fe42172c4",
   "metadata": {
    "tags": []
   },
   "outputs": [],
   "source": [
    "## Fit Data ##\n",
    "\n",
    "x = x_1d\n",
    "data = row\n",
    "\n",
    "offset_type = \"constant\"\n",
    "\n",
    "## Offset\n",
    "# c = np.mean(data)\n",
    "c = 0\n",
    "b = (data[-1] - data[0]) / (x[-1] - x[0])\n",
    "a = 0\n",
    "\n",
    "offset = fitting_functions.offset_model(offset_type, a, b, c)\n",
    "\n",
    "## 4th order polynomial\n",
    "poly = lm.models.PolynomialModel(degree=4)\n",
    "\n",
    "full_model = poly + offset\n",
    "\n",
    "fit = full_model.fit(data, x=x)\n",
    "\n",
    "fit.plot()"
   ]
  },
  {
   "cell_type": "code",
   "execution_count": null,
   "id": "c858641c-3eae-4bdc-963d-6fbff3033ff1",
   "metadata": {},
   "outputs": [],
   "source": [
    "## Get and Plot 1D Data ##\n",
    "\n",
    "fig = tr_functions.thesis_fig(\n",
    "    title=f\"MDC of HOMO\",\n",
    "    xaxis_title=xaxis_title,\n",
    "    yaxis_title=\"Intensity [arb. u]\",\n",
    "    equiv_axes=False,\n",
    "    gridlines=False,\n",
    ")\n",
    "\n",
    "x_1d, row = tr_functions.get_1d_y_slice(\n",
    "    x=x_2d, y=y_2d, data=d_2d, xlims=None, y_range=None\n",
    ")\n",
    "\n",
    "# Plot Data\n",
    "fig.add_trace(\n",
    "    go.Scatter(\n",
    "        x=x_1d,\n",
    "        y=row,\n",
    "        name=\"data\",\n",
    "        line=dict(color=colors[0]),\n",
    "    )\n",
    ")\n",
    "\n",
    "fig.add_trace(go.Scatter(x=x_1d, y=fit.eval(x=x_1d), name=\"fit\"))\n",
    "\n",
    "fig.show()"
   ]
  },
  {
   "cell_type": "code",
   "execution_count": null,
   "id": "8f9dd8cb-52da-4889-95d6-400275910e44",
   "metadata": {
    "tags": []
   },
   "outputs": [],
   "source": [
    "## Generate Correction Ratio Array ##\n",
    "\n",
    "correction_ratio = fit.eval(x=x_1d) / row\n",
    "print(correction_ratio.shape, d_2d.shape)  # Output: (753,) (1064, 753)\n",
    "\n",
    "repeated_correction = np.tile(correction_ratio, (1064, 1))\n",
    "print(repeated_correction.shape)  # Output: (1064, 753)\n",
    "\n",
    "corrected_d_2d = repeated_correction * d_2d"
   ]
  },
  {
   "cell_type": "code",
   "execution_count": null,
   "id": "4d75b4a6-7d6a-448f-99cd-1265be9e1da6",
   "metadata": {
    "tags": []
   },
   "outputs": [],
   "source": [
    "## Check Equivalence in Array ##\n",
    "\n",
    "np.sum(\n",
    "    repeated_correction[0, :] == repeated_correction[1, :]\n",
    ")  # each of the 1064 rows is the same"
   ]
  },
  {
   "cell_type": "code",
   "execution_count": null,
   "id": "492913b0-3858-4cc2-9654-ca0a0245822b",
   "metadata": {
    "tags": []
   },
   "outputs": [],
   "source": [
    "# Plot data\n",
    "fig = tr_functions.thesis_fig(\n",
    "    title=title,\n",
    "    xaxis_title=xaxis_title,\n",
    "    yaxis_title=yaxis_title,\n",
    "    gridlines=False,\n",
    "    equiv_axes=False,\n",
    ")\n",
    "\n",
    "fig.add_trace(\n",
    "    go.Heatmap(\n",
    "        x=x_2d,\n",
    "        y=y_2d,\n",
    "        z=analysis_functions.norm_data(corrected_d_2d),\n",
    "        coloraxis=\"coloraxis\",\n",
    "    )\n",
    ")\n",
    "\n",
    "fig.update_coloraxes(cmin=0, cmax=0.2)\n",
    "\n",
    "fig.show()"
   ]
  },
  {
   "cell_type": "markdown",
   "id": "9ef8267b-18fd-4941-b561-29af0282d679",
   "metadata": {
    "tags": []
   },
   "source": [
    "## Generate Streak-Corrected Dataset"
   ]
  },
  {
   "cell_type": "code",
   "execution_count": null,
   "id": "9b26ed71-a5c8-4e62-aaf7-d2134d34a254",
   "metadata": {
    "tags": []
   },
   "outputs": [],
   "source": [
    "# fp = r\"E:\\atully\\arpes_data\\2022_April\\ARPES\\C60\\averaged_data\"\n",
    "# # fn = r\"FS2andFS4_avg_filteredFFT_0.00int.h5\"  # improperly averaged\n",
    "# fn = r\"FS2andFS4_ali_avg_filteredFFT_0.00int.h5\"  # properly averaged\n",
    "\n",
    "# xlim = (-21, 16.3)\n",
    "# ylim = None\n",
    "# generate_streak_corrected_dataset(\n",
    "#     ad, fp, fn, repeated_correction, xlim=xlim, ylim=ylim, overwrite=True\n",
    "# )"
   ]
  },
  {
   "cell_type": "markdown",
   "id": "dc945ac0-4139-497f-ac3c-d627b41fb6d8",
   "metadata": {},
   "source": [
    "## Load Streak-Corrected Data"
   ]
  },
  {
   "cell_type": "code",
   "execution_count": null,
   "id": "d0755718-9f57-4120-bcd9-d88ccbe3658b",
   "metadata": {
    "tags": []
   },
   "outputs": [],
   "source": [
    "## Load averaged, FFT filtered, streak corrected data ##\n",
    "\n",
    "ddir = r\"E:\\atully\\arpes_data\\2022_April\\ARPES\\C60\\averaged_data\"\n",
    "# files = [\"FS2andFS4_avg_filteredFFT_0.00int_streakCorrect_0.00int.h5\"]  # improperly averaged\n",
    "files = [\n",
    "    \"FS2andFS4_ali_avg_filteredFFT_0.00int_streakCorrect_0.00int.h5\"\n",
    "]  # properly averaged\n",
    "\n",
    "# This works, but makes dataclass with theta and phi_or_time instead of kx and ky\n",
    "ARPES_DATA: Dict[str, tr_functions.ArpesData] = {}\n",
    "ARPES_ATTRS: Dict[str, tr_functions.ArpesAttrs] = {}\n",
    "for file in tqdm(files):\n",
    "    data, kx, ky, energy = loading_functions.load_hdf5(ddir, file)\n",
    "    ARPES_DATA[file] = tr_functions.ArpesData(\n",
    "        data=data, theta=kx, phi_or_time=ky, energy=energy\n",
    "    )\n",
    "    ARPES_ATTRS[file] = tr_functions.load_attrs_hdf5(ddir, file)"
   ]
  },
  {
   "cell_type": "code",
   "execution_count": null,
   "id": "1ad21e8d-cc9a-4859-ba24-3dd460829886",
   "metadata": {
    "tags": []
   },
   "outputs": [],
   "source": [
    "ad_corrected = ARPES_DATA[files[0]]\n",
    "for k in [\"energy\", \"theta\", \"phi_or_time\"]:\n",
    "    print(f\"{k}.shape = {getattr(ad_corrected, k).shape}\")\n",
    "print(f\"Data.shape = {ad_corrected.data.shape}\")"
   ]
  },
  {
   "cell_type": "markdown",
   "id": "da3983ea-7374-4f4b-8bbb-4cb4361df333",
   "metadata": {},
   "source": [
    "## Analysis"
   ]
  },
  {
   "cell_type": "code",
   "execution_count": null,
   "id": "28db8a26-31cd-46dd-a488-31ba10d047a0",
   "metadata": {
    "tags": []
   },
   "outputs": [],
   "source": [
    "## Initial params ##\n",
    "slice_dim = \"z\"\n",
    "EF = 18.48\n",
    "\n",
    "slice_val = 0\n",
    "int_range = 0.1\n",
    "\n",
    "x_bin = 1\n",
    "y_bin = 1\n",
    "\n",
    "xlim = None\n",
    "# xlim = (-21, 16.3)\n",
    "ylim = None"
   ]
  },
  {
   "cell_type": "code",
   "execution_count": null,
   "id": "d67f7203-6935-4b38-b4d0-a21ef7acd287",
   "metadata": {
    "tags": []
   },
   "outputs": [],
   "source": [
    "theta = \"\\u03B8\"\n",
    "phi = \"\\u03A6\"\n",
    "\n",
    "title = f\"C<sub>60</sub> Band Structure ({phi} = {slice_val})\"\n",
    "xaxis_title = f\"{theta}\"\n",
    "yaxis_title = f\"E<sub>K</sub> [eV]\""
   ]
  },
  {
   "cell_type": "code",
   "execution_count": null,
   "id": "b5ef404b-e4c8-4a8d-9fd9-189cc85a258d",
   "metadata": {
    "tags": []
   },
   "outputs": [],
   "source": [
    "## Get data\n",
    "x_2d, y_2d, d_2d = tr_functions.slice_datacube(\n",
    "    ad_corrected,\n",
    "    slice_dim,\n",
    "    slice_val,\n",
    "    int_range,\n",
    "    xlim,\n",
    "    ylim,\n",
    "    x_bin,\n",
    "    y_bin,\n",
    "    norm_data=False,\n",
    "    plot_data=False,\n",
    ")\n",
    "\n",
    "# Plot data\n",
    "fig = tr_functions.thesis_fig(\n",
    "    title=title,\n",
    "    xaxis_title=xaxis_title,\n",
    "    yaxis_title=yaxis_title,\n",
    "    gridlines=False,\n",
    "    equiv_axes=False,\n",
    ")\n",
    "\n",
    "fig.add_trace(\n",
    "    go.Heatmap(\n",
    "        x=x_2d, y=y_2d, z=analysis_functions.norm_data(d_2d), coloraxis=\"coloraxis\"\n",
    "    )\n",
    ")\n",
    "\n",
    "fig.update_coloraxes(cmin=0, cmax=0.2)\n",
    "\n",
    "fig.show()"
   ]
  },
  {
   "cell_type": "markdown",
   "id": "120abab5-f72d-4b05-88b9-4f8a0ac97380",
   "metadata": {},
   "source": [
    "## FS Reconstruction"
   ]
  },
  {
   "cell_type": "code",
   "execution_count": null,
   "id": "be280e85-0a70-4339-a2ab-b271421bd3ce",
   "metadata": {
    "tags": []
   },
   "outputs": [],
   "source": [
    "## Initial params ##\n",
    "slice_dim = \"y\"\n",
    "EF = 18.48\n",
    "\n",
    "slice_val = 16.8\n",
    "# slice_val = 16.4\n",
    "# slice_val = 16.0\n",
    "\n",
    "int_range = 0.1\n",
    "\n",
    "x_bin = 1\n",
    "y_bin = 1"
   ]
  },
  {
   "cell_type": "code",
   "execution_count": null,
   "id": "df7d5598-2651-44f1-8806-f129002ac7f3",
   "metadata": {
    "tags": []
   },
   "outputs": [],
   "source": [
    "# title = f\"C<sub>60</sub> HOMO ({slice_val} eV)\"\n",
    "# yaxis_title = f\"k<sub>y</sub> [{angstrom}<sup>-1</sup>]\"\n",
    "# xaxis_title = f\"k<sub>x</sub> [{angstrom}<sup>-1</sup>]\"\n",
    "\n",
    "title = f\"C<sub>60</sub> HOMO ({slice_val} eV)\"\n",
    "yaxis_title = f\"{phi}\"\n",
    "xaxis_title = f\"{theta}\""
   ]
  },
  {
   "cell_type": "code",
   "execution_count": null,
   "id": "87a09d72-0aca-49a6-9ced-3ce9760a56a7",
   "metadata": {
    "tags": []
   },
   "outputs": [],
   "source": [
    "xlim = (-15, 15)\n",
    "ylim = None\n",
    "\n",
    "## Get original data\n",
    "x_2d, y_2d, d_2d = tr_functions.slice_datacube(\n",
    "    ad,\n",
    "    slice_dim,\n",
    "    slice_val,\n",
    "    int_range,\n",
    "    xlim,\n",
    "    ylim,\n",
    "    x_bin,\n",
    "    y_bin,\n",
    "    norm_data=True,\n",
    "    plot_data=False,\n",
    ")\n",
    "\n",
    "\n",
    "fig = tr_functions.thesis_fig(\n",
    "    title=title,\n",
    "    xaxis_title=xaxis_title,\n",
    "    yaxis_title=yaxis_title,\n",
    "    gridlines=False,\n",
    "    dtick_y=10,\n",
    "    height=600,\n",
    "    width=500,\n",
    ")\n",
    "\n",
    "## Plot Data\n",
    "fig.add_trace(\n",
    "    go.Heatmap(\n",
    "        x=x_2d, y=y_2d, z=analysis_functions.norm_data(d_2d), coloraxis=\"coloraxis\"\n",
    "    )\n",
    ")\n",
    "\n",
    "\n",
    "# hexagon = polygons.gen_polygon(6, 0.42, translation=(0, -0.375 * 2), rotation=30)\n",
    "# fig = polygons.plot_polygon(\n",
    "#     hexagon, color=\"yellow\", fig=fig, show=False, dash=True, dash_width=3\n",
    "# )\n",
    "\n",
    "if xlim is not None:\n",
    "    fig.update_xaxes(range=[xlim[0], xlim[1]], constrain=\"domain\")\n",
    "\n",
    "fig.update_coloraxes(colorscale=\"Blues\", reversescale=False)\n",
    "\n",
    "fig.show()"
   ]
  },
  {
   "cell_type": "code",
   "execution_count": null,
   "id": "b8cd1943-b473-43a8-8fce-f2b21ffd9fff",
   "metadata": {
    "tags": []
   },
   "outputs": [],
   "source": [
    "## Limit Dataset ##\n",
    "\n",
    "## k-corrected\n",
    "# xlim = (-0.52, 0.52)\n",
    "# ylim = (-1.25, 0.15)\n",
    "\n",
    "## angle\n",
    "xlim = (-15, 15)\n",
    "ylim = None\n",
    "\n",
    "## Get data\n",
    "x_2d, y_2d, d_2d = tr_functions.slice_datacube(\n",
    "    ad_corrected,\n",
    "    slice_dim,\n",
    "    slice_val,\n",
    "    int_range,\n",
    "    xlim,\n",
    "    ylim,\n",
    "    x_bin,\n",
    "    y_bin,\n",
    "    norm_data=True,\n",
    "    plot_data=False,\n",
    ")\n",
    "\n",
    "\n",
    "fig = tr_functions.thesis_fig(\n",
    "    title=title,\n",
    "    xaxis_title=xaxis_title,\n",
    "    yaxis_title=yaxis_title,\n",
    "    gridlines=False,\n",
    "    dtick_y=10,\n",
    "    height=600,\n",
    "    width=500,\n",
    ")\n",
    "\n",
    "## Plot Data\n",
    "fig.add_trace(\n",
    "    go.Heatmap(\n",
    "        x=x_2d, y=y_2d, z=analysis_functions.norm_data(d_2d), coloraxis=\"coloraxis\"\n",
    "    )\n",
    ")\n",
    "\n",
    "\n",
    "# hexagon = polygons.gen_polygon(6, 0.42, translation=(0, -0.375 * 2), rotation=30)\n",
    "# fig = polygons.plot_polygon(\n",
    "#     hexagon, color=\"yellow\", fig=fig, show=False, dash=True, dash_width=3\n",
    "# )\n",
    "\n",
    "if xlim is not None:\n",
    "    fig.update_xaxes(range=[xlim[0], xlim[1]], constrain=\"domain\")\n",
    "\n",
    "fig.update_coloraxes(colorscale=\"Blues\", reversescale=False)\n",
    "\n",
    "fig.show()"
   ]
  },
  {
   "cell_type": "markdown",
   "id": "79844070-2d67-4814-83d4-5ad6f111d970",
   "metadata": {},
   "source": [
    "## Export FFT, Streak-Corrected Dataset to .ibw for k-correction"
   ]
  },
  {
   "cell_type": "code",
   "execution_count": null,
   "id": "ad46a719-584b-47b5-a16d-36c519ac0376",
   "metadata": {
    "tags": []
   },
   "outputs": [],
   "source": [
    "# ## Convert hdf5 to ibw ##\n",
    "\n",
    "# ddir = r\"E:\\atully\\arpes_data\\2022_April\\ARPES\\C60\\averaged_data\"\n",
    "# hdf5_file = \"FS2andFS4_ali_avg_filteredFFT_0.00int_streakCorrect_0.00int.h5\"\n",
    "# ibw_file = \"FS2andFS4_ali_avg_FFT_streakCorrect.ibw\"\n",
    "\n",
    "# hdf5_to_ibw(ddir, hdf5_file, ibw_file, overwrite=True)"
   ]
  },
  {
   "cell_type": "code",
   "execution_count": null,
   "id": "9dca0e12-bd15-4f51-bbda-a06a897ea56a",
   "metadata": {
    "tags": []
   },
   "outputs": [],
   "source": [
    "# ## Check this worked by converting ibw to hdf5 ##\n",
    "\n",
    "# ddir = r\"E:\\atully\\arpes_data\\2022_April\\ARPES\\C60\\averaged_data\"\n",
    "# fn = \"FS2andFS4_ali_avg_FFT_streakCorrect.ibw\"\n",
    "# HDF5_loader.ibw_to_hdf5(ddir, fn, export=True)"
   ]
  },
  {
   "cell_type": "code",
   "execution_count": null,
   "id": "fe065c10-1cb1-4224-bbbe-e72ce7c0295e",
   "metadata": {
    "tags": []
   },
   "outputs": [],
   "source": [
    "# files = [\"FS2andFS4_ali_avg_FFT_streakCorrect.h5\"]\n",
    "\n",
    "# ARPES_DATA: Dict[str, tr_functions.ArpesData] = {}\n",
    "# ARPES_ATTRS: Dict[str, tr_functions.ArpesAttrs] = {}\n",
    "# for file in tqdm(files):\n",
    "#     data, theta, phi_or_time, energy = loading_functions.load_hdf5(ddir, file)\n",
    "#     ARPES_DATA[file] = tr_functions.ArpesData(\n",
    "#         data=data, theta=theta, phi_or_time=phi_or_time, energy=energy\n",
    "#     )\n",
    "#     ARPES_ATTRS[file] = tr_functions.load_attrs_hdf5(ddir, file)"
   ]
  },
  {
   "cell_type": "code",
   "execution_count": null,
   "id": "22602aab-dcbd-44e9-b0ba-b4de440f613d",
   "metadata": {
    "tags": []
   },
   "outputs": [],
   "source": [
    "# ad_export = ARPES_DATA[files[0]]\n",
    "# for k in [\"energy\", \"theta\", \"phi_or_time\"]:\n",
    "#     print(f\"{k}.shape = {getattr(ad_export, k).shape}\")\n",
    "# print(f\"Data.shape = {ad_export.data.shape}\")"
   ]
  },
  {
   "cell_type": "markdown",
   "id": "6312ae5a-25b6-452d-bba6-53d800238aed",
   "metadata": {},
   "source": [
    "# 5-6 ML Film (XUV): HOMO-1"
   ]
  },
  {
   "cell_type": "code",
   "execution_count": null,
   "id": "07c444ef-eafb-426d-aedd-9f534c29e3f0",
   "metadata": {
    "tags": []
   },
   "outputs": [],
   "source": [
    "# ## Convert .ibw to .h5 ##\n",
    "\n",
    "# ddir = r\"E:\\atully\\arpes_data\\2022_April\\ARPES\\C60\\averaged_data\"\n",
    "\n",
    "# # Convert ibw to hdf5\n",
    "# fn = r\"FS3_avg.ibw\"\n",
    "# HDF5_loader.ibw_to_hdf5(ddir, fn, export=True)\n",
    "\n",
    "# # Check conversion worked\n",
    "# data, theta, phi, energy = HDF5_loader.load_hdf5(\n",
    "#     ddir, r\"FS3_avg.h5\"\n",
    "# )  # load data from hdf5\n",
    "# data.shape, theta.shape, phi.shape, energy.shape"
   ]
  },
  {
   "cell_type": "code",
   "execution_count": null,
   "id": "21fa328d-a95f-4f0c-a93b-764372b1d8b7",
   "metadata": {
    "tags": []
   },
   "outputs": [],
   "source": [
    "# ## FFT filter dataset ##\n",
    "\n",
    "# # Load original dataset\n",
    "# fp = r\"E:\\atully\\arpes_data\\2022_April\\ARPES\\C60\\averaged_data\"\n",
    "# fn = r\"FS3_avg.h5\"\n",
    "# data, theta, phi, energy = HDF5_loader.load_hdf5(fp, fn)  # load data from hdf5\n",
    "\n",
    "# # Generate FFT filtered dataset\n",
    "# generate_FFT_filtered_dataset(\n",
    "#     theta=theta, energy=energy, phi=phi, data=data, fp=fp, fn=fn\n",
    "# )"
   ]
  },
  {
   "cell_type": "markdown",
   "id": "0d8a9c3d-3722-49fa-a806-c8710a0ab696",
   "metadata": {},
   "source": [
    "## Load Data"
   ]
  },
  {
   "cell_type": "code",
   "execution_count": null,
   "id": "0a18d396-ad9f-4e15-acff-8c9024df89a0",
   "metadata": {
    "tags": []
   },
   "outputs": [],
   "source": [
    "## 5-6 ML Film (XUV): HOMO-1 ##\n",
    "\n",
    "ddir = r\"E:\\atully\\arpes_data\\2022_April\\ARPES\\C60\\averaged_data\"\n",
    "files = [\"FS3_avg_filteredFFT_0.00int.h5\"]\n",
    "\n",
    "ARPES_DATA: Dict[str, tr_functions.ArpesData] = {}\n",
    "ARPES_ATTRS: Dict[str, tr_functions.ArpesAttrs] = {}\n",
    "for file in tqdm(files):\n",
    "    data, theta, phi_or_time, energy = loading_functions.load_hdf5(ddir, file)\n",
    "    ARPES_DATA[file] = tr_functions.ArpesData(\n",
    "        data=data, theta=theta, phi_or_time=phi_or_time, energy=energy\n",
    "    )\n",
    "    ARPES_ATTRS[file] = tr_functions.load_attrs_hdf5(ddir, file)\n",
    "\n",
    "ad_homo1 = ARPES_DATA[files[0]]"
   ]
  },
  {
   "cell_type": "markdown",
   "id": "b3af7a0e-057b-449e-b43d-83d01681483e",
   "metadata": {},
   "source": [
    "## Analysis"
   ]
  },
  {
   "cell_type": "code",
   "execution_count": null,
   "id": "d9e4340a-9b68-4d05-b272-a70658037cc3",
   "metadata": {
    "tags": []
   },
   "outputs": [],
   "source": [
    "## Initial params ##\n",
    "slice_dim = \"z\"\n",
    "EF = 18.48\n",
    "\n",
    "slice_val = 0\n",
    "int_range = 100\n",
    "\n",
    "x_bin = 1\n",
    "y_bin = 1\n",
    "\n",
    "# xlim = None\n",
    "xlim = (-21, 16.3)\n",
    "ylim = None"
   ]
  },
  {
   "cell_type": "code",
   "execution_count": null,
   "id": "843706bb-305b-4718-898d-b076e85d221b",
   "metadata": {
    "tags": []
   },
   "outputs": [],
   "source": [
    "# title=f\"C<sub>60</sub> Band Structure (k<sub>x</sub> = {slice_val})\"\n",
    "# xaxis_title=f\"k<sub>y</sub> [{angstrom}<sup>-1</sup>]\"\n",
    "# yaxis_title=f\"E - E<sub>F</sub> [eV]\"\n",
    "\n",
    "title = f\"C<sub>60</sub> Band Structure (All {phi})\"\n",
    "xaxis_title = f\"{theta}\"\n",
    "yaxis_title = f\"E<sub>K</sub> [eV]\""
   ]
  },
  {
   "cell_type": "code",
   "execution_count": null,
   "id": "89616f20-5289-4aed-a501-e937330a34ba",
   "metadata": {
    "tags": []
   },
   "outputs": [],
   "source": [
    "## Get data\n",
    "x_2d, y_2d, d_2d = tr_functions.slice_datacube(\n",
    "    ad_homo1,\n",
    "    slice_dim,\n",
    "    slice_val,\n",
    "    int_range,\n",
    "    xlim,\n",
    "    ylim,\n",
    "    x_bin,\n",
    "    y_bin,\n",
    "    norm_data=False,\n",
    "    plot_data=False,\n",
    ")\n",
    "\n",
    "# Plot data\n",
    "fig = tr_functions.thesis_fig(\n",
    "    title=title,\n",
    "    xaxis_title=xaxis_title,\n",
    "    yaxis_title=yaxis_title,\n",
    "    gridlines=False,\n",
    "    equiv_axes=False,\n",
    ")\n",
    "\n",
    "fig.add_trace(\n",
    "    go.Heatmap(\n",
    "        x=x_2d, y=y_2d, z=analysis_functions.norm_data(d_2d), coloraxis=\"coloraxis\"\n",
    "    )\n",
    ")\n",
    "\n",
    "fig.update_coloraxes(cmin=0, cmax=0.2)\n",
    "\n",
    "fig.show()"
   ]
  },
  {
   "cell_type": "code",
   "execution_count": null,
   "id": "3ddb62db-d492-480f-9b32-614e4f6747de",
   "metadata": {
    "tags": []
   },
   "outputs": [],
   "source": [
    "## Get and Plot 1D Data ##\n",
    "\n",
    "fig = tr_functions.thesis_fig(\n",
    "    title=f\"MDC of HOMO-1\",\n",
    "    xaxis_title=xaxis_title,\n",
    "    yaxis_title=\"Intensity [arb. u]\",\n",
    "    equiv_axes=False,\n",
    "    gridlines=False,\n",
    ")\n",
    "\n",
    "# y_1d, col = tr_functions.get_1d_x_slice(\n",
    "#     x=x_2d, y=y_2d, data=d_2d, ylims=(15.8, 17.1), x_range=None\n",
    "# )\n",
    "\n",
    "x_1d, row = tr_functions.get_1d_y_slice(\n",
    "    x=x_2d, y=y_2d, data=d_2d, xlims=None, y_range=None\n",
    ")\n",
    "\n",
    "# Plot Data\n",
    "fig.add_trace(\n",
    "    go.Scatter(\n",
    "        x=x_1d,\n",
    "        y=analysis_functions.norm_data(row),\n",
    "        name=\"data\",\n",
    "        line=dict(color=colors[0]),\n",
    "    )\n",
    ")\n",
    "\n",
    "fig.show()"
   ]
  },
  {
   "cell_type": "code",
   "execution_count": null,
   "id": "ec9c9367-9062-4190-b568-a0f888f8ce92",
   "metadata": {
    "tags": []
   },
   "outputs": [],
   "source": [
    "## Fit Data ##\n",
    "\n",
    "x = x_1d\n",
    "data = row\n",
    "\n",
    "offset_type = \"constant\"\n",
    "\n",
    "## Offset\n",
    "# c = np.mean(data)\n",
    "c = 0\n",
    "b = (data[-1] - data[0]) / (x[-1] - x[0])\n",
    "a = 0\n",
    "\n",
    "offset = fitting_functions.offset_model(offset_type, a, b, c)\n",
    "\n",
    "## 4th order polynomial\n",
    "poly = lm.models.PolynomialModel(degree=4)\n",
    "\n",
    "full_model = poly + offset\n",
    "\n",
    "fit = full_model.fit(data, x=x)\n",
    "\n",
    "fit.plot()"
   ]
  },
  {
   "cell_type": "code",
   "execution_count": null,
   "id": "9749a553-5f73-4826-a073-cd9a965ce8e9",
   "metadata": {
    "tags": []
   },
   "outputs": [],
   "source": [
    "## Generate Correction Ratio Array ##\n",
    "\n",
    "correction_ratio = fit.eval(x=x_1d) / row\n",
    "print(correction_ratio.shape, d_2d.shape)  # Output: (753,) (1064, 753)\n",
    "\n",
    "repeated_correction = np.tile(correction_ratio, (1064, 1))\n",
    "print(repeated_correction.shape)  # Output: (1064, 753)\n",
    "\n",
    "corrected_d_2d = repeated_correction * d_2d"
   ]
  },
  {
   "cell_type": "code",
   "execution_count": null,
   "id": "9df03c6c-017a-41ba-9628-9727f234a6c5",
   "metadata": {
    "tags": []
   },
   "outputs": [],
   "source": [
    "## Check Equivalence in Array ##\n",
    "\n",
    "np.sum(\n",
    "    repeated_correction[0, :] == repeated_correction[1, :]\n",
    ")  # each of the 1064 rows is the same"
   ]
  },
  {
   "cell_type": "code",
   "execution_count": null,
   "id": "20e9cb26-7128-4e96-80fa-ed67952396ac",
   "metadata": {
    "tags": []
   },
   "outputs": [],
   "source": [
    "# Plot data\n",
    "fig = tr_functions.thesis_fig(\n",
    "    title=title,\n",
    "    xaxis_title=xaxis_title,\n",
    "    yaxis_title=yaxis_title,\n",
    "    gridlines=False,\n",
    "    equiv_axes=False,\n",
    ")\n",
    "\n",
    "fig.add_trace(\n",
    "    go.Heatmap(\n",
    "        x=x_2d,\n",
    "        y=y_2d,\n",
    "        z=analysis_functions.norm_data(corrected_d_2d),\n",
    "        coloraxis=\"coloraxis\",\n",
    "    )\n",
    ")\n",
    "\n",
    "fig.update_coloraxes(cmin=0, cmax=0.2)\n",
    "\n",
    "fig.show()"
   ]
  },
  {
   "cell_type": "markdown",
   "id": "1eb7b7b3-ffeb-45a1-8995-d8eac199f3f3",
   "metadata": {},
   "source": [
    "## Generate Streak-Corrected Dataset"
   ]
  },
  {
   "cell_type": "code",
   "execution_count": null,
   "id": "204504cc-921f-4cc4-b84c-b3d67aebe127",
   "metadata": {
    "tags": []
   },
   "outputs": [],
   "source": [
    "# ## Generate Streak Corrected Dataset ##\n",
    "\n",
    "# fp = r\"E:\\atully\\arpes_data\\2022_April\\ARPES\\C60\\averaged_data\"\n",
    "# fn = r\"FS3_avg_filteredFFT_0.00int.h5\"\n",
    "\n",
    "# xlim = (-21, 16.3)\n",
    "# ylim = None\n",
    "# generate_streak_corrected_dataset(\n",
    "#     ad_homo1, fp, fn, repeated_correction, xlim=xlim, ylim=ylim, overwrite=True\n",
    "# )"
   ]
  },
  {
   "cell_type": "markdown",
   "id": "0bc1da01-e0d9-4346-8b40-9812c946876d",
   "metadata": {
    "tags": []
   },
   "source": [
    "## Load Streak-Corrected Data"
   ]
  },
  {
   "cell_type": "code",
   "execution_count": null,
   "id": "f2ef0245-deab-4941-8301-3dc13ecd93b0",
   "metadata": {
    "tags": []
   },
   "outputs": [],
   "source": [
    "## 5-6 ML Film (XUV): HOMO-1 ##\n",
    "\n",
    "ddir = r\"E:\\atully\\arpes_data\\2022_April\\ARPES\\C60\\averaged_data\"\n",
    "files = [\"FS3_avg_filteredFFT_0.00int_streakCorrect_0.00int.h5\"]\n",
    "\n",
    "ARPES_DATA: Dict[str, tr_functions.ArpesData] = {}\n",
    "ARPES_ATTRS: Dict[str, tr_functions.ArpesAttrs] = {}\n",
    "for file in tqdm(files):\n",
    "    data, theta, phi_or_time, energy = loading_functions.load_hdf5(ddir, file)\n",
    "    ARPES_DATA[file] = tr_functions.ArpesData(\n",
    "        data=data, theta=theta, phi_or_time=phi_or_time, energy=energy\n",
    "    )\n",
    "    ARPES_ATTRS[file] = tr_functions.load_attrs_hdf5(ddir, file)\n",
    "\n",
    "ad_homo1_corrected = ARPES_DATA[files[0]]"
   ]
  },
  {
   "cell_type": "markdown",
   "id": "f24c06a0-69e7-4bec-aa04-077e97d93428",
   "metadata": {},
   "source": [
    "## Analysis"
   ]
  },
  {
   "cell_type": "code",
   "execution_count": null,
   "id": "f433907f-3de4-43de-a08c-90c76d65f5dc",
   "metadata": {
    "tags": []
   },
   "outputs": [],
   "source": [
    "## Initial params ##\n",
    "slice_dim = \"y\"\n",
    "EF = 18.48\n",
    "\n",
    "slice_val = 15.6\n",
    "# slice_val = 15.2\n",
    "# slice_val = 14.7\n",
    "\n",
    "int_range = 0.1\n",
    "\n",
    "x_bin = 1\n",
    "y_bin = 1"
   ]
  },
  {
   "cell_type": "code",
   "execution_count": null,
   "id": "3ba96e4b-84cb-45ec-bd57-638aa155817c",
   "metadata": {
    "tags": []
   },
   "outputs": [],
   "source": [
    "theta = \"\\u03B8\"\n",
    "phi = \"\\u03A6\"\n",
    "\n",
    "# title = f\"C<sub>60</sub> HOMO ({slice_val} eV)\"\n",
    "# yaxis_title = f\"k<sub>y</sub> [{angstrom}<sup>-1</sup>]\"\n",
    "# xaxis_title = f\"k<sub>x</sub> [{angstrom}<sup>-1</sup>]\"\n",
    "\n",
    "title = f\"C<sub>60</sub> HOMO ({slice_val} eV)\"\n",
    "yaxis_title = f\"{phi}\"\n",
    "xaxis_title = f\"{theta}\""
   ]
  },
  {
   "cell_type": "code",
   "execution_count": null,
   "id": "4c831a63-a482-4766-828f-d486fb1d9e34",
   "metadata": {
    "tags": []
   },
   "outputs": [],
   "source": [
    "xlim = (-15, 15)\n",
    "ylim = None\n",
    "\n",
    "## Get original data\n",
    "x_2d, y_2d, d_2d = tr_functions.slice_datacube(\n",
    "    ad_homo1,\n",
    "    slice_dim,\n",
    "    slice_val,\n",
    "    int_range,\n",
    "    xlim,\n",
    "    ylim,\n",
    "    x_bin,\n",
    "    y_bin,\n",
    "    norm_data=True,\n",
    "    plot_data=False,\n",
    ")\n",
    "\n",
    "\n",
    "fig = tr_functions.thesis_fig(\n",
    "    title=title,\n",
    "    xaxis_title=xaxis_title,\n",
    "    yaxis_title=yaxis_title,\n",
    "    gridlines=False,\n",
    "    dtick_y=10,\n",
    "    height=600,\n",
    "    width=500,\n",
    ")\n",
    "\n",
    "## Plot Data\n",
    "fig.add_trace(\n",
    "    go.Heatmap(\n",
    "        x=x_2d, y=y_2d, z=analysis_functions.norm_data(d_2d), coloraxis=\"coloraxis\"\n",
    "    )\n",
    ")\n",
    "\n",
    "\n",
    "# hexagon = polygons.gen_polygon(6, 0.42, translation=(0, -0.375 * 2), rotation=30)\n",
    "# fig = polygons.plot_polygon(\n",
    "#     hexagon, color=\"yellow\", fig=fig, show=False, dash=True, dash_width=3\n",
    "# )\n",
    "\n",
    "if xlim is not None:\n",
    "    fig.update_xaxes(range=[xlim[0], xlim[1]], constrain=\"domain\")\n",
    "\n",
    "fig.update_coloraxes(colorscale=\"Blues\", reversescale=False)\n",
    "\n",
    "fig.show()"
   ]
  },
  {
   "cell_type": "code",
   "execution_count": null,
   "id": "96d0c062-6bd9-408e-bad4-3888c4149687",
   "metadata": {
    "tags": []
   },
   "outputs": [],
   "source": [
    "## Limit Dataset ##\n",
    "\n",
    "## k-corrected\n",
    "# xlim = (-0.52, 0.52)\n",
    "# ylim = (-1.25, 0.15)\n",
    "\n",
    "## angle\n",
    "xlim = (-15, 15)\n",
    "ylim = None\n",
    "\n",
    "## Get data\n",
    "x_2d, y_2d, d_2d = tr_functions.slice_datacube(\n",
    "    ad_homo1_corrected,\n",
    "    slice_dim,\n",
    "    slice_val,\n",
    "    int_range,\n",
    "    xlim,\n",
    "    ylim,\n",
    "    x_bin,\n",
    "    y_bin,\n",
    "    norm_data=True,\n",
    "    plot_data=False,\n",
    ")\n",
    "\n",
    "\n",
    "fig = tr_functions.thesis_fig(\n",
    "    title=title,\n",
    "    xaxis_title=xaxis_title,\n",
    "    yaxis_title=yaxis_title,\n",
    "    gridlines=False,\n",
    "    dtick_y=10,\n",
    "    height=600,\n",
    "    width=500,\n",
    ")\n",
    "\n",
    "## Plot Data\n",
    "fig.add_trace(\n",
    "    go.Heatmap(\n",
    "        x=x_2d, y=y_2d, z=analysis_functions.norm_data(d_2d), coloraxis=\"coloraxis\"\n",
    "    )\n",
    ")\n",
    "\n",
    "\n",
    "# hexagon = polygons.gen_polygon(6, 0.42, translation=(0, -0.375 * 2), rotation=30)\n",
    "# fig = polygons.plot_polygon(\n",
    "#     hexagon, color=\"yellow\", fig=fig, show=False, dash=True, dash_width=3\n",
    "# )\n",
    "\n",
    "if xlim is not None:\n",
    "    fig.update_xaxes(range=[xlim[0], xlim[1]], constrain=\"domain\")\n",
    "\n",
    "fig.update_coloraxes(colorscale=\"Blues\", reversescale=False)\n",
    "\n",
    "fig.show()"
   ]
  },
  {
   "cell_type": "markdown",
   "id": "3bf9c325-baa1-4ecf-883a-e28e4f8828d8",
   "metadata": {},
   "source": [
    "## Export FFT, Streak-Corrected Dataset to .ibw for k-correction"
   ]
  },
  {
   "cell_type": "code",
   "execution_count": null,
   "id": "00717f9e-15b8-40f2-bd19-5274e2e45e94",
   "metadata": {
    "tags": []
   },
   "outputs": [],
   "source": [
    "# ## Convert hdf5 to ibw ##\n",
    "\n",
    "# ddir = r\"E:\\atully\\arpes_data\\2022_April\\ARPES\\C60\\averaged_data\"\n",
    "# hdf5_file = \"FS3_avg_filteredFFT_0.00int_streakCorrect_0.00int.h5\"\n",
    "# ibw_file = \"FS3_avg_FFT_streakCorrect.ibw\"\n",
    "\n",
    "# hdf5_to_ibw(ddir, hdf5_file, ibw_file, overwrite=True)"
   ]
  }
 ],
 "metadata": {
  "kernelspec": {
   "display_name": "Python 3 (ipykernel)",
   "language": "python",
   "name": "python3"
  },
  "language_info": {
   "codemirror_mode": {
    "name": "ipython",
    "version": 3
   },
   "file_extension": ".py",
   "mimetype": "text/x-python",
   "name": "python",
   "nbconvert_exporter": "python",
   "pygments_lexer": "ipython3",
   "version": "3.8.12"
  }
 },
 "nbformat": 4,
 "nbformat_minor": 5
}
