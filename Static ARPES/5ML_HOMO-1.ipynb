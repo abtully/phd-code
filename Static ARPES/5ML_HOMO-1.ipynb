{
 "cells": [
  {
   "cell_type": "markdown",
   "id": "a9b6da58-2197-4d69-877c-e774a0982003",
   "metadata": {
    "tags": []
   },
   "source": [
    "## Imports and Functions"
   ]
  },
  {
   "cell_type": "code",
   "execution_count": null,
   "id": "932b4eac-4971-409a-b767-fc6775e27502",
   "metadata": {},
   "outputs": [],
   "source": [
    "%load_ext lab_black\n",
    "\n",
    "import h5py\n",
    "import os\n",
    "import numpy as np\n",
    "from typing import Dict, List, Optional, Tuple\n",
    "\n",
    "from dataclasses import dataclass\n",
    "from tqdm.auto import tqdm\n",
    "from scipy.signal import savgol_filter\n",
    "from scipy.interpolate import interp2d\n",
    "from functools import lru_cache\n",
    "import lmfit as lm\n",
    "\n",
    "\n",
    "import plotly.graph_objects as go\n",
    "import plotly.colors as pc\n",
    "import matplotlib.pyplot as plt\n",
    "\n",
    "import sys\n",
    "\n",
    "sys.path.append(r\"C:\\Users\\atully\\Code\\GitHub\\ARPES Code\\arpes-code-python\")\n",
    "from arpes_functions import (\n",
    "    fitting_functions,\n",
    "    analysis_functions,\n",
    "    plotting_functions,\n",
    "    HDF5_loader,\n",
    "    misc_functions,\n",
    "    filter_functions,\n",
    "    tr_functions,\n",
    "    loading_functions,\n",
    "    kw_data_loader,\n",
    "    cnn,\n",
    "    polygons,\n",
    ")\n",
    "\n",
    "\n",
    "colors = pc.qualitative.D3\n",
    "angstrom = \"\\u212B\"\n",
    "gamma = \"\\u0393\""
   ]
  },
  {
   "cell_type": "markdown",
   "id": "6183ea67-2237-451a-b9d3-a0b0da693283",
   "metadata": {},
   "source": [
    "# 5-6 ML Film (XUV): HOMO-1"
   ]
  },
  {
   "cell_type": "markdown",
   "id": "26bf0b83-e3e3-4707-8458-87512bfeb619",
   "metadata": {},
   "source": [
    "# Load Data"
   ]
  },
  {
   "cell_type": "code",
   "execution_count": null,
   "id": "2827f47b-0553-453a-ad32-265e089a42ac",
   "metadata": {
    "tags": []
   },
   "outputs": [],
   "source": [
    "## Load averaged, FFT filtered, K corrected data ##\n",
    "\n",
    "ddir = r\"E:\\atully\\arpes_data\\2022_April\\ARPES\\C60\\k_corrected\"\n",
    "# files = [\"FS3kw_filteredFFT_0.00int.h5\"]\n",
    "files = [\"FS3avg_FFTstreakCor_gkw.h5\"]\n",
    "\n",
    "\n",
    "# This works, but makes dataclass with theta and phi_or_time instead of kx and ky\n",
    "ARPES_DATA: Dict[str, tr_functions.ArpesData] = {}\n",
    "ARPES_ATTRS: Dict[str, tr_functions.ArpesAttrs] = {}\n",
    "for file in tqdm(files):\n",
    "    data, kx, ky, energy = loading_functions.load_hdf5(ddir, file)\n",
    "    ARPES_DATA[file] = tr_functions.ArpesData(\n",
    "        data=data, theta=kx, phi_or_time=ky, energy=energy\n",
    "    )\n",
    "    ARPES_ATTRS[file] = tr_functions.load_attrs_hdf5(ddir, file)"
   ]
  },
  {
   "cell_type": "code",
   "execution_count": null,
   "id": "5c3fe607-ca94-40de-9c6a-43ccbdf4f576",
   "metadata": {
    "tags": []
   },
   "outputs": [],
   "source": [
    "ad = ARPES_DATA[files[0]]\n",
    "for k in [\"energy\", \"theta\", \"phi_or_time\"]:\n",
    "    print(f\"{k}.shape = {getattr(ad, k).shape}\")\n",
    "print(f\"Data.shape = {ad.data.shape}\")"
   ]
  },
  {
   "cell_type": "code",
   "execution_count": null,
   "id": "9b18a298-3515-4ccf-ac10-7b244aec35ac",
   "metadata": {
    "tags": []
   },
   "outputs": [],
   "source": [
    "## Initial params ##\n",
    "slice_dim = \"x\"\n",
    "EF = 18.48\n",
    "\n",
    "slice_val = 0\n",
    "int_range = 0.1\n",
    "\n",
    "x_bin = 1\n",
    "y_bin = 1\n",
    "\n",
    "xlim = None\n",
    "ylim = None\n",
    "\n",
    "xlim = (-1.3, 0.18)\n",
    "ylim = (-4.03 + EF, -2.7 + EF)"
   ]
  },
  {
   "cell_type": "code",
   "execution_count": null,
   "id": "59da58fe-a1f8-4887-8a5d-6300100efd44",
   "metadata": {
    "tags": []
   },
   "outputs": [],
   "source": [
    "## Get data\n",
    "x_2d, y_2d, d_2d = tr_functions.slice_datacube(\n",
    "    ad,\n",
    "    slice_dim,\n",
    "    slice_val,\n",
    "    int_range,\n",
    "    xlim,\n",
    "    ylim,\n",
    "    x_bin,\n",
    "    y_bin,\n",
    "    norm_data=True,\n",
    "    plot_data=False,\n",
    ")\n",
    "\n",
    "## Plot data\n",
    "fig = tr_functions.thesis_fig(\n",
    "    title=f\"C<sub>60</sub> HOMO-1: k<sub>y</sub> = {slice_val}\",\n",
    "    xaxis_title=\"$k_x \\; [A^{-1}]$\",\n",
    "    # yaxis_title=\"$E_K \\; [eV]$\",\n",
    "    yaxis_title=\"$E - E_F \\; [eV]$\",\n",
    "    gridlines=False,\n",
    "    equiv_axes=False,\n",
    ")\n",
    "\n",
    "fig.add_trace(go.Heatmap(x=x_2d, y=y_2d - EF, z=d_2d, coloraxis=\"coloraxis\"))\n",
    "\n",
    "fig.show()"
   ]
  },
  {
   "cell_type": "code",
   "execution_count": null,
   "id": "b3f28496-737e-4f14-9409-397093b8333a",
   "metadata": {
    "tags": []
   },
   "outputs": [],
   "source": [
    "## Get and Plot 1D Data ##\n",
    "\n",
    "fig = tr_functions.thesis_fig(\n",
    "    title=f\"EDC of HOMO-1\",\n",
    "    xaxis_title=\"$E - E_F \\; [eV]$\",\n",
    "    yaxis_title=\"Intensity [arb. u]\",\n",
    "    equiv_axes=False,\n",
    "    gridlines=False,\n",
    "    height=600,\n",
    "    width=1000,\n",
    ")\n",
    "\n",
    "y_1d, col = tr_functions.get_1d_x_slice(\n",
    "    x=x_2d, y=y_2d, data=d_2d, ylims=(-4.03 + EF, -2.75 + EF), x_range=None\n",
    ")\n",
    "\n",
    "# Plot Data\n",
    "fig.add_trace(go.Scatter(x=y_1d - EF, y=col, name=\"data\", line=dict(color=colors[0])))\n",
    "\n",
    "fig.show()"
   ]
  },
  {
   "cell_type": "code",
   "execution_count": null,
   "id": "48ea4b92-5b9c-4e3a-8268-57bc0e6c6e9b",
   "metadata": {
    "tags": []
   },
   "outputs": [],
   "source": [
    "## Fit Data ##\n",
    "\n",
    "x = y_1d - EF\n",
    "data = col\n",
    "\n",
    "offset_type = \"constant\"\n",
    "\n",
    "## Offset\n",
    "# c = np.mean(data)\n",
    "c = 0\n",
    "b = (data[-1] - data[0]) / (x[-1] - x[0])\n",
    "a = 0\n",
    "\n",
    "offset = fitting_functions.offset_model(offset_type, a, b, c)\n",
    "\n",
    "## Gaussian\n",
    "gauss = fitting_functions.make_gaussian(num=\"A_\", amplitude=30, center=-3.4, sigma=0.5)\n",
    "\n",
    "## Lorentzians\n",
    "# lorentz1 = fitting_functions.make_lorentzian(\n",
    "#     num=\"A_\", amplitude=0.1, center=14.8, sigma=0.2\n",
    "# )\n",
    "# lorentz2 = fitting_functions.make_lorentzian(\n",
    "#     num=\"B_\", amplitude=0.1, center=15.1, sigma=0.5\n",
    "# )\n",
    "lorentz1 = fitting_functions.make_lorentzian(num=\"A_\", amplitude=30, center=-2, sigma=3)\n",
    "\n",
    "full_model = gauss + offset\n",
    "# full_model = lorentz1 + offset\n",
    "\n",
    "fit = full_model.fit(data, x=x)\n",
    "\n",
    "fit.plot()\n",
    "\n",
    "print(fit.params[\"iA__fwhm\"])\n",
    "print(fit.params[\"iA__center\"])"
   ]
  },
  {
   "cell_type": "markdown",
   "id": "8383d31b-34bf-45fa-8c07-f77452df052f",
   "metadata": {},
   "source": [
    "# Reconstruct 1st BZ"
   ]
  },
  {
   "cell_type": "code",
   "execution_count": null,
   "id": "deff6e54-c4b0-4b16-94b6-d76bdc85f148",
   "metadata": {
    "tags": []
   },
   "outputs": [],
   "source": [
    "## Initial params ##\n",
    "slice_dim = \"y\"\n",
    "EF = 18.48\n",
    "# HOMO_center = EF - 2.09  # gives same sliceval\n",
    "HOMO_center = EF - 2.05\n",
    "\n",
    "# slice_val = 15.6\n",
    "# slice_val = 15.2\n",
    "slice_val = 14.7\n",
    "\n",
    "int_range = 0.1\n",
    "\n",
    "x_bin = 1\n",
    "y_bin = 1"
   ]
  },
  {
   "cell_type": "code",
   "execution_count": null,
   "id": "f3dbcfad-3da5-4d87-8a32-00636ac90dc0",
   "metadata": {
    "tags": []
   },
   "outputs": [],
   "source": [
    "title = f\"C<sub>60</sub> HOMO-1 ({np.round(slice_val-HOMO_center,1)} eV)\"\n",
    "yaxis_title = f\"k<sub>y</sub> [{angstrom}<sup>-1</sup>]\"\n",
    "xaxis_title = f\"k<sub>x</sub> [{angstrom}<sup>-1</sup>]\""
   ]
  },
  {
   "cell_type": "code",
   "execution_count": null,
   "id": "c5e9e0b3-845f-4320-95d4-866c92ca8ae9",
   "metadata": {
    "tags": []
   },
   "outputs": [],
   "source": [
    "title"
   ]
  },
  {
   "cell_type": "code",
   "execution_count": null,
   "id": "fcd69b1d-1d52-4409-b4af-4d22150dc8be",
   "metadata": {
    "tags": []
   },
   "outputs": [],
   "source": [
    "## Limit Dataset ##\n",
    "\n",
    "xlim = (-0.52, 0.52)\n",
    "ylim = (-1.25, 0.15)\n",
    "\n",
    "## Get data\n",
    "x_2d, y_2d, d_2d = tr_functions.slice_datacube(\n",
    "    ad,\n",
    "    slice_dim,\n",
    "    slice_val,\n",
    "    int_range,\n",
    "    xlim,\n",
    "    ylim,\n",
    "    x_bin,\n",
    "    y_bin,\n",
    "    norm_data=True,\n",
    "    plot_data=False,\n",
    ")\n",
    "\n",
    "\n",
    "fig = tr_functions.thesis_fig(\n",
    "    title=title,\n",
    "    xaxis_title=xaxis_title,\n",
    "    yaxis_title=yaxis_title,\n",
    "    gridlines=False,\n",
    "    dtick_y=0.5,\n",
    "    dtick_x=0.25,\n",
    "    height=600,\n",
    "    width=600,\n",
    ")\n",
    "\n",
    "## Plot Data\n",
    "fig.add_trace(\n",
    "    go.Heatmap(\n",
    "        x=x_2d, y=y_2d, z=analysis_functions.norm_data(d_2d), coloraxis=\"coloraxis\"\n",
    "    )\n",
    ")\n",
    "\n",
    "\n",
    "# hexagon = polygons.gen_polygon(6, 0.42, translation=(0, -0.375 * 2), rotation=30)\n",
    "# fig = polygons.plot_polygon(\n",
    "#     hexagon, color=\"yellow\", fig=fig, show=False, dash=True, dash_width=3\n",
    "# )\n",
    "\n",
    "if xlim is not None:\n",
    "    fig.update_xaxes(range=[xlim[0], xlim[1]], constrain=\"domain\")\n",
    "\n",
    "fig.update_coloraxes(colorscale=\"Blues\", reversescale=False)\n",
    "\n",
    "fig.show()"
   ]
  },
  {
   "cell_type": "code",
   "execution_count": null,
   "id": "b3b5d105-6b1d-49fb-98b3-279f57863586",
   "metadata": {
    "tags": []
   },
   "outputs": [],
   "source": [
    "## Subset Data for Rotation ##\n",
    "\n",
    "xlim = (-0.52, 0.52)\n",
    "# xlim = (\n",
    "#     -0.21,\n",
    "#     0.52,\n",
    "# )  # limit for BZ_small_avg; basically limiting original data to the smallest region necessary to reconstruct full BZ\n",
    "\n",
    "ylim = (-0.45, 0.15)\n",
    "\n",
    "## Get data\n",
    "x_2d, y_2d, d_2d = tr_functions.slice_datacube(\n",
    "    ad,\n",
    "    slice_dim,\n",
    "    slice_val,\n",
    "    int_range,\n",
    "    xlim,\n",
    "    ylim,\n",
    "    x_bin,\n",
    "    y_bin,\n",
    "    norm_data=True,\n",
    "    plot_data=False,\n",
    ")\n",
    "\n",
    "## Plot data\n",
    "fig = tr_functions.thesis_fig(\n",
    "    title=title,\n",
    "    xaxis_title=xaxis_title,\n",
    "    yaxis_title=yaxis_title,\n",
    ")\n",
    "\n",
    "fig.add_trace(\n",
    "    go.Heatmap(\n",
    "        x=x_2d, y=y_2d, z=analysis_functions.norm_data(d_2d), coloraxis=\"coloraxis\"\n",
    "    )\n",
    ")\n",
    "\n",
    "hexagon = polygons.gen_polygon(6, 0.42, rotation=30)\n",
    "fig = polygons.plot_polygon(\n",
    "    hexagon, color=\"firebrick\", fig=fig, show=False, dash=True, dash_width=3\n",
    ")\n",
    "\n",
    "if xlim is not None:\n",
    "    fig.update_xaxes(range=[xlim[0], xlim[1]], constrain=\"domain\")\n",
    "\n",
    "fig.show(renderer=\"svg\")"
   ]
  },
  {
   "cell_type": "code",
   "execution_count": null,
   "id": "9b6efbee-fa70-4330-a5cb-186bf499c87e",
   "metadata": {
    "tags": []
   },
   "outputs": [],
   "source": [
    "## Rotate Data ##\n",
    "\n",
    "x, y, z = x_2d, y_2d, analysis_functions.norm_data(d_2d)\n",
    "\n",
    "coords = tr_functions.x_y_to_coords(x, y)\n",
    "\n",
    "rotated_coords = tr_functions.rotate_2d_array(coords, 120, (0, 0))\n",
    "rotated_coords_2 = tr_functions.rotate_2d_array(coords, 240, (0, 0))\n",
    "\n",
    "nx, ny, nd = tr_functions.interpolate(rotated_coords, z)\n",
    "nx_2, ny_2, nd_2 = tr_functions.interpolate(rotated_coords_2, z)"
   ]
  },
  {
   "cell_type": "code",
   "execution_count": null,
   "id": "d53597f6-d1fb-43f2-9c2e-00d81bea7e48",
   "metadata": {
    "tags": []
   },
   "outputs": [],
   "source": [
    "## Stitch and/or average original dataset with 1st rotated dataset ##\n",
    "\n",
    "x1, y1, dataslice1 = x_2d, y_2d, analysis_functions.norm_data(d_2d)\n",
    "x2, y2, dataslice2 = nx, ny, nd\n",
    "\n",
    "new_x, new_y, new_data = tr_functions.stitch_and_avg(\n",
    "    x1,\n",
    "    y1,\n",
    "    dataslice1,\n",
    "    x2,\n",
    "    y2,\n",
    "    dataslice2,\n",
    "    no_avg=True,\n",
    ")"
   ]
  },
  {
   "cell_type": "code",
   "execution_count": null,
   "id": "f23c5196-31d3-44c5-9539-7454e9c04722",
   "metadata": {
    "tags": []
   },
   "outputs": [],
   "source": [
    "# Stitch and/or average new dataset with 2nd rotated dataset ##\n",
    "\n",
    "x1, y1, dataslice1 = new_x, new_y, new_data\n",
    "x2, y2, dataslice2 = nx_2, ny_2, nd_2\n",
    "\n",
    "new_x, new_y, new_data = tr_functions.stitch_and_avg(\n",
    "    x1,\n",
    "    y1,\n",
    "    dataslice1,\n",
    "    x2,\n",
    "    y2,\n",
    "    dataslice2,\n",
    "    no_avg=True,\n",
    ")"
   ]
  },
  {
   "cell_type": "code",
   "execution_count": null,
   "id": "58cb5100-7b6b-4f9b-8797-eaa2bb661a23",
   "metadata": {
    "tags": []
   },
   "outputs": [],
   "source": [
    "## Plot Reconstructed 1st BZ ##\n",
    "\n",
    "fig = tr_functions.thesis_fig(\n",
    "    title=title,\n",
    "    xaxis_title=xaxis_title,\n",
    "    yaxis_title=yaxis_title,\n",
    "    gridlines=False,\n",
    "    equiv_axes=True,\n",
    "    height=600,\n",
    "    width=600,\n",
    ")\n",
    "\n",
    "fig.add_trace(\n",
    "    go.Heatmap(\n",
    "        x=new_x,\n",
    "        y=new_y,\n",
    "        z=analysis_functions.norm_data(new_data),\n",
    "        coloraxis=\"coloraxis\",\n",
    "    )\n",
    ")\n",
    "\n",
    "hexagon = polygons.gen_polygon(6, 0.42, rotation=30)\n",
    "fig = polygons.plot_polygon(\n",
    "    hexagon, color=\"yellow\", fig=fig, show=False, dash=True, dash_width=3\n",
    ")\n",
    "\n",
    "\n",
    "fig.show()"
   ]
  },
  {
   "cell_type": "code",
   "execution_count": null,
   "id": "ae1d3d47-6af0-499c-bfef-7ff31ed1ca99",
   "metadata": {},
   "outputs": [],
   "source": []
  },
  {
   "cell_type": "code",
   "execution_count": null,
   "id": "fb96e420-f314-4610-9bbd-825d68a5bd2d",
   "metadata": {},
   "outputs": [],
   "source": []
  },
  {
   "cell_type": "code",
   "execution_count": null,
   "id": "8f7df845-ccc7-4f70-a46e-8772750e9f6e",
   "metadata": {},
   "outputs": [],
   "source": []
  }
 ],
 "metadata": {
  "kernelspec": {
   "display_name": "Python 3 (ipykernel)",
   "language": "python",
   "name": "python3"
  },
  "language_info": {
   "codemirror_mode": {
    "name": "ipython",
    "version": 3
   },
   "file_extension": ".py",
   "mimetype": "text/x-python",
   "name": "python",
   "nbconvert_exporter": "python",
   "pygments_lexer": "ipython3",
   "version": "3.8.12"
  }
 },
 "nbformat": 4,
 "nbformat_minor": 5
}
