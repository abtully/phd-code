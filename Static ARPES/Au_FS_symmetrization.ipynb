{
 "cells": [
  {
   "cell_type": "code",
   "execution_count": null,
   "id": "ee7aa014-9947-45d2-8fb9-839e9d5dcc54",
   "metadata": {},
   "outputs": [],
   "source": [
    "%load_ext lab_black\n",
    "\n",
    "import h5py\n",
    "import os\n",
    "\n",
    "from dataclasses import dataclass\n",
    "from tqdm.auto import tqdm\n",
    "from scipy.signal import savgol_filter\n",
    "from scipy.interpolate import interp2d\n",
    "from functools import lru_cache\n",
    "\n",
    "from typing import Dict, List, Optional, Tuple\n",
    "import numpy as np\n",
    "import plotly.graph_objects as go\n",
    "import matplotlib.pyplot as plt\n",
    "\n",
    "\n",
    "import sys\n",
    "\n",
    "sys.path.append(r\"C:\\Users\\atully\\Code\\GitHub\\ARPES Code\\arpes-code-python\")\n",
    "from arpes_functions import (\n",
    "    fitting_functions,\n",
    "    analysis_functions,\n",
    "    plotting_functions,\n",
    "    HDF5_loader,\n",
    "    misc_functions,\n",
    "    filter_functions,\n",
    "    tr_functions,\n",
    "    loading_functions,\n",
    "    cnn,\n",
    ")\n",
    "\n",
    "angstrom = \"\\u212B\""
   ]
  },
  {
   "cell_type": "markdown",
   "id": "b162bbce-50ba-4b99-9da6-a5679e5d94b4",
   "metadata": {},
   "source": [
    "# Au Data"
   ]
  },
  {
   "cell_type": "code",
   "execution_count": null,
   "id": "5144c4e6-1170-43f3-be66-8cb67e14760d",
   "metadata": {
    "tags": []
   },
   "outputs": [],
   "source": [
    "fp = r\"E:\\atully\\arpes_data\\2022_October\\k_corrected\"\n",
    "fn = r\"FS1_avg_gkw_filteredFFT_0.00int.h5\"\n",
    "data, theta, phi, energy = HDF5_loader.load_hdf5(fp, fn)  # load data from hdf5"
   ]
  },
  {
   "cell_type": "code",
   "execution_count": null,
   "id": "f50c274e-f676-4b6b-8c22-386777705b6b",
   "metadata": {
    "tags": []
   },
   "outputs": [],
   "source": [
    "# set slice parameters\n",
    "slice_dim = \"y\"\n",
    "int_range = 0.1\n",
    "slice_val = 16.8\n",
    "\n",
    "# plot slice\n",
    "fig, ax = plotting_functions.plot_3D_mpl(\n",
    "    x=theta,\n",
    "    y=energy,\n",
    "    z=phi,\n",
    "    data=data,\n",
    "    slice_dim=slice_dim,\n",
    "    slice_val=slice_val,\n",
    "    int_range=int_range,\n",
    "    title=f\"FS ({slice_val} eV)\",\n",
    "    cmap=\"Blues\",\n",
    ")\n",
    "\n",
    "# set aspect ratio\n",
    "ratio = 1.0\n",
    "x_left, x_right = ax.get_xlim()\n",
    "y_low, y_high = ax.get_ylim()\n",
    "ax.set_aspect(abs((x_right - x_left) / (y_low - y_high)) * ratio)"
   ]
  },
  {
   "cell_type": "code",
   "execution_count": null,
   "id": "8ec2ff6d-99e9-4bd6-ac5b-e9179682855a",
   "metadata": {
    "tags": []
   },
   "outputs": [],
   "source": [
    "fn = r\"FS4_avg4_gkw_filteredFFT_0.00int.h5\"\n",
    "data, theta, phi, energy = HDF5_loader.load_hdf5(fp, fn)  # load data from hdf5"
   ]
  },
  {
   "cell_type": "code",
   "execution_count": null,
   "id": "bfac00ac-193f-4cd4-a5db-e9f0dff73e6f",
   "metadata": {
    "tags": []
   },
   "outputs": [],
   "source": [
    "# set slice parameters\n",
    "slice_dim = \"y\"\n",
    "int_range = 0.1\n",
    "slice_val = 16.8\n",
    "\n",
    "# plot slice\n",
    "fig, ax = plotting_functions.plot_3D_mpl(\n",
    "    x=theta,\n",
    "    y=energy,\n",
    "    z=phi,\n",
    "    data=data,\n",
    "    slice_dim=slice_dim,\n",
    "    slice_val=slice_val,\n",
    "    int_range=int_range,\n",
    "    title=f\"FS ({slice_val} eV)\",\n",
    "    cmap=\"Blues\",\n",
    ")\n",
    "\n",
    "# set aspect ratio\n",
    "ratio = 1.0\n",
    "x_left, x_right = ax.get_xlim()\n",
    "y_low, y_high = ax.get_ylim()\n",
    "ax.set_aspect(abs((x_right - x_left) / (y_low - y_high)) * ratio)"
   ]
  },
  {
   "cell_type": "markdown",
   "id": "4e12cb80-7f3b-46b3-853b-2cb76bd8b811",
   "metadata": {},
   "source": [
    "## Combine Datasets\n",
    "### Procedure:\n",
    "1. Take two dataslices at relevant energy slice, normalized intensity.\n",
    "2. Make new theta axis that runs from absolute min to absolute max of two datasets.\n",
    "3. Find overlap region of dataset along theta axis.\n",
    "4. Create two weighting arrays going from 1 to 0 and 0 to 1, with a length that spans the overlap.\n",
    "5. Weight (multiply) each dataset's overlap region by their relevant \"fading\" (weighting) array.\n",
    "6. Average the two datasets together over the overlapping region."
   ]
  },
  {
   "cell_type": "code",
   "execution_count": null,
   "id": "deed6bb5-c9db-436f-9720-f393511dc794",
   "metadata": {
    "tags": []
   },
   "outputs": [],
   "source": [
    "slice_val = 16.8\n",
    "int_range = 0.1"
   ]
  },
  {
   "cell_type": "code",
   "execution_count": null,
   "id": "53152ef3-f79e-455c-af68-0077c62621af",
   "metadata": {
    "tags": []
   },
   "outputs": [],
   "source": [
    "fp = r\"E:\\atully\\arpes_data\\2022_October\\k_corrected\"\n",
    "fn = r\"FS1_avg_gkw_filteredFFT_0.00int.h5\"\n",
    "data1, theta1, phi1, energy1 = HDF5_loader.load_hdf5(fp, fn)  # load data from hdf5\n",
    "\n",
    "# Get slice\n",
    "xaxis1, yaxis1, dataslice1 = analysis_functions.get_2Dslice(\n",
    "    x=theta1,\n",
    "    y=energy1,\n",
    "    z=phi1,\n",
    "    data=data1,\n",
    "    slice_dim=\"y\",\n",
    "    slice_val=slice_val,\n",
    "    int_range=int_range,\n",
    ")\n",
    "dataslice1 = analysis_functions.norm_data(dataslice1)"
   ]
  },
  {
   "cell_type": "code",
   "execution_count": null,
   "id": "153f66fa-9d40-455c-b961-d7fb2740c142",
   "metadata": {
    "tags": []
   },
   "outputs": [],
   "source": [
    "fn = r\"FS4_avg4_gkw_filteredFFT_0.00int.h5\"\n",
    "data4, theta4, phi4, energy4 = HDF5_loader.load_hdf5(fp, fn)  # load data from hdf5\n",
    "\n",
    "# Get slice\n",
    "xaxis4, yaxis4, dataslice4 = analysis_functions.get_2Dslice(\n",
    "    x=theta4,\n",
    "    y=energy4,\n",
    "    z=phi4,\n",
    "    data=data4,\n",
    "    slice_dim=\"y\",\n",
    "    slice_val=slice_val,\n",
    "    int_range=int_range,\n",
    ")\n",
    "dataslice4 = analysis_functions.norm_data(dataslice4)"
   ]
  },
  {
   "cell_type": "code",
   "execution_count": null,
   "id": "06f771f8-b07f-4697-a9a3-d09b08c2bd94",
   "metadata": {
    "tags": []
   },
   "outputs": [],
   "source": [
    "# 2\n",
    "\n",
    "from scipy.interpolate import interp1d\n",
    "\n",
    "new_theta = np.linspace(\n",
    "    min(min(theta1), min(theta4)), max(max(theta1), max(theta4)), 2000\n",
    ")\n",
    "\n",
    "new_datas = []\n",
    "for theta, data in zip([theta1, theta4], [dataslice1, dataslice4]):\n",
    "    nd = []\n",
    "    for row in data:\n",
    "        interper = interp1d(theta, row, fill_value=np.nan, bounds_error=False)\n",
    "        nd.append(interper(new_theta))\n",
    "    new_datas.append(np.array(nd))"
   ]
  },
  {
   "cell_type": "code",
   "execution_count": null,
   "id": "9382962e-27ee-421b-b8a1-7e50486140f9",
   "metadata": {
    "tags": []
   },
   "outputs": [],
   "source": [
    "fig = go.Figure(\n",
    "    #     data=go.Heatmap(x=new_theta, y=yaxis1, z=new_datas[0])\n",
    "    data=go.Heatmap(x=new_theta, y=yaxis1, z=new_datas[1])\n",
    "    #     data=go.Heatmap(x=[1, 2], y=[3, 4], z=[[1,2], [3,4]])\n",
    ")\n",
    "fig.update_layout(width=800, height=600)\n",
    "fig.show(renderer=\"svg\")\n",
    "# print(new_theta.shape, yaxis1.shape, new_datas[1].shape)"
   ]
  },
  {
   "cell_type": "code",
   "execution_count": null,
   "id": "5bb98814-7dd9-4527-9fa3-5dad80d7ff0b",
   "metadata": {
    "tags": []
   },
   "outputs": [],
   "source": [
    "# 3\n",
    "\n",
    "left = np.min(theta1[dataslice1[100] > 0.01])\n",
    "right = np.max(theta4[dataslice4[100] > 0.01])\n",
    "\n",
    "overlap_indices = (\n",
    "    np.where(new_theta > left)[0][0],\n",
    "    np.where(new_theta < right)[0][-1],\n",
    ")  # indices over which the datasets will overlap\n",
    "# overlap_indices = np.min(new_theta[new_theta > left]), np.max(new_theta[new_theta < right])\n",
    "print(overlap_indices)"
   ]
  },
  {
   "cell_type": "code",
   "execution_count": null,
   "id": "9924f005-fbb4-4881-8b08-27b61bd32595",
   "metadata": {
    "tags": []
   },
   "outputs": [],
   "source": [
    "# 4\n",
    "\n",
    "w1 = np.linspace(0, 1, overlap_indices[1] - overlap_indices[0])\n",
    "w4 = np.flip(w1)"
   ]
  },
  {
   "cell_type": "code",
   "execution_count": null,
   "id": "f29536b9-3f07-4e61-a81e-a2c2e9e1562c",
   "metadata": {
    "tags": []
   },
   "outputs": [],
   "source": [
    "# 5\n",
    "\n",
    "overlap1 = w1 * new_datas[0][:, overlap_indices[0] : overlap_indices[1]]\n",
    "overlap4 = w4 * new_datas[1][:, overlap_indices[0] : overlap_indices[1]]\n",
    "\n",
    "overlap = overlap1 + overlap4"
   ]
  },
  {
   "cell_type": "code",
   "execution_count": null,
   "id": "a9f9708a-7761-4ef1-9c1c-2f64b5deda63",
   "metadata": {
    "tags": []
   },
   "outputs": [],
   "source": [
    "new_data = np.concatenate(\n",
    "    (\n",
    "        new_datas[1][:, : overlap_indices[0]],\n",
    "        overlap,\n",
    "        new_datas[0][:, overlap_indices[1] :],\n",
    "    ),\n",
    "    axis=-1,\n",
    ")\n",
    "new_data.shape"
   ]
  },
  {
   "cell_type": "code",
   "execution_count": null,
   "id": "21cd7030-05d1-4827-9fb5-9a83580dd48d",
   "metadata": {
    "tags": []
   },
   "outputs": [],
   "source": [
    "fig, ax = plotting_functions.plot_2D_mpl(\n",
    "    x=new_theta,\n",
    "    y=yaxis1,\n",
    "    data=new_data,\n",
    "    xlabel=\"kx\",\n",
    "    ylabel=\"E_k\",\n",
    "    title=f\"\",\n",
    "    cmap=\"Blues\",\n",
    ")\n",
    "\n",
    "# plt.savefig(r'C:\\Users\\atully\\OneDrive\\Physics.UBC\\PhD\\Dissertation\\Data\\Au\\Au111_FS.png')"
   ]
  },
  {
   "cell_type": "code",
   "execution_count": null,
   "id": "d0a36a06-9366-4067-9736-5de8c1439e51",
   "metadata": {
    "tags": []
   },
   "outputs": [],
   "source": [
    "## limit to quadrant ##\n",
    "\n",
    "fig, ax = plotting_functions.plot_2D_mpl(\n",
    "    x=new_theta,\n",
    "    y=yaxis1,\n",
    "    data=new_data,\n",
    "    xlabel=\"kx\",\n",
    "    ylabel=\"E_k\",\n",
    "    title=f\"\",\n",
    "    cmap=\"Blues\",\n",
    ")\n",
    "\n",
    "ax.set_ylim(-1.4, 0.0)\n",
    "plt.yticks(np.arange(-1.0, 0.1, 0.5), fontsize=14)\n",
    "ax.set_xlim(-1.25, 0.0)\n",
    "plt.xticks(np.arange(-1.0, 0.1, 0.5), fontsize=14)\n",
    "\n",
    "ratio = 1.0\n",
    "x_left, x_right = ax.get_xlim()\n",
    "y_low, y_high = ax.get_ylim()\n",
    "ax.set_aspect(abs((x_right - x_left) / (y_low - y_high)) * ratio)\n",
    "\n",
    "# plt.savefig(r'C:\\Users\\atully\\OneDrive\\Physics.UBC\\PhD\\Dissertation\\Data\\Au\\Au111_FS_quadrant.png')"
   ]
  },
  {
   "cell_type": "code",
   "execution_count": null,
   "id": "fdd2fcd5-aca5-4145-aea9-770d564692fb",
   "metadata": {
    "tags": []
   },
   "outputs": [],
   "source": [
    "## Create Plotly Images for Symmeterizing ##\n",
    "\n",
    "## Largest raw data\n",
    "\n",
    "fig = tr_functions.thesis_fig(\n",
    "    title=f\"Au(111) FS\",\n",
    "    xaxis_title=f\"k<sub>x</sub> [{angstrom}<sup>-1</sup>]\",\n",
    "    yaxis_title=f\"k<sub>y</sub> [{angstrom}<sup>-1</sup>]\",\n",
    "    equiv_axes=True,\n",
    "    gridlines=False,\n",
    ")\n",
    "\n",
    "fig.add_trace(\n",
    "    go.Heatmap(\n",
    "        x=new_theta,\n",
    "        y=yaxis1,\n",
    "        z=analysis_functions.norm_data(new_data),\n",
    "        coloraxis=\"coloraxis\",\n",
    "    )\n",
    ")\n",
    "\n",
    "\n",
    "fig.update_coloraxes(colorscale=\"Blues\", showscale=True)\n",
    "fig.update_layout(\n",
    "    title=dict(\n",
    "        text=f\"Au(111) FS\", x=0.5, xanchor=\"center\", yanchor=\"top\", font_size=22\n",
    "    ),\n",
    ")\n",
    "\n",
    "fig.update_coloraxes(colorscale=\"Blues\", reversescale=False)\n",
    "\n",
    "# fig.update_yaxes(range=[-1.4, 0.263])\n",
    "# fig.update_yaxes(scaleanchor=\"x\", scaleratio=1)\n",
    "# fig.update_xaxes(range=[-1.25, 0.68])\n",
    "\n",
    "\n",
    "fig.update_layout(width=600, height=600)\n",
    "\n",
    "fig.show()"
   ]
  },
  {
   "cell_type": "code",
   "execution_count": null,
   "id": "03453980-d0a0-4ecb-b585-0e28b8157a85",
   "metadata": {
    "tags": []
   },
   "outputs": [],
   "source": [
    "## For Symmetrizing: Flip Dataset ##\n",
    "\n",
    "fig = tr_functions.default_fig()\n",
    "\n",
    "fig.add_trace(go.Heatmap(x=new_theta, y=-1 * yaxis1, z=new_data, coloraxis=\"coloraxis\"))\n",
    "\n",
    "fig.update_coloraxes(colorscale=\"Blues\", showscale=True)\n",
    "fig.update_layout(\n",
    "    title=dict(\n",
    "        text=f\"Au(111) FS\", x=0.5, xanchor=\"center\", yanchor=\"top\", font_size=22\n",
    "    ),\n",
    ")\n",
    "\n",
    "fig.update_xaxes(\n",
    "    title_text=\"$k_x \\; [A^{-1}]$\", title_font=dict(size=20), range=[-1.25, 0.68]\n",
    ")\n",
    "fig.update_yaxes(\n",
    "    title_text=\"$k_y \\; [A^{-1}]$\", title_font=dict(size=20), range=[-0.263, 1.4]\n",
    ")\n",
    "\n",
    "fig.update_layout(\n",
    "    width=700, height=600, margin=dict(l=100)\n",
    ")  # margin=dict(b=0, t=30, l=20, r=0)\n",
    "fig.show(renderer=\"svg\")"
   ]
  },
  {
   "cell_type": "code",
   "execution_count": null,
   "id": "45f25140-5a98-47b3-80aa-980182e40e3f",
   "metadata": {
    "tags": []
   },
   "outputs": [],
   "source": [
    "## Limit Dataset ##\n",
    "\n",
    "x, y, z = analysis_functions.limit_dataset(\n",
    "    x=new_theta, y=yaxis1, data=new_data, xlim=(-1.25, 0.68), ylim=(-1.4, 0.263)\n",
    ")\n",
    "\n",
    "x, y, z = x, y, analysis_functions.norm_data(z)"
   ]
  },
  {
   "cell_type": "code",
   "execution_count": null,
   "id": "d4d6fa77-8e66-4dde-a516-5190af029984",
   "metadata": {
    "tags": []
   },
   "outputs": [],
   "source": [
    "## Combine Raw and Flipped Data ##\n",
    "\n",
    "fig = tr_functions.thesis_fig(\n",
    "    title=f\"Au(111) FS\",\n",
    "    xaxis_title=f\"k<sub>x</sub> [{angstrom}<sup>-1</sup>]\",\n",
    "    yaxis_title=f\"k<sub>y</sub> [{angstrom}<sup>-1</sup>]\",\n",
    "    equiv_axes=True,\n",
    "    gridlines=False,\n",
    ")\n",
    "\n",
    "fig.add_trace(\n",
    "    go.Heatmap(\n",
    "        x=x,\n",
    "        y=-1 * y,\n",
    "        z=z,\n",
    "        coloraxis=\"coloraxis\",\n",
    "    )\n",
    ")\n",
    "\n",
    "fig.add_trace(\n",
    "    go.Heatmap(\n",
    "        x=x,\n",
    "        y=y,\n",
    "        z=z,\n",
    "        coloraxis=\"coloraxis\",\n",
    "    )\n",
    ")\n",
    "\n",
    "\n",
    "fig.update_coloraxes(colorscale=\"Blues\", showscale=True)\n",
    "fig.update_layout(\n",
    "    title=dict(\n",
    "        text=f\"Au(111) FS\", x=0.5, xanchor=\"center\", yanchor=\"top\", font_size=22\n",
    "    ),\n",
    "    # xaxis_title=\"$k_x \\; [A^{-1}]$\",  # or \\quad for larger space\n",
    "    # yaxis_title=\"$k_y \\; [A^{-1}]$\",\n",
    ")\n",
    "\n",
    "fig.update_coloraxes(colorscale=\"Blues\", reversescale=False)\n",
    "\n",
    "fig.update_yaxes(range=[-1.3, 1.3])\n",
    "fig.update_yaxes(scaleanchor=\"x\", scaleratio=1)\n",
    "fig.update_xaxes(range=[-1.25, 1.25])\n",
    "\n",
    "fig.update_layout(width=600, height=600)\n",
    "\n",
    "# fig.update_layout(\n",
    "#     width=700, height=600, margin=dict(l=100)\n",
    "# )  # margin=dict(b=0, t=30, l=20, r=0)\n",
    "fig.show()"
   ]
  },
  {
   "cell_type": "code",
   "execution_count": null,
   "id": "06fafe6d-693b-4dd9-9d9c-d561a33071b3",
   "metadata": {
    "tags": []
   },
   "outputs": [],
   "source": [
    "## Rotate Dataset ##\n",
    "\n",
    "coords = tr_functions.x_y_to_coords(x, y)\n",
    "\n",
    "rotated_coords = tr_functions.rotate_2d_array(coords, 120, (0, 0))\n",
    "\n",
    "nx, ny, nd = tr_functions.interpolate(rotated_coords, z)"
   ]
  },
  {
   "cell_type": "code",
   "execution_count": null,
   "id": "025282c7-cb81-4230-a7a4-d3bab000bfae",
   "metadata": {
    "tags": []
   },
   "outputs": [],
   "source": [
    "# nd[np.isnan(nd)] = 0.02"
   ]
  },
  {
   "cell_type": "code",
   "execution_count": null,
   "id": "185dd27c-8f2b-47b4-a41f-4e496bcfcfca",
   "metadata": {
    "tags": []
   },
   "outputs": [],
   "source": [
    "## Plot All Datasets ##\n",
    "\n",
    "lim = 1.23\n",
    "\n",
    "fig = tr_functions.thesis_fig(\n",
    "    title=f\"Au(111) FS\",\n",
    "    xaxis_title=f\"k<sub>x</sub> [{angstrom}<sup>-1</sup>]\",\n",
    "    yaxis_title=f\"k<sub>y</sub> [{angstrom}<sup>-1</sup>]\",\n",
    "    equiv_axes=False,\n",
    "    gridlines=False,\n",
    ")\n",
    "\n",
    "fig.add_trace(\n",
    "    go.Heatmap(\n",
    "        x=[-1 * lim, lim, -1 * lim, lim],\n",
    "        y=[-1 * lim, -1 * lim, lim, lim],\n",
    "        z=[0.02] * 4,\n",
    "        coloraxis=\"coloraxis\",\n",
    "    )\n",
    ")\n",
    "\n",
    "fig.add_trace(\n",
    "    go.Heatmap(\n",
    "        x=nx,\n",
    "        y=ny,\n",
    "        z=nd,\n",
    "        coloraxis=\"coloraxis\",\n",
    "    )\n",
    ")\n",
    "\n",
    "\n",
    "fig.add_trace(\n",
    "    go.Heatmap(\n",
    "        x=x,\n",
    "        y=-1 * y,\n",
    "        z=z,\n",
    "        coloraxis=\"coloraxis\",\n",
    "    )\n",
    ")\n",
    "\n",
    "fig.add_trace(\n",
    "    go.Heatmap(\n",
    "        x=x,\n",
    "        y=y,\n",
    "        z=z,\n",
    "        coloraxis=\"coloraxis\",\n",
    "    )\n",
    ")\n",
    "\n",
    "\n",
    "fig.update_coloraxes(colorscale=\"Blues\", showscale=True, cmin=0, cmax=1)\n",
    "fig.update_layout(\n",
    "    title=dict(\n",
    "        text=f\"Au(111) FS\", x=0.5, xanchor=\"center\", yanchor=\"top\", font_size=22\n",
    "    ),\n",
    "    # xaxis_title=\"$k_x \\; [A^{-1}]$\",  # or \\quad for larger space\n",
    "    # yaxis_title=\"$k_y \\; [A^{-1}]$\",\n",
    ")\n",
    "\n",
    "fig.update_coloraxes(colorscale=\"Blues\", reversescale=False)\n",
    "\n",
    "fig.update_yaxes(range=[-1 * lim, lim])\n",
    "fig.update_yaxes(scaleanchor=\"x\", scaleratio=1)\n",
    "fig.update_xaxes(range=[-1 * lim, lim])\n",
    "\n",
    "fig.update_layout(width=600, height=600, margin=dict(l=100))\n",
    "\n",
    "# fig.update_layout(\n",
    "#     width=700, height=600, margin=dict(l=100)\n",
    "# )  # margin=dict(b=0, t=30, l=20, r=0)\n",
    "fig.show()"
   ]
  }
 ],
 "metadata": {
  "kernelspec": {
   "display_name": "Python 3 (ipykernel)",
   "language": "python",
   "name": "python3"
  },
  "language_info": {
   "codemirror_mode": {
    "name": "ipython",
    "version": 3
   },
   "file_extension": ".py",
   "mimetype": "text/x-python",
   "name": "python",
   "nbconvert_exporter": "python",
   "pygments_lexer": "ipython3",
   "version": "3.8.12"
  }
 },
 "nbformat": 4,
 "nbformat_minor": 5
}
