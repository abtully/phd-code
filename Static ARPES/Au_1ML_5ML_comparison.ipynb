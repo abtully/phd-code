{
 "cells": [
  {
   "cell_type": "markdown",
   "id": "a9b6da58-2197-4d69-877c-e774a0982003",
   "metadata": {
    "tags": []
   },
   "source": [
    "## Imports and Functions"
   ]
  },
  {
   "cell_type": "code",
   "execution_count": null,
   "id": "932b4eac-4971-409a-b767-fc6775e27502",
   "metadata": {},
   "outputs": [],
   "source": [
    "%load_ext lab_black\n",
    "\n",
    "import h5py\n",
    "import os\n",
    "import numpy as np\n",
    "from typing import Dict, List, Optional, Tuple\n",
    "\n",
    "from dataclasses import dataclass\n",
    "from tqdm.auto import tqdm\n",
    "from scipy.signal import savgol_filter\n",
    "from scipy.interpolate import interp2d\n",
    "from functools import lru_cache\n",
    "import lmfit as lm\n",
    "\n",
    "\n",
    "import plotly.graph_objects as go\n",
    "import plotly.colors as pc\n",
    "import matplotlib.pyplot as plt\n",
    "\n",
    "import sys\n",
    "\n",
    "sys.path.append(r\"C:\\Users\\atully\\Code\\GitHub\\ARPES Code\\arpes-code-python\")\n",
    "from arpes_functions import (\n",
    "    fitting_functions,\n",
    "    analysis_functions,\n",
    "    plotting_functions,\n",
    "    HDF5_loader,\n",
    "    misc_functions,\n",
    "    filter_functions,\n",
    "    tr_functions,\n",
    "    loading_functions,\n",
    "    kw_data_loader,\n",
    "    cnn,\n",
    "    polygons,\n",
    ")\n",
    "\n",
    "\n",
    "colors = pc.qualitative.D3\n",
    "angstrom = \"\\u212B\"\n",
    "gamma = \"\\u0393\""
   ]
  },
  {
   "cell_type": "markdown",
   "id": "ab80f223-729f-414e-b55b-063d94563164",
   "metadata": {},
   "source": [
    "# Load Data"
   ]
  },
  {
   "cell_type": "code",
   "execution_count": null,
   "id": "06e2b022-fb1d-47bd-8520-0f5b6eee28a1",
   "metadata": {
    "tags": []
   },
   "outputs": [],
   "source": [
    "## Au ##\n",
    "\n",
    "ddir = r\"E:\\atully\\k-corrected data\\Dec_2020\"\n",
    "file = r\"XUV_UPS_2500M0003_kw.h5\"  # xuv band structure\n",
    "# file = r\"lamp_overnight_kw.h5\"  # lamp band structure\n",
    "\n",
    "data_au, kx_au, energy_au = loading_functions.load_hdf5(ddir, file)\n",
    "\n",
    "EF = 20.88  # xuv (hv = 25)\n",
    "# EF = 16.945  # lamp\n",
    "\n",
    "energy_au = energy_au - EF"
   ]
  },
  {
   "cell_type": "code",
   "execution_count": null,
   "id": "310871e4-4b4b-4ce3-92fa-c04d8128c10c",
   "metadata": {
    "tags": []
   },
   "outputs": [],
   "source": [
    "## 1 ML ##\n",
    "\n",
    "ddir = r\"E:\\atully\\k-corrected data\\Apr_2021\\2D_kcorrected\"\n",
    "# file = r\"OMBE_XUV_2D0006__kw.h5\"  # xuv band structure\n",
    "file = r\"OMBE_Lamp_2D0006__kw.h5\"  # lamp band structure\n",
    "\n",
    "data_1ml, kx_1ml, energy_1ml = loading_functions.load_hdf5(ddir, file)\n",
    "\n",
    "# EF = 18.27  # xuv (hv = 22.65)\n",
    "EF = 16.94  # lamp\n",
    "\n",
    "energy_1ml = energy_1ml - EF"
   ]
  },
  {
   "cell_type": "code",
   "execution_count": null,
   "id": "5a04756b-375e-43a4-9f97-19edfd823000",
   "metadata": {
    "tags": []
   },
   "outputs": [],
   "source": [
    "## 5 ML ##\n",
    "\n",
    "# ddir = r\"E:\\atully\\arpes_data\\2022_April\\ARPES\\C60\\k_corrected\"  # xuv\n",
    "# file = r\"KE0_kw.h5\"  # xuv band structure\n",
    "\n",
    "ddir = r\"E:\\atully\\arpes_data\\2022_June\\ARPES\\k_corrected\"  # lamp\n",
    "file = r\"C60_002_kw.h5\"  # lamp band structure\n",
    "\n",
    "data_5ml, kx_5ml, energy_5ml = loading_functions.load_hdf5(ddir, file)\n",
    "\n",
    "# EF = 18.48  # xuv (hv = 22.8)\n",
    "EF = 16.9  # lamp\n",
    "\n",
    "energy_5ml = energy_5ml - EF"
   ]
  },
  {
   "cell_type": "code",
   "execution_count": null,
   "id": "d796b5f5-1d0b-4595-8b37-3bfb0b1fd94d",
   "metadata": {
    "tags": []
   },
   "outputs": [],
   "source": [
    "## 10 ML Lamp ##\n",
    "\n",
    "ddir = r\"E:\\atully\\arpes_data\\2023_June\\C60\\ARPES\\Lamp\\Swept\"  # swept\n",
    "# file = r\"Img0_sweep_kw.h5\"\n",
    "file = r\"Img1_avg_g_kw.h5\"\n",
    "\n",
    "data_10ml, kx_10ml, energy_10ml = loading_functions.load_hdf5(ddir, file)\n",
    "\n",
    "EF = 16.9  # lamp\n",
    "\n",
    "energy_10ml = energy_10ml - EF"
   ]
  },
  {
   "cell_type": "code",
   "execution_count": null,
   "id": "4a159471-549b-4fdf-ba8c-b8fc2806ecbf",
   "metadata": {
    "tags": []
   },
   "outputs": [],
   "source": [
    "xaxis_title = f\"k<sub>x</sub> ({angstrom}<sup>-1</sup>)\"\n",
    "yaxis_title = f\"E - E<sub>F</sub> (eV)\"\n",
    "# yaxis_title = f\"E<sub>K</sub> (eV)\"\n",
    "title = f\"{file}\""
   ]
  },
  {
   "cell_type": "code",
   "execution_count": null,
   "id": "83d310f1-b373-4b42-95f5-b9031bdee830",
   "metadata": {
    "tags": []
   },
   "outputs": [],
   "source": [
    "x, y, data = kx_au, energy_au, data_au\n",
    "title = \"Au(111)\"\n",
    "# x, y, data = kx_1ml, energy_1ml, data_1ml\n",
    "# title = \"1 ML C<sub>60</sub>\"\n",
    "# x, y, data = kx_5ml, energy_5ml, data_5ml\n",
    "# title = \"5 ML C<sub>60</sub>\"\n",
    "# x, y, data = kx_10ml, energy_10ml, data_10ml\n",
    "# title = \"10 ML C<sub>60</sub>\"\n",
    "\n",
    "xlim = (-0.5, 0.47)  # xuv\n",
    "# ylim = (-4.4, 0)\n",
    "\n",
    "# xlim = None\n",
    "ylim = None\n",
    "\n",
    "# ylim = (-1.2, 0)  # zoom in on mystery feature\n",
    "# ylim = (-2.0, 0)  # zoom in on mystery feature\n",
    "\n",
    "new_x, new_y, new_data = analysis_functions.limit_dataset(x, y, data, xlim, ylim)"
   ]
  },
  {
   "cell_type": "markdown",
   "id": "14fc5adb-c711-4a93-8a80-71fa4e1fec1b",
   "metadata": {},
   "source": [
    "# Fit for EF"
   ]
  },
  {
   "cell_type": "code",
   "execution_count": null,
   "id": "f9310061-5e33-479a-92f0-05f7783caf83",
   "metadata": {
    "tags": []
   },
   "outputs": [],
   "source": [
    "x, y, data = kx_1ml, energy_1ml, data_1ml\n",
    "\n",
    "## xuv\n",
    "xlim = (-0.54, 0.47)\n",
    "ylim = (20.5, 22)  # EF -- xuv\n",
    "\n",
    "## lamp\n",
    "xlim = (-0.5, 0.54)\n",
    "ylim = (16.6, np.max(y))  # EF -- xuv\n",
    "\n",
    "new_x, new_y, new_data = analysis_functions.limit_dataset(x, y, data, xlim, ylim)"
   ]
  },
  {
   "cell_type": "code",
   "execution_count": null,
   "id": "0953f348-5b98-4766-a014-1506298565b6",
   "metadata": {
    "tags": []
   },
   "outputs": [],
   "source": [
    "## Plot Data ##\n",
    "\n",
    "fig = tr_functions.thesis_fig(\n",
    "    title=f\"EDC of E<sub>F</sub>\",\n",
    "    xaxis_title=yaxis_title,\n",
    "    yaxis_title=\"Intensity (arb. u)\",\n",
    "    equiv_axes=False,\n",
    "    gridlines=False,\n",
    "    dtick_y=0.2,\n",
    ")\n",
    "\n",
    "y_1d, col = tr_functions.get_1d_x_slice(\n",
    "    x=new_x,\n",
    "    y=new_y,\n",
    "    data=analysis_functions.norm_data(new_data),\n",
    "    ylims=None,\n",
    "    x_range=None,\n",
    ")\n",
    "\n",
    "# Plot Data\n",
    "fig.add_trace(go.Scatter(x=y_1d, y=col, name=\"data\", line=dict(color=colors[0])))\n",
    "\n",
    "fig.show()"
   ]
  },
  {
   "cell_type": "code",
   "execution_count": null,
   "id": "ca5d68cb-cbb5-4205-95b4-1625fd7c83b3",
   "metadata": {
    "tags": []
   },
   "outputs": [],
   "source": [
    "## Fit FD ##\n",
    "import lmfit as lm\n",
    "\n",
    "T = 10  # measurement temp\n",
    "k_B = 8.617333e-5  # eV/K\n",
    "\n",
    "x = y_1d\n",
    "data = col\n",
    "\n",
    "offset_type = \"constant\"\n",
    "\n",
    "\n",
    "## FD\n",
    "def fermi_dirac(x, center, theta, amp):\n",
    "    arg = (x - center) / (2 * theta)  # x=E, center=mu, theta = k_B * T\n",
    "    return -amp / 2 * np.tanh(arg)\n",
    "\n",
    "\n",
    "## Offset\n",
    "c = np.mean(data)\n",
    "b = (data[-1] - data[0]) / (x[-1] - x[0])\n",
    "a = 0\n",
    "\n",
    "offset = fitting_functions.offset_model(offset_type, a, b, c)\n",
    "\n",
    "full_model = lm.models.Model(fermi_dirac) + offset\n",
    "\n",
    "params = full_model.make_params()\n",
    "\n",
    "# params[\"center\"].value = 20.88  # xuv\n",
    "params[\"center\"].value = 16.95  # lamp\n",
    "params[\"center\"].vary = True\n",
    "# params[\"center\"].min = 1.85\n",
    "# params[\"center\"].max = 1.95\n",
    "\n",
    "params[\"theta\"].value = k_B * T\n",
    "params[\"theta\"].vary = True\n",
    "\n",
    "\n",
    "for param in params:\n",
    "    params[param].value = np.float32(params[param].value)\n",
    "    params[param].min = np.float32(params[param].min)\n",
    "    params[param].max = np.float32(params[param].max)\n",
    "    # print(params[param].value.dtype)\n",
    "\n",
    "\n",
    "# fit = full_model.fit(data, x=x, params=params, nan_policy=\"propagate\")\n",
    "fit = full_model.fit(data.astype(np.float32), x=x.astype(np.float32), params=params)\n",
    "\n",
    "fit.plot()\n",
    "\n",
    "print(f\"EF: {fit.params['center'].value}\")"
   ]
  },
  {
   "cell_type": "markdown",
   "id": "10c94a0c-eb5c-41a4-87d9-32e8f3e31fca",
   "metadata": {},
   "source": [
    "# Plot Data"
   ]
  },
  {
   "cell_type": "code",
   "execution_count": null,
   "id": "67ac668e-f2e9-408c-b5e4-7d2805a570eb",
   "metadata": {
    "tags": []
   },
   "outputs": [],
   "source": [
    "## Plot Data ##\n",
    "\n",
    "fig = tr_functions.thesis_fig(\n",
    "    title=title,\n",
    "    xaxis_title=xaxis_title,\n",
    "    yaxis_title=yaxis_title,\n",
    "    equiv_axes=False,\n",
    "    dtick_y=1,\n",
    "    height=700,\n",
    "    # height=340,\n",
    "    width=600,\n",
    ")\n",
    "\n",
    "fig.add_trace(\n",
    "    go.Heatmap(\n",
    "        x=new_x,\n",
    "        y=new_y,\n",
    "        z=analysis_functions.norm_data(new_data),\n",
    "        coloraxis=\"coloraxis\",\n",
    "    )\n",
    ")\n",
    "\n",
    "fig.update_coloraxes(colorscale=\"Blues\", reversescale=False, cmin=0, cmax=1)\n",
    "# fig.update_coloraxes(colorscale=\"Blues\", reversescale=False, cmin=0, cmax=1)\n",
    "# fig.show(renderer=\"svg\")"
   ]
  },
  {
   "cell_type": "code",
   "execution_count": null,
   "id": "dba80b04-8636-43a3-99bc-dbede2d9e931",
   "metadata": {
    "tags": []
   },
   "outputs": [],
   "source": [
    "## Get and Plot 1D Data ##\n",
    "\n",
    "fig = tr_functions.thesis_fig(\n",
    "    # title=f\"EDC of C<sub>60</sub> HOMO and HOMO-1\",\n",
    "    # title=f\"1ML C<sub>60</sub> EDC (XUV)\",\n",
    "    title=f\"EDC\",\n",
    "    yaxis_title=yaxis_title,\n",
    "    xaxis_title=\"Intensity (arb. u)\",\n",
    "    equiv_axes=False,\n",
    "    gridlines=False,\n",
    "    height=900,\n",
    "    width=300,\n",
    "    # dtick_y=0.2,\n",
    ")\n",
    "\n",
    "y_1d, col = tr_functions.get_1d_x_slice(\n",
    "    x=new_x,\n",
    "    y=new_y,\n",
    "    data=analysis_functions.norm_data(new_data),\n",
    "    ylims=None,\n",
    "    x_range=None,\n",
    ")\n",
    "\n",
    "# Plot Data\n",
    "fig.add_trace(go.Scatter(x=col, y=y_1d, name=\"data\", line=dict(color=colors[0])))\n",
    "fig.update_yaxes(range=(np.min(y_1d), np.max(y_1d)))\n",
    "\n",
    "fig.show()"
   ]
  },
  {
   "cell_type": "code",
   "execution_count": null,
   "id": "6fda590d-97e9-4c53-a13b-8404f8d77dfb",
   "metadata": {},
   "outputs": [],
   "source": []
  }
 ],
 "metadata": {
  "kernelspec": {
   "display_name": "Python 3 (ipykernel)",
   "language": "python",
   "name": "python3"
  },
  "language_info": {
   "codemirror_mode": {
    "name": "ipython",
    "version": 3
   },
   "file_extension": ".py",
   "mimetype": "text/x-python",
   "name": "python",
   "nbconvert_exporter": "python",
   "pygments_lexer": "ipython3",
   "version": "3.8.12"
  }
 },
 "nbformat": 4,
 "nbformat_minor": 5
}
