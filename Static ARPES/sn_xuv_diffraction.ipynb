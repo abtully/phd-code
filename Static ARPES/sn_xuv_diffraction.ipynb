{
 "cells": [
  {
   "cell_type": "markdown",
   "id": "a9b6da58-2197-4d69-877c-e774a0982003",
   "metadata": {
    "tags": []
   },
   "source": [
    "## Imports and Functions"
   ]
  },
  {
   "cell_type": "code",
   "execution_count": null,
   "id": "932b4eac-4971-409a-b767-fc6775e27502",
   "metadata": {},
   "outputs": [],
   "source": [
    "%load_ext lab_black\n",
    "\n",
    "import h5py\n",
    "import os\n",
    "\n",
    "from dataclasses import dataclass\n",
    "from tqdm.auto import tqdm\n",
    "from scipy.signal import savgol_filter\n",
    "from scipy.interpolate import interp2d\n",
    "from functools import lru_cache\n",
    "import lmfit as lm\n",
    "\n",
    "from typing import Dict, List, Optional, Tuple\n",
    "import numpy as np\n",
    "import plotly.graph_objects as go\n",
    "import plotly.colors as pc\n",
    "import matplotlib.pyplot as plt\n",
    "\n",
    "\n",
    "import sys\n",
    "\n",
    "sys.path.append(r\"C:\\Users\\atully\\Code\\GitHub\\ARPES Code\\arpes-code-python\")\n",
    "from arpes_functions import (\n",
    "    fitting_functions,\n",
    "    analysis_functions,\n",
    "    plotting_functions,\n",
    "    HDF5_loader,\n",
    "    misc_functions,\n",
    "    filter_functions,\n",
    "    tr_functions,\n",
    "    loading_functions,\n",
    "    cnn,\n",
    "    polygons,\n",
    ")\n",
    "\n",
    "colors = pc.qualitative.D3\n",
    "colors = pc.qualitative.Plotly\n",
    "angstrom = \"\\u212B\"\n",
    "theta = \"\\u03B8\"\n",
    "Theta = \"\\u0398\""
   ]
  },
  {
   "cell_type": "markdown",
   "id": "9f8ebfd9-9d29-4e5e-a982-d9ec8501ebd1",
   "metadata": {},
   "source": [
    "# XUV Diffraction Data"
   ]
  },
  {
   "cell_type": "code",
   "execution_count": null,
   "id": "1ca2607c-057e-412e-a35d-b573f821b427",
   "metadata": {},
   "outputs": [],
   "source": [
    "ddir = r\"E:\\atully\\k-corrected data\\Apr_2021\\XUV_FS_gamma0\"\n",
    "files = [\"XUV_FS_gamma0_gkw11_filteredFFT_0.00int.h5\"]\n",
    "# data, theta, phi, energy = HDF5_loader.load_hdf5(fp, fn)  # load data from hdf5"
   ]
  },
  {
   "cell_type": "code",
   "execution_count": null,
   "id": "970b2759-1cdd-48f1-85da-946aababd32c",
   "metadata": {
    "tags": []
   },
   "outputs": [],
   "source": [
    "ARPES_DATA: Dict[str, tr_functions.ArpesData] = {}\n",
    "ARPES_ATTRS: Dict[str, tr_functions.ArpesAttrs] = {}\n",
    "for file in tqdm(files):\n",
    "    data, kx, ky, energy = loading_functions.load_hdf5(ddir, file)\n",
    "    ARPES_DATA[file] = tr_functions.ArpesData(\n",
    "        data=data, theta=kx, phi_or_time=ky, energy=energy\n",
    "    )\n",
    "    ARPES_ATTRS[file] = tr_functions.load_attrs_hdf5(ddir, file)\n",
    "\n",
    "ad = ARPES_DATA[files[0]]"
   ]
  },
  {
   "cell_type": "code",
   "execution_count": null,
   "id": "46ee43e4-269f-45c9-aa67-6086e42a4af1",
   "metadata": {
    "tags": []
   },
   "outputs": [],
   "source": [
    "EF = 18.3\n",
    "ad.energy = ad.energy - EF"
   ]
  },
  {
   "cell_type": "code",
   "execution_count": null,
   "id": "e1cbd758-ccb9-4035-91ce-f5068d95b451",
   "metadata": {
    "tags": []
   },
   "outputs": [],
   "source": [
    "title = f\"E - E<sub>F</sub> = \"\n",
    "xaxis_title = f\"k<sub>x</sub> ({angstrom}<sup>-1</sup>)\"\n",
    "yaxis_title = f\"k<sub>y</sub> ({angstrom}<sup>-1</sup>)\""
   ]
  },
  {
   "cell_type": "code",
   "execution_count": null,
   "id": "977032c5-0138-4c9d-a17b-7d01dd30b656",
   "metadata": {
    "tags": []
   },
   "outputs": [],
   "source": [
    "slice_dim = \"y\"\n",
    "# slice_val = 0\n",
    "int_range = 0.2\n",
    "xlim = (-0.73, 0.52)\n",
    "ylim = (-1.4, 0.1)\n",
    "# ylim = None\n",
    "x_bin = 1\n",
    "y_bin = 1\n",
    "\n",
    "\n",
    "# Load Data\n",
    "\n",
    "for i, v in enumerate([0, -0.2, -0.4]):  # CT2\n",
    "    # for i, v in enumerate([2.4, 2.3, 2.2, 2.1, 2.0]):  # CT1\n",
    "    x, y, d = tr_functions.slice_datacube(\n",
    "        ad_dataclass=ad,\n",
    "        slice_dim=slice_dim,\n",
    "        slice_val=v,\n",
    "        int_range=int_range,\n",
    "        xlim=xlim,\n",
    "        ylim=ylim,\n",
    "        x_bin=x_bin,\n",
    "        y_bin=y_bin,\n",
    "        norm_data=False,\n",
    "        plot_data=False,\n",
    "    )\n",
    "\n",
    "    ## Plot Data Plotly\n",
    "    fig = tr_functions.thesis_fig(\n",
    "        title=f\"{title}{v}\",\n",
    "        xaxis_title=xaxis_title,\n",
    "        yaxis_title=yaxis_title,\n",
    "        equiv_axes=True,\n",
    "        height=500,\n",
    "        width=500,\n",
    "        dtick_y=0.4,\n",
    "    )\n",
    "\n",
    "    fig.add_trace(go.Heatmap(x=x, y=y, z=d, coloraxis=\"coloraxis\"))\n",
    "\n",
    "    #     hexagon = polygons.gen_polygon(6, 0.42, rotation=30, translation=(0, 0))\n",
    "    #     fig = polygons.plot_polygon(\n",
    "    #         hexagon, color=\"yellow\", fig=fig, show=False, dash=True, dash_width=3\n",
    "    #     )\n",
    "\n",
    "    #     hexagon = polygons.gen_polygon(6, 0.42, rotation=30, translation=(0, 2 * (-0.36)))\n",
    "    #     fig = polygons.plot_polygon(\n",
    "    #         hexagon, color=\"yellow\", fig=fig, show=False, dash=True, dash_width=3\n",
    "    #     )\n",
    "\n",
    "    # fig.update_yaxes(scaleanchor=\"x\", scaleratio=1)\n",
    "\n",
    "    if xlim is not None:\n",
    "        fig.update_xaxes(range=[xlim[0], xlim[1]], constrain=\"domain\")\n",
    "\n",
    "    # fig.update_coloraxes(cmin=0, cmax=1)\n",
    "    fig.update_coloraxes(colorscale=\"Blues\", reversescale=False)\n",
    "    fig.show()"
   ]
  },
  {
   "cell_type": "code",
   "execution_count": null,
   "id": "27983cf1-fcbd-40dc-8b03-4f1b51b5cd9f",
   "metadata": {
    "tags": []
   },
   "outputs": [],
   "source": [
    "v = -0.2\n",
    "\n",
    "slice_dim = \"y\"\n",
    "int_range = 0.2\n",
    "xlim = (-0.73, 0.52)\n",
    "ylim = (-1.4, 0.1)\n",
    "x_bin = 1\n",
    "y_bin = 1\n",
    "\n",
    "x, y, d = tr_functions.slice_datacube(\n",
    "    ad_dataclass=ad,\n",
    "    slice_dim=slice_dim,\n",
    "    slice_val=v,\n",
    "    int_range=int_range,\n",
    "    xlim=xlim,\n",
    "    ylim=ylim,\n",
    "    x_bin=x_bin,\n",
    "    y_bin=y_bin,\n",
    "    norm_data=False,\n",
    "    plot_data=False,\n",
    ")"
   ]
  },
  {
   "cell_type": "code",
   "execution_count": null,
   "id": "36f984d5-4e89-4e24-b125-3f31aac1041a",
   "metadata": {
    "tags": []
   },
   "outputs": [],
   "source": [
    "gm = -0.36\n",
    "window = 0.06\n",
    "\n",
    "## 1st BZ\n",
    "offset = 0\n",
    "ylim1 = (offset * 2 - window, offset * 2 + window)\n",
    "ylim2 = (gm * 0.5 - window, gm * 0.5 + window)  # down\n",
    "\n",
    "## 2nd BZ\n",
    "offset = gm\n",
    "ylim1 = (offset * 2 - window, offset * 2 + window)\n",
    "ylim2 = (offset * 1.45 - window, offset * 1.45 + window)\n",
    "\n",
    "## Noise sample\n",
    "ylim3 = (-1.3 - window, -1.3 + window)\n",
    "\n",
    "ylims = []\n",
    "ylims = [ylim1, ylim2, ylim3]"
   ]
  },
  {
   "cell_type": "code",
   "execution_count": null,
   "id": "ff0f1914-b1ec-46d8-9c15-9b6a3a102128",
   "metadata": {
    "tags": []
   },
   "outputs": [],
   "source": [
    "## Heatmap\n",
    "fig = tr_functions.thesis_fig(\n",
    "    title=f\"{title}{v}\",\n",
    "    xaxis_title=xaxis_title,\n",
    "    yaxis_title=yaxis_title,\n",
    "    equiv_axes=True,\n",
    "    height=500,\n",
    "    width=500,\n",
    "    dtick_y=0.4,\n",
    ")\n",
    "\n",
    "fig.add_trace(go.Heatmap(x=x, y=y, z=d, coloraxis=\"coloraxis\"))\n",
    "fig.add_hline(ylim1[0], line_width=1, line_dash=\"dot\", line_color=colors[0])\n",
    "fig.add_hline(ylim1[1], line_width=1, line_dash=\"dot\", line_color=colors[0])\n",
    "fig.add_hline(ylim2[0], line_width=1, line_dash=\"dot\", line_color=colors[1])\n",
    "fig.add_hline(ylim2[1], line_width=1, line_dash=\"dot\", line_color=colors[1])\n",
    "fig.add_hline(ylim3[0], line_width=1, line_dash=\"dot\", line_color=colors[2])\n",
    "fig.add_hline(ylim3[1], line_width=1, line_dash=\"dot\", line_color=colors[2])\n",
    "\n",
    "fig.add_vline(0.3, line_width=1, line_dash=\"dot\", line_color=\"grey\")\n",
    "fig.add_vline(0.5, line_width=1, line_dash=\"dot\", line_color=\"grey\")\n",
    "\n",
    "\n",
    "hexagon = polygons.gen_polygon(6, 0.42, rotation=30, translation=(0, 2 * (-0.36)))\n",
    "fig = polygons.plot_polygon(\n",
    "    hexagon, color=colors[0], fig=fig, show=False, dash=True, dash_width=3\n",
    ")\n",
    "hexagon = polygons.gen_polygon(6, 0.42, rotation=0, translation=(0, 2 * (-0.36)))\n",
    "fig = polygons.plot_polygon(\n",
    "    hexagon, color=colors[1], fig=fig, show=False, dash=True, dash_width=3\n",
    ")\n",
    "\n",
    "if xlim is not None:\n",
    "    fig.update_xaxes(range=[xlim[0], xlim[1]], constrain=\"domain\")\n",
    "\n",
    "# fig.update_coloraxes(cmin=0, cmax=1)\n",
    "fig.update_coloraxes(colorscale=\"Blues\", reversescale=False)\n",
    "\n",
    "fig.update_xaxes(range=[0.25, 0.52], constrain=\"domain\")\n",
    "fig.update_yaxes(range=[-0.8, -0.4], constrain=\"domain\")\n",
    "\n",
    "fig.show()"
   ]
  },
  {
   "cell_type": "code",
   "execution_count": null,
   "id": "874a6533-4c66-4d6d-9c10-a155f4ef65fe",
   "metadata": {},
   "outputs": [],
   "source": [
    "## MDCs\n",
    "fig = tr_functions.thesis_fig(\n",
    "    title=f\"MDCs\",\n",
    "    xaxis_title=xaxis_title,\n",
    "    yaxis_title=f\"Intensity (arb. u.)\",\n",
    "    equiv_axes=False,\n",
    "    # height=500,\n",
    "    # width=500,\n",
    "    # dtick_y=0.4,\n",
    "    gridlines=False,\n",
    ")\n",
    "\n",
    "cs = [colors[0], colors[1], colors[2]]\n",
    "names = [\"dominant\", \"rot 30\", \"noise\"]\n",
    "for ylim, c, name in zip(ylims, cs, names):\n",
    "    x_1d, row = tr_functions.get_1d_y_slice(\n",
    "        x=x,\n",
    "        y=y,\n",
    "        data=d,\n",
    "        xlims=(0.3, 0.5),\n",
    "        # xlims=None,\n",
    "        y_range=ylim,\n",
    "    )\n",
    "\n",
    "    fig.add_trace(go.Scatter(x=x_1d, y=row, line=dict(color=c), name=name))\n",
    "    # fig.add_vline(0.42, line_width=1, line_dash=\"dot\", line_color=\"green\")\n",
    "    # fig.add_vline(0.3637, line_width=1, line_dash=\"dot\", line_color=\"hotpink\")\n",
    "\n",
    "\n",
    "fig.show()"
   ]
  },
  {
   "cell_type": "code",
   "execution_count": null,
   "id": "91a32994-aa0c-4f7b-a9cf-34db4e860d7e",
   "metadata": {},
   "outputs": [],
   "source": [
    "noise_x_range = [0.47, 0.5]\n",
    "fraction = 0.05\n",
    "\n",
    "\n",
    "xs = []\n",
    "datas = []\n",
    "for ylim, c, name in zip(ylims, cs, names):\n",
    "    x_1d, row = tr_functions.get_1d_y_slice(\n",
    "        x=x,\n",
    "        y=y,\n",
    "        data=d,\n",
    "        xlims=(0.3, 0.5),\n",
    "        y_range=ylim,\n",
    "    )\n",
    "    xs.append(x_1d)\n",
    "    datas.append(row)"
   ]
  },
  {
   "cell_type": "code",
   "execution_count": null,
   "id": "a501296d-ef7b-4f56-a13d-a5d41a623ae9",
   "metadata": {
    "tags": []
   },
   "outputs": [],
   "source": [
    "fig = go.Figure()\n",
    "for x_, data, name in zip(xs, datas, names):\n",
    "    fig.add_trace(go.Scatter(x=x_, y=data, name=name))\n",
    "fig.update_layout(template=\"plotly_white\", width=600, height=400)\n",
    "for v in noise_x_range:\n",
    "    fig.add_vline(v, line=dict(color=\"black\", dash=\"dot\"))\n",
    "fig.show()"
   ]
  },
  {
   "cell_type": "code",
   "execution_count": null,
   "id": "048d75fa-7130-49d2-944c-e23fb4e22a92",
   "metadata": {
    "tags": []
   },
   "outputs": [],
   "source": [
    "fig = go.Figure()\n",
    "for x_, data, name in zip(xs, datas, names):\n",
    "    data -= np.nanmean(\n",
    "        data[np.logical_and(x_ > noise_x_range[0], x_ < noise_x_range[1])]\n",
    "    )\n",
    "    fig.add_trace(go.Scatter(x=x_, y=data, name=name))\n",
    "fig.update_layout(template=\"plotly_white\", width=600, height=400)\n",
    "fig.show()"
   ]
  },
  {
   "cell_type": "code",
   "execution_count": null,
   "id": "36111e09-4035-4318-884c-e7cc17523a6e",
   "metadata": {
    "tags": []
   },
   "outputs": [],
   "source": [
    "triangle_coords = np.array([(0.325, 0), (0.377, 3.35), (0.45, 0)])\n",
    "fig.add_trace(\n",
    "    go.Scatter(\n",
    "        x=triangle_coords[:, 0],\n",
    "        y=triangle_coords[:, 1],\n",
    "        mode=\"lines\",\n",
    "        line=dict(color=\"black\", dash=\"dash\"),\n",
    "        name=\"feature fit\",\n",
    "    )\n",
    ")\n",
    "fig.show()"
   ]
  },
  {
   "cell_type": "code",
   "execution_count": null,
   "id": "3151fd23-64b9-45de-a10f-3f99bc18ab6f",
   "metadata": {
    "tags": []
   },
   "outputs": [],
   "source": [
    "new_coords = np.copy(triangle_coords)\n",
    "new_coords[:, 1] = new_coords[:, 1] * fraction\n",
    "fig.add_trace(\n",
    "    go.Scatter(\n",
    "        x=new_coords[:, 0],\n",
    "        y=new_coords[:, 1],\n",
    "        mode=\"lines\",\n",
    "        line=dict(color=\"black\", dash=\"dash\"),\n",
    "        name=f\"{fraction*100}%\",\n",
    "    )\n",
    ")\n",
    "fig.show()"
   ]
  },
  {
   "cell_type": "code",
   "execution_count": null,
   "id": "19130fe0-c516-4d85-a566-8c6709c81835",
   "metadata": {
    "tags": []
   },
   "outputs": [],
   "source": [
    "line = lm.models.LinearModel()\n",
    "\n",
    "line_fits = []\n",
    "for coord_pair in [new_coords[:2], new_coords[1:]]:\n",
    "    line_fit = line.fit(coord_pair[:, 1], x=coord_pair[:, 0])\n",
    "    line_fits.append(line_fit)\n",
    "\n",
    "new_data = np.copy(datas[1])\n",
    "new_x = xs[1]\n",
    "# Go through all values, and figure out what we need to add\n",
    "for i, x_ in enumerate(new_x):\n",
    "    # If before the dashed triangle\n",
    "    if x_ < triangle_coords[0, 0]:\n",
    "        continue\n",
    "    # If before peak coord\n",
    "    if x_ < triangle_coords[1, 0]:\n",
    "        new_data[i] += line_fits[0].eval(x=x_)\n",
    "        continue\n",
    "    # If after peak but before end of triangle\n",
    "    elif x_ < triangle_coords[2, 0]:\n",
    "        new_data[i] += line_fits[1].eval(x=x_)\n",
    "        continue\n",
    "    # If after triangle\n",
    "    else:\n",
    "        break"
   ]
  },
  {
   "cell_type": "code",
   "execution_count": null,
   "id": "f5175d31-8dd2-4e9c-9e3b-98e071512f8c",
   "metadata": {
    "tags": []
   },
   "outputs": [],
   "source": [
    "fig.add_trace(\n",
    "    go.Scatter(\n",
    "        x=new_x,\n",
    "        y=new_data,\n",
    "        mode=\"lines\",\n",
    "        line_color=\"hotpink\",\n",
    "        name=f\"rot 30 + {fraction*100}%\",\n",
    "    )\n",
    ")\n",
    "fig.show()"
   ]
  },
  {
   "cell_type": "code",
   "execution_count": null,
   "id": "948f159a-8b98-4594-8c84-26010bafce30",
   "metadata": {},
   "outputs": [],
   "source": []
  },
  {
   "cell_type": "code",
   "execution_count": null,
   "id": "816e0cb0-07ce-46cd-9819-3b7508358e99",
   "metadata": {},
   "outputs": [],
   "source": []
  }
 ],
 "metadata": {
  "kernelspec": {
   "display_name": "Python 3 (ipykernel)",
   "language": "python",
   "name": "python3"
  },
  "language_info": {
   "codemirror_mode": {
    "name": "ipython",
    "version": 3
   },
   "file_extension": ".py",
   "mimetype": "text/x-python",
   "name": "python",
   "nbconvert_exporter": "python",
   "pygments_lexer": "ipython3",
   "version": "3.8.12"
  }
 },
 "nbformat": 4,
 "nbformat_minor": 5
}
