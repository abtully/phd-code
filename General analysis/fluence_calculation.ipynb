{
 "cells": [
  {
   "cell_type": "markdown",
   "id": "a9b6da58-2197-4d69-877c-e774a0982003",
   "metadata": {
    "tags": []
   },
   "source": [
    "## Imports and Functions"
   ]
  },
  {
   "cell_type": "code",
   "execution_count": null,
   "id": "932b4eac-4971-409a-b767-fc6775e27502",
   "metadata": {},
   "outputs": [],
   "source": [
    "import numpy as np"
   ]
  },
  {
   "cell_type": "markdown",
   "id": "8745fc15-fd97-499c-8119-a2bf404ec4e2",
   "metadata": {},
   "source": [
    "Fluence=  (power of 3eV measured after generation) * (reflectivity of metallic mirrors at 400nm)^2 / (area*rep rate)\n",
    "\n",
    "* reflectivity is ~99.4% for 400nm if I remember (squared because there are two)\n",
    "* Area comes from camera data\n",
    "* Power should be measured after the dichroic mirror\n",
    "* rep rate = 250 kHz"
   ]
  },
  {
   "cell_type": "markdown",
   "id": "cf04e125-9629-47e6-9a9b-5aeb7a6e1aa1",
   "metadata": {},
   "source": [
    "the dichroic mirror after the 3 eV generation; immediatly after the telescope lens"
   ]
  },
  {
   "cell_type": "markdown",
   "id": "99c717a5-69dd-4d2c-92da-2c3e87ed667c",
   "metadata": {},
   "source": [
    "Sydney (before expt): the 3.1 eV is giving me ~8 uJ/cm^2 incident, which can be increased by changing the pump diameter"
   ]
  },
  {
   "cell_type": "markdown",
   "id": "75ad31b4-1d7f-4a1d-a1d4-462d43ff14a8",
   "metadata": {},
   "source": [
    "Beam Spot Sizes:\n",
    "* 6eV spot: 12 by 11\n",
    "* 3eV spot: 80 by 280"
   ]
  },
  {
   "attachments": {
    "f0689306-73dc-45db-b140-4b73f1933dae.png": {
     "image/png": "[encoded data removed]"
    }
   },
   "cell_type": "markdown",
   "id": "859a0db8-51fb-4389-934e-51503d9a48cb",
   "metadata": {},
   "source": [
    "![image.png](attachment:f0689306-73dc-45db-b140-4b73f1933dae.png)"
   ]
  },
  {
   "cell_type": "code",
   "execution_count": null,
   "id": "6ad5c7f7-5d4a-4dd4-8ac5-b2cbf6a1880e",
   "metadata": {
    "tags": []
   },
   "outputs": [],
   "source": [
    "def beam_area(fwhm_1, fwhm_2):  # fwhm in um\n",
    "    beam_1e = fwhm_1/np.sqrt(2*np.log(2))  # convert fwhm to 1/e value (beam radius)\n",
    "    beam_2e = fwhm_2/np.sqrt(2*np.log(2))\n",
    "    return np.pi * ((beam_1e * 1e-6) * (beam_2e * 1e-6)) / 2  # in m"
   ]
  },
  {
   "cell_type": "code",
   "execution_count": null,
   "id": "26857f8e-71c9-467a-96bf-19198f89f6fb",
   "metadata": {},
   "outputs": [],
   "source": [
    "def fluence_calc(power, reflect_400, area, rep_rate):\n",
    "    fluence = power * reflect_400**2 / (area * rep_rate)\n",
    "    return fluence * 1e6 / 100**2  # convert J to uJ and m^2 to cm^2"
   ]
  },
  {
   "cell_type": "code",
   "execution_count": null,
   "id": "59591dfc-a226-4631-b142-9af80a00d262",
   "metadata": {},
   "outputs": [],
   "source": [
    "reflect_400 = 0.9143  # 91.43% at 400 nm, squared because there are 2\n",
    "# area_3eV = np.pi * ((80 * 1e-6) * (280 * 1e-6)) / 2  # in m\n",
    "area_3eV = beam_area(80, 280)  # in m\n",
    "power_pump = 10 / 1000  # 10 mW pump power\n",
    "rep_rate = 250 * 1000  # 250 kHz\n",
    "\n",
    "# # Check against Sydney's results\n",
    "# area_3eV = np.pi * ((400 * 1e-6) * (400 * 1e-6)) / 2  # in m; Sydney's\n",
    "# power_pump = 4.6 / 1000  # 10 mW pump power\n",
    "\n",
    "# area_6eV = np.pi * ((12/100) * (11/100)) / 2  # in cm\n",
    "# power_probe = 35 / 1000  # 35 mW probe power (p-polarised for full experiment)\n",
    "\n",
    "\n",
    "print(f'{np.round(fluence_calc(power_pump, reflect_400, area_3eV, rep_rate), 2)} uJ/cm^2')  # uJ/cm^2"
   ]
  },
  {
   "cell_type": "markdown",
   "id": "24098a86-6230-47fd-b183-81710ade1967",
   "metadata": {},
   "source": [
    "## May 2023"
   ]
  },
  {
   "cell_type": "code",
   "execution_count": null,
   "id": "88e8d2b3-970e-4e50-b7fd-e3e2cdb3b06a",
   "metadata": {
    "tags": []
   },
   "outputs": [],
   "source": [
    "reflect_400 = 0.9143  # 91.43% at 400 nm, squared because there are 2\n",
    "\n",
    "## May 9 measurment\n",
    "# area_3eV = beam_area(37, 70)  # beginning of mesurements\n",
    "# power_pump = 9 / 1000  # aiming for a fluence of ~ 100 uJ/cm^2\n",
    "# area_3eV = beam_area(65, 124)  # after lamp measurements\n",
    "# power_pump = 5.9 / 1000\n",
    "\n",
    "## May 13 measurments\n",
    "power_pump = 5 / 1000  # start with 3 mW for flunce of ~ 108 uJ/cm^2\n",
    "area_3eV = beam_area(68, 120)\n",
    "\n",
    "rep_rate = 250 * 1000  # 250 kHz\n",
    "\n",
    "print(f'Pump Fluence: {np.round(fluence_calc(power_pump, reflect_400, area_3eV, rep_rate), 2)} uJ/cm^2')  # uJ/cm^2"
   ]
  },
  {
   "cell_type": "code",
   "execution_count": null,
   "id": "d7133a4b-48b5-4de2-8054-5c0830270ab8",
   "metadata": {
    "tags": []
   },
   "outputs": [],
   "source": [
    "reflect_400 = 0.9143  # 91.43% at 400 nm, squared because there are 2\n",
    "# area_6eV = beam_area(20, 12)\n",
    "# power = (35/1000) / 1000  # 35 uW probe power\n",
    "# power = (50/1000) / 1000  # 50 uW probe power\n",
    "\n",
    "## May 13\n",
    "area_6eV = beam_area(20, 10)  # beginning\n",
    "power = (25/1000) / 1000  # 5 to 25 uW probe power\n",
    "\n",
    "rep_rate = 250 * 1000  # 250 kHz\n",
    "\n",
    "print(f'Probe Fluence: {np.round(fluence_calc(power, reflect_400, area_6eV, rep_rate), 2)} uJ/cm^2')  # uJ/cm^2"
   ]
  },
  {
   "cell_type": "code",
   "execution_count": null,
   "id": "ba6f7b32-6a51-4e1b-9d39-46762cec8d71",
   "metadata": {},
   "outputs": [],
   "source": []
  },
  {
   "cell_type": "markdown",
   "id": "5f59d660-69d1-40a7-b012-0ff7e871b84e",
   "metadata": {},
   "source": [
    "## February 2023"
   ]
  },
  {
   "cell_type": "code",
   "execution_count": null,
   "id": "e6e1a613-54c8-4835-a4f0-6608185a663a",
   "metadata": {
    "tags": []
   },
   "outputs": [],
   "source": [
    "# def beam_area(fwhm_1, fwhm_2):  # fwhm in um\n",
    "#     beam_1e = fwhm_1/np.sqrt(2*np.log(2))  # convert fwhm to 1/e value (beam radius)\n",
    "#     beam_2e = fwhm_2/np.sqrt(2*np.log(2))\n",
    "#     return np.pi * ((beam_1e * 1e-6) * (beam_2e * 1e-6)) / 2  # in m"
   ]
  },
  {
   "cell_type": "code",
   "execution_count": null,
   "id": "b60bafdd-3976-448e-aca6-73b506153894",
   "metadata": {
    "tags": []
   },
   "outputs": [],
   "source": [
    "reflect_400 = 0.9143  # 91.43% at 400 nm, squared because there are 2\n",
    "area_3eV = beam_area(44, 145)  # before lamp measurements\n",
    "power_pump = 6 / 1000  # 6 mW pump power; max pump power\n",
    "area_3eV = beam_area(60, 70)  # after lamp measurements\n",
    "power_pump = 5.9 / 1000  # 6 mW pump power; max pump power\n",
    "\n",
    "rep_rate = 250 * 1000  # 250 kHz\n",
    "\n",
    "print(f'Pump Fluence: {np.round(fluence_calc(power_pump, reflect_400, area_3eV, rep_rate), 2)} uJ/cm^2')  # uJ/cm^2"
   ]
  },
  {
   "cell_type": "markdown",
   "id": "ca7ee5eb-2c42-40d8-adf1-a4d6abf04cc4",
   "metadata": {},
   "source": [
    "To find time resolution: use fwhm 0.076 mm. * 2 / c"
   ]
  },
  {
   "cell_type": "code",
   "execution_count": null,
   "id": "9602fe2c-4324-47a0-9b6c-60a2268b6f5e",
   "metadata": {
    "tags": []
   },
   "outputs": [],
   "source": [
    "from scipy.constants import c"
   ]
  },
  {
   "cell_type": "code",
   "execution_count": null,
   "id": "9d429250-a897-4199-bba8-a1e7d8cbf642",
   "metadata": {
    "tags": []
   },
   "outputs": [],
   "source": [
    "def time_res(fwhm):  # in um\n",
    "    return fwhm * 1e-6 * 2 / c"
   ]
  },
  {
   "cell_type": "code",
   "execution_count": null,
   "id": "cad60243-9d35-46c8-9633-217d4169628d",
   "metadata": {
    "tags": []
   },
   "outputs": [],
   "source": [
    "fwhm = 76  # um\n",
    "\n",
    "print(f'{np.round(time_res(fwhm), 15)} seconds')  # e-12 is pico, e-15 is femto"
   ]
  },
  {
   "cell_type": "markdown",
   "id": "4d1be6b7-5534-494b-8e07-360def568624",
   "metadata": {},
   "source": [
    "500 femtoseconds"
   ]
  },
  {
   "cell_type": "code",
   "execution_count": null,
   "id": "3c36aa6f-c41c-4968-a692-5852a3c8db58",
   "metadata": {
    "tags": []
   },
   "outputs": [],
   "source": [
    "reflect_400 = 0.9143  # 91.43% at 400 nm, squared because there are 2\n",
    "beam_area = beam_area(10, 8)\n",
    "power = (40/1000) / 1000  # 40 uW probe power\n",
    "rep_rate = 250 * 1000  # 250 kHz\n",
    "\n",
    "print(f'Probe Fluence: {np.round(fluence_calc(power, reflect_400, beam_area, rep_rate), 2)} uJ/cm^2')  # uJ/cm^2"
   ]
  },
  {
   "cell_type": "markdown",
   "id": "d2942f3d-02d9-4dd3-9bea-c7bd3707a53d",
   "metadata": {},
   "source": [
    "But the 6 eV is quite lossy, not calculated here. We probably are only seeing about 20% of this fluence at the actual sample."
   ]
  },
  {
   "cell_type": "markdown",
   "id": "5b5377f6-bf5c-49ca-b51b-625ae2141c74",
   "metadata": {},
   "source": [
    "# Find Approx. Fluence of XUV"
   ]
  },
  {
   "cell_type": "code",
   "execution_count": null,
   "id": "aee57a51-afc3-4e7f-b74c-021201cd7c9b",
   "metadata": {
    "tags": []
   },
   "outputs": [],
   "source": [
    "reflect_400 = 1  # conservative\n",
    "area_pump = beam_area(100, 100)  # XUV\n",
    "power_pump = 250 / 1000  # 250 mW pump power; 500 mW is our damage threshold\n",
    "rep_rate = 60 * 1e6  # 60 MHz\n",
    "\n",
    "print(f'{np.round(fluence_calc(power_pump, reflect_400, area_3eV, rep_rate), 2)} uJ/cm^2')  # uJ/cm^2"
   ]
  },
  {
   "cell_type": "code",
   "execution_count": null,
   "id": "a0e70baa-8194-4653-baca-5c61df9d53d7",
   "metadata": {},
   "outputs": [],
   "source": []
  },
  {
   "cell_type": "markdown",
   "id": "5b80e1f6-d56b-4cd6-8b1e-fbf13b74314b",
   "metadata": {},
   "source": [
    "# MM to Picoseconds Delay"
   ]
  },
  {
   "cell_type": "code",
   "execution_count": null,
   "id": "8a315dd3-72dd-4a2c-8f8b-923eb685e244",
   "metadata": {
    "tags": []
   },
   "outputs": [],
   "source": [
    "time_zero = 37.96\n",
    "# mm_val = 38.05\n",
    "mm_val = 37.81\n",
    "\n",
    "delay = ((mm_val - time_zero) * 1e-3 * 2) / (3e8) \n",
    "print(f'{np.round(delay * 1e12, 3)} ps')  # e-12 is pico, e-15 is femto\n",
    "\n",
    "# ((mm_val - time_zero) * 1e-3 * 2) / c"
   ]
  },
  {
   "cell_type": "code",
   "execution_count": null,
   "id": "92ae2232-0f23-4b13-a202-b6f1dfa9a7e2",
   "metadata": {},
   "outputs": [],
   "source": [
    "x=0, y=-0.63, z=205.5, theta=0, phi=0"
   ]
  }
 ],
 "metadata": {
  "kernelspec": {
   "display_name": "Python 3 (ipykernel)",
   "language": "python",
   "name": "python3"
  },
  "language_info": {
   "codemirror_mode": {
    "name": "ipython",
    "version": 3
   },
   "file_extension": ".py",
   "mimetype": "text/x-python",
   "name": "python",
   "nbconvert_exporter": "python",
   "pygments_lexer": "ipython3",
   "version": "3.8.12"
  }
 },
 "nbformat": 4,
 "nbformat_minor": 5
}
