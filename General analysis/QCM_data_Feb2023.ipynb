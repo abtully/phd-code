{
 "cells": [
  {
   "cell_type": "code",
   "execution_count": null,
   "id": "32f9cd46-2bbd-4789-bfe6-a3a48ad141ff",
   "metadata": {
    "tags": []
   },
   "outputs": [],
   "source": [
    "%load_ext lab_black\n",
    "\n",
    "import h5py\n",
    "import os\n",
    "import numpy as np\n",
    "import pandas as pd\n",
    "from typing import Dict, List, Optional, Tuple\n",
    "\n",
    "from dataclasses import dataclass\n",
    "from tqdm.auto import tqdm\n",
    "from scipy.signal import savgol_filter\n",
    "from scipy.interpolate import interp2d\n",
    "from functools import lru_cache\n",
    "import lmfit as lm\n",
    "\n",
    "\n",
    "import plotly.graph_objects as go\n",
    "import plotly.colors as pc\n",
    "\n",
    "# plt.style.use('ggplot')\n",
    "import plotly.io as pio\n",
    "\n",
    "pio.templates.default = \"plotly_white\"\n",
    "pio.renderers.default = \"jupyterlab\"\n",
    "import matplotlib.pyplot as plt\n",
    "\n",
    "import sys\n",
    "\n",
    "sys.path.append(r\"C:\\Users\\atully\\Code\\GitHub\\ARPES Code\\arpes-code-python\")\n",
    "from arpes_functions import (\n",
    "    fitting_functions,\n",
    "    tr_functions,\n",
    ")\n",
    "\n",
    "\n",
    "colors = pc.qualitative.D3\n",
    "angstrom = \"\\u212B\"\n",
    "degree = \"\\u00B0\""
   ]
  },
  {
   "cell_type": "code",
   "execution_count": null,
   "id": "894f8782-33a4-4633-b2f8-1b6601ff70e5",
   "metadata": {
    "tags": []
   },
   "outputs": [],
   "source": [
    "default_layout = dict(\n",
    "    template=\"plotly_white\",\n",
    "    xaxis=dict(\n",
    "        mirror=True,\n",
    "        ticks=\"outside\",\n",
    "        showline=True,\n",
    "        linecolor=\"black\",\n",
    "    ),\n",
    "    yaxis=dict(\n",
    "        mirror=True,\n",
    "        ticks=\"outside\",\n",
    "        showline=True,\n",
    "        linecolor=\"black\",\n",
    "    ),\n",
    ")"
   ]
  },
  {
   "cell_type": "code",
   "execution_count": null,
   "id": "1bfd851c-0684-43ac-bfbb-e7c6d57c74ce",
   "metadata": {
    "tags": []
   },
   "outputs": [],
   "source": [
    "fp = r\"E:\\atully\\QCM data\""
   ]
  },
  {
   "cell_type": "markdown",
   "id": "b241cc97-4942-4be5-983f-b3804667665b",
   "metadata": {},
   "source": [
    "# QCM Data: June 2023"
   ]
  },
  {
   "cell_type": "markdown",
   "id": "9a8ae131-ccef-469b-88e4-e0077937edb4",
   "metadata": {},
   "source": [
    "## QCM 1: Stage 1"
   ]
  },
  {
   "cell_type": "code",
   "execution_count": null,
   "id": "9be5c26f-fae3-4240-90ee-95146cddbf60",
   "metadata": {},
   "outputs": [],
   "source": [
    "title = \"QCM #1\"\n",
    "data_path = os.path.join(fp, \"22_06_2023_QCM1.csv\")\n",
    "df = pd.read_csv(data_path, header=1, sep=\";\")  # 2nd line of csv file is headers\n",
    "df = df.drop(26990)\n",
    "df"
   ]
  },
  {
   "cell_type": "code",
   "execution_count": null,
   "id": "c2aaf21b-99cf-41f8-81c0-f3c6562531f5",
   "metadata": {
    "tags": []
   },
   "outputs": [],
   "source": [
    "# Get data from df\n",
    "\n",
    "x_data = df.iloc[:, 0][::50]  # get every 50th datapoint\n",
    "y_data = df.iloc[:, 2][::50]"
   ]
  },
  {
   "cell_type": "code",
   "execution_count": null,
   "id": "b7b4ac9a-696d-43f9-a359-f6c0a4b0a396",
   "metadata": {
    "tags": []
   },
   "outputs": [],
   "source": [
    "import datetime\n",
    "\n",
    "x_datanew = x_data.apply(\n",
    "    lambda datestring: pd.Timestamp(\n",
    "        datetime.datetime.strptime(datestring[:-4], \"%H:%M:%S\")\n",
    "    )\n",
    ")"
   ]
  },
  {
   "cell_type": "code",
   "execution_count": null,
   "id": "9d1f3c62-b08a-44cb-b175-881c522ba397",
   "metadata": {
    "tags": []
   },
   "outputs": [],
   "source": [
    "fig = go.Figure()\n",
    "fig.add_trace(go.Scatter(x=x_datanew, y=y_data, mode=\"lines\", name=\"data\"))\n",
    "\n",
    "fig.update_layout(\n",
    "    xaxis_tickformat=\"%H:%M\",\n",
    "    xaxis_title=\"Time (min)\",\n",
    "    yaxis_title=\"Thickness (nm)\",\n",
    "    title=title,\n",
    "    **default_layout\n",
    ")"
   ]
  },
  {
   "cell_type": "code",
   "execution_count": null,
   "id": "22ec523d-c3e5-4f14-966a-bbd77907eb15",
   "metadata": {
    "tags": []
   },
   "outputs": [],
   "source": [
    "xtry = x_datanew.apply(lambda x: float(x.value))\n",
    "xtry -= min(xtry)  # get rid of offset from unix time\n",
    "xtry /= 1e9  # ns to s\n",
    "xtry /= 60  # s to min\n",
    "xtry"
   ]
  },
  {
   "cell_type": "code",
   "execution_count": null,
   "id": "ef705a69-7af1-4bbc-8812-3b4a4566d23d",
   "metadata": {
    "tags": []
   },
   "outputs": [],
   "source": [
    "fit1 = fitting_functions.fit_linear_data(\n",
    "    x=np.array(xtry), data=np.array(y_data), num=1, aes=1, bes=1, offset_type=None\n",
    ")\n",
    "fig.add_trace(\n",
    "    go.Scatter(\n",
    "        x=x_datanew,\n",
    "        y=fit1.eval(x=xtry),\n",
    "        mode=\"lines\",\n",
    "        name=\"linear fit\",\n",
    "        line=dict(color=\"red\", dash=\"dash\"),\n",
    "    )\n",
    ")\n",
    "fig.show()\n",
    "print(\n",
    "    f\"slope: {np.round(fit1.values['i0_slope'],3)} nm/min, intercept: {np.round(fit1.values['i0_intercept'], 3)} nm\"\n",
    ")\n",
    "print(f\"slope * 3 hours = {np.round(fit1.values['i0_slope']*3*60,3)} nm\")"
   ]
  },
  {
   "cell_type": "markdown",
   "id": "0b21e714-08f2-4b28-b24b-6f2c5da3669a",
   "metadata": {},
   "source": [
    "## QCM 2: Stage 1"
   ]
  },
  {
   "cell_type": "code",
   "execution_count": null,
   "id": "96f915bf-9767-46a5-b0fc-69e9e79f9b3c",
   "metadata": {},
   "outputs": [],
   "source": [
    "title = \"QCM #2\"\n",
    "data_path = os.path.join(fp, \"22_06_2023_QCM2.csv\")\n",
    "df = pd.read_csv(data_path, header=1, sep=\";\")  # 2nd line of csv file is headers\n",
    "df = df.drop(26990)\n",
    "df"
   ]
  },
  {
   "cell_type": "code",
   "execution_count": null,
   "id": "7ba3f33a-fcd5-4447-91f3-26c09a9cef7d",
   "metadata": {
    "tags": []
   },
   "outputs": [],
   "source": [
    "# Get data from df\n",
    "\n",
    "x_data = df.iloc[:, 0][::50]  # get every 50th datapoint\n",
    "y_data = df.iloc[:, 2][::50]"
   ]
  },
  {
   "cell_type": "code",
   "execution_count": null,
   "id": "f3836704-c6ae-4c88-a6ad-ce13415b5ed0",
   "metadata": {
    "tags": []
   },
   "outputs": [],
   "source": [
    "import datetime\n",
    "\n",
    "x_datanew = x_data.apply(\n",
    "    lambda datestring: pd.Timestamp(\n",
    "        datetime.datetime.strptime(datestring[:-4], \"%H:%M:%S\")\n",
    "    )\n",
    ")"
   ]
  },
  {
   "cell_type": "code",
   "execution_count": null,
   "id": "a13da22e-9548-4daa-a3b0-a7c110eef615",
   "metadata": {
    "tags": []
   },
   "outputs": [],
   "source": [
    "fig = go.Figure()\n",
    "fig.add_trace(go.Scatter(x=x_datanew, y=y_data, mode=\"lines\", name=\"data\"))\n",
    "\n",
    "fig.update_layout(\n",
    "    xaxis_tickformat=\"%H:%M\",\n",
    "    xaxis_title=\"Time (min)\",\n",
    "    yaxis_title=\"Thickness (nm)\",\n",
    "    title=title,\n",
    "    **default_layout\n",
    ")"
   ]
  },
  {
   "cell_type": "code",
   "execution_count": null,
   "id": "4d46413d-c72b-4cba-ab32-08114e4c1dea",
   "metadata": {
    "tags": []
   },
   "outputs": [],
   "source": [
    "xtry = x_datanew.apply(lambda x: float(x.value))\n",
    "xtry -= min(xtry)  # get rid of offset from unix time\n",
    "xtry /= 1e9  # ns to s\n",
    "xtry /= 60  # s to min\n",
    "xtry"
   ]
  },
  {
   "cell_type": "code",
   "execution_count": null,
   "id": "1c93ec11-1cdc-406d-ad5c-509b36b5564b",
   "metadata": {
    "tags": []
   },
   "outputs": [],
   "source": [
    "fit2 = fitting_functions.fit_linear_data(\n",
    "    x=np.array(xtry), data=np.array(y_data), num=1, aes=1, bes=1, offset_type=None\n",
    ")\n",
    "fig.add_trace(\n",
    "    go.Scatter(\n",
    "        x=x_datanew,\n",
    "        y=fit2.eval(x=xtry),\n",
    "        mode=\"lines\",\n",
    "        name=\"linear fit\",\n",
    "        line=dict(color=\"red\", dash=\"dash\"),\n",
    "    )\n",
    ")\n",
    "fig.show()\n",
    "print(\n",
    "    f\"slope: {np.round(fit2.values['i0_slope'],3)} nm/min, intercept: {np.round(fit2.values['i0_intercept'], 3)} nm\"\n",
    ")\n",
    "print(f\"slope * 3 hours = {np.round(fit2.values['i0_slope']*3*60,3)} nm\")"
   ]
  },
  {
   "cell_type": "code",
   "execution_count": null,
   "id": "b9a1b937-c7c2-46da-8da6-12b9a9a637c6",
   "metadata": {},
   "outputs": [],
   "source": []
  },
  {
   "cell_type": "code",
   "execution_count": null,
   "id": "4319ac51-1234-47e8-a85a-2eebf879c99d",
   "metadata": {},
   "outputs": [],
   "source": []
  }
 ],
 "metadata": {
  "kernelspec": {
   "display_name": "Python 3 (ipykernel)",
   "language": "python",
   "name": "python3"
  },
  "language_info": {
   "codemirror_mode": {
    "name": "ipython",
    "version": 3
   },
   "file_extension": ".py",
   "mimetype": "text/x-python",
   "name": "python",
   "nbconvert_exporter": "python",
   "pygments_lexer": "ipython3",
   "version": "3.8.12"
  }
 },
 "nbformat": 4,
 "nbformat_minor": 5
}
