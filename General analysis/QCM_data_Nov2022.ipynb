{
 "cells": [
  {
   "cell_type": "code",
   "execution_count": null,
   "id": "2dbab013-b1f4-48f3-b729-e10533cc0b58",
   "metadata": {},
   "outputs": [],
   "source": [
    "import numpy as np\n",
    "import os\n",
    "import pandas as pd\n",
    "\n",
    "import sys\n",
    "sys.path.append(r'C:\\Users\\atully\\Code\\GitHub\\ARPES Code\\arpes-code-python')\n",
    "import arpes_functions\n",
    "# from arpes_functions import analysis_functions, plotting_functions, arpes_dataclasses, HDF5_loader, kw_data_loader, misc_functions, polygons\n",
    "from arpes_functions import fitting_functions as fit\n",
    "\n",
    "import plotly.graph_objects as go\n",
    "import matplotlib.pyplot as plt\n",
    "plt.style.use('ggplot')\n",
    "import plotly.io as pio\n",
    "pio.templates.default = \"plotly_white\"\n",
    "pio.renderers.default = 'jupyterlab'\n",
    "\n",
    "DEFAULT_RENDERER = 'jupyterlab'"
   ]
  },
  {
   "cell_type": "code",
   "execution_count": null,
   "id": "cb0e6cb1-d3ef-42c5-9dd9-3cbb63eeefbb",
   "metadata": {},
   "outputs": [],
   "source": [
    "default_layout = dict(template=\"plotly_white\",\n",
    "                      xaxis=dict(\n",
    "                          mirror=True,\n",
    "                          ticks='outside',\n",
    "                          showline=True,\n",
    "                          linecolor='black',\n",
    "                      ),\n",
    "                      yaxis=dict(\n",
    "                          mirror=True,\n",
    "                          ticks='outside',\n",
    "                          showline=True,\n",
    "                          linecolor='black',\n",
    "                      ),\n",
    ")"
   ]
  },
  {
   "cell_type": "code",
   "execution_count": null,
   "id": "efd9ea6b-4fed-41d7-a7ac-cd50acd9d602",
   "metadata": {},
   "outputs": [],
   "source": [
    "plotly_layout = go.layout.Template(layout=default_layout)\n",
    "pio.templates['mytemplate'] = plotly_layout\n",
    "pio.templates.default = 'mytemplate'"
   ]
  },
  {
   "cell_type": "markdown",
   "id": "6773fd3f-3449-4b8c-b397-418c54033666",
   "metadata": {},
   "source": [
    "# QCM Data November 8 2022"
   ]
  },
  {
   "cell_type": "code",
   "execution_count": null,
   "id": "c241b2af-e203-4ea6-ad14-8584c91d3188",
   "metadata": {},
   "outputs": [],
   "source": [
    "fp = r'E:\\atully\\QCM data'"
   ]
  },
  {
   "cell_type": "code",
   "execution_count": null,
   "id": "7932adb8-e804-42ce-ade4-cd0e8402efaa",
   "metadata": {},
   "outputs": [],
   "source": [
    "data_path = os.path.join(fp, '8_11_2022_QCM1_noH2O.csv')\n",
    "df = pd.read_csv(data_path, header=1, sep=';')  # 2nd line of csv file is headers\n",
    "df = df.drop(26990)\n",
    "df"
   ]
  },
  {
   "cell_type": "code",
   "execution_count": null,
   "id": "60dff157-401d-4116-a1c1-5e66255ab108",
   "metadata": {},
   "outputs": [],
   "source": [
    "#Get data from df\n",
    "\n",
    "x_data = df.iloc[:,0][::50]  # get every 50th datapoint\n",
    "y_data = df.iloc[:,2][::50]"
   ]
  },
  {
   "cell_type": "code",
   "execution_count": null,
   "id": "8bf29c0f-f009-4268-9e2b-9c8b7ec67292",
   "metadata": {},
   "outputs": [],
   "source": [
    "import datetime\n",
    "\n",
    "# datetime.datetime.strptime(x_data.iloc[3][:-4], '%H:%M:%S').time()\n",
    "\n",
    "# x_datanew = x_data.apply(lambda datestring: datetime.datetime.strptime(datestring[:-4], '%H:%M:%S'))\n",
    "x_datanew = x_data.apply(lambda datestring: pd.Timestamp(datetime.datetime.strptime(datestring[:-4], '%H:%M:%S')))"
   ]
  },
  {
   "cell_type": "code",
   "execution_count": null,
   "id": "c7fb2cae-ca26-4288-ab6b-28b4dea6fa80",
   "metadata": {},
   "outputs": [],
   "source": [
    "fig = go.Figure()\n",
    "fig.add_trace(\n",
    "    go.Scatter(x=x_datanew, y=y_data, mode='lines', name='data')\n",
    ")\n",
    "\n",
    "fig.update_layout(xaxis_tickformat='%M', xaxis_title='Time (min)', yaxis_title='Thickness (nm)', title='QCM1 No H2O', **default_layout)"
   ]
  },
  {
   "cell_type": "code",
   "execution_count": null,
   "id": "fcef3ebd-0b27-4547-a133-40705c38b10f",
   "metadata": {},
   "outputs": [],
   "source": [
    "xtry = x_datanew.apply(lambda x: float(x.value))\n",
    "xtry -= min(xtry)  # get rid of offset from unix time\n",
    "xtry /= 1e9  # ns to s\n",
    "xtry /= 60   # s to min\n",
    "xtry"
   ]
  },
  {
   "cell_type": "code",
   "execution_count": null,
   "id": "7e03d4b4-9317-4c1f-8df3-49e3c9bb310e",
   "metadata": {},
   "outputs": [],
   "source": [
    "fit1 = fit.fit_linear_data(x=np.array(xtry), data=np.array(y_data),\n",
    "                          num=1,\n",
    "                          aes=1, bes=1,\n",
    "                          offset_type=None)\n",
    "fig.add_trace(go.Scatter(x=x_datanew,\n",
    "                         y=fit1.eval(x=xtry),\n",
    "                         mode='lines', name='linear fit', line=dict(color='turquoise', dash='dash')))\n",
    "fig.show()\n",
    "fit1"
   ]
  },
  {
   "cell_type": "code",
   "execution_count": null,
   "id": "78ab15db-3281-489a-b81a-a118a41d948e",
   "metadata": {},
   "outputs": [],
   "source": [
    "from IPython.display import display\n",
    "display(fit1.params)\n",
    "fit1.params['i0_slope'].stderr"
   ]
  },
  {
   "cell_type": "code",
   "execution_count": null,
   "id": "305a03cb-bda2-4f9c-873e-25c06f08e277",
   "metadata": {},
   "outputs": [],
   "source": [
    "# Create Figure\n",
    "fig, ax = plt.subplots(1)\n",
    "\n",
    "# Add Data\n",
    "ax.plot(x_datanew, y_data, label='QCM1 No H20')\n",
    "\n",
    "# Format Figure\n",
    "ax.set_xlabel('Time')\n",
    "ax.set_ylabel('Thickness (nm)')\n",
    "ax.set_title('QCM1 No H20')\n",
    "fig.set_size_inches(18.5, 6.5)\n",
    "# ax.legend()"
   ]
  },
  {
   "cell_type": "code",
   "execution_count": null,
   "id": "290bdf32-bcb2-4da2-ab59-c7c09c3b367c",
   "metadata": {},
   "outputs": [],
   "source": [
    "data_path = os.path.join(fp, '8_11_2022_QCM2_chillerH2O.csv')\n",
    "df2 = pd.read_csv(data_path, header=1, sep=';')  # 2nd line of csv file is headers\n",
    "df2"
   ]
  },
  {
   "cell_type": "code",
   "execution_count": null,
   "id": "0ef79155-216c-4593-9c7c-da869d6fb624",
   "metadata": {},
   "outputs": [],
   "source": [
    "#Get data from df\n",
    "\n",
    "x_data2 = df2.iloc[:,0][::50]  # get every 50th datapoint\n",
    "y_data2 = df2.iloc[:,2][::50]\n",
    "\n",
    "x_datanew2 = x_data2.apply(lambda datestring: datetime.datetime.strptime(datestring[:-4], '%H:%M:%S'))"
   ]
  },
  {
   "cell_type": "code",
   "execution_count": null,
   "id": "b9a55ff6-146f-4ac5-a428-7d3c82b899e0",
   "metadata": {},
   "outputs": [],
   "source": [
    "fig = go.Figure()\n",
    "fig.add_trace(\n",
    "    go.Scatter(x=x_datanew2, y=y_data2, mode='lines', name='data')\n",
    ")\n",
    "\n",
    "fig.update_traces(line_color='red')\n",
    "fig.update_layout(xaxis_tickformat='%M', xaxis_title='Time (min)', yaxis_title='Thickness (nm)', title='QCM2 Chiller H2O', **default_layout)"
   ]
  },
  {
   "cell_type": "code",
   "execution_count": null,
   "id": "4eb53da6-982d-484b-89bc-d18a188f1917",
   "metadata": {},
   "outputs": [],
   "source": [
    "xtry2 = x_datanew2.apply(lambda x: float(x.value))\n",
    "xtry2 -= min(xtry2)  # get rid of offset from unix time\n",
    "xtry2 /= 1e9  # ns to s\n",
    "xtry2 /= 60   # s to min\n",
    "xtry2"
   ]
  },
  {
   "cell_type": "code",
   "execution_count": null,
   "id": "95cf3c28-95e8-48cb-b98b-c134df1eccab",
   "metadata": {},
   "outputs": [],
   "source": [
    "fit2 = fit.fit_linear_data(x=np.array(xtry2), data=np.array(y_data2),\n",
    "                          num=1,\n",
    "                          aes=1, bes=1,\n",
    "                          offset_type=None)\n",
    "fig.add_trace(go.Scatter(x=x_datanew2,\n",
    "                         y=fit2.eval(x=xtry2),\n",
    "                         mode='lines', name='linear fit', line=dict(color='turquoise', dash='dash')))\n",
    "fig.show()\n",
    "fit2"
   ]
  },
  {
   "cell_type": "code",
   "execution_count": null,
   "id": "f4ef64db-b58d-4993-b279-1b922ef097da",
   "metadata": {},
   "outputs": [],
   "source": [
    "from IPython.display import display\n",
    "display(fit1.params)\n",
    "fit1.params['i0_slope'].stderr"
   ]
  },
  {
   "cell_type": "code",
   "execution_count": null,
   "id": "da86c753-7e5a-4a35-b93a-49505a2a99a1",
   "metadata": {},
   "outputs": [],
   "source": [
    "# Create Figure\n",
    "fig, ax = plt.subplots(1)\n",
    "\n",
    "# Add Data\n",
    "ax.plot(x_datanew2, y_data2, label='QCM2 Chiller H20')\n",
    "\n",
    "# Format Figure\n",
    "ax.set_xlabel('Time')\n",
    "ax.set_ylabel('Thickness (nm)')\n",
    "ax.set_title('QCM2 Chiller H20')\n",
    "fig.set_size_inches(18.5, 6.5)\n",
    "# ax.legend()"
   ]
  },
  {
   "cell_type": "markdown",
   "id": "aad3b2bf-2f95-403d-8940-8021268dbc6a",
   "metadata": {},
   "source": [
    "## Plotting All Data"
   ]
  },
  {
   "cell_type": "code",
   "execution_count": null,
   "id": "9c2334b4-079e-4c72-b8be-62b5c98f9b1c",
   "metadata": {},
   "outputs": [],
   "source": [
    "x_datanew += pd.Timedelta(minutes=7)\n",
    "xtry = x_datanew.apply(lambda x: float(x.value))\n",
    "xtry -= min(xtry)  # get rid of offset from unix time\n",
    "xtry /= 1e9  # ns to s\n",
    "xtry /= 60   # s to min\n",
    "xtry\n",
    "\n",
    "fig = go.Figure()\n",
    "fig.add_trace(\n",
    "    go.Scatter(x=x_datanew, y=y_data, mode='lines', name='QCM1 No H20')\n",
    ")\n",
    "fig.add_trace(\n",
    "    go.Scatter(x=x_datanew2, y=y_data2, mode='lines', name='QCM2 Chiller H20')\n",
    ")\n",
    "fig.add_trace(go.Scatter(x=x_datanew,\n",
    "                         y=fit1.eval(x=xtry),\n",
    "                         mode='lines', name='linear fit', line=dict(color='pink', dash='dash')))\n",
    "fig.add_trace(go.Scatter(x=x_datanew2,\n",
    "                         y=fit2.eval(x=xtry2),\n",
    "                         mode='lines', name='linear fit', line=dict(color='turquoise', dash='dash')))\n",
    "\n",
    "fig.update_layout(xaxis_tickformat='%M', xaxis_title='Time (min)', yaxis_title='Thickness (nm)', title='C60/G/Cu/SiC Deposition', **default_layout)"
   ]
  },
  {
   "cell_type": "code",
   "execution_count": null,
   "id": "ba097c11-37a9-46d7-9fd5-e9e687bc76fc",
   "metadata": {},
   "outputs": [],
   "source": [
    "# Create Figure\n",
    "fig, ax = plt.subplots(1)\n",
    "\n",
    "# Add Data\n",
    "# x_datanew += pd.Timedelta(minutes=7)\n",
    "ax.plot(x_datanew2, y_data2, label='QCM2 Chiller H20')\n",
    "ax.plot(x_datanew, y_data, label='QCM1 No H20')\n",
    "\n",
    "# Format Figure\n",
    "ax.set_xlabel('Time')\n",
    "ax.set_ylabel('Thickness (nm)')\n",
    "ax.set_title('C60/G/Cu/SiC Deposition')\n",
    "fig.set_size_inches(18.5, 8.5)\n",
    "ax.legend()"
   ]
  },
  {
   "cell_type": "markdown",
   "id": "aa4ada23-b9bf-4a13-99c2-70613e062603",
   "metadata": {},
   "source": [
    "# QCM Data November 10 2022"
   ]
  },
  {
   "cell_type": "code",
   "execution_count": null,
   "id": "6c1833d1-1fac-4bfd-9e9f-09f6608eeb41",
   "metadata": {},
   "outputs": [],
   "source": [
    "data_path = os.path.join(fp, '10_11_2022_QCM1_noH2O.csv')\n",
    "df = pd.read_csv(data_path, header=1, sep=';')  # 2nd line of csv file is headers\n",
    "# df = df.drop(26990)\n",
    "\n",
    "x_data = df.iloc[:,0][::50]  # get every 50th datapoint\n",
    "y_data = df.iloc[:,2][::50]\n",
    "\n",
    "x_datanew = x_data.apply(lambda datestring: datetime.datetime.strptime(datestring[:-4], '%H:%M:%S'))"
   ]
  },
  {
   "cell_type": "code",
   "execution_count": null,
   "id": "eb70a5c6-6135-462e-ba3d-99802b0b263d",
   "metadata": {},
   "outputs": [],
   "source": [
    "data_path = os.path.join(fp, '10_11_2022_QCM2_chillerH2O.csv')\n",
    "df2 = pd.read_csv(data_path, header=1, sep=';')  # 2nd line of csv file is headers\n",
    "# df2\n",
    "\n",
    "x_data2 = df2.iloc[:,0][::50]  # get every 50th datapoint\n",
    "y_data2 = df2.iloc[:,2][::50]\n",
    "\n",
    "x_datanew2 = x_data2.apply(lambda datestring: datetime.datetime.strptime(datestring[:-4], '%H:%M:%S'))"
   ]
  },
  {
   "cell_type": "code",
   "execution_count": null,
   "id": "54be9bb7-e963-4dae-85fd-68c938bb5ba3",
   "metadata": {},
   "outputs": [],
   "source": [
    "fig = go.Figure()\n",
    "fig.add_trace(\n",
    "    go.Scatter(x=x_datanew, y=y_data, mode='lines', name='QCM1 No H20')\n",
    ")\n",
    "fig.add_trace(\n",
    "    go.Scatter(x=x_datanew2, y=y_data2, mode='lines', name='QCM2 Chiller H20')\n",
    ")\n",
    "\n",
    "fig.update_layout(xaxis_tickformat='%M', xaxis_title='Time (min)', yaxis_title='Thickness (nm)', title='C60/G/Cu/SiC Deposition', **default_layout)"
   ]
  },
  {
   "cell_type": "code",
   "execution_count": null,
   "id": "b0101b88-3af3-415a-8e2c-8cf0a224be9c",
   "metadata": {},
   "outputs": [],
   "source": [
    "xtry = x_datanew.apply(lambda x: float(x.value))\n",
    "xtry -= min(xtry)  # get rid of offset from unix time\n",
    "xtry /= 1e9  # ns to s\n",
    "xtry /= 60   # s to min\n",
    "# xtry\n",
    "\n",
    "fit1 = fit.fit_linear_data(x=np.array(xtry), data=np.array(y_data),\n",
    "                          num=1,\n",
    "                          aes=1, bes=1,\n",
    "                          offset_type=None)\n",
    "fig.add_trace(go.Scatter(x=x_datanew,\n",
    "                         y=fit1.eval(x=xtry),\n",
    "                         mode='lines', name='linear fit', line=dict(color='turquoise', dash='dash')))\n",
    "fig.show()\n",
    "# fit1"
   ]
  },
  {
   "cell_type": "code",
   "execution_count": null,
   "id": "3326fcc2-286e-4cd3-8253-8844734e850c",
   "metadata": {},
   "outputs": [],
   "source": [
    "from IPython.display import display\n",
    "display(fit1.params)\n",
    "fit1.params['i0_slope'].stderr"
   ]
  },
  {
   "cell_type": "code",
   "execution_count": null,
   "id": "8b187f88-9ca1-49ec-b378-1fe3cf4839d6",
   "metadata": {},
   "outputs": [],
   "source": [
    "xtry2 = x_datanew2.apply(lambda x: float(x.value))\n",
    "xtry2 -= min(xtry2)  # get rid of offset from unix time\n",
    "xtry2 /= 1e9  # ns to s\n",
    "xtry2 /= 60   # s to min\n",
    "\n",
    "fit2 = fit.fit_linear_data(x=np.array(xtry2), data=np.array(y_data2),\n",
    "                          num=1,\n",
    "                          aes=1, bes=1,\n",
    "                          offset_type=None)\n",
    "fig.add_trace(go.Scatter(x=x_datanew2,\n",
    "                         y=fit2.eval(x=xtry2),\n",
    "                         mode='lines', name='linear fit', line=dict(color='turquoise', dash='dash')))\n",
    "fig.show()\n",
    "# fit2"
   ]
  },
  {
   "cell_type": "code",
   "execution_count": null,
   "id": "569630ee-f319-4ae8-a580-f1459d150483",
   "metadata": {},
   "outputs": [],
   "source": [
    "from IPython.display import display\n",
    "display(fit1.params)\n",
    "fit1.params['i0_slope'].stderr"
   ]
  },
  {
   "cell_type": "code",
   "execution_count": null,
   "id": "69fcfcc1-deb1-46df-a455-f18c120395d8",
   "metadata": {},
   "outputs": [],
   "source": [
    "fig = go.Figure()\n",
    "fig.add_trace(\n",
    "    go.Scatter(x=x_datanew, y=y_data, mode='lines', name='QCM1 No H20')\n",
    ")\n",
    "fig.add_trace(\n",
    "    go.Scatter(x=x_datanew2, y=y_data2, mode='lines', name='QCM2 Chiller H20')\n",
    ")\n",
    "fig.add_trace(go.Scatter(x=x_datanew,\n",
    "                         y=fit1.eval(x=xtry),\n",
    "                         mode='lines', name='linear fit', line=dict(color='pink', dash='dash')))\n",
    "fig.add_trace(go.Scatter(x=x_datanew2,\n",
    "                         y=fit2.eval(x=xtry2),\n",
    "                         mode='lines', name='linear fit', line=dict(color='turquoise', dash='dash')))\n",
    "\n",
    "fig.update_layout(xaxis_tickformat='%M', xaxis_title='Time (min)', yaxis_title='Thickness (nm)', title='C60/G/Cu/SiC Deposition', **default_layout)"
   ]
  },
  {
   "cell_type": "markdown",
   "id": "35afa664-e2a9-40c5-a284-3a2e1f7c7d28",
   "metadata": {},
   "source": [
    "# QCM Background Data November 10 2022"
   ]
  },
  {
   "cell_type": "code",
   "execution_count": null,
   "id": "4c7b5f9c-6b71-47a7-910f-5430b9daf8ee",
   "metadata": {},
   "outputs": [],
   "source": [
    "data_path = os.path.join(fp, '10_11_2022_QCM1_noH2O_background.csv')\n",
    "df = pd.read_csv(data_path, header=1, sep=';')  # 2nd line of csv file is headers\n",
    "# df = df.drop(26990)\n",
    "\n",
    "x_data = df.iloc[:,0][::50]  # get every 50th datapoint\n",
    "y_data = df.iloc[:,2][::50]\n",
    "\n",
    "x_datanew = x_data.apply(lambda datestring: datetime.datetime.strptime(datestring[:-4], '%H:%M:%S'))"
   ]
  },
  {
   "cell_type": "code",
   "execution_count": null,
   "id": "3b99ac5c-fda2-4b30-b16a-fc6c10abe356",
   "metadata": {},
   "outputs": [],
   "source": [
    "data_path = os.path.join(fp, '10_11_2022_QCM2_chiller_background.csv')\n",
    "df2 = pd.read_csv(data_path, header=1, sep=';')  # 2nd line of csv file is headers\n",
    "# df2\n",
    "\n",
    "x_data2 = df2.iloc[:,0][::50]  # get every 50th datapoint\n",
    "y_data2 = df2.iloc[:,2][::50]\n",
    "\n",
    "x_datanew2 = x_data2.apply(lambda datestring: datetime.datetime.strptime(datestring[:-4], '%H:%M:%S'))"
   ]
  },
  {
   "cell_type": "code",
   "execution_count": null,
   "id": "7bfaa938-3ff5-4c0f-a491-761fb34d291a",
   "metadata": {},
   "outputs": [],
   "source": [
    "fig = go.Figure()\n",
    "fig.add_trace(\n",
    "    go.Scatter(x=x_datanew, y=y_data, mode='lines', name='QCM1 No H20')\n",
    ")\n",
    "fig.add_trace(\n",
    "    go.Scatter(x=x_datanew2, y=y_data2, mode='lines', name='QCM2 Chiller H20')\n",
    ")\n",
    "\n",
    "fig.update_layout(xaxis_tickformat='%H:%M', xaxis_title='Time (hour:min)', yaxis_title='Thickness (nm)', title='QCM Background Readings', **default_layout)"
   ]
  },
  {
   "cell_type": "code",
   "execution_count": null,
   "id": "c25d2c56-2b76-429d-8b6f-c1b688f8cf89",
   "metadata": {},
   "outputs": [],
   "source": [
    "xtry = x_datanew.apply(lambda x: float(x.value))\n",
    "xtry -= min(xtry)  # get rid of offset from unix time\n",
    "xtry /= 1e9  # ns to s\n",
    "xtry /= 60   # s to min\n",
    "# xtry\n",
    "\n",
    "fit1 = fit.fit_linear_data(x=np.array(xtry), data=np.array(y_data),\n",
    "                          num=1,\n",
    "                          aes=1, bes=1,\n",
    "                          offset_type=None)\n",
    "fig.add_trace(go.Scatter(x=x_datanew,\n",
    "                         y=fit1.eval(x=xtry),\n",
    "                         mode='lines', name='linear fit', line=dict(color='turquoise', dash='dash')))\n",
    "fig.show()\n",
    "# fit1"
   ]
  },
  {
   "cell_type": "code",
   "execution_count": null,
   "id": "1106f6f8-c899-45a0-926a-e9d5e8ea3f79",
   "metadata": {},
   "outputs": [],
   "source": [
    "from IPython.display import display\n",
    "display(fit1.params)\n",
    "fit1.params['i0_slope'].stderr"
   ]
  },
  {
   "cell_type": "code",
   "execution_count": null,
   "id": "df7dcb0a-bc38-45bc-a6bc-3733b8ea40f0",
   "metadata": {},
   "outputs": [],
   "source": [
    "xtry2 = x_datanew2.apply(lambda x: float(x.value))\n",
    "xtry2 -= min(xtry2)  # get rid of offset from unix time\n",
    "xtry2 /= 1e9  # ns to s\n",
    "xtry2 /= 60   # s to min\n",
    "\n",
    "fit2 = fit.fit_linear_data(x=np.array(xtry2), data=np.array(y_data2),\n",
    "                          num=1,\n",
    "                          aes=1, bes=1,\n",
    "                          offset_type=None)\n",
    "fig.add_trace(go.Scatter(x=x_datanew2,\n",
    "                         y=fit2.eval(x=xtry2),\n",
    "                         mode='lines', name='linear fit', line=dict(color='turquoise', dash='dash')))\n",
    "fig.show()\n",
    "# fit2"
   ]
  },
  {
   "cell_type": "code",
   "execution_count": null,
   "id": "dc5c8495-5484-47f8-ba47-156ca283c81a",
   "metadata": {},
   "outputs": [],
   "source": [
    "from IPython.display import display\n",
    "display(fit1.params)\n",
    "fit1.params['i0_slope'].stderr"
   ]
  },
  {
   "cell_type": "code",
   "execution_count": null,
   "id": "87408f81-0145-4d67-a561-cb51c6177fdb",
   "metadata": {},
   "outputs": [],
   "source": [
    "fig = go.Figure()\n",
    "fig.add_trace(\n",
    "    go.Scatter(x=x_datanew, y=y_data, mode='lines', name='QCM1 No H20')\n",
    ")\n",
    "fig.add_trace(\n",
    "    go.Scatter(x=x_datanew2, y=y_data2, mode='lines', name='QCM2 Chiller H20')\n",
    ")\n",
    "fig.add_trace(go.Scatter(x=x_datanew,\n",
    "                         y=fit1.eval(x=xtry),\n",
    "                         mode='lines', name='linear fit', line=dict(color='pink', dash='dash')))\n",
    "fig.add_trace(go.Scatter(x=x_datanew2,\n",
    "                         y=fit2.eval(x=xtry2),\n",
    "                         mode='lines', name='linear fit', line=dict(color='turquoise', dash='dash')))\n",
    "\n",
    "fig.update_layout(xaxis_tickformat='%H:%M', xaxis_title='Time (hour:min)', yaxis_title='Thickness (nm)', title='QCM Background Readings', **default_layout)"
   ]
  },
  {
   "cell_type": "markdown",
   "id": "7df88348-d7f1-4433-b561-4e85f3f07664",
   "metadata": {},
   "source": [
    "# QCM Background Data November 19 2022"
   ]
  },
  {
   "cell_type": "code",
   "execution_count": null,
   "id": "71c465ee-b5fb-406f-8b65-4611b7869f6d",
   "metadata": {},
   "outputs": [],
   "source": [
    "data_path = os.path.join(fp, '19_11_2022_QM1_chiller_background.csv')\n",
    "df = pd.read_csv(data_path, header=1, sep=';')  # 2nd line of csv file is headers\n",
    "# df = df.drop(26990)\n",
    "\n",
    "x_data = df.iloc[:,0][::50]  # get every 50th datapoint\n",
    "y_data = df.iloc[:,2][::50]\n",
    "\n",
    "x_datanew = x_data.apply(lambda datestring: datetime.datetime.strptime(datestring[:-4], '%H:%M:%S'))"
   ]
  },
  {
   "cell_type": "code",
   "execution_count": null,
   "id": "270b4b5a-e956-44b3-91e2-ecf930e34fcf",
   "metadata": {},
   "outputs": [],
   "source": [
    "data_path = os.path.join(fp, '19_11_2022_QM2_noH2O_background.csv')\n",
    "df2 = pd.read_csv(data_path, header=1, sep=';')  # 2nd line of csv file is headers\n",
    "# df2\n",
    "\n",
    "x_data2 = df2.iloc[:,0][::50]  # get every 50th datapoint\n",
    "y_data2 = df2.iloc[:,2][::50]\n",
    "\n",
    "x_datanew2 = x_data2.apply(lambda datestring: datetime.datetime.strptime(datestring[:-4], '%H:%M:%S'))"
   ]
  },
  {
   "cell_type": "code",
   "execution_count": null,
   "id": "1969ce16-5246-4694-adce-67b611ed6b78",
   "metadata": {},
   "outputs": [],
   "source": [
    "fig = go.Figure()\n",
    "fig.add_trace(\n",
    "    go.Scatter(x=x_datanew, y=y_data, mode='lines', name='QCM1 Chiller H20 (6eV side)')\n",
    ")\n",
    "fig.add_trace(\n",
    "    go.Scatter(x=x_datanew2, y=y_data2, mode='lines', name='QCM2 No H20 (XUV side)')\n",
    ")\n",
    "\n",
    "fig.update_layout(xaxis_tickformat='%H:%M', xaxis_title='Time (hour:min)', yaxis_title='Thickness (nm)', title='QCM Background Readings', **default_layout)"
   ]
  },
  {
   "cell_type": "code",
   "execution_count": null,
   "id": "4ca69c47-e7c0-47a7-a3ec-62cd4997a88e",
   "metadata": {},
   "outputs": [],
   "source": [
    "xtry = x_datanew.apply(lambda x: float(x.value))\n",
    "xtry -= min(xtry)  # get rid of offset from unix time\n",
    "xtry /= 1e9  # ns to s\n",
    "xtry /= 60   # s to min\n",
    "# xtry\n",
    "\n",
    "fit1 = fit.fit_linear_data(x=np.array(xtry), data=np.array(y_data),\n",
    "                          num=1,\n",
    "                          aes=1, bes=1,\n",
    "                          offset_type=None)\n",
    "fig.add_trace(go.Scatter(x=x_datanew,\n",
    "                         y=fit1.eval(x=xtry),\n",
    "                         mode='lines', name='linear fit', line=dict(color='turquoise', dash='dash')))\n",
    "fig.show()\n",
    "# fit1"
   ]
  },
  {
   "cell_type": "code",
   "execution_count": null,
   "id": "6ae62634-21bb-411c-9682-8bc915f3d38c",
   "metadata": {},
   "outputs": [],
   "source": [
    "from IPython.display import display\n",
    "display(fit1.params)\n",
    "fit1.params['i0_slope'].stderr"
   ]
  },
  {
   "cell_type": "code",
   "execution_count": null,
   "id": "447fc103-ae3a-457b-b81e-88e16e774b86",
   "metadata": {},
   "outputs": [],
   "source": [
    "xtry2 = x_datanew2.apply(lambda x: float(x.value))\n",
    "xtry2 -= min(xtry2)  # get rid of offset from unix time\n",
    "xtry2 /= 1e9  # ns to s\n",
    "xtry2 /= 60   # s to min\n",
    "\n",
    "fit2 = fit.fit_linear_data(x=np.array(xtry2), data=np.array(y_data2),\n",
    "                          num=1,\n",
    "                          aes=1, bes=1,\n",
    "                          offset_type=None)\n",
    "fig.add_trace(go.Scatter(x=x_datanew2,\n",
    "                         y=fit2.eval(x=xtry2),\n",
    "                         mode='lines', name='linear fit', line=dict(color='turquoise', dash='dash')))\n",
    "fig.show()\n",
    "# fit2"
   ]
  },
  {
   "cell_type": "code",
   "execution_count": null,
   "id": "ccf30fe8-1ad0-47a1-b406-60955c279e15",
   "metadata": {},
   "outputs": [],
   "source": [
    "from IPython.display import display\n",
    "display(fit1.params)\n",
    "fit1.params['i0_slope'].stderr"
   ]
  },
  {
   "cell_type": "code",
   "execution_count": null,
   "id": "d3497af0-d861-45e2-8e84-de8f2b390146",
   "metadata": {},
   "outputs": [],
   "source": [
    "fig = go.Figure()\n",
    "fig.add_trace(\n",
    "    go.Scatter(x=x_datanew, y=y_data, mode='lines', name='QCM1 Chiller H20 (6eV side)')\n",
    ")\n",
    "fig.add_trace(\n",
    "    go.Scatter(x=x_datanew2, y=y_data2, mode='lines', name='QCM2 No H20 (XUV side)')\n",
    ")\n",
    "fig.add_trace(go.Scatter(x=x_datanew,\n",
    "                         y=fit1.eval(x=xtry),\n",
    "                         mode='lines', name='linear fit', line=dict(color='pink', dash='dash')))\n",
    "fig.add_trace(go.Scatter(x=x_datanew2,\n",
    "                         y=fit2.eval(x=xtry2),\n",
    "                         mode='lines', name='linear fit', line=dict(color='turquoise', dash='dash')))\n",
    "\n",
    "fig.update_layout(xaxis_tickformat='%H:%M', xaxis_title='Time (hour:min)', yaxis_title='Thickness (nm)', title='QCM Background Readings', **default_layout)"
   ]
  },
  {
   "cell_type": "markdown",
   "id": "65e07ea2-e9be-4fc7-a33f-d32feb85c306",
   "metadata": {},
   "source": [
    "# QCM Data November 21 2022"
   ]
  },
  {
   "cell_type": "code",
   "execution_count": null,
   "id": "bc67893e-56a9-43f5-9f50-18a031833983",
   "metadata": {},
   "outputs": [],
   "source": [
    "data_path = os.path.join(fp, '21_11_2022_QCM1_chillerH2O.csv')\n",
    "df = pd.read_csv(data_path, header=1, sep=';')  # 2nd line of csv file is headers\n",
    "# df = df.drop(26990)\n",
    "\n",
    "x_data = df.iloc[:,0][::50]  # get every 50th datapoint\n",
    "y_data = df.iloc[:,2][::50]\n",
    "\n",
    "x_datanew = x_data.apply(lambda datestring: datetime.datetime.strptime(datestring[:-4], '%H:%M:%S'))"
   ]
  },
  {
   "cell_type": "code",
   "execution_count": null,
   "id": "b3d9e166-72ca-4cd1-9193-e31813287197",
   "metadata": {},
   "outputs": [],
   "source": [
    "data_path = os.path.join(fp, '21_11_2022_QCM2_noH2O.csv')\n",
    "df2 = pd.read_csv(data_path, header=1, sep=';')  # 2nd line of csv file is headers\n",
    "# df2\n",
    "\n",
    "x_data2 = df2.iloc[:,0][::50]  # get every 50th datapoint\n",
    "y_data2 = df2.iloc[:,2][::50]\n",
    "\n",
    "x_datanew2 = x_data2.apply(lambda datestring: datetime.datetime.strptime(datestring[:-4], '%H:%M:%S'))"
   ]
  },
  {
   "cell_type": "code",
   "execution_count": null,
   "id": "08562d15-f000-458f-a404-0c37e802e543",
   "metadata": {},
   "outputs": [],
   "source": [
    "fig = go.Figure()\n",
    "fig.add_trace(\n",
    "    go.Scatter(x=x_datanew, y=y_data, mode='lines', name='QCM1 Chiller H20 (6eV side)')\n",
    ")\n",
    "fig.add_trace(\n",
    "    go.Scatter(x=x_datanew2, y=y_data2, mode='lines', name='QCM2 No H20 (XUV side)')\n",
    ")\n",
    "\n",
    "fig.update_layout(xaxis_tickformat='%H:%M', xaxis_title='Time (hour:min)', yaxis_title='Thickness (nm)', title='C60/G/Cu/SiC Deposition', **default_layout)"
   ]
  },
  {
   "cell_type": "code",
   "execution_count": null,
   "id": "3c4ab5ae-1f7d-4898-84b3-03b4e8176918",
   "metadata": {},
   "outputs": [],
   "source": [
    "xtry = x_datanew.apply(lambda x: float(x.value))\n",
    "xtry -= min(xtry)  # get rid of offset from unix time\n",
    "xtry /= 1e9  # ns to s\n",
    "xtry /= 60   # s to min\n",
    "# xtry\n",
    "\n",
    "fit1 = fit.fit_linear_data(x=np.array(xtry), data=np.array(y_data),\n",
    "                          num=1,\n",
    "                          aes=1, bes=1,\n",
    "                          offset_type=None)\n",
    "fig.add_trace(go.Scatter(x=x_datanew,\n",
    "                         y=fit1.eval(x=xtry),\n",
    "                         mode='lines', name='linear fit', line=dict(color='turquoise', dash='dash')))\n",
    "fig.show()\n",
    "# fit1"
   ]
  },
  {
   "cell_type": "code",
   "execution_count": null,
   "id": "115746b2-527a-4087-b16a-0885119e87ea",
   "metadata": {},
   "outputs": [],
   "source": [
    "from IPython.display import display\n",
    "display(fit1.params)\n",
    "fit1.params['i0_slope'].stderr"
   ]
  },
  {
   "cell_type": "code",
   "execution_count": null,
   "id": "eed20f0f-4929-46bd-ac7b-fc2a6c4edcfe",
   "metadata": {},
   "outputs": [],
   "source": [
    "xtry2 = x_datanew2.apply(lambda x: float(x.value))\n",
    "xtry2 -= min(xtry2)  # get rid of offset from unix time\n",
    "xtry2 /= 1e9  # ns to s\n",
    "xtry2 /= 60   # s to min\n",
    "\n",
    "fit2 = fit.fit_linear_data(x=np.array(xtry2), data=np.array(y_data2),\n",
    "                          num=1,\n",
    "                          aes=1, bes=1,\n",
    "                          offset_type=None)\n",
    "fig.add_trace(go.Scatter(x=x_datanew2,\n",
    "                         y=fit2.eval(x=xtry2),\n",
    "                         mode='lines', name='linear fit', line=dict(color='turquoise', dash='dash')))\n",
    "fig.show()\n",
    "# fit2"
   ]
  },
  {
   "cell_type": "code",
   "execution_count": null,
   "id": "23d8f39e-9b24-4e4e-b7fe-35a3ecddd48f",
   "metadata": {},
   "outputs": [],
   "source": [
    "from IPython.display import display\n",
    "display(fit2.params)\n",
    "fit1.params['i0_slope'].stderr"
   ]
  },
  {
   "cell_type": "code",
   "execution_count": null,
   "id": "9204da74-17a0-49b1-affa-e84a56219447",
   "metadata": {},
   "outputs": [],
   "source": [
    "fig = go.Figure()\n",
    "fig.add_trace(\n",
    "    go.Scatter(x=x_datanew, y=y_data, mode='lines', name='QCM1 Chiller H20 (6eV side)')\n",
    ")\n",
    "fig.add_trace(\n",
    "    go.Scatter(x=x_datanew2, y=y_data2, mode='lines', name='QCM2 No H20 (XUV side)')\n",
    ")\n",
    "fig.add_trace(go.Scatter(x=x_datanew,\n",
    "                         y=fit1.eval(x=xtry),\n",
    "                         mode='lines', name='linear fit', line=dict(color='pink', dash='dash')))\n",
    "fig.add_trace(go.Scatter(x=x_datanew2,\n",
    "                         y=fit2.eval(x=xtry2),\n",
    "                         mode='lines', name='linear fit', line=dict(color='turquoise', dash='dash')))\n",
    "\n",
    "fig.update_layout(xaxis_tickformat='%H:%M', xaxis_title='Time (hour:min)', yaxis_title='Thickness (nm)', title='C60/G/Cu/SiC Deposition', **default_layout)"
   ]
  },
  {
   "cell_type": "markdown",
   "id": "da0c47b5-5218-4f03-8d9e-ff1430e3870b",
   "metadata": {},
   "source": [
    "# QCM Data November 22 2022 -- Mike's Chiller"
   ]
  },
  {
   "cell_type": "code",
   "execution_count": null,
   "id": "c30797cf-6cd9-4c02-a83a-f4d6b41e89a5",
   "metadata": {},
   "outputs": [],
   "source": [
    "data_path = os.path.join(fp, '22_11_2022_QCM1_newchillerH2O.csv')\n",
    "df = pd.read_csv(data_path, header=1, sep=';')  # 2nd line of csv file is headers\n",
    "# df = df.drop(26990)\n",
    "\n",
    "x_data = df.iloc[:,0][::50]  # get every 50th datapoint\n",
    "y_data = df.iloc[:,2][::50]\n",
    "\n",
    "x_datanew = x_data.apply(lambda datestring: datetime.datetime.strptime(datestring[:-4], '%H:%M:%S'))\n",
    "\n",
    "data_path = os.path.join(fp, '22_11_2022_QCM2_noH2O.csv')\n",
    "df2 = pd.read_csv(data_path, header=1, sep=';')  # 2nd line of csv file is headers\n",
    "# df2\n",
    "\n",
    "x_data2 = df2.iloc[:,0][::50]  # get every 50th datapoint\n",
    "y_data2 = df2.iloc[:,2][::50]\n",
    "\n",
    "x_datanew2 = x_data2.apply(lambda datestring: datetime.datetime.strptime(datestring[:-4], '%H:%M:%S'))"
   ]
  },
  {
   "cell_type": "code",
   "execution_count": null,
   "id": "60f63f49-ea8a-45bf-b17c-8d209a419226",
   "metadata": {},
   "outputs": [],
   "source": [
    "fig = go.Figure()\n",
    "fig.add_trace(\n",
    "    go.Scatter(x=x_datanew, y=y_data, mode='lines', name='QCM1 Mikes Chiller H20 (6eV side)')\n",
    ")\n",
    "fig.add_trace(\n",
    "    go.Scatter(x=x_datanew2, y=y_data2, mode='lines', name='QCM2 No H20 (XUV side)')\n",
    ")\n",
    "\n",
    "fig.update_layout(xaxis_tickformat='%H:%M', xaxis_title='Time (hour:min)', yaxis_title='Thickness (nm)', title='C60/G/Cu/SiC Deposition', **default_layout)"
   ]
  },
  {
   "cell_type": "code",
   "execution_count": null,
   "id": "6acb7890-170d-4714-baec-f63ea25dcbdd",
   "metadata": {},
   "outputs": [],
   "source": [
    "xtry = x_datanew.apply(lambda x: float(x.value))\n",
    "xtry -= min(xtry)  # get rid of offset from unix time\n",
    "xtry /= 1e9  # ns to s\n",
    "xtry /= 60   # s to min\n",
    "# xtry\n",
    "\n",
    "fit1 = fit.fit_linear_data(x=np.array(xtry), data=np.array(y_data),\n",
    "                          num=1,\n",
    "                          aes=1, bes=1,\n",
    "                          offset_type=None)\n",
    "fig.add_trace(go.Scatter(x=x_datanew,\n",
    "                         y=fit1.eval(x=xtry),\n",
    "                         mode='lines', name='linear fit', line=dict(color='turquoise', dash='dash')))\n",
    "fig.show()\n",
    "# fit1"
   ]
  },
  {
   "cell_type": "code",
   "execution_count": null,
   "id": "400ec879-fe01-4d8f-91e4-ad53a719d54b",
   "metadata": {},
   "outputs": [],
   "source": [
    "from IPython.display import display\n",
    "display(fit1.params)\n",
    "fit1.params['i0_slope'].stderr"
   ]
  },
  {
   "cell_type": "code",
   "execution_count": null,
   "id": "4f07e706-4b90-4c6f-a79c-0f5e3f654279",
   "metadata": {},
   "outputs": [],
   "source": [
    "xtry2 = x_datanew2.apply(lambda x: float(x.value))\n",
    "xtry2 -= min(xtry2)  # get rid of offset from unix time\n",
    "xtry2 /= 1e9  # ns to s\n",
    "xtry2 /= 60   # s to min\n",
    "\n",
    "fit2 = fit.fit_linear_data(x=np.array(xtry2), data=np.array(y_data2),\n",
    "                          num=1,\n",
    "                          aes=1, bes=1,\n",
    "                          offset_type=None)\n",
    "fig.add_trace(go.Scatter(x=x_datanew2,\n",
    "                         y=fit2.eval(x=xtry2),\n",
    "                         mode='lines', name='linear fit', line=dict(color='turquoise', dash='dash')))\n",
    "fig.show()\n",
    "# fit2"
   ]
  },
  {
   "cell_type": "code",
   "execution_count": null,
   "id": "48cf40c5-088b-43a9-8941-127d5cd01f2c",
   "metadata": {},
   "outputs": [],
   "source": [
    "from IPython.display import display\n",
    "display(fit2.params)\n",
    "fit1.params['i0_slope'].stderr"
   ]
  },
  {
   "cell_type": "code",
   "execution_count": null,
   "id": "d1b4084c-cfb3-457f-9080-c8126376716d",
   "metadata": {},
   "outputs": [],
   "source": [
    "fig = go.Figure()\n",
    "fig.add_trace(\n",
    "    go.Scatter(x=x_datanew, y=y_data, mode='lines', name='QCM1 Mikes Chiller H20 (6eV side)')\n",
    ")\n",
    "fig.add_trace(\n",
    "    go.Scatter(x=x_datanew2, y=y_data2, mode='lines', name='QCM2 No H20 (XUV side)')\n",
    ")\n",
    "fig.add_trace(go.Scatter(x=x_datanew,\n",
    "                         y=fit1.eval(x=xtry),\n",
    "                         mode='lines', name='linear fit', line=dict(color='pink', dash='dash')))\n",
    "fig.add_trace(go.Scatter(x=x_datanew2,\n",
    "                         y=fit2.eval(x=xtry2),\n",
    "                         mode='lines', name='linear fit', line=dict(color='turquoise', dash='dash')))\n",
    "\n",
    "fig.update_layout(xaxis_tickformat='%H:%M', xaxis_title='Time (hour:min)', yaxis_title='Thickness (nm)', title='C60/G/Cu/SiC Deposition', **default_layout)"
   ]
  },
  {
   "cell_type": "code",
   "execution_count": null,
   "id": "353c927d-f754-4c1b-ae1c-b95c20f8a8ec",
   "metadata": {},
   "outputs": [],
   "source": []
  }
 ],
 "metadata": {
  "kernelspec": {
   "display_name": "Python 3 (ipykernel)",
   "language": "python",
   "name": "python3"
  },
  "language_info": {
   "codemirror_mode": {
    "name": "ipython",
    "version": 3
   },
   "file_extension": ".py",
   "mimetype": "text/x-python",
   "name": "python",
   "nbconvert_exporter": "python",
   "pygments_lexer": "ipython3",
   "version": "3.8.12"
  }
 },
 "nbformat": 4,
 "nbformat_minor": 5
}
