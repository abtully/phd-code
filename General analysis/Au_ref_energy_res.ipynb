{
 "cells": [
  {
   "cell_type": "markdown",
   "id": "3ff2997b-a5b5-4a32-891a-00aac86f7400",
   "metadata": {
    "tags": []
   },
   "source": [
    "## Imports"
   ]
  },
  {
   "cell_type": "code",
   "execution_count": null,
   "id": "12c13cd3-01c6-4841-963e-73cb2dc01fd8",
   "metadata": {
    "tags": []
   },
   "outputs": [],
   "source": [
    "%load_ext lab_black\n",
    "\n",
    "import h5py\n",
    "import os\n",
    "import numpy as np\n",
    "from typing import Dict, List, Optional, Tuple\n",
    "\n",
    "from dataclasses import dataclass\n",
    "from tqdm.auto import tqdm\n",
    "from scipy.signal import savgol_filter\n",
    "from scipy.interpolate import interp2d\n",
    "from functools import lru_cache\n",
    "\n",
    "\n",
    "import plotly.graph_objects as go\n",
    "import plotly.colors as pc\n",
    "import matplotlib.pyplot as plt\n",
    "\n",
    "\n",
    "import sys\n",
    "\n",
    "sys.path.append(r\"C:\\Users\\atully\\Code\\GitHub\\ARPES Code\\arpes-code-python\")\n",
    "from arpes_functions import (\n",
    "    fitting_functions,\n",
    "    analysis_functions,\n",
    "    plotting_functions,\n",
    "    HDF5_loader,\n",
    "    misc_functions,\n",
    "    filter_functions,\n",
    "    tr_functions,\n",
    "    loading_functions,\n",
    "    kw_data_loader,\n",
    "    cnn,\n",
    ")\n",
    "\n",
    "colors = pc.qualitative.D3\n",
    "angstrom = \"\\u212B\"\n",
    "Theta = \"\\u0398\"\n",
    "phi = \"\\u03C6\""
   ]
  },
  {
   "cell_type": "markdown",
   "id": "8420489a-0cd7-40e6-8a3a-bc81638b6e8c",
   "metadata": {
    "tags": []
   },
   "source": [
    "# Load Data"
   ]
  },
  {
   "cell_type": "code",
   "execution_count": null,
   "id": "82bd8892-3dae-4617-8c5a-a75f96131892",
   "metadata": {
    "tags": []
   },
   "outputs": [],
   "source": [
    "# ## Convert gold corrected data ##\n",
    "\n",
    "# ddir = r\"E:\\atully\\arpes_data\\2023_February\"\n",
    "\n",
    "# # STEP 1 ##\n",
    "# # Convert ibw to hdf5\n",
    "# fn = \"Au_000_g.ibw\"\n",
    "# HDF5_loader.ibw_to_hdf5(ddir, fn, export=True)\n",
    "\n",
    "# # Check conversion worked\n",
    "# data, theta, energy = HDF5_loader.load_hdf5(ddir, \"Au_000_g.h5\")  # load data from hdf5\n",
    "# data.shape, theta.shape, energy.shape"
   ]
  },
  {
   "cell_type": "code",
   "execution_count": null,
   "id": "e89cca1a-08b1-42f4-a71d-d3b8ac4de2e1",
   "metadata": {
    "tags": []
   },
   "outputs": [],
   "source": [
    "## 6 eV ##\n",
    "\n",
    "ddir = r\"E:\\atully\\arpes_data\\2023_February\"\n",
    "\n",
    "## evaporated Au reference scan for EF correction and determining energy resolution\n",
    "file = \"Au_000_g.h5\"  # PE=10, slit=400, sample temp = 32 K, EF = 1.91\n",
    "# file = \"Au_005_g.ibw\"  # PE=10, slit=700, sample temp = 32 K, EF = 1.94\n",
    "\n",
    "xlim = (-15, 15)\n",
    "ylim = (1.85, 1.97)"
   ]
  },
  {
   "cell_type": "code",
   "execution_count": null,
   "id": "7d186d55-37ca-4334-8edf-28e36647bc43",
   "metadata": {
    "tags": []
   },
   "outputs": [],
   "source": [
    "## XUV TR damaged sample measurement ##\n",
    "\n",
    "ddir = r\"E:\\atully\\arpes_data\\2022_April\\ARPES\\Shield\"\n",
    "\n",
    "file = \"FE2_H19_ang_nofilter.h5\"\n",
    "# file = \"FE2_H19_tr_nofilter.h5\"\n",
    "\n",
    "xlim = (-15, 15)\n",
    "ylim = (18.4, 18.6)"
   ]
  },
  {
   "cell_type": "code",
   "execution_count": null,
   "id": "9414550b-f1df-415d-8c95-94529fa2510b",
   "metadata": {
    "tags": []
   },
   "outputs": [],
   "source": [
    "data, theta, energy = HDF5_loader.load_hdf5(ddir, file)  # load data from hdf5"
   ]
  },
  {
   "cell_type": "code",
   "execution_count": null,
   "id": "42dd9db3-524e-40c3-b970-eb757d634244",
   "metadata": {
    "tags": []
   },
   "outputs": [],
   "source": [
    "## Plot Data ##\n",
    "\n",
    "fig = tr_functions.thesis_fig(\n",
    "    title=f\"{file}\",\n",
    "    xaxis_title=f\"{Theta}\",\n",
    "    yaxis_title=\"Energy (eV)\",\n",
    "    equiv_axes=False,\n",
    ")\n",
    "\n",
    "fig.add_trace(\n",
    "    go.Heatmap(\n",
    "        x=theta, y=energy, z=analysis_functions.norm_data(data), coloraxis=\"coloraxis\"\n",
    "    )\n",
    ")\n",
    "\n",
    "fig.show()"
   ]
  },
  {
   "cell_type": "code",
   "execution_count": null,
   "id": "78ea5ce7-2059-495c-90bd-f76bd94b99fd",
   "metadata": {
    "tags": []
   },
   "outputs": [],
   "source": [
    "## FFT + Limit Data ##\n",
    "\n",
    "data, theta, energy = HDF5_loader.load_hdf5(ddir, file)  # load data from hdf5\n",
    "\n",
    "f_data = filter_functions.fft2d_mask(data, plot=False)\n",
    "\n",
    "x_plot, y_plot, d_plot = analysis_functions.limit_dataset(\n",
    "    # theta, energy, f_data, xlim=(-15, 15), ylim=(1.7, 2.3)\n",
    "    theta,\n",
    "    energy,\n",
    "    f_data,\n",
    "    xlim=xlim,\n",
    "    ylim=ylim,\n",
    ")\n",
    "\n",
    "d_plot = analysis_functions.norm_data(d_plot)"
   ]
  },
  {
   "cell_type": "code",
   "execution_count": null,
   "id": "fd8ecf73-e616-43d9-b46d-3c3d573cec57",
   "metadata": {
    "tags": []
   },
   "outputs": [],
   "source": [
    "## Plot Data ##\n",
    "\n",
    "fig = tr_functions.thesis_fig(\n",
    "    # title=f\"{file}\",\n",
    "    title=f\"Au Reference Sample\",\n",
    "    xaxis_title=f\"{Theta}\",\n",
    "    yaxis_title=\"Energy (eV)\",\n",
    "    equiv_axes=False,\n",
    "    height=600,\n",
    "    width=600,\n",
    ")\n",
    "\n",
    "fig.add_trace(go.Heatmap(x=x_plot, y=y_plot, z=d_plot, coloraxis=\"coloraxis\"))\n",
    "\n",
    "fig.show()"
   ]
  },
  {
   "cell_type": "code",
   "execution_count": null,
   "id": "523b3ce6-05c7-47a8-827c-dabd241e3732",
   "metadata": {
    "tags": []
   },
   "outputs": [],
   "source": [
    "## Get and Plot 1D Data ##\n",
    "\n",
    "fig = tr_functions.thesis_fig(\n",
    "    title=f\"EDC of Au Reference Sample\",\n",
    "    xaxis_title=\"Energy (eV)\",\n",
    "    yaxis_title=\"Intensity (arb. u)\",\n",
    "    equiv_axes=False,\n",
    "    gridlines=False,\n",
    "    height=600,\n",
    "    width=900,\n",
    ")\n",
    "\n",
    "y_1d, col = tr_functions.get_1d_x_slice(\n",
    "    x=x_plot, y=y_plot, data=d_plot, ylims=None, x_range=None\n",
    ")\n",
    "\n",
    "# Plot Data\n",
    "fig.add_trace(go.Scatter(x=y_1d, y=col, name=\"data\", line=dict(color=colors[0])))\n",
    "\n",
    "# ## For After Fit\n",
    "# fig.add_trace(\n",
    "#     go.Scatter(\n",
    "#         x=x, y=fit.eval(x=y_1d), name=\"FDconvGauss fit\", line=dict(color=colors[1])\n",
    "#     )\n",
    "# )\n",
    "\n",
    "# components = fit.eval_components(x=y_1d)\n",
    "# for model_name, model_value in list(components.items())[0:1]:\n",
    "#     fig.add_annotation(\n",
    "#         # x=fit.params[f\"center\"].value,\n",
    "#         # y=fit.eval(x=fit.params[f\"{model_name}center\"].value),\n",
    "#         xref=\"x domain\",\n",
    "#         yref=\"y domain\",\n",
    "#         x=0.95,\n",
    "#         y=0.9,\n",
    "#         showarrow=False,\n",
    "#         text=f'Energy Res: {tr_functions.sig_to_fwhm(fit.params[\"iA__sigma\"].value)*1000:.1f} +/- {tr_functions.sig_to_fwhm(fit.params[\"iA__sigma\"].stderr)*1000:.1f} meV',\n",
    "#         font=dict(size=18),\n",
    "#     )\n",
    "\n",
    "fig.show()"
   ]
  },
  {
   "cell_type": "code",
   "execution_count": null,
   "id": "41d10f58-e7d1-4f5b-9567-928db511b80e",
   "metadata": {
    "tags": []
   },
   "outputs": [],
   "source": [
    "## Fit using convolved FD + Gaussian ##\n",
    "import lmfit as lm\n",
    "\n",
    "# T = 32  # measurement temp\n",
    "T = 20  # measurement temp\n",
    "k_B = 8.617333e-5  # eV/K\n",
    "\n",
    "x = y_1d\n",
    "data = col\n",
    "\n",
    "offset_type = \"constant\"\n",
    "\n",
    "\n",
    "## FD\n",
    "def fermi_dirac(x, center, theta, amp):\n",
    "    arg = (x - center) / (2 * theta)  # x=E, center=mu, theta = k_B * T\n",
    "    return -amp / 2 * np.tanh(arg)\n",
    "\n",
    "\n",
    "## Offset\n",
    "c = np.mean(data)\n",
    "b = (data[-1] - data[0]) / (x[-1] - x[0])\n",
    "a = 0\n",
    "\n",
    "offset = fitting_functions.offset_model(offset_type, a, b, c)\n",
    "\n",
    "\n",
    "## Gaussian\n",
    "def gaussian(x, mu, sigma, amplitude):\n",
    "    return (\n",
    "        amplitude\n",
    "        / (sigma * np.sqrt(2 * np.pi))\n",
    "        * np.exp(-((x - mu) ** 2) / (2 * sigma**2))\n",
    "    )\n",
    "\n",
    "\n",
    "# ## Convolved model\n",
    "# def conv_FDgauss(\n",
    "#     x, center, theta, amp, const, fd_lin, iA__center, iA__sigma, iA__amplitude\n",
    "# ):\n",
    "#     FD = fermi_dirac(x, center, theta, amp)\n",
    "#     # linear = (fd_lin * x) * (FD - np.min(FD))\n",
    "#     # FD += const + linear\n",
    "#     FD += const\n",
    "#     gauss_x = np.arange(-3 * iA__sigma, 3 * iA__sigma, x[1] - x[0])\n",
    "#     gauss1 = gaussian(gauss_x, iA__center, iA__sigma, iA__amplitude)\n",
    "#     if len(gauss_x) > len(x):\n",
    "#         print(\"gauss_x is longer than x array for FD\")\n",
    "#     left_len = int(len(gauss_x) / 2)\n",
    "#     right_len = len(gauss_x) - left_len - 1\n",
    "#     FD = np.concatenate(\n",
    "#         (np.ones(left_len) * FD[0], FD, np.ones(right_len) * FD[-1]),\n",
    "#         axis=0,\n",
    "#         dtype=np.float32,\n",
    "#     )  # adds the repeated values on left and right side; valid region is the same but edge effects aren't as bad\n",
    "#     # because you're assuming something similar on the edges\n",
    "#     conv = np.convolve(gauss1, FD, mode=\"valid\").astype(np.float32)\n",
    "#     # conv[: int(len(gauss_x) / 2)] = np.nan\n",
    "#     # conv[-int(len(gauss_x) / 2) :] = np.nan\n",
    "#     return conv\n",
    "\n",
    "\n",
    "## Convolved model\n",
    "def conv_FDgauss(x, center, theta, amp, const, iA__center, iA__sigma, iA__amplitude):\n",
    "    FD = fermi_dirac(x, center, theta, amp)\n",
    "    FD += const\n",
    "    gauss_x = np.arange(-3 * iA__sigma, 3 * iA__sigma, x[1] - x[0])\n",
    "    gauss1 = gaussian(gauss_x, iA__center, iA__sigma, iA__amplitude)\n",
    "    if len(gauss_x) > len(x):\n",
    "        print(\"gauss_x is longer than x array for FD\")\n",
    "    left_len = int(len(gauss_x) / 2)\n",
    "    right_len = len(gauss_x) - left_len - 1\n",
    "    FD = np.concatenate(\n",
    "        (np.ones(left_len) * FD[0], FD, np.ones(right_len) * FD[-1]),\n",
    "        axis=0,\n",
    "        dtype=np.float32,\n",
    "    )  # adds the repeated values on left and right side; valid region is the same but edge effects aren't as bad\n",
    "    # because you're assuming something similar on the edges\n",
    "    conv = np.convolve(gauss1, FD, mode=\"valid\").astype(np.float32)\n",
    "\n",
    "    # conv = np.convolve(gauss1, FD, mode=\"same\").astype(np.float32)\n",
    "    # conv[: int(len(gauss_x) / 2)] = np.nan\n",
    "    # conv[-int(len(gauss_x) / 2) :] = np.nan\n",
    "    return conv\n",
    "\n",
    "\n",
    "full_model = lm.models.Model(conv_FDgauss)\n",
    "\n",
    "params = full_model.make_params()\n",
    "\n",
    "# params[\"center\"].value = 1.9\n",
    "params[\"center\"].value = 18.48\n",
    "params[\"center\"].vary = True\n",
    "# params[\"center\"].min = 1.85\n",
    "# params[\"center\"].max = 1.95\n",
    "\n",
    "params[\"theta\"].value = k_B * T\n",
    "params[\"theta\"].vary = False\n",
    "# params[\"theta\"].vary = True\n",
    "\n",
    "params[\"amp\"].value = 3.667e-4\n",
    "params[\"amp\"].vary = True\n",
    "params[\"amp\"].min = 1e-8\n",
    "\n",
    "params[\"const\"].value = 0\n",
    "# params[\"fd_lin\"].value = 10\n",
    "# params[\"fd_const\"].value = 0\n",
    "\n",
    "params[\"iA__center\"].value = 0\n",
    "params[\"iA__center\"].vary = False\n",
    "\n",
    "\n",
    "# ## 6 eV ##\n",
    "# params[\"iA__sigma\"].value = tr_functions.fwhm_to_sig(\n",
    "#     0.02\n",
    "# )  # 80 meV energy resolution for 6 eV laser\n",
    "# params[\"iA__sigma\"].vary = True\n",
    "# params[\"iA__sigma\"].min = tr_functions.fwhm_to_sig(0.01)\n",
    "# params[\"iA__sigma\"].max = tr_functions.fwhm_to_sig(0.1)\n",
    "\n",
    "\n",
    "## XUV ##\n",
    "params[\"iA__sigma\"].value = tr_functions.fwhm_to_sig(\n",
    "    0.08\n",
    ")  # 50 - 100 meV energy resolution for 6 eV laser\n",
    "params[\"iA__sigma\"].vary = True\n",
    "params[\"iA__sigma\"].min = tr_functions.fwhm_to_sig(0.01)\n",
    "params[\"iA__sigma\"].max = tr_functions.fwhm_to_sig(0.2)\n",
    "\n",
    "\n",
    "params[\"iA__amplitude\"].value = 1\n",
    "params[\"iA__amplitude\"].vary = False\n",
    "\n",
    "for param in params:\n",
    "    params[param].value = np.float32(params[param].value)\n",
    "    params[param].min = np.float32(params[param].min)\n",
    "    params[param].max = np.float32(params[param].max)\n",
    "    # print(params[param].value.dtype)\n",
    "\n",
    "\n",
    "# fit = full_model.fit(data, x=x, params=params, nan_policy=\"propagate\")\n",
    "fit = full_model.fit(data.astype(np.float32), x=x.astype(np.float32), params=params)\n",
    "# if plot_fit:\n",
    "fit.plot()\n",
    "\n",
    "# linear_params = fit.params.copy()"
   ]
  },
  {
   "cell_type": "code",
   "execution_count": null,
   "id": "647e0eda-7b98-4556-bc08-2f9ea19d568f",
   "metadata": {
    "tags": []
   },
   "outputs": [],
   "source": [
    "# fig = go.Figure()\n",
    "# fig.add_trace(go.Scatter(x=x, y=fit.eval(x=x), name=\"fit\"))\n",
    "# fig.add_trace(go.Scatter(x=x, y=fit.init_fit, name=\"init\"))\n",
    "# fig.show()"
   ]
  },
  {
   "cell_type": "code",
   "execution_count": null,
   "id": "316dd8e3-081d-4178-b14c-ca635b3aad89",
   "metadata": {
    "tags": []
   },
   "outputs": [],
   "source": [
    "## Plot Fit Components ##\n",
    "\n",
    "fig = tr_functions.thesis_fig(\n",
    "    title=f\"Fit Components\",\n",
    "    xaxis_title=\"Energy (eV)\",\n",
    "    yaxis_title=\"Intensity (arb. u)\",\n",
    "    equiv_axes=False,\n",
    "    gridlines=False,\n",
    "    height=600,\n",
    "    width=900,\n",
    ")\n",
    "\n",
    "gauss_x = np.arange(\n",
    "    -3 * fit.params[\"iA__sigma\"], 3 * fit.params[\"iA__sigma\"], y_1d[1] - y_1d[0]\n",
    ")\n",
    "\n",
    "components = fit.eval_components(x=y_1d)\n",
    "for model_name, model_value in components.items():\n",
    "    fig.add_trace(\n",
    "        go.Scatter(\n",
    "            x=y_1d,\n",
    "            y=model_value,\n",
    "            name=model_name,\n",
    "        )\n",
    "    )\n",
    "\n",
    "    fig.add_trace(\n",
    "        go.Scatter(\n",
    "            x=y_1d,\n",
    "            y=gaussian(\n",
    "                x=gauss_x,\n",
    "                mu=fit.params[\"iA__center\"],\n",
    "                sigma=fit.params[\"iA__sigma\"],\n",
    "                amplitude=fit.params[\"iA__amplitude\"],\n",
    "            ),\n",
    "            name=\"gaussian\",\n",
    "            yaxis=\"y2\",\n",
    "        )\n",
    "    )\n",
    "\n",
    "    fig.add_trace(\n",
    "        go.Scatter(\n",
    "            x=y_1d,\n",
    "            y=fermi_dirac(\n",
    "                x=y_1d,\n",
    "                center=fit.params[\"center\"],\n",
    "                theta=fit.params[\"theta\"],\n",
    "                amp=fit.params[\"amp\"],\n",
    "            ),\n",
    "            name=\"FD\",\n",
    "            yaxis=\"y3\",\n",
    "        )\n",
    "    )\n",
    "\n",
    "fig.show()"
   ]
  },
  {
   "cell_type": "code",
   "execution_count": null,
   "id": "b6771f44-8122-4361-9949-1e16d186e0f1",
   "metadata": {},
   "outputs": [],
   "source": [
    "fit.params"
   ]
  },
  {
   "cell_type": "code",
   "execution_count": null,
   "id": "cfd81081-c5b5-42f0-a5f4-54f6dd7d6a47",
   "metadata": {
    "tags": []
   },
   "outputs": [],
   "source": [
    "fit.params[\"theta\"].value / k_B"
   ]
  },
  {
   "cell_type": "code",
   "execution_count": null,
   "id": "563ee2aa-60bb-4339-a8fa-c6cd3eb54423",
   "metadata": {
    "tags": []
   },
   "outputs": [],
   "source": [
    "tr_functions.sig_to_fwhm(fit.params[\"iA__sigma\"].value)"
   ]
  },
  {
   "cell_type": "code",
   "execution_count": null,
   "id": "1fea6bba-4030-4ad8-a431-47e4dbe46b99",
   "metadata": {
    "tags": []
   },
   "outputs": [],
   "source": [
    "## 10.6 K gives 78 meV, 32 K gives 75 meV.\n",
    "## 32 K and initial condition of 20 meV instead of 80 meV gives a results of 20.1 meV energy resolution and the fit looks good.\n",
    "## 32 K and initial condition of 30 meV gives a fit of 27.7 meV and the fit looks okay but not great.\n",
    "## 32 K and initial condition of 10 meV doesn't fit properly (no uncertainties).\n",
    "\n",
    "\n",
    "### Narrow Limits Around EF ###\n",
    "\n",
    "## 32 K and initial condition of 20 meV instead of 80 meV gives a results of 17.86 meV energy resolution and the fit looks good.\n",
    "## 32 K and initial condition of 30 meV gives a fit of 25.27 meV and the fit looks okay but not great.\n",
    "## 32 K and initial condition of 10 meV doesn't fit properly (no uncertainties)."
   ]
  }
 ],
 "metadata": {
  "kernelspec": {
   "display_name": "Python 3 (ipykernel)",
   "language": "python",
   "name": "python3"
  },
  "language_info": {
   "codemirror_mode": {
    "name": "ipython",
    "version": 3
   },
   "file_extension": ".py",
   "mimetype": "text/x-python",
   "name": "python",
   "nbconvert_exporter": "python",
   "pygments_lexer": "ipython3",
   "version": "3.8.12"
  }
 },
 "nbformat": 4,
 "nbformat_minor": 5
}
