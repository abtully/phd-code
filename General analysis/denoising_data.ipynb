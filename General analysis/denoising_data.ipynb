{
 "cells": [
  {
   "cell_type": "markdown",
   "id": "a9b6da58-2197-4d69-877c-e774a0982003",
   "metadata": {
    "tags": []
   },
   "source": [
    "## Imports and Functions"
   ]
  },
  {
   "cell_type": "code",
   "execution_count": null,
   "id": "87b95465-a368-4a98-a901-41d0af8388b8",
   "metadata": {},
   "outputs": [],
   "source": [
    "!pip install igorwriter"
   ]
  },
  {
   "cell_type": "code",
   "execution_count": null,
   "id": "932b4eac-4971-409a-b767-fc6775e27502",
   "metadata": {},
   "outputs": [],
   "source": [
    "from igorwriter import IgorWave\n",
    "from typing import List, Optional, Union\n",
    "import re\n",
    "\n",
    "import numpy as np\n",
    "import matplotlib.pyplot as plt\n",
    "# plt.style.use('ggplot')\n",
    "\n",
    "from scipy.ndimage import gaussian_filter\n",
    "\n",
    "import os\n",
    "import pandas as pd\n",
    "\n",
    "import sys\n",
    "sys.path.append(r'C:\\Users\\atully\\Code\\GitHub\\ARPES Code\\arpes-code-python')\n",
    "from arpes_functions import analysis_functions, plotting_functions, HDF5_loader, misc_functions, kw_data_loader\n",
    "from arpes_functions import filter_functions as ff"
   ]
  },
  {
   "cell_type": "code",
   "execution_count": null,
   "id": "a15a337c-051d-4f27-824a-16e0be158ea3",
   "metadata": {},
   "outputs": [],
   "source": [
    "def save_to_igor_itx(file_path: str, xs: List[np.ndarray], datas: List[np.ndarray], names: List[str],\n",
    "                     ys: Optional[List[np.ndarray]] = None,\n",
    "                     x_labels: Optional[Union[str, List[str]]] = None,\n",
    "                     y_labels: Optional[Union[str, List[str]]] = None):\n",
    "    \"\"\"Save data to a .itx file which can be dropped into Igor\"\"\"\n",
    "\n",
    "    def check_axis_linear(arr: np.ndarray, axis: str, name: str, current_waves: list) -> bool:\n",
    "        if arr.shape[-1] > 1 and not np.all(np.isclose(np.diff(arr), np.diff(arr)[0])):\n",
    "            logger.warning(f\"{file_path}: Igor doesn't support a non-linear {axis}-axis. Saving as separate wave\")\n",
    "            axis_wave = IgorWave(arr, name=name + f'_{axis}')\n",
    "            current_waves.append(axis_wave)\n",
    "            return False\n",
    "        else:\n",
    "            return True\n",
    "\n",
    "    if x_labels is None or isinstance(x_labels, str):\n",
    "        x_labels = [x_labels] * len(datas)\n",
    "    if y_labels is None or isinstance(y_labels, str):\n",
    "        y_labels = [y_labels] * len(datas)\n",
    "    if ys is None:\n",
    "        ys = [None] * len(datas)\n",
    "    assert all([len(datas) == len(list_) for list_ in [xs, names, x_labels, y_labels]])\n",
    "\n",
    "    waves = []\n",
    "    for x, y, data, name, x_label, y_label in zip(xs, ys, datas, names, x_labels, y_labels):\n",
    "        wave = IgorWave(data, name=name)\n",
    "        if x is not None:\n",
    "            if check_axis_linear(x, 'x', name, waves):\n",
    "                wave.set_dimscale('x', x[0], np.mean(np.diff(x)), units=x_label)\n",
    "        if y is not None:\n",
    "            if check_axis_linear(y, 'y', name, waves):\n",
    "                wave.set_dimscale('y', y[0], np.mean(np.diff(y)), units=y_label)\n",
    "        elif y_label is not None:\n",
    "            wave.set_datascale(y_label)\n",
    "        waves.append(wave)\n",
    "\n",
    "    with open(file_path, 'w') as fp:\n",
    "        for wave in waves:\n",
    "            wave.save_itx(fp, image=True)  # Image = True hopefully makes np and igor match in x/y"
   ]
  },
  {
   "cell_type": "code",
   "execution_count": null,
   "id": "d5d0045f-3060-4b61-a898-4e5d20d98758",
   "metadata": {},
   "outputs": [],
   "source": [
    "def fix_itx_format(filename: str = 'test.itx'):\n",
    "    with open(filename, 'r') as f:\n",
    "        lines = f.readlines()\n",
    "    #     for i in range(4):\n",
    "    #         lines.append(f.readline())\n",
    "\n",
    "    for ln in [1, -3, -2, -1]:\n",
    "        lines[ln] = lines[ln].replace(\"'\", \"\")\n",
    "\n",
    "\n",
    "    new = lines[:-6]\n",
    "    new[1] = 'WAVES/D/N='+lines[1][12:]\n",
    "    new.append('END\\n')\n",
    "\n",
    "    dscale = lines[-3][2:-1].replace(',', ' ', 1)\n",
    "    xscale = lines[-2][2:-1].replace(',', ' ', 1).replace(' ', '', 1)\n",
    "    yscale = lines[-1][2:-1].replace(',', ' ', 1).replace(' ', '', 1)\n",
    "\n",
    "    new.append(f'X {xscale}; {yscale}; {dscale}'.replace('\"\",', '\"\", '))\n",
    "\n",
    "    with open('test_fixed.itx', 'w') as f:\n",
    "        f.writelines(new)"
   ]
  },
  {
   "cell_type": "code",
   "execution_count": null,
   "id": "ff899fb0-8c43-4e3e-9a69-950ff5c40574",
   "metadata": {},
   "outputs": [],
   "source": [
    "def load_denoised_data(file_path: str, filename: str):\n",
    "    data_path = os.path.join(file_path, filename)\n",
    "    df = pd.read_csv(data_path, skiprows=3, header=None, sep='\\s+', skipfooter=2)\n",
    "    data = np.array(df).T\n",
    "    with open(data_path, 'r') as f:\n",
    "        lines = f.readlines()\n",
    "    last = lines[-1]\n",
    "\n",
    "    x_start, x_step = [float(v) for v in re.search('x\\s*(-?\\d*.\\d+),\\s*(-?\\d+.\\d+)', last).groups()]\n",
    "    y_start, y_step = [float(v) for v in re.search('y\\s*(-?\\d*.\\d+),\\s*(-?\\d+.\\d+)', last).groups()]\n",
    "\n",
    "    x = np.linspace(x_start, x_start+data.shape[1]*x_step, data.shape[1])\n",
    "    y = np.linspace(y_start, y_start+data.shape[0]*y_step, data.shape[0])\n",
    "    return x, y, data    "
   ]
  },
  {
   "cell_type": "markdown",
   "id": "9f8ebfd9-9d29-4e5e-a982-d9ec8501ebd1",
   "metadata": {
    "tags": []
   },
   "source": [
    "# XUV Diffraction Data"
   ]
  },
  {
   "cell_type": "code",
   "execution_count": null,
   "id": "1ca2607c-057e-412e-a35d-b573f821b427",
   "metadata": {},
   "outputs": [],
   "source": [
    "fp= r'E:\\atully\\k-corrected data\\Apr_2021\\XUV_FS_gamma0'\n",
    "fn = r'XUV_FS_gamma0_gkw11_filteredFFT_0.00int.h5'\n",
    "data, theta, phi, energy = HDF5_loader.load_hdf5(fp, fn)  # load data from hdf5"
   ]
  },
  {
   "cell_type": "code",
   "execution_count": null,
   "id": "36fa3e5c-04d7-4e39-8fa3-f27acdabbd7e",
   "metadata": {},
   "outputs": [],
   "source": [
    "slice_dim='y'\n",
    "int_range=0.2\n",
    "\n",
    "for i, v in enumerate([18.3, 18.1, 17.9]):\n",
    "    \n",
    "    x, y, data2D = analysis_functions.get_2Dslice(x=theta, y=energy, z=phi, data=data, slice_dim=slice_dim, slice_val=v, int_range=int_range)\n",
    "    x_new, y_new, data_new = analysis_functions.limit_dataset(x=x, y=y, data=data2D, xlim=(-0.73, 0.52), ylim=(-1.4, 0.1))\n",
    "    data_new = analysis_functions.norm_data(data_new)\n",
    "    \n",
    "    fig, ax = plotting_functions.plot_2D_mpl(x=x_new, y=y_new, data=data_new, cmap='Blues')\n",
    "    \n",
    "    plotting_functions.format_FS_plot(fig, ax, slice_val=v, EF=18.3)\n",
    "\n",
    "#     if i == 0:\n",
    "#         plt.savefig(r'C:\\Users\\atully\\OneDrive\\Physics.UBC\\DAE\\XUV diffraction data\\FS\\xuv_FS_EF.png')\n",
    "#     if i == 1:\n",
    "#         plt.savefig(r'C:\\Users\\atully\\OneDrive\\Physics.UBC\\DAE\\XUV diffraction data\\FS\\xuv_FS_-0.2.png')\n",
    "#     if i == 2:\n",
    "#         plt.savefig(r'C:\\Users\\atully\\OneDrive\\Physics.UBC\\DAE\\XUV diffraction data\\FS\\xuv_FS_-0.4.png')"
   ]
  },
  {
   "cell_type": "code",
   "execution_count": null,
   "id": "3fbd092b-de95-475e-9f90-e68a466be8af",
   "metadata": {},
   "outputs": [],
   "source": [
    "#     plt.xticks(np.arange(-0.6, 0.52, 0.3), fontsize=14)\n",
    "#     ax.set_xlabel(xlabel='kx (A-1)', fontsize=16)\n",
    "#     plt.yticks(np.arange(-1.2, 0.2, 0.4), fontsize=14)\n",
    "#     ax.set_ylabel(ylabel='ky (A-1)', fontsize=16)\n",
    "#     ax.set_title(f'{np.round((-18.3+v), 2)} eV', fontsize=18)\n",
    "\n",
    "#     ratio = 1.0\n",
    "#     x_left, x_right = ax.get_xlim()\n",
    "#     y_low, y_high = ax.get_ylim()\n",
    "#     ax.set_aspect(abs((x_right-x_left)/(y_low-y_high))*ratio)"
   ]
  },
  {
   "cell_type": "code",
   "execution_count": null,
   "id": "adf365fe-1d6b-4725-997f-8e6a497fe48b",
   "metadata": {},
   "outputs": [],
   "source": [
    "# Get Raw Dataslice\n",
    "\n",
    "# set slice parameters\n",
    "slice_dim='y'\n",
    "int_range=0.2\n",
    "slice_val=18.3\n",
    "# slice_val=18.1\n",
    "# slice_val=17.9\n",
    "\n",
    "# analysis -- get slice, FFT, limit dataset, normalize dataset\n",
    "xaxis, yaxis, dataslice = analysis_functions.get_2Dslice(x=theta, y=energy, z=phi, data=data, slice_dim=slice_dim, slice_val=slice_val, int_range=int_range)\n",
    "x, y, d = analysis_functions.limit_dataset(x=xaxis, y=yaxis, data=dataslice, xlim=(-0.73, 0.52), ylim=(-1.4, 0.1))\n",
    "d = analysis_functions.norm_data(d)\n",
    "\n",
    "# plot slice\n",
    "fig, ax = plotting_functions.plot_2D_mpl(x=x, y=y, data=d, xlabel='kx', ylabel='ky', title=f'Ek={slice_val}', cmap='Blues')\n",
    "\n",
    "plotting_functions.format_FS_plot(fig, ax, slice_val=slice_val, EF=18.3)\n",
    "\n",
    "# plt.savefig(r'C:\\Users\\atully\\OneDrive\\Physics.UBC\\PhD\\Dissertation\\Data\\Denoised Data\\xuv_FS_EF.png')\n",
    "\n",
    "# # Save to .itx (igor) file\n",
    "# save_to_igor_itx('test.itx', [x], [d], [\"cones\"], [y])  # take every other y value to make dataset smaller\n",
    "# fix_itx_format('test.itx')  # fix itx formatting for denoising website"
   ]
  },
  {
   "cell_type": "code",
   "execution_count": null,
   "id": "d9876d60-f671-437e-a1ca-8a93970b589c",
   "metadata": {},
   "outputs": [],
   "source": [
    "# Enhance Image\n",
    "path = r'C:\\Users\\atully\\OneDrive\\Physics.UBC\\PhD\\Dissertation\\Data\\Denoised Data'\n",
    "old_file = r'xuv_FS_EF.png'\n",
    "new_file = r'xuv_FS_EF_enhanced.png'\n",
    "ff.enhance_image(path, old_file, new_file, factor=2)"
   ]
  },
  {
   "cell_type": "code",
   "execution_count": null,
   "id": "a68353e8-ae1b-44a1-8f96-52f1956e3bf1",
   "metadata": {},
   "outputs": [],
   "source": [
    "# Gaussian Mask\n",
    "gauss_data = gaussian_filter(d, sigma=2)\n",
    "fig, ax = plotting_functions.plot_2D_mpl(x=x, y=y, data=gauss_data, xlabel='kx', ylabel='ky', title=f'Gaussian Mask: Ek={slice_val}', cmap='Blues')\n",
    "\n",
    "format_FS_plot(fig, ax, EF=18.3)\n",
    "\n",
    "# plt.savefig(r'C:\\Users\\atully\\OneDrive\\Physics.UBC\\DAE\\XUV diffraction data\\FS\\xuv_FS_EF_gauss.png')\n",
    "# plt.savefig(r'C:\\Users\\atully\\OneDrive\\Physics.UBC\\PhD\\Dissertation\\Data\\Denoised Data\\xuv_FS_EF_gauss.png')"
   ]
  },
  {
   "cell_type": "code",
   "execution_count": null,
   "id": "ac89dfa1-7c9b-477a-af4e-45bf399bc13a",
   "metadata": {},
   "outputs": [],
   "source": [
    "# Denoised Data\n",
    "fp_dn = r'C:\\Users\\atully\\OneDrive\\Physics.UBC\\DAE\\XUV diffraction data\\FS'\n",
    "fn_dn = 'XUV_FS_EF_dn.itx'\n",
    "\n",
    "title = re.search('FS_(.*?)\\_', fn_dn).group()\n",
    "title = title[3:-1]\n",
    "\n",
    "x, y, data_dn = load_denoised_data(fp_dn, fn_dn)\n",
    "\n",
    "d = analysis_functions.norm_data(data_dn)\n",
    "\n",
    "# plot slice\n",
    "fig, ax = plotting_functions.plot_2D_mpl(x=x, y=y, data=d, xlabel='kx', ylabel='ky', cmap='Blues')\n",
    "\n",
    "plotting_functions.format_FS_plot(fig, ax, EF=18.3, title=title)\n",
    "\n",
    "# plt.savefig(r'C:\\Users\\atully\\OneDrive\\Physics.UBC\\DAE\\XUV diffraction data\\FS\\xuv_FS_EF_dn.png')\n",
    "# plt.savefig(r'C:\\Users\\atully\\OneDrive\\Physics.UBC\\PhD\\Dissertation\\Data\\Denoised Data\\xuv_FS_EF_dn.png')"
   ]
  },
  {
   "cell_type": "code",
   "execution_count": null,
   "id": "176b67c2-58ce-49f4-ac5a-7ec949396f2a",
   "metadata": {},
   "outputs": [],
   "source": [
    "# test = re.search('FS_(.*?)\\_', fn).group()\n",
    "# # test = re.search('(?<=\\FS_)(.*?)(?=\\_)', fn).group()\n",
    "# test[3:-1]\n",
    "# # 'x\\s*(-?\\d*.\\d+)'\n",
    "# # (?<=\\[)(.*?)(?=\\])\n",
    "# # \\[(.*?)\\]"
   ]
  },
  {
   "cell_type": "markdown",
   "id": "973615cb-5c74-4d22-a655-accf61ce69a1",
   "metadata": {},
   "source": [
    "## XUV ky=-0.36 Cones"
   ]
  },
  {
   "cell_type": "code",
   "execution_count": null,
   "id": "6f4ab67f-d765-4478-ab01-8f0998fc764c",
   "metadata": {},
   "outputs": [],
   "source": [
    "# Get Raw Dataslice\n",
    "\n",
    "# set slice parameters\n",
    "slice_dim='z'\n",
    "int_range=0.1\n",
    "slice_val=-0.36\n",
    "\n",
    "# analysis -- get slice of FFT_filtered dataset, limit dataset, normalize dataset\n",
    "xaxis, yaxis, dataslice = analysis_functions.get_2Dslice(x=theta, y=energy, z=phi, data=data, slice_dim=slice_dim, slice_val=slice_val, int_range=int_range)\n",
    "x, y, d = analysis_functions.limit_dataset(xaxis, yaxis, dataslice, xlim=(-0.5, 0.5), ylim=(17.55, 18.4))\n",
    "# x, y, d = limit_dataset(xaxis, yaxis, dataslice, xlim=(-0.4, 0.4), ylim=(17.55, 18.4))\n",
    "normed_data = analysis_functions.norm_data(d)\n",
    "\n",
    "# plot slice\n",
    "# fig, ax = plotting_functions.plot_2D_mpl(x=xaxis, y=yaxis, data=dataslice, xlabel='kx', ylabel='E - EF (eV)', title=f'ky={slice_val}', cmap='Blues', EF=18.3)\n",
    "fig, ax = plotting_functions.plot_2D_mpl(x=x, y=y, data=normed_data, xlabel='kx', ylabel='E - EF (eV)', title=f'ky={slice_val}', cmap='Blues', EF=18.3)\n",
    "\n",
    "plotting_functions.format_HS_plot(fig, ax, slice_val=slice_val, EF=18.3, slice_constant='ky')\n",
    "\n",
    "# plt.savefig(r'C:\\Users\\atully\\OneDrive\\Physics.UBC\\DAE\\xuv_ky=-0.36\\xuv_ky=-0.36.png')\n",
    "# plt.savefig(r'C:\\Users\\atully\\OneDrive\\Physics.UBC\\PhD\\Dissertation\\Data\\Denoised Data\\xuv_ky=-0.36.png')\n",
    "\n",
    "# # Save to .itx (igor) file\n",
    "# # save_to_igor_itx('test.itx', [x], [d[::2]], [\"cones\"], [y[::2]])  # take every other y value to make dataset smaller\n",
    "# save_to_igor_itx('test.itx', [x], [d], [\"cones\"], [y])  # take every other y value to make dataset smaller\n",
    "# fix_itx_format('test.itx')  # fix itx formatting for denoising website"
   ]
  },
  {
   "cell_type": "code",
   "execution_count": null,
   "id": "b2adf85d-dab7-4aab-8875-e37a804fd504",
   "metadata": {},
   "outputs": [],
   "source": [
    "# Enhance Image\n",
    "path = r'C:\\Users\\atully\\OneDrive\\Physics.UBC\\PhD\\Dissertation\\Data\\Denoised Data'\n",
    "old_file = r'xuv_ky=-0.36.png'\n",
    "new_file = r'xuv_ky=-0.36_enhanced.png'\n",
    "ff.enhance_image(path, old_file, new_file, factor=2)"
   ]
  },
  {
   "cell_type": "code",
   "execution_count": null,
   "id": "dd376f3f-3b5c-42cc-8a77-a830f1275f4d",
   "metadata": {},
   "outputs": [],
   "source": [
    "# Gaussian Mask\n",
    "gauss_data = gaussian_filter(d, sigma=2)\n",
    "normed_data=analysis_functions.norm_data(gauss_data)\n",
    "fig, ax = plotting_functions.plot_2D_mpl(x=x, y=y, data=gauss_data, xlabel='kx', ylabel='E - EF (eV)', title=f'ky={slice_val}', cmap='Blues', EF=18.3)\n",
    "plotting_functions.format_HS_plot(fig, ax, slice_val=slice_val, EF=18.3, slice_constant='ky', title=f'Gaussian Mask: ky={slice_val}')\n",
    "\n",
    "# plt.savefig(r'C:\\Users\\atully\\OneDrive\\Physics.UBC\\PhD\\Dissertation\\Data\\Denoised Data\\xuv_ky=-0.36_gauss.png')"
   ]
  },
  {
   "cell_type": "code",
   "execution_count": null,
   "id": "a98fc582-56f5-4972-b27c-69057e06e078",
   "metadata": {},
   "outputs": [],
   "source": [
    "# Denoised Data\n",
    "fp_dn = r'C:\\Users\\atully\\OneDrive\\Physics.UBC\\DAE\\XUV diffraction data\\xuv_ky=-0.36'\n",
    "fn_dn = 'xuv_ky=-0.36_dn.itx'\n",
    "\n",
    "# title = re.search('FS_(.*?)\\_', fn_dn).group()\n",
    "# title = title[3:-1]\n",
    "title = 'ky=-0.36'\n",
    "\n",
    "x_dn, y_dn, data_dn = load_denoised_data(fp_dn, fn_dn)\n",
    "\n",
    "d_dn = analysis_functions.norm_data(data_dn)\n",
    "\n",
    "# plot slice\n",
    "fig, ax = plotting_functions.plot_2D_mpl(x=x_dn, y=y_dn, data=d_dn, xlabel='kx', ylabel='ky', cmap='Blues', EF=18.3)\n",
    "\n",
    "# plotting_functions.format_FS_plot(fig, ax, EF=18.3, title=title)\n",
    "plotting_functions.format_HS_plot(fig, ax, slice_val=slice_val, EF=18.3, slice_constant='ky', title=title)\n",
    "\n",
    "# plt.savefig(r'C:\\Users\\atully\\OneDrive\\Physics.UBC\\PhD\\Dissertation\\Data\\Denoised Data\\xuv_ky=-0.36_dn.png')"
   ]
  },
  {
   "cell_type": "markdown",
   "id": "d4306886-0b12-40c9-aa9b-4490c970c4b0",
   "metadata": {},
   "source": [
    "## XUV ky=-0.72 Cones"
   ]
  },
  {
   "cell_type": "code",
   "execution_count": null,
   "id": "5ed9d527-8fd9-4ae3-a809-81885cf496f5",
   "metadata": {},
   "outputs": [],
   "source": [
    "# set slice parameters\n",
    "slice_dim='z'\n",
    "int_range=0.1\n",
    "slice_val=-0.72\n",
    "\n",
    "# analysis -- get slice of FFT_filtered dataset, limit dataset, normalize dataset\n",
    "xaxis, yaxis, dataslice = analysis_functions.get_2Dslice(x=theta, y=energy, z=phi, data=data, slice_dim=slice_dim, slice_val=slice_val, int_range=int_range)\n",
    "x, y, d = analysis_functions.limit_dataset(xaxis, yaxis, dataslice, xlim=(-0.5, 0.5), ylim=(17.55, 18.4))\n",
    "normed_data = analysis_functions.norm_data(d)\n",
    "\n",
    "# plot slice\n",
    "# fig, ax = plotting_functions.plot_2D_mpl(x=xaxis, y=yaxis, data=dataslice, xlabel='kx', ylabel='E - EF (eV)', title=f'ky={slice_val}', cmap='Blues', EF=18.3)\n",
    "fig, ax = plotting_functions.plot_2D_mpl(x=x, y=y, data=normed_data, xlabel='kx', ylabel='E - EF (eV)', title=f'ky={slice_val}', cmap='Blues', EF=18.3)\n",
    "\n",
    "plotting_functions.format_HS_plot(fig, ax, slice_val=slice_val, EF=18.3, slice_constant='ky')\n",
    "\n",
    "# plt.savefig(r'C:\\Users\\atully\\OneDrive\\Physics.UBC\\DAE\\xuv_ky=-0.72\\xuv_ky=-0.72.png')\n",
    "# plt.savefig(r'C:\\Users\\atully\\OneDrive\\Physics.UBC\\PhD\\Dissertation\\Data\\Denoised Data\\xuv_ky=-0.72.png')\n",
    "\n",
    "# # Save to .itx (igor) file\n",
    "# save_to_igor_itx('test.itx', [x], [d], [\"cones\"], [y])  # take every other y value to make dataset smaller\n",
    "# fix_itx_format('test.itx')  # fix itx formatting for denoising website"
   ]
  },
  {
   "cell_type": "code",
   "execution_count": null,
   "id": "e40b37f8-cf85-4edb-8788-f143acdd3eda",
   "metadata": {},
   "outputs": [],
   "source": [
    "# Enhance Image\n",
    "path = r'C:\\Users\\atully\\OneDrive\\Physics.UBC\\PhD\\Dissertation\\Data\\Denoised Data'\n",
    "old_file = r'xuv_ky=-0.72.png'\n",
    "new_file = r'xuv_ky=-0.72_enhanced.png'\n",
    "ff.enhance_image(path, old_file, new_file, factor=2)"
   ]
  },
  {
   "cell_type": "code",
   "execution_count": null,
   "id": "2ecba27e-04e9-41ad-b49f-00d74a4a02a1",
   "metadata": {},
   "outputs": [],
   "source": [
    "# Gaussian Mask\n",
    "gauss_data = gaussian_filter(d, sigma=2)\n",
    "normed_data=analysis_functions.norm_data(gauss_data)\n",
    "fig, ax = plotting_functions.plot_2D_mpl(x=x, y=y, data=gauss_data, xlabel='kx', ylabel='E - EF (eV)', title=f'ky={slice_val}', cmap='Blues', EF=18.3)\n",
    "plotting_functions.format_HS_plot(fig, ax, slice_val=slice_val, EF=18.3, slice_constant='ky', title=f'Gaussian Mask: ky={slice_val}')\n",
    "\n",
    "# plt.savefig(r'C:\\Users\\atully\\OneDrive\\Physics.UBC\\PhD\\Dissertation\\Data\\Denoised Data\\xuv_ky=-0.72_gauss.png')"
   ]
  },
  {
   "cell_type": "code",
   "execution_count": null,
   "id": "a96fdea1-d455-481e-9cd6-908306d8f771",
   "metadata": {},
   "outputs": [],
   "source": [
    "# Denoised Data\n",
    "fp_dn = r'C:\\Users\\atully\\OneDrive\\Physics.UBC\\DAE\\XUV diffraction data\\xuv_ky=-0.72'\n",
    "fn_dn = 'xuv_ky=-0.72_dn.itx'\n",
    "\n",
    "# title = re.search('FS_(.*?)\\_', fn_dn).group()\n",
    "# title = title[3:-1]\n",
    "title = 'ky=-0.72'\n",
    "\n",
    "x_dn, y_dn, data_dn = load_denoised_data(fp_dn, fn_dn)\n",
    "\n",
    "d_dn = analysis_functions.norm_data(data_dn)\n",
    "\n",
    "# plot slice\n",
    "fig, ax = plotting_functions.plot_2D_mpl(x=x_dn, y=y_dn, data=d_dn, xlabel='kx', ylabel='ky', cmap='Blues', EF=18.3)\n",
    "\n",
    "# plotting_functions.format_FS_plot(fig, ax, EF=18.3, title=title)\n",
    "plotting_functions.format_HS_plot(fig, ax, slice_val=slice_val, EF=18.3, slice_constant='ky', title=title)\n",
    "\n",
    "# plt.savefig(r'C:\\Users\\atully\\OneDrive\\Physics.UBC\\PhD\\Dissertation\\Data\\Denoised Data\\xuv_ky=-0.72_dn.png')"
   ]
  },
  {
   "cell_type": "markdown",
   "id": "163cbf80-881c-4ac7-9d01-6f5109f924a8",
   "metadata": {
    "tags": []
   },
   "source": [
    "# Lamp Diffraction Data"
   ]
  },
  {
   "cell_type": "code",
   "execution_count": null,
   "id": "b27dd6e3-854c-4be6-a2a9-ad2945566a77",
   "metadata": {},
   "outputs": [],
   "source": [
    "fp = r'E:\\atully\\k-corrected data\\Apr_2021\\phi_motor_scan_FermiEdge2'\n",
    "fn = r'phi_FermiEdge2kw_filteredFFT_0.00int.h5'\n",
    "data, theta, phi, energy = HDF5_loader.load_hdf5(fp, fn)  # load data from hdf5"
   ]
  },
  {
   "cell_type": "code",
   "execution_count": null,
   "id": "a292ada9-fab1-420e-93b6-7ad9232ce668",
   "metadata": {},
   "outputs": [],
   "source": [
    "# set slice parameters\n",
    "slice_dim='y'\n",
    "int_range=0.2\n",
    "slice_val=16.8\n",
    "\n",
    "# analysis -- get slice, FFT, limit dataset, normalize dataset\n",
    "xaxis, yaxis, dataslice = analysis_functions.get_2Dslice(x=theta, y=energy, z=phi, data=data, slice_dim=slice_dim, slice_val=slice_val, int_range=int_range)\n",
    "x, y, d = analysis_functions.limit_dataset(xaxis, yaxis, dataslice, xlim=(-0.65, 0.52), ylim=(-1.4, 0.1))\n",
    "normed_data = analysis_functions.norm_data(d)\n",
    "\n",
    "# plot slice\n",
    "fig, ax = plotting_functions.plot_2D_mpl(x=x, y=y, data=normed_data, xlabel='kx', ylabel='ky', title=f'Ek={slice_val}', cmap='Blues')\n",
    "\n",
    "plotting_functions.format_FS_plot(fig, ax, slice_val=slice_val, EF=16.8)\n",
    "\n",
    "# plt.savefig(r'C:\\Users\\atully\\OneDrive\\Physics.UBC\\DAE\\Lamp diffraction data\\Ek=16.8.png')\n",
    "# plt.savefig(r'C:\\Users\\atully\\OneDrive\\Physics.UBC\\PhD\\Dissertation\\Data\\Denoised Data\\lamp_FS_EF.png')\n",
    "\n",
    "# # Save to .itx (igor) file\n",
    "# save_to_igor_itx('test.itx', [x], [d], [\"cones\"], [y])  # take every other y value to make dataset smaller\n",
    "# fix_itx_format('test.itx')  # fix itx formatting for denoising website"
   ]
  },
  {
   "cell_type": "code",
   "execution_count": null,
   "id": "e55c9665-a684-4bad-8ad0-ef6c7ea163dd",
   "metadata": {},
   "outputs": [],
   "source": [
    "# Enhance Image\n",
    "path = r'C:\\Users\\atully\\OneDrive\\Physics.UBC\\PhD\\Dissertation\\Data\\Denoised Data'\n",
    "old_file = r'lamp_FS_EF.png'\n",
    "new_file = r'lamp_FS_EF_enhanced.png'\n",
    "ff.enhance_image(path, old_file, new_file, factor=2)"
   ]
  },
  {
   "cell_type": "code",
   "execution_count": null,
   "id": "c2a5c9b7-4ea8-4b1e-b4f6-b8926079ba3d",
   "metadata": {},
   "outputs": [],
   "source": [
    "# Gaussian Mask\n",
    "gauss_data = gaussian_filter(d, sigma=2)\n",
    "fig, ax = plotting_functions.plot_2D_mpl(x=x, y=y, data=gauss_data, xlabel='kx', ylabel='ky', title=f'Gaussian Mask: Ek={slice_val}', cmap='Blues')\n",
    "plotting_functions.format_FS_plot(fig, ax, slice_val=slice_val, EF=16.8)\n",
    "\n",
    "# plt.savefig(r'C:\\Users\\atully\\OneDrive\\Physics.UBC\\PhD\\Dissertation\\Data\\Denoised Data\\lamp_FS_EF_gauss.png')"
   ]
  },
  {
   "cell_type": "code",
   "execution_count": null,
   "id": "f39099bc-84fa-4f3a-a0b5-43b63125c2fa",
   "metadata": {},
   "outputs": [],
   "source": [
    "# Denoised Data\n",
    "fp_dn = r'C:\\Users\\atully\\OneDrive\\Physics.UBC\\DAE\\Lamp diffraction data\\FS'\n",
    "fn_dn = 'Ek=16.8_dn.itx'\n",
    "\n",
    "# title = re.search('FS_(.*?)\\_', fn_dn).group()\n",
    "# title = title[3:-1]\n",
    "title='EF'\n",
    "\n",
    "x, y, data_dn = load_denoised_data(fp_dn, fn_dn)\n",
    "\n",
    "d = analysis_functions.norm_data(data_dn)\n",
    "\n",
    "# plot slice\n",
    "fig, ax = plotting_functions.plot_2D_mpl(x=x, y=y, data=d, xlabel='kx', ylabel='ky', cmap='Blues')\n",
    "\n",
    "plotting_functions.format_FS_plot(fig, ax, EF=16.8, title=title)\n",
    "\n",
    "# plt.savefig(r'C:\\Users\\atully\\OneDrive\\Physics.UBC\\PhD\\Dissertation\\Data\\Denoised Data\\lamp_FS_EF_dn.png')"
   ]
  },
  {
   "cell_type": "markdown",
   "id": "2841ea6a-49ea-436b-94aa-c531b9d6f3d4",
   "metadata": {},
   "source": [
    "## Lamp Diffraction Data -- Attempt at seeing cones"
   ]
  },
  {
   "cell_type": "code",
   "execution_count": null,
   "id": "1929c27c-0983-4b18-80cb-ae7a4cc64da9",
   "metadata": {},
   "outputs": [],
   "source": [
    "# Take slices in ky\n",
    "\n",
    "# set slice parameters\n",
    "EF = 16.8\n",
    "slice_dim='z'\n",
    "int_range=0.1\n",
    "# slice_val=-1.1\n",
    "# slice_val=-0.4\n",
    "# slice_val=-0.36\n",
    "# slice_val=-0.8\n",
    "slice_val=0\n",
    "\n",
    "# analysis -- get slice of FFT_filtered dataset, limit dataset, normalize dataset\n",
    "xaxis, yaxis, dataslice = analysis_functions.get_2Dslice(x=theta, y=energy, z=phi, data=data, slice_dim=slice_dim, slice_val=slice_val, int_range=int_range)\n",
    "# x, y, d = limit_dataset(xaxis, yaxis, dataslice, xlim=(-0.5, 0.5), ylim=(15.6, 16.8))\n",
    "# x, y, d = limit_dataset(xaxis, yaxis, dataslice, xlim=(-0.5, 0.5), ylim=(15.8, 16.8))\n",
    "x, y, d = analysis_functions.limit_dataset(xaxis, yaxis, dataslice, xlim=(-0.5, 0.5), ylim=(16.0, 16.8))\n",
    "normed_data = analysis_functions.norm_data(d)\n",
    "\n",
    "# plot slice\n",
    "fig, ax = plotting_functions.plot_2D_mpl(x=x, y=y, data=normed_data, xlabel='kx', ylabel='E - EF (eV)', title=f'ky={slice_val}', cmap='Blues', EF=EF)\n",
    "\n",
    "plotting_functions.format_HS_plot(fig, ax, slice_val=slice_val, EF=EF, slice_constant='ky')\n",
    "\n",
    "# plt.savefig(r'C:\\Users\\atully\\OneDrive\\Physics.UBC\\DAE\\Lamp diffraction data\\ky=-0.4.png')  # this was with int_range = 0.0\n",
    "# plt.savefig(r'C:\\Users\\atully\\OneDrive\\Physics.UBC\\DAE\\Lamp diffraction data\\ky=-0.4_ylim=15.8to16.8.png')  # this was with int_range = 0.0\n",
    "\n",
    "# # Save to .itx (igor) file\n",
    "# save_to_igor_itx('test.itx', [x], [d], [\"cones\"], [y])  # take every other y value to make dataset smaller\n",
    "# fix_itx_format('test.itx')  # fix itx formatting for denoising website"
   ]
  },
  {
   "cell_type": "code",
   "execution_count": null,
   "id": "d615fd2c-145a-4d54-be66-6255a2594b20",
   "metadata": {},
   "outputs": [],
   "source": [
    "# NOTE INT RANGE!\n",
    "\n",
    "# set slice parameters\n",
    "EF = 16.8\n",
    "slice_dim='z'\n",
    "int_range=0.05\n",
    "# slice_val=-0.71\n",
    "slice_val=-0.72\n",
    "\n",
    "# analysis -- get slice of FFT_filtered dataset, limit dataset, normalize dataset\n",
    "xaxis, yaxis, dataslice = analysis_functions.get_2Dslice(x=theta, y=energy, z=phi, data=data, slice_dim=slice_dim, slice_val=slice_val, int_range=int_range)\n",
    "# x, y, d = limit_dataset(xaxis, yaxis, dataslice, xlim=(-0.5, 0.5), ylim=(15.6, 16.8))\n",
    "x, y, d = analysis_functions.limit_dataset(xaxis, yaxis, dataslice, xlim=(-0.5, 0.5), ylim=(16.0, 16.8))\n",
    "normed_data = analysis_functions.norm_data(d)\n",
    "\n",
    "# plot slice\n",
    "fig, ax = plotting_functions.plot_2D_mpl(x=x, y=y, data=normed_data, xlabel='kx', ylabel='E - EF (eV)', title=f'ky={slice_val}', cmap='Blues', EF=EF)\n",
    "\n",
    "plotting_functions.format_HS_plot(fig, ax, slice_val=slice_val, EF=18.3, slice_constant='ky')\n",
    "\n",
    "# plt.savefig(r'C:\\Users\\atully\\OneDrive\\Physics.UBC\\DAE\\Lamp diffraction data\\ky=-0.71.png')  # int range 0.05 \n",
    "# plt.savefig(r'C:\\Users\\atully\\OneDrive\\Physics.UBC\\PhD\\Dissertation\\Data\\Denoised Data\\lamp_ky=-0.71.png')  # int range 0.05 \n",
    "# plt.savefig(r'C:\\Users\\atully\\OneDrive\\Physics.UBC\\DAE\\Lamp diffraction data\\ky=-0.72.png')  # int range 0.05 \n",
    "# plt.savefig(r'C:\\Users\\atully\\OneDrive\\Physics.UBC\\PhD\\Dissertation\\Data\\Denoised Data\\lamp_ky=-0.72.png')  # int range 0.05 \n",
    "\n",
    "# # Save to .itx (igor) file\n",
    "# save_to_igor_itx('test.itx', [x], [d], [\"cones\"], [y])  # take every other y value to make dataset smaller\n",
    "# fix_itx_format('test.itx')  # fix itx formatting for denoising website"
   ]
  },
  {
   "cell_type": "code",
   "execution_count": null,
   "id": "f4b72a84-b24d-4508-89ae-6646e29a742a",
   "metadata": {},
   "outputs": [],
   "source": [
    "# Enhance Image\n",
    "path = r'C:\\Users\\atully\\OneDrive\\Physics.UBC\\PhD\\Dissertation\\Data\\Denoised Data'\n",
    "# old_file = r'lamp_ky=-0.71.png'\n",
    "# new_file = r'lamp_ky=-0.71_enhanced.png'\n",
    "old_file = r'lamp_ky=-0.72.png'\n",
    "new_file = r'lamp_ky=-0.72_enhanced.png'\n",
    "ff.enhance_image(path, old_file, new_file, factor=2)"
   ]
  },
  {
   "cell_type": "code",
   "execution_count": null,
   "id": "d7f9dd85-0efe-407c-88fd-e9d7382860e1",
   "metadata": {},
   "outputs": [],
   "source": [
    "# Gaussian Mask\n",
    "gauss_data = gaussian_filter(d, sigma=2)\n",
    "normed_data=analysis_functions.norm_data(gauss_data)\n",
    "fig, ax = plotting_functions.plot_2D_mpl(x=x, y=y, data=gauss_data, xlabel='kx', ylabel='E - EF (eV)', title=f'ky={slice_val}', cmap='Blues', EF=16.8)\n",
    "plotting_functions.format_HS_plot(fig, ax, slice_val=slice_val, EF=16.8, slice_constant='ky', title=f'Gaussian Mask: ky={slice_val}')\n",
    "\n",
    "# plt.savefig(r'C:\\Users\\atully\\OneDrive\\Physics.UBC\\PhD\\Dissertation\\Data\\Denoised Data\\lamp_ky=-0.71_gauss.png')\n",
    "# plt.savefig(r'C:\\Users\\atully\\OneDrive\\Physics.UBC\\PhD\\Dissertation\\Data\\Denoised Data\\lamp_ky=-0.72_gauss.png')"
   ]
  },
  {
   "cell_type": "code",
   "execution_count": null,
   "id": "c2fbfaca-4864-4998-a284-8df81934bff8",
   "metadata": {},
   "outputs": [],
   "source": [
    "# Denoised Data\n",
    "# fp_dn = r'C:\\Users\\atully\\OneDrive\\Physics.UBC\\DAE\\Lamp diffraction data\\ky=-0.71'\n",
    "# fn_dn = 'ky=-0.71_dn.itx'\n",
    "fp_dn = r'C:\\Users\\atully\\OneDrive\\Physics.UBC\\DAE\\Lamp diffraction data\\ky=-0.72'\n",
    "fn_dn = 'ky=-0.72_dn.itx'\n",
    "\n",
    "# title = re.search('FS_(.*?)\\_', fn_dn).group()\n",
    "# title = title[3:-1]\n",
    "# title = 'ky=-0.71'\n",
    "title = 'ky=-0.72'\n",
    "\n",
    "x_dn, y_dn, data_dn = load_denoised_data(fp_dn, fn_dn)\n",
    "\n",
    "d_dn = analysis_functions.norm_data(data_dn)\n",
    "\n",
    "# plot slice\n",
    "fig, ax = plotting_functions.plot_2D_mpl(x=x_dn, y=y_dn, data=d_dn, xlabel='kx', ylabel='ky', cmap='Blues', EF=16.8)\n",
    "\n",
    "# plotting_functions.format_FS_plot(fig, ax, EF=18.3, title=title)\n",
    "plotting_functions.format_HS_plot(fig, ax, slice_val=slice_val, EF=16.8, slice_constant='ky', title=title)\n",
    "\n",
    "# plt.savefig(r'C:\\Users\\atully\\OneDrive\\Physics.UBC\\PhD\\Dissertation\\Data\\Denoised Data\\lamp_ky=-0.71_dn.png')\n",
    "plt.savefig(r'C:\\Users\\atully\\OneDrive\\Physics.UBC\\PhD\\Dissertation\\Data\\Denoised Data\\lamp_ky=-0.72_dn.png')"
   ]
  },
  {
   "cell_type": "markdown",
   "id": "0b6b49c3-59db-42c4-9033-b6935f1a6c36",
   "metadata": {},
   "source": [
    "# 5-6 ML Film: HOMO"
   ]
  },
  {
   "cell_type": "code",
   "execution_count": null,
   "id": "a9cfa976-132c-400e-bf36-a656e05b2d53",
   "metadata": {},
   "outputs": [],
   "source": [
    "fp = r'E:\\atully\\arpes_data\\2022_April\\ARPES\\C60\\k_corrected'\n",
    "fn = r'FS2andFS4_avgkw_filteredFFT_0.00int.h5'\n",
    "data, theta, phi, energy = HDF5_loader.load_hdf5(fp, fn)  # load data from hdf5"
   ]
  },
  {
   "cell_type": "code",
   "execution_count": null,
   "id": "8af29d3e-e781-4416-819a-81eccbdbb880",
   "metadata": {},
   "outputs": [],
   "source": [
    "# set slice parameters\n",
    "EF = 18.48\n",
    "slice_dim='x'\n",
    "int_range=0.1\n",
    "v = 0\n",
    "\n",
    "# analysis -- get slice, limit dataset, normalize dataset\n",
    "xaxis, yaxis, dataslice = analysis_functions.get_2Dslice(x=theta, y=energy, z=phi, data=data, slice_dim=slice_dim, slice_val=v, int_range=int_range)\n",
    "x, y, d = analysis_functions.limit_dataset(x=yaxis, y=xaxis, data=dataslice.T, xlim=(-1.3, 0.18), ylim=(-2.7,-1.6), EF=EF)\n",
    "d = analysis_functions.norm_data(d)\n",
    "\n",
    "# plot slice\n",
    "fig, ax = plotting_functions.plot_2D_mpl(x=x, y=y, data=d, EF=EF, title=f'HOMO: kx=0', xlabel='ky (A-1)', cmap='Blues', swap_axes=False)\n",
    "\n",
    "# set aspect ratio\n",
    "ratio = 1.0\n",
    "x_left, x_right = ax.get_xlim()\n",
    "y_low, y_high = ax.get_ylim()\n",
    "ax.set_aspect(abs((x_right-x_left)/(y_low-y_high))*ratio)\n",
    "\n",
    "# plt.savefig(r'C:\\Users\\atully\\OneDrive\\Physics.UBC\\DAE\\5-6 ML data\\HOMO\\xuv_kx=0_HOMO.png')\n",
    "\n",
    "# # Save to .itx (igor) file\n",
    "# save_to_igor_itx('test.itx', [x], [d], [\"cones\"], [y])  # take every other y value to make dataset smaller\n",
    "# fix_itx_format('test.itx')  # fix itx formatting for denoising website"
   ]
  },
  {
   "cell_type": "code",
   "execution_count": null,
   "id": "11cae0f3-a07e-4c4b-af0d-a4da3caad019",
   "metadata": {},
   "outputs": [],
   "source": [
    "slice_dim='y'\n",
    "int_range=0.1\n",
    "\n",
    "for i, v in enumerate([16.8, 16.4, 16.0]):\n",
    "    \n",
    "    x, y, data2D = analysis_functions.get_2Dslice(x=theta, y=energy, z=phi, data=data, slice_dim=slice_dim, slice_val=v, int_range=int_range)\n",
    "    x_new, y_new, data_new = analysis_functions.limit_dataset(x=x, y=y, data=data2D, xlim=(-0.52, 0.52), ylim=(-1.25, 0.1))\n",
    "    data_new = analysis_functions.norm_data(data_new)\n",
    "    \n",
    "    fig, ax = plotting_functions.plot_2D_mpl(x=x_new, y=y_new, data=data_new, title=f'Constant Energy Slice: {v} eV', cmap='Blues')\n",
    "    \n",
    "    plotting_functions.format_FS_plot(fig, ax, EF=18.48, title=f'{np.round((-EF+v), 1)} eV', xticks=np.arange(-0.5, 0.52, 0.5))\n",
    "\n",
    "#     if i == 0:\n",
    "#         plt.savefig(r'C:\\Users\\atully\\OneDrive\\Physics.UBC\\DAE\\5-6 ML data\\HOMO\\FS\\xuv_FS_-1.7.png')\n",
    "#     if i == 1:\n",
    "#         plt.savefig(r'C:\\Users\\atully\\OneDrive\\Physics.UBC\\DAE\\5-6 ML data\\HOMO\\FS\\xuv_FS_-2.1.png')\n",
    "#     if i == 2:\n",
    "#         plt.savefig(r'C:\\Users\\atully\\OneDrive\\Physics.UBC\\DAE\\5-6 ML data\\HOMO\\FS\\xuv_FS_-2.5.png')"
   ]
  },
  {
   "cell_type": "code",
   "execution_count": null,
   "id": "eb67f4a3-bf9c-48b9-90fc-5e5e207f9269",
   "metadata": {},
   "outputs": [],
   "source": [
    "# set slice parameters\n",
    "EF = 18.48\n",
    "slice_dim='y'\n",
    "int_range=0.1\n",
    "# v = 16.8\n",
    "# v = 16.4\n",
    "v = 16.0\n",
    "\n",
    "\n",
    "xaxis, yaxis, dataslice = analysis_functions.get_2Dslice(x=theta, y=energy, z=phi, data=data, slice_dim=slice_dim, slice_val=v, int_range=int_range)\n",
    "x, y, d = analysis_functions.limit_dataset(x=xaxis, y=yaxis, data=dataslice, xlim=(-0.52, 0.52), ylim=(-1.25, 0.1))\n",
    "d = analysis_functions.norm_data(d)\n",
    "\n",
    "# plot slice\n",
    "fig, ax = plotting_functions.plot_2D_mpl(x=x, y=y, data=d, cmap='Blues', swap_axes=False)\n",
    "\n",
    "plotting_functions.format_FS_plot(fig, ax, EF=18.48, title=f'{np.round((-EF+v), 1)} eV', xticks=np.arange(-0.5, 0.52, 0.5))\n",
    "\n",
    "# # Save to .itx (igor) file\n",
    "# save_to_igor_itx('test.itx', [x], [d], [\"cones\"], [y])  # take every other y value to make dataset smaller\n",
    "# fix_itx_format('test.itx')  # fix itx formatting for denoising website"
   ]
  },
  {
   "cell_type": "markdown",
   "id": "6183ea67-2237-451a-b9d3-a0b0da693283",
   "metadata": {},
   "source": [
    "# 5-6 ML Film: HOMO-1"
   ]
  },
  {
   "cell_type": "code",
   "execution_count": null,
   "id": "4c89e668-8e1f-4e01-8dc8-91f3909084ad",
   "metadata": {},
   "outputs": [],
   "source": [
    "fp = r'E:\\atully\\arpes_data\\2022_April\\ARPES\\C60\\k_corrected'\n",
    "fn = r'FS3kw_filteredFFT_0.00int.h5'\n",
    "data, theta, phi, energy = HDF5_loader.load_hdf5(fp, fn)  # load data from hdf5"
   ]
  },
  {
   "cell_type": "code",
   "execution_count": null,
   "id": "a4397823-e203-40d7-b7ff-95481526e898",
   "metadata": {},
   "outputs": [],
   "source": [
    "# set slice parameters\n",
    "EF = 18.48\n",
    "slice_dim='x'\n",
    "int_range=0.1\n",
    "v = 0\n",
    "\n",
    "# analysis -- get slice, limit dataset, normalize dataset\n",
    "xaxis, yaxis, dataslice = analysis_functions.get_2Dslice(x=theta, y=energy, z=phi, data=data, slice_dim=slice_dim, slice_val=v, int_range=int_range)\n",
    "x, y, d = analysis_functions.limit_dataset(x=yaxis, y=xaxis, data=dataslice.T, xlim=(-1.3, 0.18), ylim=(-3.9, -2.7), EF=EF)\n",
    "d = analysis_functions.norm_data(d)\n",
    "\n",
    "# plot slice\n",
    "fig, ax = plotting_functions.plot_2D_mpl(x=x, y=y, data=d, EF=EF, title=f'HOMO-1: kx=0', xlabel='ky (A-1)', cmap='Blues', swap_axes=False)\n",
    "\n",
    "# set aspect ratio\n",
    "ratio = 1.0\n",
    "x_left, x_right = ax.get_xlim()\n",
    "y_low, y_high = ax.get_ylim()\n",
    "ax.set_aspect(abs((x_right-x_left)/(y_low-y_high))*ratio)\n",
    "\n",
    "# plt.savefig(r'C:\\Users\\atully\\OneDrive\\Physics.UBC\\DAE\\5-6 ML data\\HOMO-1\\xuv_kx=0_HOMO-1.png')\n",
    "\n",
    "# # Save to .itx (igor) file\n",
    "# save_to_igor_itx('test.itx', [x], [d], [\"cones\"], [y])  # take every other y value to make dataset smaller\n",
    "# fix_itx_format('test.itx')  # fix itx formatting for denoising website"
   ]
  },
  {
   "cell_type": "markdown",
   "id": "00c3bf41-9278-4116-af92-b68f1703bda6",
   "metadata": {},
   "source": [
    "# Au Data"
   ]
  },
  {
   "cell_type": "code",
   "execution_count": null,
   "id": "aaa48fdc-1aac-4d9c-9691-bd1a26601755",
   "metadata": {},
   "outputs": [],
   "source": [
    "slice_val = 16.8\n",
    "int_range = 0.1\n",
    "\n",
    "fp = r'E:\\atully\\arpes_data\\2022_October\\k_corrected'\n",
    "fn = r'FS1_avg_gkw_filteredFFT_0.00int.h5'\n",
    "data1, theta1, phi1, energy1 = HDF5_loader.load_hdf5(fp, fn)  # load data from hdf5\n",
    "\n",
    "# Get slice\n",
    "xaxis1, yaxis1, dataslice1 = analysis_functions.get_2Dslice(x=theta1, y=energy1, z=phi1, data=data1, slice_dim='y', slice_val=slice_val, int_range=int_range)\n",
    "dataslice1 = analysis_functions.norm_data(dataslice1)\n",
    "\n",
    "fn = r'FS4_avg4_gkw_filteredFFT_0.00int.h5'\n",
    "data4, theta4, phi4, energy4 = HDF5_loader.load_hdf5(fp, fn)  # load data from hdf5\n",
    "\n",
    "# Get slice\n",
    "xaxis4, yaxis4, dataslice4 = analysis_functions.get_2Dslice(x=theta4, y=energy4, z=phi4, data=data4, slice_dim='y', slice_val=slice_val, int_range=int_range)\n",
    "dataslice4 = analysis_functions.norm_data(dataslice4)\n",
    "\n",
    "# 2\n",
    "\n",
    "from scipy.interpolate import interp1d\n",
    "\n",
    "new_theta = np.linspace(min(min(theta1), min(theta4)), max(max(theta1), max(theta4)), 2000)\n",
    "\n",
    "new_datas = []\n",
    "for theta, data in zip([theta1, theta4], [dataslice1, dataslice4]):\n",
    "    nd = []\n",
    "    for row in data:\n",
    "        interper = interp1d(theta, row, fill_value=np.nan, bounds_error=False)\n",
    "        nd.append(interper(new_theta))\n",
    "    new_datas.append(np.array(nd))\n",
    "    \n",
    "    # 3\n",
    "\n",
    "left = np.min(theta1[dataslice1[100] > 0.01])\n",
    "right = np.max(theta4[dataslice4[100] > 0.01])\n",
    "\n",
    "overlap_indices = np.where(new_theta>left)[0][0], np.where(new_theta<right)[0][-1]  # indices over which the datasets will overlap\n",
    "\n",
    "# 4\n",
    "\n",
    "w1 = np.linspace(0, 1, overlap_indices[1]-overlap_indices[0])\n",
    "w4 = np.flip(w1)\n",
    "\n",
    "# 5\n",
    "\n",
    "overlap1 = w1 * new_datas[0][:, overlap_indices[0]:overlap_indices[1]]\n",
    "overlap4 = w4 * new_datas[1][:, overlap_indices[0]:overlap_indices[1]]\n",
    "\n",
    "overlap = overlap1 + overlap4\n",
    "\n",
    "new_data = np.concatenate((new_datas[1][:, :overlap_indices[0]], overlap, new_datas[0][:, overlap_indices[1]:]), axis=-1)\n",
    "\n",
    "fig, ax = plotting_functions.plot_2D_mpl(x=new_theta, y=yaxis1, data=new_data, xlabel='kx', ylabel='E_k', title=f'', cmap='Blues')\n",
    "\n",
    "# plt.savefig(r'C:\\Users\\atully\\OneDrive\\Physics.UBC\\DAE\\Au\\FS\\Au111_FS.png')\n",
    "# plt.savefig(r'C:\\Users\\atully\\OneDrive\\Physics.UBC\\PhD\\Dissertation\\Data\\Denoised Data\\Au111_FS_EF.png')\n",
    "\n",
    "x, y, d = new_theta, yaxis1, new_data"
   ]
  },
  {
   "cell_type": "code",
   "execution_count": null,
   "id": "5fd9137e-0863-4523-ac7b-4a3521d13c77",
   "metadata": {},
   "outputs": [],
   "source": [
    "# # Save to .itx (igor) file\n",
    "# save_to_igor_itx('test.itx', [x], [d], [\"cones\"], [y])\n",
    "# fix_itx_format('test.itx')  # fix itx formatting for denoising website"
   ]
  },
  {
   "cell_type": "code",
   "execution_count": null,
   "id": "98bc2a47-7685-4717-9b52-ab14765079cd",
   "metadata": {},
   "outputs": [],
   "source": [
    "# Denoised Data\n",
    "fp_dn = r'C:\\Users\\atully\\OneDrive\\Physics.UBC\\DAE\\Au\\FS'\n",
    "fn_dn = 'Au111_FS_EF_dn.itx'\n",
    "\n",
    "# title = re.search('FS_(.*?)\\_', fn_dn).group()\n",
    "# title = title[3:-1]\n",
    "title = 'EF'\n",
    "\n",
    "x, y, data_dn = load_denoised_data(fp_dn, fn_dn)\n",
    "\n",
    "d = analysis_functions.norm_data(data_dn)\n",
    "\n",
    "# plot slice\n",
    "fig, ax = plotting_functions.plot_2D_mpl(x=x, y=y, data=d, xlabel='kx', ylabel='ky', cmap='Blues')\n",
    "\n",
    "plotting_functions.format_FS_plot(fig, ax, EF=16.8, title=title, xticks=None, set_aspect_ratio=False)\n",
    "\n",
    "# plt.savefig(r'C:\\Users\\atully\\OneDrive\\Physics.UBC\\PhD\\Dissertation\\Data\\Denoised Data\\Au111_FS_EF_dn.png')"
   ]
  },
  {
   "cell_type": "code",
   "execution_count": null,
   "id": "eba33f29-2f22-4798-b036-82cacc95a739",
   "metadata": {},
   "outputs": [],
   "source": [
    "fn = r'Au111_SS_split_g_kw.ibw'\n",
    "xaxis, yaxis, data = kw_data_loader.load2D_k(ddir=fp, fn=fn, summary=False);\n",
    "\n",
    "# ax.set_ylim(-0.55, 0.0)\n",
    "# plt.yticks(np.arange(-0.5, 0.01, 0.25), fontsize=14)\n",
    "\n",
    "# ax.set_xlim(-0.3, 0.3)\n",
    "# plt.xticks(np.arange(-0.25, 0.3, 0.25), fontsize=14)\n",
    "\n",
    "x, y, d = analysis_functions.limit_dataset(xaxis, yaxis, data, xlim=(-0.3, 0.3), ylim=(-0.55, 0.0), EF=16.9)\n",
    "normed_data = analysis_functions.norm_data(d)\n",
    "\n",
    "fig, ax = plotting_functions.plot_2D_mpl(x, y, normed_data, EF=16.9, title='Au(111) Surface State', xlabel='kx (A-1)', ylabel='E-EF (eV)', cmap='Blues')\n",
    "\n",
    "# set aspect ratio\n",
    "ratio = 1.0\n",
    "x_left, x_right = ax.get_xlim()\n",
    "y_low, y_high = ax.get_ylim()\n",
    "ax.set_aspect(abs((x_right-x_left)/(y_low-y_high))*ratio)"
   ]
  },
  {
   "cell_type": "code",
   "execution_count": null,
   "id": "b9fc46f2-773f-4ffe-b349-e4e8ef56009b",
   "metadata": {},
   "outputs": [],
   "source": [
    "new_data = ff.fft2d_mask(data, plot=False)\n",
    "\n",
    "x, y, d = analysis_functions.limit_dataset(xaxis, yaxis, new_data, xlim=(-0.3, 0.3), ylim=(-0.55, 0.0), EF=16.9)\n",
    "normed_data = analysis_functions.norm_data(d)\n",
    "\n",
    "fig, ax = plotting_functions.plot_2D_mpl(x=x, y=y, data=normed_data, EF=16.9, xlabel='kx', ylabel='E-EF (eV)', title=f'Au(111) Surface State', cmap='Blues')\n",
    "\n",
    "# set aspect ratio\n",
    "ratio = 1.0\n",
    "x_left, x_right = ax.get_xlim()\n",
    "y_low, y_high = ax.get_ylim()\n",
    "ax.set_aspect(abs((x_right-x_left)/(y_low-y_high))*ratio)\n",
    "\n",
    "# plt.savefig(r'C:\\Users\\atully\\OneDrive\\Physics.UBC\\PhD\\Dissertation\\Data\\Denoised Data\\Au111_ss.png')"
   ]
  },
  {
   "cell_type": "code",
   "execution_count": null,
   "id": "a99a9c47-5180-4331-9137-cb8356d6f3e2",
   "metadata": {},
   "outputs": [],
   "source": [
    "x.shape, y.shape, normed_data.shape"
   ]
  },
  {
   "cell_type": "code",
   "execution_count": null,
   "id": "07059d38-fcf2-4dff-a21f-074020cf9917",
   "metadata": {},
   "outputs": [],
   "source": [
    "# # Save to .itx (igor) file\n",
    "# d = normed_data\n",
    "# save_to_igor_itx('test.itx', [x], [d], [\"cones\"], [y])\n",
    "# fix_itx_format('test.itx')  # fix itx formatting for denoising website"
   ]
  },
  {
   "cell_type": "markdown",
   "id": "22b34ba3-9f30-4275-be96-51e564b50c8d",
   "metadata": {},
   "source": [
    "# Scratch Work"
   ]
  },
  {
   "cell_type": "markdown",
   "id": "b03ae31f-cc86-48c6-b36b-fa98a522cf99",
   "metadata": {},
   "source": [
    "Ideas:\n",
    "- show how it looks on a really nice dataset (my Au); shouldn't change it much\n",
    "- show how it really breaks if it doesn't work properly (like if you try to do it to too high an accuracy with too low of statistics)\n",
    "- compare to Gaussian smoothing\n",
    "- compare FS vs KE cuts\n",
    "- remember to change downloaded file to .itx file\n",
    "- write a mini thesis chapter on DAE\n",
    "- prepare a presentation for LAIR and David's group on DAE"
   ]
  },
  {
   "cell_type": "code",
   "execution_count": null,
   "id": "c8361f05-749f-4556-b50c-b3dbcee99317",
   "metadata": {},
   "outputs": [],
   "source": [
    "# with open('test.itx', 'r') as f:\n",
    "#     lines = f.readlines()\n",
    "# #     for i in range(4):\n",
    "# #         lines.append(f.readline())\n",
    "\n",
    "# for ln in [1, -3, -2, -1]:\n",
    "#     lines[ln] = lines[ln].replace(\"'\", \"\")\n",
    "\n",
    "    \n",
    "# new = lines[:-6]\n",
    "# new[1] = 'WAVES/D/N='+lines[1][12:]\n",
    "# new.append('END\\n')\n",
    "\n",
    "# dscale = lines[-3][2:-1].replace(',', ' ', 1)\n",
    "# xscale = lines[-2][2:-1].replace(',', ' ', 1).replace(' ', '', 1)\n",
    "# yscale = lines[-1][2:-1].replace(',', ' ', 1).replace(' ', '', 1)\n",
    "\n",
    "# new.append(f'X {xscale}; {yscale}; {dscale}'.replace('\"\",', '\"\", '))\n",
    "\n",
    "# with open('test_fixed.itx', 'w') as f:\n",
    "#     f.writelines(new)"
   ]
  },
  {
   "cell_type": "code",
   "execution_count": null,
   "id": "782d387f-2ae7-4d41-ae5d-670826321e3e",
   "metadata": {},
   "outputs": [],
   "source": [
    "# new[-1]"
   ]
  },
  {
   "cell_type": "code",
   "execution_count": null,
   "id": "fcb8883f-33c3-4905-99a1-829b5689b408",
   "metadata": {},
   "outputs": [],
   "source": [
    "# print('\\'X SetScale/P x -0.399598565297964,0.00185014925677925,\"\", cones; SetScale/P y 17.5510022132154,0.00292671945009459,\"\", cones; SetScale d 0,0,\"\", cones')"
   ]
  },
  {
   "cell_type": "code",
   "execution_count": null,
   "id": "fae29c3d-62d1-4907-8a7f-b071a21965fe",
   "metadata": {},
   "outputs": [],
   "source": []
  },
  {
   "cell_type": "code",
   "execution_count": null,
   "id": "7e0c4637-e3d0-4a6d-a3ad-139937bd9632",
   "metadata": {},
   "outputs": [],
   "source": []
  },
  {
   "cell_type": "code",
   "execution_count": null,
   "id": "b0e0a38a-23af-4856-9a07-e2016a36d115",
   "metadata": {},
   "outputs": [],
   "source": [
    "# Try to open the .ibw file created by our .itx file (that can be processed by the denoiser, but isn't generated by the denoiser). I created cones.ibw by loading the .itx file in igor and then saving it as a .ibw file. The .itx file generated by the denoiser can't even be opened in igor...\n",
    "\n",
    "# Filepath\n",
    "fp = r'C:\\Users\\atully\\OneDrive\\Physics.UBC\\DAE\\XUV diffraction data\\FS'\n",
    "fn = 'XUV_FS_EF_dn.itx'\n",
    "\n",
    "# Load .itx formatted data\n",
    "data_path = os.path.join(fp, fn)\n",
    "# df = pd.read_csv(data_path, header=2, sep='\\s+')  # first 3 lines are comments \n",
    "df = pd.read_csv(data_path, skiprows=3, header=None, sep='\\s+', skipfooter=2)  # skiprows=3 to skip over the Igor junk, header=None because there are no column names, sep '\\s+' for white space separated, skipfooter=2 to skip Igor junk\n",
    "df\n",
    "# df2['AB_split'] = df2[0:].str.split('  ')"
   ]
  },
  {
   "cell_type": "code",
   "execution_count": null,
   "id": "b475fda3-f627-48f8-b278-57508c159a91",
   "metadata": {},
   "outputs": [],
   "source": [
    "data = np.array(df).T\n",
    "data, data.shape"
   ]
  },
  {
   "cell_type": "code",
   "execution_count": null,
   "id": "10e134a4-2773-4174-835a-bc0e8b68fecb",
   "metadata": {},
   "outputs": [],
   "source": [
    "import re\n",
    "with open(data_path, 'r') as f:\n",
    "    lines = f.readlines()\n",
    "last = lines[-1]\n",
    "last\n",
    "\n",
    "x_start, x_step = [float(v) for v in re.search('x\\s*(-?\\d*.\\d+),\\s*(-?\\d+.\\d+)', last).groups()]\n",
    "y_start, y_step = [float(v) for v in re.search('y\\s*(-?\\d*.\\d+),\\s*(-?\\d+.\\d+)', last).groups()]\n",
    "\n",
    "x = np.linspace(x_start, x_start+data.shape[1]*x_step, data.shape[1])\n",
    "y = np.linspace(y_start, y_start+data.shape[0]*y_step, data.shape[0])\n",
    "x.shape, y.shape"
   ]
  },
  {
   "cell_type": "code",
   "execution_count": null,
   "id": "fd57a2df-b644-4b9c-8430-73d2251e854f",
   "metadata": {},
   "outputs": [],
   "source": [
    "import plotly.graph_objects as go\n",
    "fig = go.Figure()\n",
    "fig.add_trace(go.Heatmap(x=x, y=y, z=data))\n",
    "fig.update_traces(showscale=False)\n",
    "fig.update_layout(height=500, width=600)\n",
    "fig.show()"
   ]
  },
  {
   "cell_type": "code",
   "execution_count": null,
   "id": "a1fd3b82-6d04-4c6a-843f-01a145ef2b19",
   "metadata": {},
   "outputs": [],
   "source": []
  },
  {
   "cell_type": "markdown",
   "id": "b32defd0-5576-4ba3-acf6-26d858341a53",
   "metadata": {},
   "source": [
    "# For Jiabin"
   ]
  },
  {
   "cell_type": "code",
   "execution_count": null,
   "id": "c5bf3f33-2030-43a1-a9d8-822b6a3a745b",
   "metadata": {
    "tags": []
   },
   "outputs": [],
   "source": [
    "!pip install kaleido\n",
    "\n",
    "from arpes_functions import cnn, tr_functions\n",
    "import plotly.graph_objects as go"
   ]
  },
  {
   "cell_type": "code",
   "execution_count": null,
   "id": "1c47ef57-9a47-4b40-b34f-b4c296a5786b",
   "metadata": {
    "tags": []
   },
   "outputs": [],
   "source": [
    "fp= r'C:\\Users\\atully\\OneDrive\\Physics.UBC\\Colleagues\\CNN'\n",
    "# fn = r'IMG0001_kw_EB.h5'\n",
    "fn = r'UPS0001_kw_EB.ibw'\n",
    "theta, energy, data = kw_data_loader.load2D_k(fp, fn)  # load data from hdf5"
   ]
  },
  {
   "cell_type": "code",
   "execution_count": null,
   "id": "b00ede96-5dd1-45e7-85a9-c502e4c51631",
   "metadata": {
    "tags": []
   },
   "outputs": [],
   "source": [
    "data.shape, theta.shape, energy.shape"
   ]
  },
  {
   "cell_type": "code",
   "execution_count": null,
   "id": "4079f566-c9c1-4890-9ee1-14d53cbd7271",
   "metadata": {
    "tags": []
   },
   "outputs": [],
   "source": [
    "# plot slice\n",
    "fig, ax = plotting_functions.plot_2D_mpl(x=theta, y=energy, data=data, title=f'NbIrTe4', xlabel='kx (A-1)', cmap='Blues', swap_axes=False)"
   ]
  },
  {
   "cell_type": "code",
   "execution_count": null,
   "id": "1ce25ea8-00b2-4244-b8bb-e946003285bf",
   "metadata": {
    "tags": []
   },
   "outputs": [],
   "source": [
    "fn = r'IMG0001_kw_EB.ibw'\n",
    "theta, energy, data = kw_data_loader.load2D_k(fp, fn)  # load data from hdf5"
   ]
  },
  {
   "cell_type": "code",
   "execution_count": null,
   "id": "ea808b6b-c0fa-48e4-bcb5-af2b193dd1d7",
   "metadata": {
    "tags": []
   },
   "outputs": [],
   "source": [
    "# # plot data\n",
    "# fig, ax = plotting_functions.plot_2D_mpl(x=theta, y=energy, data=data, title=f'NbIrTe4', xlabel='k (A-1)', cmap='Blues', swap_axes=False)\n",
    "# fig.show()\n",
    "\n",
    "# plt.savefig(r'C:\\Users\\atully\\OneDrive\\Physics.UBC\\Colleagues\\CNN\\NbIrTe4.png')\n",
    "\n",
    "# Plot Data\n",
    "fig = tr_functions.default_fig()\n",
    "fig.add_trace(\n",
    "    go.Heatmap(x=theta, y=energy, z=data, coloraxis=\"coloraxis\")\n",
    "    # np.log(data)\n",
    ")\n",
    "fig.update_coloraxes(colorscale=\"Blues\", showscale=True)\n",
    "\n",
    "fig.update_layout(xaxis_range=(-0.65, 0.6), height=600, width=500)\n",
    "\n",
    "fig.update_layout(\n",
    "    title=f\"NbIrTe4\",\n",
    "    xaxis_title=\"k (A-1)\",\n",
    "    yaxis_title=\"energy (eV)\",\n",
    ")\n",
    "fig.show()\n",
    "\n",
    "fig.write_image(r'C:/Users/atully/OneDrive/Physics.UBC/Colleagues/CNN/NbIrTe4.png')\n",
    "\n",
    "# # Save to .itx (igor) file\n",
    "# x, y, d = theta, energy, data\n",
    "# cnn.save_to_igor_itx('test.itx', [x], [d], [\"Jiabin\"], [y])  # take every other y value to make dataset smaller\n",
    "# cnn.fix_itx_format('test.itx')  # fix itx formatting for denoising website"
   ]
  },
  {
   "cell_type": "code",
   "execution_count": null,
   "id": "748e955a-f9c3-4d7b-a182-b0324c7e1739",
   "metadata": {
    "tags": []
   },
   "outputs": [],
   "source": [
    "d, x, y = analysis_functions.get_data_region(data, theta, energy, xbounds=(-0.25, 0.25), ybounds=(-0.2, 0.05))\n",
    "\n",
    "x.shape, y.shape, d.shape"
   ]
  },
  {
   "cell_type": "code",
   "execution_count": null,
   "id": "f92d1d3a-605a-4744-904c-40ddc53391fa",
   "metadata": {
    "tags": []
   },
   "outputs": [],
   "source": [
    "# # plot slice\n",
    "# fig, ax = plotting_functions.plot_2D_mpl(x=x, y=y, data=d, title=f'NbIrTe4', xlabel='kx (A-1)', cmap='Blues', swap_axes=False)\n",
    "\n",
    "# plt.savefig(r'C:\\Users\\atully\\OneDrive\\Physics.UBC\\Colleagues\\CNN\\NbIrTe4_inset.png')\n",
    "\n",
    "# Plot Data\n",
    "fig = tr_functions.default_fig()\n",
    "fig.add_trace(\n",
    "    go.Heatmap(x=x, y=y, z=d, coloraxis=\"coloraxis\")\n",
    "    # np.log(data)\n",
    ")\n",
    "fig.update_coloraxes(colorscale=\"Blues\", showscale=True)\n",
    "\n",
    "fig.update_layout(height=600, width=500)\n",
    "\n",
    "fig.update_layout(\n",
    "    title=f\"NbIrTe4 Inset\",\n",
    "    xaxis_title=\"k (A-1)\",\n",
    "    yaxis_title=\"Binding Energy (eV)\",\n",
    ")\n",
    "fig.show()\n",
    "\n",
    "fig.write_image(r'C:/Users/atully/OneDrive/Physics.UBC/Colleagues/CNN/NbIrTe4_inset_v2.png')\n",
    "\n",
    "# # Save to .itx (igor) file\n",
    "# x, y, d = x, y, d\n",
    "# cnn.save_to_igor_itx('test.itx', [x], [d], [\"Jiabin\"], [y])  # take every other y value to make dataset smaller\n",
    "# cnn.fix_itx_format('test.itx')  # fix itx formatting for denoising website"
   ]
  },
  {
   "cell_type": "code",
   "execution_count": null,
   "id": "9aa0fc04-1324-4a54-a911-daee9b27ddc5",
   "metadata": {
    "tags": []
   },
   "outputs": [],
   "source": [
    "fp_dn = r'C:\\Users\\atully\\OneDrive\\Physics.UBC\\Colleagues\\CNN'\n",
    "fn_dn = 'NbIrTe4_dn.itx'\n",
    "\n",
    "x_dn, y_dn, data_dn = load_denoised_data(fp_dn, fn_dn)\n",
    "\n",
    "# Plot Data\n",
    "fig = tr_functions.default_fig()\n",
    "fig.add_trace(\n",
    "    go.Heatmap(x=x_dn, y=y_dn, z=data_dn, coloraxis=\"coloraxis\")\n",
    "    # np.log(data)\n",
    ")\n",
    "fig.update_coloraxes(colorscale=\"Blues\", showscale=True)\n",
    "\n",
    "fig.update_layout(xaxis_range=(-0.65, 0.6), height=600, width=500)\n",
    "\n",
    "fig.update_layout(\n",
    "    title=f\"NbIrTe4 Denoised\",\n",
    "    xaxis_title=\"k (A-1)\",\n",
    "    yaxis_title=\"Binding Energy (eV)\",\n",
    ")\n",
    "\n",
    "fig.show()\n",
    "\n",
    "fig.write_image(r'C:/Users/atully/OneDrive/Physics.UBC/Colleagues/CNN/NbIrTe4_dn.png')"
   ]
  },
  {
   "cell_type": "code",
   "execution_count": null,
   "id": "36e3a453-e32d-46fe-a93e-552bb1c4d8d0",
   "metadata": {
    "tags": []
   },
   "outputs": [],
   "source": [
    "fp_dn = r'C:\\Users\\atully\\OneDrive\\Physics.UBC\\Colleagues\\CNN'\n",
    "# fn_dn = 'NbIrTe4_inset_dn.itx'\n",
    "fn_dn = 'NbIrTe4_inset_v2_dn.itx'\n",
    "\n",
    "x_dn, y_dn, data_dn = load_denoised_data(fp_dn, fn_dn)\n",
    "\n",
    "# Plot Data\n",
    "fig = tr_functions.default_fig()\n",
    "fig.add_trace(\n",
    "    go.Heatmap(x=x_dn, y=y_dn, z=data_dn, coloraxis=\"coloraxis\")\n",
    "    # np.log(data)\n",
    ")\n",
    "fig.update_coloraxes(colorscale=\"Blues\", showscale=True)\n",
    "\n",
    "fig.update_layout(height=600, width=500)\n",
    "\n",
    "fig.update_layout(\n",
    "    title=f\"NbIrTe4 Inset Denoised\",\n",
    "    xaxis_title=\"k (A-1)\",\n",
    "    yaxis_title=\"Binding Energy (eV)\",\n",
    ")\n",
    "\n",
    "fig.show()\n",
    "\n",
    "fig.write_image(r'C:/Users/atully/OneDrive/Physics.UBC/Colleagues/CNN/NbIrTe4_inset_v2_dn.png')"
   ]
  },
  {
   "cell_type": "code",
   "execution_count": null,
   "id": "7352d67b-4c09-46d1-84bf-6d86f4e170eb",
   "metadata": {
    "tags": []
   },
   "outputs": [],
   "source": [
    "!pip install kaleido"
   ]
  },
  {
   "cell_type": "code",
   "execution_count": null,
   "id": "f0f40a6c-8fe9-454f-baa0-4bb4eb4928b3",
   "metadata": {},
   "outputs": [],
   "source": []
  }
 ],
 "metadata": {
  "kernelspec": {
   "display_name": "Python 3 (ipykernel)",
   "language": "python",
   "name": "python3"
  },
  "language_info": {
   "codemirror_mode": {
    "name": "ipython",
    "version": 3
   },
   "file_extension": ".py",
   "mimetype": "text/x-python",
   "name": "python",
   "nbconvert_exporter": "python",
   "pygments_lexer": "ipython3",
   "version": "3.8.12"
  }
 },
 "nbformat": 4,
 "nbformat_minor": 5
}
