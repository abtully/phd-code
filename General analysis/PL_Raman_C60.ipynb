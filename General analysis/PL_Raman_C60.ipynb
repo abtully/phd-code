{
 "cells": [
  {
   "cell_type": "code",
   "execution_count": null,
   "id": "eeebe371-a5d2-4748-8834-b74c66c5e3ac",
   "metadata": {},
   "outputs": [],
   "source": [
    "import numpy as np\n",
    "import os\n",
    "import pandas as pd\n",
    "\n",
    "import plotly.graph_objects as go\n",
    "import matplotlib.pyplot as plt\n",
    "plt.style.use('ggplot')\n",
    "\n",
    "import sys\n",
    "sys.path.append(r'C:\\Users\\atully\\Code\\GitHub\\ARPES Code\\arpes-code-python')\n",
    "import arpes_functions\n",
    "from arpes_functions import fitting_functions\n",
    "\n",
    "DEFAULT_RENDERER = 'jupyterlab'"
   ]
  },
  {
   "cell_type": "markdown",
   "id": "d99e9b25-54c8-4136-8eb7-163ca334f0e6",
   "metadata": {},
   "source": [
    "# PL, Raman, and white light aborption on C60/Au(111) -- 045 (ZiLiang's group)"
   ]
  },
  {
   "cell_type": "markdown",
   "id": "6a520c1d-ad76-4cf2-ba62-1ead7c203bca",
   "metadata": {},
   "source": [
    "PL and Raman used 532 nm pump light. Power 183 uW, then changed to 3.7 mW at the end (data not as good). See notes on drive for further info."
   ]
  },
  {
   "cell_type": "markdown",
   "id": "a28e6fad-8488-4968-8b7e-da1a0b566244",
   "metadata": {
    "tags": []
   },
   "source": [
    "## Getting to know the data"
   ]
  },
  {
   "cell_type": "code",
   "execution_count": null,
   "id": "3a7561d5-4354-4bcf-88f7-3e573867d0ed",
   "metadata": {},
   "outputs": [],
   "source": [
    "fp = r'E:\\atully\\PL_and_Raman\\20220812\\20220812'"
   ]
  },
  {
   "cell_type": "code",
   "execution_count": null,
   "id": "160c9bdd-f22c-433f-b99a-37b2258a4f22",
   "metadata": {},
   "outputs": [],
   "source": [
    "data_path = os.path.join(fp, '2022 August 12 09_54_21_PL.csv')\n",
    "df = pd.read_csv(data_path, header=None)  # no header\n",
    "df  # df stands for dataframe"
   ]
  },
  {
   "cell_type": "code",
   "execution_count": null,
   "id": "38c499af-6222-458f-b8df-73652594fee8",
   "metadata": {},
   "outputs": [],
   "source": [
    "#Get data from df\n",
    "\n",
    "x_data = df.iloc[:,0]  # colon means all\n",
    "y_data = df.iloc[:,1]"
   ]
  },
  {
   "cell_type": "code",
   "execution_count": null,
   "id": "d313df55-6f89-421f-9e57-6f9431807ecd",
   "metadata": {},
   "outputs": [],
   "source": [
    "# Create Figure\n",
    "fig, ax = plt.subplots(1)\n",
    "\n",
    "# Add Data\n",
    "ax.plot(x_data, y_data, label='PL Time: 9:54 am')\n",
    "\n",
    "# Format Figure\n",
    "ax.set_xlabel('Wavelength (nm)')\n",
    "ax.set_ylabel('Intensity (a.u.)')\n",
    "ax.set_title('PL Time: 9:54 am')\n",
    "# ax.legend()"
   ]
  },
  {
   "cell_type": "code",
   "execution_count": null,
   "id": "45c89576-c0c9-4715-a9f7-0550c6eed9af",
   "metadata": {},
   "outputs": [],
   "source": [
    "data = ['2022 August 12 09_54_21_PL.csv', '2022 August 12 10_08_04_R_sample.csv']\n",
    "fp = r'E:\\atully\\PL_and_Raman\\20220812\\20220812'\n",
    "\n",
    "for d in data:\n",
    "    data_path = os.path.join(fp, d)\n",
    "    df = pd.read_csv(data_path, header=None)\n",
    "    x_data = df.iloc[:,0]\n",
    "    y_data = df.iloc[:,1]\n",
    "    # Create Figure\n",
    "    fig, ax = plt.subplots(1)\n",
    "\n",
    "    # Add Data\n",
    "    ax.plot(x_data, y_data, label=d)\n",
    "\n",
    "    # Format Figure\n",
    "    ax.set_xlabel('Wavelength (nm)')\n",
    "    ax.set_ylabel('Intensity (a.u.)')\n",
    "    ax.set_title(d)"
   ]
  },
  {
   "cell_type": "code",
   "execution_count": null,
   "id": "a1f0fe27-f89b-478d-8144-f8c71aaed97c",
   "metadata": {},
   "outputs": [],
   "source": [
    "# Create Figure\n",
    "fig = go.Figure()\n",
    "\n",
    "# Add Data\n",
    "data = go.Scatter(x=x_data, y=y_data, mode='lines', name='PL Time: 9:54 am')\n",
    "fig.add_trace(data)\n",
    "\n",
    "# Format Figure\n",
    "fig.update_layout(dict(xaxis_title='Wavelength (nm)', yaxis_title='Intensity (a.u.)', title='PL Time: 9:54 am'), legend=dict(yanchor='top', y=1.2, xanchor='right', x=1.1))\n",
    "fig.update_traces(showlegend=True)  # for a single data series on a plot, the default is no legend; this forces a legend\n",
    "fig.update_layout(template='plotly_dark')  # dark mode\n",
    "fig.show()"
   ]
  },
  {
   "cell_type": "markdown",
   "id": "d5a46732-0cb8-483d-98af-3db0e1574baa",
   "metadata": {},
   "source": [
    "## All Data"
   ]
  },
  {
   "cell_type": "code",
   "execution_count": null,
   "id": "629d0fad-5958-4831-adde-ffebaac8db2c",
   "metadata": {},
   "outputs": [],
   "source": [
    "from os import listdir\n",
    "\n",
    "def find_csv_filenames( path_to_dir, suffix=\".csv\" ):\n",
    "    filenames = listdir(path_to_dir)\n",
    "    return [ filename for filename in filenames if filename.endswith( suffix ) ]"
   ]
  },
  {
   "cell_type": "code",
   "execution_count": null,
   "id": "5721b169-6a84-4942-bb0c-1fe220880bb3",
   "metadata": {},
   "outputs": [],
   "source": [
    "fn_list = find_csv_filenames('E:/atully/PL_and_Raman/20220812/20220812')"
   ]
  },
  {
   "cell_type": "code",
   "execution_count": null,
   "id": "82145b3a-20b2-4e27-b2db-a19d6e1989c7",
   "metadata": {},
   "outputs": [],
   "source": [
    "fp = r'E:\\atully\\PL_and_Raman\\20220812\\20220812'\n",
    "\n",
    "for d in fn_list:\n",
    "    data_path = os.path.join(fp, d)\n",
    "    df = pd.read_csv(data_path, header=None)\n",
    "    x_data = df.iloc[:,0]\n",
    "    y_data = df.iloc[:,1]\n",
    "    # Create Figure\n",
    "    fig, ax = plt.subplots(1)\n",
    "\n",
    "    # Add Data\n",
    "    ax.plot(x_data, y_data, label=d)\n",
    "\n",
    "    # Format Figure\n",
    "    ax.set_xlabel('Wavelength (nm)')\n",
    "    ax.set_ylabel('Intensity (a.u.)')\n",
    "    ax.set_title(d)"
   ]
  },
  {
   "cell_type": "markdown",
   "id": "c52fb4be-e4c5-4726-a54c-84831f8b8207",
   "metadata": {},
   "source": [
    "## Analysis"
   ]
  },
  {
   "cell_type": "code",
   "execution_count": null,
   "id": "f15854b5-c4da-45a0-b3e4-c89973109ea1",
   "metadata": {},
   "outputs": [],
   "source": [
    "d1 = '2022 August 12 10_22_24_R_sample2.csv'\n",
    "d2 = '2022 August 12 10_27_30_R_gold2.csv'\n",
    "\n",
    "dp1 = os.path.join(fp, d1)\n",
    "dp2 = os.path.join(fp, d2)\n",
    "\n",
    "df = pd.read_csv(dp1, header=None)\n",
    "x_d1 = df.iloc[:,0]\n",
    "y_d1 = df.iloc[:,1]\n",
    "\n",
    "df = pd.read_csv(dp2, header=None)\n",
    "x_d2 = df.iloc[:,0]\n",
    "y_d2 = df.iloc[:,1]\n",
    "\n",
    "# Create Figure\n",
    "fig, ax = plt.subplots(1)\n",
    "\n",
    "# Add Data\n",
    "ax.plot(x_d1, y_d1, label='sample')\n",
    "ax.plot(x_d2, y_d2, label='au_ref')\n",
    "\n",
    "# Format Figure\n",
    "ax.set_xlabel('Wavelength (nm)')\n",
    "ax.set_ylabel('Intensity (a.u.)')\n",
    "ax.set_title('White Light on Sample vs Gold Ref')\n",
    "ax.legend()\n",
    "\n",
    "plt.savefig(r'C:\\Users\\atully\\OneDrive\\Physics.UBC\\OMBE\\Optical Measurements\\white_light_reflectance.png')"
   ]
  },
  {
   "cell_type": "code",
   "execution_count": null,
   "id": "1bc15d64-27f7-47ad-9712-69b707f990a5",
   "metadata": {},
   "outputs": [],
   "source": [
    "fp = r'E:\\atully\\PL_and_Raman\\20220812\\20220812'\n",
    "\n",
    "data = ['2022 August 12 10_45_59_PL_gold.csv', '2022 August 12 10_50_21.csv']\n",
    "fp = r'E:\\atully\\PL_and_Raman\\20220812\\20220812'\n",
    "\n",
    "for i, d in enumerate(data):\n",
    "    data_path = os.path.join(fp, d)\n",
    "    df = pd.read_csv(data_path, header=None)\n",
    "    x_data = df.iloc[:,0]\n",
    "    y_data = df.iloc[:,1]\n",
    "    # Create Figure\n",
    "    fig, ax = plt.subplots(1)\n",
    "\n",
    "    # Add Data\n",
    "    ax.plot(x_data, y_data, label=d)\n",
    "\n",
    "    # Format Figure\n",
    "    ax.set_xlabel('Wavelength (nm)')\n",
    "    ax.set_ylabel('Intensity (a.u.)')\n",
    "    if i == 0:\n",
    "        ax.set_title('Au PL')\n",
    "        plt.savefig(r'C:\\Users\\atully\\OneDrive\\Physics.UBC\\OMBE\\Optical Measurements\\Au_PL.png')\n",
    "    if i == 1:\n",
    "        ax.set_title('C60/Au PL')\n",
    "        plt.savefig(r'C:\\Users\\atully\\OneDrive\\Physics.UBC\\OMBE\\Optical Measurements\\C60_Au_PL.png')\n",
    "    else:\n",
    "        ax.set_title(d)"
   ]
  },
  {
   "cell_type": "code",
   "execution_count": null,
   "id": "0bc237bf-241e-4731-b50c-50ad139dc0c8",
   "metadata": {},
   "outputs": [],
   "source": [
    "data"
   ]
  },
  {
   "cell_type": "code",
   "execution_count": null,
   "id": "1d62c633-2bf0-4213-8882-381ff4cc7f65",
   "metadata": {},
   "outputs": [],
   "source": [
    "data_path = os.path.join(fp, data[0])\n",
    "df = pd.read_csv(data_path, header=None)\n",
    "x_data_ref = df.iloc[:,0]\n",
    "y_data_ref = df.iloc[:,1]\n",
    "\n",
    "data_path = os.path.join(fp, data[1])\n",
    "df = pd.read_csv(data_path, header=None)\n",
    "x_data_sample = df.iloc[:,0]\n",
    "y_data_sample = df.iloc[:,1]"
   ]
  },
  {
   "cell_type": "code",
   "execution_count": null,
   "id": "2e1452fe-221a-48f2-9ab1-81f78a8f7c54",
   "metadata": {},
   "outputs": [],
   "source": [
    "sum(x_data_sample == x_data_ref)"
   ]
  },
  {
   "cell_type": "code",
   "execution_count": null,
   "id": "c0828e3a-75e6-4586-ba75-2eeaae50d017",
   "metadata": {},
   "outputs": [],
   "source": [
    "a = np.max(y_data_sample) / np.max(y_data_ref)\n",
    "y_ref_norm = a * y_data_ref\n",
    "\n",
    "y_new = y_data_sample - y_ref_norm"
   ]
  },
  {
   "cell_type": "code",
   "execution_count": null,
   "id": "3595f83c-9545-4e5e-8a5c-ca3b21cbcbdd",
   "metadata": {},
   "outputs": [],
   "source": [
    "# Create Figure\n",
    "fig, ax = plt.subplots(1)\n",
    "\n",
    "# Add Data\n",
    "ax.plot(x_data_sample, y_new, label='Only C60?')\n",
    "\n",
    "# Format Figure\n",
    "ax.set_xlabel('Wavelength (nm)')\n",
    "ax.set_ylabel('Intensity (a.u.)')\n",
    "ax.set_title('Only C60?')"
   ]
  },
  {
   "cell_type": "code",
   "execution_count": null,
   "id": "8cf88e70-6ca6-4914-85a2-4e333b02b7f9",
   "metadata": {},
   "outputs": [],
   "source": [
    "x_eV = 1240 / x_data_sample"
   ]
  },
  {
   "cell_type": "code",
   "execution_count": null,
   "id": "dfad5625-edc3-4cdc-89cf-df36f50a0eeb",
   "metadata": {},
   "outputs": [],
   "source": [
    "# Create Figure\n",
    "fig, ax = plt.subplots(1)\n",
    "\n",
    "# Add Data\n",
    "ax.plot(x_eV, y_new, label='Only C60?')\n",
    "\n",
    "# Format Figure\n",
    "ax.set_xlabel('Energy (eV)')\n",
    "ax.set_ylabel('Intensity (a.u.)')\n",
    "ax.set_title('C60 PL')\n",
    "ax.set_xlim(1.26, np.max(x_eV))\n",
    "ax.set_ylim(-500, np.max(y_new)+500)\n",
    "\n",
    "# plt.savefig(r'C:\\Users\\atully\\OneDrive\\Physics.UBC\\OMBE\\Optical Measurements\\C60_PL.png')"
   ]
  },
  {
   "cell_type": "code",
   "execution_count": null,
   "id": "269dd603-1e20-470e-a49c-00fffd3eaf5c",
   "metadata": {},
   "outputs": [],
   "source": [
    "x_raman = 1240/532 - x_eV \n",
    "\n",
    "# Create Figure\n",
    "fig, ax = plt.subplots(1)\n",
    "\n",
    "# Add Data\n",
    "ax.plot(x_raman, y_new, label='Only C60?')\n",
    "\n",
    "# Format Figure\n",
    "ax.set_xlabel('Energy (eV)')\n",
    "ax.set_ylabel('Intensity (a.u.)')\n",
    "ax.set_title('C60 PL')\n",
    "ax.set_xlim(0, 1.01)\n",
    "ax.set_ylim(-500, np.max(y_new)+500)\n",
    "\n",
    "x_045 = x_raman\n",
    "y_045 = y_new*(40/1500)"
   ]
  },
  {
   "cell_type": "code",
   "execution_count": null,
   "id": "4bbac2fa-f2b6-462c-9b8e-dc5118f37b43",
   "metadata": {},
   "outputs": [],
   "source": [
    "fitting_functions.make_n_lorentzians(num=2, amplitudes=[2500, 6000], centers=[1.5, 1.7], sigmas=1)"
   ]
  },
  {
   "cell_type": "code",
   "execution_count": null,
   "id": "a76ef264-acad-4134-acac-6d336bb8ad49",
   "metadata": {},
   "outputs": [],
   "source": [
    "np.sum(np.array(x_eV) > 1.2599)"
   ]
  },
  {
   "cell_type": "code",
   "execution_count": null,
   "id": "70d354fa-8139-4ff4-8c16-3e8ffb343f91",
   "metadata": {},
   "outputs": [],
   "source": []
  },
  {
   "cell_type": "code",
   "execution_count": null,
   "id": "2bf7b990-9424-46cd-9295-4c9dbad7211d",
   "metadata": {},
   "outputs": [],
   "source": [
    "x_for_fit = np.array(x_eV)[0:1138]\n",
    "y_for_fit = np.array(y_new)[0:1138]"
   ]
  },
  {
   "cell_type": "code",
   "execution_count": null,
   "id": "478a0121-a8c1-4f98-8bb0-92217ae3c8d6",
   "metadata": {},
   "outputs": [],
   "source": [
    "fitting_functions.make_n_lorentzians(num=2, amplitudes=[2500, 6000], centers=[1.5, 1.7], sigmas=0.1)\n",
    "result = fitting_functions.fit_lorentzian_data(np.array(x_for_fit), np.array(y_for_fit), num_peaks=2, amplitudes=[2500, 6000], centers=[1.5, 1.7], method='leastsq')  # if you change 1.5 to 1.6, it completely breaks...?"
   ]
  },
  {
   "cell_type": "code",
   "execution_count": null,
   "id": "e1f31d56-45e9-43a3-a2ae-5ba6dbf509f8",
   "metadata": {},
   "outputs": [],
   "source": [
    "# result.params"
   ]
  },
  {
   "cell_type": "code",
   "execution_count": null,
   "id": "d2b47c5f-631d-4968-8609-e1d1c96de1df",
   "metadata": {},
   "outputs": [],
   "source": [
    "# result = fitting_functions.fit_lorentzian_data(np.array(x_for_fit), np.array(y_for_fit), num_peaks=4, amplitudes=[2500, 4200, 6000, 1000], centers=[1.5, 1.6, 1.7, 2.15], sigmas=0.1, method='leastsq')  # if you change 1.5 to 1.6, it completely breaks...?\n",
    "result = fitting_functions.fit_lorentzian_data(np.array(x_for_fit), np.array(y_for_fit), num_peaks=5, amplitudes=[1000, 1000, 1000, 1000, 1000], centers=[1.5, 1.6, 1.65, 1.68, 2.15], sigmas=0.1, method='leastsq')  # if you change 1.5 to 1.6, it completely breaks...?\n",
    "\n",
    "# Robustness check\n",
    "# result = fitting_functions.fit_lorentzian_data(np.array(x_for_fit), np.array(y_for_fit), num_peaks=5, amplitudes=[1000, 1000, 1000, 1000, 1000], centers=[1.42, 1.51, 1.56, 1.6, 2.15], sigmas=0.1, method='leastsq')  # 0.1 eV below actual peak values\n",
    "# result = fitting_functions.fit_lorentzian_data(np.array(x_for_fit), np.array(y_for_fit), num_peaks=5, amplitudes=[1000, 1000, 1000, 1000, 1000], centers=[1.62, 1.71, 1.76, 1.8, 2.15], sigmas=0.1, method='leastsq')  # 0.1 eV above actual peak values"
   ]
  },
  {
   "cell_type": "code",
   "execution_count": null,
   "id": "71e638e9-9320-4d1c-b3a5-824f1861f7b8",
   "metadata": {},
   "outputs": [],
   "source": [
    "params = result.init_params\n",
    "params"
   ]
  },
  {
   "cell_type": "code",
   "execution_count": null,
   "id": "5238b16c-0e15-4505-b637-f2ce9dc3ae82",
   "metadata": {},
   "outputs": [],
   "source": [
    "# for i in range(3):\n",
    "#     params[f'i{i}_amplitude'].min = 300\n",
    "#     params[f'i{i}_amplitude'].max = 1500\n",
    "#     params[f'i{i}_center'].min = 1.4\n",
    "#     params[f'i{i}_center'].max = 1.8\n",
    "#     params[f'i{i}_sigma'].min = 0.01\n",
    "#     params[f'i{i}_sigma'].max = 0.1\n",
    "# # params[f'i0_amplitude'].value = 700\n",
    "# params[f'i3_center'].min = 2\n",
    "# params[f'i3_center'].max = 2.2\n",
    "# params[f'i3_sigma'].min = 0.00001\n",
    "# params[f'i3_sigma'].max = 0.005\n",
    "\n",
    "for i in range(4):\n",
    "    params[f'i{i}_amplitude'].min = 300\n",
    "    params[f'i{i}_amplitude'].max = 1500\n",
    "    params[f'i{i}_center'].min = 1.4\n",
    "    params[f'i{i}_center'].max = 1.8\n",
    "    params[f'i{i}_sigma'].min = 0.01\n",
    "    params[f'i{i}_sigma'].max = 0.1\n",
    "# params[f'i0_amplitude'].value = 700\n",
    "params[f'i4_center'].min = 2\n",
    "params[f'i4_center'].max = 2.2\n",
    "params[f'i4_sigma'].min = 0.00001\n",
    "params[f'i4_sigma'].max = 0.005"
   ]
  },
  {
   "cell_type": "code",
   "execution_count": null,
   "id": "0f91d679-72db-44e7-b9ba-9cdb8d4fcaf2",
   "metadata": {},
   "outputs": [],
   "source": [
    "params"
   ]
  },
  {
   "cell_type": "code",
   "execution_count": null,
   "id": "78227a7a-2a7d-4671-b8fe-b79ce510298f",
   "metadata": {},
   "outputs": [],
   "source": [
    "# result = fitting_functions.fit_lorentzian_data(np.array(x_for_fit), np.array(y_for_fit), num_peaks=4, amplitudes=[2500, 4200, 6000, 1000], centers=[1.5, 1.6, 1.7, 2.15], method='leastsq', params=params)\n",
    "result = fitting_functions.fit_lorentzian_data(np.array(x_for_fit), np.array(y_for_fit), num_peaks=5, amplitudes=[2500, 1000, 4200, 6000, 1000], centers=[1.5, 1.6, 1.68, 1.7, 2.15], method='leastsq', params=params)"
   ]
  },
  {
   "cell_type": "code",
   "execution_count": null,
   "id": "efabecd4-bbdf-46b2-a014-19b3a00e7cc8",
   "metadata": {},
   "outputs": [],
   "source": [
    "# Create Figure\n",
    "fig, ax = plt.subplots(1)\n",
    "\n",
    "# Add Data\n",
    "ax.plot(x_for_fit, y_for_fit, label='data')\n",
    "ax.plot(x_for_fit, result.eval(x=x_for_fit), label='fit')\n",
    "# ax.plot(x_for_fit, result.eval(params=result.init_params, x=x_for_fit), label='init')\n",
    "\n",
    "# Format Figure\n",
    "ax.set_xlabel('Energy (eV)')\n",
    "ax.set_ylabel('Intensity (a.u.)')\n",
    "ax.set_title('C60 PL with fit')\n",
    "# ax.set_xlim(1.26, np.max(x_eV))\n",
    "ax.legend()\n",
    "# plt.savefig(r'C:\\Users\\atully\\OneDrive\\Physics.UBC\\OMBE\\Optical Measurements\\C60_PL_LorentzianFit.png')"
   ]
  },
  {
   "cell_type": "code",
   "execution_count": null,
   "id": "712f3867-ad54-437c-bc59-e37ebc6148b6",
   "metadata": {},
   "outputs": [],
   "source": [
    "lorentzian = fitting_functions.make_lorentzian(1, 1, 0, 1)  # Just any lorentzian model, I'll pass in specific params later\n",
    "\n",
    "\n",
    "\n",
    "# Create Figure\n",
    "fig, ax = plt.subplots(1)\n",
    "\n",
    "# Add Data\n",
    "ax.plot(x_for_fit, y_for_fit, label='data')\n",
    "ax.plot(x_for_fit, result.eval(x=x_for_fit), label='fit')\n",
    "ax.plot(x_for_fit, y_for_fit-result.eval(x=x_for_fit), label='resid')\n",
    "for i in range(4):\n",
    "    amp = result.params[f'i{i}_amplitude'].value\n",
    "    center = result.params[f'i{i}_center'].value    \n",
    "    sigma = result.params[f'i{i}_sigma'].value\n",
    "    lorent = lorentzian.eval(x=x_for_fit, amplitude=amp, center=center, sigma=sigma)\n",
    "    ax.plot(x_for_fit, lorent, label=f'lor_{i}')  # note that only the 3 main peaks are plotted, but the phonon peak is included in the fit\n",
    "# ax.plot(x_for_fit, result.eval(params=result.init_params, x=x_for_fit), label='init')\n",
    "\n",
    "# Format Figure\n",
    "ax.set_xlabel('Energy (eV)')\n",
    "ax.set_ylabel('Intensity (a.u.)')\n",
    "ax.set_title('C60 PL with Peaks and Residuals')\n",
    "# ax.set_xlim(1.26, np.max(x_eV))\n",
    "ax.legend()\n",
    "# plt.savefig(r'C:\\Users\\atully\\OneDrive\\Physics.UBC\\OMBE\\Optical Measurements\\C60_PL_LorentzianFit_wResids.png')"
   ]
  },
  {
   "cell_type": "code",
   "execution_count": null,
   "id": "9efd3fc5-706b-4aa5-8008-f2ec70f3ad75",
   "metadata": {},
   "outputs": [],
   "source": [
    "result"
   ]
  },
  {
   "cell_type": "markdown",
   "id": "3ce301e1-a86d-46b4-a903-34c400fc1d47",
   "metadata": {},
   "source": [
    "# PL and Ellipsometry -- with Sean"
   ]
  },
  {
   "cell_type": "code",
   "execution_count": null,
   "id": "e4ec42e6-2998-44a0-8ae4-58f5cdddc974",
   "metadata": {},
   "outputs": [],
   "source": [
    "fp = r'E:/atully/PL_and_Raman/Sean/C60_PL'\n",
    "data_path = os.path.join(fp, 'C60_29.txt')\n",
    "df = pd.read_csv(data_path, header=None, sep='\\t')  # no header\n",
    "df  # df stands for dataframe"
   ]
  },
  {
   "cell_type": "code",
   "execution_count": null,
   "id": "a2f79c2f-d993-44cf-ad47-1efae578979b",
   "metadata": {},
   "outputs": [],
   "source": [
    "from os import listdir\n",
    "\n",
    "def find_txt_filenames( path_to_dir, suffix=\".txt\" ):\n",
    "    filenames = listdir(path_to_dir)\n",
    "    return [ filename for filename in filenames if filename.endswith( suffix ) ]"
   ]
  },
  {
   "cell_type": "code",
   "execution_count": null,
   "id": "9db7bed5-a197-499e-a6be-c5b00d9d8396",
   "metadata": {},
   "outputs": [],
   "source": [
    "fn_list = find_txt_filenames('E:/atully/PL_and_Raman/Sean/C60_PL')"
   ]
  },
  {
   "cell_type": "code",
   "execution_count": null,
   "id": "aeea0788-0881-45b2-8994-05e286c4864f",
   "metadata": {},
   "outputs": [],
   "source": [
    "fn_list"
   ]
  },
  {
   "cell_type": "code",
   "execution_count": null,
   "id": "7f37d4de-2dc2-42b1-b7dc-afc3b061993f",
   "metadata": {},
   "outputs": [],
   "source": [
    "fp = r'E:/atully/PL_and_Raman/Sean/C60_PL'\n",
    "\n",
    "# for i, d in enumerate(fn_list):\n",
    "#     data_path = os.path.join(fp, d)\n",
    "#     df = pd.read_csv(data_path, header=None, sep='\\t')\n",
    "#     x_data = df.iloc[:,0]\n",
    "#     y_data = df.iloc[:,1]\n",
    "    \n",
    "#     # convert x data to meV\n",
    "# #     x_new =  (x_data/8.065) / 1000  # 1 meV =  8.065 cm-1\n",
    "#     # Create Figure\n",
    "#     fig, ax = plt.subplots(1)\n",
    "#     ax.plot(x_data, y_data, label=d)\n",
    "\n",
    "\n",
    "for i, d in enumerate(['C60_40.txt', 'C60_36.txt']):\n",
    "    data_path = os.path.join(fp, d)  \n",
    "    data_path = os.path.join(fp, d)\n",
    "    df = pd.read_csv(data_path, header=None, sep='\\t')\n",
    "    x_data = df.iloc[:,0]\n",
    "    y_data = df.iloc[:,1]\n",
    "    # Create Figure\n",
    "    fig = go.Figure()\n",
    "\n",
    "    # Add Data\n",
    "    data = go.Scatter(x=x_data, y=y_data, mode='lines', name='PL Time: 9:54 am')\n",
    "    fig.add_trace(data)\n",
    "\n",
    "    # Format Figure\n",
    "    fig.update_layout(dict(xaxis_title='Raman Spectrum (cm-1)', yaxis_title='Intensity (a.u.)', title='C60/Au'), legend=dict(yanchor='top', y=1.2, xanchor='right', x=1.1))\n",
    "#     fig.update_traces(showlegend=True)  # for a single data series on a plot, the default is no legend; this forces a legend\n",
    "    fig.update_layout(template='plotly_dark')  # dark mode\n",
    "    fig.show()"
   ]
  },
  {
   "cell_type": "code",
   "execution_count": null,
   "id": "41ca80fa-5338-42d6-a775-5f04091299f8",
   "metadata": {},
   "outputs": [],
   "source": [
    "fp = r'E:/atully/PL_and_Raman/Sean/C60_PL'\n",
    "\n",
    "for i, d in enumerate(fn_list):\n",
    "    data_path = os.path.join(fp, d)\n",
    "    df = pd.read_csv(data_path, header=None, sep='\\t')\n",
    "    x_data = df.iloc[:,0]\n",
    "    y_data = df.iloc[:,1]\n",
    "    \n",
    "    # convert x data to meV\n",
    "    x_new =  (x_data/8.065) / 1000  # 1 meV =  8.065 cm-1\n",
    "    # Create Figure\n",
    "    fig, ax = plt.subplots(1)\n",
    "\n",
    "    # Add Data\n",
    "    ax.plot(x_data, y_data, label=d)\n",
    "#     ax.plot(x_new, y_data, label=d)\n",
    "\n",
    "    # Format Figure\n",
    "    ax.set_xlabel('wavenumber (cm-1)')\n",
    "#     ax.set_xlabel('Raman Shift (eV)')\n",
    "    ax.set_ylabel('Intensity (a.u.)')\n",
    "#     if i == 0:\n",
    "#         ax.set_title('C60/Au (633 nm)')\n",
    "#         plt.savefig(r'C:\\Users\\atully\\OneDrive\\Physics.UBC\\OMBE\\Optical Measurements\\C60_Au_R2.png')\n",
    "#     if i == 1:\n",
    "#         ax.set_title('C60/Au (633 nm)')\n",
    "#         plt.savefig(r'C:\\Users\\atully\\OneDrive\\Physics.UBC\\OMBE\\Optical Measurements\\C60_Au_R1.png')\n",
    "#     if i == 4:\n",
    "#         ax.set_title('C60/Au (514 nm)')\n",
    "#         plt.savefig(r'C:\\Users\\atully\\OneDrive\\Physics.UBC\\OMBE\\Optical Measurements\\C60_Au_phonon_R.png')\n",
    "#     if i == 5:\n",
    "#         ax.set_title('C60/Au (514 nm)')\n",
    "#         plt.savefig(r'C:\\Users\\atully\\OneDrive\\Physics.UBC\\OMBE\\Optical Measurements\\C60_Au_phonon_R.png')\n",
    "#     if i == 7:\n",
    "#         ax.set_title('C60/Au (514 nm)')\n",
    "#         plt.savefig(r'C:\\Users\\atully\\OneDrive\\Physics.UBC\\OMBE\\Optical Measurements\\C60_Au_excitons_R.png')\n",
    "#     if i == 8:\n",
    "#         ax.set_title('Au (514 nm)')\n",
    "#         plt.savefig(r'C:\\Users\\atully\\OneDrive\\Physics.UBC\\OMBE\\Optical Measurements\\Au_R2.png')\n",
    "#     if i == 9:\n",
    "#         ax.set_title('Au (514 nm)')\n",
    "#         plt.savefig(r'C:\\Users\\atully\\OneDrive\\Physics.UBC\\OMBE\\Optical Measurements\\Au_R1.png')\n",
    "#     else:\n",
    "#         ax.set_title(d)"
   ]
  },
  {
   "cell_type": "code",
   "execution_count": null,
   "id": "fda41e94-2827-42e2-81aa-515ac71c8df4",
   "metadata": {},
   "outputs": [],
   "source": [
    "fp = r'E:/atully/PL_and_Raman/Sean/C60_PL'\n",
    "\n",
    "for i, d in enumerate(fn_list):\n",
    "    data_path = os.path.join(fp, d)\n",
    "    df = pd.read_csv(data_path, header=None, sep='\\t')\n",
    "    x_data = df.iloc[:,0]\n",
    "    y_data = df.iloc[:,1]\n",
    "    \n",
    "    # convert x data to meV\n",
    "    x_new =  x_data/8.065 / 1000  # 1 meV =  8.065 cm-1\n",
    "    # Create Figure\n",
    "    fig, ax = plt.subplots(1)\n",
    "    \n",
    "    rshift = 1240/632.81 - x_new\n",
    "    \n",
    "    gshift = 1240/514.532 - x_new\n",
    "\n",
    "    # Add Data\n",
    "    if i == 0 or i == 1:\n",
    "        ax.plot(rshift, y_data, label=d)\n",
    "    else:\n",
    "        ax.plot(gshift, y_data, label=d)\n",
    "\n",
    "    # Format Figure\n",
    "    ax.set_xlabel('eV')\n",
    "    ax.set_ylabel('Intensity (a.u.)')\n",
    "    \n",
    "    if i == 0:\n",
    "        ax.set_title('C60/Au')\n",
    "        plt.savefig(r'C:\\Users\\atully\\OneDrive\\Physics.UBC\\OMBE\\Optical Measurements\\C60_Au_633_eV_1.png')\n",
    "    if i == 1:\n",
    "        ax.set_title('C60/Au')\n",
    "        plt.savefig(r'C:\\Users\\atully\\OneDrive\\Physics.UBC\\OMBE\\Optical Measurements\\C60_Au_633_eV_2.png')\n",
    "    if i == 4:\n",
    "        ax.set_title('C60/Au')\n",
    "        plt.savefig(r'C:\\Users\\atully\\OneDrive\\Physics.UBC\\OMBE\\Optical Measurements\\C60_Au_phonons_eV.png')\n",
    "    if i == 7:\n",
    "        ax.set_title('C60/Au')\n",
    "        plt.savefig(r'C:\\Users\\atully\\OneDrive\\Physics.UBC\\OMBE\\Optical Measurements\\C60_Au_excitons_eV.png')\n",
    "    else:\n",
    "        ax.set_title(d)"
   ]
  },
  {
   "cell_type": "markdown",
   "id": "0c1bc583-bf34-4338-89c2-bd9df98afbab",
   "metadata": {},
   "source": [
    "# Joint Plots"
   ]
  },
  {
   "cell_type": "code",
   "execution_count": null,
   "id": "47ad76e8-c3c3-44f1-a64b-47e28b380270",
   "metadata": {},
   "outputs": [],
   "source": [
    "# from matplotlib.pyplot import figure\n",
    "\n",
    "# figure(figsize=(8, 6), dpi=80)\n",
    "\n",
    "plt.rcParams[\"figure.figsize\"] = (20,6)"
   ]
  },
  {
   "cell_type": "code",
   "execution_count": null,
   "id": "6140f5a6-1e67-4b25-851e-5ea686d58bef",
   "metadata": {},
   "outputs": [],
   "source": [
    "fp = r'E:/atully/PL_and_Raman/Sean/C60_PL'\n",
    "\n",
    "files = [['C60_29.txt',\n",
    "         'C60_30.txt'],\n",
    "#          'C60_34.txt',\n",
    "#          'C60_35.txt',\n",
    "         ['C60_36.txt',\n",
    "#          'C60_38.txt',\n",
    "#          'C60_39.txt',\n",
    "         'C60_40.txt'],\n",
    "         ['C60_42.txt',\n",
    "         'C60_41.txt']]\n",
    "dfs = []\n",
    "for i, ds in enumerate(files):\n",
    "    df_pair = []\n",
    "    for d in ds:\n",
    "        data_path = os.path.join(fp, d)\n",
    "        df_pair.append(pd.read_csv(data_path, header=None, names=['x', 'y'], sep='\\t'))\n",
    "    dfs.append(df_pair)"
   ]
  },
  {
   "cell_type": "code",
   "execution_count": null,
   "id": "f04b78a7-9143-412c-9bc7-c745218382f7",
   "metadata": {},
   "outputs": [],
   "source": [
    "def norm_data(data):\n",
    "    data = data - np.nanmin(data)\n",
    "    return 1/np.max(data) * data"
   ]
  },
  {
   "cell_type": "code",
   "execution_count": null,
   "id": "c78c0572-00e0-4c51-b5c7-4b6ca6d54243",
   "metadata": {},
   "outputs": [],
   "source": [
    "fig, ax = plt.subplots(1)\n",
    "\n",
    "colors = ['xkcd:red', 'xkcd:blue green', 'xkcd:green']\n",
    "\n",
    "lines = []\n",
    "\n",
    "for p, (df_pair, name_pair, color) in enumerate(zip(dfs, files, colors)):\n",
    "    for i, (df, name) in enumerate(zip(df_pair, name_pair)):\n",
    "        x_data = df['x']\n",
    "        y_data = df['y']\n",
    "        line, = ax.plot(x_data, y_data, color=color)\n",
    "        if i == 0:\n",
    "            lines.append(line)\n",
    "\n",
    "labels = ['C60: 633 nm', 'C60: 514 nm', 'Au: 514 nm']\n",
    "\n",
    "ax.legend(lines, labels)\n",
    "ax.set_xlim(80, None)\n",
    "ax.set_xlabel('Wavenumber (cm-1)')\n",
    "ax.set_ylabel('Intensity (a.u.)')\n",
    "ax.set_title('Raw Data')\n",
    "plt.savefig(r'C:\\Users\\atully\\OneDrive\\Physics.UBC\\OMBE\\Optical Measurements\\Raw_Data.png')"
   ]
  },
  {
   "cell_type": "code",
   "execution_count": null,
   "id": "dc63e765-0ce2-4d6a-b445-115237d11ddd",
   "metadata": {},
   "outputs": [],
   "source": [
    "fig, ax = plt.subplots(1)\n",
    "\n",
    "colors = ['xkcd:red', 'xkcd:blue green', 'xkcd:green']\n",
    "\n",
    "lines = []\n",
    "\n",
    "for p, (df_pair, name_pair, color) in enumerate(zip(dfs, files, colors)):\n",
    "    for i, (df, name) in enumerate(zip(df_pair, name_pair)):\n",
    "        x_data = df['x']\n",
    "        x_data =  (x_data/8.065) / 1000  # 1 meV =  8.065 cm-1\n",
    "        y_data = df['y']\n",
    "        line, = ax.plot(x_data, y_data, color=color)\n",
    "        if i == 0:\n",
    "            lines.append(line)\n",
    "\n",
    "labels = ['C60: 633 nm', 'C60: 514 nm', 'Au: 514 nm']\n",
    "\n",
    "ax.legend(lines, labels)\n",
    "plt.xticks(np.arange(0.0, 0.24, 0.03))\n",
    "ax.set_xlim(0.01, None)\n",
    "ax.set_xlabel('Raman Shift (eV)')\n",
    "ax.set_ylabel('Intensity (a.u.)')\n",
    "ax.set_title('Raman Shift')\n",
    "plt.savefig(r'C:\\Users\\atully\\OneDrive\\Physics.UBC\\OMBE\\Optical Measurements\\Raman_Shift.png')"
   ]
  },
  {
   "cell_type": "code",
   "execution_count": null,
   "id": "35641633-a463-48f0-b156-b3ba72645bb7",
   "metadata": {},
   "outputs": [],
   "source": [
    "fig, ax = plt.subplots(1)\n",
    "\n",
    "colors = ['xkcd:red', 'xkcd:blue green', 'xkcd:green']\n",
    "\n",
    "lines = []\n",
    "\n",
    "for p, (df_pair, name_pair, color) in enumerate(zip(dfs, files, colors)):\n",
    "    for i, (df, name) in enumerate(zip(df_pair, name_pair)):\n",
    "        x_data = df['x']\n",
    "        x_data =  (x_data/8.065) / 1000  # 1 meV =  8.065 cm-1\n",
    "        y_data = df['y']\n",
    "        line, = ax.plot(x_data, y_data, color=color)\n",
    "        if i == 0:\n",
    "            lines.append(line)\n",
    "            \n",
    "line, = ax.plot(x_045, y_045, color='xkcd:hunter green')\n",
    "lines.append(line)\n",
    "\n",
    "labels = ['C60: 633 nm', 'C60: 514 nm', 'Au: 514 nm', 'C60: 532 nm']\n",
    "\n",
    "ax.legend(lines, labels)\n",
    "plt.xticks(np.arange(0.0, 0.24, 0.03))\n",
    "ax.set_xlim(0.01, 0.24)\n",
    "ax.set_ylim(0, 40)\n",
    "ax.set_xlabel('Raman Shift (eV)')\n",
    "ax.set_ylabel('Intensity (a.u.)')\n",
    "ax.set_title('Raman Shift')\n",
    "plt.savefig(r'C:\\Users\\atully\\OneDrive\\Physics.UBC\\OMBE\\Optical Measurements\\Raman_Shift_w045.png')"
   ]
  },
  {
   "cell_type": "code",
   "execution_count": null,
   "id": "1495a870-f938-4491-a6dd-b7a93f592dea",
   "metadata": {},
   "outputs": [],
   "source": [
    "fig, ax = plt.subplots(1)\n",
    "\n",
    "colors = ['xkcd:red', 'xkcd:blue green', 'xkcd:green']\n",
    "\n",
    "lines = []\n",
    "\n",
    "for p, (df_pair, name_pair, color) in enumerate(zip(dfs, files, colors)):\n",
    "    for i, (df, name) in enumerate(zip(df_pair, name_pair)):\n",
    "        x_data = df['x']\n",
    "        x_data =  (x_data/8.065) / 1000  # 1 meV =  8.065 cm-1\n",
    "        y_data = df['y']\n",
    "        \n",
    "        rshift = 1240/632.81 - x_data\n",
    "        gshift = 1240/514.532 - x_data\n",
    "        if p == 1 or p == 2:\n",
    "            line, = ax.plot(gshift, y_data, color=color)\n",
    "        else:\n",
    "            line, = ax.plot(rshift, y_data, color=color)\n",
    "#         line, = ax.plot(x_data, y_data, color=color)\n",
    "        if i == 0:\n",
    "            lines.append(line)\n",
    "\n",
    "labels = ['C60: 633 nm', 'C60: 514 nm', 'Au: 514 nm']\n",
    "\n",
    "ax.legend(lines, labels)\n",
    "# plt.xticks(np.arange(0.0, 0.24, 0.03))\n",
    "# ax.set_xlim(0.01, None)\n",
    "ax.set_xlabel('Energy (eV)')\n",
    "ax.set_ylabel('Intensity (a.u.)')\n",
    "ax.set_title('PL')\n",
    "plt.savefig(r'C:\\Users\\atully\\OneDrive\\Physics.UBC\\OMBE\\Optical Measurements\\PL.png')"
   ]
  },
  {
   "cell_type": "code",
   "execution_count": null,
   "id": "d689aec6-b491-4ffc-a010-32e4bf646fce",
   "metadata": {},
   "outputs": [],
   "source": [
    "fp = r'E:/atully/PL_and_Raman/Sean/C60_PL'\n",
    "\n",
    "files = [\n",
    "#         ['C60_29.txt',\n",
    "#          'C60_30.txt'],\n",
    "         ['C60_36.txt',\n",
    "         'C60_40.txt'],\n",
    "         ['C60_42.txt',\n",
    "         'C60_41.txt']]\n",
    "dfs = []\n",
    "for i, ds in enumerate(files):\n",
    "    df_pair = []\n",
    "    for d in ds:\n",
    "        data_path = os.path.join(fp, d)\n",
    "        df_pair.append(pd.read_csv(data_path, header=None, names=['x', 'y'], sep='\\t'))\n",
    "    dfs.append(df_pair)\n",
    "    \n",
    "    \n",
    "\n",
    "fig, ax = plt.subplots(1)\n",
    "\n",
    "colors = ['xkcd:blue green', 'xkcd:green']\n",
    "\n",
    "lines = []\n",
    "\n",
    "for p, (df_pair, name_pair, color) in enumerate(zip(dfs, files, colors)):\n",
    "    for i, (df, name) in enumerate(zip(df_pair, name_pair)):\n",
    "        x_data = df['x']\n",
    "        x_data =  (x_data/8.065) / 1000  # 1 meV =  8.065 cm-1\n",
    "        y_data = df['y']\n",
    "        \n",
    "        gshift = 1240/514.532 - x_data\n",
    "        line, = ax.plot(gshift, y_data, color=color)\n",
    "        if i == 0:\n",
    "            lines.append(line)\n",
    "\n",
    "labels = ['C60: 514 nm', 'Au: 514 nm']\n",
    "\n",
    "ax.legend(lines, labels)\n",
    "# plt.xticks(np.arange(0.0, 0.24, 0.03))\n",
    "# ax.set_xlim(0.01, None)\n",
    "ax.set_xlabel('Energy (eV)')\n",
    "ax.set_ylabel('Intensity (a.u.)')\n",
    "ax.set_title('PL')\n",
    "plt.savefig(r'C:\\Users\\atully\\OneDrive\\Physics.UBC\\OMBE\\Optical Measurements\\PL_514.png')"
   ]
  },
  {
   "cell_type": "code",
   "execution_count": null,
   "id": "f1430f61-d45f-4150-b0b4-43cf6b4cda2d",
   "metadata": {},
   "outputs": [],
   "source": [
    "files = [\n",
    "        ['C60_29.txt',\n",
    "         'C60_30.txt'],\n",
    "#          ['C60_36.txt',\n",
    "#          'C60_40.txt'],\n",
    "#          ['C60_42.txt',\n",
    "#          'C60_41.txt']\n",
    "        ]\n",
    "\n",
    "dfs = []\n",
    "for i, ds in enumerate(files):\n",
    "    df_pair = []\n",
    "    for d in ds:\n",
    "        data_path = os.path.join(fp, d)\n",
    "        df_pair.append(pd.read_csv(data_path, header=None, names=['x', 'y'], sep='\\t'))\n",
    "    dfs.append(df_pair)\n",
    "\n",
    "fig, ax = plt.subplots(1)\n",
    "\n",
    "colors = ['xkcd:red']\n",
    "\n",
    "lines = []\n",
    "\n",
    "for p, (df_pair, name_pair, color) in enumerate(zip(dfs, files, colors)):\n",
    "    for i, (df, name) in enumerate(zip(df_pair, name_pair)):\n",
    "        x_data = df['x']\n",
    "        x_data =  (x_data/8.065) / 1000  # 1 meV =  8.065 cm-1\n",
    "        y_data = df['y']\n",
    "        \n",
    "        rshift = 1240/632.81 - x_data\n",
    "        line, = ax.plot(rshift, y_data, color=color)\n",
    "        if i == 0:\n",
    "            lines.append(line)\n",
    "\n",
    "labels = ['C60: 633 nm']\n",
    "\n",
    "ax.legend(lines, labels)\n",
    "ax.set_xlim(None, 1.950)\n",
    "ax.set_ylim(5, 9)\n",
    "ax.set_xlabel('Energy (eV)')\n",
    "ax.set_ylabel('Intensity (a.u.)')\n",
    "ax.set_title('PL')\n",
    "# plt.savefig(r'C:\\Users\\atully\\OneDrive\\Physics.UBC\\OMBE\\Optical Measurements\\PL_633.png')\n",
    "plt.savefig(r'C:\\Users\\atully\\OneDrive\\Physics.UBC\\OMBE\\Optical Measurements\\PL_633_zoom.png')"
   ]
  },
  {
   "cell_type": "markdown",
   "id": "bb994b9f-643f-4306-b900-0b314e44203d",
   "metadata": {},
   "source": [
    "# New Functions"
   ]
  },
  {
   "cell_type": "code",
   "execution_count": null,
   "id": "48210e37-88a1-4226-b188-210c34978a58",
   "metadata": {},
   "outputs": [],
   "source": [
    "def adjust_lightness(color, amount=-0.1):\n",
    "    \"\"\"\n",
    "        Lightens the given color by multiplying (1-luminosity) by the given amount.\n",
    "        Input can be matplotlib color string, hex string, or RGB tuple.\n",
    "        https://stackoverflow.com/questions/37765197/darken-or-lighten-a-color-in-matplotlib\n",
    "\n",
    "        Examples:\n",
    "        >> adjust_lightness('g', 0.3)\n",
    "        >> adjust_lightness('#F034A3', 0.6)\n",
    "        >> adjust_lightness((.3,.55,.1), 0.5)\n",
    "        \"\"\"\n",
    "    amount = amount + 1  # So that 0 does nothing, -ve darkens, +ve lightens\n",
    "    import matplotlib.colors as mc\n",
    "    import colorsys\n",
    "    try:\n",
    "        c = mc.cnames[color]\n",
    "    except:\n",
    "        c = color\n",
    "    c = colorsys.rgb_to_hls(*mc.to_rgb(c))\n",
    "    return colorsys.hls_to_rgb(c[0], max(0, min(1, amount * c[1])), c[2])"
   ]
  },
  {
   "cell_type": "code",
   "execution_count": null,
   "id": "9be5c26f-fae3-4240-90ee-95146cddbf60",
   "metadata": {},
   "outputs": [],
   "source": []
  }
 ],
 "metadata": {
  "kernelspec": {
   "display_name": "Python 3 (ipykernel)",
   "language": "python",
   "name": "python3"
  },
  "language_info": {
   "codemirror_mode": {
    "name": "ipython",
    "version": 3
   },
   "file_extension": ".py",
   "mimetype": "text/x-python",
   "name": "python",
   "nbconvert_exporter": "python",
   "pygments_lexer": "ipython3",
   "version": "3.8.12"
  }
 },
 "nbformat": 4,
 "nbformat_minor": 5
}
