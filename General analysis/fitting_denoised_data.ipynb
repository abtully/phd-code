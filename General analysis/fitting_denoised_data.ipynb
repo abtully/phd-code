{
 "cells": [
  {
   "cell_type": "markdown",
   "id": "a9b6da58-2197-4d69-877c-e774a0982003",
   "metadata": {
    "tags": []
   },
   "source": [
    "## Imports and Functions"
   ]
  },
  {
   "cell_type": "code",
   "execution_count": null,
   "id": "932b4eac-4971-409a-b767-fc6775e27502",
   "metadata": {},
   "outputs": [],
   "source": [
    "from igorwriter import IgorWave\n",
    "from typing import List, Optional, Union\n",
    "import re\n",
    "\n",
    "import numpy as np\n",
    "import matplotlib as mpl\n",
    "import matplotlib.pyplot as plt\n",
    "# plt.style.use('ggplot')\n",
    "import plotly.graph_objects as go\n",
    "\n",
    "from scipy.ndimage import gaussian_filter\n",
    "\n",
    "import os\n",
    "import pandas as pd\n",
    "\n",
    "import sys\n",
    "sys.path.append(r'C:\\Users\\atully\\Code\\GitHub\\ARPES Code\\arpes-code-python')\n",
    "from arpes_functions import analysis_functions, plotting_functions, HDF5_loader, misc_functions, kw_data_loader, fitting_functions\n",
    "from arpes_functions import filter_functions as ff"
   ]
  },
  {
   "cell_type": "code",
   "execution_count": null,
   "id": "a15a337c-051d-4f27-824a-16e0be158ea3",
   "metadata": {},
   "outputs": [],
   "source": [
    "# in cnn.py\n",
    "\n",
    "def save_to_igor_itx(file_path: str, xs: List[np.ndarray], datas: List[np.ndarray], names: List[str],\n",
    "                     ys: Optional[List[np.ndarray]] = None,\n",
    "                     x_labels: Optional[Union[str, List[str]]] = None,\n",
    "                     y_labels: Optional[Union[str, List[str]]] = None):\n",
    "    \"\"\"Save data to a .itx file which can be dropped into Igor\"\"\"\n",
    "\n",
    "    def check_axis_linear(arr: np.ndarray, axis: str, name: str, current_waves: list) -> bool:\n",
    "        if arr.shape[-1] > 1 and not np.all(np.isclose(np.diff(arr), np.diff(arr)[0])):\n",
    "            logger.warning(f\"{file_path}: Igor doesn't support a non-linear {axis}-axis. Saving as separate wave\")\n",
    "            axis_wave = IgorWave(arr, name=name + f'_{axis}')\n",
    "            current_waves.append(axis_wave)\n",
    "            return False\n",
    "        else:\n",
    "            return True\n",
    "\n",
    "    if x_labels is None or isinstance(x_labels, str):\n",
    "        x_labels = [x_labels] * len(datas)\n",
    "    if y_labels is None or isinstance(y_labels, str):\n",
    "        y_labels = [y_labels] * len(datas)\n",
    "    if ys is None:\n",
    "        ys = [None] * len(datas)\n",
    "    assert all([len(datas) == len(list_) for list_ in [xs, names, x_labels, y_labels]])\n",
    "\n",
    "    waves = []\n",
    "    for x, y, data, name, x_label, y_label in zip(xs, ys, datas, names, x_labels, y_labels):\n",
    "        wave = IgorWave(data, name=name)\n",
    "        if x is not None:\n",
    "            if check_axis_linear(x, 'x', name, waves):\n",
    "                wave.set_dimscale('x', x[0], np.mean(np.diff(x)), units=x_label)\n",
    "        if y is not None:\n",
    "            if check_axis_linear(y, 'y', name, waves):\n",
    "                wave.set_dimscale('y', y[0], np.mean(np.diff(y)), units=y_label)\n",
    "        elif y_label is not None:\n",
    "            wave.set_datascale(y_label)\n",
    "        waves.append(wave)\n",
    "\n",
    "    with open(file_path, 'w') as fp:\n",
    "        for wave in waves:\n",
    "            wave.save_itx(fp, image=True)  # Image = True hopefully makes np and igor match in x/y"
   ]
  },
  {
   "cell_type": "code",
   "execution_count": null,
   "id": "d5d0045f-3060-4b61-a898-4e5d20d98758",
   "metadata": {},
   "outputs": [],
   "source": [
    "# in cnn.py\n",
    "\n",
    "def fix_itx_format(filename: str = 'test.itx'):\n",
    "    with open(filename, 'r') as f:\n",
    "        lines = f.readlines()\n",
    "    #     for i in range(4):\n",
    "    #         lines.append(f.readline())\n",
    "\n",
    "    for ln in [1, -3, -2, -1]:\n",
    "        lines[ln] = lines[ln].replace(\"'\", \"\")\n",
    "\n",
    "\n",
    "    new = lines[:-6]\n",
    "    new[1] = 'WAVES/D/N='+lines[1][12:]\n",
    "    new.append('END\\n')\n",
    "\n",
    "    dscale = lines[-3][2:-1].replace(',', ' ', 1)\n",
    "    xscale = lines[-2][2:-1].replace(',', ' ', 1).replace(' ', '', 1)\n",
    "    yscale = lines[-1][2:-1].replace(',', ' ', 1).replace(' ', '', 1)\n",
    "\n",
    "    new.append(f'X {xscale}; {yscale}; {dscale}'.replace('\"\",', '\"\", '))\n",
    "\n",
    "    with open('test_fixed.itx', 'w') as f:\n",
    "        f.writelines(new)"
   ]
  },
  {
   "cell_type": "code",
   "execution_count": null,
   "id": "ff899fb0-8c43-4e3e-9a69-950ff5c40574",
   "metadata": {},
   "outputs": [],
   "source": [
    "# in loading_functions.py\n",
    "\n",
    "def load_denoised_data(file_path: str, filename: str):\n",
    "    data_path = os.path.join(file_path, filename)\n",
    "    df = pd.read_csv(data_path, skiprows=3, header=None, sep='\\s+', skipfooter=2)\n",
    "    data = np.array(df).T\n",
    "    with open(data_path, 'r') as f:\n",
    "        lines = f.readlines()\n",
    "    last = lines[-1]\n",
    "\n",
    "    x_start, x_step = [float(v) for v in re.search('x\\s*(-?\\d*.\\d+),\\s*(-?\\d+.\\d+)', last).groups()]\n",
    "    y_start, y_step = [float(v) for v in re.search('y\\s*(-?\\d*.\\d+),\\s*(-?\\d+.\\d+)', last).groups()]\n",
    "\n",
    "    x = np.linspace(x_start, x_start+data.shape[1]*x_step, data.shape[1])\n",
    "    y = np.linspace(y_start, y_start+data.shape[0]*y_step, data.shape[0])\n",
    "    return x, y, data    "
   ]
  },
  {
   "cell_type": "code",
   "execution_count": null,
   "id": "59fabcd9-49a6-4759-ab1d-397a3dc281e0",
   "metadata": {},
   "outputs": [],
   "source": [
    "# in fitting_functions.py\n",
    "\n",
    "def fit_partial_cone(x, y, data, xlim, ylim, centers=[0.25, 0.4], num_peaks=2, window=0.02, steps=20, offset_type='quadratic', plot=True):\n",
    "    \n",
    "    x_fit, y_fit, d_fit = analysis_functions.limit_dataset(x, y, data, xlim=(xlim[0], xlim[1]), ylim=(ylim[0], ylim[1]))\n",
    "\n",
    "    # fit top of cone\n",
    "    if num_peaks == 1:\n",
    "        fits = []\n",
    "        coords = []\n",
    "\n",
    "        for yval in np.linspace(ylim[0], ylim[1], steps):\n",
    "            row = analysis_functions.get_averaged_slice(analysis_functions.get_horizontal_slice(d_fit, y_fit, yval, window), axis='y')\n",
    "\n",
    "            fit = fitting_functions.fit_lorentzian_data(x=x_fit, data=row,\n",
    "                                         num_peaks=num_peaks, amplitudes=0.5, centers=[centers[0]], sigmas=0.05,\n",
    "                                         offset_type=offset_type)\n",
    "            fits.append(fit)\n",
    "            coords.extend([(fit.best_values[f'i{i}_center'], yval) for i in range(num_peaks)])\n",
    "        return coords\n",
    "        \n",
    "    if num_peaks == 2:\n",
    "        fits1 = []\n",
    "        coords1 = []\n",
    "\n",
    "        for yval in np.linspace(ylim[0], ylim[1], steps):\n",
    "\n",
    "            row = analysis_functions.get_averaged_slice(analysis_functions.get_horizontal_slice(d_fit, y_fit, yval, window), axis='y')\n",
    "            fit1 = fitting_functions.fit_lorentzian_data(x=x_fit, data=row,\n",
    "                                         num_peaks=num_peaks, amplitudes=0.5, centers=[centers[0], centers[1]], sigmas=0.05,\n",
    "                                         offset_type=offset_type)\n",
    "            fits1.append(fit1)\n",
    "            coords1.extend([(fit1.best_values[f'i{i}_center'], yval) for i in range(num_peaks)])\n",
    "        return coords1\n",
    "    \n",
    "    else:\n",
    "        return ValueError(f'num_peaks is {num_peaks}; must be 1 or 2')"
   ]
  },
  {
   "cell_type": "code",
   "execution_count": null,
   "id": "8bb0814e-ce23-4c53-bbb7-a9d364f75732",
   "metadata": {},
   "outputs": [],
   "source": [
    "# in fitting_functions.py\n",
    "\n",
    "def compile_peaks(coords_top, coords_middle, coords_bottom):\n",
    "    x_line1, y_line1 = np.array([c[0] for c in coords_top]), np.array([c[1] for c in coords_top])\n",
    "    \n",
    "    x_line2 = np.append(x_line1, np.array([c[0] for c in coords_middle]), axis=0)\n",
    "    x_line_all = np.append(x_line2, np.array([c[0] for c in coords_bottom]), axis=0)\n",
    "\n",
    "    y_line2 = np.append(y_line1, np.array([c[1] for c in coords_middle]), axis=0)\n",
    "    y_line_all = np.append(y_line2, np.array([c[1] for c in coords_bottom]), axis=0)\n",
    "    \n",
    "    return x_line_all, y_line_all"
   ]
  },
  {
   "cell_type": "code",
   "execution_count": null,
   "id": "7c03409f-4c19-4fed-bf68-a4f769732f80",
   "metadata": {},
   "outputs": [],
   "source": [
    "# in analysis_functions.py\n",
    "\n",
    "def fit_cone_lines(x_line, y_line, cone_center=None):\n",
    "    \n",
    "    if cone_center is None:\n",
    "        cone_center = np.mean(x_line)\n",
    "    # Fits all data points (RIGHT SIDE OF CONE)\n",
    "    fit_line1 = fitting_functions.fit_linear_data(x=x_line[np.where(x_line > cone_center)],\n",
    "                              data=y_line[np.where(x_line > cone_center)],\n",
    "                              num=1,\n",
    "                              aes=1, bes=1,\n",
    "                              offset_type=None)\n",
    "\n",
    "    # Fits all data points (LEFT SIDE OF CONE)\n",
    "    fit_line2 = fitting_functions.fit_linear_data(x=x_line[np.where(x_line < cone_center)],\n",
    "                              data=y_line[np.where((x_line < cone_center))],\n",
    "                              num=1,\n",
    "                              aes=1, bes=1,\n",
    "                              offset_type=None)\n",
    "   \n",
    "    return fit_line1, fit_line2"
   ]
  },
  {
   "cell_type": "code",
   "execution_count": null,
   "id": "ad46d11a-94dc-4de1-8d8c-3dcc30996d00",
   "metadata": {},
   "outputs": [],
   "source": [
    "# in misc_functions.py\n",
    "\n",
    "def limit_coords(x_coords, y_coords, xlim, ylim=None):\n",
    "    x_subset=x_line[np.where(np.logical_and(x_coords > xlim[0], x_coords < xlim[1]))]\n",
    "    y_subset=y_line[np.where(np.logical_and(x_coords > xlim[0], x_coords < xlim[1]))]\n",
    "    if ylim:\n",
    "        x_subset=x_subset[np.where(np.logical_and(y_coords > ylim[0], y_coords < ylim[1]))]\n",
    "        y_subset=y_subset[np.where(np.logical_and(y_coords > ylim[0], y_coords < ylim[1]))]\n",
    "    return x_subset, y_subset"
   ]
  },
  {
   "cell_type": "markdown",
   "id": "9f8ebfd9-9d29-4e5e-a982-d9ec8501ebd1",
   "metadata": {},
   "source": [
    "# XUV Diffraction Data"
   ]
  },
  {
   "cell_type": "code",
   "execution_count": null,
   "id": "1ca2607c-057e-412e-a35d-b573f821b427",
   "metadata": {},
   "outputs": [],
   "source": [
    "fp= r'E:\\atully\\k-corrected data\\Apr_2021\\XUV_FS_gamma0'\n",
    "fn = r'XUV_FS_gamma0_gkw11_filteredFFT_0.00int.h5'\n",
    "data, theta, phi, energy = HDF5_loader.load_hdf5(fp, fn)  # load data from hdf5"
   ]
  },
  {
   "cell_type": "code",
   "execution_count": null,
   "id": "adf365fe-1d6b-4725-997f-8e6a497fe48b",
   "metadata": {},
   "outputs": [],
   "source": [
    "# Get Raw Dataslice\n",
    "\n",
    "# set slice parameters\n",
    "slice_dim='y'\n",
    "int_range=0.2\n",
    "slice_val=18.3\n",
    "# slice_val=18.1\n",
    "# slice_val=17.9\n",
    "\n",
    "# analysis -- get slice, FFT, limit dataset, normalize dataset\n",
    "xaxis, yaxis, dataslice = analysis_functions.get_2Dslice(x=theta, y=energy, z=phi, data=data, slice_dim=slice_dim, slice_val=slice_val, int_range=int_range)\n",
    "x, y, d = analysis_functions.limit_dataset(x=xaxis, y=yaxis, data=dataslice, xlim=(-0.73, 0.52), ylim=(-1.4, 0.1))\n",
    "d = analysis_functions.norm_data(d)\n",
    "\n",
    "# plot slice\n",
    "fig, ax = plotting_functions.plot_2D_mpl(x=x, y=y, data=d, xlabel='kx', ylabel='ky', title=f'Ek={slice_val}', cmap='Blues')\n",
    "\n",
    "plotting_functions.format_FS_plot(fig, ax, slice_val=slice_val, EF=18.3)\n",
    "\n",
    "# plt.savefig(r'C:\\Users\\XXX.png')"
   ]
  },
  {
   "cell_type": "code",
   "execution_count": null,
   "id": "ac89dfa1-7c9b-477a-af4e-45bf399bc13a",
   "metadata": {},
   "outputs": [],
   "source": [
    "# Denoised Data\n",
    "fp_dn = r'C:\\Users\\atully\\OneDrive\\Physics.UBC\\DAE\\XUV diffraction data\\FS'\n",
    "fn_dn = 'XUV_FS_EF_dn.itx'\n",
    "\n",
    "title = re.search('FS_(.*?)\\_', fn_dn).group()\n",
    "title = title[3:-1]\n",
    "\n",
    "x, y, data_dn = load_denoised_data(fp_dn, fn_dn)\n",
    "\n",
    "d = analysis_functions.norm_data(data_dn)\n",
    "\n",
    "# plot slice\n",
    "fig, ax = plotting_functions.plot_2D_mpl(x=x, y=y, data=d, xlabel='kx', ylabel='ky', cmap='Blues')\n",
    "\n",
    "plotting_functions.format_FS_plot(fig, ax, EF=18.3, title=title)"
   ]
  },
  {
   "cell_type": "markdown",
   "id": "973615cb-5c74-4d22-a655-accf61ce69a1",
   "metadata": {
    "tags": []
   },
   "source": [
    "# Fitting XUV ky=-0.36 Cones"
   ]
  },
  {
   "cell_type": "markdown",
   "id": "2153bcf9-9ea7-4496-a34c-532827cc1bc8",
   "metadata": {},
   "source": [
    "## Fitting Denoised ky=-0.36 Data"
   ]
  },
  {
   "cell_type": "code",
   "execution_count": null,
   "id": "b12e8f99-f5bc-461e-abc7-d58cbeeffe6a",
   "metadata": {},
   "outputs": [],
   "source": [
    "# Denoised Data\n",
    "fp_dn = r'C:\\Users\\atully\\OneDrive\\Physics.UBC\\DAE\\XUV diffraction data\\xuv_ky=-0.36'\n",
    "fn_dn = 'xuv_ky=-0.36_dn.itx'\n",
    "\n",
    "title = 'ky=-0.36'\n",
    "\n",
    "x_dn, y_dn, data_dn = load_denoised_data(fp_dn, fn_dn)\n",
    "\n",
    "d_dn = analysis_functions.norm_data(data_dn)\n",
    "\n",
    "# plot slice\n",
    "fig, ax = plotting_functions.plot_2D_mpl(x=x_dn, y=y_dn, data=d_dn, xlabel='kx', ylabel='ky', cmap='Blues', EF=18.3)\n",
    "\n",
    "# plotting_functions.format_FS_plot(fig, ax, EF=18.3, title=title)\n",
    "plotting_functions.format_HS_plot(fig, ax, slice_val=slice_val, EF=18.3, slice_constant='ky', title=title)"
   ]
  },
  {
   "cell_type": "code",
   "execution_count": null,
   "id": "feea373f-7794-461e-aa27-b3c2f689e2f8",
   "metadata": {},
   "outputs": [],
   "source": [
    "xfit, yfit, datafit = x_dn, y_dn, data_dn\n",
    "\n",
    "coords_top = fit_partial_cone(xfit, yfit, datafit, xlim=(-0.4, 0.0), ylim=(18.1, 18.2), centers=[-0.2], num_peaks=1, window=0.05)  # top of left cone\n",
    "coords_bottom = fit_partial_cone(xfit, yfit, datafit, xlim=(-0.38, 0.0), ylim=(17.6, 17.7), centers=[-0.25, -0.1], num_peaks=2, window=0.02)  # bottom of left  cone\n",
    "coords_middle = fit_partial_cone(xfit, yfit, datafit, xlim=(-0.3, -0.07), ylim=(17.7, 17.8), centers=[-0.25, -0.1], num_peaks=2, window=0.02)  # middle of left  cone\n",
    "\n",
    "x_line, y_line = compile_peaks(coords_top, coords_middle, coords_bottom)  # compile coords of all peaks \n",
    "fit1, fit2 = fit_cone_lines(x_line, y_line)  # linear fits"
   ]
  },
  {
   "cell_type": "code",
   "execution_count": null,
   "id": "0e748ca7-0d07-4020-b7de-83bc0ec7c060",
   "metadata": {
    "tags": []
   },
   "outputs": [],
   "source": [
    "from IPython.display import display\n",
    "\n",
    "display(fit1)"
   ]
  },
  {
   "cell_type": "code",
   "execution_count": null,
   "id": "4e580c02-af35-4e46-83f0-7dce86f0a4d5",
   "metadata": {},
   "outputs": [],
   "source": [
    "EF = 18.3\n",
    "\n",
    "fig, ax = plotting_functions.plot_2D_mpl(x=x_dn, y=y_dn, data=d_dn, xlabel='kx', ylabel='ky', cmap='Blues', EF=EF)\n",
    "ax.scatter(x=[c[0] for c in coords_bottom], y=[c[1]-EF for c in coords_bottom], color='xkcd:hot pink')\n",
    "ax.scatter(x=[c[0] for c in coords_middle], y=[c[1]-EF for c in coords_middle], color='xkcd:dark green')\n",
    "ax.scatter(x=[c[0] for c in coords_top], y=[c[1]-EF for c in coords_top], color='xkcd:bright purple')\n",
    "\n",
    "plt.plot(x, fit1.eval(x=x)-EF, color='xkcd:turquoise', linestyle='--', linewidth=3)\n",
    "plt.plot(x, fit2.eval(x=x)-EF, color='xkcd:turquoise', linestyle='--', linewidth=3)\n",
    "\n",
    "ax.set_xlim(-0.38, 0.0)\n",
    "ax.set_ylim(-0.75, 0.1)\n",
    "plotting_functions.format_HS_plot(fig, ax, slice_val=slice_val, EF=EF, slice_constant='ky')"
   ]
  },
  {
   "cell_type": "code",
   "execution_count": null,
   "id": "b049831b-ce34-4c91-928f-26946270021a",
   "metadata": {},
   "outputs": [],
   "source": [
    "# Get Raw Dataslice\n",
    "\n",
    "# set slice parameters\n",
    "slice_dim='z'\n",
    "int_range=0.1\n",
    "slice_val=-0.36\n",
    "\n",
    "# analysis -- get slice of FFT_filtered dataset, limit dataset, normalize dataset\n",
    "xaxis, yaxis, dataslice = analysis_functions.get_2Dslice(x=theta, y=energy, z=phi, data=data, slice_dim=slice_dim, slice_val=slice_val, int_range=int_range)\n",
    "x, y, d = analysis_functions.limit_dataset(xaxis, yaxis, dataslice, xlim=(-0.5, 0.5), ylim=(17.55, 18.4))\n",
    "normed_data = analysis_functions.norm_data(d)\n",
    "\n",
    "# plot slice\n",
    "fig, ax = plotting_functions.plot_2D_mpl(x=x, y=y, data=normed_data, xlabel='kx', ylabel='E - EF (eV)', title=f'ky={slice_val}', cmap='Blues', EF=18.3)\n",
    "\n",
    "plotting_functions.format_HS_plot(fig, ax, slice_val=slice_val, EF=18.3, slice_constant='ky')\n",
    "\n",
    "plt.plot(x, fit1.eval(x=x)-EF, color='xkcd:turquoise', linestyle='--', linewidth=3)\n",
    "plt.plot(x, fit2.eval(x=x)-EF, color='xkcd:turquoise', linestyle='--', linewidth=3)\n",
    "\n",
    "ax.set_xlim(-0.38, 0.0)\n",
    "ax.set_ylim(-0.75, 0.1)\n",
    "plotting_functions.format_HS_plot(fig, ax, slice_val=slice_val, EF=18.3, slice_constant='ky')"
   ]
  },
  {
   "cell_type": "markdown",
   "id": "1e00cdf3-fed1-4a4d-a2ad-791047746ca7",
   "metadata": {
    "tags": []
   },
   "source": [
    "## Fitting Raw ky=-0.36 Data"
   ]
  },
  {
   "cell_type": "code",
   "execution_count": null,
   "id": "beda0d0e-a05a-4566-9795-895b37c28b9c",
   "metadata": {},
   "outputs": [],
   "source": [
    "# Get Raw Dataslice\n",
    "\n",
    "# set slice parameters\n",
    "slice_dim='z'\n",
    "int_range=0.1\n",
    "slice_val=-0.36\n",
    "\n",
    "# analysis -- get slice of FFT_filtered dataset, limit dataset, normalize dataset\n",
    "xaxis, yaxis, dataslice = analysis_functions.get_2Dslice(x=theta, y=energy, z=phi, data=data, slice_dim=slice_dim, slice_val=slice_val, int_range=int_range)\n",
    "x, y, d = analysis_functions.limit_dataset(xaxis, yaxis, dataslice, xlim=(-0.5, 0.5), ylim=(17.55, 18.4))\n",
    "# x, y, d = limit_dataset(xaxis, yaxis, dataslice, xlim=(-0.4, 0.4), ylim=(17.55, 18.4))\n",
    "normed_data = analysis_functions.norm_data(d)\n",
    "\n",
    "# plot slice\n",
    "# fig, ax = plotting_functions.plot_2D_mpl(x=xaxis, y=yaxis, data=dataslice, xlabel='kx', ylabel='E - EF (eV)', title=f'ky={slice_val}', cmap='Blues', EF=18.3)\n",
    "fig, ax = plotting_functions.plot_2D_mpl(x=x, y=y, data=normed_data, xlabel='kx', ylabel='E - EF (eV)', title=f'ky={slice_val}', cmap='Blues', EF=18.3)\n",
    "\n",
    "plotting_functions.format_HS_plot(fig, ax, slice_val=slice_val, EF=18.3, slice_constant='ky')"
   ]
  },
  {
   "cell_type": "code",
   "execution_count": null,
   "id": "672bf8b8-aeee-4d86-832d-5094d4f197d6",
   "metadata": {},
   "outputs": [],
   "source": [
    "xfit, yfit, datafit = x, y, normed_data\n",
    "\n",
    "# Same Fit Parameters As Above (for DN Data)\n",
    "coords_top = fit_partial_cone(xfit, yfit, datafit, xlim=(-0.4, 0.0), ylim=(18.1, 18.2), centers=[-0.2], num_peaks=1, window=0.05)  # top of left cone\n",
    "coords_bottom = fit_partial_cone(xfit, yfit, datafit, xlim=(-0.38, 0.0), ylim=(17.6, 17.7), centers=[-0.25, -0.1], num_peaks=2, window=0.02)  # bottom of left  cone\n",
    "coords_middle = fit_partial_cone(xfit, yfit, datafit, xlim=(-0.3, -0.07), ylim=(17.7, 17.8), centers=[-0.25, -0.1], num_peaks=2, window=0.02)  # middle of left  cone\n",
    "\n",
    "x_line, y_line = compile_peaks(coords_top, coords_middle, coords_bottom)  # compile coords of all peaks \n",
    "fit3, fit4 = fit_cone_lines(x_line, y_line, cone_center=-0.185)  # linear fits\n",
    "# fit3, fit4 = fit_cone_lines(x_line, y_line)  # linear fits"
   ]
  },
  {
   "cell_type": "code",
   "execution_count": null,
   "id": "a972ee02-9b08-4e4b-810a-bfbfcde89ef6",
   "metadata": {},
   "outputs": [],
   "source": [
    "np.mean(x_line)"
   ]
  },
  {
   "cell_type": "code",
   "execution_count": null,
   "id": "5161b786-035a-4931-99f2-72c5fc163b25",
   "metadata": {},
   "outputs": [],
   "source": [
    "EF = 18.3\n",
    "\n",
    "fig, ax = plotting_functions.plot_2D_mpl(x=x, y=y, data=normed_data, xlabel='kx', ylabel='ky', cmap='Blues', EF=EF)\n",
    "ax.scatter(x=[c[0] for c in coords_bottom], y=[c[1]-EF for c in coords_bottom], color='xkcd:hot pink')\n",
    "ax.scatter(x=[c[0] for c in coords_middle], y=[c[1]-EF for c in coords_middle], color='xkcd:dark green')\n",
    "ax.scatter(x=[c[0] for c in coords_top], y=[c[1]-EF for c in coords_top], color='xkcd:bright purple')\n",
    "\n",
    "ax.axvline(x=np.mean(x_line), color='xkcd:bright blue', linestyle='--')  # shows mean of x coords\n",
    "\n",
    "plt.plot(x, fit3.eval(x=x)-EF, color='xkcd:purple', linestyle='--', linewidth=3)\n",
    "plt.plot(x, fit4.eval(x=x)-EF, color='xkcd:purple', linestyle='--', linewidth=3)\n",
    "\n",
    "ax.set_xlim(-0.38, 0.0)\n",
    "ax.set_ylim(-0.75, 0.1)\n",
    "plotting_functions.format_HS_plot(fig, ax, slice_val=slice_val, EF=EF, slice_constant='ky')"
   ]
  },
  {
   "cell_type": "code",
   "execution_count": null,
   "id": "d63617d9-e761-4257-82e6-8f5e82128902",
   "metadata": {},
   "outputs": [],
   "source": [
    "# Denoised Data with Raw Data Fit on Top\n",
    "EF = 18.3\n",
    "\n",
    "fig, ax = plotting_functions.plot_2D_mpl(x=x_dn, y=y_dn, data=d_dn, xlabel='kx', ylabel='ky', cmap='Blues', EF=EF)\n",
    "\n",
    "plt.plot(x, fit3.eval(x=x)-EF, color='xkcd:purple', linestyle='--', linewidth=3)\n",
    "plt.plot(x, fit4.eval(x=x)-EF, color='xkcd:purple', linestyle='--', linewidth=3)\n",
    "\n",
    "ax.set_xlim(-0.38, 0.0)\n",
    "ax.set_ylim(-0.75, 0.1)\n",
    "plotting_functions.format_HS_plot(fig, ax, slice_val=slice_val, EF=EF, slice_constant='ky')"
   ]
  },
  {
   "cell_type": "code",
   "execution_count": null,
   "id": "c4c22af1-0d5e-4dfd-b241-dfd0f7bd1313",
   "metadata": {},
   "outputs": [],
   "source": [
    "# More Stringent Fitting Requirements\n",
    "\n",
    "# Fits all data points (RIGHT SIDE OF CONE)\n",
    "fit_line3 = fitting_functions.fit_linear_data(x=x_line[np.where(np.logical_and(x_line < 0, x_line > -0.2))],\n",
    "                          data=y_line[np.where((np.logical_and(x_line < 0, x_line > -0.2)))],\n",
    "                          num=1,\n",
    "                          aes=1, bes=1,\n",
    "                          offset_type=None)\n",
    "\n",
    "# Fits all data points (LEFT SIDE OF CONE)\n",
    "fit_line4 = fitting_functions.fit_linear_data(x=x_line[np.where(np.logical_and(x_line < -0.171, x_line > -0.3))],\n",
    "                          data=y_line[np.where(np.logical_and(x_line < -0.171, x_line > -0.3))],\n",
    "                          num=1,\n",
    "                          aes=1, bes=1,\n",
    "                          offset_type=None)"
   ]
  },
  {
   "cell_type": "code",
   "execution_count": null,
   "id": "a92010a4-de15-49fa-ac1b-49a7192eac11",
   "metadata": {},
   "outputs": [],
   "source": [
    "# Raw Data with Strict Fit\n",
    "\n",
    "fig, ax = plotting_functions.plot_2D_mpl(x=x, y=y, data=normed_data, xlabel='kx', ylabel='ky', cmap='Blues', EF=18.3)\n",
    "\n",
    "plt.plot(x, fit_line3.eval(x=x)-EF, color='xkcd:purple', linestyle='--', linewidth=3)\n",
    "plt.plot(x, fit_line4.eval(x=x)-EF, color='xkcd:purple', linestyle='--', linewidth=3)\n",
    "\n",
    "ax.set_xlim(-0.38, 0.0)\n",
    "ax.set_ylim(-0.75, 0.1)\n",
    "plotting_functions.format_HS_plot(fig, ax, slice_val=slice_val, EF=18.3, slice_constant='ky')"
   ]
  },
  {
   "cell_type": "code",
   "execution_count": null,
   "id": "04bda834-16b3-449f-b9fc-b07d79fe13ca",
   "metadata": {},
   "outputs": [],
   "source": [
    "# Denoised Data with Raw Data Fit on Top\n",
    "\n",
    "fig, ax = plotting_functions.plot_2D_mpl(x=x_dn, y=y_dn, data=d_dn, xlabel='kx', ylabel='ky', cmap='Blues', EF=18.3)\n",
    "\n",
    "plt.plot(x, fit_line3.eval(x=x)-EF, color='xkcd:purple', linestyle='--', linewidth=3)\n",
    "plt.plot(x, fit_line4.eval(x=x)-EF, color='xkcd:purple', linestyle='--', linewidth=3)\n",
    "\n",
    "ax.set_xlim(-0.38, 0.0)\n",
    "ax.set_ylim(-0.75, 0.1)\n",
    "plotting_functions.format_HS_plot(fig, ax, slice_val=slice_val, EF=18.3, slice_constant='ky')"
   ]
  },
  {
   "cell_type": "markdown",
   "id": "9d296933-1004-4327-b540-4808b76cb538",
   "metadata": {
    "tags": []
   },
   "source": [
    "## Explain Fitting Procedure"
   ]
  },
  {
   "cell_type": "code",
   "execution_count": null,
   "id": "44d7ed0b-97c0-4700-b8a9-6044bfb1f000",
   "metadata": {},
   "outputs": [],
   "source": [
    "# set slice parameters\n",
    "slice_dim='z'\n",
    "int_range=0.1\n",
    "slice_val=-0.36\n",
    "\n",
    "# analysis -- get slice of FFT_filtered dataset, limit dataset, normalize dataset\n",
    "xaxis, yaxis, dataslice = analysis_functions.get_2Dslice(x=theta, y=energy, z=phi, data=data, slice_dim=slice_dim, slice_val=slice_val, int_range=int_range)\n",
    "x, y, d = analysis_functions.limit_dataset(xaxis, yaxis, dataslice, xlim=(-0.5, 0.5), ylim=(17.55, 18.4))\n",
    "normed_data = analysis_functions.norm_data(d)\n",
    "\n",
    "fig, ax = plotting_functions.plot_2D_mpl(x=x, y=y, data=normed_data, xlabel='kx', ylabel='E - EF (eV)', title=f'ky={slice_val}', cmap='Blues', EF=18.3)\n",
    "\n",
    "ax.set_xlim(-0.4, 0.0)\n",
    "plotting_functions.format_HS_plot(fig, ax, slice_val=slice_val, EF=18.3, slice_constant='ky')\n",
    "\n",
    "# plt.savefig(r'C:\\Users\\atully\\OneDrive\\Physics.UBC\\DAE\\Figs\\fit_procedure_exp1.png')"
   ]
  },
  {
   "cell_type": "code",
   "execution_count": null,
   "id": "f6148386-bfb9-4c74-8347-05202ba31c80",
   "metadata": {},
   "outputs": [],
   "source": [
    "xfit, yfit, datafit = x, y, normed_data\n",
    "window = 0.02\n",
    "coords_top = fit_partial_cone(xfit, yfit, datafit, xlim=(-0.4, 0.0), ylim=(18.1, 18.2), centers=[-0.2], num_peaks=1, window=window)  # top of left cone"
   ]
  },
  {
   "cell_type": "code",
   "execution_count": null,
   "id": "384696b8-ef7f-4a6b-b868-448222c862f1",
   "metadata": {},
   "outputs": [],
   "source": [
    "EF = 18.3\n",
    "yval = 18.15\n",
    "\n",
    "fig, ax = plotting_functions.plot_2D_mpl(x=x, y=y, data=normed_data, xlabel='kx', ylabel='ky', cmap='Blues', EF=EF)\n",
    "\n",
    "ax.scatter(x=[c[0] for c in coords_top], y=[c[1]-EF for c in coords_top], color='xkcd:bright purple')\n",
    "\n",
    "ax.axhline(y=yval-EF, xmin=-1, xmax=1, linestyle='dashed', color='red', linewidth=2)\n",
    "ax.axhline(y=yval-EF+window, xmin=-1, xmax=1, linestyle='dotted', color='xkcd:bright green', linewidth=2)\n",
    "ax.axhline(y=yval-EF-window, xmin=-1, xmax=1, linestyle='dotted', color='xkcd:bright green', linewidth=2)\n",
    "\n",
    "plotting_functions.format_HS_plot(fig, ax, slice_val=slice_val, EF=EF, slice_constant='ky')\n",
    "ax.set_xlim(-0.4, 0.0)\n",
    "ax.set_ylim(-0.3, 0.1)\n",
    "\n",
    "# plt.savefig(r'C:\\Users\\atully\\OneDrive\\Physics.UBC\\DAE\\Figs\\fit_procedure_exp2.png')"
   ]
  },
  {
   "cell_type": "code",
   "execution_count": null,
   "id": "762582d0-c98e-4bff-97b3-908dc48d817b",
   "metadata": {},
   "outputs": [],
   "source": [
    "x_fit, y_fit, d_fit = analysis_functions.limit_dataset(x, y, normed_data, xlim=(-0.4, 0.0), ylim=(18.1, 18.2))\n",
    "\n",
    "row = analysis_functions.get_averaged_slice(analysis_functions.get_horizontal_slice(d_fit, y_fit, yval, window), axis='y')\n",
    "plt.scatter(x=x_fit, y=row)\n",
    "\n",
    "# plt.savefig(r'C:\\Users\\atully\\OneDrive\\Physics.UBC\\DAE\\Figs\\fit_procedure_exp3.png')"
   ]
  },
  {
   "cell_type": "code",
   "execution_count": null,
   "id": "8392b1f9-06c9-48b5-96da-eea38318eaed",
   "metadata": {},
   "outputs": [],
   "source": [
    "fit = fitting_functions.fit_lorentzian_data(x=x_fit, data=row,\n",
    "                             num_peaks=1, amplitudes=0.5, centers=[-0.02], sigmas=0.5,\n",
    "                             offset_type='quadratic')\n",
    "# print(fit.fit_report())\n",
    "\n",
    "fig, ax = plt.subplots(1)\n",
    "ax.plot(x_fit, row, label='data for fit')\n",
    "ax.scatter(x=x_fit, y=fit.eval(x=x_fit))\n",
    "\n",
    "# plt.savefig(r'C:\\Users\\atully\\OneDrive\\Physics.UBC\\DAE\\Figs\\fit_procedure_exp4.png')"
   ]
  },
  {
   "cell_type": "code",
   "execution_count": null,
   "id": "c0f7e712-aaab-4cb0-a9a3-fbb1bcdc6ce9",
   "metadata": {},
   "outputs": [],
   "source": [
    "peak = (fit.best_values[f'i0_center'], yval)\n",
    "peak"
   ]
  },
  {
   "cell_type": "code",
   "execution_count": null,
   "id": "2e1fff46-0be7-4eeb-969a-2a7f12fedf24",
   "metadata": {},
   "outputs": [],
   "source": [
    "fig, ax = plotting_functions.plot_2D_mpl(x=x, y=y, data=normed_data, xlabel='kx', ylabel='ky', cmap='Blues', EF=EF)\n",
    "\n",
    "ax.scatter(x=[c[0] for c in coords_top], y=[c[1]-EF for c in coords_top], color='xkcd:bright purple')\n",
    "\n",
    "ax.axhline(y=yval-EF, xmin=-1, xmax=1, linestyle='dashed', color='red', linewidth=2)\n",
    "ax.axhline(y=yval-EF+window, xmin=-1, xmax=1, linestyle='dotted', color='xkcd:bright green', linewidth=2)\n",
    "ax.axhline(y=yval-EF-window, xmin=-1, xmax=1, linestyle='dotted', color='xkcd:bright green', linewidth=2)\n",
    "\n",
    "ax.scatter(x=peak[0], y=peak[1]-EF, color='xkcd:bright blue')\n",
    "\n",
    "plotting_functions.format_HS_plot(fig, ax, slice_val=slice_val, EF=EF, slice_constant='ky')\n",
    "ax.set_xlim(-0.4, 0.0)\n",
    "ax.set_ylim(-0.3, 0.1)\n",
    "\n",
    "# plt.savefig(r'C:\\Users\\atully\\OneDrive\\Physics.UBC\\DAE\\Figs\\fit_procedure_exp5.png')"
   ]
  },
  {
   "cell_type": "markdown",
   "id": "d4306886-0b12-40c9-aa9b-4490c970c4b0",
   "metadata": {
    "tags": []
   },
   "source": [
    "# Fitting XUV ky=-0.72 Cones"
   ]
  },
  {
   "cell_type": "code",
   "execution_count": null,
   "id": "5ed9d527-8fd9-4ae3-a809-81885cf496f5",
   "metadata": {},
   "outputs": [],
   "source": [
    "# set slice parameters\n",
    "slice_dim='z'\n",
    "int_range=0.1\n",
    "slice_val=-0.72\n",
    "\n",
    "# analysis -- get slice of FFT_filtered dataset, limit dataset, normalize dataset\n",
    "xaxis, yaxis, dataslice = analysis_functions.get_2Dslice(x=theta, y=energy, z=phi, data=data, slice_dim=slice_dim, slice_val=slice_val, int_range=int_range)\n",
    "x, y, d = analysis_functions.limit_dataset(xaxis, yaxis, dataslice, xlim=(-0.5, 0.5), ylim=(17.55, 18.4))\n",
    "normed_data = analysis_functions.norm_data(d)\n",
    "\n",
    "# plot slice\n",
    "# fig, ax = plotting_functions.plot_2D_mpl(x=xaxis, y=yaxis, data=dataslice, xlabel='kx', ylabel='E - EF (eV)', title=f'ky={slice_val}', cmap='Blues', EF=18.3)\n",
    "fig, ax = plotting_functions.plot_2D_mpl(x=x, y=y, data=normed_data, xlabel='kx', ylabel='E - EF (eV)', title=f'ky={slice_val}', cmap='Blues', EF=18.3)\n",
    "\n",
    "plotting_functions.format_HS_plot(fig, ax, slice_val=slice_val, EF=18.3, slice_constant='ky')"
   ]
  },
  {
   "cell_type": "code",
   "execution_count": null,
   "id": "a96fdea1-d455-481e-9cd6-908306d8f771",
   "metadata": {},
   "outputs": [],
   "source": [
    "# Denoised Data\n",
    "fp_dn = r'C:\\Users\\atully\\OneDrive\\Physics.UBC\\DAE\\XUV diffraction data\\xuv_ky=-0.72'\n",
    "fn_dn = 'xuv_ky=-0.72_dn.itx'\n",
    "\n",
    "title = 'ky=-0.72'\n",
    "\n",
    "x_dn, y_dn, data_dn = load_denoised_data(fp_dn, fn_dn)\n",
    "\n",
    "d_dn = analysis_functions.norm_data(data_dn)\n",
    "\n",
    "# plot slice\n",
    "fig, ax = plotting_functions.plot_2D_mpl(x=x_dn, y=y_dn, data=d_dn, xlabel='kx', ylabel='ky', cmap='Blues', EF=18.3)\n",
    "\n",
    "plotting_functions.format_HS_plot(fig, ax, slice_val=slice_val, EF=18.3, slice_constant='ky', title=title)"
   ]
  },
  {
   "cell_type": "markdown",
   "id": "163cbf80-881c-4ac7-9d01-6f5109f924a8",
   "metadata": {},
   "source": [
    "# Lamp Diffraction Data"
   ]
  },
  {
   "cell_type": "code",
   "execution_count": null,
   "id": "b27dd6e3-854c-4be6-a2a9-ad2945566a77",
   "metadata": {},
   "outputs": [],
   "source": [
    "fp = r'E:\\atully\\k-corrected data\\Apr_2021\\phi_motor_scan_FermiEdge2'\n",
    "fn = r'phi_FermiEdge2kw_filteredFFT_0.00int.h5'\n",
    "data, theta, phi, energy = HDF5_loader.load_hdf5(fp, fn)  # load data from hdf5"
   ]
  },
  {
   "cell_type": "code",
   "execution_count": null,
   "id": "a292ada9-fab1-420e-93b6-7ad9232ce668",
   "metadata": {},
   "outputs": [],
   "source": [
    "# set slice parameters\n",
    "slice_dim='y'\n",
    "int_range=0.2\n",
    "slice_val=16.8\n",
    "\n",
    "# analysis -- get slice, FFT, limit dataset, normalize dataset\n",
    "xaxis, yaxis, dataslice = analysis_functions.get_2Dslice(x=theta, y=energy, z=phi, data=data, slice_dim=slice_dim, slice_val=slice_val, int_range=int_range)\n",
    "x, y, d = analysis_functions.limit_dataset(xaxis, yaxis, dataslice, xlim=(-0.65, 0.52), ylim=(-1.4, 0.1))\n",
    "normed_data = analysis_functions.norm_data(d)\n",
    "\n",
    "# plot slice\n",
    "fig, ax = plotting_functions.plot_2D_mpl(x=x, y=y, data=normed_data, xlabel='kx', ylabel='ky', title=f'Ek={slice_val}', cmap='Blues')\n",
    "\n",
    "plotting_functions.format_FS_plot(fig, ax, slice_val=slice_val, EF=16.8)"
   ]
  },
  {
   "cell_type": "code",
   "execution_count": null,
   "id": "f39099bc-84fa-4f3a-a0b5-43b63125c2fa",
   "metadata": {},
   "outputs": [],
   "source": [
    "# Denoised Data\n",
    "fp_dn = r'C:\\Users\\atully\\OneDrive\\Physics.UBC\\DAE\\Lamp diffraction data\\FS'\n",
    "fn_dn = 'Ek=16.8_dn.itx'\n",
    "\n",
    "title='EF'\n",
    "\n",
    "x, y, data_dn = load_denoised_data(fp_dn, fn_dn)\n",
    "\n",
    "d = analysis_functions.norm_data(data_dn)\n",
    "\n",
    "# plot slice\n",
    "fig, ax = plotting_functions.plot_2D_mpl(x=x, y=y, data=d, xlabel='kx', ylabel='ky', cmap='Blues')\n",
    "\n",
    "plotting_functions.format_FS_plot(fig, ax, EF=16.8, title=title)"
   ]
  },
  {
   "cell_type": "markdown",
   "id": "7013db85-2679-46d1-8c16-82f2cafe66d9",
   "metadata": {
    "tags": []
   },
   "source": [
    "# Fitting Lamp ky=-0.72 Cones"
   ]
  },
  {
   "cell_type": "markdown",
   "id": "2841ea6a-49ea-436b-94aa-c531b9d6f3d4",
   "metadata": {
    "tags": []
   },
   "source": [
    "## Fitting Raw ky=-0.72 Lamp Data"
   ]
  },
  {
   "cell_type": "code",
   "execution_count": null,
   "id": "d615fd2c-145a-4d54-be66-6255a2594b20",
   "metadata": {},
   "outputs": [],
   "source": [
    "# NOTE INT RANGE!\n",
    "\n",
    "# set slice parameters\n",
    "EF = 16.8\n",
    "slice_dim='z'\n",
    "int_range=0.05\n",
    "# slice_val=-0.71\n",
    "slice_val=-0.72\n",
    "\n",
    "# analysis -- get slice of FFT_filtered dataset, limit dataset, normalize dataset\n",
    "xaxis, yaxis, dataslice = analysis_functions.get_2Dslice(x=theta, y=energy, z=phi, data=data, slice_dim=slice_dim, slice_val=slice_val, int_range=int_range)\n",
    "# x, y, d = limit_dataset(xaxis, yaxis, dataslice, xlim=(-0.5, 0.5), ylim=(15.6, 16.8))\n",
    "x, y, d = analysis_functions.limit_dataset(xaxis, yaxis, dataslice, xlim=(-0.5, 0.5), ylim=(16.0, 16.8))\n",
    "normed_data = analysis_functions.norm_data(d)\n",
    "\n",
    "# plot slice\n",
    "fig, ax = plotting_functions.plot_2D_mpl(x=x, y=y, data=normed_data, xlabel='kx', ylabel='E - EF (eV)', title=f'ky={slice_val}', cmap='Blues', EF=EF)\n",
    "\n",
    "plotting_functions.format_HS_plot(fig, ax, slice_val=slice_val, EF=18.3, slice_constant='ky')\n",
    "\n",
    "# plt.savefig(r'C:\\Users\\atully\\OneDrive\\Physics.UBC\\PhD\\Dissertation\\Data\\Fitted Data\\lamp_ky=-0.72.png')  # int range 0.05 \n",
    "# plt.savefig(r'C:\\Users\\atully\\OneDrive\\Physics.UBC\\DAE\\Figs\\lamp_raw_ky=-0.72.png')  # int range 0.05 "
   ]
  },
  {
   "cell_type": "code",
   "execution_count": null,
   "id": "7156fd0d-d110-4185-b93a-33a551e73841",
   "metadata": {},
   "outputs": [],
   "source": [
    "# Fit Data\n",
    "\n",
    "xfit, yfit, datafit = x, y, normed_data\n",
    "\n",
    "coords_top = fit_partial_cone(xfit, yfit, datafit, xlim=(0.0, 0.5), ylim=(16.6, 16.7), centers=[0.35], num_peaks=1)  # top of right cone\n",
    "coords_bottom = fit_partial_cone(xfit, yfit, datafit, xlim=(0.25, 0.45), ylim=(16.1, 16.3), centers=[0.25, 0.4], num_peaks=2)  # bottom of right  cone\n",
    "coords_middle = fit_partial_cone(xfit, yfit, datafit, xlim=(0.25, 0.45), ylim=(16.3, 16.5), centers=[0.3, 0.4], num_peaks=2)  # middle of right  cone\n",
    "\n",
    "x_line, y_line = compile_peaks(coords_top, coords_middle, coords_bottom)  # compile coords of all peaks \n",
    "fit1, fit2 = fit_cone_lines(x_line, y_line)  # linear fits"
   ]
  },
  {
   "cell_type": "code",
   "execution_count": null,
   "id": "0111e07d-59a6-4b9f-a6ea-64d0d3f82fbd",
   "metadata": {},
   "outputs": [],
   "source": [
    "# Plot Data with Fit\n",
    "\n",
    "EF = 16.8\n",
    "\n",
    "fig, ax = plotting_functions.plot_2D_mpl(x=x, y=y, data=normed_data, xlabel='kx', ylabel='ky', cmap='Blues', EF=EF)\n",
    "ax.scatter(x=[c[0] for c in coords_bottom], y=[c[1]-EF for c in coords_bottom], color='xkcd:hot pink')\n",
    "ax.scatter(x=[c[0] for c in coords_middle], y=[c[1]-EF for c in coords_middle], color='xkcd:dark green')\n",
    "ax.scatter(x=[c[0] for c in coords_top], y=[c[1]-EF for c in coords_top], color='xkcd:bright purple')\n",
    "\n",
    "# ax.axvline(x=np.mean(x_line), color='xkcd:bright blue', linestyle='--')  # shows mean of x coords\n",
    "\n",
    "plt.plot(x, fit1.eval(x=x)-EF, color='xkcd:purple', linestyle='--', linewidth=3)\n",
    "plt.plot(x, fit2.eval(x=x)-EF, color='xkcd:purple', linestyle='--', linewidth=3)\n",
    "\n",
    "ax.set_xlim(0.0, 0.5)\n",
    "ax.set_ylim(-0.75, 0.0)\n",
    "plotting_functions.format_HS_plot(fig, ax, slice_val=slice_val, EF=EF, slice_constant='ky')\n",
    "\n",
    "# plt.savefig(r'C:\\Users\\atully\\OneDrive\\Physics.UBC\\DAE\\Figs\\lamp_raw_ky=-0.72_fit1.png')  # int range 0.05 "
   ]
  },
  {
   "cell_type": "code",
   "execution_count": null,
   "id": "e52341b1-39dd-4690-a11f-ddc223dacba3",
   "metadata": {},
   "outputs": [],
   "source": [
    "x_subset, y_subset = limit_coords(x_line, y_line, xlim=[0.28, 0.44])\n",
    "\n",
    "# Plot Data\n",
    "EF = 16.8\n",
    "\n",
    "fig, ax = plotting_functions.plot_2D_mpl(x=x, y=y, data=normed_data, xlabel='kx', ylabel='ky', cmap='Blues', EF=EF)\n",
    "\n",
    "# ax.axvline(x=np.mean(x_line), color='xkcd:bright blue', linestyle='--')  # shows mean of x coords\n",
    "ax.scatter(x=x_line, y=y_line-EF, color='xkcd:bright blue')\n",
    "ax.scatter(x=x_subset, y=y_subset-EF, color='xkcd:bright pink')\n",
    "\n",
    "ax.set_xlim(0.0, 0.5)\n",
    "ax.set_ylim(-0.75, 0.0)\n",
    "plotting_functions.format_HS_plot(fig, ax, slice_val=slice_val, EF=EF, slice_constant='ky')\n",
    "\n",
    "# plt.savefig(r'C:\\Users\\atully\\OneDrive\\Physics.UBC\\DAE\\Figs\\lamp_raw_ky=-0.72_fit2.png')  # int range 0.05 "
   ]
  },
  {
   "cell_type": "code",
   "execution_count": null,
   "id": "8e9957a5-6097-4d17-927f-f082a0aa204c",
   "metadata": {},
   "outputs": [],
   "source": [
    "# Fit Data\n",
    "fit3, fit4 = fit_cone_lines(x_subset, y_subset)  # linear fits"
   ]
  },
  {
   "cell_type": "code",
   "execution_count": null,
   "id": "c2bbcb01-c4a9-48d7-ac96-364414496150",
   "metadata": {},
   "outputs": [],
   "source": [
    "# Plot Data with Fit\n",
    "\n",
    "EF = 16.8\n",
    "\n",
    "fig, ax = plotting_functions.plot_2D_mpl(x=x, y=y, data=normed_data, xlabel='kx', ylabel='ky', cmap='Blues', EF=EF)\n",
    "\n",
    "ax.scatter(x=x_subset, y=y_subset-EF, color='xkcd:bright pink')\n",
    "\n",
    "# ax.axvline(x=np.mean(x_line), color='xkcd:bright blue', linestyle='--')  # shows mean of x coords\n",
    "\n",
    "plt.plot(x, fit3.eval(x=x)-EF, color='xkcd:purple', linestyle='--', linewidth=3)\n",
    "plt.plot(x, fit4.eval(x=x)-EF, color='xkcd:purple', linestyle='--', linewidth=3)\n",
    "\n",
    "ax.set_xlim(0.0, 0.5)\n",
    "ax.set_ylim(-0.75, 0.0)\n",
    "plotting_functions.format_HS_plot(fig, ax, slice_val=slice_val, EF=EF, slice_constant='ky')\n",
    "\n",
    "# plt.savefig(r'C:\\Users\\atully\\OneDrive\\Physics.UBC\\DAE\\Figs\\lamp_raw_ky=-0.72_fit3.png')  # int range 0.05 "
   ]
  },
  {
   "cell_type": "markdown",
   "id": "d77a1add-88ef-4670-bb2f-09162f70aabc",
   "metadata": {
    "tags": []
   },
   "source": [
    "## Fitting Denoised ky=-0.72 Lamp Data"
   ]
  },
  {
   "cell_type": "code",
   "execution_count": null,
   "id": "c2fbfaca-4864-4998-a284-8df81934bff8",
   "metadata": {},
   "outputs": [],
   "source": [
    "# Denoised Data\n",
    "fp_dn = r'C:\\Users\\atully\\OneDrive\\Physics.UBC\\DAE\\Lamp diffraction data\\ky=-0.72'\n",
    "fn_dn = 'ky=-0.72_dn.itx'\n",
    "\n",
    "title = 'ky=-0.72'\n",
    "\n",
    "x_dn, y_dn, data_dn = load_denoised_data(fp_dn, fn_dn)\n",
    "\n",
    "d_dn = analysis_functions.norm_data(data_dn)\n",
    "\n",
    "# plot slice\n",
    "fig, ax = plotting_functions.plot_2D_mpl(x=x_dn, y=y_dn, data=d_dn, xlabel='kx', ylabel='ky', cmap='Blues', EF=16.8)\n",
    "\n",
    "# plotting_functions.format_FS_plot(fig, ax, EF=18.3, title=title)\n",
    "plotting_functions.format_HS_plot(fig, ax, slice_val=slice_val, EF=16.8, slice_constant='ky', title=title)\n",
    "\n",
    "# plt.savefig(r'C:\\Users\\atully\\OneDrive\\Physics.UBC\\PhD\\Dissertation\\Data\\Fitted Data\\lamp_ky=-0.72_dn.png')\n",
    "# plt.savefig(r'C:\\Users\\atully\\OneDrive\\Physics.UBC\\DAE\\Figs\\lamp_dn_ky=-0.72.png')"
   ]
  },
  {
   "cell_type": "code",
   "execution_count": null,
   "id": "80349d78-d591-4696-a66e-18b6d64f3aa9",
   "metadata": {},
   "outputs": [],
   "source": [
    "xfit, yfit, datafit = x_dn, y_dn, d_dn\n",
    "\n",
    "coords_top = fit_partial_cone(xfit, yfit, datafit, xlim=(0.0, 0.5), ylim=(16.6, 16.7), centers=[0.35], num_peaks=1)  # top of right cone\n",
    "coords_bottom = fit_partial_cone(xfit, yfit, datafit, xlim=(0.25, 0.45), ylim=(16.1, 16.3), centers=[0.25, 0.4], num_peaks=2)  # bottom of right  cone\n",
    "coords_middle = fit_partial_cone(xfit, yfit, datafit, xlim=(0.25, 0.45), ylim=(16.3, 16.5), centers=[0.3, 0.4], num_peaks=2)  # middle of right  cone\n",
    "\n",
    "x_line, y_line = compile_peaks(coords_top, coords_middle, coords_bottom)  # compile coords of all peaks \n",
    "fit1_dn, fit2_dn = fit_cone_lines(x_line, y_line)  # linear fits"
   ]
  },
  {
   "cell_type": "code",
   "execution_count": null,
   "id": "4fd30239-8183-4368-bcaf-99b6caa872f1",
   "metadata": {},
   "outputs": [],
   "source": [
    "fig, ax = plotting_functions.plot_2D_mpl(x=x_dn, y=y_dn, data=d_dn, xlabel='kx', ylabel='ky', cmap='Blues', EF=16.8)\n",
    "ax.scatter(x=[c[0] for c in coords_bottom], y=[c[1]-EF for c in coords_bottom], color='xkcd:hot pink')\n",
    "ax.scatter(x=[c[0] for c in coords_middle], y=[c[1]-EF for c in coords_middle], color='xkcd:dark green')\n",
    "ax.scatter(x=[c[0] for c in coords_top], y=[c[1]-EF for c in coords_top], color='xkcd:bright purple')\n",
    "\n",
    "plt.plot(x, fit1_dn.eval(x=x)-EF, color='xkcd:turquoise', linestyle='--', linewidth=3)\n",
    "plt.plot(x, fit2_dn.eval(x=x)-EF, color='xkcd:turquoise', linestyle='--', linewidth=3)\n",
    "\n",
    "ax.set_xlim(0.0, 0.5)\n",
    "ax.set_ylim(-0.75, 0.0)\n",
    "plotting_functions.format_HS_plot(fig, ax, slice_val=slice_val, EF=16.8, slice_constant='ky')\n",
    "\n",
    "# plt.savefig(r'C:\\Users\\atully\\OneDrive\\Physics.UBC\\DAE\\Figs\\lamp_dn_ky=-0.72_fit1.png')  # int range 0.05 "
   ]
  },
  {
   "cell_type": "code",
   "execution_count": null,
   "id": "c5463908-aede-4831-9ba8-2d0a6c086088",
   "metadata": {},
   "outputs": [],
   "source": [
    "x_subset, y_subset = limit_coords(x_line, y_line, xlim=[0.28, 0.44])\n",
    "\n",
    "# Fit Data\n",
    "fit3_dn, fit4_dn = fit_cone_lines(x_subset, y_subset)  # linear fits"
   ]
  },
  {
   "cell_type": "code",
   "execution_count": null,
   "id": "fd6e18fc-1132-4923-b2bf-98511c8af1d2",
   "metadata": {},
   "outputs": [],
   "source": [
    "# Plot Data with Fit\n",
    "\n",
    "EF = 16.8\n",
    "\n",
    "fig, ax = plotting_functions.plot_2D_mpl(x=x_dn, y=y_dn, data=d_dn, xlabel='kx', ylabel='ky', cmap='Blues', EF=EF)\n",
    "\n",
    "ax.scatter(x=x_subset, y=y_subset-EF, color='xkcd:bright pink')\n",
    "\n",
    "# ax.axvline(x=np.mean(x_line), color='xkcd:bright blue', linestyle='--')  # shows mean of x coords\n",
    "\n",
    "plt.plot(x, fit3_dn.eval(x=x)-EF, color='xkcd:turquoise', linestyle='--', linewidth=3)\n",
    "plt.plot(x, fit4_dn.eval(x=x)-EF, color='xkcd:turquoise', linestyle='--', linewidth=3)\n",
    "\n",
    "ax.set_xlim(0.0, 0.5)\n",
    "ax.set_ylim(-0.75, 0.0)\n",
    "plotting_functions.format_HS_plot(fig, ax, slice_val=slice_val, EF=EF, slice_constant='ky')\n",
    "\n",
    "# plt.savefig(r'C:\\Users\\atully\\OneDrive\\Physics.UBC\\DAE\\Figs\\lamp_dn_ky=-0.72_fit2.png')  # int range 0.05 "
   ]
  },
  {
   "cell_type": "code",
   "execution_count": null,
   "id": "65956d78-96f9-4df9-958c-74e0123a590b",
   "metadata": {},
   "outputs": [],
   "source": [
    "# Plot DN Data with Fits\n",
    "\n",
    "EF = 16.8\n",
    "\n",
    "fig, ax = plotting_functions.plot_2D_mpl(x=x_dn, y=y_dn, data=d_dn, xlabel='kx', ylabel='ky', cmap='Blues', EF=EF)\n",
    "\n",
    "# Raw Data Fits\n",
    "plt.plot(x, fit1.eval(x=x)-EF, color='xkcd:purple', linestyle='--', linewidth=3)\n",
    "plt.plot(x, fit2.eval(x=x)-EF, color='xkcd:purple', linestyle='--', linewidth=3)\n",
    "\n",
    "# plt.plot(x, fit3.eval(x=x)-EF, color='xkcd:purple', linestyle='--', linewidth=3)\n",
    "# plt.plot(x, fit4.eval(x=x)-EF, color='xkcd:purple', linestyle='--', linewidth=3)\n",
    "\n",
    "# CNN Data Fits\n",
    "plt.plot(x, fit1_dn.eval(x=x)-EF, color='xkcd:turquoise', linestyle='--', linewidth=3)\n",
    "plt.plot(x, fit2_dn.eval(x=x)-EF, color='xkcd:turquoise', linestyle='--', linewidth=3)\n",
    "\n",
    "# plt.plot(x, fit3_dn.eval(x=x)-EF, color='xkcd:turquoise', linestyle='--', linewidth=3)\n",
    "# plt.plot(x, fit4_dn.eval(x=x)-EF, color='xkcd:turquoise', linestyle='--', linewidth=3)\n",
    "\n",
    "ax.set_xlim(0.0, 0.5)\n",
    "ax.set_ylim(-0.75, 0.0)\n",
    "plotting_functions.format_HS_plot(fig, ax, slice_val=slice_val, EF=EF, slice_constant='ky')\n",
    "\n",
    "# plt.savefig(r'C:\\Users\\atully\\OneDrive\\Physics.UBC\\DAE\\Figs\\lamp_dn_ky=-0.72_bothfits.png')"
   ]
  },
  {
   "cell_type": "code",
   "execution_count": null,
   "id": "43112e3b-5091-4561-965f-f603324fde95",
   "metadata": {},
   "outputs": [],
   "source": [
    "# Plot Raw Data with Fits\n",
    "\n",
    "EF = 16.8\n",
    "\n",
    "fig, ax = plotting_functions.plot_2D_mpl(x=x, y=y, data=normed_data, xlabel='kx', ylabel='E - EF (eV)', title=f'ky={slice_val}', cmap='Blues', EF=EF)\n",
    "\n",
    "# Raw Data Fits\n",
    "# plt.plot(x, fit1.eval(x=x)-EF, color='xkcd:purple', linestyle='--', linewidth=3)\n",
    "# plt.plot(x, fit2.eval(x=x)-EF, color='xkcd:purple', linestyle='--', linewidth=3)\n",
    "\n",
    "# plt.plot(x, fit3.eval(x=x)-EF, color='xkcd:purple', linestyle='--', linewidth=3)\n",
    "# plt.plot(x, fit4.eval(x=x)-EF, color='xkcd:purple', linestyle='--', linewidth=3)\n",
    "\n",
    "# CNN Data Fits\n",
    "# plt.plot(x, fit1_dn.eval(x=x)-EF, color='xkcd:turquoise', linestyle='--', linewidth=3)\n",
    "# plt.plot(x, fit2_dn.eval(x=x)-EF, color='xkcd:turquoise', linestyle='--', linewidth=3)\n",
    "\n",
    "plt.plot(x, fit3_dn.eval(x=x)-EF, color='xkcd:turquoise', linestyle='--', linewidth=3)\n",
    "plt.plot(x, fit4_dn.eval(x=x)-EF, color='xkcd:turquoise', linestyle='--', linewidth=3)\n",
    "\n",
    "ax.set_xlim(0.0, 0.5)\n",
    "ax.set_ylim(-0.75, 0.0)\n",
    "plotting_functions.format_HS_plot(fig, ax, slice_val=slice_val, EF=EF, slice_constant='ky')\n",
    "\n",
    "# plt.savefig(r'C:\\Users\\atully\\OneDrive\\Physics.UBC\\DAE\\Figs\\lamp_raw_ky=-0.72_w_dn_fit.png')"
   ]
  }
 ],
 "metadata": {
  "kernelspec": {
   "display_name": "Python 3 (ipykernel)",
   "language": "python",
   "name": "python3"
  },
  "language_info": {
   "codemirror_mode": {
    "name": "ipython",
    "version": 3
   },
   "file_extension": ".py",
   "mimetype": "text/x-python",
   "name": "python",
   "nbconvert_exporter": "python",
   "pygments_lexer": "ipython3",
   "version": "3.8.12"
  }
 },
 "nbformat": 4,
 "nbformat_minor": 5
}
